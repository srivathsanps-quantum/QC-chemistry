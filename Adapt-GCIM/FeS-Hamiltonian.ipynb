{
 "cells": [
  {
   "cell_type": "markdown",
   "metadata": {},
   "source": [
    "## SRJ - Building H using HF integrals"
   ]
  },
  {
   "cell_type": "code",
   "execution_count": 33,
   "metadata": {},
   "outputs": [
    {
     "name": "stdout",
     "output_type": "stream",
     "text": [
      "converged SCF energy = -1655.10155370991  <S^2> = 6.0386361  2S+1 = 5.0154306\n"
     ]
    },
    {
     "data": {
      "text/plain": [
       "np.float64(-1655.1015537099054)"
      ]
     },
     "execution_count": 33,
     "metadata": {},
     "output_type": "execute_result"
    }
   ],
   "source": [
    "import basis_set_exchange as bse\n",
    "\n",
    "basis_dict = bse.get_basis('ANO-RCC-MB', elements=['Fe', 'S'], fmt='nwchem')\n",
    "\n",
    "import numpy as np\n",
    "from pyscf import gto, scf, mcscf\n",
    "from pyscf import gto, ao2mo, scf\n",
    "import pennylane as qml\n",
    "\n",
    "# Your original setup (unchanged)\n",
    "mol_pyscf = gto.M(\n",
    "    atom = 'Fe 0 0 0; S 0 0 1.826',\n",
    "    basis = basis_dict,\n",
    "    spin = 4)\n",
    "rhf = scf.UHF(mol_pyscf)\n",
    "rhf.kernel()"
   ]
  },
  {
   "cell_type": "code",
   "execution_count": 23,
   "metadata": {},
   "outputs": [
    {
     "name": "stdout",
     "output_type": "stream",
     "text": [
      "(2, 27, 27)\n",
      "(27, 27)\n",
      "(27, 27, 27, 27)\n"
     ]
    },
    {
     "ename": "ValueError",
     "evalue": "operand has more dimensions than subscripts given in einstein sum, but no '...' ellipsis provided to broadcast the extra dimensions.",
     "output_type": "error",
     "traceback": [
      "\u001b[31m---------------------------------------------------------------------------\u001b[39m",
      "\u001b[31mValueError\u001b[39m                                Traceback (most recent call last)",
      "\u001b[36mCell\u001b[39m\u001b[36m \u001b[39m\u001b[32mIn[23]\u001b[39m\u001b[32m, line 8\u001b[39m\n\u001b[32m      5\u001b[39m \u001b[38;5;28mprint\u001b[39m(one_ao.shape)  \n\u001b[32m      6\u001b[39m \u001b[38;5;28mprint\u001b[39m(two_ao.shape)\n\u001b[32m----> \u001b[39m\u001b[32m8\u001b[39m one_mo = \u001b[43mnp\u001b[49m\u001b[43m.\u001b[49m\u001b[43meinsum\u001b[49m\u001b[43m(\u001b[49m\u001b[33;43m'\u001b[39;49m\u001b[33;43mpi,pq,qj->ij\u001b[39;49m\u001b[33;43m'\u001b[39;49m\u001b[43m,\u001b[49m\u001b[43m \u001b[49m\u001b[43mrhf\u001b[49m\u001b[43m.\u001b[49m\u001b[43mmo_coeff\u001b[49m\u001b[43m,\u001b[49m\u001b[43m \u001b[49m\u001b[43mone_ao\u001b[49m\u001b[43m,\u001b[49m\u001b[43m \u001b[49m\u001b[43mrhf\u001b[49m\u001b[43m.\u001b[49m\u001b[43mmo_coeff\u001b[49m\u001b[43m)\u001b[49m\n\u001b[32m      9\u001b[39m \u001b[38;5;66;03m#one_mo = np.einsum('spi,pq,sqj->sij', rhf.mo_coeff, one_ao, rhf.mo_coeff) #Changed this \u001b[39;00m\n\u001b[32m     10\u001b[39m \u001b[38;5;66;03m#one_mo = np.einsum('...pi,pq,...qj->...ij', rhf.mo_coeff, one_ao, rhf.mo_coeff)\u001b[39;00m\n\u001b[32m     12\u001b[39m two_mo = ao2mo.incore.full(two_ao, rhf.mo_coeff)\n",
      "\u001b[36mFile \u001b[39m\u001b[32m~/miniconda3/envs/na/lib/python3.11/site-packages/numpy/_core/einsumfunc.py:1423\u001b[39m, in \u001b[36meinsum\u001b[39m\u001b[34m(out, optimize, *operands, **kwargs)\u001b[39m\n\u001b[32m   1421\u001b[39m     \u001b[38;5;28;01mif\u001b[39;00m specified_out:\n\u001b[32m   1422\u001b[39m         kwargs[\u001b[33m'\u001b[39m\u001b[33mout\u001b[39m\u001b[33m'\u001b[39m] = out\n\u001b[32m-> \u001b[39m\u001b[32m1423\u001b[39m     \u001b[38;5;28;01mreturn\u001b[39;00m \u001b[43mc_einsum\u001b[49m\u001b[43m(\u001b[49m\u001b[43m*\u001b[49m\u001b[43moperands\u001b[49m\u001b[43m,\u001b[49m\u001b[43m \u001b[49m\u001b[43m*\u001b[49m\u001b[43m*\u001b[49m\u001b[43mkwargs\u001b[49m\u001b[43m)\u001b[49m\n\u001b[32m   1425\u001b[39m \u001b[38;5;66;03m# Check the kwargs to avoid a more cryptic error later, without having to\u001b[39;00m\n\u001b[32m   1426\u001b[39m \u001b[38;5;66;03m# repeat default values here\u001b[39;00m\n\u001b[32m   1427\u001b[39m valid_einsum_kwargs = [\u001b[33m'\u001b[39m\u001b[33mdtype\u001b[39m\u001b[33m'\u001b[39m, \u001b[33m'\u001b[39m\u001b[33morder\u001b[39m\u001b[33m'\u001b[39m, \u001b[33m'\u001b[39m\u001b[33mcasting\u001b[39m\u001b[33m'\u001b[39m]\n",
      "\u001b[31mValueError\u001b[39m: operand has more dimensions than subscripts given in einstein sum, but no '...' ellipsis provided to broadcast the extra dimensions."
     ]
    }
   ],
   "source": [
    "one_ao = mol_pyscf.intor_symmetric('int1e_kin') + mol_pyscf.intor_symmetric('int1e_nuc') #Kinetic energy integrals + Nuclear energy integrals = Hcore\n",
    "two_ao = mol_pyscf.intor('int2e_sph') # Two electron integrals\n",
    "\n",
    "print(rhf.mo_coeff.shape)  # Should be (num_AOs, num_MOs)\n",
    "print(one_ao.shape)  \n",
    "print(two_ao.shape)\n",
    "\n",
    "one_mo = np.einsum('pi,pq,qj->ij', rhf.mo_coeff, one_ao, rhf.mo_coeff)\n",
    "#one_mo = np.einsum('spi,pq,sqj->sij', rhf.mo_coeff, one_ao, rhf.mo_coeff) #Changed this \n",
    "#one_mo = np.einsum('...pi,pq,...qj->...ij', rhf.mo_coeff, one_ao, rhf.mo_coeff)\n",
    "\n",
    "two_mo = ao2mo.incore.full(two_ao, rhf.mo_coeff)\n",
    "\n",
    "two_mo = np.swapaxes(two_mo, 1, 3)\n",
    "\n",
    "core_constant = np.array([rhf.energy_nuc()])\n",
    "\n",
    "H_fermionic = qml.qchem.fermionic_observable(core_constant, one_mo, two_mo)\n",
    "\n",
    "H = qml.jordan_wigner(H_fermionic)"
   ]
  },
  {
   "cell_type": "code",
   "execution_count": 29,
   "metadata": {},
   "outputs": [
    {
     "data": {
      "text/plain": [
       "2"
      ]
     },
     "execution_count": 29,
     "metadata": {},
     "output_type": "execute_result"
    }
   ],
   "source": [
    "len(rhf.mo_coeff)"
   ]
  },
  {
   "cell_type": "code",
   "execution_count": 3,
   "metadata": {},
   "outputs": [
    {
     "name": "stdout",
     "output_type": "stream",
     "text": [
      "(2, 27, 27)\n",
      "(27, 27)\n"
     ]
    }
   ],
   "source": [
    "print(rhf.mo_coeff.shape)  # Should be (num_AOs, num_MOs)\n",
    "print(one_ao.shape)        # Check if > 2D\n"
   ]
  },
  {
   "cell_type": "markdown",
   "metadata": {},
   "source": [
    "## Trying Pennylane H building"
   ]
  },
  {
   "cell_type": "code",
   "execution_count": 37,
   "metadata": {},
   "outputs": [
    {
     "name": "stdout",
     "output_type": "stream",
     "text": [
      "converged SCF energy = -74.9645256918536\n"
     ]
    }
   ],
   "source": [
    "from pyscf import gto, ao2mo, scf\n",
    "import numpy as np\n",
    "import pennylane as qml\n",
    "mol_pyscf = gto.M(atom = '''H -0.02111417 -0.00201087  0.;\n",
    "                            O  0.83504162  0.45191733  0.;\n",
    "                            H  1.47688065 -0.27300252  0.''')\n",
    "rhf = scf.RHF(mol_pyscf)\n",
    "energy = rhf.kernel()"
   ]
  },
  {
   "cell_type": "code",
   "execution_count": 38,
   "metadata": {},
   "outputs": [],
   "source": [
    "one_ao = mol_pyscf.intor_symmetric('int1e_kin') + mol_pyscf.intor_symmetric('int1e_nuc')\n",
    "two_ao = mol_pyscf.intor('int2e_sph') #2-electron integrals \n",
    "\n",
    "one_mo = np.einsum('pi,pq,qj->ij', rhf.mo_coeff, one_ao, rhf.mo_coeff)\n",
    "two_mo = ao2mo.incore.full(two_ao, rhf.mo_coeff)\n",
    "\n",
    "two_mo = np.swapaxes(two_mo, 1, 3)\n",
    "\n",
    "core_constant = np.array([rhf.energy_nuc()])\n",
    "H_fermionic = qml.qchem.fermionic_observable(core_constant, one_mo, two_mo)\n",
    "H = qml.jordan_wigner(H_fermionic)\n"
   ]
  },
  {
   "cell_type": "code",
   "execution_count": 41,
   "metadata": {},
   "outputs": [
    {
     "data": {
      "text/plain": [
       "(7, 7, 7, 7)"
      ]
     },
     "execution_count": 41,
     "metadata": {},
     "output_type": "execute_result"
    }
   ],
   "source": [
    "two_mo.shape"
   ]
  },
  {
   "cell_type": "markdown",
   "metadata": {},
   "source": [
    "## Li code from net"
   ]
  },
  {
   "cell_type": "code",
   "execution_count": 32,
   "metadata": {},
   "outputs": [
    {
     "name": "stdout",
     "output_type": "stream",
     "text": [
      "converged SCF energy = -7.31552598128109  <S^2> = 0.75  2S+1 = 2\n"
     ]
    }
   ],
   "source": [
    "import numpy as np\n",
    "from pyscf import gto, scf, ao2mo\n",
    "\n",
    "# 1. Define the molecule with open-shell configuration (e.g., Li atom)\n",
    "mol = gto.M(atom='Li 0 0 0', basis='sto-3g', spin=1) # Spin=1 indicates a doublet\n",
    "\n",
    "# 2. Choose the UHF method\n",
    "mf = scf.UHF(mol)\n",
    "\n",
    "# 3. Perform the SCF calculation\n",
    "mf.kernel()\n",
    "\n",
    "# 4. Obtain the integrals in the AO basis\n",
    "hcore_ao = mol.intor_symmetric('int1e_kin') + mol.intor_symmetric('int1e_nuc')\n",
    "eri_ao = mol.intor('int2e') # Using 8-fold symmetry\n",
    "\n",
    "# 5. Transform the integrals to the MO basis\n",
    "mo_coeff = mf.mo_coeff # Molecular orbitals from UHF calculation\n",
    "\n",
    "hcore_mo_alpha = np.einsum('pi,pq,qj->ij', mo_coeff[0], hcore_ao, mo_coeff[0])\n",
    "hcore_mo_beta = np.einsum('pi,pq,qj->ij', mo_coeff[1], hcore_ao, mo_coeff[1])\n",
    "\n",
    "eri_mo_alpha = ao2mo.incore.full(eri_ao, mo_coeff[0])\n",
    "eri_mo_beta = ao2mo.incore.full(eri_ao, mo_coeff[1])\n",
    "eri_mo_alpha_beta = ao2mo.incore.general(eri_ao, (mo_coeff[0], mo_coeff[0], mo_coeff[1], mo_coeff[1]))  #Changed Full to general\n",
    "\n",
    "# The Hamiltonian can then be constructed using these MO basis integrals\n"
   ]
  },
  {
   "cell_type": "markdown",
   "metadata": {},
   "source": [
    "## Working code"
   ]
  },
  {
   "cell_type": "code",
   "execution_count": 51,
   "metadata": {},
   "outputs": [
    {
     "name": "stdout",
     "output_type": "stream",
     "text": [
      "converged SCF energy = -1655.10155370991  <S^2> = 6.0386361  2S+1 = 5.0154306\n",
      "27\n",
      "(54, 54)\n"
     ]
    }
   ],
   "source": [
    "import numpy as np\n",
    "from pyscf import gto, scf, ao2mo\n",
    "\n",
    "# 1. Define the molecule with open-shell configuration (e.g., Li atom)\n",
    "mol = gto.M(atom='Fe 0 0 0; S 0 0 1.826', basis=basis_dict, spin=4) # Spin=1 indicates a doublet\n",
    "\n",
    "# 2. Choose the UHF method\n",
    "mf = scf.UHF(mol)\n",
    "\n",
    "# 3. Perform the SCF calculation\n",
    "mf.kernel()\n",
    "\n",
    "# 4. Obtain the integrals in the AO basis\n",
    "hcore_ao = mol.intor_symmetric('int1e_kin') + mol.intor_symmetric('int1e_nuc')\n",
    "eri_ao = mol.intor('int2e') # Using 8-fold symmetry\n",
    "\n",
    "# 5. Transform the integrals to the MO basis\n",
    "mo_coeff = mf.mo_coeff # Molecular orbitals from UHF calculation\n",
    "\n",
    "hcore_mo_alpha = np.einsum('pi,pq,qj->ij', mo_coeff[0], hcore_ao, mo_coeff[0])\n",
    "hcore_mo_beta = np.einsum('pi,pq,qj->ij', mo_coeff[1], hcore_ao, mo_coeff[1])\n",
    "\n",
    "#Generate hcore_mo\n",
    "N = hcore_mo_alpha.shape[0]\n",
    "print(N)\n",
    "one_mo = np.zeros((2*N, 2*N))\n",
    "print(one_mo.shape)\n",
    "one_mo[:N, :N] = hcore_mo_alpha\n",
    "one_mo[N:, N:] = hcore_mo_beta\n",
    "\n",
    "eri_mo_alpha = ao2mo.incore.full(eri_ao, mo_coeff[0])\n",
    "eri_mo_beta = ao2mo.incore.full(eri_ao, mo_coeff[1])\n",
    "eri_mo_alpha_beta = ao2mo.incore.general(eri_ao, (mo_coeff[0], mo_coeff[0], mo_coeff[1], mo_coeff[1]))  #Changed Full to general\n",
    "\n",
    "# The Hamiltonian can then be constructed using these MO basis integrals\n",
    "two_mo = np.swapaxes(eri_mo_alpha_beta, 1,3)\n",
    "\n",
    "core_constant = np.array([mf.energy_nuc()])\n",
    "#H_fermionic = qml.qchem.fermionic_observable(core_constant, one_mo, two_mo)\n",
    "#H = qml.jordan_wigner(H_fermionic)\n"
   ]
  },
  {
   "cell_type": "code",
   "execution_count": null,
   "metadata": {},
   "outputs": [],
   "source": [
    "one_ao = mol_pyscf.intor_symmetric('int1e_kin') + mol_pyscf.intor_symmetric('int1e_nuc')\n",
    "two_ao = mol_pyscf.intor('int2e_sph') #2-electron integrals \n",
    "\n",
    "one_mo = np.einsum('pi,pq,qj->ij', rhf.mo_coeff, one_ao, rhf.mo_coeff)\n",
    "print(one_mo.shape)\n",
    "two_mo = ao2mo.incore.full(two_ao, rhf.mo_coeff)\n",
    "print(two_mo.shape)\n",
    "\n",
    "two_mo = np.swapaxes(two_mo, 1, 3)\n",
    "\n",
    "\n",
    "\n",
    "core_constant = np.array([rhf.energy_nuc()])\n",
    "H_fermionic = qml.qchem.fermionic_observable(core_constant, one_mo, two_mo)\n",
    "H = qml.jordan_wigner(H_fermionic)"
   ]
  },
  {
   "cell_type": "code",
   "execution_count": null,
   "metadata": {},
   "outputs": [],
   "source": []
  }
 ],
 "metadata": {
  "kernelspec": {
   "display_name": "na",
   "language": "python",
   "name": "python3"
  },
  "language_info": {
   "codemirror_mode": {
    "name": "ipython",
    "version": 3
   },
   "file_extension": ".py",
   "mimetype": "text/x-python",
   "name": "python",
   "nbconvert_exporter": "python",
   "pygments_lexer": "ipython3",
   "version": "3.11.8"
  }
 },
 "nbformat": 4,
 "nbformat_minor": 2
}
