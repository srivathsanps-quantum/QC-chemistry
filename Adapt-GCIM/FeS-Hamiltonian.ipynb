{
 "cells": [
  {
   "cell_type": "markdown",
   "metadata": {},
   "source": [
    "## SRJ - Building H using HF integrals"
   ]
  },
  {
   "cell_type": "code",
   "execution_count": 1,
   "metadata": {},
   "outputs": [
    {
     "name": "stdout",
     "output_type": "stream",
     "text": [
      "converged SCF energy = -1655.10155370991  <S^2> = 6.0386361  2S+1 = 5.0154306\n"
     ]
    },
    {
     "data": {
      "text/plain": [
       "np.float64(-1655.1015537099054)"
      ]
     },
     "execution_count": 1,
     "metadata": {},
     "output_type": "execute_result"
    }
   ],
   "source": [
    "import basis_set_exchange as bse\n",
    "\n",
    "basis_dict = bse.get_basis('ANO-RCC-MB', elements=['Fe', 'S'], fmt='nwchem')\n",
    "\n",
    "import numpy as np\n",
    "from pyscf import gto, scf, mcscf\n",
    "from pyscf import gto, ao2mo, scf\n",
    "import pennylane as qml\n",
    "\n",
    "# Your original setup (unchanged)\n",
    "mol_pyscf = gto.M(\n",
    "    atom = 'Fe 0 0 0; S 0 0 1.826',\n",
    "    basis = basis_dict,\n",
    "    spin = 4)\n",
    "rhf = scf.UHF(mol_pyscf)\n",
    "rhf.kernel()"
   ]
  },
  {
   "cell_type": "code",
   "execution_count": 6,
   "metadata": {},
   "outputs": [
    {
     "name": "stdout",
     "output_type": "stream",
     "text": [
      "(2, 27, 27)\n",
      "(27, 27)\n",
      "(27, 27, 27, 27)\n"
     ]
    },
    {
     "ename": "ValueError",
     "evalue": "too many values to unpack (expected 2)",
     "output_type": "error",
     "traceback": [
      "\u001b[31m---------------------------------------------------------------------------\u001b[39m",
      "\u001b[31mValueError\u001b[39m                                Traceback (most recent call last)",
      "\u001b[36mCell\u001b[39m\u001b[36m \u001b[39m\u001b[32mIn[6]\u001b[39m\u001b[32m, line 12\u001b[39m\n\u001b[32m      8\u001b[39m \u001b[38;5;66;03m#one_mo = np.einsum('pi,pq,qj->ij', rhf.mo_coeff, one_ao, rhf.mo_coeff)\u001b[39;00m\n\u001b[32m      9\u001b[39m \u001b[38;5;66;03m#one_mo = np.einsum('spi,pq,sqj->sij', rhf.mo_coeff, one_ao, rhf.mo_coeff) #Changed this \u001b[39;00m\n\u001b[32m     10\u001b[39m one_mo = np.einsum(\u001b[33m'\u001b[39m\u001b[33m...pi,pq,...qj->...ij\u001b[39m\u001b[33m'\u001b[39m, rhf.mo_coeff, one_ao, rhf.mo_coeff)\n\u001b[32m---> \u001b[39m\u001b[32m12\u001b[39m two_mo = \u001b[43mao2mo\u001b[49m\u001b[43m.\u001b[49m\u001b[43mincore\u001b[49m\u001b[43m.\u001b[49m\u001b[43mfull\u001b[49m\u001b[43m(\u001b[49m\u001b[43mtwo_ao\u001b[49m\u001b[43m,\u001b[49m\u001b[43m \u001b[49m\u001b[43mrhf\u001b[49m\u001b[43m.\u001b[49m\u001b[43mmo_coeff\u001b[49m\u001b[43m)\u001b[49m\n\u001b[32m     14\u001b[39m two_mo = np.swapaxes(two_mo, \u001b[32m1\u001b[39m, \u001b[32m3\u001b[39m)\n\u001b[32m     16\u001b[39m core_constant = np.array([rhf.energy_nuc()])\n",
      "\u001b[36mFile \u001b[39m\u001b[32m~/miniconda3/envs/na/lib/python3.11/site-packages/pyscf/ao2mo/incore.py:65\u001b[39m, in \u001b[36mfull\u001b[39m\u001b[34m(eri_ao, mo_coeff, verbose, compact, **kwargs)\u001b[39m\n\u001b[32m     28\u001b[39m \u001b[38;5;28;01mdef\u001b[39;00m\u001b[38;5;250m \u001b[39m\u001b[34mfull\u001b[39m(eri_ao, mo_coeff, verbose=\u001b[32m0\u001b[39m, compact=\u001b[38;5;28;01mTrue\u001b[39;00m, **kwargs):\n\u001b[32m     29\u001b[39m \u001b[38;5;250m    \u001b[39m\u001b[33mr\u001b[39m\u001b[33;03m'''MO integral transformation for the given orbital.\u001b[39;00m\n\u001b[32m     30\u001b[39m \n\u001b[32m     31\u001b[39m \u001b[33;03m    Args:\u001b[39;00m\n\u001b[32m   (...)\u001b[39m\u001b[32m     63\u001b[39m \n\u001b[32m     64\u001b[39m \u001b[33;03m    '''\u001b[39;00m\n\u001b[32m---> \u001b[39m\u001b[32m65\u001b[39m     \u001b[38;5;28;01mreturn\u001b[39;00m \u001b[43mgeneral\u001b[49m\u001b[43m(\u001b[49m\u001b[43meri_ao\u001b[49m\u001b[43m,\u001b[49m\u001b[43m \u001b[49m\u001b[43m(\u001b[49m\u001b[43mmo_coeff\u001b[49m\u001b[43m,\u001b[49m\u001b[43m)\u001b[49m\u001b[43m*\u001b[49m\u001b[32;43m4\u001b[39;49m\u001b[43m,\u001b[49m\u001b[43m \u001b[49m\u001b[43mverbose\u001b[49m\u001b[43m,\u001b[49m\u001b[43m \u001b[49m\u001b[43mcompact\u001b[49m\u001b[43m)\u001b[49m\n",
      "\u001b[36mFile \u001b[39m\u001b[32m~/miniconda3/envs/na/lib/python3.11/site-packages/pyscf/ao2mo/incore.py:134\u001b[39m, in \u001b[36mgeneral\u001b[39m\u001b[34m(eri_ao, mo_coeffs, verbose, compact, **kwargs)\u001b[39m\n\u001b[32m    131\u001b[39m         \u001b[38;5;28;01mraise\u001b[39;00m \u001b[38;5;167;01mNotImplementedError\u001b[39;00m(\u001b[33m'\u001b[39m\u001b[33mIntegral transformation for complex orbitals\u001b[39m\u001b[33m'\u001b[39m)\n\u001b[32m    133\u001b[39m \u001b[38;5;66;03m# transform e1\u001b[39;00m\n\u001b[32m--> \u001b[39m\u001b[32m134\u001b[39m     eri1 = \u001b[43mhalf_e1\u001b[49m\u001b[43m(\u001b[49m\u001b[43meri_ao\u001b[49m\u001b[43m,\u001b[49m\u001b[43m \u001b[49m\u001b[43mmo_coeffs\u001b[49m\u001b[43m,\u001b[49m\u001b[43m \u001b[49m\u001b[43mcompact\u001b[49m\u001b[43m)\u001b[49m\n\u001b[32m    135\u001b[39m     klmosym, nkl_pair, mokl, klshape = _conc_mos(mo_coeffs[\u001b[32m2\u001b[39m], mo_coeffs[\u001b[32m3\u001b[39m], compact)\n\u001b[32m    137\u001b[39m     \u001b[38;5;28;01mif\u001b[39;00m eri1.shape[\u001b[32m0\u001b[39m] == \u001b[32m0\u001b[39m \u001b[38;5;129;01mor\u001b[39;00m nkl_pair == \u001b[32m0\u001b[39m:\n\u001b[32m    138\u001b[39m         \u001b[38;5;66;03m# 0 dimension causes error in certain BLAS implementations\u001b[39;00m\n",
      "\u001b[36mFile \u001b[39m\u001b[32m~/miniconda3/envs/na/lib/python3.11/site-packages/pyscf/ao2mo/incore.py:194\u001b[39m, in \u001b[36mhalf_e1\u001b[39m\u001b[34m(eri_ao, mo_coeffs, compact)\u001b[39m\n\u001b[32m    191\u001b[39m     \u001b[38;5;28;01mraise\u001b[39;00m \u001b[38;5;167;01mNotImplementedError\u001b[39;00m(\u001b[33m'\u001b[39m\u001b[33mIntegral transformation for complex orbitals\u001b[39m\u001b[33m'\u001b[39m)\n\u001b[32m    193\u001b[39m eri_ao = numpy.asarray(eri_ao, order=\u001b[33m'\u001b[39m\u001b[33mC\u001b[39m\u001b[33m'\u001b[39m)\n\u001b[32m--> \u001b[39m\u001b[32m194\u001b[39m nao, nmoi = mo_coeffs[\u001b[32m0\u001b[39m].shape\n\u001b[32m    195\u001b[39m nmoj = mo_coeffs[\u001b[32m1\u001b[39m].shape[\u001b[32m1\u001b[39m]\n\u001b[32m    196\u001b[39m nao_pair = nao*(nao+\u001b[32m1\u001b[39m)//\u001b[32m2\u001b[39m\n",
      "\u001b[31mValueError\u001b[39m: too many values to unpack (expected 2)"
     ]
    }
   ],
   "source": [
    "one_ao = mol_pyscf.intor_symmetric('int1e_kin') + mol_pyscf.intor_symmetric('int1e_nuc')\n",
    "two_ao = mol_pyscf.intor('int2e_sph')\n",
    "\n",
    "print(rhf.mo_coeff.shape)  # Should be (num_AOs, num_MOs)\n",
    "print(one_ao.shape)  \n",
    "print(two_ao.shape)\n",
    "\n",
    "#one_mo = np.einsum('pi,pq,qj->ij', rhf.mo_coeff, one_ao, rhf.mo_coeff)\n",
    "#one_mo = np.einsum('spi,pq,sqj->sij', rhf.mo_coeff, one_ao, rhf.mo_coeff) #Changed this \n",
    "one_mo = np.einsum('...pi,pq,...qj->...ij', rhf.mo_coeff, one_ao, rhf.mo_coeff)\n",
    "\n",
    "two_mo = ao2mo.incore.full(two_ao, rhf.mo_coeff)\n",
    "\n",
    "two_mo = np.swapaxes(two_mo, 1, 3)\n",
    "\n",
    "core_constant = np.array([rhf.energy_nuc()])\n",
    "\n",
    "H_fermionic = qml.qchem.fermionic_observable(core_constant, one_mo, two_mo)\n",
    "\n",
    "H = qml.jordan_wigner(H_fermionic)"
   ]
  },
  {
   "cell_type": "code",
   "execution_count": 3,
   "metadata": {},
   "outputs": [
    {
     "name": "stdout",
     "output_type": "stream",
     "text": [
      "(2, 27, 27)\n",
      "(27, 27)\n"
     ]
    }
   ],
   "source": [
    "print(rhf.mo_coeff.shape)  # Should be (num_AOs, num_MOs)\n",
    "print(one_ao.shape)        # Check if > 2D\n"
   ]
  },
  {
   "cell_type": "code",
   "execution_count": null,
   "metadata": {},
   "outputs": [],
   "source": []
  }
 ],
 "metadata": {
  "kernelspec": {
   "display_name": "na",
   "language": "python",
   "name": "python3"
  },
  "language_info": {
   "codemirror_mode": {
    "name": "ipython",
    "version": 3
   },
   "file_extension": ".py",
   "mimetype": "text/x-python",
   "name": "python",
   "nbconvert_exporter": "python",
   "pygments_lexer": "ipython3",
   "version": "3.11.8"
  }
 },
 "nbformat": 4,
 "nbformat_minor": 2
}
