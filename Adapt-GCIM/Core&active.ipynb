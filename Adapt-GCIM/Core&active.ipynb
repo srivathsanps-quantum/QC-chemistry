{
 "cells": [
  {
   "cell_type": "markdown",
   "metadata": {},
   "source": [
    "## SRJ"
   ]
  },
  {
   "cell_type": "code",
   "execution_count": 1,
   "metadata": {},
   "outputs": [],
   "source": [
    "import pennylane as qml\n",
    "from pennylane import qchem\n",
    "from pennylane import numpy as np\n",
    "from itertools import chain\n",
    "import time\n",
    "import re\n",
    "from scipy.optimize import minimize\n",
    "ash_excitation = []\n",
    "energies = []\n",
    "excitations= []\n",
    "\n",
    "X = qml.PauliX\n",
    "Y = qml.PauliY\n",
    "Z = qml.PauliZ\n",
    "I = qml.Identity\n",
    "\n",
    "\n",
    "\n",
    "\n",
    "\n",
    "\n",
    "def ags_exact(symbols, coordinates, active_electrons, active_orbitals, adapt_it, shots = None):\n",
    "    print('Using active space, check if you change the H accordingly')\n",
    "    H, qubits = qml.qchem.molecular_hamiltonian(symbols, coordinates, basis=\"sto-6g\", method=\"pyscf\",active_electrons=active_electrons, active_orbitals=active_orbitals)\n",
    "    core, active = qml.qchem.active_space(electrons, orbitals, active_electrons=active_electrons, active_orbitals=active_orbitals) # Spatial orbitals\n",
    "    print('core orbitals:', core)\n",
    "    print('active orbitals:', active)\n",
    "    #print(H)\n",
    "    return core, active"
   ]
  },
  {
   "cell_type": "code",
   "execution_count": 3,
   "metadata": {},
   "outputs": [
    {
     "name": "stdout",
     "output_type": "stream",
     "text": [
      "H2O-0.6A-GS+ES-DBS\n",
      "[[ 0.          0.          0.        ]\n",
      " [ 0.          0.          5.66917797]\n",
      " [ 0.          0.         11.33835593]\n",
      " [ 0.          0.         17.0075339 ]]\n",
      "Using active space, check if you change the H accordingly\n",
      "core orbitals: []\n",
      "active orbitals: [0, 1, 2, 3]\n"
     ]
    }
   ],
   "source": [
    "symbols  = [ 'H', 'H', 'H', 'H']\n",
    "print('H2O-0.6A-GS+ES-DBS')\n",
    "r_bohr = 1.8897259886 \n",
    "coordinates = np.array([[0.0,0.0*r_bohr, 0.0*r_bohr], [0.0, 0.0, 3.0*r_bohr], [0.0,0, 6.0*r_bohr], [0, 0, 9.0*r_bohr]])\n",
    "\n",
    "print(coordinates)\n",
    "\n",
    "electrons = 4  # 7 from N and 3 from H\n",
    "orbitals = 8 #Spin orbitals  \n",
    "charge = 0\n",
    "\n",
    "active_electrons = 4 #No of electrons\n",
    "active_orbitals = 4 #Spatial orbitals\n",
    "\n",
    "core, active = ags_exact(symbols, coordinates, active_electrons, active_orbitals, shots = None, adapt_it=1)"
   ]
  },
  {
   "cell_type": "code",
   "execution_count": null,
   "metadata": {},
   "outputs": [],
   "source": []
  }
 ],
 "metadata": {
  "kernelspec": {
   "display_name": "na",
   "language": "python",
   "name": "python3"
  },
  "language_info": {
   "codemirror_mode": {
    "name": "ipython",
    "version": 3
   },
   "file_extension": ".py",
   "mimetype": "text/x-python",
   "name": "python",
   "nbconvert_exporter": "python",
   "pygments_lexer": "ipython3",
   "version": "3.11.8"
  }
 },
 "nbformat": 4,
 "nbformat_minor": 2
}
