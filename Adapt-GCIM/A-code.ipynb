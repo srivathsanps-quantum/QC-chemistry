{
 "cells": [
  {
   "cell_type": "markdown",
   "metadata": {},
   "source": [
    "## SRJ - A code"
   ]
  },
  {
   "cell_type": "markdown",
   "metadata": {},
   "source": [
    "Use asf - office pc"
   ]
  },
  {
   "cell_type": "code",
   "execution_count": 1,
   "metadata": {},
   "outputs": [],
   "source": [
    "import basis_set_exchange as bse\n",
    "basis = bse.get_basis('ANO-RCC-MB', elements=['Fe','S'], fmt='nwchem')"
   ]
  },
  {
   "cell_type": "code",
   "execution_count": 7,
   "metadata": {},
   "outputs": [
    {
     "name": "stdout",
     "output_type": "stream",
     "text": [
      "converged SCF energy = -1655.34968383623\n",
      "Atom list: \n",
      "Fe   0.0   0.0   0.0\n",
      "S   0.0   0.0   1.826\n",
      "\n",
      "Charge: 0\n",
      "Spin: 4\n",
      "Number of electrons: (23, 19)\n",
      "Number of molecular orbitals: 27\n",
      "Going to select Active space\n",
      "Orbital count 27\n",
      "\n",
      "--------------------------------------------------------------------------------\n",
      "Calculating UHF orbitals\n",
      "--------------------------------------------------------------------------------\n",
      "\n",
      "-> Initiating a UHF calculation.\n",
      "converged SCF energy = -1655.10155370991  <S^2> = 6.0386361  2S+1 = 5.0154306\n",
      "<class 'pyscf.scf.uhf.UHF'> wavefunction has an internal instability\n",
      "-> Restarting SCF due to instability of previous solution.\n",
      "-> Initiating SCF restart number 1.\n",
      "SCF not converged.\n",
      "SCF energy = -1655.31390020998 after 50 cycles  <S^2> = 6.1033792  2S+1 = 5.0411821\n",
      "<class 'pyscf.scf.uhf.UHF'> wavefunction has an internal instability\n",
      "-> Calculation did not converge.\n",
      "-> Switching to Newton solver.\n",
      "-> Initiating SCF restart number 2.\n",
      "converged SCF energy = -1655.36366188403  <S^2> = 6.4451054  2S+1 = 5.1749804\n",
      "<class 'pyscf.soscf.newton_ah.SecondOrderUHF'> wavefunction is stable in the internal stability analysis\n",
      "-> The calculated SCF solution is converged and stable.\n",
      "\n",
      "--------------------------------------------------------------------------------\n",
      "Calculating MP2 natural orbitals\n",
      "--------------------------------------------------------------------------------\n",
      "\n",
      "\n",
      "WARN: Even tempered Gaussians are generated as DF auxbasis for  Fe S\n",
      "\n",
      "\n",
      "-> Selected initial orbital window of 10 electrons in 10 MP2 natural orbitals.\n",
      "\n",
      "--------------------------------------------------------------------------------\n",
      "Running calculation\n",
      "--------------------------------------------------------------------------------\n",
      "\n",
      "spin = 4, number of roots = 1\n",
      "total number of roots calculated = 1\n",
      "\n",
      "CASCI E = -1655.42006543017  E(CI) = -22.5647916698983  S^2 = 6.0000000\n",
      "\n",
      "Orbital selection for state 0:\n",
      "\n",
      " MO    w( )    w(↑)    w(↓)    w(⇅)       S  sel\n",
      " 16   0.004   0.033   0.014   0.949   0.246     \n",
      " 17   0.004   0.033   0.014   0.949   0.246     \n",
      " 18   0.023   0.080   0.023   0.874   0.493    a\n",
      " 19   0.004   0.967   0.003   0.027   0.167    a\n",
      " 20   0.004   0.967   0.003   0.027   0.167    a\n",
      " 21   0.010   0.959   0.016   0.016   0.217    a\n",
      " 22   0.000   0.995   0.005   0.000   0.035    a\n",
      " 23   0.878   0.058   0.045   0.020   0.497    a\n",
      " 24   0.970   0.021   0.006   0.003   0.159     \n",
      " 25   0.970   0.021   0.006   0.003   0.159     \n",
      "\n",
      "\n",
      "--------------------------------------------------------------------------------\n",
      "Active space selection finished\n",
      "--------------------------------------------------------------------------------\n",
      "\n",
      "-> Selected an active space of 6 electrons in 6 orbitals.\n",
      "Act space ActiveSpace: 6 electrons in 6 orbitals\n",
      "  active MO indices: [18, 19, 20, 21, 22, 23]\n",
      "CASCI E = -1655.35861367864  E(CI) = -11.0151420664090  S^2 = 6.0000000\n",
      "CASCI total energy - Sri -1655.3586136786419\n",
      "Active space energy- Sri -11.015142066408998\n"
     ]
    }
   ],
   "source": [
    "import pyscf\n",
    "pyscf.__config__.B3LYP_WITH_VWN5 = False\n",
    "from pathlib import Path\n",
    "\n",
    "# The Mole class is used to define molecular information in PySCF.\n",
    "from pyscf.gto import Mole\n",
    "from pyscf import scf\n",
    "\n",
    "# logger contains definitions of verbosity levels for PySCF.\n",
    "from pyscf.lib import logger\n",
    "\n",
    "# Functionality for (state-averaged) CASSCF.\n",
    "from pyscf.mcscf import CASSCF, CASCI, state_average_mix\n",
    "from pyscf.fci.direct_spin1 import FCISolver\n",
    "from pyscf.fci.addons import fix_spin\n",
    "\n",
    "# Wrapper functions to perform selection for variable and fixed active space sizes\n",
    "from asf.wrapper import find_from_mol, find_from_scf, sized_space_from_mol, sized_space_from_scf\n",
    "from asf.scf import stable_scf\n",
    "# Various utility functions...\n",
    "from asf.utility import compare_active_spaces, show_mos_grid, pictures_Jmol\n",
    "\n",
    "from asf import ASFDMRG\n",
    "from asf.visualization import draw_pair_information\n",
    "from asf.preselection import MP2NatorbPreselection, MP2PairinfoPreselection\n",
    "from asf.scf import stable_scf\n",
    "from asf.utility import pictures_Jmol\n",
    "mol = Mole()\n",
    "mol.atom = '''\n",
    "Fe   0.0   0.0   0.0\n",
    "S   0.0   0.0   1.826\n",
    "'''\n",
    "mol.basis = basis\n",
    "mol.charge = 0\n",
    "mol.spin = 4\n",
    "# Set mol.verbose = logger.INFO to enable printing of SCF iterations and further output.\n",
    "mol.verbose = logger.NOTE\n",
    "mol.build()\n",
    "mf = scf.ROHF(mol) # or scf.RHF as appropriate\n",
    "#mf.chkfile = 'FeS.chk'\n",
    "mf.kernel()\n",
    "\n",
    "print(\"Atom list:\", mol.atom)\n",
    "#print(\"Basis used:\", mol.basis)\n",
    "print(\"Charge:\", mol.charge)\n",
    "print(\"Spin:\", mol.spin)\n",
    "print(\"Number of electrons:\", mol.nelec)\n",
    "n_orb = mf.mo_coeff.shape[0]\n",
    "print(\"Number of molecular orbitals:\", n_orb)\n",
    "\n",
    "print('Going to select Active space')\n",
    "print('Orbital count', mol.nao)\n",
    "\n",
    "#for i, (e, occ) in enumerate(zip(mf.mo_energy, mf.mo_occ)):\n",
    "#    print(f\"MO #{i:2d}: Energy = {e:10.6f} Ha, Occupancy = {occ}\")\n",
    "\n",
    "\n",
    "#This find_from_mol is taken from asf\n",
    "active_space = find_from_mol(mol, max_norb=6)\n",
    "\n",
    "print('Act space',active_space)\n",
    "\n",
    "#This CASCI is taken from pyscf\n",
    "mc = CASCI(mol, ncas=active_space.norb, nelecas=active_space.nel)\n",
    "\n",
    "#print('MO list',active_space.mo_list)\n",
    "#print('act space Mo coeff', active_space.mo_coeff)\n",
    "\n",
    "#Original \n",
    "mo_guess = mc.sort_mo(active_space.mo_list, mf.mo_coeff, base=0)\n",
    "\n",
    "\n",
    "\n",
    "_ = mc.kernel(mo_coeff=mo_guess, verbose=3) \n",
    "\n",
    "print('CASCI total energy - Sri', mc.e_tot)\n",
    "print('Active space energy- Sri', mc.e_cas)"
   ]
  },
  {
   "cell_type": "markdown",
   "metadata": {},
   "source": [
    "## Try to match with mine"
   ]
  },
  {
   "cell_type": "code",
   "execution_count": 4,
   "metadata": {},
   "outputs": [
    {
     "name": "stdout",
     "output_type": "stream",
     "text": [
      "converged SCF energy = -1655.34968383623\n",
      "Atom list: \n",
      "Fe   0.0   0.0   0.0\n",
      "S   0.0   0.0   1.826\n",
      "\n",
      "Charge: 0\n",
      "Spin: 4\n",
      "Number of electrons: (23, 19)\n",
      "Number of molecular orbitals: 27\n",
      "Going to select Active space\n",
      "Orbital count 27\n",
      "MO # 0: Energy = -259.180107 Ha, Occupancy = 2.0\n",
      "MO # 1: Energy = -91.641815 Ha, Occupancy = 2.0\n",
      "MO # 2: Energy = -31.779132 Ha, Occupancy = 2.0\n",
      "MO # 3: Energy = -27.441840 Ha, Occupancy = 2.0\n",
      "MO # 4: Energy = -27.441840 Ha, Occupancy = 2.0\n",
      "MO # 5: Energy = -27.420625 Ha, Occupancy = 2.0\n",
      "MO # 6: Energy =  -8.859585 Ha, Occupancy = 2.0\n",
      "MO # 7: Energy =  -6.547802 Ha, Occupancy = 2.0\n",
      "MO # 8: Energy =  -6.541798 Ha, Occupancy = 2.0\n",
      "MO # 9: Energy =  -6.541798 Ha, Occupancy = 2.0\n",
      "MO #10: Energy =  -4.269029 Ha, Occupancy = 2.0\n",
      "MO #11: Energy =  -2.875990 Ha, Occupancy = 2.0\n",
      "MO #12: Energy =  -2.866330 Ha, Occupancy = 2.0\n",
      "MO #13: Energy =  -2.866330 Ha, Occupancy = 2.0\n",
      "MO #14: Energy =  -0.897661 Ha, Occupancy = 2.0\n",
      "MO #15: Energy =  -0.646508 Ha, Occupancy = 2.0\n",
      "MO #16: Energy =  -0.390507 Ha, Occupancy = 2.0\n",
      "MO #17: Energy =  -0.390507 Ha, Occupancy = 2.0\n",
      "MO #18: Energy =  -0.342092 Ha, Occupancy = 2.0\n",
      "MO #19: Energy =  -0.313607 Ha, Occupancy = 1.0\n",
      "MO #20: Energy =  -0.313607 Ha, Occupancy = 1.0\n",
      "MO #21: Energy =  -0.262704 Ha, Occupancy = 1.0\n",
      "MO #22: Energy =  -0.262704 Ha, Occupancy = 1.0\n",
      "MO #23: Energy =  -0.017955 Ha, Occupancy = 0.0\n",
      "MO #24: Energy =   0.153935 Ha, Occupancy = 0.0\n",
      "MO #25: Energy =   0.153935 Ha, Occupancy = 0.0\n",
      "MO #26: Energy =   0.380101 Ha, Occupancy = 0.0\n",
      "\n",
      "--------------------------------------------------------------------------------\n",
      "Calculating UHF orbitals\n",
      "--------------------------------------------------------------------------------\n",
      "\n",
      "-> Initiating a UHF calculation.\n",
      "converged SCF energy = -1655.10155370991  <S^2> = 6.0386361  2S+1 = 5.0154306\n",
      "<class 'pyscf.scf.uhf.UHF'> wavefunction has an internal instability\n",
      "-> Restarting SCF due to instability of previous solution.\n",
      "-> Initiating SCF restart number 1.\n",
      "SCF not converged.\n",
      "SCF energy = -1655.31390020998 after 50 cycles  <S^2> = 6.1033792  2S+1 = 5.0411821\n",
      "<class 'pyscf.scf.uhf.UHF'> wavefunction has an internal instability\n",
      "-> Calculation did not converge.\n",
      "-> Switching to Newton solver.\n",
      "-> Initiating SCF restart number 2.\n",
      "converged SCF energy = -1655.36366188403  <S^2> = 6.4451054  2S+1 = 5.1749804\n",
      "<class 'pyscf.soscf.newton_ah.SecondOrderUHF'> wavefunction is stable in the internal stability analysis\n",
      "-> The calculated SCF solution is converged and stable.\n",
      "\n",
      "--------------------------------------------------------------------------------\n",
      "Calculating MP2 natural orbitals\n",
      "--------------------------------------------------------------------------------\n",
      "\n",
      "\n",
      "WARN: Even tempered Gaussians are generated as DF auxbasis for  Fe S\n",
      "\n",
      "\n",
      "-> Selected initial orbital window of 10 electrons in 10 MP2 natural orbitals.\n",
      "\n",
      "--------------------------------------------------------------------------------\n",
      "Running calculation\n",
      "--------------------------------------------------------------------------------\n",
      "\n",
      "spin = 4, number of roots = 1\n",
      "total number of roots calculated = 1\n",
      "\n",
      "CASCI E = -1655.42006543017  E(CI) = -22.5647916698983  S^2 = 6.0000000\n",
      "\n",
      "Orbital selection for state 0:\n",
      "\n",
      " MO    w( )    w(↑)    w(↓)    w(⇅)       S  sel\n",
      " 16   0.004   0.033   0.014   0.949   0.246     \n",
      " 17   0.004   0.033   0.014   0.949   0.246     \n",
      " 18   0.023   0.080   0.023   0.874   0.493     \n",
      " 19   0.004   0.967   0.003   0.027   0.167    a\n",
      " 20   0.004   0.967   0.003   0.027   0.167    a\n",
      " 21   0.010   0.959   0.016   0.016   0.217    a\n",
      " 22   0.000   0.995   0.005   0.000   0.035    a\n",
      " 23   0.878   0.058   0.045   0.020   0.497     \n",
      " 24   0.970   0.021   0.006   0.003   0.159     \n",
      " 25   0.970   0.021   0.006   0.003   0.159     \n",
      "\n",
      "\n",
      "--------------------------------------------------------------------------------\n",
      "Active space selection finished\n",
      "--------------------------------------------------------------------------------\n",
      "\n",
      "-> Selected an active space of 4 electrons in 4 orbitals.\n",
      "Act space ActiveSpace: 4 electrons in 4 orbitals\n",
      "  active MO indices: [19, 20, 21, 22]\n",
      "MO list [19, 20, 21, 22]\n",
      "CASCI E = -1655.33355518334  E(CI) = -6.87490363626807  S^2 = 6.0000000\n"
     ]
    }
   ],
   "source": [
    "import pyscf\n",
    "pyscf.__config__.B3LYP_WITH_VWN5 = False\n",
    "from pathlib import Path\n",
    "\n",
    "# The Mole class is used to define molecular information in PySCF.\n",
    "from pyscf.gto import Mole\n",
    "from pyscf import scf\n",
    "\n",
    "# logger contains definitions of verbosity levels for PySCF.\n",
    "from pyscf.lib import logger\n",
    "\n",
    "# Functionality for (state-averaged) CASSCF.\n",
    "from pyscf.mcscf import CASSCF, CASCI, state_average_mix\n",
    "from pyscf.fci.direct_spin1 import FCISolver\n",
    "from pyscf.fci.addons import fix_spin\n",
    "\n",
    "# Wrapper functions to perform selection for variable and fixed active space sizes\n",
    "from asf.wrapper import find_from_mol, find_from_scf, sized_space_from_mol, sized_space_from_scf\n",
    "from asf.scf import stable_scf\n",
    "# Various utility functions...\n",
    "from asf.utility import compare_active_spaces, show_mos_grid, pictures_Jmol\n",
    "\n",
    "from asf import ASFDMRG\n",
    "from asf.visualization import draw_pair_information\n",
    "from asf.preselection import MP2NatorbPreselection, MP2PairinfoPreselection\n",
    "from asf.scf import stable_scf\n",
    "from asf.utility import pictures_Jmol\n",
    "mol = Mole()\n",
    "mol.atom = '''\n",
    "Fe   0.0   0.0   0.0\n",
    "S   0.0   0.0   1.826\n",
    "'''\n",
    "mol.basis = basis\n",
    "mol.charge = 0\n",
    "mol.spin = 4\n",
    "# Set mol.verbose = logger.INFO to enable printing of SCF iterations and further output.\n",
    "mol.verbose = logger.NOTE\n",
    "mol.build()\n",
    "mf = scf.ROHF(mol) # or scf.RHF as appropriate\n",
    "#mf.chkfile = 'FeS.chk'\n",
    "mf.kernel()\n",
    "\n",
    "print(\"Atom list:\", mol.atom)\n",
    "#print(\"Basis used:\", mol.basis)\n",
    "print(\"Charge:\", mol.charge)\n",
    "print(\"Spin:\", mol.spin)\n",
    "print(\"Number of electrons:\", mol.nelec)\n",
    "n_orb = mf.mo_coeff.shape[0]\n",
    "print(\"Number of molecular orbitals:\", n_orb)\n",
    "\n",
    "print('Going to select Active space')\n",
    "print('Orbital count', mol.nao)\n",
    "\n",
    "for i, (e, occ) in enumerate(zip(mf.mo_energy, mf.mo_occ)):\n",
    "    print(f\"MO #{i:2d}: Energy = {e:10.6f} Ha, Occupancy = {occ}\")\n",
    "\n",
    "\n",
    "#This find_from_mol is taken from asf\n",
    "active_space = find_from_mol(mol, max_norb=4)\n",
    "\n",
    "print('Act space',active_space)\n",
    "\n",
    "#This CASCI is taken from pyscf\n",
    "mc = CASCI(mol, ncas=active_space.norb, nelecas=active_space.nel)\n",
    "\n",
    "print('MO list',active_space.mo_list)\n",
    "#print('act space Mo coeff', active_space.mo_coeff)\n",
    "\n",
    "#Original \n",
    "#mo_guess = mc.sort_mo(active_space.mo_list, active_space.mo_coeff, base=0)\n",
    "#Sri line\n",
    "mo_guess = mc.sort_mo(active_space.mo_list, active_space.mo_coeff, base=0)\n",
    "\n",
    "_ = mc.kernel(mo_coeff=mo_guess, verbose=3) \n",
    "\n",
    "#print('CASCI total energy - Sri', mc.e_tot)\n",
    "#print('Active space energy- Sri', mc.e_cas)"
   ]
  },
  {
   "cell_type": "code",
   "execution_count": 5,
   "metadata": {},
   "outputs": [
    {
     "data": {
      "text/plain": [
       "-1648.458651547072"
      ]
     },
     "execution_count": 5,
     "metadata": {},
     "output_type": "execute_result"
    }
   ],
   "source": [
    "-1655.33355518334  - -6.87490363626807 "
   ]
  },
  {
   "cell_type": "code",
   "execution_count": 8,
   "metadata": {},
   "outputs": [
    {
     "name": "stdout",
     "output_type": "stream",
     "text": [
      "-1644.343471612231\n"
     ]
    }
   ],
   "source": [
    "E_frozen =  -1655.35861367864 - -11.0151420664090\n",
    "\n",
    "print(E_frozen)"
   ]
  },
  {
   "cell_type": "code",
   "execution_count": 3,
   "metadata": {},
   "outputs": [
    {
     "data": {
      "text/plain": [
       "-1647.9079610281422"
      ]
     },
     "execution_count": 3,
     "metadata": {},
     "output_type": "execute_result"
    }
   ],
   "source": [
    "-1655.34968383623  - -7.44172280808789"
   ]
  },
  {
   "cell_type": "code",
   "execution_count": 8,
   "metadata": {},
   "outputs": [
    {
     "data": {
      "text/plain": [
       "0.005332724061418048"
      ]
     },
     "execution_count": 8,
     "metadata": {},
     "output_type": "execute_result"
    }
   ],
   "source": [
    " -1655.3532809545786 - -1655.35861367864 "
   ]
  },
  {
   "cell_type": "markdown",
   "metadata": {},
   "source": [
    "Update  \n",
    "\n",
    "    1. This above code in line where we calculate mo_guess, when the active_space.mo_coeff changes to mf.mo_coeff. the solution matches with my code\n",
    "\n",
    "    2. It seems active space coming from asf, optimizes the molecular coeffs\n",
    "\n",
    "    3. Explaining the orbital selection of state 0: \n",
    "        MO - Molecular orbital index. \n",
    "        w() - Total weight; contribution to wavefn. for that orbital. \n",
    "        w(up spin) - Contributions from alpha spin \n",
    "        w(down spin) - Contributions from beta spin \n",
    "        w(up & down) - Contributions from electron pairs. Doubly occupied cases\n",
    "        S(selection score) - Selection score- Higher values- more contribution to correlation\n",
    "        "
   ]
  },
  {
   "cell_type": "code",
   "execution_count": 3,
   "metadata": {},
   "outputs": [
    {
     "data": {
      "text/plain": [
       "-1644.3255564786668"
      ]
     },
     "execution_count": 3,
     "metadata": {},
     "output_type": "execute_result"
    }
   ],
   "source": [
    "-1655.3735995193822 - -11.048043040715356"
   ]
  },
  {
   "cell_type": "code",
   "execution_count": null,
   "metadata": {},
   "outputs": [],
   "source": [
    "#ROHF = -1655.34968383623\n",
    "#CASSCF = -1655.37432224354\n",
    "\n",
    "#ROHF = -1655.34968383623,  -1655.36366188403, -1655.42006543017, -1655.37432224354"
   ]
  },
  {
   "cell_type": "code",
   "execution_count": null,
   "metadata": {},
   "outputs": [],
   "source": [
    "#UHF = -1655.1015537099, -1655.36366188403, -1655.42006543017, -1655.37432224354\n"
   ]
  },
  {
   "cell_type": "markdown",
   "metadata": {},
   "source": [
    "## NH3 "
   ]
  },
  {
   "cell_type": "code",
   "execution_count": 1,
   "metadata": {},
   "outputs": [],
   "source": [
    "import basis_set_exchange as bse\n",
    "basis = bse.get_basis('ANO-RCC-MB', elements=['N','H'], fmt='nwchem')"
   ]
  },
  {
   "cell_type": "code",
   "execution_count": 7,
   "metadata": {},
   "outputs": [
    {
     "name": "stdout",
     "output_type": "stream",
     "text": [
      "converged SCF energy = -55.4273773558637\n",
      "Atom list: \n",
      "N   0.0   0.0   0.0\n",
      "H   0.0   0.0   1.40\n",
      "H   0.0   0.60   -0.336\n",
      "H   0.60   0.0   -0.336\n",
      "\n",
      "Charge: 0\n",
      "Spin: 0\n",
      "Number of electrons: (5, 5)\n",
      "Number of molecular orbitals: 8\n",
      "Going to select Active space\n",
      "Orbital count 8\n",
      "core value 14.618974215688388\n",
      "MO # 0: Energy = -15.553630 Ha, Occupancy = 2.0\n",
      "MO # 1: Energy =  -1.349952 Ha, Occupancy = 2.0\n",
      "MO # 2: Energy =  -0.688361 Ha, Occupancy = 2.0\n",
      "MO # 3: Energy =  -0.615870 Ha, Occupancy = 2.0\n",
      "MO # 4: Energy =  -0.471265 Ha, Occupancy = 2.0\n",
      "MO # 5: Energy =   0.229361 Ha, Occupancy = 0.0\n",
      "MO # 6: Energy =   0.957696 Ha, Occupancy = 0.0\n",
      "MO # 7: Energy =   1.069650 Ha, Occupancy = 0.0\n",
      "\n",
      "--------------------------------------------------------------------------------\n",
      "Calculating UHF orbitals\n",
      "--------------------------------------------------------------------------------\n",
      "\n",
      "-> Initiating a UHF calculation.\n",
      "converged SCF energy = -55.4273773558637  <S^2> = -3.5527137e-15  2S+1 = 1\n",
      "<class 'pyscf.scf.uhf.UHF'> wavefunction is stable in the internal stability analysis\n",
      "-> The calculated SCF solution is converged and stable.\n",
      "\n",
      "--------------------------------------------------------------------------------\n",
      "Calculating MP2 natural orbitals\n",
      "--------------------------------------------------------------------------------\n",
      "\n",
      "\n",
      "WARN: Even tempered Gaussians are generated as DF auxbasis for  H N\n",
      "\n",
      "\n",
      "-> Selected initial orbital window of 10 electrons in 8 MP2 natural orbitals.\n",
      "\n",
      "--------------------------------------------------------------------------------\n",
      "Running calculation\n",
      "--------------------------------------------------------------------------------\n",
      "\n",
      "spin = 0, number of roots = 1\n",
      "total number of roots calculated = 1\n",
      "\n",
      "CASCI E = -55.4913725098266  E(CI) = -70.1103467255150  S^2 = 0.0000000\n",
      "\n",
      "Orbital selection for state 0:\n",
      "\n",
      " MO    w( )    w(↑)    w(↓)    w(⇅)       S  sel\n",
      "  0   0.000   0.000   0.000   1.000   0.000     \n",
      "  1   0.001   0.001   0.001   0.998   0.017     \n",
      "  2   0.002   0.002   0.002   0.995   0.039     \n",
      "  3   0.003   0.002   0.002   0.993   0.047     \n",
      "  4   0.032   0.002   0.002   0.964   0.170    a\n",
      "  5   0.963   0.002   0.002   0.032   0.174    a\n",
      "  6   0.993   0.002   0.002   0.003   0.048     \n",
      "  7   0.994   0.002   0.002   0.002   0.042     \n",
      "\n",
      "\n",
      "--------------------------------------------------------------------------------\n",
      "Active space selection finished\n",
      "--------------------------------------------------------------------------------\n",
      "\n",
      "-> Selected an active space of 2 electrons in 2 orbitals.\n",
      "Act space ActiveSpace: 2 electrons in 2 orbitals\n",
      "  active MO indices: [4, 5]\n",
      "MO list [4, 5]\n",
      "act space Mo coeff [[ 9.99348462e-01  5.02466149e-02  5.48454133e-02  2.40193470e-14\n",
      "   1.36834163e-02  2.81671454e-02 -3.50677142e-16  3.45069777e-01]\n",
      " [-1.19620012e-02  6.17621150e-01 -5.17644018e-01 -2.00850440e-13\n",
      "   3.31335141e-01  4.55459158e-01 -6.42196955e-16  1.88788319e+00]\n",
      " [ 3.09847481e-02 -5.30397608e-01 -3.84476198e-01 -4.68315997e-01\n",
      "   1.22727746e-02 -2.94901301e-02  8.91133687e-01  6.13315434e-01]\n",
      " [ 3.09847481e-02 -5.30397608e-01 -3.84476198e-01  4.68315997e-01\n",
      "   1.22727746e-02 -2.94901301e-02 -8.91133687e-01  6.13315434e-01]\n",
      " [ 3.57218144e-03 -2.93121650e-01  1.81861454e-01  9.30226378e-14\n",
      "   6.22026963e-01  7.58849690e-01  2.47932599e-15 -7.39629341e-01]\n",
      " [-1.62839251e-03 -3.65950130e-03  3.36296995e-02  3.55068704e-14\n",
      "   4.86710966e-01 -1.04153511e+00 -2.28601759e-15  1.42043722e-01]\n",
      " [-1.22790904e-03 -2.90161840e-02 -1.48535644e-01  4.97455271e-01\n",
      "  -9.65822450e-02  2.99258144e-02  1.63763727e+00 -1.31148355e+00]\n",
      " [-1.22790904e-03 -2.90161840e-02 -1.48535644e-01 -4.97455271e-01\n",
      "  -9.65822450e-02  2.99258144e-02 -1.63763727e+00 -1.31148355e+00]]\n",
      "CASCI E = -55.4615384541933  E(CI) = -1.86443363758467  S^2 = 0.0000000\n"
     ]
    }
   ],
   "source": [
    "import pyscf\n",
    "pyscf.__config__.B3LYP_WITH_VWN5 = False\n",
    "from pathlib import Path\n",
    "\n",
    "# The Mole class is used to define molecular information in PySCF.\n",
    "from pyscf.gto import Mole\n",
    "from pyscf import scf\n",
    "\n",
    "# logger contains definitions of verbosity levels for PySCF.\n",
    "from pyscf.lib import logger\n",
    "\n",
    "# Functionality for (state-averaged) CASSCF.\n",
    "from pyscf.mcscf import CASSCF, CASCI, state_average_mix\n",
    "from pyscf.fci.direct_spin1 import FCISolver\n",
    "from pyscf.fci.addons import fix_spin\n",
    "\n",
    "# Wrapper functions to perform selection for variable and fixed active space sizes\n",
    "from asf.wrapper import find_from_mol, find_from_scf, sized_space_from_mol, sized_space_from_scf\n",
    "from asf.scf import stable_scf\n",
    "# Various utility functions...\n",
    "from asf.utility import compare_active_spaces, show_mos_grid, pictures_Jmol\n",
    "\n",
    "from asf import ASFDMRG\n",
    "from asf.visualization import draw_pair_information\n",
    "from asf.preselection import MP2NatorbPreselection, MP2PairinfoPreselection\n",
    "from asf.scf import stable_scf\n",
    "from asf.utility import pictures_Jmol\n",
    "mol = Mole()\n",
    "mol.atom = '''\n",
    "N   0.0   0.0   0.0\n",
    "H   0.0   0.0   1.40\n",
    "H   0.0   0.60   -0.336\n",
    "H   0.60   0.0   -0.336\n",
    "'''\n",
    "mol.basis = basis\n",
    "mol.charge = 0\n",
    "mol.spin = 0\n",
    "# Set mol.verbose = logger.INFO to enable printing of SCF iterations and further output.\n",
    "mol.verbose = logger.NOTE\n",
    "mol.build()\n",
    "#mf = scf.ROHF(mol)  # or scf.RHF as appropriate\n",
    "mf = scf.RHF(mol)  # enables the SOSCF algorithm\n",
    "\n",
    "mf.max_cycle = 2000\n",
    "#mf.chkfile = 'FeS.chk'\n",
    "mf.kernel()\n",
    "\n",
    "print(\"Atom list:\", mol.atom)\n",
    "#print(\"Basis used:\", mol.basis)\n",
    "print(\"Charge:\", mol.charge)\n",
    "print(\"Spin:\", mol.spin)\n",
    "print(\"Number of electrons:\", mol.nelec)\n",
    "n_orb = mf.mo_coeff.shape[0]\n",
    "print(\"Number of molecular orbitals:\", n_orb)\n",
    "\n",
    "print('Going to select Active space')\n",
    "print('Orbital count', mol.nao)\n",
    "print('core value', mf.energy_nuc())\n",
    "\n",
    "for i, (e, occ) in enumerate(zip(mf.mo_energy, mf.mo_occ)):\n",
    "    print(f\"MO #{i:2d}: Energy = {e:10.6f} Ha, Occupancy = {occ}\")\n",
    "\n",
    "\n",
    "#This find_from_mol is taken from asf\n",
    "active_space = find_from_mol(mol, max_norb=6)\n",
    "\n",
    "print('Act space',active_space)\n",
    "\n",
    "#This CASCI is taken from pyscf\n",
    "mc = CASCI(mol, ncas=active_space.norb, nelecas=active_space.nel)\n",
    "\n",
    "print('MO list',active_space.mo_list)\n",
    "print('act space Mo coeff', active_space.mo_coeff)\n",
    "\n",
    "#Original \n",
    "mo_guess = mc.sort_mo(active_space.mo_list, active_space.mo_coeff, base=0)\n",
    "\n",
    "\n",
    "_ = mc.kernel(mo_coeff=mo_guess, verbose=3) "
   ]
  },
  {
   "cell_type": "code",
   "execution_count": 4,
   "metadata": {},
   "outputs": [
    {
     "data": {
      "text/plain": [
       "-53.078668497059134"
      ]
     },
     "execution_count": 4,
     "metadata": {},
     "output_type": "execute_result"
    }
   ],
   "source": [
    "F_energy = -54.8225228954901  - -1.74385439843097\n",
    "\n",
    "F_energy"
   ]
  },
  {
   "cell_type": "code",
   "execution_count": 6,
   "metadata": {},
   "outputs": [
    {
     "data": {
      "text/plain": [
       "-53.27662334274232"
      ]
     },
     "execution_count": 6,
     "metadata": {},
     "output_type": "execute_result"
    }
   ],
   "source": [
    "-54.7863433131563  - -1.50971997041398"
   ]
  },
  {
   "cell_type": "code",
   "execution_count": 3,
   "metadata": {},
   "outputs": [
    {
     "data": {
      "text/plain": [
       "-53.753140017163496"
      ]
     },
     "execution_count": 3,
     "metadata": {},
     "output_type": "execute_result"
    }
   ],
   "source": [
    "-55.4290702767216  - -1.67593025955811 "
   ]
  },
  {
   "cell_type": "code",
   "execution_count": 5,
   "metadata": {},
   "outputs": [
    {
     "data": {
      "text/plain": [
       "-53.597104816608635"
      ]
     },
     "execution_count": 5,
     "metadata": {},
     "output_type": "execute_result"
    }
   ],
   "source": [
    "-55.4615384541933 - -1.86443363758467"
   ]
  }
 ],
 "metadata": {
  "kernelspec": {
   "display_name": "asf",
   "language": "python",
   "name": "python3"
  },
  "language_info": {
   "codemirror_mode": {
    "name": "ipython",
    "version": 3
   },
   "file_extension": ".py",
   "mimetype": "text/x-python",
   "name": "python",
   "nbconvert_exporter": "python",
   "pygments_lexer": "ipython3",
   "version": "3.11.8"
  }
 },
 "nbformat": 4,
 "nbformat_minor": 2
}
