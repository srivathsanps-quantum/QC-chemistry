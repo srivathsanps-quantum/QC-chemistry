{
 "cells": [
  {
   "cell_type": "markdown",
   "metadata": {},
   "source": [
    "## SRJ - Log"
   ]
  },
  {
   "cell_type": "markdown",
   "metadata": {},
   "source": [
    "Update @ 5.37pm - Tuesday\n",
    "\n",
    "1. Generated Full Hamiltonian for ROHF using pyscf. Trying to implement it for an active space. \n",
    "    Found out in openfermionpyscf, an function called _pyscf_integrals, where it will give you the core_constant, 1 and 2-body integrals. \n",
    "    But this function isn't working. I am directly going to write the function. \n",
    "\n",
    "    The link for it : https://docs.pennylane.ai/en/stable/_modules/pennylane/qchem/openfermion_pyscf.html and the \n",
    "    file name : FeS-FullspaceH.ipynb\n",
    "\n",
    "2. I wrote this function and it is saved in FeS-FullspaceH.ipynb file. \n",
    "    Here the core and active = [0 - 17] and active is [18, 19,20,21,22,23]. Solution is picking double excitation only. \n",
    "\n",
    "3. But I when select the core = [0-17, 24-26] and active [18, 19,20,21,22,23]. Its picking single excitation at first. \n",
    "\n",
    "4. File_name: FeS-core&active.ipynb\n",
    "    I called in core, active from qml. Its only picking like point 2. Check point qml.active space. \n",
    "\n",
    "5. FeS-H-OF.ipynb:\n",
    "    Trying to generate the H using openfermion. Stuck up there, unable to introduce active space. \n",
    "    Also contains how to generate basis set using alpha and coeff - these are exponents and coeff of the basis set. See qml.BasisFunction()\n",
    "\n",
    "6. "
   ]
  },
  {
   "cell_type": "markdown",
   "metadata": {},
   "source": [
    "Update @ 10.45 am - 6 Aug\n",
    " \n",
    "1. Filename: Ham-verification-H4.ipynb\n",
    "    Ran the code where the Hamiltonian is generated using pyscf for H4. I achieved the error difference of 6.583797951265069e-10 with FCI values.\n",
    "    All the values matches with Nick code. So hamiltonian generation isn't an issue. I doubt the ROHF. \n",
    "\n",
    "2. Filename: Core&active.ipynb\n",
    "    Created a file, that will tell you the core and active orbitals directly.  \n",
    "\n",
    "3. Filename: Ham-verification-NH3.ipynb\n",
    "    Ran the code with H generated using Pyscf + active space. Verified it with Nick's code. Got exact answer. \n",
    "    So HAM + ACTIVESPACE = RIGHT. For FeS, I doubt the ROHF. \n"
   ]
  },
  {
   "cell_type": "markdown",
   "metadata": {},
   "source": [
    "Update 11 Aug @ 7.03pm\n",
    "\n",
    "1. According to Prince and my understanding, In pennylane \n",
    "    orbitals = spin orbitals and active_orbitals = spatial orbitals\n",
    "\n",
    "2. In qiskit, active space transformer, the same formula as pennylane given. \n",
    "    inactive_elec = totalelec - active_electrons = 42 - 6 = 36\n",
    "    norbs_inactive = inactive_elec / 2 = 36/2 = 18\n",
    "    active_orbs_index = list(range(norbs_inactive, norbs_inactive+self.num_spatial_orbitals)) = range(18, 23)\n",
    "    so CORE,ACTIVE PRINTED BY PENNYLANE IS RIGHT. WHAT IS HAPPENING TO ORBITALS (24, 25, 26) - They are called virtual it seems\n",
    "    Check this link (https://quri-parts.qunasys.com/docs/tutorials/quantum-chemistry/mo/)"
   ]
  },
  {
   "cell_type": "markdown",
   "metadata": {},
   "source": []
  },
  {
   "cell_type": "markdown",
   "metadata": {},
   "source": [
    "## Pennylane to qiskit"
   ]
  },
  {
   "cell_type": "markdown",
   "metadata": {},
   "source": [
    "1. This is the code to display all the CNOTs and Rotation gates\n",
    "    \n",
    "    expanded_new_state = qml.transforms.decompose(circ)  #Circ is similar to new_state\n",
    "    print(qml.draw(expanded_new_state, max_length=200)(params, ash_excitation))\n",
    "\n",
    "2. Filename: PQ-CNOTs.ipynb\n",
    "    It can calculate the no of CNOTs and Hadamard for H4 systems for Ground and excited state systems"
   ]
  }
 ],
 "metadata": {
  "language_info": {
   "name": "python"
  }
 },
 "nbformat": 4,
 "nbformat_minor": 2
}
