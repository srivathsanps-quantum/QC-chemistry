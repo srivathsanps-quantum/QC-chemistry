{
 "cells": [
  {
   "cell_type": "markdown",
   "metadata": {},
   "source": [
    "## SRJ"
   ]
  },
  {
   "cell_type": "markdown",
   "metadata": {},
   "source": [
    "## Adapt - GCIM"
   ]
  },
  {
   "cell_type": "markdown",
   "metadata": {},
   "source": [
    "## First step - To create Generating functions"
   ]
  },
  {
   "cell_type": "markdown",
   "metadata": {},
   "source": [
    "## Generating fns code ready.  single & 2 singles"
   ]
  },
  {
   "cell_type": "markdown",
   "metadata": {},
   "source": [
    "## Gradients added and state is ready"
   ]
  },
  {
   "cell_type": "code",
   "execution_count": 2,
   "metadata": {},
   "outputs": [
    {
     "name": "stdout",
     "output_type": "stream",
     "text": [
      "Updated hf_state is [1 1 1 1 0 0 0 0]\n",
      "HF state is -1.3325688880668924\n",
      "Excitations are [[0, 4], [0, 6], [1, 5], [1, 7], [2, 4], [2, 6], [3, 5], [3, 7]]\n",
      "After adding single gfs, len is 8\n",
      "\n",
      "\n",
      "\n",
      "\n",
      "Total len of Generating functions is 36\n",
      "The adapt iteration now is 0\n",
      "Print, if this is activated - HF state\n"
     ]
    },
    {
     "name": "stderr",
     "output_type": "stream",
     "text": [
      "/Users/pssrivathsansundar/.virtualenvs/new_venv/lib/python3.11/site-packages/pennylane_lightning/core/_serialize.py:283: ComplexWarning: Casting complex values to real discards the imaginary part\n",
      "  coeffs = np.array(coeffs).astype(self.rtype)\n",
      "/Users/pssrivathsansundar/.virtualenvs/new_venv/lib/python3.11/site-packages/pennylane_lightning/core/_serialize.py:283: ComplexWarning: Casting complex values to real discards the imaginary part\n",
      "  coeffs = np.array(coeffs).astype(self.rtype)\n",
      "/Users/pssrivathsansundar/.virtualenvs/new_venv/lib/python3.11/site-packages/pennylane_lightning/core/_serialize.py:283: ComplexWarning: Casting complex values to real discards the imaginary part\n",
      "  coeffs = np.array(coeffs).astype(self.rtype)\n",
      "/Users/pssrivathsansundar/.virtualenvs/new_venv/lib/python3.11/site-packages/pennylane_lightning/core/_serialize.py:283: ComplexWarning: Casting complex values to real discards the imaginary part\n",
      "  coeffs = np.array(coeffs).astype(self.rtype)\n"
     ]
    },
    {
     "name": "stdout",
     "output_type": "stream",
     "text": [
      "Print, if this is activated - HF state\n",
      "Print, if this is activated - HF state\n",
      "Print, if this is activated - HF state\n",
      "Print, if this is activated - HF state\n",
      "Print, if this is activated - HF state\n"
     ]
    },
    {
     "name": "stderr",
     "output_type": "stream",
     "text": [
      "/Users/pssrivathsansundar/.virtualenvs/new_venv/lib/python3.11/site-packages/pennylane_lightning/core/_serialize.py:283: ComplexWarning: Casting complex values to real discards the imaginary part\n",
      "  coeffs = np.array(coeffs).astype(self.rtype)\n",
      "/Users/pssrivathsansundar/.virtualenvs/new_venv/lib/python3.11/site-packages/pennylane_lightning/core/_serialize.py:283: ComplexWarning: Casting complex values to real discards the imaginary part\n",
      "  coeffs = np.array(coeffs).astype(self.rtype)\n",
      "/Users/pssrivathsansundar/.virtualenvs/new_venv/lib/python3.11/site-packages/pennylane_lightning/core/_serialize.py:283: ComplexWarning: Casting complex values to real discards the imaginary part\n",
      "  coeffs = np.array(coeffs).astype(self.rtype)\n",
      "/Users/pssrivathsansundar/.virtualenvs/new_venv/lib/python3.11/site-packages/pennylane_lightning/core/_serialize.py:283: ComplexWarning: Casting complex values to real discards the imaginary part\n",
      "  coeffs = np.array(coeffs).astype(self.rtype)\n"
     ]
    },
    {
     "name": "stdout",
     "output_type": "stream",
     "text": [
      "Print, if this is activated - HF state\n",
      "Print, if this is activated - HF state\n",
      "Print, if this is activated - HF state\n"
     ]
    },
    {
     "name": "stderr",
     "output_type": "stream",
     "text": [
      "/Users/pssrivathsansundar/.virtualenvs/new_venv/lib/python3.11/site-packages/pennylane_lightning/core/_serialize.py:283: ComplexWarning: Casting complex values to real discards the imaginary part\n",
      "  coeffs = np.array(coeffs).astype(self.rtype)\n"
     ]
    },
    {
     "name": "stdout",
     "output_type": "stream",
     "text": [
      "Print, if this is activated - HF state\n"
     ]
    },
    {
     "name": "stderr",
     "output_type": "stream",
     "text": [
      "/Users/pssrivathsansundar/.virtualenvs/new_venv/lib/python3.11/site-packages/pennylane_lightning/core/_serialize.py:283: ComplexWarning: Casting complex values to real discards the imaginary part\n",
      "  coeffs = np.array(coeffs).astype(self.rtype)\n"
     ]
    },
    {
     "name": "stdout",
     "output_type": "stream",
     "text": [
      "Print, if this is activated - HF state\n"
     ]
    },
    {
     "name": "stderr",
     "output_type": "stream",
     "text": [
      "/Users/pssrivathsansundar/.virtualenvs/new_venv/lib/python3.11/site-packages/pennylane_lightning/core/_serialize.py:283: ComplexWarning: Casting complex values to real discards the imaginary part\n",
      "  coeffs = np.array(coeffs).astype(self.rtype)\n"
     ]
    },
    {
     "name": "stdout",
     "output_type": "stream",
     "text": [
      "Print, if this is activated - HF state\n"
     ]
    },
    {
     "name": "stderr",
     "output_type": "stream",
     "text": [
      "/Users/pssrivathsansundar/.virtualenvs/new_venv/lib/python3.11/site-packages/pennylane_lightning/core/_serialize.py:283: ComplexWarning: Casting complex values to real discards the imaginary part\n",
      "  coeffs = np.array(coeffs).astype(self.rtype)\n"
     ]
    },
    {
     "name": "stdout",
     "output_type": "stream",
     "text": [
      "Print, if this is activated - HF state\n"
     ]
    },
    {
     "name": "stderr",
     "output_type": "stream",
     "text": [
      "/Users/pssrivathsansundar/.virtualenvs/new_venv/lib/python3.11/site-packages/pennylane_lightning/core/_serialize.py:283: ComplexWarning: Casting complex values to real discards the imaginary part\n",
      "  coeffs = np.array(coeffs).astype(self.rtype)\n"
     ]
    },
    {
     "name": "stdout",
     "output_type": "stream",
     "text": [
      "Print, if this is activated - HF state\n"
     ]
    },
    {
     "name": "stderr",
     "output_type": "stream",
     "text": [
      "/Users/pssrivathsansundar/.virtualenvs/new_venv/lib/python3.11/site-packages/pennylane_lightning/core/_serialize.py:283: ComplexWarning: Casting complex values to real discards the imaginary part\n",
      "  coeffs = np.array(coeffs).astype(self.rtype)\n"
     ]
    },
    {
     "name": "stdout",
     "output_type": "stream",
     "text": [
      "Print, if this is activated - HF state\n"
     ]
    },
    {
     "name": "stderr",
     "output_type": "stream",
     "text": [
      "/Users/pssrivathsansundar/.virtualenvs/new_venv/lib/python3.11/site-packages/pennylane_lightning/core/_serialize.py:283: ComplexWarning: Casting complex values to real discards the imaginary part\n",
      "  coeffs = np.array(coeffs).astype(self.rtype)\n"
     ]
    },
    {
     "name": "stdout",
     "output_type": "stream",
     "text": [
      "Print, if this is activated - HF state\n"
     ]
    },
    {
     "name": "stderr",
     "output_type": "stream",
     "text": [
      "/Users/pssrivathsansundar/.virtualenvs/new_venv/lib/python3.11/site-packages/pennylane_lightning/core/_serialize.py:283: ComplexWarning: Casting complex values to real discards the imaginary part\n",
      "  coeffs = np.array(coeffs).astype(self.rtype)\n"
     ]
    },
    {
     "name": "stdout",
     "output_type": "stream",
     "text": [
      "Print, if this is activated - HF state\n"
     ]
    },
    {
     "name": "stderr",
     "output_type": "stream",
     "text": [
      "/Users/pssrivathsansundar/.virtualenvs/new_venv/lib/python3.11/site-packages/pennylane_lightning/core/_serialize.py:283: ComplexWarning: Casting complex values to real discards the imaginary part\n",
      "  coeffs = np.array(coeffs).astype(self.rtype)\n"
     ]
    },
    {
     "name": "stdout",
     "output_type": "stream",
     "text": [
      "Print, if this is activated - HF state\n"
     ]
    },
    {
     "name": "stderr",
     "output_type": "stream",
     "text": [
      "/Users/pssrivathsansundar/.virtualenvs/new_venv/lib/python3.11/site-packages/pennylane_lightning/core/_serialize.py:283: ComplexWarning: Casting complex values to real discards the imaginary part\n",
      "  coeffs = np.array(coeffs).astype(self.rtype)\n"
     ]
    },
    {
     "name": "stdout",
     "output_type": "stream",
     "text": [
      "Print, if this is activated - HF state\n"
     ]
    },
    {
     "name": "stderr",
     "output_type": "stream",
     "text": [
      "/Users/pssrivathsansundar/.virtualenvs/new_venv/lib/python3.11/site-packages/pennylane_lightning/core/_serialize.py:283: ComplexWarning: Casting complex values to real discards the imaginary part\n",
      "  coeffs = np.array(coeffs).astype(self.rtype)\n"
     ]
    },
    {
     "name": "stdout",
     "output_type": "stream",
     "text": [
      "Print, if this is activated - HF state\n"
     ]
    },
    {
     "name": "stderr",
     "output_type": "stream",
     "text": [
      "/Users/pssrivathsansundar/.virtualenvs/new_venv/lib/python3.11/site-packages/pennylane_lightning/core/_serialize.py:283: ComplexWarning: Casting complex values to real discards the imaginary part\n",
      "  coeffs = np.array(coeffs).astype(self.rtype)\n"
     ]
    },
    {
     "name": "stdout",
     "output_type": "stream",
     "text": [
      "Print, if this is activated - HF state\n"
     ]
    },
    {
     "name": "stderr",
     "output_type": "stream",
     "text": [
      "/Users/pssrivathsansundar/.virtualenvs/new_venv/lib/python3.11/site-packages/pennylane_lightning/core/_serialize.py:283: ComplexWarning: Casting complex values to real discards the imaginary part\n",
      "  coeffs = np.array(coeffs).astype(self.rtype)\n"
     ]
    },
    {
     "name": "stdout",
     "output_type": "stream",
     "text": [
      "Print, if this is activated - HF state\n"
     ]
    },
    {
     "name": "stderr",
     "output_type": "stream",
     "text": [
      "/Users/pssrivathsansundar/.virtualenvs/new_venv/lib/python3.11/site-packages/pennylane_lightning/core/_serialize.py:283: ComplexWarning: Casting complex values to real discards the imaginary part\n",
      "  coeffs = np.array(coeffs).astype(self.rtype)\n"
     ]
    },
    {
     "name": "stdout",
     "output_type": "stream",
     "text": [
      "Print, if this is activated - HF state\n"
     ]
    },
    {
     "name": "stderr",
     "output_type": "stream",
     "text": [
      "/Users/pssrivathsansundar/.virtualenvs/new_venv/lib/python3.11/site-packages/pennylane_lightning/core/_serialize.py:283: ComplexWarning: Casting complex values to real discards the imaginary part\n",
      "  coeffs = np.array(coeffs).astype(self.rtype)\n"
     ]
    },
    {
     "name": "stdout",
     "output_type": "stream",
     "text": [
      "Print, if this is activated - HF state\n"
     ]
    },
    {
     "name": "stderr",
     "output_type": "stream",
     "text": [
      "/Users/pssrivathsansundar/.virtualenvs/new_venv/lib/python3.11/site-packages/pennylane_lightning/core/_serialize.py:283: ComplexWarning: Casting complex values to real discards the imaginary part\n",
      "  coeffs = np.array(coeffs).astype(self.rtype)\n"
     ]
    },
    {
     "name": "stdout",
     "output_type": "stream",
     "text": [
      "Print, if this is activated - HF state\n"
     ]
    },
    {
     "name": "stderr",
     "output_type": "stream",
     "text": [
      "/Users/pssrivathsansundar/.virtualenvs/new_venv/lib/python3.11/site-packages/pennylane_lightning/core/_serialize.py:283: ComplexWarning: Casting complex values to real discards the imaginary part\n",
      "  coeffs = np.array(coeffs).astype(self.rtype)\n"
     ]
    },
    {
     "name": "stdout",
     "output_type": "stream",
     "text": [
      "Print, if this is activated - HF state\n"
     ]
    },
    {
     "name": "stderr",
     "output_type": "stream",
     "text": [
      "/Users/pssrivathsansundar/.virtualenvs/new_venv/lib/python3.11/site-packages/pennylane_lightning/core/_serialize.py:283: ComplexWarning: Casting complex values to real discards the imaginary part\n",
      "  coeffs = np.array(coeffs).astype(self.rtype)\n",
      "/Users/pssrivathsansundar/.virtualenvs/new_venv/lib/python3.11/site-packages/pennylane_lightning/core/_serialize.py:283: ComplexWarning: Casting complex values to real discards the imaginary part\n",
      "  coeffs = np.array(coeffs).astype(self.rtype)\n",
      "/Users/pssrivathsansundar/.virtualenvs/new_venv/lib/python3.11/site-packages/pennylane_lightning/core/_serialize.py:283: ComplexWarning: Casting complex values to real discards the imaginary part\n",
      "  coeffs = np.array(coeffs).astype(self.rtype)\n"
     ]
    },
    {
     "name": "stdout",
     "output_type": "stream",
     "text": [
      "The highest operator value is 0.31004515885821077 for operator a⁺(2) a⁺(3) a(6) a(7)\n",
      "Highest gradient excitation is [2, 3, 6, 7]\n",
      "ash_excitation is [[2, 3, 6, 7]]\n",
      "0: ──X───────────┤  State\n",
      "1: ──X───────────┤  State\n",
      "2: ──X─╭G²(0.79)─┤  State\n",
      "3: ──X─├G²(0.79)─┤  State\n",
      "6: ────├G²(0.79)─┤  State\n",
      "7: ────╰G²(0.79)─┤  State\n",
      "State count after Generating function is {'11000011': 154, '11110000': 846}\n",
      "The adapt iteration now is 1\n"
     ]
    },
    {
     "name": "stderr",
     "output_type": "stream",
     "text": [
      "/Users/pssrivathsansundar/.virtualenvs/new_venv/lib/python3.11/site-packages/pennylane_lightning/core/_serialize.py:283: ComplexWarning: Casting complex values to real discards the imaginary part\n",
      "  coeffs = np.array(coeffs).astype(self.rtype)\n",
      "/Users/pssrivathsansundar/.virtualenvs/new_venv/lib/python3.11/site-packages/pennylane_lightning/core/_serialize.py:283: ComplexWarning: Casting complex values to real discards the imaginary part\n",
      "  coeffs = np.array(coeffs).astype(self.rtype)\n",
      "/Users/pssrivathsansundar/.virtualenvs/new_venv/lib/python3.11/site-packages/pennylane_lightning/core/_serialize.py:283: ComplexWarning: Casting complex values to real discards the imaginary part\n",
      "  coeffs = np.array(coeffs).astype(self.rtype)\n",
      "/Users/pssrivathsansundar/.virtualenvs/new_venv/lib/python3.11/site-packages/pennylane_lightning/core/_serialize.py:283: ComplexWarning: Casting complex values to real discards the imaginary part\n",
      "  coeffs = np.array(coeffs).astype(self.rtype)\n",
      "/Users/pssrivathsansundar/.virtualenvs/new_venv/lib/python3.11/site-packages/pennylane_lightning/core/_serialize.py:283: ComplexWarning: Casting complex values to real discards the imaginary part\n",
      "  coeffs = np.array(coeffs).astype(self.rtype)\n",
      "/Users/pssrivathsansundar/.virtualenvs/new_venv/lib/python3.11/site-packages/pennylane_lightning/core/_serialize.py:283: ComplexWarning: Casting complex values to real discards the imaginary part\n",
      "  coeffs = np.array(coeffs).astype(self.rtype)\n",
      "/Users/pssrivathsansundar/.virtualenvs/new_venv/lib/python3.11/site-packages/pennylane_lightning/core/_serialize.py:283: ComplexWarning: Casting complex values to real discards the imaginary part\n",
      "  coeffs = np.array(coeffs).astype(self.rtype)\n",
      "/Users/pssrivathsansundar/.virtualenvs/new_venv/lib/python3.11/site-packages/pennylane_lightning/core/_serialize.py:283: ComplexWarning: Casting complex values to real discards the imaginary part\n",
      "  coeffs = np.array(coeffs).astype(self.rtype)\n",
      "/Users/pssrivathsansundar/.virtualenvs/new_venv/lib/python3.11/site-packages/pennylane_lightning/core/_serialize.py:283: ComplexWarning: Casting complex values to real discards the imaginary part\n",
      "  coeffs = np.array(coeffs).astype(self.rtype)\n",
      "/Users/pssrivathsansundar/.virtualenvs/new_venv/lib/python3.11/site-packages/pennylane_lightning/core/_serialize.py:283: ComplexWarning: Casting complex values to real discards the imaginary part\n",
      "  coeffs = np.array(coeffs).astype(self.rtype)\n",
      "/Users/pssrivathsansundar/.virtualenvs/new_venv/lib/python3.11/site-packages/pennylane_lightning/core/_serialize.py:283: ComplexWarning: Casting complex values to real discards the imaginary part\n",
      "  coeffs = np.array(coeffs).astype(self.rtype)\n",
      "/Users/pssrivathsansundar/.virtualenvs/new_venv/lib/python3.11/site-packages/pennylane_lightning/core/_serialize.py:283: ComplexWarning: Casting complex values to real discards the imaginary part\n",
      "  coeffs = np.array(coeffs).astype(self.rtype)\n",
      "/Users/pssrivathsansundar/.virtualenvs/new_venv/lib/python3.11/site-packages/pennylane_lightning/core/_serialize.py:283: ComplexWarning: Casting complex values to real discards the imaginary part\n",
      "  coeffs = np.array(coeffs).astype(self.rtype)\n",
      "/Users/pssrivathsansundar/.virtualenvs/new_venv/lib/python3.11/site-packages/pennylane_lightning/core/_serialize.py:283: ComplexWarning: Casting complex values to real discards the imaginary part\n",
      "  coeffs = np.array(coeffs).astype(self.rtype)\n",
      "/Users/pssrivathsansundar/.virtualenvs/new_venv/lib/python3.11/site-packages/pennylane_lightning/core/_serialize.py:283: ComplexWarning: Casting complex values to real discards the imaginary part\n",
      "  coeffs = np.array(coeffs).astype(self.rtype)\n",
      "/Users/pssrivathsansundar/.virtualenvs/new_venv/lib/python3.11/site-packages/pennylane_lightning/core/_serialize.py:283: ComplexWarning: Casting complex values to real discards the imaginary part\n",
      "  coeffs = np.array(coeffs).astype(self.rtype)\n",
      "/Users/pssrivathsansundar/.virtualenvs/new_venv/lib/python3.11/site-packages/pennylane_lightning/core/_serialize.py:283: ComplexWarning: Casting complex values to real discards the imaginary part\n",
      "  coeffs = np.array(coeffs).astype(self.rtype)\n",
      "/Users/pssrivathsansundar/.virtualenvs/new_venv/lib/python3.11/site-packages/pennylane_lightning/core/_serialize.py:283: ComplexWarning: Casting complex values to real discards the imaginary part\n",
      "  coeffs = np.array(coeffs).astype(self.rtype)\n",
      "/Users/pssrivathsansundar/.virtualenvs/new_venv/lib/python3.11/site-packages/pennylane_lightning/core/_serialize.py:283: ComplexWarning: Casting complex values to real discards the imaginary part\n",
      "  coeffs = np.array(coeffs).astype(self.rtype)\n",
      "/Users/pssrivathsansundar/.virtualenvs/new_venv/lib/python3.11/site-packages/pennylane_lightning/core/_serialize.py:283: ComplexWarning: Casting complex values to real discards the imaginary part\n",
      "  coeffs = np.array(coeffs).astype(self.rtype)\n",
      "/Users/pssrivathsansundar/.virtualenvs/new_venv/lib/python3.11/site-packages/pennylane_lightning/core/_serialize.py:283: ComplexWarning: Casting complex values to real discards the imaginary part\n",
      "  coeffs = np.array(coeffs).astype(self.rtype)\n",
      "/Users/pssrivathsansundar/.virtualenvs/new_venv/lib/python3.11/site-packages/pennylane_lightning/core/_serialize.py:283: ComplexWarning: Casting complex values to real discards the imaginary part\n",
      "  coeffs = np.array(coeffs).astype(self.rtype)\n",
      "/Users/pssrivathsansundar/.virtualenvs/new_venv/lib/python3.11/site-packages/pennylane_lightning/core/_serialize.py:283: ComplexWarning: Casting complex values to real discards the imaginary part\n",
      "  coeffs = np.array(coeffs).astype(self.rtype)\n",
      "/Users/pssrivathsansundar/.virtualenvs/new_venv/lib/python3.11/site-packages/pennylane_lightning/core/_serialize.py:283: ComplexWarning: Casting complex values to real discards the imaginary part\n",
      "  coeffs = np.array(coeffs).astype(self.rtype)\n",
      "/Users/pssrivathsansundar/.virtualenvs/new_venv/lib/python3.11/site-packages/pennylane_lightning/core/_serialize.py:283: ComplexWarning: Casting complex values to real discards the imaginary part\n",
      "  coeffs = np.array(coeffs).astype(self.rtype)\n",
      "/Users/pssrivathsansundar/.virtualenvs/new_venv/lib/python3.11/site-packages/pennylane_lightning/core/_serialize.py:283: ComplexWarning: Casting complex values to real discards the imaginary part\n",
      "  coeffs = np.array(coeffs).astype(self.rtype)\n"
     ]
    },
    {
     "name": "stdout",
     "output_type": "stream",
     "text": [
      "The highest operator value is 0.36584364328705454 for operator a⁺(0) a⁺(3) a(5) a(6)\n",
      "Highest gradient excitation is [0, 3, 5, 6]\n",
      "ash_excitation is [[2, 3, 6, 7], [0, 3, 5, 6]]\n",
      "0: ──X───────────╭G²(0.79)─┤  State\n",
      "1: ──X───────────│─────────┤  State\n",
      "2: ──X─╭G²(0.79)─│─────────┤  State\n",
      "3: ──X─├G²(0.79)─├G²(0.79)─┤  State\n",
      "5: ────│─────────├G²(0.79)─┤  State\n",
      "6: ────├G²(0.79)─╰G²(0.79)─┤  State\n",
      "7: ────╰G²(0.79)───────────┤  State\n",
      "State count after Generating function is {'01100110': 139, '11000011': 155, '11110000': 706}\n",
      "The adapt iteration now is 2\n"
     ]
    },
    {
     "name": "stderr",
     "output_type": "stream",
     "text": [
      "/Users/pssrivathsansundar/.virtualenvs/new_venv/lib/python3.11/site-packages/pennylane_lightning/core/_serialize.py:283: ComplexWarning: Casting complex values to real discards the imaginary part\n",
      "  coeffs = np.array(coeffs).astype(self.rtype)\n",
      "/Users/pssrivathsansundar/.virtualenvs/new_venv/lib/python3.11/site-packages/pennylane_lightning/core/_serialize.py:283: ComplexWarning: Casting complex values to real discards the imaginary part\n",
      "  coeffs = np.array(coeffs).astype(self.rtype)\n",
      "/Users/pssrivathsansundar/.virtualenvs/new_venv/lib/python3.11/site-packages/pennylane_lightning/core/_serialize.py:283: ComplexWarning: Casting complex values to real discards the imaginary part\n",
      "  coeffs = np.array(coeffs).astype(self.rtype)\n",
      "/Users/pssrivathsansundar/.virtualenvs/new_venv/lib/python3.11/site-packages/pennylane_lightning/core/_serialize.py:283: ComplexWarning: Casting complex values to real discards the imaginary part\n",
      "  coeffs = np.array(coeffs).astype(self.rtype)\n",
      "/Users/pssrivathsansundar/.virtualenvs/new_venv/lib/python3.11/site-packages/pennylane_lightning/core/_serialize.py:283: ComplexWarning: Casting complex values to real discards the imaginary part\n",
      "  coeffs = np.array(coeffs).astype(self.rtype)\n",
      "/Users/pssrivathsansundar/.virtualenvs/new_venv/lib/python3.11/site-packages/pennylane_lightning/core/_serialize.py:283: ComplexWarning: Casting complex values to real discards the imaginary part\n",
      "  coeffs = np.array(coeffs).astype(self.rtype)\n",
      "/Users/pssrivathsansundar/.virtualenvs/new_venv/lib/python3.11/site-packages/pennylane_lightning/core/_serialize.py:283: ComplexWarning: Casting complex values to real discards the imaginary part\n",
      "  coeffs = np.array(coeffs).astype(self.rtype)\n",
      "/Users/pssrivathsansundar/.virtualenvs/new_venv/lib/python3.11/site-packages/pennylane_lightning/core/_serialize.py:283: ComplexWarning: Casting complex values to real discards the imaginary part\n",
      "  coeffs = np.array(coeffs).astype(self.rtype)\n",
      "/Users/pssrivathsansundar/.virtualenvs/new_venv/lib/python3.11/site-packages/pennylane_lightning/core/_serialize.py:283: ComplexWarning: Casting complex values to real discards the imaginary part\n",
      "  coeffs = np.array(coeffs).astype(self.rtype)\n",
      "/Users/pssrivathsansundar/.virtualenvs/new_venv/lib/python3.11/site-packages/pennylane_lightning/core/_serialize.py:283: ComplexWarning: Casting complex values to real discards the imaginary part\n",
      "  coeffs = np.array(coeffs).astype(self.rtype)\n",
      "/Users/pssrivathsansundar/.virtualenvs/new_venv/lib/python3.11/site-packages/pennylane_lightning/core/_serialize.py:283: ComplexWarning: Casting complex values to real discards the imaginary part\n",
      "  coeffs = np.array(coeffs).astype(self.rtype)\n",
      "/Users/pssrivathsansundar/.virtualenvs/new_venv/lib/python3.11/site-packages/pennylane_lightning/core/_serialize.py:283: ComplexWarning: Casting complex values to real discards the imaginary part\n",
      "  coeffs = np.array(coeffs).astype(self.rtype)\n",
      "/Users/pssrivathsansundar/.virtualenvs/new_venv/lib/python3.11/site-packages/pennylane_lightning/core/_serialize.py:283: ComplexWarning: Casting complex values to real discards the imaginary part\n",
      "  coeffs = np.array(coeffs).astype(self.rtype)\n",
      "/Users/pssrivathsansundar/.virtualenvs/new_venv/lib/python3.11/site-packages/pennylane_lightning/core/_serialize.py:283: ComplexWarning: Casting complex values to real discards the imaginary part\n",
      "  coeffs = np.array(coeffs).astype(self.rtype)\n",
      "/Users/pssrivathsansundar/.virtualenvs/new_venv/lib/python3.11/site-packages/pennylane_lightning/core/_serialize.py:283: ComplexWarning: Casting complex values to real discards the imaginary part\n",
      "  coeffs = np.array(coeffs).astype(self.rtype)\n",
      "/Users/pssrivathsansundar/.virtualenvs/new_venv/lib/python3.11/site-packages/pennylane_lightning/core/_serialize.py:283: ComplexWarning: Casting complex values to real discards the imaginary part\n",
      "  coeffs = np.array(coeffs).astype(self.rtype)\n",
      "/Users/pssrivathsansundar/.virtualenvs/new_venv/lib/python3.11/site-packages/pennylane_lightning/core/_serialize.py:283: ComplexWarning: Casting complex values to real discards the imaginary part\n",
      "  coeffs = np.array(coeffs).astype(self.rtype)\n",
      "/Users/pssrivathsansundar/.virtualenvs/new_venv/lib/python3.11/site-packages/pennylane_lightning/core/_serialize.py:283: ComplexWarning: Casting complex values to real discards the imaginary part\n",
      "  coeffs = np.array(coeffs).astype(self.rtype)\n",
      "/Users/pssrivathsansundar/.virtualenvs/new_venv/lib/python3.11/site-packages/pennylane_lightning/core/_serialize.py:283: ComplexWarning: Casting complex values to real discards the imaginary part\n",
      "  coeffs = np.array(coeffs).astype(self.rtype)\n",
      "/Users/pssrivathsansundar/.virtualenvs/new_venv/lib/python3.11/site-packages/pennylane_lightning/core/_serialize.py:283: ComplexWarning: Casting complex values to real discards the imaginary part\n",
      "  coeffs = np.array(coeffs).astype(self.rtype)\n",
      "/Users/pssrivathsansundar/.virtualenvs/new_venv/lib/python3.11/site-packages/pennylane_lightning/core/_serialize.py:283: ComplexWarning: Casting complex values to real discards the imaginary part\n",
      "  coeffs = np.array(coeffs).astype(self.rtype)\n",
      "/Users/pssrivathsansundar/.virtualenvs/new_venv/lib/python3.11/site-packages/pennylane_lightning/core/_serialize.py:283: ComplexWarning: Casting complex values to real discards the imaginary part\n",
      "  coeffs = np.array(coeffs).astype(self.rtype)\n",
      "/Users/pssrivathsansundar/.virtualenvs/new_venv/lib/python3.11/site-packages/pennylane_lightning/core/_serialize.py:283: ComplexWarning: Casting complex values to real discards the imaginary part\n",
      "  coeffs = np.array(coeffs).astype(self.rtype)\n",
      "/Users/pssrivathsansundar/.virtualenvs/new_venv/lib/python3.11/site-packages/pennylane_lightning/core/_serialize.py:283: ComplexWarning: Casting complex values to real discards the imaginary part\n",
      "  coeffs = np.array(coeffs).astype(self.rtype)\n"
     ]
    },
    {
     "name": "stdout",
     "output_type": "stream",
     "text": [
      "The highest operator value is 0.4153019031545082 for operator a⁺(0) a⁺(1) a(4) a(5)\n",
      "Highest gradient excitation is [0, 1, 4, 5]\n",
      "ash_excitation is [[2, 3, 6, 7], [0, 3, 5, 6], [0, 1, 4, 5]]\n",
      "0: ──X───────────╭G²(0.79)─╭G²(0.79)─┤  State\n",
      "1: ──X───────────│─────────├G²(0.79)─┤  State\n",
      "2: ──X─╭G²(0.79)─│─────────│─────────┤  State\n",
      "3: ──X─├G²(0.79)─├G²(0.79)─│─────────┤  State\n",
      "4: ────│─────────│─────────├G²(0.79)─┤  State\n",
      "5: ────│─────────├G²(0.79)─╰G²(0.79)─┤  State\n",
      "6: ────├G²(0.79)─╰G²(0.79)───────────┤  State\n",
      "7: ────╰G²(0.79)─────────────────────┤  State\n",
      "State count after Generating function is {'00001111': 15, '00111100': 109, '01100110': 118, '11000011': 130, '11110000': 628}\n",
      "The adapt iteration now is 3\n"
     ]
    },
    {
     "name": "stderr",
     "output_type": "stream",
     "text": [
      "/Users/pssrivathsansundar/.virtualenvs/new_venv/lib/python3.11/site-packages/pennylane_lightning/core/_serialize.py:283: ComplexWarning: Casting complex values to real discards the imaginary part\n",
      "  coeffs = np.array(coeffs).astype(self.rtype)\n",
      "/Users/pssrivathsansundar/.virtualenvs/new_venv/lib/python3.11/site-packages/pennylane_lightning/core/_serialize.py:283: ComplexWarning: Casting complex values to real discards the imaginary part\n",
      "  coeffs = np.array(coeffs).astype(self.rtype)\n",
      "/Users/pssrivathsansundar/.virtualenvs/new_venv/lib/python3.11/site-packages/pennylane_lightning/core/_serialize.py:283: ComplexWarning: Casting complex values to real discards the imaginary part\n",
      "  coeffs = np.array(coeffs).astype(self.rtype)\n",
      "/Users/pssrivathsansundar/.virtualenvs/new_venv/lib/python3.11/site-packages/pennylane_lightning/core/_serialize.py:283: ComplexWarning: Casting complex values to real discards the imaginary part\n",
      "  coeffs = np.array(coeffs).astype(self.rtype)\n",
      "/Users/pssrivathsansundar/.virtualenvs/new_venv/lib/python3.11/site-packages/pennylane_lightning/core/_serialize.py:283: ComplexWarning: Casting complex values to real discards the imaginary part\n",
      "  coeffs = np.array(coeffs).astype(self.rtype)\n",
      "/Users/pssrivathsansundar/.virtualenvs/new_venv/lib/python3.11/site-packages/pennylane_lightning/core/_serialize.py:283: ComplexWarning: Casting complex values to real discards the imaginary part\n",
      "  coeffs = np.array(coeffs).astype(self.rtype)\n",
      "/Users/pssrivathsansundar/.virtualenvs/new_venv/lib/python3.11/site-packages/pennylane_lightning/core/_serialize.py:283: ComplexWarning: Casting complex values to real discards the imaginary part\n",
      "  coeffs = np.array(coeffs).astype(self.rtype)\n",
      "/Users/pssrivathsansundar/.virtualenvs/new_venv/lib/python3.11/site-packages/pennylane_lightning/core/_serialize.py:283: ComplexWarning: Casting complex values to real discards the imaginary part\n",
      "  coeffs = np.array(coeffs).astype(self.rtype)\n",
      "/Users/pssrivathsansundar/.virtualenvs/new_venv/lib/python3.11/site-packages/pennylane_lightning/core/_serialize.py:283: ComplexWarning: Casting complex values to real discards the imaginary part\n",
      "  coeffs = np.array(coeffs).astype(self.rtype)\n",
      "/Users/pssrivathsansundar/.virtualenvs/new_venv/lib/python3.11/site-packages/pennylane_lightning/core/_serialize.py:283: ComplexWarning: Casting complex values to real discards the imaginary part\n",
      "  coeffs = np.array(coeffs).astype(self.rtype)\n",
      "/Users/pssrivathsansundar/.virtualenvs/new_venv/lib/python3.11/site-packages/pennylane_lightning/core/_serialize.py:283: ComplexWarning: Casting complex values to real discards the imaginary part\n",
      "  coeffs = np.array(coeffs).astype(self.rtype)\n",
      "/Users/pssrivathsansundar/.virtualenvs/new_venv/lib/python3.11/site-packages/pennylane_lightning/core/_serialize.py:283: ComplexWarning: Casting complex values to real discards the imaginary part\n",
      "  coeffs = np.array(coeffs).astype(self.rtype)\n",
      "/Users/pssrivathsansundar/.virtualenvs/new_venv/lib/python3.11/site-packages/pennylane_lightning/core/_serialize.py:283: ComplexWarning: Casting complex values to real discards the imaginary part\n",
      "  coeffs = np.array(coeffs).astype(self.rtype)\n",
      "/Users/pssrivathsansundar/.virtualenvs/new_venv/lib/python3.11/site-packages/pennylane_lightning/core/_serialize.py:283: ComplexWarning: Casting complex values to real discards the imaginary part\n",
      "  coeffs = np.array(coeffs).astype(self.rtype)\n",
      "/Users/pssrivathsansundar/.virtualenvs/new_venv/lib/python3.11/site-packages/pennylane_lightning/core/_serialize.py:283: ComplexWarning: Casting complex values to real discards the imaginary part\n",
      "  coeffs = np.array(coeffs).astype(self.rtype)\n",
      "/Users/pssrivathsansundar/.virtualenvs/new_venv/lib/python3.11/site-packages/pennylane_lightning/core/_serialize.py:283: ComplexWarning: Casting complex values to real discards the imaginary part\n",
      "  coeffs = np.array(coeffs).astype(self.rtype)\n",
      "/Users/pssrivathsansundar/.virtualenvs/new_venv/lib/python3.11/site-packages/pennylane_lightning/core/_serialize.py:283: ComplexWarning: Casting complex values to real discards the imaginary part\n",
      "  coeffs = np.array(coeffs).astype(self.rtype)\n",
      "/Users/pssrivathsansundar/.virtualenvs/new_venv/lib/python3.11/site-packages/pennylane_lightning/core/_serialize.py:283: ComplexWarning: Casting complex values to real discards the imaginary part\n",
      "  coeffs = np.array(coeffs).astype(self.rtype)\n",
      "/Users/pssrivathsansundar/.virtualenvs/new_venv/lib/python3.11/site-packages/pennylane_lightning/core/_serialize.py:283: ComplexWarning: Casting complex values to real discards the imaginary part\n",
      "  coeffs = np.array(coeffs).astype(self.rtype)\n",
      "/Users/pssrivathsansundar/.virtualenvs/new_venv/lib/python3.11/site-packages/pennylane_lightning/core/_serialize.py:283: ComplexWarning: Casting complex values to real discards the imaginary part\n",
      "  coeffs = np.array(coeffs).astype(self.rtype)\n",
      "/Users/pssrivathsansundar/.virtualenvs/new_venv/lib/python3.11/site-packages/pennylane_lightning/core/_serialize.py:283: ComplexWarning: Casting complex values to real discards the imaginary part\n",
      "  coeffs = np.array(coeffs).astype(self.rtype)\n",
      "/Users/pssrivathsansundar/.virtualenvs/new_venv/lib/python3.11/site-packages/pennylane_lightning/core/_serialize.py:283: ComplexWarning: Casting complex values to real discards the imaginary part\n",
      "  coeffs = np.array(coeffs).astype(self.rtype)\n",
      "/Users/pssrivathsansundar/.virtualenvs/new_venv/lib/python3.11/site-packages/pennylane_lightning/core/_serialize.py:283: ComplexWarning: Casting complex values to real discards the imaginary part\n",
      "  coeffs = np.array(coeffs).astype(self.rtype)\n",
      "/Users/pssrivathsansundar/.virtualenvs/new_venv/lib/python3.11/site-packages/pennylane_lightning/core/_serialize.py:283: ComplexWarning: Casting complex values to real discards the imaginary part\n",
      "  coeffs = np.array(coeffs).astype(self.rtype)\n",
      "/Users/pssrivathsansundar/.virtualenvs/new_venv/lib/python3.11/site-packages/pennylane_lightning/core/_serialize.py:283: ComplexWarning: Casting complex values to real discards the imaginary part\n",
      "  coeffs = np.array(coeffs).astype(self.rtype)\n",
      "/Users/pssrivathsansundar/.virtualenvs/new_venv/lib/python3.11/site-packages/pennylane_lightning/core/_serialize.py:283: ComplexWarning: Casting complex values to real discards the imaginary part\n",
      "  coeffs = np.array(coeffs).astype(self.rtype)\n",
      "/Users/pssrivathsansundar/.virtualenvs/new_venv/lib/python3.11/site-packages/pennylane_lightning/core/_serialize.py:283: ComplexWarning: Casting complex values to real discards the imaginary part\n",
      "  coeffs = np.array(coeffs).astype(self.rtype)\n"
     ]
    },
    {
     "name": "stdout",
     "output_type": "stream",
     "text": [
      "The highest operator value is 0.4355198437800795 for operator a⁺(1) a⁺(2) a(4) a(7)\n",
      "Highest gradient excitation is [1, 2, 4, 7]\n",
      "ash_excitation is [[2, 3, 6, 7], [0, 3, 5, 6], [0, 1, 4, 5], [1, 2, 4, 7]]\n",
      "0: ──X───────────╭G²(0.79)─╭G²(0.79)───────────┤  State\n",
      "1: ──X───────────│─────────├G²(0.79)─╭G²(0.79)─┤  State\n",
      "2: ──X─╭G²(0.79)─│─────────│─────────├G²(0.79)─┤  State\n",
      "3: ──X─├G²(0.79)─├G²(0.79)─│─────────│─────────┤  State\n",
      "4: ────│─────────│─────────├G²(0.79)─├G²(0.79)─┤  State\n",
      "5: ────│─────────├G²(0.79)─╰G²(0.79)─│─────────┤  State\n",
      "6: ────├G²(0.79)─╰G²(0.79)───────────│─────────┤  State\n",
      "7: ────╰G²(0.79)─────────────────────╰G²(0.79)─┤  State\n",
      "State count after Generating function is {'00001111': 64, '00111100': 97, '01100110': 77, '10011001': 99, '11000011': 121, '11110000': 542}\n",
      "The adapt iteration now is 4\n"
     ]
    },
    {
     "name": "stderr",
     "output_type": "stream",
     "text": [
      "/Users/pssrivathsansundar/.virtualenvs/new_venv/lib/python3.11/site-packages/pennylane_lightning/core/_serialize.py:283: ComplexWarning: Casting complex values to real discards the imaginary part\n",
      "  coeffs = np.array(coeffs).astype(self.rtype)\n",
      "/Users/pssrivathsansundar/.virtualenvs/new_venv/lib/python3.11/site-packages/pennylane_lightning/core/_serialize.py:283: ComplexWarning: Casting complex values to real discards the imaginary part\n",
      "  coeffs = np.array(coeffs).astype(self.rtype)\n",
      "/Users/pssrivathsansundar/.virtualenvs/new_venv/lib/python3.11/site-packages/pennylane_lightning/core/_serialize.py:283: ComplexWarning: Casting complex values to real discards the imaginary part\n",
      "  coeffs = np.array(coeffs).astype(self.rtype)\n",
      "/Users/pssrivathsansundar/.virtualenvs/new_venv/lib/python3.11/site-packages/pennylane_lightning/core/_serialize.py:283: ComplexWarning: Casting complex values to real discards the imaginary part\n",
      "  coeffs = np.array(coeffs).astype(self.rtype)\n",
      "/Users/pssrivathsansundar/.virtualenvs/new_venv/lib/python3.11/site-packages/pennylane_lightning/core/_serialize.py:283: ComplexWarning: Casting complex values to real discards the imaginary part\n",
      "  coeffs = np.array(coeffs).astype(self.rtype)\n",
      "/Users/pssrivathsansundar/.virtualenvs/new_venv/lib/python3.11/site-packages/pennylane_lightning/core/_serialize.py:283: ComplexWarning: Casting complex values to real discards the imaginary part\n",
      "  coeffs = np.array(coeffs).astype(self.rtype)\n",
      "/Users/pssrivathsansundar/.virtualenvs/new_venv/lib/python3.11/site-packages/pennylane_lightning/core/_serialize.py:283: ComplexWarning: Casting complex values to real discards the imaginary part\n",
      "  coeffs = np.array(coeffs).astype(self.rtype)\n",
      "/Users/pssrivathsansundar/.virtualenvs/new_venv/lib/python3.11/site-packages/pennylane_lightning/core/_serialize.py:283: ComplexWarning: Casting complex values to real discards the imaginary part\n",
      "  coeffs = np.array(coeffs).astype(self.rtype)\n",
      "/Users/pssrivathsansundar/.virtualenvs/new_venv/lib/python3.11/site-packages/pennylane_lightning/core/_serialize.py:283: ComplexWarning: Casting complex values to real discards the imaginary part\n",
      "  coeffs = np.array(coeffs).astype(self.rtype)\n",
      "/Users/pssrivathsansundar/.virtualenvs/new_venv/lib/python3.11/site-packages/pennylane_lightning/core/_serialize.py:283: ComplexWarning: Casting complex values to real discards the imaginary part\n",
      "  coeffs = np.array(coeffs).astype(self.rtype)\n",
      "/Users/pssrivathsansundar/.virtualenvs/new_venv/lib/python3.11/site-packages/pennylane_lightning/core/_serialize.py:283: ComplexWarning: Casting complex values to real discards the imaginary part\n",
      "  coeffs = np.array(coeffs).astype(self.rtype)\n",
      "/Users/pssrivathsansundar/.virtualenvs/new_venv/lib/python3.11/site-packages/pennylane_lightning/core/_serialize.py:283: ComplexWarning: Casting complex values to real discards the imaginary part\n",
      "  coeffs = np.array(coeffs).astype(self.rtype)\n",
      "/Users/pssrivathsansundar/.virtualenvs/new_venv/lib/python3.11/site-packages/pennylane_lightning/core/_serialize.py:283: ComplexWarning: Casting complex values to real discards the imaginary part\n",
      "  coeffs = np.array(coeffs).astype(self.rtype)\n",
      "/Users/pssrivathsansundar/.virtualenvs/new_venv/lib/python3.11/site-packages/pennylane_lightning/core/_serialize.py:283: ComplexWarning: Casting complex values to real discards the imaginary part\n",
      "  coeffs = np.array(coeffs).astype(self.rtype)\n",
      "/Users/pssrivathsansundar/.virtualenvs/new_venv/lib/python3.11/site-packages/pennylane_lightning/core/_serialize.py:283: ComplexWarning: Casting complex values to real discards the imaginary part\n",
      "  coeffs = np.array(coeffs).astype(self.rtype)\n",
      "/Users/pssrivathsansundar/.virtualenvs/new_venv/lib/python3.11/site-packages/pennylane_lightning/core/_serialize.py:283: ComplexWarning: Casting complex values to real discards the imaginary part\n",
      "  coeffs = np.array(coeffs).astype(self.rtype)\n",
      "/Users/pssrivathsansundar/.virtualenvs/new_venv/lib/python3.11/site-packages/pennylane_lightning/core/_serialize.py:283: ComplexWarning: Casting complex values to real discards the imaginary part\n",
      "  coeffs = np.array(coeffs).astype(self.rtype)\n",
      "/Users/pssrivathsansundar/.virtualenvs/new_venv/lib/python3.11/site-packages/pennylane_lightning/core/_serialize.py:283: ComplexWarning: Casting complex values to real discards the imaginary part\n",
      "  coeffs = np.array(coeffs).astype(self.rtype)\n",
      "/Users/pssrivathsansundar/.virtualenvs/new_venv/lib/python3.11/site-packages/pennylane_lightning/core/_serialize.py:283: ComplexWarning: Casting complex values to real discards the imaginary part\n",
      "  coeffs = np.array(coeffs).astype(self.rtype)\n",
      "/Users/pssrivathsansundar/.virtualenvs/new_venv/lib/python3.11/site-packages/pennylane_lightning/core/_serialize.py:283: ComplexWarning: Casting complex values to real discards the imaginary part\n",
      "  coeffs = np.array(coeffs).astype(self.rtype)\n",
      "/Users/pssrivathsansundar/.virtualenvs/new_venv/lib/python3.11/site-packages/pennylane_lightning/core/_serialize.py:283: ComplexWarning: Casting complex values to real discards the imaginary part\n",
      "  coeffs = np.array(coeffs).astype(self.rtype)\n",
      "/Users/pssrivathsansundar/.virtualenvs/new_venv/lib/python3.11/site-packages/pennylane_lightning/core/_serialize.py:283: ComplexWarning: Casting complex values to real discards the imaginary part\n",
      "  coeffs = np.array(coeffs).astype(self.rtype)\n",
      "/Users/pssrivathsansundar/.virtualenvs/new_venv/lib/python3.11/site-packages/pennylane_lightning/core/_serialize.py:283: ComplexWarning: Casting complex values to real discards the imaginary part\n",
      "  coeffs = np.array(coeffs).astype(self.rtype)\n",
      "/Users/pssrivathsansundar/.virtualenvs/new_venv/lib/python3.11/site-packages/pennylane_lightning/core/_serialize.py:283: ComplexWarning: Casting complex values to real discards the imaginary part\n",
      "  coeffs = np.array(coeffs).astype(self.rtype)\n"
     ]
    },
    {
     "name": "stdout",
     "output_type": "stream",
     "text": [
      "The highest operator value is 0.21111995508844048 for operator a⁺(0) a⁺(3) a(5) a(6)\n",
      "Highest gradient excitation is [0, 3, 5, 6]\n",
      "ash_excitation is [[2, 3, 6, 7], [0, 3, 5, 6], [0, 1, 4, 5], [1, 2, 4, 7], [0, 3, 5, 6]]\n",
      "0: ──X───────────╭G²(0.79)─╭G²(0.79)───────────╭G²(0.79)─┤  State\n",
      "1: ──X───────────│─────────├G²(0.79)─╭G²(0.79)─│─────────┤  State\n",
      "2: ──X─╭G²(0.79)─│─────────│─────────├G²(0.79)─│─────────┤  State\n",
      "3: ──X─├G²(0.79)─├G²(0.79)─│─────────│─────────├G²(0.79)─┤  State\n",
      "4: ────│─────────│─────────├G²(0.79)─├G²(0.79)─│─────────┤  State\n",
      "5: ────│─────────├G²(0.79)─╰G²(0.79)─│─────────├G²(0.79)─┤  State\n",
      "6: ────├G²(0.79)─╰G²(0.79)───────────│─────────╰G²(0.79)─┤  State\n",
      "7: ────╰G²(0.79)─────────────────────╰G²(0.79)───────────┤  State\n",
      "State count after Generating function is {'00001111': 138, '00111100': 116, '01100110': 299, '10011001': 29, '11000011': 125, '11110000': 293}\n"
     ]
    },
    {
     "name": "stderr",
     "output_type": "stream",
     "text": [
      "/Users/pssrivathsansundar/.virtualenvs/new_venv/lib/python3.11/site-packages/pennylane_lightning/core/_serialize.py:283: ComplexWarning: Casting complex values to real discards the imaginary part\n",
      "  coeffs = np.array(coeffs).astype(self.rtype)\n"
     ]
    },
    {
     "data": {
      "text/plain": [
       "[[2, 3, 6, 7], [0, 3, 5, 6], [0, 1, 4, 5], [1, 2, 4, 7], [0, 3, 5, 6]]"
      ]
     },
     "execution_count": 2,
     "metadata": {},
     "output_type": "execute_result"
    }
   ],
   "source": [
    "#Check the possible excitations\n",
    "import pennylane as qml\n",
    "from pennylane import qchem\n",
    "from pennylane import numpy as np\n",
    "from itertools import chain\n",
    "import itertools\n",
    "import time\n",
    "import re\n",
    "from scipy.optimize import minimize\n",
    "ash_excitation = []\n",
    "energies = []\n",
    "excitations= []\n",
    "old_grad = []\n",
    "excitationlist = []\n",
    "generatingfns = []\n",
    "theta = np.pi/4\n",
    "\n",
    "X = qml.PauliX\n",
    "Y = qml.PauliY\n",
    "Z = qml.PauliZ\n",
    "I = qml.Identity\n",
    "\n",
    "\n",
    "\n",
    "bond_length = 3.0\n",
    "symbols = [\"H\",\"H\",\"H\",\"H\"]\n",
    "electrons = 4\n",
    "orbitals = 8\n",
    "r_bohr = bond_length *1.8897259886  \n",
    "coordinates = np.array([[0.0,0.0, 1*r_bohr], [0.0, 0.0, 2*r_bohr], [0.0,0.0,3*r_bohr],[0.0, 0.0, 4*r_bohr]])\n",
    "H, qubits = qml.qchem.molecular_hamiltonian(symbols, coordinates, basis=\"sto-6g\", method=\"pyscf\")\n",
    "hf_state = qchem.hf_state(electrons, qubits)\n",
    "\n",
    "def adaptvqe(adapt_it = 4, e_th=1e-12):\n",
    "    ash_excitation = []\n",
    "    energies = []\n",
    "    excitations= []\n",
    "    #Calculation of HF state\n",
    "    dev = qml.device(\"lightning.qubit\", wires=qubits)\n",
    "    @qml.qnode(dev)\n",
    "    def circuit(hf_state, electrons, qubits, H):\n",
    "        print('Updated hf_state is', hf_state)  \n",
    "        qml.BasisState(hf_state, wires=range(qubits))\n",
    "        return qml.expval(H)  \n",
    "    \n",
    "    @qml.qnode(dev)\n",
    "    def commutator_0(H,w, k):  #H is the Hamiltonian, w is the operator, k is the basis state - HF state\n",
    "        qml.BasisState(k, wires=range(qubits))\n",
    "        res = qml.commutator(H, w)   #Calculating the commutator\n",
    "        return qml.expval(res)\n",
    "    \n",
    "    # Commutator calculation for other states except HF state\n",
    "    @qml.qnode(dev)\n",
    "    def commutator_1(H,w, k): #H is the Hamiltonian, w is the operator, k is the basis state\n",
    "        qml.StatePrep(k, wires=range(qubits))\n",
    "        res = qml.commutator(H, w) #Calculating the commutator\n",
    "        return qml.expval(res)\n",
    "    #Applyign the givens rotation to the HF state\n",
    "    @qml.qnode(dev)\n",
    "    def new_state(hf_state, ash_excitation, qubits):\n",
    "        [qml.PauliX(i) for i in np.nonzero(hf_state)[0]]\n",
    "        #qml.BasisState(hf_state, wires=range(qubits))\n",
    "        for i in range(len(ash_excitation)):\n",
    "            if len(ash_excitation[i]) == 4:\n",
    "                qml.DoubleExcitation(theta, wires=ash_excitation[i])\n",
    "            elif len(ash_excitation[i]) == 2:\n",
    "                qml.SingleExcitation(theta, wires=ash_excitation[i])\n",
    "        return qml.state()\n",
    "    \n",
    "    #Measurement of new state\n",
    "    dev_meas = qml.device(\"lightning.qubit\", wires=qubits, shots=1000)\n",
    "    @qml.qnode(dev_meas)\n",
    "    def measure(ostate):\n",
    "        qml.StatePrep(ostate, wires=range(qubits))\n",
    "        return qml.counts()\n",
    "\n",
    "\n",
    "    print('HF state is', circuit(hf_state, electrons, qubits, H))\n",
    "    singles, doubles = qml.qchem.excitations(electrons, orbitals)\n",
    "    excitationlist.extend(singles)\n",
    "    print('Excitations are', excitationlist)\n",
    "    #print('Going to print the single generating fns.')\n",
    "    for excitation in excitationlist:\n",
    "        @qml.qnode(dev)\n",
    "        def superposition1():\n",
    "            [qml.PauliX(i) for i in np.nonzero(hf_state)[0]]\n",
    "            #qml.BasisState(hf_state, wires=range(qubits))\n",
    "            #print('Single Exc going in', excitation)\n",
    "            qml.SingleExcitation(theta, wires=excitation)\n",
    "            return qml.state()\n",
    "        super1 = superposition1()\n",
    "        generatingfns.append(super1)\n",
    "        #print('S-Generating functions are', super1)\n",
    "    print('After adding single gfs, len is', len(generatingfns))\n",
    "    print('\\n\\n\\n')\n",
    "    #print('Printing 2s generating fns')\n",
    "    for i, j in itertools.combinations(excitationlist, 2):\n",
    "        if len(i) == 2 and len(j) == 2:  # Ensure both are singles\n",
    "            #print(f'Applying excitations: {i} and {j}')\n",
    "            @qml.qnode(dev)\n",
    "            def superposition2():\n",
    "                [qml.PauliX(i) for i in np.nonzero(hf_state)[0]]\n",
    "                #qml.BasisState(hf_state, wires=range(qubits))\n",
    "                qml.SingleExcitation(theta, wires=i)\n",
    "                qml.SingleExcitation(theta, wires=j)\n",
    "                return qml.state()                \n",
    "            super2= superposition2()\n",
    "            generatingfns.append(super2)\n",
    "            #print('D-Generating functions are', super2)\n",
    "    print('Total len of Generating functions is', len(generatingfns))\n",
    "    op1 =  [qml.fermi.FermiWord({(0, x[0]): \"+\", (1, x[1]): \"-\"}) for x in singles]\n",
    "    op2 =  [qml.fermi.FermiWord({(0, x[0]): \"+\", (1, x[1]): \"+\", (2, x[2]): \"-\", (3, x[3]): \"-\"})for x in doubles]\n",
    "    operator_pool = (op1) + (op2)  #Operator pool - Singles and Doubles\n",
    "    states = [hf_state]\n",
    "\n",
    "\n",
    "    for j in range(adapt_it):\n",
    "        print('The adapt iteration now is', j)  #Adapt iteration\n",
    "        max_value = float('-inf')\n",
    "        max_operator = None\n",
    "        k = states[-1] if states else hf_state  # if states is empty, fall back to hf_state\n",
    "        \n",
    "        \n",
    "        for i in operator_pool:\n",
    "            #print('The current excitation operator is', i)   #Current excitation operator - fermionic one\n",
    "            w = qml.fermi.jordan_wigner(i)  #JW transformation\n",
    "            if np.array_equal(k, hf_state): # If the current state is the HF state\n",
    "                print('Print, if this is activated - HF state')\n",
    "                current_value = abs(2*(commutator_0(H, w, k)))      #Commutator calculation is activated  \n",
    "            else:\n",
    "                current_value = abs(2*(commutator_1(H, w, k)))      #For other states, commutator calculation is activated\n",
    "            #print(f'The expectation value of {i} is', current_value)\n",
    "\n",
    "            if current_value > max_value:\n",
    "                max_value = current_value\n",
    "                max_operator = i\n",
    "\n",
    "        print(f\"The highest operator value is {max_value} for operator {max_operator}\")  #Highest operator value\n",
    "\n",
    "        # Convert operator to excitations and append to ash_excitation\n",
    "        indices_str = re.findall(r'\\d+', str(max_operator))\n",
    "        excitations1 = [int(index) for index in indices_str]\n",
    "        print('Highest gradient excitation is', excitations1)\n",
    "        ash_excitation.append(excitations1)\n",
    "        print('ash_excitation is', ash_excitation)\n",
    "        \n",
    "        \n",
    "        #Now apply the givens rotation for it. \n",
    "        ostate = new_state(hf_state, ash_excitation, qubits)\n",
    "        print(qml.draw(new_state, max_length=100)(hf_state,ash_excitation, qubits))\n",
    "        #Measuring the state\n",
    "        counts = measure(ostate)\n",
    "        print('State count after Generating function is', counts)\n",
    "        states.append(ostate)\n",
    "    return ash_excitation\n",
    "adaptvqe(adapt_it = 5, e_th=1e-12)"
   ]
  },
  {
   "cell_type": "code",
   "execution_count": null,
   "metadata": {},
   "outputs": [],
   "source": [
    "#ash_excitation_45 = [[2, 3, 6, 7], [0, 3, 5, 6], [0, 1, 4, 5], [1, 2, 4, 7], [0, 3, 5, 6]]\n",
    "#ash_excitation_90 = [[2, 3, 6, 7], [0, 3, 5, 6], [0, 1, 4, 5], [0, 3, 5, 6], [0, 3, 5, 6]]"
   ]
  },
  {
   "cell_type": "markdown",
   "metadata": {},
   "source": [
    "## Measurement of shots"
   ]
  },
  {
   "cell_type": "code",
   "execution_count": 10,
   "metadata": {},
   "outputs": [
    {
     "name": "stdout",
     "output_type": "stream",
     "text": [
      "Counts for generating function 0: {'01111000': 153, '11110000': 847}\n",
      "Counts for generating function 1: {'01110010': 148, '11110000': 852}\n",
      "Counts for generating function 2: {'10110100': 143, '11110000': 857}\n",
      "Counts for generating function 3: {'10110001': 137, '11110000': 863}\n",
      "Counts for generating function 4: {'11011000': 138, '11110000': 862}\n",
      "Counts for generating function 5: {'11010010': 140, '11110000': 860}\n",
      "Counts for generating function 6: {'11100100': 157, '11110000': 843}\n",
      "Counts for generating function 7: {'11100001': 152, '11110000': 848}\n",
      "Counts for generating function 8: {'01110010': 118, '01111000': 130, '11110000': 752}\n",
      "Counts for generating function 9: {'00111100': 21, '01111000': 107, '10110100': 121, '11110000': 751}\n",
      "Counts for generating function 10: {'00111001': 20, '01111000': 128, '10110001': 132, '11110000': 720}\n",
      "Counts for generating function 11: {'01111000': 149, '11011000': 133, '11110000': 718}\n",
      "Counts for generating function 12: {'01011010': 20, '01111000': 125, '11010010': 126, '11110000': 729}\n",
      "Counts for generating function 13: {'01101100': 24, '01111000': 125, '11100100': 139, '11110000': 712}\n",
      "Counts for generating function 14: {'01101001': 21, '01111000': 114, '11100001': 143, '11110000': 722}\n",
      "Counts for generating function 15: {'00110110': 18, '01110010': 123, '10110100': 134, '11110000': 725}\n",
      "Counts for generating function 16: {'00110011': 16, '01110010': 142, '10110001': 129, '11110000': 713}\n",
      "Counts for generating function 17: {'01011010': 18, '01110010': 113, '11011000': 138, '11110000': 731}\n",
      "Counts for generating function 18: {'01110010': 153, '11010010': 136, '11110000': 711}\n",
      "Counts for generating function 19: {'01100110': 24, '01110010': 128, '11100100': 116, '11110000': 732}\n",
      "Counts for generating function 20: {'01100011': 25, '01110010': 125, '11100001': 124, '11110000': 726}\n",
      "Counts for generating function 21: {'10110001': 141, '10110100': 163, '11110000': 696}\n",
      "Counts for generating function 22: {'10011100': 19, '10110100': 137, '11011000': 123, '11110000': 721}\n",
      "Counts for generating function 23: {'10010110': 19, '10110100': 137, '11010010': 119, '11110000': 725}\n",
      "Counts for generating function 24: {'10110100': 151, '11100100': 131, '11110000': 718}\n",
      "Counts for generating function 25: {'10100101': 19, '10110100': 125, '11100001': 132, '11110000': 724}\n",
      "Counts for generating function 26: {'10011001': 21, '10110001': 131, '11011000': 115, '11110000': 733}\n",
      "Counts for generating function 27: {'10010011': 17, '10110001': 113, '11010010': 137, '11110000': 733}\n",
      "Counts for generating function 28: {'10100101': 24, '10110001': 130, '11100100': 138, '11110000': 708}\n",
      "Counts for generating function 29: {'10110001': 137, '11100001': 114, '11110000': 749}\n",
      "Counts for generating function 30: {'11010010': 123, '11011000': 147, '11110000': 730}\n",
      "Counts for generating function 31: {'11001100': 22, '11011000': 115, '11100100': 123, '11110000': 740}\n",
      "Counts for generating function 32: {'11001001': 31, '11011000': 126, '11100001': 113, '11110000': 730}\n",
      "Counts for generating function 33: {'11000110': 22, '11010010': 124, '11100100': 113, '11110000': 741}\n",
      "Counts for generating function 34: {'11000011': 22, '11010010': 141, '11100001': 118, '11110000': 719}\n",
      "Counts for generating function 35: {'11100001': 145, '11100100': 166, '11110000': 689}\n"
     ]
    }
   ],
   "source": [
    "# Measurement with shots\n",
    "for i in range(len(generatingfns)):\n",
    "    dev_meas = qml.device(\"lightning.qubit\", wires=qubits, shots=1000)\n",
    "    @qml.qnode(dev_meas)\n",
    "    def measure(generatingfns):\n",
    "        qml.StatePrep(generatingfns[i], wires=range(qubits))\n",
    "        return qml.counts()\n",
    "\n",
    "    counts = measure(generatingfns)\n",
    "    print(f\"Counts for generating function {i}: {counts}\")\n"
   ]
  },
  {
   "cell_type": "markdown",
   "metadata": {},
   "source": [
    "## 1st step of adding Gradients "
   ]
  },
  {
   "cell_type": "code",
   "execution_count": 12,
   "metadata": {},
   "outputs": [
    {
     "name": "stdout",
     "output_type": "stream",
     "text": [
      "-1.1078408262252624 * I(0) + 0.05063641233976406 * Z(0) + 0.002022957331019883 * (Y(0) @ Z(1) @ Z(2) @ Z(3) @ Y(4)) + 0.002022957331019883 * (X(0) @ Z(1) @ Z(2) @ Z(3) @ X(4)) + 0.04498894793099825 * Z(2) + 0.025791742201172113 * (Z(0) @ Z(2)) + 0.002118173968578603 * (Y(2) @ Z(3) @ Z(4) @ Z(5) @ Y(6)) + 0.002118173968578603 * (X(2) @ Z(3) @ Z(4) @ Z(5) @ X(6)) + -0.006238714611184543 * (Z(0) @ Y(2) @ Z(3) @ Z(4) @ Z(5) @ Y(6)) + -0.006238714611184543 * (Z(0) @ X(2) @ Z(3) @ Z(4) @ Z(5) @ X(6)) + 0.038410202743306365 * Z(4) + 0.03299377398000801 * (Z(0) @ Z(4)) + 0.03231262682525577 * Z(6) + 0.038663422764254 * (Z(0) @ Z(6)) + 0.05063641233976404 * Z(1) + 0.07316430147430078 * (Z(0) @ Z(1)) + 0.008899911824934055 * (Y(0) @ Z(2) @ Z(3) @ Y(4)) + 0.008899911824934055 * (X(0) @ Z(2) @ Z(3) @ X(4)) + 0.045126677014662324 * (Y(0) @ X(1) @ X(2) @ Y(3)) + -0.045126677014662324 * (Y(0) @ Y(1) @ X(2) @ X(3)) + -0.045126677014662324 * (X(0) @ X(1) @ Y(2) @ Y(3)) + 0.045126677014662324 * (X(0) @ Y(1) @ Y(2) @ X(3)) + -0.002930283785115105 * (Y(0) @ X(1) @ X(3) @ Z(4) @ Z(5) @ Y(6)) + -0.002930283785115105 * (Y(0) @ Y(1) @ Y(3) @ Z(4) @ Z(5) @ Y(6)) + -0.002930283785115105 * (X(0) @ X(1) @ X(3) @ Z(4) @ Z(5) @ X(6)) + -0.002930283785115105 * (X(0) @ Y(1) @ Y(3) @ Z(4) @ Z(5) @ X(6)) + 0.0020229573310198766 * (Y(1) @ Z(2) @ Z(3) @ Z(4) @ Y(5)) + 0.008899911824934057 * (Z(0) @ Y(1) @ Z(2) @ Z(3) @ Z(4) @ Y(5)) + 0.0020229573310198766 * (X(1) @ Z(2) @ Z(3) @ Z(4) @ X(5)) + 0.008899911824934057 * (Z(0) @ X(1) @ Z(2) @ Z(3) @ Z(4) @ X(5)) + 0.03821844073820562 * (Y(0) @ X(1) @ X(4) @ Y(5)) + -0.03821844073820562 * (Y(0) @ Y(1) @ X(4) @ X(5)) + -0.03821844073820562 * (X(0) @ X(1) @ Y(4) @ Y(5)) + 0.03821844073820562 * (X(0) @ Y(1) @ Y(4) @ X(5)) + 0.002930283785115105 * (Y(0) @ X(1) @ X(2) @ Z(3) @ Z(4) @ Z(5) @ Z(6) @ Y(7)) + -0.002930283785115105 * (Y(0) @ Y(1) @ X(2) @ Z(3) @ Z(4) @ Z(5) @ Z(6) @ X(7)) + -0.002930283785115105 * (X(0) @ X(1) @ Y(2) @ Z(3) @ Z(4) @ Z(5) @ Z(6) @ Y(7)) + 0.002930283785115105 * (X(0) @ Y(1) @ Y(2) @ Z(3) @ Z(4) @ Z(5) @ Z(6) @ X(7)) + 0.0355133576226046 * (Y(0) @ X(1) @ X(6) @ Y(7)) + -0.0355133576226046 * (Y(0) @ Y(1) @ X(6) @ X(7)) + -0.0355133576226046 * (X(0) @ X(1) @ Y(6) @ Y(7)) + 0.0355133576226046 * (X(0) @ Y(1) @ Y(6) @ X(7)) + 0.00825433065647086 * (Y(0) @ Z(1) @ Z(3) @ Y(4)) + 0.00825433065647086 * (X(0) @ Z(1) @ Z(3) @ X(4)) + -0.003818078211633944 * (Y(0) @ Z(1) @ X(2) @ X(4) @ Z(5) @ Y(6)) + -0.01101099694306489 * (Y(0) @ Z(1) @ Y(2) @ Y(4) @ Z(5) @ Y(6)) + -0.0071929187314309475 * (Y(0) @ Z(1) @ Y(2) @ X(4) @ Z(5) @ X(6)) + -0.0071929187314309475 * (X(0) @ Z(1) @ X(2) @ Y(4) @ Z(5) @ Y(6)) + -0.01101099694306489 * (X(0) @ Z(1) @ X(2) @ X(4) @ Z(5) @ X(6)) + -0.003818078211633944 * (X(0) @ Z(1) @ Y(2) @ Y(4) @ Z(5) @ X(6)) + 0.044988947930998245 * Z(3) + 0.07091841921583443 * (Z(0) @ Z(3)) + -0.001852441564711686 * (Y(0) @ Z(1) @ Z(2) @ Y(4)) + -0.001852441564711686 * (X(0) @ Z(1) @ Z(2) @ X(4)) + 0.010106772221182544 * (Y(0) @ Y(3) @ Z(4) @ Y(5) @ Z(1) @ Y(2)) + 0.010106772221182544 * (Y(0) @ X(3) @ Z(4) @ X(5) @ Z(1) @ Y(2)) + 0.010106772221182544 * (X(0) @ Y(3) @ Z(4) @ Y(5) @ Z(1) @ X(2)) + 0.010106772221182544 * (X(0) @ X(3) @ Z(4) @ X(5) @ Z(1) @ X(2)) + 0.034659303352371336 * (Y(0) @ Z(1) @ Z(2) @ X(3) @ X(5) @ Y(6)) + 0.034659303352371336 * (Y(0) @ Z(1) @ Z(2) @ Y(3) @ Y(5) @ Y(6)) + 0.034659303352371336 * (X(0) @ Z(1) @ Z(2) @ X(3) @ X(5) @ X(6)) + 0.034659303352371336 * (X(0) @ Z(1) @ Z(2) @ Y(3) @ Y(5) @ X(6)) + 0.002118173968578605 * (Y(3) @ Z(4) @ Z(5) @ Z(6) @ Y(7)) + -0.00916899839629965 * (Z(0) @ Y(3) @ Z(4) @ Z(5) @ Z(6) @ Y(7)) + 0.002118173968578605 * (X(3) @ Z(4) @ Z(5) @ Z(6) @ X(7)) + -0.00916899839629965 * (Z(0) @ X(3) @ Z(4) @ Z(5) @ Z(6) @ X(7)) + -0.03847738156400528 * (Y(0) @ X(3) @ X(4) @ Z(5) @ Z(6) @ Y(7) @ Z(1) @ Z(2)) + 0.03847738156400528 * (Y(0) @ Y(3) @ X(4) @ Z(5) @ Z(6) @ X(7) @ Z(1) @ Z(2)) + 0.03847738156400528 * (X(0) @ X(3) @ Y(4) @ Z(5) @ Z(6) @ Y(7) @ Z(1) @ Z(2)) + -0.03847738156400528 * (X(0) @ Y(3) @ Y(4) @ Z(5) @ Z(6) @ X(7) @ Z(1) @ Z(2)) + 0.006229806418882033 * (Y(0) @ Z(1) @ Z(2) @ Z(3) @ Y(4) @ Z(6)) + 0.006229806418882033 * (X(0) @ Z(1) @ Z(2) @ Z(3) @ X(4) @ Z(6)) + 0.038410202743306344 * Z(5) + 0.07121221471821364 * (Z(0) @ Z(5)) + -0.0021078400949041376 * (Y(0) @ Z(1) @ Z(2) @ Z(3) @ Y(4) @ Z(5)) + -0.0021078400949041376 * (X(0) @ Z(1) @ Z(2) @ Z(3) @ X(4) @ Z(5)) + -0.04567030029543623 * (Y(0) @ Y(5) @ Z(6) @ Y(7) @ Z(1) @ Y(2)) + -0.04567030029543623 * (Y(0) @ X(5) @ Z(6) @ X(7) @ Z(1) @ Y(2)) + -0.04567030029543623 * (X(0) @ Y(5) @ Z(6) @ Y(7) @ Z(1) @ X(2)) + -0.04567030029543623 * (X(0) @ X(5) @ Z(6) @ X(7) @ Z(1) @ X(2)) + -0.002927093988271954 * (Y(0) @ Z(1) @ Z(2) @ Z(3) @ Z(4) @ X(5) @ X(6) @ Y(7)) + 0.002927093988271954 * (Y(0) @ Z(1) @ Z(2) @ Z(3) @ Z(4) @ Y(5) @ X(6) @ X(7)) + 0.002927093988271954 * (X(0) @ Z(1) @ Z(2) @ Z(3) @ Z(4) @ X(5) @ Y(6) @ Y(7)) + -0.002927093988271954 * (X(0) @ Z(1) @ Z(2) @ Z(3) @ Z(4) @ Y(5) @ Y(6) @ X(7)) + 0.03231262682525582 * Z(7) + 0.07417678038685861 * (Z(0) @ Z(7)) + 0.009156900407153987 * (Y(0) @ Z(1) @ Z(2) @ Z(3) @ Y(4) @ Z(7)) + 0.009156900407153987 * (X(0) @ Z(1) @ Z(2) @ Z(3) @ X(4) @ Z(7)) + 0.025791742201172113 * (Z(1) @ Z(3)) + -0.006238714611184543 * (Z(1) @ Y(3) @ Z(4) @ Z(5) @ Z(6) @ Y(7)) + -0.006238714611184543 * (Z(1) @ X(3) @ Z(4) @ Z(5) @ Z(6) @ X(7)) + 0.03299377398000801 * (Z(1) @ Z(5)) + 0.038663422764254 * (Z(1) @ Z(7)) + 0.07091841921583443 * (Z(1) @ Z(2)) + -0.001852441564711686 * (Y(1) @ Z(3) @ Z(4) @ Y(5)) + -0.001852441564711686 * (X(1) @ Z(3) @ Z(4) @ X(5)) + 0.010106772221182544 * (Y(1) @ X(2) @ X(3) @ Y(4)) + -0.010106772221182544 * (Y(1) @ Y(2) @ X(3) @ X(4)) + -0.010106772221182544 * (X(1) @ X(2) @ Y(3) @ Y(4)) + 0.010106772221182544 * (X(1) @ Y(2) @ Y(3) @ X(4)) + 0.034659303352371336 * (Y(1) @ X(2) @ X(4) @ Z(5) @ Z(6) @ Y(7)) + 0.034659303352371336 * (Y(1) @ Y(2) @ Y(4) @ Z(5) @ Z(6) @ Y(7)) + 0.034659303352371336 * (X(1) @ X(2) @ X(4) @ Z(5) @ Z(6) @ X(7)) + 0.034659303352371336 * (X(1) @ Y(2) @ Y(4) @ Z(5) @ Z(6) @ X(7)) + -0.00916899839629965 * (Z(1) @ Y(2) @ Z(3) @ Z(4) @ Z(5) @ Y(6)) + -0.00916899839629965 * (Z(1) @ X(2) @ Z(3) @ Z(4) @ Z(5) @ X(6)) + -0.03847738156400528 * (Y(1) @ X(2) @ X(5) @ Y(6)) + 0.03847738156400528 * (Y(1) @ Y(2) @ X(5) @ X(6)) + 0.03847738156400528 * (X(1) @ X(2) @ Y(5) @ Y(6)) + -0.03847738156400528 * (X(1) @ Y(2) @ Y(5) @ X(6)) + 0.00825433065647086 * (Y(1) @ Z(2) @ Z(4) @ Y(5)) + 0.00825433065647086 * (X(1) @ Z(2) @ Z(4) @ X(5)) + -0.003818078211633944 * (Y(1) @ Z(2) @ X(3) @ X(5) @ Z(6) @ Y(7)) + -0.01101099694306489 * (Y(1) @ Z(2) @ Y(3) @ Y(5) @ Z(6) @ Y(7)) + -0.0071929187314309475 * (Y(1) @ Z(2) @ Y(3) @ X(5) @ Z(6) @ X(7)) + -0.0071929187314309475 * (X(1) @ Z(2) @ X(3) @ Y(5) @ Z(6) @ Y(7)) + -0.01101099694306489 * (X(1) @ Z(2) @ X(3) @ X(5) @ Z(6) @ X(7)) + -0.003818078211633944 * (X(1) @ Z(2) @ Y(3) @ Y(5) @ Z(6) @ X(7)) + 0.07121221471821364 * (Z(1) @ Z(4)) + -0.0021078400949041376 * (Y(1) @ Z(2) @ Z(3) @ Y(5)) + -0.0021078400949041376 * (X(1) @ Z(2) @ Z(3) @ X(5)) + -0.04567030029543623 * (Y(1) @ Y(4) @ Z(5) @ Y(6) @ Z(2) @ Y(3)) + -0.04567030029543623 * (Y(1) @ X(4) @ Z(5) @ X(6) @ Z(2) @ Y(3)) + -0.04567030029543623 * (X(1) @ Y(4) @ Z(5) @ Y(6) @ Z(2) @ X(3)) + -0.04567030029543623 * (X(1) @ X(4) @ Z(5) @ X(6) @ Z(2) @ X(3)) + 0.0029270939882719543 * (Y(1) @ Z(2) @ Z(3) @ X(4) @ X(6) @ Y(7)) + 0.0029270939882719543 * (Y(1) @ Z(2) @ Z(3) @ Y(4) @ Y(6) @ Y(7)) + 0.0029270939882719543 * (X(1) @ Z(2) @ Z(3) @ X(4) @ X(6) @ X(7)) + 0.0029270939882719543 * (X(1) @ Z(2) @ Z(3) @ Y(4) @ Y(6) @ X(7)) + 0.006229806418882033 * (Y(1) @ Z(2) @ Z(3) @ Z(4) @ Y(5) @ Z(7)) + 0.006229806418882033 * (X(1) @ Z(2) @ Z(3) @ Z(4) @ X(5) @ Z(7)) + 0.07417678038685861 * (Z(1) @ Z(6)) + 0.009156900407153987 * (Y(1) @ Z(2) @ Z(3) @ Z(4) @ Y(5) @ Z(6)) + 0.009156900407153987 * (X(1) @ Z(2) @ Z(3) @ Z(4) @ X(5) @ Z(6)) + 0.03449388714821694 * (Z(2) @ Z(4)) + 0.03312340473075564 * (Z(2) @ Z(6)) + 0.07171035452618679 * (Z(2) @ Z(3)) + 0.0016416397980988716 * (Y(2) @ Z(4) @ Z(5) @ Y(6)) + 0.0016416397980988716 * (X(2) @ Z(4) @ Z(5) @ X(6)) + 0.03757222564652405 * (Y(2) @ X(3) @ X(4) @ Y(5)) + -0.03757222564652405 * (Y(2) @ Y(3) @ X(4) @ X(5)) + -0.03757222564652405 * (X(2) @ X(3) @ Y(4) @ Y(5)) + 0.03757222564652405 * (X(2) @ Y(3) @ Y(4) @ X(5)) + 0.0016416397980988716 * (Z(2) @ Y(3) @ Z(4) @ Z(5) @ Z(6) @ Y(7)) + 0.0016416397980988716 * (Z(2) @ X(3) @ Z(4) @ Z(5) @ Z(6) @ X(7)) + 0.038755644857276346 * (Y(2) @ X(3) @ X(6) @ Y(7)) + -0.038755644857276346 * (Y(2) @ Y(3) @ X(6) @ X(7)) + -0.038755644857276346 * (X(2) @ X(3) @ Y(6) @ Y(7)) + 0.038755644857276346 * (X(2) @ Y(3) @ Y(6) @ X(7)) + -0.008355235459947366 * (Y(2) @ Z(3) @ Z(5) @ Y(6)) + -0.008355235459947366 * (X(2) @ Z(3) @ Z(5) @ X(6)) + 0.07206611279474098 * (Z(2) @ Z(5)) + 0.0019161259401052917 * (Y(2) @ Z(3) @ Z(4) @ Y(6)) + 0.0019161259401052917 * (X(2) @ Z(3) @ Z(4) @ X(6)) + -0.010271361400052657 * (Y(2) @ Y(5) @ Z(6) @ Y(7) @ Z(3) @ Y(4)) + -0.010271361400052657 * (Y(2) @ X(5) @ Z(6) @ X(7) @ Z(3) @ Y(4)) + -0.010271361400052657 * (X(2) @ Y(5) @ Z(6) @ Y(7) @ Z(3) @ X(4)) + -0.010271361400052657 * (X(2) @ X(5) @ Z(6) @ X(7) @ Z(3) @ X(4)) + 0.07187904958803198 * (Z(2) @ Z(7)) + -0.00944516690554683 * (Y(2) @ Z(3) @ Z(4) @ Z(5) @ Y(6) @ Z(7)) + -0.00944516690554683 * (X(2) @ Z(3) @ Z(4) @ Z(5) @ X(6) @ Z(7)) + 0.03449388714821694 * (Z(3) @ Z(5)) + 0.03312340473075564 * (Z(3) @ Z(7)) + 0.07206611279474098 * (Z(3) @ Z(4)) + 0.0019161259401052917 * (Y(3) @ Z(5) @ Z(6) @ Y(7)) + 0.0019161259401052917 * (X(3) @ Z(5) @ Z(6) @ X(7)) + -0.010271361400052657 * (Y(3) @ X(4) @ X(5) @ Y(6)) + 0.010271361400052657 * (Y(3) @ Y(4) @ X(5) @ X(6)) + 0.010271361400052657 * (X(3) @ X(4) @ Y(5) @ Y(6)) + -0.010271361400052657 * (X(3) @ Y(4) @ Y(5) @ X(6)) + -0.008355235459947366 * (Y(3) @ Z(4) @ Z(6) @ Y(7)) + -0.008355235459947366 * (X(3) @ Z(4) @ Z(6) @ X(7)) + 0.07187904958803198 * (Z(3) @ Z(6)) + -0.00944516690554683 * (Y(3) @ Z(4) @ Z(5) @ Y(7)) + -0.00944516690554683 * (X(3) @ Z(4) @ Z(5) @ X(7)) + 0.02594037114183719 * (Z(4) @ Z(6)) + 0.07247046642983945 * (Z(4) @ Z(5)) + 0.04625314440563809 * (Y(4) @ X(5) @ X(6) @ Y(7)) + -0.04625314440563809 * (Y(4) @ Y(5) @ X(6) @ X(7)) + -0.04625314440563809 * (X(4) @ X(5) @ Y(6) @ Y(7)) + 0.04625314440563809 * (X(4) @ Y(5) @ Y(6) @ X(7)) + 0.07219351554747527 * (Z(4) @ Z(7)) + 0.02594037114183719 * (Z(5) @ Z(7)) + 0.07219351554747527 * (Z(5) @ Z(6)) + 0.07526107314196444 * (Z(6) @ Z(7))\n"
     ]
    }
   ],
   "source": [
    "#Start with HF state\n",
    "for j in range(adapt_it):\n",
    "        print('The adapt iteration now is', j)  #Adapt iteration\n",
    "        max_value = float('-inf')\n",
    "        max_operator = None\n",
    "        k = states[-1] if states else hf_state  # if states is empty, fall back to hf_state\n",
    "       \n",
    "        for i in operator_pool:\n",
    "            #print('The current excitation operator is', i)   #Current excitation operator - fermionic one\n",
    "            w = qml.fermi.jordan_wigner(i)  #JW transformation\n",
    "            if np.array_equal(k, hf_state): # If the current state is the HF state\n",
    "                #print('Print, if this is activated - HF state')\n",
    "                current_value = abs(2*(commutator_0(H, w, k)))      #Commutator calculation is activated  \n",
    "            else:\n",
    "                current_value = abs(2*(commutator_1(H, w, k)))      #For other states, commutator calculation is activated\n",
    "            print(f'The expectation value of {i} is', current_value)\n",
    "\n",
    "            if current_value > max_value:\n",
    "                max_value = current_value\n",
    "                max_operator = i\n",
    "\n",
    "        #print(f\"The highest operator value is {max_value} for operator {max_operator}\")  #Highest operator value\n",
    "\n",
    "        # Convert operator to excitations and append to ash_excitation\n",
    "        indices_str = re.findall(r'\\d+', str(max_operator))\n",
    "        excitations = [int(index) for index in indices_str]\n",
    "        print('Highest gradient excitation is', excitations)\n",
    "        ash_excitation.append(excitations)"
   ]
  },
  {
   "cell_type": "code",
   "execution_count": null,
   "metadata": {},
   "outputs": [],
   "source": []
  }
 ],
 "metadata": {
  "kernelspec": {
   "display_name": "new_venv",
   "language": "python",
   "name": "python3"
  },
  "language_info": {
   "codemirror_mode": {
    "name": "ipython",
    "version": 3
   },
   "file_extension": ".py",
   "mimetype": "text/x-python",
   "name": "python",
   "nbconvert_exporter": "python",
   "pygments_lexer": "ipython3",
   "version": "3.11.8"
  }
 },
 "nbformat": 4,
 "nbformat_minor": 2
}
