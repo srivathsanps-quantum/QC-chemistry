{
 "cells": [
  {
   "cell_type": "markdown",
   "metadata": {},
   "source": [
    "## SRJ"
   ]
  },
  {
   "cell_type": "markdown",
   "metadata": {},
   "source": [
    "## Adapt - GCIM"
   ]
  },
  {
   "cell_type": "markdown",
   "metadata": {},
   "source": [
    "## First step - To create Generating functions"
   ]
  },
  {
   "cell_type": "markdown",
   "metadata": {},
   "source": [
    "## Generating fns code ready.  single & 2 singles"
   ]
  },
  {
   "cell_type": "markdown",
   "metadata": {},
   "source": [
    "## Gradients added and state is ready"
   ]
  },
  {
   "cell_type": "code",
   "execution_count": 1,
   "metadata": {},
   "outputs": [
    {
     "name": "stdout",
     "output_type": "stream",
     "text": [
      "Theta is 1.5707963267948966\n"
     ]
    }
   ],
   "source": [
    "#Check the possible excitations\n",
    "import pennylane as qml\n",
    "from pennylane import qchem\n",
    "from pennylane import numpy as np\n",
    "from itertools import chain\n",
    "import itertools\n",
    "import time\n",
    "import re\n",
    "import scipy\n",
    "from scipy.optimize import minimize\n",
    "ash_excitation = []\n",
    "energies = []\n",
    "excitations= []\n",
    "old_grad = []\n",
    "excitationlist = []\n",
    "generatingfns = []\n",
    "gs_energy = []\n",
    "theta = np.pi/2\n",
    "print('Theta is', theta)\n",
    "\n",
    "X = qml.PauliX\n",
    "Y = qml.PauliY\n",
    "Z = qml.PauliZ\n",
    "I = qml.Identity\n",
    "\n",
    "\n",
    "\n",
    "bond_length = 2.0\n",
    "symbols = [\"H\",\"H\",\"H\",\"H\"]\n",
    "electrons = 4\n",
    "orbitals = 8\n",
    "r_bohr = bond_length *1.8897259886 \n",
    "r_bohr = bond_length * 1.0  # Convert bond length to Bohr radius \n",
    "coordinates = np.array([[0.0,0.0, 1*r_bohr], [0.0, 0.0, 2*r_bohr], [0.0,0.0,3*r_bohr],[0.0, 0.0, 4*r_bohr]])\n",
    "H, qubits = qml.qchem.molecular_hamiltonian(symbols, coordinates, basis=\"sto-3g\", method=\"pyscf\")\n",
    "#hf_state = qchem.hf_state(electrons, qubits)\n",
    "\n",
    "def adaptvqe(adapt_it = 4, e_th=1e-12):\n",
    "    ash_excitation = []\n",
    "    energies = []\n",
    "    excitations= []\n",
    "    #Preparation of the Hartree-Fock state in the form of 2^8 states\n",
    "    dev = qml.device(\"lightning.qubit\", wires=qubits)\n",
    "    @qml.qnode(dev)\n",
    "    def hf_stateprep(wires):\n",
    "        target_state = np.zeros(2**qubits)\n",
    "        target_state[240] = 1.0 # Every molecule change, you need to change this index\n",
    "        qml.StatePrep(target_state, wires=range(qubits))\n",
    "        return qml.state()\n",
    "\n",
    "    hf_state = hf_stateprep(wires=qubits)\n",
    "    #print('HF state is', hf_state)\n",
    "\n",
    "    #Calculation of HF state\n",
    "    dev = qml.device(\"lightning.qubit\", wires=qubits)\n",
    "    @qml.qnode(dev)\n",
    "    def circuit(hf_state, electrons, qubits, H):\n",
    "        #print('Updated hf_state is', hf_state)  \n",
    "        qml.StatePrep(hf_state, wires=range(qubits))\n",
    "        return qml.expval(H)  \n",
    "    \n",
    "    @qml.qnode(dev)\n",
    "    def commutator_0(H,w, k):  #H is the Hamiltonian, w is the operator, k is the basis state - HF state\n",
    "        qml.StatePrep(k, wires=range(qubits))\n",
    "        res = qml.commutator(H, w)   #Calculating the commutator\n",
    "        return qml.expval(res)\n",
    "    \n",
    "    # Commutator calculation for other states except HF state\n",
    "    @qml.qnode(dev)\n",
    "    def commutator_1(H,w, k): #H is the Hamiltonian, w is the operator, k is the basis state\n",
    "        qml.StatePrep(k, wires=range(qubits))\n",
    "        res = qml.commutator(H, w) #Calculating the commutator\n",
    "        return qml.expval(res)\n",
    "    #Applyign the givens rotation to the HF state\n",
    "    @qml.qnode(dev)\n",
    "    def new_state(hf_state, ash_excitation, qubits):\n",
    "        qml.StatePrep(hf_state, wires=range(qubits))\n",
    "        for i in range(len(ash_excitation)):\n",
    "            if len(ash_excitation[i]) == 4:\n",
    "                qml.DoubleExcitation(theta, wires=ash_excitation[i])\n",
    "            elif len(ash_excitation[i]) == 2:\n",
    "                qml.SingleExcitation(theta, wires=ash_excitation[i])\n",
    "        return qml.state()\n",
    "    \n",
    "    #Measurement of new state\n",
    "    dev_meas = qml.device(\"lightning.qubit\", wires=qubits, shots=1000)\n",
    "    @qml.qnode(dev_meas)\n",
    "    def measure(ostate):\n",
    "        qml.StatePrep(ostate, wires=range(qubits))\n",
    "        return qml.counts()\n",
    "    \n",
    "  \n",
    "\n",
    "\n",
    "    print('HF state is', circuit(hf_state, electrons, qubits, H))\n",
    "    singles, doubles = qml.qchem.excitations(electrons, orbitals)\n",
    "\n",
    "    \n",
    "    op1 =  [qml.fermi.FermiWord({(0, x[0]): \"+\", (1, x[1]): \"-\"}) for x in singles]\n",
    "    op2 =  [qml.fermi.FermiWord({(0, x[0]): \"+\", (1, x[1]): \"+\", (2, x[2]): \"-\", (3, x[3]): \"-\"})for x in doubles]\n",
    "    operator_pool = (op1) + (op2)  #Operator pool - Singles and Doubles\n",
    "    print('The operator pool length is', len(operator_pool))\n",
    "    states = [hf_state]\n",
    "\n",
    "\n",
    "    for j in range(adapt_it):\n",
    "        print('The adapt iteration now is', j)  #Adapt iteration\n",
    "        max_value = float('-inf')\n",
    "        max_operator = None\n",
    "        k = states[-1] if states else hf_state  # if states is empty, fall back to hf_state\n",
    "        counts1 = measure(k)  #Measure the current state\n",
    "        print('The measurement of new state is', counts1)\n",
    "        for i in operator_pool:\n",
    "            print('The current excitation operator is', i)   #Current excitation operator - fermionic one\n",
    "            w = qml.fermi.jordan_wigner(i)  #JW transformation\n",
    "            if np.array_equal(k, hf_state): # If the current state is the HF state\n",
    "                #print('Print, if this is activated - HF state')\n",
    "                current_value = abs(2*(commutator_0(H, w, k)))      #Commutator calculation is activated  \n",
    "            else:\n",
    "                current_value = abs(2*(commutator_1(H, w, k)))      #For other states, commutator calculation is activated\n",
    "            print(f'The expectation value of {i} is', current_value)\n",
    "\n",
    "            if current_value > max_value:\n",
    "                max_value = current_value\n",
    "                max_operator = i\n",
    "\n",
    "        print(f\"The highest operator value is {max_value} for operator {max_operator}\")  #Highest operator value\n",
    "\n",
    "        # Convert operator to excitations and append to ash_excitation\n",
    "        indices_str = re.findall(r'\\d+', str(max_operator))\n",
    "        excitations1 = [int(index) for index in indices_str]\n",
    "        print('Highest gradient excitation is', excitations1)\n",
    "        ash_excitation.append(excitations1)\n",
    "        print('ash_excitation is', ash_excitation)\n",
    "        print('The length of ash_excitation before generating matrix is', len(ash_excitation))\n",
    "\n",
    "        \n",
    "        #Now apply the givens rotation for it. \n",
    "        ostate = new_state(hf_state, ash_excitation, qubits)\n",
    "        print(qml.draw(new_state, max_length=100)(hf_state,ash_excitation, qubits))\n",
    "        #Measuring the state\n",
    "        counts = measure(ostate)\n",
    "        print('State count after Generating function is', counts)\n",
    "        states.append(ostate)   \n",
    "        print('After adding new state, the length of states is', len(states))\n",
    "        M = np.zeros((len(states), len(states)), dtype=complex)  # Initialize H with zeros\n",
    "        S = np.zeros((len(states), len(states)), dtype=complex)  # Initialize S matrix with zeros\n",
    "        Ham_matrix = qml.matrix(H, wire_order=range(qubits))  # Get the Hamiltonian matrix\n",
    "        print('Shape of Hamiltonian matrix is', Ham_matrix.shape)\n",
    "        # Now we need to fill the H and S matrices\n",
    "        for i in range(len(states)):\n",
    "            for j in range(len(states)):\n",
    "                \n",
    "                print('The value of i and j is', i, j)\n",
    "                left_op = states[i].T.conj()\n",
    "                right_op = states[j]\n",
    "                M[i,j] = left_op.dot(Ham_matrix.dot(right_op)).real\n",
    "                print(f'The value of i and j', i, j, 'in M', M[i,j])\n",
    "                S[i,j] = left_op.dot(right_op).real\n",
    "                print(f'The value of i and j', i, j, 'is', S[i,j])\n",
    "                #S[i,j] = (states[i].conj().T) @ states[j] #<psi_i|psi_j>\n",
    "                #print(f'The value of i and j', i, j, 'is', S[i,j])\n",
    "                #M[i,j] = (states[i].conj().T) @ Ham_matrix @ states[j]\n",
    "                \n",
    "                if i != j:\n",
    "                    M[j,i] = M[i,j].conj()\n",
    "                    S[j,i] = S[i,j].conj()\n",
    "        n = S.shape[0]\n",
    "        epsilon = 1e-10\n",
    "        S_reg = S + epsilon * np.eye(n)\n",
    "        print(f'S matrix with {i} and {j} is', S)\n",
    "        print('Hamiltonian Matrix with', i, j, 'is', M)\n",
    "        eig,evec=scipy.linalg.eigh(M,S_reg)\n",
    "        print('Eigenvalues are', eig)\n",
    "        gs_energy.append(eig[0])\n",
    "        print('Ground state energy is', gs_energy) \n",
    "        \n",
    "    return ash_excitation, states,eig,gs_energy, Ham_matrix,hf_state\n"
   ]
  },
  {
   "cell_type": "code",
   "execution_count": 2,
   "metadata": {},
   "outputs": [
    {
     "name": "stdout",
     "output_type": "stream",
     "text": [
      "HF state is -2.075242826741247\n",
      "The operator pool length is 26\n",
      "The adapt iteration now is 0\n",
      "The measurement of new state is {'11110000': 1000}\n",
      "The current excitation operator is a⁺(0) a(4)\n",
      "The expectation value of a⁺(0) a(4) is 8.122859178061324e-07\n",
      "The current excitation operator is a⁺(0) a(6)\n",
      "The expectation value of a⁺(0) a(6) is 3.3817753229171372e-49\n",
      "The current excitation operator is a⁺(1) a(5)\n",
      "The expectation value of a⁺(1) a(5) is 8.122859177506212e-07\n",
      "The current excitation operator is a⁺(1) a(7)\n"
     ]
    },
    {
     "name": "stderr",
     "output_type": "stream",
     "text": [
      "/Users/pssrivathsansundar/.virtualenvs/new_venv/lib/python3.11/site-packages/pennylane_lightning/core/_serialize.py:283: ComplexWarning: Casting complex values to real discards the imaginary part\n",
      "  coeffs = np.array(coeffs).astype(self.rtype)\n",
      "/Users/pssrivathsansundar/.virtualenvs/new_venv/lib/python3.11/site-packages/pennylane_lightning/core/_serialize.py:283: ComplexWarning: Casting complex values to real discards the imaginary part\n",
      "  coeffs = np.array(coeffs).astype(self.rtype)\n",
      "/Users/pssrivathsansundar/.virtualenvs/new_venv/lib/python3.11/site-packages/pennylane_lightning/core/_serialize.py:283: ComplexWarning: Casting complex values to real discards the imaginary part\n",
      "  coeffs = np.array(coeffs).astype(self.rtype)\n",
      "/Users/pssrivathsansundar/.virtualenvs/new_venv/lib/python3.11/site-packages/pennylane_lightning/core/_serialize.py:283: ComplexWarning: Casting complex values to real discards the imaginary part\n",
      "  coeffs = np.array(coeffs).astype(self.rtype)\n"
     ]
    },
    {
     "name": "stdout",
     "output_type": "stream",
     "text": [
      "The expectation value of a⁺(1) a(7) is 0.0\n",
      "The current excitation operator is a⁺(2) a(4)\n",
      "The expectation value of a⁺(2) a(4) is 4.206725225788884e-49\n",
      "The current excitation operator is a⁺(2) a(6)\n",
      "The expectation value of a⁺(2) a(6) is 6.281947146219434e-07\n",
      "The current excitation operator is a⁺(3) a(5)\n",
      "The expectation value of a⁺(3) a(5) is 0.0\n",
      "The current excitation operator is a⁺(3) a(7)\n"
     ]
    },
    {
     "name": "stderr",
     "output_type": "stream",
     "text": [
      "/Users/pssrivathsansundar/.virtualenvs/new_venv/lib/python3.11/site-packages/pennylane_lightning/core/_serialize.py:283: ComplexWarning: Casting complex values to real discards the imaginary part\n",
      "  coeffs = np.array(coeffs).astype(self.rtype)\n",
      "/Users/pssrivathsansundar/.virtualenvs/new_venv/lib/python3.11/site-packages/pennylane_lightning/core/_serialize.py:283: ComplexWarning: Casting complex values to real discards the imaginary part\n",
      "  coeffs = np.array(coeffs).astype(self.rtype)\n",
      "/Users/pssrivathsansundar/.virtualenvs/new_venv/lib/python3.11/site-packages/pennylane_lightning/core/_serialize.py:283: ComplexWarning: Casting complex values to real discards the imaginary part\n",
      "  coeffs = np.array(coeffs).astype(self.rtype)\n",
      "/Users/pssrivathsansundar/.virtualenvs/new_venv/lib/python3.11/site-packages/pennylane_lightning/core/_serialize.py:283: ComplexWarning: Casting complex values to real discards the imaginary part\n",
      "  coeffs = np.array(coeffs).astype(self.rtype)\n"
     ]
    },
    {
     "name": "stdout",
     "output_type": "stream",
     "text": [
      "The expectation value of a⁺(3) a(7) is 6.281947146358212e-07\n",
      "The current excitation operator is a⁺(0) a⁺(1) a(4) a(5)\n"
     ]
    },
    {
     "name": "stderr",
     "output_type": "stream",
     "text": [
      "/Users/pssrivathsansundar/.virtualenvs/new_venv/lib/python3.11/site-packages/pennylane_lightning/core/_serialize.py:283: ComplexWarning: Casting complex values to real discards the imaginary part\n",
      "  coeffs = np.array(coeffs).astype(self.rtype)\n"
     ]
    },
    {
     "name": "stdout",
     "output_type": "stream",
     "text": [
      "The expectation value of a⁺(0) a⁺(1) a(4) a(5) is 0.21653611015940072\n",
      "The current excitation operator is a⁺(0) a⁺(1) a(4) a(7)\n"
     ]
    },
    {
     "name": "stderr",
     "output_type": "stream",
     "text": [
      "/Users/pssrivathsansundar/.virtualenvs/new_venv/lib/python3.11/site-packages/pennylane_lightning/core/_serialize.py:283: ComplexWarning: Casting complex values to real discards the imaginary part\n",
      "  coeffs = np.array(coeffs).astype(self.rtype)\n"
     ]
    },
    {
     "name": "stdout",
     "output_type": "stream",
     "text": [
      "The expectation value of a⁺(0) a⁺(1) a(4) a(7) is 0.0\n",
      "The current excitation operator is a⁺(0) a⁺(1) a(5) a(6)\n"
     ]
    },
    {
     "name": "stderr",
     "output_type": "stream",
     "text": [
      "/Users/pssrivathsansundar/.virtualenvs/new_venv/lib/python3.11/site-packages/pennylane_lightning/core/_serialize.py:283: ComplexWarning: Casting complex values to real discards the imaginary part\n",
      "  coeffs = np.array(coeffs).astype(self.rtype)\n"
     ]
    },
    {
     "name": "stdout",
     "output_type": "stream",
     "text": [
      "The expectation value of a⁺(0) a⁺(1) a(5) a(6) is 0.0\n",
      "The current excitation operator is a⁺(0) a⁺(1) a(6) a(7)\n"
     ]
    },
    {
     "name": "stderr",
     "output_type": "stream",
     "text": [
      "/Users/pssrivathsansundar/.virtualenvs/new_venv/lib/python3.11/site-packages/pennylane_lightning/core/_serialize.py:283: ComplexWarning: Casting complex values to real discards the imaginary part\n",
      "  coeffs = np.array(coeffs).astype(self.rtype)\n",
      "/Users/pssrivathsansundar/.virtualenvs/new_venv/lib/python3.11/site-packages/pennylane_lightning/core/_serialize.py:283: ComplexWarning: Casting complex values to real discards the imaginary part\n",
      "  coeffs = np.array(coeffs).astype(self.rtype)\n"
     ]
    },
    {
     "name": "stdout",
     "output_type": "stream",
     "text": [
      "The expectation value of a⁺(0) a⁺(1) a(6) a(7) is 0.19659726004688677\n",
      "The current excitation operator is a⁺(0) a⁺(2) a(4) a(6)\n",
      "The expectation value of a⁺(0) a⁺(2) a(4) a(6) is 0.08765873142464098\n",
      "The current excitation operator is a⁺(0) a⁺(3) a(4) a(5)\n"
     ]
    },
    {
     "name": "stderr",
     "output_type": "stream",
     "text": [
      "/Users/pssrivathsansundar/.virtualenvs/new_venv/lib/python3.11/site-packages/pennylane_lightning/core/_serialize.py:283: ComplexWarning: Casting complex values to real discards the imaginary part\n",
      "  coeffs = np.array(coeffs).astype(self.rtype)\n"
     ]
    },
    {
     "name": "stdout",
     "output_type": "stream",
     "text": [
      "The expectation value of a⁺(0) a⁺(3) a(4) a(5) is 0.0\n",
      "The current excitation operator is a⁺(0) a⁺(3) a(4) a(7)\n"
     ]
    },
    {
     "name": "stderr",
     "output_type": "stream",
     "text": [
      "/Users/pssrivathsansundar/.virtualenvs/new_venv/lib/python3.11/site-packages/pennylane_lightning/core/_serialize.py:283: ComplexWarning: Casting complex values to real discards the imaginary part\n",
      "  coeffs = np.array(coeffs).astype(self.rtype)\n"
     ]
    },
    {
     "name": "stdout",
     "output_type": "stream",
     "text": [
      "The expectation value of a⁺(0) a⁺(3) a(4) a(7) is 0.20017331750542888\n",
      "The current excitation operator is a⁺(0) a⁺(3) a(5) a(6)\n"
     ]
    },
    {
     "name": "stderr",
     "output_type": "stream",
     "text": [
      "/Users/pssrivathsansundar/.virtualenvs/new_venv/lib/python3.11/site-packages/pennylane_lightning/core/_serialize.py:283: ComplexWarning: Casting complex values to real discards the imaginary part\n",
      "  coeffs = np.array(coeffs).astype(self.rtype)\n"
     ]
    },
    {
     "name": "stdout",
     "output_type": "stream",
     "text": [
      "The expectation value of a⁺(0) a⁺(3) a(5) a(6) is 0.11251458608078789\n",
      "The current excitation operator is a⁺(0) a⁺(3) a(6) a(7)\n"
     ]
    },
    {
     "name": "stderr",
     "output_type": "stream",
     "text": [
      "/Users/pssrivathsansundar/.virtualenvs/new_venv/lib/python3.11/site-packages/pennylane_lightning/core/_serialize.py:283: ComplexWarning: Casting complex values to real discards the imaginary part\n",
      "  coeffs = np.array(coeffs).astype(self.rtype)\n"
     ]
    },
    {
     "name": "stdout",
     "output_type": "stream",
     "text": [
      "The expectation value of a⁺(0) a⁺(3) a(6) a(7) is 0.0\n",
      "The current excitation operator is a⁺(1) a⁺(2) a(4) a(5)\n"
     ]
    },
    {
     "name": "stderr",
     "output_type": "stream",
     "text": [
      "/Users/pssrivathsansundar/.virtualenvs/new_venv/lib/python3.11/site-packages/pennylane_lightning/core/_serialize.py:283: ComplexWarning: Casting complex values to real discards the imaginary part\n",
      "  coeffs = np.array(coeffs).astype(self.rtype)\n"
     ]
    },
    {
     "name": "stdout",
     "output_type": "stream",
     "text": [
      "The expectation value of a⁺(1) a⁺(2) a(4) a(5) is 0.0\n",
      "The current excitation operator is a⁺(1) a⁺(2) a(4) a(7)\n"
     ]
    },
    {
     "name": "stderr",
     "output_type": "stream",
     "text": [
      "/Users/pssrivathsansundar/.virtualenvs/new_venv/lib/python3.11/site-packages/pennylane_lightning/core/_serialize.py:283: ComplexWarning: Casting complex values to real discards the imaginary part\n",
      "  coeffs = np.array(coeffs).astype(self.rtype)\n"
     ]
    },
    {
     "name": "stdout",
     "output_type": "stream",
     "text": [
      "The expectation value of a⁺(1) a⁺(2) a(4) a(7) is 0.11251458608078789\n",
      "The current excitation operator is a⁺(1) a⁺(2) a(5) a(6)\n"
     ]
    },
    {
     "name": "stderr",
     "output_type": "stream",
     "text": [
      "/Users/pssrivathsansundar/.virtualenvs/new_venv/lib/python3.11/site-packages/pennylane_lightning/core/_serialize.py:283: ComplexWarning: Casting complex values to real discards the imaginary part\n",
      "  coeffs = np.array(coeffs).astype(self.rtype)\n"
     ]
    },
    {
     "name": "stdout",
     "output_type": "stream",
     "text": [
      "The expectation value of a⁺(1) a⁺(2) a(5) a(6) is 0.20017331750542888\n",
      "The current excitation operator is a⁺(1) a⁺(2) a(6) a(7)\n"
     ]
    },
    {
     "name": "stderr",
     "output_type": "stream",
     "text": [
      "/Users/pssrivathsansundar/.virtualenvs/new_venv/lib/python3.11/site-packages/pennylane_lightning/core/_serialize.py:283: ComplexWarning: Casting complex values to real discards the imaginary part\n",
      "  coeffs = np.array(coeffs).astype(self.rtype)\n"
     ]
    },
    {
     "name": "stdout",
     "output_type": "stream",
     "text": [
      "The expectation value of a⁺(1) a⁺(2) a(6) a(7) is 0.0\n",
      "The current excitation operator is a⁺(1) a⁺(3) a(5) a(7)\n"
     ]
    },
    {
     "name": "stderr",
     "output_type": "stream",
     "text": [
      "/Users/pssrivathsansundar/.virtualenvs/new_venv/lib/python3.11/site-packages/pennylane_lightning/core/_serialize.py:283: ComplexWarning: Casting complex values to real discards the imaginary part\n",
      "  coeffs = np.array(coeffs).astype(self.rtype)\n"
     ]
    },
    {
     "name": "stdout",
     "output_type": "stream",
     "text": [
      "The expectation value of a⁺(1) a⁺(3) a(5) a(7) is 0.08765873142464098\n",
      "The current excitation operator is a⁺(2) a⁺(3) a(4) a(5)\n"
     ]
    },
    {
     "name": "stderr",
     "output_type": "stream",
     "text": [
      "/Users/pssrivathsansundar/.virtualenvs/new_venv/lib/python3.11/site-packages/pennylane_lightning/core/_serialize.py:283: ComplexWarning: Casting complex values to real discards the imaginary part\n",
      "  coeffs = np.array(coeffs).astype(self.rtype)\n"
     ]
    },
    {
     "name": "stdout",
     "output_type": "stream",
     "text": [
      "The expectation value of a⁺(2) a⁺(3) a(4) a(5) is 0.2747856899916047\n",
      "The current excitation operator is a⁺(2) a⁺(3) a(4) a(7)\n"
     ]
    },
    {
     "name": "stderr",
     "output_type": "stream",
     "text": [
      "/Users/pssrivathsansundar/.virtualenvs/new_venv/lib/python3.11/site-packages/pennylane_lightning/core/_serialize.py:283: ComplexWarning: Casting complex values to real discards the imaginary part\n",
      "  coeffs = np.array(coeffs).astype(self.rtype)\n"
     ]
    },
    {
     "name": "stdout",
     "output_type": "stream",
     "text": [
      "The expectation value of a⁺(2) a⁺(3) a(4) a(7) is 0.0\n",
      "The current excitation operator is a⁺(2) a⁺(3) a(5) a(6)\n"
     ]
    },
    {
     "name": "stderr",
     "output_type": "stream",
     "text": [
      "/Users/pssrivathsansundar/.virtualenvs/new_venv/lib/python3.11/site-packages/pennylane_lightning/core/_serialize.py:283: ComplexWarning: Casting complex values to real discards the imaginary part\n",
      "  coeffs = np.array(coeffs).astype(self.rtype)\n"
     ]
    },
    {
     "name": "stdout",
     "output_type": "stream",
     "text": [
      "The expectation value of a⁺(2) a⁺(3) a(5) a(6) is 0.0\n",
      "The current excitation operator is a⁺(2) a⁺(3) a(6) a(7)\n"
     ]
    },
    {
     "name": "stderr",
     "output_type": "stream",
     "text": [
      "/Users/pssrivathsansundar/.virtualenvs/new_venv/lib/python3.11/site-packages/pennylane_lightning/core/_serialize.py:283: ComplexWarning: Casting complex values to real discards the imaginary part\n",
      "  coeffs = np.array(coeffs).astype(self.rtype)\n",
      "/Users/pssrivathsansundar/.virtualenvs/new_venv/lib/python3.11/site-packages/pennylane_lightning/core/_serialize.py:283: ComplexWarning: Casting complex values to real discards the imaginary part\n",
      "  coeffs = np.array(coeffs).astype(self.rtype)\n"
     ]
    },
    {
     "name": "stdout",
     "output_type": "stream",
     "text": [
      "The expectation value of a⁺(2) a⁺(3) a(6) a(7) is 0.21180078977565595\n",
      "The highest operator value is 0.2747856899916047 for operator a⁺(2) a⁺(3) a(4) a(5)\n",
      "Highest gradient excitation is [2, 3, 4, 5]\n",
      "ash_excitation is [[2, 3, 4, 5]]\n",
      "The length of ash_excitation before generating matrix is 1\n",
      "0: ─╭|Ψ⟩───────────┤  State\n",
      "1: ─├|Ψ⟩───────────┤  State\n",
      "2: ─├|Ψ⟩─╭G²(1.57)─┤  State\n",
      "3: ─├|Ψ⟩─├G²(1.57)─┤  State\n",
      "4: ─├|Ψ⟩─├G²(1.57)─┤  State\n",
      "5: ─├|Ψ⟩─╰G²(1.57)─┤  State\n",
      "6: ─├|Ψ⟩───────────┤  State\n",
      "7: ─╰|Ψ⟩───────────┤  State\n",
      "State count after Generating function is {'11001100': 511, '11110000': 489}\n",
      "After adding new state, the length of states is 2\n",
      "Shape of Hamiltonian matrix is (256, 256)\n",
      "The value of i and j is 0 0\n",
      "The value of i and j 0 0 in M (-2.0752428267412473+0j)\n",
      "The value of i and j 0 0 is (0.9999999999999996+0j)\n",
      "The value of i and j is 0 1\n",
      "The value of i and j 0 1 in M (-1.5645696877805195+0j)\n",
      "The value of i and j 0 1 is (0.7071067811865474+0j)\n",
      "The value of i and j is 1 0\n",
      "The value of i and j 1 0 in M (-1.5645696877805195+0j)\n",
      "The value of i and j 1 0 is (0.7071067811865474+0j)\n",
      "The value of i and j is 1 1\n",
      "The value of i and j 1 1 in M (-1.8602495722580414+0j)\n",
      "The value of i and j 1 1 is (0.9999999999999997+0j)\n",
      "S matrix with 1 and 1 is [[1.        +0.j 0.70710678-0.j]\n",
      " [0.70710678+0.j 1.        +0.j]]\n",
      "Hamiltonian Matrix with 1 1 is [[-2.07524283+0.j -1.56456969-0.j]\n",
      " [-1.56456969+0.j -1.86024957+0.j]]\n",
      "Eigenvalues are [-2.10107988 -1.34463357]\n",
      "Ground state energy is [-2.101079884736782]\n",
      "The adapt iteration now is 1\n",
      "The measurement of new state is {'11001100': 508, '11110000': 492}\n",
      "The current excitation operator is a⁺(0) a(4)\n",
      "The expectation value of a⁺(0) a(4) is 0.09620820171468267\n",
      "The current excitation operator is a⁺(0) a(6)\n"
     ]
    },
    {
     "name": "stderr",
     "output_type": "stream",
     "text": [
      "/Users/pssrivathsansundar/.virtualenvs/new_venv/lib/python3.11/site-packages/pennylane_lightning/core/_serialize.py:283: ComplexWarning: Casting complex values to real discards the imaginary part\n",
      "  coeffs = np.array(coeffs).astype(self.rtype)\n"
     ]
    },
    {
     "name": "stdout",
     "output_type": "stream",
     "text": [
      "The expectation value of a⁺(0) a(6) is 3.3817753229171372e-49\n",
      "The current excitation operator is a⁺(1) a(5)\n",
      "The expectation value of a⁺(1) a(5) is 0.09620820171468264\n",
      "The current excitation operator is a⁺(1) a(7)\n"
     ]
    },
    {
     "name": "stderr",
     "output_type": "stream",
     "text": [
      "/Users/pssrivathsansundar/.virtualenvs/new_venv/lib/python3.11/site-packages/pennylane_lightning/core/_serialize.py:283: ComplexWarning: Casting complex values to real discards the imaginary part\n",
      "  coeffs = np.array(coeffs).astype(self.rtype)\n",
      "/Users/pssrivathsansundar/.virtualenvs/new_venv/lib/python3.11/site-packages/pennylane_lightning/core/_serialize.py:283: ComplexWarning: Casting complex values to real discards the imaginary part\n",
      "  coeffs = np.array(coeffs).astype(self.rtype)\n"
     ]
    },
    {
     "name": "stdout",
     "output_type": "stream",
     "text": [
      "The expectation value of a⁺(1) a(7) is 0.0\n",
      "The current excitation operator is a⁺(2) a(4)\n",
      "The expectation value of a⁺(2) a(4) is 4.206725225788884e-49\n",
      "The current excitation operator is a⁺(2) a(6)\n"
     ]
    },
    {
     "name": "stderr",
     "output_type": "stream",
     "text": [
      "/Users/pssrivathsansundar/.virtualenvs/new_venv/lib/python3.11/site-packages/pennylane_lightning/core/_serialize.py:283: ComplexWarning: Casting complex values to real discards the imaginary part\n",
      "  coeffs = np.array(coeffs).astype(self.rtype)\n",
      "/Users/pssrivathsansundar/.virtualenvs/new_venv/lib/python3.11/site-packages/pennylane_lightning/core/_serialize.py:283: ComplexWarning: Casting complex values to real discards the imaginary part\n",
      "  coeffs = np.array(coeffs).astype(self.rtype)\n",
      "/Users/pssrivathsansundar/.virtualenvs/new_venv/lib/python3.11/site-packages/pennylane_lightning/core/_serialize.py:283: ComplexWarning: Casting complex values to real discards the imaginary part\n",
      "  coeffs = np.array(coeffs).astype(self.rtype)\n"
     ]
    },
    {
     "name": "stdout",
     "output_type": "stream",
     "text": [
      "The expectation value of a⁺(2) a(6) is 0.09810924659082285\n",
      "The current excitation operator is a⁺(3) a(5)\n",
      "The expectation value of a⁺(3) a(5) is 0.0\n",
      "The current excitation operator is a⁺(3) a(7)\n",
      "The expectation value of a⁺(3) a(7) is 0.09810924659082282\n",
      "The current excitation operator is a⁺(0) a⁺(1) a(4) a(5)\n"
     ]
    },
    {
     "name": "stderr",
     "output_type": "stream",
     "text": [
      "/Users/pssrivathsansundar/.virtualenvs/new_venv/lib/python3.11/site-packages/pennylane_lightning/core/_serialize.py:283: ComplexWarning: Casting complex values to real discards the imaginary part\n",
      "  coeffs = np.array(coeffs).astype(self.rtype)\n",
      "/Users/pssrivathsansundar/.virtualenvs/new_venv/lib/python3.11/site-packages/pennylane_lightning/core/_serialize.py:283: ComplexWarning: Casting complex values to real discards the imaginary part\n",
      "  coeffs = np.array(coeffs).astype(self.rtype)\n"
     ]
    },
    {
     "name": "stdout",
     "output_type": "stream",
     "text": [
      "The expectation value of a⁺(0) a⁺(1) a(4) a(5) is 0.04926628380455618\n",
      "The current excitation operator is a⁺(0) a⁺(1) a(4) a(7)\n"
     ]
    },
    {
     "name": "stderr",
     "output_type": "stream",
     "text": [
      "/Users/pssrivathsansundar/.virtualenvs/new_venv/lib/python3.11/site-packages/pennylane_lightning/core/_serialize.py:283: ComplexWarning: Casting complex values to real discards the imaginary part\n",
      "  coeffs = np.array(coeffs).astype(self.rtype)\n"
     ]
    },
    {
     "name": "stdout",
     "output_type": "stream",
     "text": [
      "The expectation value of a⁺(0) a⁺(1) a(4) a(7) is 0.0\n",
      "The current excitation operator is a⁺(0) a⁺(1) a(5) a(6)\n"
     ]
    },
    {
     "name": "stderr",
     "output_type": "stream",
     "text": [
      "/Users/pssrivathsansundar/.virtualenvs/new_venv/lib/python3.11/site-packages/pennylane_lightning/core/_serialize.py:283: ComplexWarning: Casting complex values to real discards the imaginary part\n",
      "  coeffs = np.array(coeffs).astype(self.rtype)\n"
     ]
    },
    {
     "name": "stdout",
     "output_type": "stream",
     "text": [
      "The expectation value of a⁺(0) a⁺(1) a(5) a(6) is 0.0\n",
      "The current excitation operator is a⁺(0) a⁺(1) a(6) a(7)\n"
     ]
    },
    {
     "name": "stderr",
     "output_type": "stream",
     "text": [
      "/Users/pssrivathsansundar/.virtualenvs/new_venv/lib/python3.11/site-packages/pennylane_lightning/core/_serialize.py:283: ComplexWarning: Casting complex values to real discards the imaginary part\n",
      "  coeffs = np.array(coeffs).astype(self.rtype)\n",
      "/Users/pssrivathsansundar/.virtualenvs/new_venv/lib/python3.11/site-packages/pennylane_lightning/core/_serialize.py:283: ComplexWarning: Casting complex values to real discards the imaginary part\n",
      "  coeffs = np.array(coeffs).astype(self.rtype)\n"
     ]
    },
    {
     "name": "stdout",
     "output_type": "stream",
     "text": [
      "The expectation value of a⁺(0) a⁺(1) a(6) a(7) is 0.19659726004688682\n",
      "The current excitation operator is a⁺(0) a⁺(2) a(4) a(6)\n",
      "The expectation value of a⁺(0) a⁺(2) a(4) a(6) is 0.10008665875271447\n",
      "The current excitation operator is a⁺(0) a⁺(3) a(4) a(5)\n"
     ]
    },
    {
     "name": "stderr",
     "output_type": "stream",
     "text": [
      "/Users/pssrivathsansundar/.virtualenvs/new_venv/lib/python3.11/site-packages/pennylane_lightning/core/_serialize.py:283: ComplexWarning: Casting complex values to real discards the imaginary part\n",
      "  coeffs = np.array(coeffs).astype(self.rtype)\n"
     ]
    },
    {
     "name": "stdout",
     "output_type": "stream",
     "text": [
      "The expectation value of a⁺(0) a⁺(3) a(4) a(5) is 0.0\n",
      "The current excitation operator is a⁺(0) a⁺(3) a(4) a(7)\n"
     ]
    },
    {
     "name": "stderr",
     "output_type": "stream",
     "text": [
      "/Users/pssrivathsansundar/.virtualenvs/new_venv/lib/python3.11/site-packages/pennylane_lightning/core/_serialize.py:283: ComplexWarning: Casting complex values to real discards the imaginary part\n",
      "  coeffs = np.array(coeffs).astype(self.rtype)\n"
     ]
    },
    {
     "name": "stdout",
     "output_type": "stream",
     "text": [
      "The expectation value of a⁺(0) a⁺(3) a(4) a(7) is 0.251994454751446\n",
      "The current excitation operator is a⁺(0) a⁺(3) a(5) a(6)\n"
     ]
    },
    {
     "name": "stderr",
     "output_type": "stream",
     "text": [
      "/Users/pssrivathsansundar/.virtualenvs/new_venv/lib/python3.11/site-packages/pennylane_lightning/core/_serialize.py:283: ComplexWarning: Casting complex values to real discards the imaginary part\n",
      "  coeffs = np.array(coeffs).astype(self.rtype)\n"
     ]
    },
    {
     "name": "stdout",
     "output_type": "stream",
     "text": [
      "The expectation value of a⁺(0) a⁺(3) a(5) a(6) is 0.15190779599873158\n",
      "The current excitation operator is a⁺(0) a⁺(3) a(6) a(7)\n"
     ]
    },
    {
     "name": "stderr",
     "output_type": "stream",
     "text": [
      "/Users/pssrivathsansundar/.virtualenvs/new_venv/lib/python3.11/site-packages/pennylane_lightning/core/_serialize.py:283: ComplexWarning: Casting complex values to real discards the imaginary part\n",
      "  coeffs = np.array(coeffs).astype(self.rtype)\n"
     ]
    },
    {
     "name": "stdout",
     "output_type": "stream",
     "text": [
      "The expectation value of a⁺(0) a⁺(3) a(6) a(7) is 0.0\n",
      "The current excitation operator is a⁺(1) a⁺(2) a(4) a(5)\n"
     ]
    },
    {
     "name": "stderr",
     "output_type": "stream",
     "text": [
      "/Users/pssrivathsansundar/.virtualenvs/new_venv/lib/python3.11/site-packages/pennylane_lightning/core/_serialize.py:283: ComplexWarning: Casting complex values to real discards the imaginary part\n",
      "  coeffs = np.array(coeffs).astype(self.rtype)\n"
     ]
    },
    {
     "name": "stdout",
     "output_type": "stream",
     "text": [
      "The expectation value of a⁺(1) a⁺(2) a(4) a(5) is 0.0\n",
      "The current excitation operator is a⁺(1) a⁺(2) a(4) a(7)\n"
     ]
    },
    {
     "name": "stderr",
     "output_type": "stream",
     "text": [
      "/Users/pssrivathsansundar/.virtualenvs/new_venv/lib/python3.11/site-packages/pennylane_lightning/core/_serialize.py:283: ComplexWarning: Casting complex values to real discards the imaginary part\n",
      "  coeffs = np.array(coeffs).astype(self.rtype)\n"
     ]
    },
    {
     "name": "stdout",
     "output_type": "stream",
     "text": [
      "The expectation value of a⁺(1) a⁺(2) a(4) a(7) is 0.1519077959987315\n",
      "The current excitation operator is a⁺(1) a⁺(2) a(5) a(6)\n",
      "The expectation value of a⁺(1) a⁺(2) a(5) a(6) is 0.25199445475144594\n",
      "The current excitation operator is a⁺(1) a⁺(2) a(6) a(7)\n"
     ]
    },
    {
     "name": "stderr",
     "output_type": "stream",
     "text": [
      "/Users/pssrivathsansundar/.virtualenvs/new_venv/lib/python3.11/site-packages/pennylane_lightning/core/_serialize.py:283: ComplexWarning: Casting complex values to real discards the imaginary part\n",
      "  coeffs = np.array(coeffs).astype(self.rtype)\n",
      "/Users/pssrivathsansundar/.virtualenvs/new_venv/lib/python3.11/site-packages/pennylane_lightning/core/_serialize.py:283: ComplexWarning: Casting complex values to real discards the imaginary part\n",
      "  coeffs = np.array(coeffs).astype(self.rtype)\n",
      "/Users/pssrivathsansundar/.virtualenvs/new_venv/lib/python3.11/site-packages/pennylane_lightning/core/_serialize.py:283: ComplexWarning: Casting complex values to real discards the imaginary part\n",
      "  coeffs = np.array(coeffs).astype(self.rtype)\n"
     ]
    },
    {
     "name": "stdout",
     "output_type": "stream",
     "text": [
      "The expectation value of a⁺(1) a⁺(2) a(6) a(7) is 0.0\n",
      "The current excitation operator is a⁺(1) a⁺(3) a(5) a(7)\n",
      "The expectation value of a⁺(1) a⁺(3) a(5) a(7) is 0.10008665875271444\n",
      "The current excitation operator is a⁺(2) a⁺(3) a(4) a(5)\n"
     ]
    },
    {
     "name": "stderr",
     "output_type": "stream",
     "text": [
      "/Users/pssrivathsansundar/.virtualenvs/new_venv/lib/python3.11/site-packages/pennylane_lightning/core/_serialize.py:283: ComplexWarning: Casting complex values to real discards the imaginary part\n",
      "  coeffs = np.array(coeffs).astype(self.rtype)\n"
     ]
    },
    {
     "name": "stdout",
     "output_type": "stream",
     "text": [
      "The expectation value of a⁺(2) a⁺(3) a(4) a(5) is 0.7047721989580158\n",
      "The current excitation operator is a⁺(2) a⁺(3) a(4) a(7)\n"
     ]
    },
    {
     "name": "stderr",
     "output_type": "stream",
     "text": [
      "/Users/pssrivathsansundar/.virtualenvs/new_venv/lib/python3.11/site-packages/pennylane_lightning/core/_serialize.py:283: ComplexWarning: Casting complex values to real discards the imaginary part\n",
      "  coeffs = np.array(coeffs).astype(self.rtype)\n"
     ]
    },
    {
     "name": "stdout",
     "output_type": "stream",
     "text": [
      "The expectation value of a⁺(2) a⁺(3) a(4) a(7) is 0.0\n",
      "The current excitation operator is a⁺(2) a⁺(3) a(5) a(6)\n"
     ]
    },
    {
     "name": "stderr",
     "output_type": "stream",
     "text": [
      "/Users/pssrivathsansundar/.virtualenvs/new_venv/lib/python3.11/site-packages/pennylane_lightning/core/_serialize.py:283: ComplexWarning: Casting complex values to real discards the imaginary part\n",
      "  coeffs = np.array(coeffs).astype(self.rtype)\n"
     ]
    },
    {
     "name": "stdout",
     "output_type": "stream",
     "text": [
      "The expectation value of a⁺(2) a⁺(3) a(5) a(6) is 0.0\n",
      "The current excitation operator is a⁺(2) a⁺(3) a(6) a(7)\n",
      "The expectation value of a⁺(2) a⁺(3) a(6) a(7) is 0.05762193361120571\n",
      "The highest operator value is 0.7047721989580158 for operator a⁺(2) a⁺(3) a(4) a(5)\n",
      "Highest gradient excitation is [2, 3, 4, 5]\n",
      "ash_excitation is [[2, 3, 4, 5], [2, 3, 4, 5]]\n",
      "The length of ash_excitation before generating matrix is 2\n",
      "0: ─╭|Ψ⟩─────────────────────┤  State\n",
      "1: ─├|Ψ⟩─────────────────────┤  State\n",
      "2: ─├|Ψ⟩─╭G²(1.57)─╭G²(1.57)─┤  State\n",
      "3: ─├|Ψ⟩─├G²(1.57)─├G²(1.57)─┤  State\n",
      "4: ─├|Ψ⟩─├G²(1.57)─├G²(1.57)─┤  State\n",
      "5: ─├|Ψ⟩─╰G²(1.57)─╰G²(1.57)─┤  State\n",
      "6: ─├|Ψ⟩─────────────────────┤  State\n",
      "7: ─╰|Ψ⟩─────────────────────┤  State\n",
      "State count after Generating function is {'11001100': 1000}\n",
      "After adding new state, the length of states is 3\n",
      "Shape of Hamiltonian matrix is (256, 256)\n",
      "The value of i and j is 0 0\n",
      "The value of i and j 0 0 in M (-2.0752428267412473+0j)\n",
      "The value of i and j 0 0 is (0.9999999999999996+0j)\n",
      "The value of i and j is 0 1\n",
      "The value of i and j 0 1 in M (-1.5645696877805195+0j)\n",
      "The value of i and j 0 1 is (0.7071067811865474+0j)\n",
      "The value of i and j is 0 2\n",
      "The value of i and j 0 2 in M (-0.13739284499580265+0j)\n",
      "The value of i and j 0 2 is (1.665334536937735e-16+0j)\n",
      "The value of i and j is 1 0\n",
      "The value of i and j 1 0 in M (-1.5645696877805195+0j)\n",
      "The value of i and j 1 0 is (0.7071067811865474+0j)\n",
      "The value of i and j is 1 1\n",
      "The value of i and j 1 1 in M (-1.8602495722580414+0j)\n",
      "The value of i and j 1 1 is (0.9999999999999997+0j)\n",
      "The value of i and j is 1 2\n",
      "The value of i and j 1 2 in M (-1.0662204867055514+0j)\n",
      "The value of i and j 1 2 is (0.7071067811865474+0j)\n",
      "The value of i and j is 2 0\n",
      "The value of i and j 2 0 in M (-0.13739284499580265+0j)\n",
      "The value of i and j 2 0 is (1.665334536937735e-16+0j)\n",
      "The value of i and j is 2 1\n",
      "The value of i and j 2 1 in M (-1.0662204867055514+0j)\n",
      "The value of i and j 2 1 is (0.7071067811865474+0j)\n",
      "The value of i and j is 2 2\n",
      "The value of i and j 2 2 in M (-1.3704706277832304+0j)\n",
      "The value of i and j 2 2 is (0.9999999999999996+0j)\n",
      "S matrix with 2 and 2 is [[1.00000000e+00+0.j 7.07106781e-01-0.j 1.66533454e-16-0.j]\n",
      " [7.07106781e-01+0.j 1.00000000e+00+0.j 7.07106781e-01-0.j]\n",
      " [1.66533454e-16+0.j 7.07106781e-01+0.j 1.00000000e+00+0.j]]\n",
      "Hamiltonian Matrix with 2 2 is [[-2.07524283+0.j -1.56456969-0.j -0.13739284-0.j]\n",
      " [-1.56456969+0.j -1.86024957+0.j -1.06622049-0.j]\n",
      " [-0.13739284+0.j -1.06622049+0.j -1.37047063+0.j]]\n",
      "Eigenvalues are [-2.10107988e+00 -1.34463357e+00 -1.66499662e-06]\n",
      "Ground state energy is [-2.101079884736782, -2.1010798847464187]\n"
     ]
    },
    {
     "name": "stderr",
     "output_type": "stream",
     "text": [
      "/Users/pssrivathsansundar/.virtualenvs/new_venv/lib/python3.11/site-packages/pennylane_lightning/core/_serialize.py:283: ComplexWarning: Casting complex values to real discards the imaginary part\n",
      "  coeffs = np.array(coeffs).astype(self.rtype)\n"
     ]
    }
   ],
   "source": [
    "ash_excitation, states,eig,gs_energy,Ham_matrix, hf_state = adaptvqe(adapt_it=2, e_th=1e-12)"
   ]
  },
  {
   "cell_type": "markdown",
   "metadata": {},
   "source": [
    "## Preparing the state"
   ]
  },
  {
   "cell_type": "code",
   "execution_count": 4,
   "metadata": {},
   "outputs": [],
   "source": [
    "dev = qml.device(\"lightning.qubit\", wires=qubits)\n",
    "@qml.qnode(dev)\n",
    "def stateprep(i):\n",
    "    qml.StatePrep(hf_state, wires=range(qubits))\n",
    "    if len(ash_excitation[i]) == 4:\n",
    "        print('DE in stateprep is ', ash_excitation[i])\n",
    "        qml.DoubleExcitation(theta, wires = ash_excitation[i])\n",
    "    elif len(ash_excitation[i]) == 2:\n",
    "        qml.SingleExcitation(theta, wires = ash_excitation[i])\n",
    "    print('Applied wires:', ash_excitation[i])\n",
    "    return qml.state()\n",
    "\n",
    "#Measurement of state\n",
    "dev_meas = qml.device(\"lightning.qubit\", wires=qubits, shots=1000)\n",
    "@qml.qnode(dev_meas)\n",
    "def measure(ostate):\n",
    "    qml.StatePrep(ostate, wires=range(qubits))\n",
    "    return qml.counts()\n"
   ]
  },
  {
   "cell_type": "markdown",
   "metadata": {},
   "source": [
    "## Operator created"
   ]
  },
  {
   "cell_type": "code",
   "execution_count": 5,
   "metadata": {},
   "outputs": [],
   "source": [
    "from pennylane.fermi import from_string\n",
    "\n",
    "def operator(ash_excitation, theta, i):\n",
    "    singles_fermi = []\n",
    "    doubles_fermi = []\n",
    "    doubles_pauli = []\n",
    "    singles_pauli = []\n",
    "    if len(ash_excitation[i]) == 4:\n",
    "        print('DE in operator calc is ', ash_excitation[i])\n",
    "        doubles_fermi.append(from_string(f\"{ash_excitation[i][3]}+ {ash_excitation[i][2]}+ {ash_excitation[i][1]}- {ash_excitation[i][0]}-\")\n",
    "                       - from_string(f\"{ash_excitation[i][0]}+ {ash_excitation[i][1]}+ {ash_excitation[i][2]}- {ash_excitation[i][3]}-\"))\n",
    "        print('Doubles fermi right now is', doubles_fermi[-1])\n",
    "        doubles_pauli.append(qml.jordan_wigner(doubles_fermi[-1], qubits))\n",
    "        k1 = qml.exp((theta/2 * doubles_pauli[0]).operation()) #Removed the range(qubits) part\n",
    "    elif len(ash_excitation[i]) == 2:\n",
    "        print('SE in operator calc is ', ash_excitation[i])\n",
    "        singles_fermi.append(from_string(f\"{ash_excitation[i][1]}+ {ash_excitation[i][0]}-\")\n",
    "                       - from_string(f\"{ash_excitation[i][0]}+ {ash_excitation[i][1]}-\"))\n",
    "        print('Singles fermi right now is', singles_fermi[-1])\n",
    "        singles_pauli.append(qml.jordan_wigner(singles_fermi[-1], qubits))\n",
    "        k1 = qml.exp((theta/2 * singles_pauli[0]).operation()) #Removed the range(qubits) part\n",
    "    exp_matrix1 = qml.matrix(k1, wire_order=range(qubits))\n",
    "    print('exp matrix1', exp_matrix1.shape)\n",
    "    return exp_matrix1"
   ]
  },
  {
   "cell_type": "markdown",
   "metadata": {},
   "source": [
    "## Gradient calculation"
   ]
  },
  {
   "cell_type": "code",
   "execution_count": 6,
   "metadata": {},
   "outputs": [
    {
     "name": "stdout",
     "output_type": "stream",
     "text": [
      "Value of L which is the excitation 2\n",
      "The shape of Heff is (2, 2)\n",
      "The value of i 0 and j is  0\n",
      "DE in stateprep is  [2, 3, 6, 7]\n",
      "Applied wires: [2, 3, 6, 7]\n",
      "States of the stateprep especially bra vector is {'11000011': 138, '11110000': 862}\n",
      "j value going in 0\n",
      "DE in stateprep is  [2, 3, 6, 7]\n",
      "Applied wires: [2, 3, 6, 7]\n",
      "States of the stateprep especially ket vector is {'11000011': 132, '11110000': 868}\n",
      "DE in stateprep is  [2, 3, 6, 7]\n",
      "Applied wires: [2, 3, 6, 7]\n",
      "The value of Heff[0,0] is (-1.420376125683405+0j)\n",
      "DE in stateprep is  [2, 3, 6, 7]\n",
      "Applied wires: [2, 3, 6, 7]\n",
      "The value of ovlp[0,0] is (0.9999999999999994+0j)\n",
      "Case 3 is activated\n",
      "The value of i 0 and j is  0\n",
      "DE in operator calc is  [2, 3, 6, 7]\n",
      "Doubles fermi right now is 1.0 * a⁺(7) a⁺(6) a(3) a(2)\n",
      "+ -1.0 * a⁺(2) a⁺(3) a(6) a(7)\n",
      "exp matrix1 (256, 256)\n",
      "DE in operator calc is  [2, 3, 6, 7]\n",
      "Doubles fermi right now is 1.0 * a⁺(7) a⁺(6) a(3) a(2)\n",
      "+ -1.0 * a⁺(2) a⁺(3) a(6) a(7)\n",
      "exp matrix1 (256, 256)\n",
      "DE in stateprep is  [2, 3, 6, 7]\n",
      "Applied wires: [2, 3, 6, 7]\n",
      "The value of i 0 and j is  1\n",
      "DE in stateprep is  [2, 3, 6, 7]\n",
      "Applied wires: [2, 3, 6, 7]\n",
      "States of the stateprep especially bra vector is {'11000011': 145, '11110000': 855}\n",
      "j value going in 1\n",
      "DE in stateprep is  [0, 3, 5, 6]\n",
      "Applied wires: [0, 3, 5, 6]\n",
      "States of the stateprep especially ket vector is {'01100110': 133, '11110000': 867}\n",
      "DE in stateprep is  [0, 3, 5, 6]\n",
      "Applied wires: [0, 3, 5, 6]\n",
      "The value of Heff[0,1] is (-1.2679961505630206+0j)\n",
      "DE in stateprep is  [0, 3, 5, 6]\n",
      "Applied wires: [0, 3, 5, 6]\n",
      "The value of ovlp[0,1] is (0.8535533905932733+0j)\n",
      "Case 2 is activated\n",
      "The value of i 0 and j is  1\n",
      "DE in operator calc is  [2, 3, 6, 7]\n",
      "Doubles fermi right now is 1.0 * a⁺(7) a⁺(6) a(3) a(2)\n",
      "+ -1.0 * a⁺(2) a⁺(3) a(6) a(7)\n",
      "exp matrix1 (256, 256)\n",
      "DE in stateprep is  [0, 3, 5, 6]\n",
      "Applied wires: [0, 3, 5, 6]\n",
      "The value of d_Heff in case 2 is (-1.3880251303653186+0j)\n",
      "DE in operator calc is  [2, 3, 6, 7]\n",
      "Doubles fermi right now is 1.0 * a⁺(7) a⁺(6) a(3) a(2)\n",
      "+ -1.0 * a⁺(2) a⁺(3) a(6) a(7)\n",
      "exp matrix1 (256, 256)\n",
      "DE in stateprep is  [0, 3, 5, 6]\n",
      "Applied wires: [0, 3, 5, 6]\n",
      "The value of d_ovlp in case 1 is (0.9238795325112863+0j)\n",
      "Moving to next iteration of j\n",
      "\n",
      "\n",
      "The value of i 1 and j is  0\n",
      "DE in stateprep is  [0, 3, 5, 6]\n",
      "Applied wires: [0, 3, 5, 6]\n",
      "States of the stateprep especially bra vector is {'01100110': 163, '11110000': 837}\n",
      "j value going in 0\n",
      "DE in stateprep is  [2, 3, 6, 7]\n",
      "Applied wires: [2, 3, 6, 7]\n",
      "States of the stateprep especially ket vector is {'11000011': 143, '11110000': 857}\n",
      "DE in stateprep is  [2, 3, 6, 7]\n",
      "Applied wires: [2, 3, 6, 7]\n",
      "The value of Heff[1,0] is (-1.2679961505630204+0j)\n",
      "DE in stateprep is  [2, 3, 6, 7]\n",
      "Applied wires: [2, 3, 6, 7]\n",
      "The value of ovlp[1,0] is (0.8535533905932733+0j)\n",
      "Case 1 is activated\n",
      "The value of i 1 and j is  0\n",
      "DE in operator calc is  [0, 3, 5, 6]\n",
      "Doubles fermi right now is 1.0 * a⁺(6) a⁺(5) a(3) a(0)\n",
      "+ -1.0 * a⁺(0) a⁺(3) a(5) a(6)\n",
      "exp matrix1 (256, 256)\n",
      "DE in stateprep is  [2, 3, 6, 7]\n",
      "Applied wires: [2, 3, 6, 7]\n",
      "The value of d_Heff in case 1 is (1.2904576941363446+0j)\n",
      "DE in operator calc is  [0, 3, 5, 6]\n",
      "Doubles fermi right now is 1.0 * a⁺(6) a⁺(5) a(3) a(0)\n",
      "+ -1.0 * a⁺(0) a⁺(3) a(5) a(6)\n",
      "exp matrix1 (256, 256)\n",
      "DE in stateprep is  [2, 3, 6, 7]\n",
      "Applied wires: [2, 3, 6, 7]\n",
      "The value of d_ovlp in case 1 is (0.9238795325112863+0j)\n",
      "The value of i 1 and j is  1\n",
      "DE in stateprep is  [0, 3, 5, 6]\n",
      "Applied wires: [0, 3, 5, 6]\n",
      "States of the stateprep especially bra vector is {'01100110': 149, '11110000': 851}\n",
      "j value going in 1\n",
      "DE in stateprep is  [0, 3, 5, 6]\n",
      "Applied wires: [0, 3, 5, 6]\n",
      "States of the stateprep especially ket vector is {'01100110': 134, '11110000': 866}\n",
      "DE in stateprep is  [0, 3, 5, 6]\n",
      "Applied wires: [0, 3, 5, 6]\n",
      "The value of Heff[1,1] is (-1.4149151102635957+0j)\n",
      "DE in stateprep is  [0, 3, 5, 6]\n",
      "Applied wires: [0, 3, 5, 6]\n",
      "The value of ovlp[1,1] is (0.9999999999999994+0j)\n",
      "Moving to next iteration of j\n",
      "\n",
      "\n",
      "Eigenvalues are [-1.44897955 -1.02180617]\n",
      "The value of g: (-1.2189944249517908+0j)\n"
     ]
    }
   ],
   "source": [
    "#ash_excitation = []\n",
    "Hmat = qml.matrix(H)\n",
    "#np.set_printoptions(threshold=np.inf)\n",
    "\n",
    "#dev = qml.device(\"lightning.qubit\", wires=qubits)\n",
    "#@qml.qnode(dev)\n",
    "def gcm_grad(ash_excitation, H, theta):\n",
    "\n",
    "    #\n",
    "    L = len(ash_excitation)\n",
    "    print('Value of L which is the excitation',L) #This is right \n",
    "    Heff = np.zeros((L,L),dtype=complex)\n",
    "    ovlp = np.zeros((L,L),dtype=complex)\n",
    "    d_Heff = np.zeros((L,L),dtype=complex)\n",
    "    d_ovlp = np.zeros((L,L),dtype=complex)\n",
    "    print('The shape of Heff is', Heff.shape)\n",
    "    for i in range(L):\n",
    "        for j in range(L):\n",
    "            print(f'The value of i {i} and j is  {j}')\n",
    "            _ = (stateprep(i).conj().T) # G(ash_excitation[i], theta)@hf_state\n",
    "            counts = measure(_)\n",
    "            print('States of the stateprep especially bra vector is', counts)\n",
    "            #print('The bra vector is', _) \n",
    "            print('j value going in', j)\n",
    "            counts1 = measure(stateprep(j))\n",
    "            print('States of the stateprep especially ket vector is', counts1)\n",
    "            Heff[i,j] = _.dot(Hmat.dot(stateprep(j))).real\n",
    "            print(f'The value of Heff[{i},{j}] is', Heff[i,j])\n",
    "            ovlp[i,j] = _.dot(stateprep(j)).real\n",
    "            print(f'The value of ovlp[{i},{j}] is', ovlp[i,j])\n",
    "            if i == L-1 and j != L-1:\n",
    "                print('Case 1 is activated')\n",
    "                print(f'The value of i {i} and j is  {j}')\n",
    "                #d_Heff[i,j] = -1*_.dot((ash_excitation[i]@H).dot(stateprep[j]))[0,0].real\n",
    "                d_Heff[i,j] = -1*_.dot((operator(ash_excitation, theta, i)@Hmat).dot(stateprep(j))).real\n",
    "                print('The value of d_Heff in case 1 is', d_Heff[i,j])\n",
    "                d_ovlp[i,j] = _.dot((operator(ash_excitation, theta, i)).dot(stateprep(j))).real\n",
    "                print('The value of d_ovlp in case 1 is', d_ovlp[i,j])\n",
    "\n",
    "            elif i != L-1 and j == L-1:\n",
    "                print('Case 2 is activated')\n",
    "                print(f'The value of i {i} and j is  {j}')\n",
    "                d_Heff[i,j] = _.dot((Hmat@(operator(ash_excitation, theta, i))).dot(stateprep(j))).real\n",
    "                print('The value of d_Heff in case 2 is', d_Heff[i,j])\n",
    "                d_ovlp[i,j] = _.dot(operator(ash_excitation, theta, i).dot(stateprep(j))).real\n",
    "                print('The value of d_ovlp in case 1 is', d_ovlp[i,j])\n",
    "\n",
    "                \n",
    "            elif i != L-1 and j != L-1:\n",
    "                print('Case 3 is activated')\n",
    "                print(f'The value of i {i} and j is  {j}')\n",
    "                #d_Heff[i,j] = _.dot((Hmat@ash_excitation[i]-ash_excitation[i]@Hmat).dot(ash_excitation[j]@hf))[0,0].real\n",
    "                d_Heff[i,j] = _.dot((Hmat@(operator(ash_excitation, theta, i))-(operator(ash_excitation, theta, i))@Hmat).dot(stateprep(j))).real\n",
    "            print('Moving to next iteration of j')\n",
    "            print('\\n')\n",
    "        print('Moving to next iteration of i')\n",
    "        print('\\n')\n",
    "    #e,f = sl.eig(Heff,ovlp)\n",
    "    e,f=scipy.linalg.eigh(Heff,ovlp)\n",
    "    print('Eigenvalues are', e)\n",
    "    idx = np.argsort(e)\n",
    "    f = f[:,idx]\n",
    "    H_k = np.conj(f[0]).T@Heff@f[0]\n",
    "    S_k = np.conj(f[0]).T@ovlp@f[0]\n",
    "    d_H_k = np.conj(f[0]).T@d_Heff@f[0]\n",
    "    d_S_k = np.conj(f[0]).T@d_ovlp@f[0]\n",
    "    g = (d_H_k*S_k - H_k*d_S_k)/(S_k*S_k)\n",
    "    print('The value of g:',g)\n",
    "\n",
    "gcm_grad(ash_excitation, H, theta)"
   ]
  },
  {
   "cell_type": "code",
   "execution_count": 4,
   "metadata": {},
   "outputs": [
    {
     "data": {
      "text/plain": [
       "[[2, 3, 6, 7],\n",
       " [0, 3, 5, 6],\n",
       " [0, 1, 4, 5],\n",
       " [1, 2, 4, 7],\n",
       " [0, 3, 5, 6],\n",
       " [1, 2, 4, 7],\n",
       " [0, 4]]"
      ]
     },
     "execution_count": 4,
     "metadata": {},
     "output_type": "execute_result"
    }
   ],
   "source": [
    "ash_excitation[1]\n",
    "ash_excitation"
   ]
  },
  {
   "cell_type": "code",
   "execution_count": 8,
   "metadata": {},
   "outputs": [
    {
     "name": "stdout",
     "output_type": "stream",
     "text": [
      "The value of i is 0\n",
      "DE in summa is  [2, 3, 6, 7]\n",
      "The value of i is 1\n",
      "DE in summa is  [0, 3, 5, 6]\n",
      "The value of i is 2\n",
      "DE in summa is  [0, 1, 4, 5]\n",
      "The value of i is 3\n",
      "DE in summa is  [1, 2, 4, 7]\n",
      "The value of i is 4\n",
      "DE in summa is  [0, 3, 5, 6]\n",
      "The value of i is 5\n",
      "DE in summa is  [1, 2, 4, 7]\n",
      "The value of i is 6\n",
      "SE in summa is  [0, 4]\n",
      "The energy of the excitation -1.8004043164964592\n"
     ]
    }
   ],
   "source": [
    "dev = qml.device(\"lightning.qubit\", wires=qubits)\n",
    "@qml.qnode(dev)\n",
    "def summa():\n",
    "    qml.StatePrep(hf_state, wires=range(qubits))\n",
    "    for i in range(len(ash_excitation)):\n",
    "        print('The value of i is', i)\n",
    "        if len(ash_excitation[i]) == 4:\n",
    "            print('DE in summa is ', ash_excitation[i])\n",
    "            qml.DoubleExcitation(theta, wires=ash_excitation[i])\n",
    "        elif len(ash_excitation[i]) == 2:\n",
    "            print('SE in summa is ', ash_excitation[i])\n",
    "            qml.SingleExcitation(theta, wires=ash_excitation[i])\n",
    "    return qml.expval(H)\n",
    "\n",
    "energy = summa()\n",
    "print(f'The energy of the excitation', energy)"
   ]
  },
  {
   "cell_type": "code",
   "execution_count": null,
   "metadata": {},
   "outputs": [],
   "source": []
  }
 ],
 "metadata": {
  "kernelspec": {
   "display_name": "new_venv",
   "language": "python",
   "name": "python3"
  },
  "language_info": {
   "codemirror_mode": {
    "name": "ipython",
    "version": 3
   },
   "file_extension": ".py",
   "mimetype": "text/x-python",
   "name": "python",
   "nbconvert_exporter": "python",
   "pygments_lexer": "ipython3",
   "version": "3.11.8"
  }
 },
 "nbformat": 4,
 "nbformat_minor": 2
}
