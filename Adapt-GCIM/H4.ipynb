{
 "cells": [
  {
   "cell_type": "markdown",
   "metadata": {},
   "source": [
    "## SRJ - Trying for H2"
   ]
  },
  {
   "cell_type": "code",
   "execution_count": 19,
   "metadata": {},
   "outputs": [
    {
     "name": "stdout",
     "output_type": "stream",
     "text": [
      "[1 1 0 0]\n",
      "[0, 1, 2, 3]\n",
      "[FermiSentence({FermiWord({(0, 3): '+', (1, 2): '+', (2, 1): '-', (3, 0): '-'}): 1.0, FermiWord({(0, 0): '+', (1, 1): '+', (2, 2): '-', (3, 3): '-'}): -1.0})]\n"
     ]
    }
   ],
   "source": [
    "from pennylane import qchem\n",
    "import pennylane as qml\n",
    "from jax import numpy as jnp\n",
    "import jax\n",
    "\n",
    "jax.config.update(\"jax_enable_x64\", True)\n",
    "\n",
    "electrons = 2\n",
    "\n",
    "symbols  = ['H', 'H']\n",
    "geometry = jnp.array([[0.0, 0.0, -0.69434785],\n",
    "                     [0.0, 0.0,  0.69434785]])\n",
    "\n",
    "mol = qchem.Molecule(symbols, geometry)\n",
    "H, qubits = qml.qchem.molecular_hamiltonian(symbols, geometry, basis=\"sto-3g\", method=\"pyscf\")\n",
    "hf_state = qchem.hf_state(electrons, qubits)\n",
    "print(hf_state)\n",
    "\n",
    "from pennylane.fermi import from_string\n",
    "\n",
    "singles, doubles = qchem.excitations(electrons, qubits)\n",
    "\n",
    "singles_fermi = []\n",
    "for ex in singles:\n",
    "    singles_fermi.append(from_string(f\"{ex[1]}+ {ex[0]}-\")\n",
    "                       - from_string(f\"{ex[0]}+ {ex[1]}-\"))\n",
    "\n",
    "doubles_fermi = []\n",
    "for ex in doubles:\n",
    "    print(ex)\n",
    "    doubles_fermi.append(from_string(f\"{ex[3]}+ {ex[2]}+ {ex[1]}- {ex[0]}-\")\n",
    "                       - from_string(f\"{ex[0]}+ {ex[1]}+ {ex[2]}- {ex[3]}-\"))\n",
    "print(doubles_fermi)\n",
    "\n"
   ]
  },
  {
   "cell_type": "code",
   "execution_count": 34,
   "metadata": {},
   "outputs": [
    {
     "name": "stdout",
     "output_type": "stream",
     "text": [
      "Op operator: 1.0 * a⁺(2) a(0)\n",
      "+ -1.0 * a⁺(0) a(2)\n",
      "Op operator: 1.0 * a⁺(3) a(1)\n",
      "+ -1.0 * a⁺(1) a(3)\n",
      "[0.125j * Y(2) @ X(3) @ X(0) @ X(1)\n",
      "+ -0.125j * Y(2) @ X(3) @ Y(0) @ Y(1)\n",
      "+ -0.125j * X(2) @ X(3) @ Y(0) @ X(1)\n",
      "+ -0.125j * X(2) @ X(3) @ X(0) @ Y(1)\n",
      "+ 0.125j * Y(2) @ Y(3) @ Y(0) @ X(1)\n",
      "+ 0.125j * Y(2) @ Y(3) @ X(0) @ Y(1)\n",
      "+ 0.125j * X(2) @ Y(3) @ X(0) @ X(1)\n",
      "+ -0.125j * X(2) @ Y(3) @ Y(0) @ Y(1)]\n"
     ]
    }
   ],
   "source": [
    "singles_pauli = []\n",
    "for op in singles_fermi:\n",
    "    print('Op operator:', op)\n",
    "    singles_pauli.append(qml.jordan_wigner(op, ps=True))\n",
    "\n",
    "\n",
    "doubles_pauli = []\n",
    "for op in doubles_fermi:\n",
    "    doubles_pauli.append(qml.fermi.jordan_wigner(op, ps=True))\n",
    "\n",
    "print(doubles_pauli)"
   ]
  },
  {
   "cell_type": "code",
   "execution_count": 41,
   "metadata": {},
   "outputs": [
    {
     "name": "stdout",
     "output_type": "stream",
     "text": [
      "The doubles: 0.125j * Y(2) @ X(3) @ X(0) @ X(1)\n",
      "+ -0.125j * Y(2) @ X(3) @ Y(0) @ Y(1)\n",
      "+ -0.125j * X(2) @ X(3) @ Y(0) @ X(1)\n",
      "+ -0.125j * X(2) @ X(3) @ X(0) @ Y(1)\n",
      "+ 0.125j * Y(2) @ Y(3) @ Y(0) @ X(1)\n",
      "+ 0.125j * Y(2) @ Y(3) @ X(0) @ Y(1)\n",
      "+ 0.125j * X(2) @ Y(3) @ X(0) @ X(1)\n",
      "+ -0.125j * X(2) @ Y(3) @ Y(0) @ Y(1)\n",
      "The params: 0.22347661\n",
      "Energy = -1.1373060512054298\n"
     ]
    }
   ],
   "source": [
    "params = jnp.array([0.22347661, 0.0, 0.0])\n",
    "theta = 0.22347661\n",
    "dev = qml.device(\"default.qubit\", wires=qubits)\n",
    "\n",
    "@qml.qnode(dev)\n",
    "def circuit(params):\n",
    "    qml.BasisState(hf_state, wires=range(qubits))\n",
    "\n",
    "    #for i, excitation in enumerate(doubles_pauli):\n",
    "    #    print('The exc.:', excitation)\n",
    "    #    print('The params:', params[i])\n",
    "        #qml.exp((excitation * params[i] / 2).operation()), range(qubits)\n",
    "    \n",
    "    for i in range(len(doubles_pauli)):\n",
    "        print('The doubles:', doubles_pauli[i])\n",
    "        print('The params:', theta)\n",
    "        qml.exp((doubles_pauli[i] * theta/2).operation()), range(qubits)\n",
    "\n",
    "    #for j, excitation in enumerate(singles_pauli):\n",
    "    #    qml.exp((excitation * params[i + j + 1] / 2).operation()), range(qubits)\n",
    "\n",
    "    return qml.expval(H)\n",
    "\n",
    "print('Energy =', circuit(params))"
   ]
  },
  {
   "cell_type": "code",
   "execution_count": null,
   "metadata": {},
   "outputs": [],
   "source": []
  }
 ],
 "metadata": {
  "kernelspec": {
   "display_name": "new_venv",
   "language": "python",
   "name": "python3"
  },
  "language_info": {
   "codemirror_mode": {
    "name": "ipython",
    "version": 3
   },
   "file_extension": ".py",
   "mimetype": "text/x-python",
   "name": "python",
   "nbconvert_exporter": "python",
   "pygments_lexer": "ipython3",
   "version": "3.11.8"
  }
 },
 "nbformat": 4,
 "nbformat_minor": 2
}
