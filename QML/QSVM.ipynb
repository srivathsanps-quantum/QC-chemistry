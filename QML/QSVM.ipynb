{
 "cells": [
  {
   "cell_type": "code",
   "execution_count": 1,
   "metadata": {},
   "outputs": [],
   "source": [
    "import numpy as np\n",
    "seed = 1234\n",
    "np.random.seed(seed)\n",
    "\n",
    "from sklearn.datasets import load_wine\n",
    "x, y = load_wine(return_X_y=True)\n",
    "\n",
    "x = x[:59+71]\n",
    "y = y[:59+71]\n",
    "\n",
    "from sklearn.model_selection import train_test_split\n",
    "x_tr, x_test, y_tr, y_test = train_test_split(x, y, train_size=0.9)\n",
    "\n",
    "from sklearn.preprocessing import MaxAbsScaler\n",
    "scaler = MaxAbsScaler()\n",
    "x_tr = scaler.fit_transform(x_tr)\n",
    "\n",
    "x_test = scaler.transform(x_test)\n",
    "x_test = np.clip(x_test, 0, 1)"
   ]
  },
  {
   "cell_type": "code",
   "execution_count": 9,
   "metadata": {},
   "outputs": [
    {
     "name": "stdout",
     "output_type": "stream",
     "text": [
      "0.9230769230769231\n"
     ]
    }
   ],
   "source": [
    "import pennylane as qml\n",
    "\n",
    "nqubits = 4\n",
    "dev = qml.device(\"default.qubit\", wires=nqubits)\n",
    "\n",
    "@qml.qnode(dev)\n",
    "def kernel_circ(a, b):\n",
    "    qml.AmplitudeEmbedding(\n",
    "        a, wires=range(nqubits), pad_with=0, normalize=True)\n",
    "    qml.adjoint(qml.AmplitudeEmbedding(\n",
    "        b, wires=range(nqubits), pad_with=0, normalize=True))\n",
    "    return qml.probs(wires=range(nqubits))\n",
    "\n",
    "from sklearn.svm import SVC\n",
    "def qkernel(A, B):\n",
    "    return np.array([[kernel_circ(a, b)[0] for b in B] for a in A])\n",
    "\n",
    "svm = SVC(kernel=qkernel).fit(x_tr, y_tr)\n",
    "\n",
    "from sklearn.metrics import accuracy_score\n",
    "print(accuracy_score(svm.predict(x_test), y_test))\n"
   ]
  },
  {
   "cell_type": "markdown",
   "metadata": {},
   "source": [
    "## SRJ - Kernel based method "
   ]
  },
  {
   "cell_type": "code",
   "execution_count": 1,
   "metadata": {},
   "outputs": [],
   "source": [
    "import numpy as np\n",
    "#import torch\n",
    "#from torch.nn.functional import relu\n",
    "\n",
    "from sklearn.svm import SVC\n",
    "from sklearn.datasets import load_iris\n",
    "from sklearn.preprocessing import StandardScaler\n",
    "from sklearn.model_selection import train_test_split\n",
    "from sklearn.metrics import accuracy_score\n",
    "\n",
    "import pennylane as qml\n",
    "from pennylane.templates import AngleEmbedding, StronglyEntanglingLayers\n",
    "\n",
    "import matplotlib.pyplot as plt\n",
    "\n",
    "np.random.seed(42)"
   ]
  },
  {
   "cell_type": "code",
   "execution_count": 2,
   "metadata": {},
   "outputs": [
    {
     "name": "stdout",
     "output_type": "stream",
     "text": [
      "x values after scaling: [[-5.81065904e-01  8.41837140e-01 -1.01297765e+00 -1.04211089e+00]\n",
      " [-8.94308978e-01 -2.07835104e-01 -1.01297765e+00 -1.04211089e+00]\n",
      " [-1.20755205e+00  2.12033793e-01 -1.08231219e+00 -1.04211089e+00]\n",
      " [-1.36417359e+00  2.09934449e-03 -9.43643106e-01 -1.04211089e+00]\n",
      " [-7.37687441e-01  1.05177159e+00 -1.01297765e+00 -1.04211089e+00]\n",
      " [-1.11201292e-01  1.68157493e+00 -8.04974023e-01 -6.86441647e-01]\n",
      " [-1.36417359e+00  6.31902691e-01 -1.01297765e+00 -8.64276271e-01]\n",
      " [-7.37687441e-01  6.31902691e-01 -9.43643106e-01 -1.04211089e+00]\n",
      " [-1.67741667e+00 -4.17769553e-01 -1.01297765e+00 -1.04211089e+00]\n",
      " [-8.94308978e-01  2.09934449e-03 -9.43643106e-01 -1.21994552e+00]\n",
      " [-1.11201292e-01  1.26170604e+00 -9.43643106e-01 -1.04211089e+00]\n",
      " [-1.05093052e+00  6.31902691e-01 -8.74308565e-01 -1.04211089e+00]\n",
      " [-1.05093052e+00 -2.07835104e-01 -1.01297765e+00 -1.21994552e+00]\n",
      " [-1.83403820e+00 -2.07835104e-01 -1.22098127e+00 -1.21994552e+00]\n",
      " [ 5.15284858e-01  1.89150938e+00 -1.15164673e+00 -1.04211089e+00]\n",
      " [ 3.58663321e-01  2.73124718e+00 -9.43643106e-01 -6.86441647e-01]\n",
      " [-1.11201292e-01  1.68157493e+00 -1.08231219e+00 -6.86441647e-01]\n",
      " [-5.81065904e-01  8.41837140e-01 -1.01297765e+00 -8.64276271e-01]\n",
      " [ 3.58663321e-01  1.47164049e+00 -8.04974023e-01 -8.64276271e-01]\n",
      " [-5.81065904e-01  1.47164049e+00 -9.43643106e-01 -8.64276271e-01]\n",
      " [-1.11201292e-01  6.31902691e-01 -8.04974023e-01 -1.04211089e+00]\n",
      " [-5.81065904e-01  1.26170604e+00 -9.43643106e-01 -6.86441647e-01]\n",
      " [-1.36417359e+00  1.05177159e+00 -1.29031581e+00 -1.04211089e+00]\n",
      " [-5.81065904e-01  4.21968242e-01 -8.04974023e-01 -5.08607024e-01]\n",
      " [-1.05093052e+00  6.31902691e-01 -6.66304941e-01 -1.04211089e+00]\n",
      " [-7.37687441e-01 -2.07835104e-01 -8.74308565e-01 -1.04211089e+00]\n",
      " [-7.37687441e-01  6.31902691e-01 -8.74308565e-01 -6.86441647e-01]\n",
      " [-4.24444366e-01  8.41837140e-01 -9.43643106e-01 -1.04211089e+00]\n",
      " [-4.24444366e-01  6.31902691e-01 -1.01297765e+00 -1.04211089e+00]\n",
      " [-1.20755205e+00  2.12033793e-01 -8.74308565e-01 -1.04211089e+00]\n",
      " [-1.05093052e+00  2.09934449e-03 -8.74308565e-01 -1.04211089e+00]\n",
      " [-1.11201292e-01  6.31902691e-01 -9.43643106e-01 -6.86441647e-01]\n",
      " [-4.24444366e-01  2.10144383e+00 -9.43643106e-01 -1.21994552e+00]\n",
      " [ 4.54202458e-02  2.31137828e+00 -1.01297765e+00 -1.04211089e+00]\n",
      " [-8.94308978e-01  2.09934449e-03 -9.43643106e-01 -1.04211089e+00]\n",
      " [-7.37687441e-01  2.12033793e-01 -1.15164673e+00 -1.04211089e+00]\n",
      " [ 4.54202458e-02  8.41837140e-01 -1.08231219e+00 -1.04211089e+00]\n",
      " [-8.94308978e-01  1.05177159e+00 -1.01297765e+00 -1.21994552e+00]\n",
      " [-1.67741667e+00 -2.07835104e-01 -1.08231219e+00 -1.04211089e+00]\n",
      " [-5.81065904e-01  6.31902691e-01 -9.43643106e-01 -1.04211089e+00]\n",
      " [-7.37687441e-01  8.41837140e-01 -1.08231219e+00 -8.64276271e-01]\n",
      " [-1.52079513e+00 -1.67737625e+00 -1.08231219e+00 -8.64276271e-01]\n",
      " [-1.67741667e+00  2.12033793e-01 -1.08231219e+00 -1.04211089e+00]\n",
      " [-7.37687441e-01  8.41837140e-01 -8.74308565e-01 -3.30772400e-01]\n",
      " [-5.81065904e-01  1.47164049e+00 -6.66304941e-01 -6.86441647e-01]\n",
      " [-1.05093052e+00 -2.07835104e-01 -1.01297765e+00 -8.64276271e-01]\n",
      " [-5.81065904e-01  1.47164049e+00 -8.74308565e-01 -1.04211089e+00]\n",
      " [-1.36417359e+00  2.12033793e-01 -1.01297765e+00 -1.04211089e+00]\n",
      " [-2.67822829e-01  1.26170604e+00 -9.43643106e-01 -1.04211089e+00]\n",
      " [-7.37687441e-01  4.21968242e-01 -1.01297765e+00 -1.04211089e+00]\n",
      " [ 2.39474331e+00  2.12033793e-01  1.27506221e+00  1.09190459e+00]\n",
      " [ 1.45501408e+00  2.12033793e-01  1.13639313e+00  1.26973921e+00]\n",
      " [ 2.23812177e+00  2.09934449e-03  1.41373130e+00  1.26973921e+00]\n",
      " [ 4.54202458e-02 -1.67737625e+00  7.89720424e-01  9.14069966e-01]\n",
      " [ 1.61163562e+00 -6.27704002e-01  1.20572767e+00  1.26973921e+00]\n",
      " [ 3.58663321e-01 -6.27704002e-01  1.13639313e+00  9.14069966e-01]\n",
      " [ 1.29839254e+00  4.21968242e-01  1.27506221e+00  1.44757384e+00]\n",
      " [-8.94308978e-01 -1.46744180e+00  3.04378636e-01  3.80566095e-01]\n",
      " [ 1.76825716e+00 -4.17769553e-01  1.20572767e+00  9.14069966e-01]\n",
      " [-4.24444366e-01 -8.37638451e-01  7.20385883e-01  1.09190459e+00]\n",
      " [-7.37687441e-01 -2.30717959e+00  4.43047718e-01  3.80566095e-01]\n",
      " [ 6.71906395e-01 -2.07835104e-01  9.28389507e-01  1.26973921e+00]\n",
      " [ 8.28527933e-01 -1.88731069e+00  7.89720424e-01  3.80566095e-01]\n",
      " [ 9.85149470e-01 -4.17769553e-01  1.27506221e+00  1.09190459e+00]\n",
      " [ 2.02041783e-01 -4.17769553e-01  5.12382260e-01  9.14069966e-01]\n",
      " [ 1.92487869e+00  2.09934449e-03  1.06705859e+00  1.09190459e+00]\n",
      " [ 2.02041783e-01 -2.07835104e-01  1.13639313e+00  1.26973921e+00]\n",
      " [ 5.15284858e-01 -8.37638451e-01  8.59054966e-01  3.80566095e-01]\n",
      " [ 1.14177101e+00 -1.88731069e+00  1.13639313e+00  1.26973921e+00]\n",
      " [ 2.02041783e-01 -1.25750735e+00  7.20385883e-01  5.58400718e-01]\n",
      " [ 6.71906395e-01  2.12033793e-01  1.34439675e+00  1.80324308e+00]\n",
      " [ 9.85149470e-01 -6.27704002e-01  7.89720424e-01  9.14069966e-01]\n",
      " [ 1.29839254e+00 -1.25750735e+00  1.41373130e+00  1.26973921e+00]\n",
      " [ 9.85149470e-01 -6.27704002e-01  1.27506221e+00  7.36235342e-01]\n",
      " [ 1.45501408e+00 -4.17769553e-01  9.97724048e-01  9.14069966e-01]\n",
      " [ 1.76825716e+00 -2.07835104e-01  1.06705859e+00  1.09190459e+00]\n",
      " [ 2.08150023e+00 -6.27704002e-01  1.34439675e+00  1.09190459e+00]\n",
      " [ 1.92487869e+00 -2.07835104e-01  1.48306584e+00  1.62540846e+00]\n",
      " [ 8.28527933e-01 -4.17769553e-01  1.13639313e+00  1.26973921e+00]\n",
      " [ 3.58663321e-01 -1.04757290e+00  4.43047718e-01  3.80566095e-01]\n",
      " [ 4.54202458e-02 -1.46744180e+00  6.51051342e-01  5.58400718e-01]\n",
      " [ 4.54202458e-02 -1.46744180e+00  5.81716801e-01  3.80566095e-01]\n",
      " [ 5.15284858e-01 -8.37638451e-01  7.20385883e-01  7.36235342e-01]\n",
      " [ 8.28527933e-01 -8.37638451e-01  1.55240038e+00  1.44757384e+00]\n",
      " [-1.11201292e-01 -2.07835104e-01  1.13639313e+00  1.26973921e+00]\n",
      " [ 8.28527933e-01  6.31902691e-01  1.13639313e+00  1.44757384e+00]\n",
      " [ 1.92487869e+00  2.09934449e-03  1.27506221e+00  1.26973921e+00]\n",
      " [ 1.29839254e+00 -1.67737625e+00  1.06705859e+00  9.14069966e-01]\n",
      " [ 2.02041783e-01 -2.07835104e-01  8.59054966e-01  9.14069966e-01]\n",
      " [ 4.54202458e-02 -1.25750735e+00  7.89720424e-01  9.14069966e-01]\n",
      " [ 4.54202458e-02 -1.04757290e+00  1.06705859e+00  7.36235342e-01]\n",
      " [ 9.85149470e-01 -2.07835104e-01  1.20572767e+00  1.09190459e+00]\n",
      " [ 5.15284858e-01 -1.04757290e+00  7.89720424e-01  7.36235342e-01]\n",
      " [-7.37687441e-01 -1.67737625e+00  3.04378636e-01  3.80566095e-01]\n",
      " [ 2.02041783e-01 -8.37638451e-01  9.28389507e-01  9.14069966e-01]\n",
      " [ 3.58663321e-01 -2.07835104e-01  9.28389507e-01  7.36235342e-01]\n",
      " [ 3.58663321e-01 -4.17769553e-01  9.28389507e-01  9.14069966e-01]\n",
      " [ 1.14177101e+00 -4.17769553e-01  9.97724048e-01  9.14069966e-01]\n",
      " [-5.81065904e-01 -1.25750735e+00  9.63750123e-02  5.58400718e-01]\n",
      " [ 3.58663321e-01 -6.27704002e-01  8.59054966e-01  9.14069966e-01]]\n",
      "y scaled [-1. -1. -1. -1. -1. -1. -1. -1. -1. -1. -1. -1. -1. -1. -1. -1. -1. -1.\n",
      " -1. -1. -1. -1. -1. -1. -1. -1. -1. -1. -1. -1. -1. -1. -1. -1. -1. -1.\n",
      " -1. -1. -1. -1. -1. -1. -1. -1. -1. -1. -1. -1. -1. -1.  1.  1.  1.  1.\n",
      "  1.  1.  1.  1.  1.  1.  1.  1.  1.  1.  1.  1.  1.  1.  1.  1.  1.  1.\n",
      "  1.  1.  1.  1.  1.  1.  1.  1.  1.  1.  1.  1.  1.  1.  1.  1.  1.  1.\n",
      "  1.  1.  1.  1.  1.  1.  1.  1.  1.  1.]\n",
      "X_train: 75\n"
     ]
    }
   ],
   "source": [
    "X, y = load_iris(return_X_y=True)   #Loadind the iris dataset\n",
    "\n",
    "# pick inputs and labels from the first two classes only,\n",
    "# corresponding to the first 100 samples\n",
    "X = X[:100]  #Taking the first 100 samples\n",
    "y = y[:100] #Taking the first 100 labels\n",
    "#print('x values beofre scaling:', X)  #X features y labels\n",
    "\n",
    "# scaling the inputs is important since the embedding we use is periodic\n",
    "scaler = StandardScaler().fit(X)  #StandardScaler standardizes features by removing the mean and scaling to unit variance.\n",
    "X_scaled = scaler.transform(X)  #The transform(X) method applies the scaling to convert the original data into a scaled version. Specifically, it subtracts the mean and divides by the standard deviation feature-wise\n",
    "print('x values after scaling:', X_scaled)\n",
    "\n",
    "# scaling the labels to -1, 1 is important for the SVM and the\n",
    "# definition of a hinge loss\n",
    "y_scaled = 2 * (y - 0.5) #Effectively, it maps values originally in the range [1] to {-1, 1} by subtracting 0.5 and multiplying by 2.\n",
    "\n",
    "print('y scaled',y_scaled)\n",
    "\n",
    "X_train, X_test, y_train, y_test = train_test_split(X_scaled, y_scaled, train_size=0.25, random_state=42)\n",
    "print('X_train:', len(X_test))"
   ]
  },
  {
   "cell_type": "code",
   "execution_count": 8,
   "metadata": {},
   "outputs": [
    {
     "name": "stdout",
     "output_type": "stream",
     "text": [
      "-1.0\n",
      "()\n",
      "25\n"
     ]
    }
   ],
   "source": [
    "print(y_train[0])\n",
    "print(y_train[0].shape)\n",
    "\n",
    "print(len(X_test))"
   ]
  },
  {
   "cell_type": "markdown",
   "metadata": {},
   "source": [
    "## Features - x values - input "
   ]
  },
  {
   "cell_type": "code",
   "execution_count": 3,
   "metadata": {},
   "outputs": [
    {
     "data": {
      "text/plain": [
       "4"
      ]
     },
     "execution_count": 3,
     "metadata": {},
     "output_type": "execute_result"
    }
   ],
   "source": [
    "n_qubits = len(X_train[-1])\n",
    "n_qubits"
   ]
  },
  {
   "cell_type": "code",
   "execution_count": 4,
   "metadata": {},
   "outputs": [],
   "source": [
    "dev_kernel = qml.device(\"default.qubit\", wires=n_qubits)\n",
    "\n",
    "projector = np.zeros((2 ** n_qubits, 2 ** n_qubits))  # Creating a square matrix of size 2^n_qubits\n",
    "projector[0, 0] = 1 #Complete overlap with its same state\n",
    "\n",
    "@qml.qnode(dev_kernel)\n",
    "def kernel(x1, x2):\n",
    "    \"\"\"The quantum kernel.\"\"\"\n",
    "    AngleEmbedding(x1, wires=range(n_qubits))  #x1 is feature vector, Rx gate is applied\n",
    "    qml.adjoint(AngleEmbedding)(x2, wires=range(n_qubits))\n",
    "    return qml.expval(qml.Hermitian(projector, wires=range(n_qubits)))"
   ]
  },
  {
   "cell_type": "code",
   "execution_count": 34,
   "metadata": {},
   "outputs": [
    {
     "data": {
      "text/plain": [
       "np.float64(0.9999999999999998)"
      ]
     },
     "execution_count": 34,
     "metadata": {},
     "output_type": "execute_result"
    }
   ],
   "source": [
    "kernel(X_train[0], X_train[0])"
   ]
  },
  {
   "cell_type": "code",
   "execution_count": 31,
   "metadata": {},
   "outputs": [
    {
     "data": {
      "text/plain": [
       "75"
      ]
     },
     "execution_count": 31,
     "metadata": {},
     "output_type": "execute_result"
    }
   ],
   "source": [
    "len(X_train)"
   ]
  },
  {
   "cell_type": "code",
   "execution_count": 14,
   "metadata": {},
   "outputs": [
    {
     "name": "stdout",
     "output_type": "stream",
     "text": [
      "The shape of the total matrix: (75, 75)\n",
      "The value of i and j: 0, 0\n"
     ]
    },
    {
     "ename": "TypeError",
     "evalue": "bad operand type for abs(): 'SProd'",
     "output_type": "error",
     "traceback": [
      "\u001b[31m---------------------------------------------------------------------------\u001b[39m",
      "\u001b[31mTypeError\u001b[39m                                 Traceback (most recent call last)",
      "\u001b[36mCell\u001b[39m\u001b[36m \u001b[39m\u001b[32mIn[14]\u001b[39m\u001b[32m, line 26\u001b[39m\n\u001b[32m     23\u001b[39m             \u001b[38;5;28mprint\u001b[39m(\u001b[33mf\u001b[39m\u001b[33m'\u001b[39m\u001b[33mValue of total_mat[\u001b[39m\u001b[38;5;132;01m{\u001b[39;00mi\u001b[38;5;132;01m}\u001b[39;00m\u001b[33m, \u001b[39m\u001b[38;5;132;01m{\u001b[39;00mj\u001b[38;5;132;01m}\u001b[39;00m\u001b[33m]: \u001b[39m\u001b[38;5;132;01m{\u001b[39;00mtotal_mat[i,\u001b[38;5;250m \u001b[39mj]\u001b[38;5;132;01m}\u001b[39;00m\u001b[33m'\u001b[39m)\n\u001b[32m     24\u001b[39m     \u001b[38;5;28;01mreturn\u001b[39;00m total_mat\n\u001b[32m---> \u001b[39m\u001b[32m26\u001b[39m svm = \u001b[43mSVC\u001b[49m\u001b[43m(\u001b[49m\u001b[43mkernel\u001b[49m\u001b[43m=\u001b[49m\u001b[43msmatrix\u001b[49m\u001b[43m)\u001b[49m\u001b[43m.\u001b[49m\u001b[43mfit\u001b[49m\u001b[43m(\u001b[49m\u001b[43mX_train\u001b[49m\u001b[43m,\u001b[49m\u001b[43m \u001b[49m\u001b[43my_train\u001b[49m\u001b[43m)\u001b[49m\n\u001b[32m     27\u001b[39m predictions = svm.predict(X_test)\n\u001b[32m     28\u001b[39m accuracy_score(predictions, y_test)\n",
      "\u001b[36mFile \u001b[39m\u001b[32m/Users/cwq/CodingwithQiskit/miniconda3/envs/of/lib/python3.13/site-packages/sklearn/base.py:1365\u001b[39m, in \u001b[36m_fit_context.<locals>.decorator.<locals>.wrapper\u001b[39m\u001b[34m(estimator, *args, **kwargs)\u001b[39m\n\u001b[32m   1358\u001b[39m     estimator._validate_params()\n\u001b[32m   1360\u001b[39m \u001b[38;5;28;01mwith\u001b[39;00m config_context(\n\u001b[32m   1361\u001b[39m     skip_parameter_validation=(\n\u001b[32m   1362\u001b[39m         prefer_skip_nested_validation \u001b[38;5;129;01mor\u001b[39;00m global_skip_validation\n\u001b[32m   1363\u001b[39m     )\n\u001b[32m   1364\u001b[39m ):\n\u001b[32m-> \u001b[39m\u001b[32m1365\u001b[39m     \u001b[38;5;28;01mreturn\u001b[39;00m \u001b[43mfit_method\u001b[49m\u001b[43m(\u001b[49m\u001b[43mestimator\u001b[49m\u001b[43m,\u001b[49m\u001b[43m \u001b[49m\u001b[43m*\u001b[49m\u001b[43margs\u001b[49m\u001b[43m,\u001b[49m\u001b[43m \u001b[49m\u001b[43m*\u001b[49m\u001b[43m*\u001b[49m\u001b[43mkwargs\u001b[49m\u001b[43m)\u001b[49m\n",
      "\u001b[36mFile \u001b[39m\u001b[32m/Users/cwq/CodingwithQiskit/miniconda3/envs/of/lib/python3.13/site-packages/sklearn/svm/_base.py:258\u001b[39m, in \u001b[36mBaseLibSVM.fit\u001b[39m\u001b[34m(self, X, y, sample_weight)\u001b[39m\n\u001b[32m    255\u001b[39m     \u001b[38;5;28mprint\u001b[39m(\u001b[33m\"\u001b[39m\u001b[33m[LibSVM]\u001b[39m\u001b[33m\"\u001b[39m, end=\u001b[33m\"\u001b[39m\u001b[33m\"\u001b[39m)\n\u001b[32m    257\u001b[39m seed = rnd.randint(np.iinfo(\u001b[33m\"\u001b[39m\u001b[33mi\u001b[39m\u001b[33m\"\u001b[39m).max)\n\u001b[32m--> \u001b[39m\u001b[32m258\u001b[39m \u001b[43mfit\u001b[49m\u001b[43m(\u001b[49m\u001b[43mX\u001b[49m\u001b[43m,\u001b[49m\u001b[43m \u001b[49m\u001b[43my\u001b[49m\u001b[43m,\u001b[49m\u001b[43m \u001b[49m\u001b[43msample_weight\u001b[49m\u001b[43m,\u001b[49m\u001b[43m \u001b[49m\u001b[43msolver_type\u001b[49m\u001b[43m,\u001b[49m\u001b[43m \u001b[49m\u001b[43mkernel\u001b[49m\u001b[43m,\u001b[49m\u001b[43m \u001b[49m\u001b[43mrandom_seed\u001b[49m\u001b[43m=\u001b[49m\u001b[43mseed\u001b[49m\u001b[43m)\u001b[49m\n\u001b[32m    259\u001b[39m \u001b[38;5;66;03m# see comment on the other call to np.iinfo in this file\u001b[39;00m\n\u001b[32m    261\u001b[39m \u001b[38;5;28mself\u001b[39m.shape_fit_ = X.shape \u001b[38;5;28;01mif\u001b[39;00m \u001b[38;5;28mhasattr\u001b[39m(X, \u001b[33m\"\u001b[39m\u001b[33mshape\u001b[39m\u001b[33m\"\u001b[39m) \u001b[38;5;28;01melse\u001b[39;00m (n_samples,)\n",
      "\u001b[36mFile \u001b[39m\u001b[32m/Users/cwq/CodingwithQiskit/miniconda3/envs/of/lib/python3.13/site-packages/sklearn/svm/_base.py:317\u001b[39m, in \u001b[36mBaseLibSVM._dense_fit\u001b[39m\u001b[34m(self, X, y, sample_weight, solver_type, kernel, random_seed)\u001b[39m\n\u001b[32m    313\u001b[39m \u001b[38;5;28;01mif\u001b[39;00m \u001b[38;5;28mcallable\u001b[39m(\u001b[38;5;28mself\u001b[39m.kernel):\n\u001b[32m    314\u001b[39m     \u001b[38;5;66;03m# you must store a reference to X to compute the kernel in predict\u001b[39;00m\n\u001b[32m    315\u001b[39m     \u001b[38;5;66;03m# TODO: add keyword copy to copy on demand\u001b[39;00m\n\u001b[32m    316\u001b[39m     \u001b[38;5;28mself\u001b[39m.__Xfit = X\n\u001b[32m--> \u001b[39m\u001b[32m317\u001b[39m     X = \u001b[38;5;28;43mself\u001b[39;49m\u001b[43m.\u001b[49m\u001b[43m_compute_kernel\u001b[49m\u001b[43m(\u001b[49m\u001b[43mX\u001b[49m\u001b[43m)\u001b[49m\n\u001b[32m    319\u001b[39m     \u001b[38;5;28;01mif\u001b[39;00m X.shape[\u001b[32m0\u001b[39m] != X.shape[\u001b[32m1\u001b[39m]:\n\u001b[32m    320\u001b[39m         \u001b[38;5;28;01mraise\u001b[39;00m \u001b[38;5;167;01mValueError\u001b[39;00m(\u001b[33m\"\u001b[39m\u001b[33mX.shape[0] should be equal to X.shape[1]\u001b[39m\u001b[33m\"\u001b[39m)\n",
      "\u001b[36mFile \u001b[39m\u001b[32m/Users/cwq/CodingwithQiskit/miniconda3/envs/of/lib/python3.13/site-packages/sklearn/svm/_base.py:515\u001b[39m, in \u001b[36mBaseLibSVM._compute_kernel\u001b[39m\u001b[34m(self, X)\u001b[39m\n\u001b[32m    511\u001b[39m \u001b[38;5;250m\u001b[39m\u001b[33;03m\"\"\"Return the data transformed by a callable kernel\"\"\"\u001b[39;00m\n\u001b[32m    512\u001b[39m \u001b[38;5;28;01mif\u001b[39;00m \u001b[38;5;28mcallable\u001b[39m(\u001b[38;5;28mself\u001b[39m.kernel):\n\u001b[32m    513\u001b[39m     \u001b[38;5;66;03m# in the case of precomputed kernel given as a function, we\u001b[39;00m\n\u001b[32m    514\u001b[39m     \u001b[38;5;66;03m# have to compute explicitly the kernel matrix\u001b[39;00m\n\u001b[32m--> \u001b[39m\u001b[32m515\u001b[39m     kernel = \u001b[38;5;28;43mself\u001b[39;49m\u001b[43m.\u001b[49m\u001b[43mkernel\u001b[49m\u001b[43m(\u001b[49m\u001b[43mX\u001b[49m\u001b[43m,\u001b[49m\u001b[43m \u001b[49m\u001b[38;5;28;43mself\u001b[39;49m\u001b[43m.\u001b[49m\u001b[43m__Xfit\u001b[49m\u001b[43m)\u001b[49m\n\u001b[32m    516\u001b[39m     \u001b[38;5;28;01mif\u001b[39;00m sp.issparse(kernel):\n\u001b[32m    517\u001b[39m         kernel = kernel.toarray()\n",
      "\u001b[36mCell\u001b[39m\u001b[36m \u001b[39m\u001b[32mIn[14]\u001b[39m\u001b[32m, line 22\u001b[39m, in \u001b[36msmatrix\u001b[39m\u001b[34m(A, B)\u001b[39m\n\u001b[32m     20\u001b[39m         right_op = state1(x1=A[i])\n\u001b[32m     21\u001b[39m         left_op = state2(x2=B[j])\n\u001b[32m---> \u001b[39m\u001b[32m22\u001b[39m         total_mat[i,j] = \u001b[43mnp\u001b[49m\u001b[43m.\u001b[49m\u001b[43mabs\u001b[49m\u001b[43m(\u001b[49m\u001b[43mnp\u001b[49m\u001b[43m.\u001b[49m\u001b[43mdot\u001b[49m\u001b[43m(\u001b[49m\u001b[43mleft_op\u001b[49m\u001b[43m,\u001b[49m\u001b[43m \u001b[49m\u001b[43mright_op\u001b[49m\u001b[43m)\u001b[49m\u001b[43m)\u001b[49m**\u001b[32m2\u001b[39m\n\u001b[32m     23\u001b[39m         \u001b[38;5;28mprint\u001b[39m(\u001b[33mf\u001b[39m\u001b[33m'\u001b[39m\u001b[33mValue of total_mat[\u001b[39m\u001b[38;5;132;01m{\u001b[39;00mi\u001b[38;5;132;01m}\u001b[39;00m\u001b[33m, \u001b[39m\u001b[38;5;132;01m{\u001b[39;00mj\u001b[38;5;132;01m}\u001b[39;00m\u001b[33m]: \u001b[39m\u001b[38;5;132;01m{\u001b[39;00mtotal_mat[i,\u001b[38;5;250m \u001b[39mj]\u001b[38;5;132;01m}\u001b[39;00m\u001b[33m'\u001b[39m)\n\u001b[32m     24\u001b[39m \u001b[38;5;28;01mreturn\u001b[39;00m total_mat\n",
      "\u001b[31mTypeError\u001b[39m: bad operand type for abs(): 'SProd'"
     ]
    }
   ],
   "source": [
    "## Prepare state1\n",
    "\n",
    "@qml.qnode(dev_kernel)\n",
    "def state1(x1):\n",
    "    qml.AngleEmbedding(x1, wires=range(n_qubits))  #x1 is feature vector, Rx gate is applied\n",
    "    return qml.state()\n",
    "\n",
    "\n",
    "def state2(x2):\n",
    "    k = qml.adjoint(qml.AngleEmbedding(x2, wires=range(n_qubits)))\n",
    "    return k\n",
    "    \n",
    "\n",
    "def smatrix(A, B):\n",
    "    total_mat = np.zeros((len(A), len(B)))  #Creating a square matrix of size 2^n_qubits\n",
    "    print('The shape of the total matrix:', total_mat.shape)\n",
    "    for i in range(len(A)):\n",
    "        for j in range(len(B)):\n",
    "            print(f'The value of i and j: {i}, {j}')\n",
    "            right_op = state1(x1=A[i])\n",
    "            left_op = state2(x2=B[j])\n",
    "            total_mat[i,j] = np.abs(np.dot(left_op, right_op))**2\n",
    "            print(f'Value of total_mat[{i}, {j}]: {total_mat[i, j]}')\n",
    "    return total_mat\n",
    "\n",
    "svm = SVC(kernel=smatrix).fit(X_train, y_train)\n",
    "predictions = svm.predict(X_test)\n",
    "accuracy_score(predictions, y_test)\n",
    "print(\"Accuracy:\", accuracy_score(predictions, y_test))\n"
   ]
  },
  {
   "cell_type": "code",
   "execution_count": 5,
   "metadata": {},
   "outputs": [
    {
     "name": "stdout",
     "output_type": "stream",
     "text": [
      "Accuracy: 1.0\n"
     ]
    }
   ],
   "source": [
    "def kernel_matrix(A, B):\n",
    "    \"\"\"Compute the matrix whose entries are the kernel\n",
    "       evaluated on pairwise data from sets A and B.\"\"\"\n",
    "\n",
    "    return np.array([[kernel(a, b) for b in B] for a in A])\n",
    "\n",
    "\n",
    "\n",
    "\n",
    "svm = SVC(kernel=kernel_matrix).fit(X_train, y_train)\n",
    "\n",
    "predictions = svm.predict(X_test)\n",
    "accuracy_score(predictions, y_test)\n",
    "print(\"Accuracy:\", accuracy_score(predictions, y_test))\n"
   ]
  },
  {
   "cell_type": "code",
   "execution_count": 12,
   "metadata": {},
   "outputs": [
    {
     "name": "stdout",
     "output_type": "stream",
     "text": [
      "Accuracy: 1.0\n"
     ]
    }
   ],
   "source": [
    "@qml.qnode(dev_kernel)\n",
    "def overlap_kernel(x1, x2):\n",
    "    qml.AngleEmbedding(x1, wires=range(n_qubits))\n",
    "    qml.adjoint(qml.AngleEmbedding)(x2, wires=range(n_qubits))\n",
    "    return qml.state()\n",
    "\n",
    "def matrix_fn(A, B):\n",
    "    kernel_matrix = np.zeros((len(A), len(B)))\n",
    "    for i in range(len(A)):\n",
    "        for j in range(len(B)):\n",
    "            psi = overlap_kernel(A[i], B[j])  # returns statevector\n",
    "            prob_0 = np.abs(psi[0])**2  # Probability amplitude for |0...0>\n",
    "            kernel_matrix[i, j] = prob_0\n",
    "    #print('Kernel matrix shape:', kernel_matrix)  \n",
    "    return kernel_matrix\n",
    "svm = SVC(kernel=matrix_fn).fit(X_train, y_train)\n",
    "predictions = svm.predict(X_test)\n",
    "accuracy_score(predictions, y_test)\n",
    "print(\"Accuracy:\", accuracy_score(predictions, y_test))"
   ]
  },
  {
   "cell_type": "code",
   "execution_count": null,
   "metadata": {},
   "outputs": [],
   "source": []
  }
 ],
 "metadata": {
  "kernelspec": {
   "display_name": "qml",
   "language": "python",
   "name": "python3"
  },
  "language_info": {
   "codemirror_mode": {
    "name": "ipython",
    "version": 3
   },
   "file_extension": ".py",
   "mimetype": "text/x-python",
   "name": "python",
   "nbconvert_exporter": "python",
   "pygments_lexer": "ipython3",
   "version": "3.11.8"
  }
 },
 "nbformat": 4,
 "nbformat_minor": 2
}
