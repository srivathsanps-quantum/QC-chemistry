{
 "cells": [
  {
   "cell_type": "markdown",
   "metadata": {},
   "source": [
    "## SRJ"
   ]
  },
  {
   "cell_type": "code",
   "execution_count": 1,
   "metadata": {},
   "outputs": [
    {
     "name": "stdout",
     "output_type": "stream",
     "text": [
      "0: ──H─╭●───╭●─────H───────┤  <Z>\n",
      "1: ────├|Ψ⟩─├|Ψ⟩†──────────┤     \n",
      "2: ────╰|Ψ⟩─╰|Ψ⟩†──────────┤     \n",
      "3: ──H──S†──╭●────╭●─────H─┤  <Z>\n",
      "4: ─────────├|Ψ⟩──├|Ψ⟩†────┤     \n",
      "5: ─────────╰|Ψ⟩──╰|Ψ⟩†────┤     \n"
     ]
    }
   ],
   "source": [
    "import pennylane as qml\n",
    "import numpy as np\n",
    "\n",
    "v1 = 1/np.sqrt(2)*np.array([0,0,-1,1])\n",
    "v2 = 1/np.sqrt(2)*np.array([0,1,1,0])\n",
    "\n",
    "import pennylane as qml\n",
    "\n",
    "circ = qml.device(\"default.qubit\",wires = 6)\n",
    "\n",
    "@qml.qnode(circ)\n",
    "def inner(v1,v2):\n",
    "    qml.Hadamard(wires = 0)\n",
    "    qml.Hadamard(wires = 3)\n",
    "    qml.adjoint(qml.S(wires = 3))\n",
    "    qml.ctrl(qml.StatePrep(v2,wires = [1,2]),control = 0)\n",
    "    qml.ctrl(qml.StatePrep(v2,wires = [4,5]),control = 3)\n",
    "    qml.ctrl(qml.adjoint(qml.StatePrep(v1,wires = [1,2])),control = 0)\n",
    "    qml.ctrl(qml.adjoint(qml.StatePrep(v1,wires = [4,5])),control = 3)\n",
    "    qml.Hadamard(wires = 0)\n",
    "    qml.Hadamard(wires = 3)\n",
    "    return qml.expval(qml.PauliZ(0)), qml.expval(qml.PauliZ(3))\n",
    "\n",
    "inner(v1,v2)\n",
    "print(qml.draw(inner, max_length=100)(v1, v2))"
   ]
  },
  {
   "cell_type": "code",
   "execution_count": 2,
   "metadata": {},
   "outputs": [
    {
     "name": "stdout",
     "output_type": "stream",
     "text": [
      "0: ──H─╭●───╭●─────H─┤  State\n",
      "1: ────├|Ψ⟩─├|Ψ⟩†────┤  State\n",
      "2: ────╰|Ψ⟩─╰|Ψ⟩†────┤  State\n",
      "ash: [ 7.50000000e-01+0.j  0.00000000e+00+0.j -2.50000000e-01+0.j\n",
      "  0.00000000e+00+0.j -6.31965379e-17+0.j  0.00000000e+00+0.j\n",
      " -3.53553391e-01+0.j  0.00000000e+00+0.j  2.50000000e-01+0.j\n",
      "  0.00000000e+00+0.j  2.50000000e-01+0.j  0.00000000e+00+0.j\n",
      "  6.31965379e-17+0.j  0.00000000e+00+0.j  3.53553391e-01+0.j\n",
      "  0.00000000e+00+0.j]\n",
      "{'0000': 574, '0010': 53, '0110': 111, '1000': 60, '1010': 61, '1110': 141}\n"
     ]
    }
   ],
   "source": [
    "import pennylane as qml\n",
    "import numpy as np\n",
    "\n",
    "v1 = 1/np.sqrt(2)*np.array([0,0,1,1])\n",
    "v2 = 1/np.sqrt(2)*np.array([0,1,1,0])\n",
    "\n",
    "import pennylane as qml\n",
    "\n",
    "circ = qml.device(\"default.qubit\",wires = 4)\n",
    "\n",
    "@qml.qnode(circ)\n",
    "def inner(v1,v2):\n",
    "    qml.Hadamard(wires = 0)\n",
    "    #qml.Hadamard(wires = 3)\n",
    "    #qml.adjoint(qml.S(wires = 3))\n",
    "    qml.ctrl(qml.StatePrep(v2,wires = [1,2]),control = 0)\n",
    "    #qml.ctrl(qml.StatePrep(v2,wires = [4,5]),control = 3)\n",
    "    qml.ctrl(qml.adjoint(qml.StatePrep(v1,wires = [1,2])),control = 0)\n",
    "    #qml.ctrl(qml.adjoint(qml.StatePrep(v1,wires = [4,5])),control = 3)\n",
    "    qml.Hadamard(wires = 0)\n",
    "    #qml.Hadamard(wires = 3)\n",
    "    return qml.state()\n",
    "\n",
    "inner(v1,v2)\n",
    "print(qml.draw(inner, max_length=100)(v1, v2))\n",
    "\n",
    "ash = inner(v1, v2)\n",
    "print('ash:', ash)\n",
    "qubits = 4\n",
    "\n",
    "dev4 = qml.device(\"lightning.qubit\", wires=qubits, shots=1000)\n",
    "@qml.qnode(dev4)\n",
    "def measurement(ash):\n",
    "    qml.StatePrep(ash, wires=range(qubits))\n",
    "    return qml.counts()  # Samples all qubits\n",
    "\n",
    "counts = measurement(ash)\n",
    "print(counts)"
   ]
  },
  {
   "cell_type": "code",
   "execution_count": 10,
   "metadata": {},
   "outputs": [
    {
     "name": "stdout",
     "output_type": "stream",
     "text": [
      "0: ──H─╭●───╭●─────H─┤  State\n",
      "1: ────├|Ψ⟩─├|Ψ⟩†────┤  State\n",
      "2: ────├|Ψ⟩─├|Ψ⟩†────┤  State\n",
      "3: ────├|Ψ⟩─├|Ψ⟩†────┤  State\n",
      "4: ────╰|Ψ⟩─╰|Ψ⟩†────┤  State\n",
      "[ 0.5+0.j  0. +0.j  0. +0.j  0. +0.j  0. +0.j  0. +0.j  0. +0.j  0. +0.j\n",
      "  0. +0.j  0. +0.j  0. +0.j  0. +0.j  0. +0.j  0. +0.j  0. +0.j  0.5+0.j\n",
      "  0.5+0.j  0. +0.j  0. +0.j  0. +0.j  0. +0.j  0. +0.j  0. +0.j  0. +0.j\n",
      "  0. +0.j  0. +0.j  0. +0.j  0. +0.j  0. +0.j  0. +0.j  0. +0.j -0.5+0.j]\n",
      "{'00000': 269, '01111': 246, '10000': 254, '11111': 231}\n"
     ]
    }
   ],
   "source": [
    "import pennylane as qml\n",
    "import numpy as np\n",
    "\n",
    "c2state = np.array([1,1,0,0])\n",
    "hf_state = np.array([0,0,1,1])\n",
    "\n",
    "v1=hf_state\n",
    "v2 = c2state\n",
    "\n",
    "import pennylane as qml\n",
    "\n",
    "circ = qml.device(\"default.qubit\",wires = 5)\n",
    "\n",
    "\n",
    "\n",
    "@qml.qnode(circ)\n",
    "def inner(v1,v2):\n",
    "    qml.Hadamard(wires = 0)\n",
    "    qml.ctrl(qml.BasisState(v2,wires = [1,2,3,4]),control = 0)\n",
    "    qml.ctrl(qml.adjoint(qml.BasisState(v1,wires = [1,2,3,4])),control = 0)\n",
    "    qml.Hadamard(wires = 0)\n",
    "    return qml.state()\n",
    "\n",
    "inner(v1,v2)\n",
    "print(qml.draw(inner, max_length=100)(v1, v2))\n",
    "\n",
    "ash = inner(v1, v2)\n",
    "print(ash)\n",
    "qubits=5\n",
    "\n",
    "\n",
    "\n",
    "dev4 = qml.device(\"lightning.qubit\", wires=qubits, shots=1000)\n",
    "@qml.qnode(dev4)\n",
    "def measurement(ash):\n",
    "    qml.StatePrep(ash, wires=range(qubits))\n",
    "    return qml.counts(all_outcomes = False)  # Samples all qubits\n",
    "\n",
    "counts = measurement(ash)\n",
    "print(counts)"
   ]
  },
  {
   "cell_type": "code",
   "execution_count": null,
   "metadata": {},
   "outputs": [
    {
     "name": "stdout",
     "output_type": "stream",
     "text": [
      "0: ──H─╭●───╭●────H─┤  State\n",
      "1: ────├|Ψ⟩─├|Ψ⟩────┤  State\n",
      "2: ────├|Ψ⟩─├|Ψ⟩────┤  State\n",
      "3: ────├|Ψ⟩─├|Ψ⟩────┤  State\n",
      "4: ────╰|Ψ⟩─╰|Ψ⟩────┤  State\n",
      "[ 0.5+0.j  0. +0.j  0. +0.j  0. +0.j  0. +0.j  0. +0.j  0. +0.j  0. +0.j\n",
      "  0. +0.j  0. +0.j  0. +0.j  0. +0.j  0. +0.j  0. +0.j  0. +0.j  0.5+0.j\n",
      "  0.5+0.j  0. +0.j  0. +0.j  0. +0.j  0. +0.j  0. +0.j  0. +0.j  0. +0.j\n",
      "  0. +0.j  0. +0.j  0. +0.j  0. +0.j  0. +0.j  0. +0.j  0. +0.j -0.5+0.j]\n",
      "{'00000': 265, '01111': 225, '10000': 264, '11111': 246}\n"
     ]
    }
   ],
   "source": [
    "import pennylane as qml\n",
    "import numpy as np\n",
    "\n",
    "c2state = np.array([1,1,0,0])\n",
    "hf_state = np.array([0,0,1,1])\n",
    "\n",
    "v1=hf_state\n",
    "v2 = c2state\n",
    "\n",
    "import pennylane as qml\n",
    "\n",
    "circ = qml.device(\"default.qubit\",wires = 5)\n",
    "\n",
    "@qml.qnode(circ)\n",
    "def inner(v1, v2):\n",
    "    qml.Hadamard(wires=0)\n",
    "    \n",
    "    # Prepare |v2⟩ if control=1, |v1⟩ if control=0\n",
    "    qml.ctrl(qml.BasisEmbedding, control=0)(features=v2, wires=[1,2,3,4])\n",
    "    qml.ctrl(qml.BasisEmbedding, control=0)(features=v1, wires=[1,2,3,4])\n",
    "    \n",
    "    qml.Hadamard(wires=0)\n",
    "    return qml.state()\n",
    "\n",
    "inner(v1,v2)\n",
    "print(qml.draw(inner, max_length=100)(v1, v2))\n",
    "\n",
    "ash = inner(v1, v2)\n",
    "print(ash)\n",
    "qubits=5\n",
    "\n",
    "\n",
    "\n",
    "dev4 = qml.device(\"lightning.qubit\", wires=qubits, shots=1000)\n",
    "@qml.qnode(dev4)\n",
    "def measurement(ash):\n",
    "    qml.StatePrep(ash, wires=range(qubits))\n",
    "    return qml.counts(all_outcomes = False)  # Samples all qubits\n",
    "\n",
    "counts = measurement(ash)\n",
    "print(counts)\n"
   ]
  },
  {
   "cell_type": "code",
   "execution_count": 12,
   "metadata": {},
   "outputs": [
    {
     "data": {
      "text/plain": [
       "(<Figure size 600x400 with 1 Axes>, <Axes: >)"
      ]
     },
     "execution_count": 12,
     "metadata": {},
     "output_type": "execute_result"
    },
    {
     "data": {
      "image/png": "[encoded data removed]",
      "text/plain": [
       "<Figure size 600x400 with 1 Axes>"
      ]
     },
     "metadata": {},
     "output_type": "display_data"
    }
   ],
   "source": [
    "import pennylane as qml\n",
    "\n",
    "dev = qml.device('default.qubit', wires=3)\n",
    "\n",
    "@qml.qnode(dev)\n",
    "def hadamard_test(U):\n",
    "    qml.Hadamard(0)\n",
    "    qml.ControlledQubitUnitary(U.matrix(), control_wires=[0], wires=[1,2])\n",
    "    qml.Hadamard(0)\n",
    "    return qml.expval(qml.PauliZ(0))\n",
    "\n",
    "ham = qml.PauliX(0) @ qml.PauliZ(1)\n",
    "res = hadamard_test(U=ham)\n",
    "qml.draw_mpl(hadamard_test)(U=ham)"
   ]
  },
  {
   "cell_type": "code",
   "execution_count": null,
   "metadata": {},
   "outputs": [
    {
     "data": {
      "text/plain": [
       "0.0"
      ]
     },
     "execution_count": 15,
     "metadata": {},
     "output_type": "execute_result"
    }
   ],
   "source": [
    "import pennylane as qml\n",
    "import numpy as np\n",
    "\n",
    "# Define states (normalized)\n",
    "hf_state = np.array([0, 0, 1, 1])  # |0011⟩ (4-qubit example)\n",
    "c2_state = np.array([1, 1, 0, 0])  # |1100⟩\n",
    "\n",
    "# Device with 1 control qubit + 4 target qubits\n",
    "dev = qml.device(\"default.qubit\", wires=5)\n",
    "\n",
    "@qml.qnode(dev)\n",
    "def hadamard_overlap_test():\n",
    "    # Control qubit (wire 0)\n",
    "    qml.Hadamard(wires=0)\n",
    "    \n",
    "    # Prepare |c2_state⟩ if control=1, |hf_state⟩ if control=0\n",
    "    qml.ctrl(qml.BasisState, control=0)(c2_state, wires=[1, 2, 3, 4])\n",
    "    qml.ctrl(qml.BasisState, control=0)(hf_state, wires=[1, 2, 3, 4])\n",
    "    \n",
    "    qml.Hadamard(wires=0)\n",
    "    return qml.expval(qml.PauliZ(0))  # Real part of ⟨HF|c2⟩\n",
    "\n",
    "\n",
    "hadamard_overlap_test()\n"
   ]
  },
  {
   "cell_type": "code",
   "execution_count": null,
   "metadata": {},
   "outputs": [],
   "source": []
  }
 ],
 "metadata": {
  "kernelspec": {
   "display_name": "ashsri",
   "language": "python",
   "name": "python3"
  },
  "language_info": {
   "codemirror_mode": {
    "name": "ipython",
    "version": 3
   },
   "file_extension": ".py",
   "mimetype": "text/x-python",
   "name": "python",
   "nbconvert_exporter": "python",
   "pygments_lexer": "ipython3",
   "version": "3.11.11"
  }
 },
 "nbformat": 4,
 "nbformat_minor": 2
}
