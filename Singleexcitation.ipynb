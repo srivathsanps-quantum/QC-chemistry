{
 "cells": [
  {
   "cell_type": "code",
   "execution_count": 2,
   "metadata": {},
   "outputs": [
    {
     "name": "stdout",
     "output_type": "stream",
     "text": [
      "0.9999999999999991\n"
     ]
    }
   ],
   "source": [
    "import pennylane as qml\n",
    "\n",
    "dev = qml.device('default.qubit', wires=3)\n",
    "\n",
    "@qml.qnode(dev)\n",
    "def circuit(weight, wires=None):\n",
    "    qml.FermionicSingleExcitation(weight, wires=wires)\n",
    "    return qml.expval(qml.Z(0))\n",
    "\n",
    "weight = 10\n",
    "print(circuit(weight, wires=[0, 1, 2]))"
   ]
  },
  {
   "cell_type": "code",
   "execution_count": 2,
   "metadata": {},
   "outputs": [
    {
     "name": "stdout",
     "output_type": "stream",
     "text": [
      "[1.00000000e+00+0.00000000e+00j 0.00000000e+00+0.00000000e+00j\n",
      " 0.00000000e+00+0.00000000e+00j 0.00000000e+00+0.00000000e+00j\n",
      " 0.00000000e+00+1.38236482e-17j 1.61302894e-18+0.00000000e+00j\n",
      " 6.31713324e-18+0.00000000e+00j 0.00000000e+00+0.00000000e+00j]\n",
      "0: ──RX(-1.57)─╭●───────────╭●──RX(1.57)──H─────────╭●────────────╭●──H─────────────────┤ ╭State\n",
      "1: ──H─────────╰X──RZ(0.25)─╰X──H─────────RX(-1.57)─╰X──RZ(-0.25)─╰X──RX(1.57)─╭G(0.50)─┤ ├State\n",
      "2: ────────────────────────────────────────────────────────────────────────────╰G(0.50)─┤ ╰State\n"
     ]
    }
   ],
   "source": [
    "import pennylane as qml\n",
    "\n",
    "dev = qml.device('default.qubit', wires=3)\n",
    "\n",
    "@qml.qnode(dev)\n",
    "def circuit(weight):\n",
    "    qml.FermionicSingleExcitation(weight, wires=[0, 1])\n",
    "    #qml.SingleExcitation(weight, wires=[0,1])\n",
    "    qml.SingleExcitation(weight, wires=[2,1])\n",
    "    return qml.state()\n",
    "\n",
    "weight = 0.5\n",
    "print(circuit(weight))\n",
    "print(qml.draw(circuit, level=\"device\", max_length=100)(weight))"
   ]
  },
  {
   "cell_type": "code",
   "execution_count": null,
   "metadata": {},
   "outputs": [],
   "source": []
  }
 ],
 "metadata": {
  "kernelspec": {
   "display_name": "sri",
   "language": "python",
   "name": "python3"
  },
  "language_info": {
   "codemirror_mode": {
    "name": "ipython",
    "version": 3
   },
   "file_extension": ".py",
   "mimetype": "text/x-python",
   "name": "python",
   "nbconvert_exporter": "python",
   "pygments_lexer": "ipython3",
   "version": "3.13.1"
  }
 },
 "nbformat": 4,
 "nbformat_minor": 2
}
