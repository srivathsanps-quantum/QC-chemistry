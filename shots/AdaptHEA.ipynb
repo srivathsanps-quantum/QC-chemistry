{
 "cells": [
  {
   "cell_type": "markdown",
   "metadata": {},
   "source": [
    "## SRJ"
   ]
  },
  {
   "cell_type": "code",
   "execution_count": 1,
   "metadata": {},
   "outputs": [],
   "source": [
    "import pennylane as qml\n",
    "from pennylane import qchem\n",
    "from pennylane import numpy as np\n",
    "from itertools import chain\n",
    "import time\n",
    "import re\n",
    "from scipy.optimize import minimize\n",
    "ash_excitation = []\n",
    "energies = []\n",
    "excitations= []\n",
    "\n",
    "X = qml.PauliX\n",
    "Y = qml.PauliY\n",
    "Z = qml.PauliZ\n",
    "I = qml.Identity\n",
    "\n",
    "\n",
    "\n",
    "bond_length = 3.0\n",
    "symbols = [\"H\",\"H\",\"H\",\"H\"]\n",
    "electrons = 4\n",
    "orbitals = 8\n",
    "r_bohr = bond_length *1.8897259886  \n",
    "coordinates = np.array([[0.0,0.0, 1*r_bohr], [0.0, 0.0, 2*r_bohr], [0.0,0.0,3*r_bohr],[0.0, 0.0, 4*r_bohr]])\n",
    "H, qubits = qml.qchem.molecular_hamiltonian(symbols, coordinates, basis=\"sto-6g\", method=\"pyscf\")\n",
    "hf_state = qchem.hf_state(electrons, qubits)\n",
    "\n",
    "\n",
    "\n",
    "\n",
    "def adaptvqe(adapt_it = 4, e_th=1e-12):\n",
    "    ash_excitation = []\n",
    "    energies = []\n",
    "    excitations= []\n",
    "    #Calculation of HF state\n",
    "    dev = qml.device(\"lightning.qubit\", wires=qubits)\n",
    "    @qml.qnode(dev)\n",
    "    def circuit(hf_state, electrons, qubits, H):\n",
    "        print('Updated hf_state is', hf_state)  \n",
    "        qml.BasisState(hf_state, wires=range(qubits))\n",
    "        return qml.expval(H)   #Calculating the expectation value of the Hamiltonian\n",
    "    \n",
    "    # Commutator calculation for HF state\n",
    "    @qml.qnode(dev)\n",
    "    def commutator_0(H,w, k):  #H is the Hamiltonian, w is the operator, k is the basis state - HF state\n",
    "        qml.BasisState(k, wires=range(qubits))\n",
    "        res = qml.commutator(H, w)   #Calculating the commutator\n",
    "        return qml.expval(res)\n",
    "    \n",
    "    # Commutator calculation for other states except HF state\n",
    "    @qml.qnode(dev)\n",
    "    def commutator_1(H,w, k): #H is the Hamiltonian, w is the operator, k is the basis state\n",
    "        qml.StatePrep(k, wires=range(qubits))\n",
    "        res = qml.commutator(H, w) #Calculating the commutator\n",
    "        return qml.expval(res)\n",
    "\n",
    "    #Energy calculation \n",
    "    @qml.qnode(dev)\n",
    "    def ash(params, ash_excitation, hf_state, H):\n",
    "        [qml.PauliX(i) for i in np.nonzero(hf_state)[0]]  #Appln of HF state\n",
    "        for i, excitation in enumerate(ash_excitation):\n",
    "            if len(ash_excitation[i]) == 4:\n",
    "                qml.FermionicDoubleExcitation(weight=params[i], wires1=ash_excitation[i][2:][::-1], wires2=ash_excitation[i][:2][::-1])\n",
    "            elif len(ash_excitation[i]) == 2:\n",
    "                qml.FermionicSingleExcitation(weight=params[i], wires=list(range(ash_excitation[i][0], ash_excitation[i][1] + 1)))\n",
    "        return qml.expval(H)  #Calculating the expectation value of the Hamiltonian\n",
    "    \n",
    "    # Calculation of New state, same as the above function but with the state return\n",
    "    dev1 = qml.device(\"lightning.qubit\", wires=qubits)\n",
    "    @qml.qnode(dev1)\n",
    "    def new_state(hf_state, ash_excitation, params):\n",
    "        [qml.PauliX(i) for i in np.nonzero(hf_state)[0]] #Applying the HF state\n",
    "        for i, excitations in enumerate(ash_excitation):\n",
    "            if len(ash_excitation[i]) == 4:\n",
    "                print('Exc. dealing right now is', ash_excitation[i])\n",
    "                print('The params that are going in', params[i])\n",
    "                qml.FermionicDoubleExcitation(weight=params[i], wires1=ash_excitation[i][2:][::-1], wires2=ash_excitation[i][:2][::-1])\n",
    "            elif len(ash_excitation[i]) == 2:\n",
    "                print('Single Exc. dealing right now is', ash_excitation[i])\n",
    "                print('Single exc params that are going in', params[i])\n",
    "                qml.FermionicSingleExcitation(weight=params[i], wires=list(range(ash_excitation[i][0], ash_excitation[i][1] + 1)))\n",
    "        return qml.state()\n",
    "    \n",
    "    def cost(params):\n",
    "        energy = ash(params, ash_excitation, hf_state, H)\n",
    "        return energy\n",
    "\n",
    "    def callback(params):\n",
    "        print(f\"Current parameters: {params}\")\n",
    "        print(f\"Current cost: {cost(params)}\\n\")\n",
    "    \n",
    "\n",
    "    print('HF state is', circuit(hf_state, electrons, qubits, H))\n",
    "    singles, doubles = qml.qchem.excitations(electrons, orbitals)\n",
    "    op1 =  [qml.fermi.FermiWord({(0, x[0]): \"+\", (1, x[1]): \"-\"}) for x in singles]\n",
    "    op2 =  [qml.fermi.FermiWord({(0, x[0]): \"+\", (1, x[1]): \"+\", (2, x[2]): \"-\", (3, x[3]): \"-\"})for x in doubles]\n",
    "    operator_pool = (op1) + (op2)  #Operator pool - Singles and Doubles\n",
    "    states = [hf_state]\n",
    "    \n",
    "\n",
    "    for j in range(adapt_it):\n",
    "        print('The adapt iteration now is', j)  #Adapt iteration\n",
    "        max_value = float('-inf')\n",
    "        max_operator = None\n",
    "        k = states[-1] if states else hf_state  # if states is empty, fall back to hf_state\n",
    "       \n",
    "        for i in operator_pool:\n",
    "            print('The current excitation operator is', i)   #Current excitation operator - fermionic one\n",
    "            w = qml.fermi.jordan_wigner(i)  #JW transformation\n",
    "            if np.array_equal(k, hf_state): # If the current state is the HF state\n",
    "                print('Print, if this is activated - HF state')\n",
    "                current_value = abs(2*(commutator_0(H, w, k)))      #Commutator calculation is activated  \n",
    "            else:\n",
    "                current_value = abs(2*(commutator_1(H, w, k)))      #For other states, commutator calculation is activated\n",
    "            print(f'The expectation value of {i} is', current_value)\n",
    "\n",
    "            if current_value > max_value:\n",
    "                max_value = current_value\n",
    "                max_operator = i\n",
    "\n",
    "        print(f\"The highest operator value is {max_value} for operator {max_operator}\")  #Highest operator value\n",
    "\n",
    "        # Convert operator to excitations and append to ash_excitation\n",
    "        indices_str = re.findall(r'\\d+', str(max_operator))\n",
    "        excitations = [int(index) for index in indices_str]\n",
    "        print('Highest gradient excitation is', excitations)\n",
    "        ash_excitation.append(excitations) #Appending the excitations to the ash_excitation\n",
    "        print('The current status of ash_excitation is', ash_excitation)\n",
    "        print('Moving towards parameters')\n",
    "        #params = np.zeros(len(ash_excitation), requires_grad=True)  #Parameters initialization\n",
    "        #print('The length of parameters is', params)\n",
    "        if j == 0:\n",
    "            params = qml.numpy.zeros(len(ash_excitation), requires_grad=True)  #Parameters initialization\n",
    "            print('Parameters are', params)\n",
    "        else:\n",
    "            params = np.append(params, 0.0) \n",
    "            print('Parameters before optimization are', params)\n",
    "\n",
    "\n",
    "        #Energy calculation\n",
    "        result = minimize(cost, params, method='powell', callback=callback, tol = e_th, options = {'disp': True, 'maxiter': 1e8, 'xtol':1e-8, 'ftol':1e-8})\n",
    "\n",
    "        print(\"Final updated parameters:\", result.x)\n",
    "        print(\"Final cost:\", result.fun)\n",
    "\n",
    "        params= (result.x)\n",
    "        energies.append(result.fun)\n",
    "        print('Updated params are', params)\n",
    "        print('Updated excitation are', ash_excitation)\n",
    "\n",
    "        # New state generation - With the updated parameters\n",
    "        ostate = new_state(hf_state, ash_excitation, params)\n",
    "        print(qml.draw(new_state, max_length=100)(hf_state,ash_excitation,params))\n",
    "        gs_state = ostate\n",
    "        # Append the new state to the states list\n",
    "        states.append(ostate)\n",
    "\n",
    "    return energies, params, ash_excitation, gs_state, H, qubits\n"
   ]
  },
  {
   "cell_type": "code",
   "execution_count": 2,
   "metadata": {},
   "outputs": [
    {
     "name": "stdout",
     "output_type": "stream",
     "text": [
      "Updated hf_state is [1 1 1 1 0 0 0 0]\n",
      "HF state is -1.3325688880668924\n",
      "The adapt iteration now is 0\n",
      "The current excitation operator is a⁺(0) a(4)\n",
      "Print, if this is activated - HF state\n",
      "The expectation value of a⁺(0) a(4) is 9.258183414698196e-08\n",
      "The current excitation operator is a⁺(0) a(6)\n",
      "Print, if this is activated - HF state\n",
      "The expectation value of a⁺(0) a(6) is 0.0\n",
      "The current excitation operator is a⁺(1) a(5)\n",
      "Print, if this is activated - HF state\n",
      "The expectation value of a⁺(1) a(5) is 9.258183412269583e-08\n",
      "The current excitation operator is a⁺(1) a(7)\n",
      "Print, if this is activated - HF state\n"
     ]
    },
    {
     "name": "stderr",
     "output_type": "stream",
     "text": [
      "/Users/pssrivathsansundar/.virtualenvs/new_venv/lib/python3.11/site-packages/pennylane_lightning/core/_serialize.py:283: ComplexWarning: Casting complex values to real discards the imaginary part\n",
      "  coeffs = np.array(coeffs).astype(self.rtype)\n",
      "/Users/pssrivathsansundar/.virtualenvs/new_venv/lib/python3.11/site-packages/pennylane_lightning/core/_serialize.py:283: ComplexWarning: Casting complex values to real discards the imaginary part\n",
      "  coeffs = np.array(coeffs).astype(self.rtype)\n",
      "/Users/pssrivathsansundar/.virtualenvs/new_venv/lib/python3.11/site-packages/pennylane_lightning/core/_serialize.py:283: ComplexWarning: Casting complex values to real discards the imaginary part\n",
      "  coeffs = np.array(coeffs).astype(self.rtype)\n",
      "/Users/pssrivathsansundar/.virtualenvs/new_venv/lib/python3.11/site-packages/pennylane_lightning/core/_serialize.py:283: ComplexWarning: Casting complex values to real discards the imaginary part\n",
      "  coeffs = np.array(coeffs).astype(self.rtype)\n"
     ]
    },
    {
     "name": "stdout",
     "output_type": "stream",
     "text": [
      "The expectation value of a⁺(1) a(7) is 0.0\n",
      "The current excitation operator is a⁺(2) a(4)\n",
      "Print, if this is activated - HF state\n",
      "The expectation value of a⁺(2) a(4) is 0.0\n",
      "The current excitation operator is a⁺(2) a(6)\n",
      "Print, if this is activated - HF state\n",
      "The expectation value of a⁺(2) a(6) is 1.1698969991369434e-07\n",
      "The current excitation operator is a⁺(3) a(5)\n",
      "Print, if this is activated - HF state\n",
      "The expectation value of a⁺(3) a(5) is 0.0\n",
      "The current excitation operator is a⁺(3) a(7)\n",
      "Print, if this is activated - HF state\n"
     ]
    },
    {
     "name": "stderr",
     "output_type": "stream",
     "text": [
      "/Users/pssrivathsansundar/.virtualenvs/new_venv/lib/python3.11/site-packages/pennylane_lightning/core/_serialize.py:283: ComplexWarning: Casting complex values to real discards the imaginary part\n",
      "  coeffs = np.array(coeffs).astype(self.rtype)\n",
      "/Users/pssrivathsansundar/.virtualenvs/new_venv/lib/python3.11/site-packages/pennylane_lightning/core/_serialize.py:283: ComplexWarning: Casting complex values to real discards the imaginary part\n",
      "  coeffs = np.array(coeffs).astype(self.rtype)\n",
      "/Users/pssrivathsansundar/.virtualenvs/new_venv/lib/python3.11/site-packages/pennylane_lightning/core/_serialize.py:283: ComplexWarning: Casting complex values to real discards the imaginary part\n",
      "  coeffs = np.array(coeffs).astype(self.rtype)\n",
      "/Users/pssrivathsansundar/.virtualenvs/new_venv/lib/python3.11/site-packages/pennylane_lightning/core/_serialize.py:283: ComplexWarning: Casting complex values to real discards the imaginary part\n",
      "  coeffs = np.array(coeffs).astype(self.rtype)\n"
     ]
    },
    {
     "name": "stdout",
     "output_type": "stream",
     "text": [
      "The expectation value of a⁺(3) a(7) is 1.1698969991369434e-07\n",
      "The current excitation operator is a⁺(0) a⁺(1) a(4) a(5)\n",
      "Print, if this is activated - HF state\n"
     ]
    },
    {
     "name": "stderr",
     "output_type": "stream",
     "text": [
      "/Users/pssrivathsansundar/.virtualenvs/new_venv/lib/python3.11/site-packages/pennylane_lightning/core/_serialize.py:283: ComplexWarning: Casting complex values to real discards the imaginary part\n",
      "  coeffs = np.array(coeffs).astype(self.rtype)\n"
     ]
    },
    {
     "name": "stdout",
     "output_type": "stream",
     "text": [
      "The expectation value of a⁺(0) a⁺(1) a(4) a(5) is 0.30574752590564497\n",
      "The current excitation operator is a⁺(0) a⁺(1) a(4) a(7)\n",
      "Print, if this is activated - HF state\n"
     ]
    },
    {
     "name": "stderr",
     "output_type": "stream",
     "text": [
      "/Users/pssrivathsansundar/.virtualenvs/new_venv/lib/python3.11/site-packages/pennylane_lightning/core/_serialize.py:283: ComplexWarning: Casting complex values to real discards the imaginary part\n",
      "  coeffs = np.array(coeffs).astype(self.rtype)\n"
     ]
    },
    {
     "name": "stdout",
     "output_type": "stream",
     "text": [
      "The expectation value of a⁺(0) a⁺(1) a(4) a(7) is 0.0\n",
      "The current excitation operator is a⁺(0) a⁺(1) a(5) a(6)\n",
      "Print, if this is activated - HF state\n",
      "The expectation value of a⁺(0) a⁺(1) a(5) a(6) is 0.0\n",
      "The current excitation operator is a⁺(0) a⁺(1) a(6) a(7)\n",
      "Print, if this is activated - HF state\n"
     ]
    },
    {
     "name": "stderr",
     "output_type": "stream",
     "text": [
      "/Users/pssrivathsansundar/.virtualenvs/new_venv/lib/python3.11/site-packages/pennylane_lightning/core/_serialize.py:283: ComplexWarning: Casting complex values to real discards the imaginary part\n",
      "  coeffs = np.array(coeffs).astype(self.rtype)\n",
      "/Users/pssrivathsansundar/.virtualenvs/new_venv/lib/python3.11/site-packages/pennylane_lightning/core/_serialize.py:283: ComplexWarning: Casting complex values to real discards the imaginary part\n",
      "  coeffs = np.array(coeffs).astype(self.rtype)\n"
     ]
    },
    {
     "name": "stdout",
     "output_type": "stream",
     "text": [
      "The expectation value of a⁺(0) a⁺(1) a(6) a(7) is 0.2841068609808368\n",
      "The current excitation operator is a⁺(0) a⁺(2) a(4) a(6)\n",
      "Print, if this is activated - HF state\n",
      "The expectation value of a⁺(0) a⁺(2) a(4) a(6) is 0.030544625693071543\n",
      "The current excitation operator is a⁺(0) a⁺(3) a(4) a(5)\n",
      "Print, if this is activated - HF state\n"
     ]
    },
    {
     "name": "stderr",
     "output_type": "stream",
     "text": [
      "/Users/pssrivathsansundar/.virtualenvs/new_venv/lib/python3.11/site-packages/pennylane_lightning/core/_serialize.py:283: ComplexWarning: Casting complex values to real discards the imaginary part\n",
      "  coeffs = np.array(coeffs).astype(self.rtype)\n",
      "/Users/pssrivathsansundar/.virtualenvs/new_venv/lib/python3.11/site-packages/pennylane_lightning/core/_serialize.py:283: ComplexWarning: Casting complex values to real discards the imaginary part\n",
      "  coeffs = np.array(coeffs).astype(self.rtype)\n"
     ]
    },
    {
     "name": "stdout",
     "output_type": "stream",
     "text": [
      "The expectation value of a⁺(0) a⁺(3) a(4) a(5) is 0.0\n",
      "The current excitation operator is a⁺(0) a⁺(3) a(4) a(7)\n",
      "Print, if this is activated - HF state\n"
     ]
    },
    {
     "name": "stderr",
     "output_type": "stream",
     "text": [
      "/Users/pssrivathsansundar/.virtualenvs/new_venv/lib/python3.11/site-packages/pennylane_lightning/core/_serialize.py:283: ComplexWarning: Casting complex values to real discards the imaginary part\n",
      "  coeffs = np.array(coeffs).astype(self.rtype)\n"
     ]
    },
    {
     "name": "stdout",
     "output_type": "stream",
     "text": [
      "The expectation value of a⁺(0) a⁺(3) a(4) a(7) is 0.30781905251204217\n",
      "The current excitation operator is a⁺(0) a⁺(3) a(5) a(6)\n",
      "Print, if this is activated - HF state\n"
     ]
    },
    {
     "name": "stderr",
     "output_type": "stream",
     "text": [
      "/Users/pssrivathsansundar/.virtualenvs/new_venv/lib/python3.11/site-packages/pennylane_lightning/core/_serialize.py:283: ComplexWarning: Casting complex values to real discards the imaginary part\n",
      "  coeffs = np.array(coeffs).astype(self.rtype)\n"
     ]
    },
    {
     "name": "stdout",
     "output_type": "stream",
     "text": [
      "The expectation value of a⁺(0) a⁺(3) a(5) a(6) is 0.2772744268189707\n",
      "The current excitation operator is a⁺(0) a⁺(3) a(6) a(7)\n",
      "Print, if this is activated - HF state\n"
     ]
    },
    {
     "name": "stderr",
     "output_type": "stream",
     "text": [
      "/Users/pssrivathsansundar/.virtualenvs/new_venv/lib/python3.11/site-packages/pennylane_lightning/core/_serialize.py:283: ComplexWarning: Casting complex values to real discards the imaginary part\n",
      "  coeffs = np.array(coeffs).astype(self.rtype)\n"
     ]
    },
    {
     "name": "stdout",
     "output_type": "stream",
     "text": [
      "The expectation value of a⁺(0) a⁺(3) a(6) a(7) is 0.0\n",
      "The current excitation operator is a⁺(1) a⁺(2) a(4) a(5)\n",
      "Print, if this is activated - HF state\n"
     ]
    },
    {
     "name": "stderr",
     "output_type": "stream",
     "text": [
      "/Users/pssrivathsansundar/.virtualenvs/new_venv/lib/python3.11/site-packages/pennylane_lightning/core/_serialize.py:283: ComplexWarning: Casting complex values to real discards the imaginary part\n",
      "  coeffs = np.array(coeffs).astype(self.rtype)\n",
      "/Users/pssrivathsansundar/.virtualenvs/new_venv/lib/python3.11/site-packages/pennylane_lightning/core/_serialize.py:283: ComplexWarning: Casting complex values to real discards the imaginary part\n",
      "  coeffs = np.array(coeffs).astype(self.rtype)\n"
     ]
    },
    {
     "name": "stdout",
     "output_type": "stream",
     "text": [
      "The expectation value of a⁺(1) a⁺(2) a(4) a(5) is 0.0\n",
      "The current excitation operator is a⁺(1) a⁺(2) a(4) a(7)\n",
      "Print, if this is activated - HF state\n",
      "The expectation value of a⁺(1) a⁺(2) a(4) a(7) is 0.2772744268189707\n",
      "The current excitation operator is a⁺(1) a⁺(2) a(5) a(6)\n",
      "Print, if this is activated - HF state\n",
      "The expectation value of a⁺(1) a⁺(2) a(5) a(6) is 0.30781905251204217\n",
      "The current excitation operator is a⁺(1) a⁺(2) a(6) a(7)\n",
      "Print, if this is activated - HF state\n"
     ]
    },
    {
     "name": "stderr",
     "output_type": "stream",
     "text": [
      "/Users/pssrivathsansundar/.virtualenvs/new_venv/lib/python3.11/site-packages/pennylane_lightning/core/_serialize.py:283: ComplexWarning: Casting complex values to real discards the imaginary part\n",
      "  coeffs = np.array(coeffs).astype(self.rtype)\n",
      "/Users/pssrivathsansundar/.virtualenvs/new_venv/lib/python3.11/site-packages/pennylane_lightning/core/_serialize.py:283: ComplexWarning: Casting complex values to real discards the imaginary part\n",
      "  coeffs = np.array(coeffs).astype(self.rtype)\n",
      "/Users/pssrivathsansundar/.virtualenvs/new_venv/lib/python3.11/site-packages/pennylane_lightning/core/_serialize.py:283: ComplexWarning: Casting complex values to real discards the imaginary part\n",
      "  coeffs = np.array(coeffs).astype(self.rtype)\n"
     ]
    },
    {
     "name": "stdout",
     "output_type": "stream",
     "text": [
      "The expectation value of a⁺(1) a⁺(2) a(6) a(7) is 0.0\n",
      "The current excitation operator is a⁺(1) a⁺(3) a(5) a(7)\n",
      "Print, if this is activated - HF state\n",
      "The expectation value of a⁺(1) a⁺(3) a(5) a(7) is 0.030544625693071543\n",
      "The current excitation operator is a⁺(2) a⁺(3) a(4) a(5)\n",
      "Print, if this is activated - HF state\n"
     ]
    },
    {
     "name": "stderr",
     "output_type": "stream",
     "text": [
      "/Users/pssrivathsansundar/.virtualenvs/new_venv/lib/python3.11/site-packages/pennylane_lightning/core/_serialize.py:283: ComplexWarning: Casting complex values to real discards the imaginary part\n",
      "  coeffs = np.array(coeffs).astype(self.rtype)\n"
     ]
    },
    {
     "name": "stdout",
     "output_type": "stream",
     "text": [
      "The expectation value of a⁺(2) a⁺(3) a(4) a(5) is 0.3005778051721924\n",
      "The current excitation operator is a⁺(2) a⁺(3) a(4) a(7)\n",
      "Print, if this is activated - HF state\n"
     ]
    },
    {
     "name": "stderr",
     "output_type": "stream",
     "text": [
      "/Users/pssrivathsansundar/.virtualenvs/new_venv/lib/python3.11/site-packages/pennylane_lightning/core/_serialize.py:283: ComplexWarning: Casting complex values to real discards the imaginary part\n",
      "  coeffs = np.array(coeffs).astype(self.rtype)\n"
     ]
    },
    {
     "name": "stdout",
     "output_type": "stream",
     "text": [
      "The expectation value of a⁺(2) a⁺(3) a(4) a(7) is 0.0\n",
      "The current excitation operator is a⁺(2) a⁺(3) a(5) a(6)\n",
      "Print, if this is activated - HF state\n"
     ]
    },
    {
     "name": "stderr",
     "output_type": "stream",
     "text": [
      "/Users/pssrivathsansundar/.virtualenvs/new_venv/lib/python3.11/site-packages/pennylane_lightning/core/_serialize.py:283: ComplexWarning: Casting complex values to real discards the imaginary part\n",
      "  coeffs = np.array(coeffs).astype(self.rtype)\n",
      "/Users/pssrivathsansundar/.virtualenvs/new_venv/lib/python3.11/site-packages/pennylane_lightning/core/_serialize.py:283: ComplexWarning: Casting complex values to real discards the imaginary part\n",
      "  coeffs = np.array(coeffs).astype(self.rtype)\n"
     ]
    },
    {
     "name": "stdout",
     "output_type": "stream",
     "text": [
      "The expectation value of a⁺(2) a⁺(3) a(5) a(6) is 0.0\n",
      "The current excitation operator is a⁺(2) a⁺(3) a(6) a(7)\n",
      "Print, if this is activated - HF state\n",
      "The expectation value of a⁺(2) a⁺(3) a(6) a(7) is 0.31004515885821077\n",
      "The highest operator value is 0.31004515885821077 for operator a⁺(2) a⁺(3) a(6) a(7)\n",
      "Highest gradient excitation is [2, 3, 6, 7]\n",
      "The current status of ash_excitation is [[2, 3, 6, 7]]\n",
      "Moving towards parameters\n",
      "Parameters are [0.]\n",
      "Current parameters: [-1.12299269]\n",
      "Current cost: -1.4300836708403362\n",
      "\n",
      "Current parameters: [-1.12299263]\n",
      "Current cost: -1.4300836708403404\n",
      "\n",
      "Optimization terminated successfully.\n",
      "         Current function value: -1.430084\n",
      "         Iterations: 2\n",
      "         Function evaluations: 29\n",
      "Final updated parameters: [-1.12299263]\n",
      "Final cost: -1.4300836708403404\n",
      "Updated params are [-1.12299263]\n",
      "Updated excitation are [[2, 3, 6, 7]]\n",
      "Exc. dealing right now is [2, 3, 6, 7]\n",
      "The params that are going in -1.122992632324032\n",
      "Exc. dealing right now is [2, 3, 6, 7]\n",
      "The params that are going in -1.122992632324032\n",
      "0: ──X───────────────────────────────────┤  State\n",
      "1: ──X───────────────────────────────────┤  State\n",
      "2: ──X─╭FermionicDoubleExcitation(-1.12)─┤  State\n",
      "3: ──X─├FermionicDoubleExcitation(-1.12)─┤  State\n",
      "6: ────├FermionicDoubleExcitation(-1.12)─┤  State\n",
      "7: ────╰FermionicDoubleExcitation(-1.12)─┤  State\n",
      "The adapt iteration now is 1\n",
      "The current excitation operator is a⁺(0) a(4)\n",
      "The expectation value of a⁺(0) a(4) is 0.020377947371643477\n",
      "The current excitation operator is a⁺(0) a(6)\n",
      "The expectation value of a⁺(0) a(6) is 0.0\n",
      "The current excitation operator is a⁺(1) a(5)\n",
      "The expectation value of a⁺(1) a(5) is 0.02037794737164349\n",
      "The current excitation operator is a⁺(1) a(7)\n"
     ]
    },
    {
     "name": "stderr",
     "output_type": "stream",
     "text": [
      "/Users/pssrivathsansundar/.virtualenvs/new_venv/lib/python3.11/site-packages/pennylane_lightning/core/_serialize.py:283: ComplexWarning: Casting complex values to real discards the imaginary part\n",
      "  coeffs = np.array(coeffs).astype(self.rtype)\n",
      "/Users/pssrivathsansundar/.virtualenvs/new_venv/lib/python3.11/site-packages/pennylane_lightning/core/_serialize.py:283: ComplexWarning: Casting complex values to real discards the imaginary part\n",
      "  coeffs = np.array(coeffs).astype(self.rtype)\n",
      "/Users/pssrivathsansundar/.virtualenvs/new_venv/lib/python3.11/site-packages/pennylane_lightning/core/_serialize.py:283: ComplexWarning: Casting complex values to real discards the imaginary part\n",
      "  coeffs = np.array(coeffs).astype(self.rtype)\n",
      "/Users/pssrivathsansundar/.virtualenvs/new_venv/lib/python3.11/site-packages/pennylane_lightning/core/_serialize.py:283: ComplexWarning: Casting complex values to real discards the imaginary part\n",
      "  coeffs = np.array(coeffs).astype(self.rtype)\n"
     ]
    },
    {
     "name": "stdout",
     "output_type": "stream",
     "text": [
      "The expectation value of a⁺(1) a(7) is 0.0\n",
      "The current excitation operator is a⁺(2) a(4)\n",
      "The expectation value of a⁺(2) a(4) is 0.0\n",
      "The current excitation operator is a⁺(2) a(6)\n"
     ]
    },
    {
     "name": "stderr",
     "output_type": "stream",
     "text": [
      "/Users/pssrivathsansundar/.virtualenvs/new_venv/lib/python3.11/site-packages/pennylane_lightning/core/_serialize.py:283: ComplexWarning: Casting complex values to real discards the imaginary part\n",
      "  coeffs = np.array(coeffs).astype(self.rtype)\n",
      "/Users/pssrivathsansundar/.virtualenvs/new_venv/lib/python3.11/site-packages/pennylane_lightning/core/_serialize.py:283: ComplexWarning: Casting complex values to real discards the imaginary part\n",
      "  coeffs = np.array(coeffs).astype(self.rtype)\n",
      "/Users/pssrivathsansundar/.virtualenvs/new_venv/lib/python3.11/site-packages/pennylane_lightning/core/_serialize.py:283: ComplexWarning: Casting complex values to real discards the imaginary part\n",
      "  coeffs = np.array(coeffs).astype(self.rtype)\n",
      "/Users/pssrivathsansundar/.virtualenvs/new_venv/lib/python3.11/site-packages/pennylane_lightning/core/_serialize.py:283: ComplexWarning: Casting complex values to real discards the imaginary part\n",
      "  coeffs = np.array(coeffs).astype(self.rtype)\n"
     ]
    },
    {
     "name": "stdout",
     "output_type": "stream",
     "text": [
      "The expectation value of a⁺(2) a(6) is 0.0651201135320548\n",
      "The current excitation operator is a⁺(3) a(5)\n",
      "The expectation value of a⁺(3) a(5) is 0.0\n",
      "The current excitation operator is a⁺(3) a(7)\n",
      "The expectation value of a⁺(3) a(7) is 0.0651201135320548\n",
      "The current excitation operator is a⁺(0) a⁺(1) a(4) a(5)\n"
     ]
    },
    {
     "name": "stderr",
     "output_type": "stream",
     "text": [
      "/Users/pssrivathsansundar/.virtualenvs/new_venv/lib/python3.11/site-packages/pennylane_lightning/core/_serialize.py:283: ComplexWarning: Casting complex values to real discards the imaginary part\n",
      "  coeffs = np.array(coeffs).astype(self.rtype)\n"
     ]
    },
    {
     "name": "stdout",
     "output_type": "stream",
     "text": [
      "The expectation value of a⁺(0) a⁺(1) a(4) a(5) is 0.30574752590564364\n",
      "The current excitation operator is a⁺(0) a⁺(1) a(4) a(7)\n"
     ]
    },
    {
     "name": "stderr",
     "output_type": "stream",
     "text": [
      "/Users/pssrivathsansundar/.virtualenvs/new_venv/lib/python3.11/site-packages/pennylane_lightning/core/_serialize.py:283: ComplexWarning: Casting complex values to real discards the imaginary part\n",
      "  coeffs = np.array(coeffs).astype(self.rtype)\n"
     ]
    },
    {
     "name": "stdout",
     "output_type": "stream",
     "text": [
      "The expectation value of a⁺(0) a⁺(1) a(4) a(7) is 0.0\n",
      "The current excitation operator is a⁺(0) a⁺(1) a(5) a(6)\n"
     ]
    },
    {
     "name": "stderr",
     "output_type": "stream",
     "text": [
      "/Users/pssrivathsansundar/.virtualenvs/new_venv/lib/python3.11/site-packages/pennylane_lightning/core/_serialize.py:283: ComplexWarning: Casting complex values to real discards the imaginary part\n",
      "  coeffs = np.array(coeffs).astype(self.rtype)\n",
      "/Users/pssrivathsansundar/.virtualenvs/new_venv/lib/python3.11/site-packages/pennylane_lightning/core/_serialize.py:283: ComplexWarning: Casting complex values to real discards the imaginary part\n",
      "  coeffs = np.array(coeffs).astype(self.rtype)\n"
     ]
    },
    {
     "name": "stdout",
     "output_type": "stream",
     "text": [
      "The expectation value of a⁺(0) a⁺(1) a(5) a(6) is 0.0\n",
      "The current excitation operator is a⁺(0) a⁺(1) a(6) a(7)\n",
      "The expectation value of a⁺(0) a⁺(1) a(6) a(7) is 0.040851903768410774\n",
      "The current excitation operator is a⁺(0) a⁺(2) a(4) a(6)\n",
      "The expectation value of a⁺(0) a⁺(2) a(4) a(6) is 0.11684906181881316\n",
      "The current excitation operator is a⁺(0) a⁺(3) a(4) a(5)\n"
     ]
    },
    {
     "name": "stderr",
     "output_type": "stream",
     "text": [
      "/Users/pssrivathsansundar/.virtualenvs/new_venv/lib/python3.11/site-packages/pennylane_lightning/core/_serialize.py:283: ComplexWarning: Casting complex values to real discards the imaginary part\n",
      "  coeffs = np.array(coeffs).astype(self.rtype)\n",
      "/Users/pssrivathsansundar/.virtualenvs/new_venv/lib/python3.11/site-packages/pennylane_lightning/core/_serialize.py:283: ComplexWarning: Casting complex values to real discards the imaginary part\n",
      "  coeffs = np.array(coeffs).astype(self.rtype)\n"
     ]
    },
    {
     "name": "stdout",
     "output_type": "stream",
     "text": [
      "The expectation value of a⁺(0) a⁺(3) a(4) a(5) is 0.0\n",
      "The current excitation operator is a⁺(0) a⁺(3) a(4) a(7)\n"
     ]
    },
    {
     "name": "stderr",
     "output_type": "stream",
     "text": [
      "/Users/pssrivathsansundar/.virtualenvs/new_venv/lib/python3.11/site-packages/pennylane_lightning/core/_serialize.py:283: ComplexWarning: Casting complex values to real discards the imaginary part\n",
      "  coeffs = np.array(coeffs).astype(self.rtype)\n"
     ]
    },
    {
     "name": "stdout",
     "output_type": "stream",
     "text": [
      "The expectation value of a⁺(0) a⁺(3) a(4) a(7) is 0.24648511897061595\n",
      "The current excitation operator is a⁺(0) a⁺(3) a(5) a(6)\n"
     ]
    },
    {
     "name": "stderr",
     "output_type": "stream",
     "text": [
      "/Users/pssrivathsansundar/.virtualenvs/new_venv/lib/python3.11/site-packages/pennylane_lightning/core/_serialize.py:283: ComplexWarning: Casting complex values to real discards the imaginary part\n",
      "  coeffs = np.array(coeffs).astype(self.rtype)\n"
     ]
    },
    {
     "name": "stdout",
     "output_type": "stream",
     "text": [
      "The expectation value of a⁺(0) a⁺(3) a(5) a(6) is 0.3633341807894295\n",
      "The current excitation operator is a⁺(0) a⁺(3) a(6) a(7)\n"
     ]
    },
    {
     "name": "stderr",
     "output_type": "stream",
     "text": [
      "/Users/pssrivathsansundar/.virtualenvs/new_venv/lib/python3.11/site-packages/pennylane_lightning/core/_serialize.py:283: ComplexWarning: Casting complex values to real discards the imaginary part\n",
      "  coeffs = np.array(coeffs).astype(self.rtype)\n"
     ]
    },
    {
     "name": "stdout",
     "output_type": "stream",
     "text": [
      "The expectation value of a⁺(0) a⁺(3) a(6) a(7) is 0.0\n",
      "The current excitation operator is a⁺(1) a⁺(2) a(4) a(5)\n"
     ]
    },
    {
     "name": "stderr",
     "output_type": "stream",
     "text": [
      "/Users/pssrivathsansundar/.virtualenvs/new_venv/lib/python3.11/site-packages/pennylane_lightning/core/_serialize.py:283: ComplexWarning: Casting complex values to real discards the imaginary part\n",
      "  coeffs = np.array(coeffs).astype(self.rtype)\n"
     ]
    },
    {
     "name": "stdout",
     "output_type": "stream",
     "text": [
      "The expectation value of a⁺(1) a⁺(2) a(4) a(5) is 0.0\n",
      "The current excitation operator is a⁺(1) a⁺(2) a(4) a(7)\n"
     ]
    },
    {
     "name": "stderr",
     "output_type": "stream",
     "text": [
      "/Users/pssrivathsansundar/.virtualenvs/new_venv/lib/python3.11/site-packages/pennylane_lightning/core/_serialize.py:283: ComplexWarning: Casting complex values to real discards the imaginary part\n",
      "  coeffs = np.array(coeffs).astype(self.rtype)\n",
      "/Users/pssrivathsansundar/.virtualenvs/new_venv/lib/python3.11/site-packages/pennylane_lightning/core/_serialize.py:283: ComplexWarning: Casting complex values to real discards the imaginary part\n",
      "  coeffs = np.array(coeffs).astype(self.rtype)\n"
     ]
    },
    {
     "name": "stdout",
     "output_type": "stream",
     "text": [
      "The expectation value of a⁺(1) a⁺(2) a(4) a(7) is 0.3633341807894295\n",
      "The current excitation operator is a⁺(1) a⁺(2) a(5) a(6)\n",
      "The expectation value of a⁺(1) a⁺(2) a(5) a(6) is 0.24648511897061576\n",
      "The current excitation operator is a⁺(1) a⁺(2) a(6) a(7)\n"
     ]
    },
    {
     "name": "stderr",
     "output_type": "stream",
     "text": [
      "/Users/pssrivathsansundar/.virtualenvs/new_venv/lib/python3.11/site-packages/pennylane_lightning/core/_serialize.py:283: ComplexWarning: Casting complex values to real discards the imaginary part\n",
      "  coeffs = np.array(coeffs).astype(self.rtype)\n",
      "/Users/pssrivathsansundar/.virtualenvs/new_venv/lib/python3.11/site-packages/pennylane_lightning/core/_serialize.py:283: ComplexWarning: Casting complex values to real discards the imaginary part\n",
      "  coeffs = np.array(coeffs).astype(self.rtype)\n"
     ]
    },
    {
     "name": "stdout",
     "output_type": "stream",
     "text": [
      "The expectation value of a⁺(1) a⁺(2) a(6) a(7) is 0.0\n",
      "The current excitation operator is a⁺(1) a⁺(3) a(5) a(7)\n",
      "The expectation value of a⁺(1) a⁺(3) a(5) a(7) is 0.11684906181881319\n",
      "The current excitation operator is a⁺(2) a⁺(3) a(4) a(5)\n"
     ]
    },
    {
     "name": "stderr",
     "output_type": "stream",
     "text": [
      "/Users/pssrivathsansundar/.virtualenvs/new_venv/lib/python3.11/site-packages/pennylane_lightning/core/_serialize.py:283: ComplexWarning: Casting complex values to real discards the imaginary part\n",
      "  coeffs = np.array(coeffs).astype(self.rtype)\n"
     ]
    },
    {
     "name": "stdout",
     "output_type": "stream",
     "text": [
      "The expectation value of a⁺(2) a⁺(3) a(4) a(5) is 0.048591634879655135\n",
      "The current excitation operator is a⁺(2) a⁺(3) a(4) a(7)\n"
     ]
    },
    {
     "name": "stderr",
     "output_type": "stream",
     "text": [
      "/Users/pssrivathsansundar/.virtualenvs/new_venv/lib/python3.11/site-packages/pennylane_lightning/core/_serialize.py:283: ComplexWarning: Casting complex values to real discards the imaginary part\n",
      "  coeffs = np.array(coeffs).astype(self.rtype)\n",
      "/Users/pssrivathsansundar/.virtualenvs/new_venv/lib/python3.11/site-packages/pennylane_lightning/core/_serialize.py:283: ComplexWarning: Casting complex values to real discards the imaginary part\n",
      "  coeffs = np.array(coeffs).astype(self.rtype)\n"
     ]
    },
    {
     "name": "stdout",
     "output_type": "stream",
     "text": [
      "The expectation value of a⁺(2) a⁺(3) a(4) a(7) is 0.0\n",
      "The current excitation operator is a⁺(2) a⁺(3) a(5) a(6)\n",
      "The expectation value of a⁺(2) a⁺(3) a(5) a(6) is 0.0\n",
      "The current excitation operator is a⁺(2) a⁺(3) a(6) a(7)\n"
     ]
    },
    {
     "name": "stderr",
     "output_type": "stream",
     "text": [
      "/Users/pssrivathsansundar/.virtualenvs/new_venv/lib/python3.11/site-packages/pennylane_lightning/core/_serialize.py:283: ComplexWarning: Casting complex values to real discards the imaginary part\n",
      "  coeffs = np.array(coeffs).astype(self.rtype)\n"
     ]
    },
    {
     "name": "stdout",
     "output_type": "stream",
     "text": [
      "The expectation value of a⁺(2) a⁺(3) a(6) a(7) is 1.7795955487009962e-08\n",
      "The highest operator value is 0.3633341807894295 for operator a⁺(0) a⁺(3) a(5) a(6)\n",
      "Highest gradient excitation is [0, 3, 5, 6]\n",
      "The current status of ash_excitation is [[2, 3, 6, 7], [0, 3, 5, 6]]\n",
      "Moving towards parameters\n",
      "Parameters before optimization are [-1.12299263  0.        ]\n",
      "Current parameters: [-1.12299263 -1.38120327]\n",
      "Current cost: -1.5693729299125385\n",
      "\n",
      "Current parameters: [-1.09743877 -1.37779477]\n",
      "Current cost: -1.5694603735018462\n",
      "\n",
      "Current parameters: [-1.09716183 -1.37775783]\n",
      "Current cost: -1.5694603835520688\n",
      "\n",
      "Optimization terminated successfully.\n",
      "         Current function value: -1.569460\n",
      "         Iterations: 3\n",
      "         Function evaluations: 220\n",
      "Final updated parameters: [-1.09716183 -1.37775783]\n",
      "Final cost: -1.5694603835520688\n",
      "Updated params are [-1.09716183 -1.37775783]\n",
      "Updated excitation are [[2, 3, 6, 7], [0, 3, 5, 6]]\n",
      "Exc. dealing right now is [2, 3, 6, 7]\n",
      "The params that are going in -1.0971618251481932\n",
      "Exc. dealing right now is [0, 3, 5, 6]\n",
      "The params that are going in -1.3777578267624773\n",
      "Exc. dealing right now is [2, 3, 6, 7]\n",
      "The params that are going in -1.0971618251481932\n",
      "Exc. dealing right now is [0, 3, 5, 6]\n",
      "The params that are going in -1.3777578267624773\n",
      "0: ──X───────────────────────────────────╭FermionicDoubleExcitation(-1.38)─┤  State\n",
      "1: ──X───────────────────────────────────│─────────────────────────────────┤  State\n",
      "2: ──X─╭FermionicDoubleExcitation(-1.10)─│─────────────────────────────────┤  State\n",
      "3: ──X─├FermionicDoubleExcitation(-1.10)─├FermionicDoubleExcitation(-1.38)─┤  State\n",
      "5: ────│─────────────────────────────────├FermionicDoubleExcitation(-1.38)─┤  State\n",
      "6: ────├FermionicDoubleExcitation(-1.10)─╰FermionicDoubleExcitation(-1.38)─┤  State\n",
      "7: ────╰FermionicDoubleExcitation(-1.10)───────────────────────────────────┤  State\n",
      "The adapt iteration now is 2\n",
      "The current excitation operator is a⁺(0) a(4)\n",
      "The expectation value of a⁺(0) a(4) is 0.07214542802368992\n",
      "The current excitation operator is a⁺(0) a(6)\n"
     ]
    },
    {
     "name": "stderr",
     "output_type": "stream",
     "text": [
      "/Users/pssrivathsansundar/.virtualenvs/new_venv/lib/python3.11/site-packages/pennylane_lightning/core/_serialize.py:283: ComplexWarning: Casting complex values to real discards the imaginary part\n",
      "  coeffs = np.array(coeffs).astype(self.rtype)\n",
      "/Users/pssrivathsansundar/.virtualenvs/new_venv/lib/python3.11/site-packages/pennylane_lightning/core/_serialize.py:283: ComplexWarning: Casting complex values to real discards the imaginary part\n",
      "  coeffs = np.array(coeffs).astype(self.rtype)\n",
      "/Users/pssrivathsansundar/.virtualenvs/new_venv/lib/python3.11/site-packages/pennylane_lightning/core/_serialize.py:283: ComplexWarning: Casting complex values to real discards the imaginary part\n",
      "  coeffs = np.array(coeffs).astype(self.rtype)\n",
      "/Users/pssrivathsansundar/.virtualenvs/new_venv/lib/python3.11/site-packages/pennylane_lightning/core/_serialize.py:283: ComplexWarning: Casting complex values to real discards the imaginary part\n",
      "  coeffs = np.array(coeffs).astype(self.rtype)\n"
     ]
    },
    {
     "name": "stdout",
     "output_type": "stream",
     "text": [
      "The expectation value of a⁺(0) a(6) is 2.855298648515195e-17\n",
      "The current excitation operator is a⁺(1) a(5)\n",
      "The expectation value of a⁺(1) a(5) is 0.03455224577035426\n",
      "The current excitation operator is a⁺(1) a(7)\n",
      "The expectation value of a⁺(1) a(7) is 1.3295850707611415e-17\n",
      "The current excitation operator is a⁺(2) a(4)\n",
      "The expectation value of a⁺(2) a(4) is 1.5741700213997083e-17\n",
      "The current excitation operator is a⁺(2) a(6)\n",
      "The expectation value of a⁺(2) a(6) is 0.09009513330992365\n",
      "The current excitation operator is a⁺(3) a(5)\n"
     ]
    },
    {
     "name": "stderr",
     "output_type": "stream",
     "text": [
      "/Users/pssrivathsansundar/.virtualenvs/new_venv/lib/python3.11/site-packages/pennylane_lightning/core/_serialize.py:283: ComplexWarning: Casting complex values to real discards the imaginary part\n",
      "  coeffs = np.array(coeffs).astype(self.rtype)\n",
      "/Users/pssrivathsansundar/.virtualenvs/new_venv/lib/python3.11/site-packages/pennylane_lightning/core/_serialize.py:283: ComplexWarning: Casting complex values to real discards the imaginary part\n",
      "  coeffs = np.array(coeffs).astype(self.rtype)\n",
      "/Users/pssrivathsansundar/.virtualenvs/new_venv/lib/python3.11/site-packages/pennylane_lightning/core/_serialize.py:283: ComplexWarning: Casting complex values to real discards the imaginary part\n",
      "  coeffs = np.array(coeffs).astype(self.rtype)\n",
      "/Users/pssrivathsansundar/.virtualenvs/new_venv/lib/python3.11/site-packages/pennylane_lightning/core/_serialize.py:283: ComplexWarning: Casting complex values to real discards the imaginary part\n",
      "  coeffs = np.array(coeffs).astype(self.rtype)\n"
     ]
    },
    {
     "name": "stdout",
     "output_type": "stream",
     "text": [
      "The expectation value of a⁺(3) a(5) is 3.0470715410634814e-17\n",
      "The current excitation operator is a⁺(3) a(7)\n",
      "The expectation value of a⁺(3) a(7) is 0.08582053501471303\n",
      "The current excitation operator is a⁺(0) a⁺(1) a(4) a(5)\n"
     ]
    },
    {
     "name": "stderr",
     "output_type": "stream",
     "text": [
      "/Users/pssrivathsansundar/.virtualenvs/new_venv/lib/python3.11/site-packages/pennylane_lightning/core/_serialize.py:283: ComplexWarning: Casting complex values to real discards the imaginary part\n",
      "  coeffs = np.array(coeffs).astype(self.rtype)\n"
     ]
    },
    {
     "name": "stdout",
     "output_type": "stream",
     "text": [
      "The expectation value of a⁺(0) a⁺(1) a(4) a(5) is 0.424757445311127\n",
      "The current excitation operator is a⁺(0) a⁺(1) a(4) a(7)\n"
     ]
    },
    {
     "name": "stderr",
     "output_type": "stream",
     "text": [
      "/Users/pssrivathsansundar/.virtualenvs/new_venv/lib/python3.11/site-packages/pennylane_lightning/core/_serialize.py:283: ComplexWarning: Casting complex values to real discards the imaginary part\n",
      "  coeffs = np.array(coeffs).astype(self.rtype)\n"
     ]
    },
    {
     "name": "stdout",
     "output_type": "stream",
     "text": [
      "The expectation value of a⁺(0) a⁺(1) a(4) a(7) is 7.478258449328661e-19\n",
      "The current excitation operator is a⁺(0) a⁺(1) a(5) a(6)\n"
     ]
    },
    {
     "name": "stderr",
     "output_type": "stream",
     "text": [
      "/Users/pssrivathsansundar/.virtualenvs/new_venv/lib/python3.11/site-packages/pennylane_lightning/core/_serialize.py:283: ComplexWarning: Casting complex values to real discards the imaginary part\n",
      "  coeffs = np.array(coeffs).astype(self.rtype)\n",
      "/Users/pssrivathsansundar/.virtualenvs/new_venv/lib/python3.11/site-packages/pennylane_lightning/core/_serialize.py:283: ComplexWarning: Casting complex values to real discards the imaginary part\n",
      "  coeffs = np.array(coeffs).astype(self.rtype)\n"
     ]
    },
    {
     "name": "stdout",
     "output_type": "stream",
     "text": [
      "The expectation value of a⁺(0) a⁺(1) a(5) a(6) is 9.091480599533973e-19\n",
      "The current excitation operator is a⁺(0) a⁺(1) a(6) a(7)\n",
      "The expectation value of a⁺(0) a⁺(1) a(6) a(7) is 0.03073147266061982\n",
      "The current excitation operator is a⁺(0) a⁺(2) a(4) a(6)\n"
     ]
    },
    {
     "name": "stderr",
     "output_type": "stream",
     "text": [
      "/Users/pssrivathsansundar/.virtualenvs/new_venv/lib/python3.11/site-packages/pennylane_lightning/core/_serialize.py:283: ComplexWarning: Casting complex values to real discards the imaginary part\n",
      "  coeffs = np.array(coeffs).astype(self.rtype)\n",
      "/Users/pssrivathsansundar/.virtualenvs/new_venv/lib/python3.11/site-packages/pennylane_lightning/core/_serialize.py:283: ComplexWarning: Casting complex values to real discards the imaginary part\n",
      "  coeffs = np.array(coeffs).astype(self.rtype)\n"
     ]
    },
    {
     "name": "stdout",
     "output_type": "stream",
     "text": [
      "The expectation value of a⁺(0) a⁺(2) a(4) a(6) is 0.014906927362766434\n",
      "The current excitation operator is a⁺(0) a⁺(3) a(4) a(5)\n",
      "The expectation value of a⁺(0) a⁺(3) a(4) a(5) is 7.924338275469925e-20\n",
      "The current excitation operator is a⁺(0) a⁺(3) a(4) a(7)\n"
     ]
    },
    {
     "name": "stderr",
     "output_type": "stream",
     "text": [
      "/Users/pssrivathsansundar/.virtualenvs/new_venv/lib/python3.11/site-packages/pennylane_lightning/core/_serialize.py:283: ComplexWarning: Casting complex values to real discards the imaginary part\n",
      "  coeffs = np.array(coeffs).astype(self.rtype)\n"
     ]
    },
    {
     "name": "stdout",
     "output_type": "stream",
     "text": [
      "The expectation value of a⁺(0) a⁺(3) a(4) a(7) is 0.021119505204972355\n",
      "The current excitation operator is a⁺(0) a⁺(3) a(5) a(6)\n"
     ]
    },
    {
     "name": "stderr",
     "output_type": "stream",
     "text": [
      "/Users/pssrivathsansundar/.virtualenvs/new_venv/lib/python3.11/site-packages/pennylane_lightning/core/_serialize.py:283: ComplexWarning: Casting complex values to real discards the imaginary part\n",
      "  coeffs = np.array(coeffs).astype(self.rtype)\n"
     ]
    },
    {
     "name": "stdout",
     "output_type": "stream",
     "text": [
      "The expectation value of a⁺(0) a⁺(3) a(5) a(6) is 1.6720711426554402e-08\n",
      "The current excitation operator is a⁺(0) a⁺(3) a(6) a(7)\n"
     ]
    },
    {
     "name": "stderr",
     "output_type": "stream",
     "text": [
      "/Users/pssrivathsansundar/.virtualenvs/new_venv/lib/python3.11/site-packages/pennylane_lightning/core/_serialize.py:283: ComplexWarning: Casting complex values to real discards the imaginary part\n",
      "  coeffs = np.array(coeffs).astype(self.rtype)\n"
     ]
    },
    {
     "name": "stdout",
     "output_type": "stream",
     "text": [
      "The expectation value of a⁺(0) a⁺(3) a(6) a(7) is 9.081583955303423e-19\n",
      "The current excitation operator is a⁺(1) a⁺(2) a(4) a(5)\n"
     ]
    },
    {
     "name": "stderr",
     "output_type": "stream",
     "text": [
      "/Users/pssrivathsansundar/.virtualenvs/new_venv/lib/python3.11/site-packages/pennylane_lightning/core/_serialize.py:283: ComplexWarning: Casting complex values to real discards the imaginary part\n",
      "  coeffs = np.array(coeffs).astype(self.rtype)\n"
     ]
    },
    {
     "name": "stdout",
     "output_type": "stream",
     "text": [
      "The expectation value of a⁺(1) a⁺(2) a(4) a(5) is 3.1357209850983893e-18\n",
      "The current excitation operator is a⁺(1) a⁺(2) a(4) a(7)\n"
     ]
    },
    {
     "name": "stderr",
     "output_type": "stream",
     "text": [
      "/Users/pssrivathsansundar/.virtualenvs/new_venv/lib/python3.11/site-packages/pennylane_lightning/core/_serialize.py:283: ComplexWarning: Casting complex values to real discards the imaginary part\n",
      "  coeffs = np.array(coeffs).astype(self.rtype)\n"
     ]
    },
    {
     "name": "stdout",
     "output_type": "stream",
     "text": [
      "The expectation value of a⁺(1) a⁺(2) a(4) a(7) is 0.4138510297987945\n",
      "The current excitation operator is a⁺(1) a⁺(2) a(5) a(6)\n"
     ]
    },
    {
     "name": "stderr",
     "output_type": "stream",
     "text": [
      "/Users/pssrivathsansundar/.virtualenvs/new_venv/lib/python3.11/site-packages/pennylane_lightning/core/_serialize.py:283: ComplexWarning: Casting complex values to real discards the imaginary part\n",
      "  coeffs = np.array(coeffs).astype(self.rtype)\n"
     ]
    },
    {
     "name": "stdout",
     "output_type": "stream",
     "text": [
      "The expectation value of a⁺(1) a⁺(2) a(5) a(6) is 0.02433912347774153\n",
      "The current excitation operator is a⁺(1) a⁺(2) a(6) a(7)\n"
     ]
    },
    {
     "name": "stderr",
     "output_type": "stream",
     "text": [
      "/Users/pssrivathsansundar/.virtualenvs/new_venv/lib/python3.11/site-packages/pennylane_lightning/core/_serialize.py:283: ComplexWarning: Casting complex values to real discards the imaginary part\n",
      "  coeffs = np.array(coeffs).astype(self.rtype)\n",
      "/Users/pssrivathsansundar/.virtualenvs/new_venv/lib/python3.11/site-packages/pennylane_lightning/core/_serialize.py:283: ComplexWarning: Casting complex values to real discards the imaginary part\n",
      "  coeffs = np.array(coeffs).astype(self.rtype)\n"
     ]
    },
    {
     "name": "stdout",
     "output_type": "stream",
     "text": [
      "The expectation value of a⁺(1) a⁺(2) a(6) a(7) is 2.9555794670951135e-18\n",
      "The current excitation operator is a⁺(1) a⁺(3) a(5) a(7)\n",
      "The expectation value of a⁺(1) a⁺(3) a(5) a(7) is 0.009022363669103584\n",
      "The current excitation operator is a⁺(2) a⁺(3) a(4) a(5)\n"
     ]
    },
    {
     "name": "stderr",
     "output_type": "stream",
     "text": [
      "/Users/pssrivathsansundar/.virtualenvs/new_venv/lib/python3.11/site-packages/pennylane_lightning/core/_serialize.py:283: ComplexWarning: Casting complex values to real discards the imaginary part\n",
      "  coeffs = np.array(coeffs).astype(self.rtype)\n"
     ]
    },
    {
     "name": "stdout",
     "output_type": "stream",
     "text": [
      "The expectation value of a⁺(2) a⁺(3) a(4) a(5) is 0.034782238315514136\n",
      "The current excitation operator is a⁺(2) a⁺(3) a(4) a(7)\n"
     ]
    },
    {
     "name": "stderr",
     "output_type": "stream",
     "text": [
      "/Users/pssrivathsansundar/.virtualenvs/new_venv/lib/python3.11/site-packages/pennylane_lightning/core/_serialize.py:283: ComplexWarning: Casting complex values to real discards the imaginary part\n",
      "  coeffs = np.array(coeffs).astype(self.rtype)\n"
     ]
    },
    {
     "name": "stdout",
     "output_type": "stream",
     "text": [
      "The expectation value of a⁺(2) a⁺(3) a(4) a(7) is 3.186786323349646e-18\n",
      "The current excitation operator is a⁺(2) a⁺(3) a(5) a(6)\n"
     ]
    },
    {
     "name": "stderr",
     "output_type": "stream",
     "text": [
      "/Users/pssrivathsansundar/.virtualenvs/new_venv/lib/python3.11/site-packages/pennylane_lightning/core/_serialize.py:283: ComplexWarning: Casting complex values to real discards the imaginary part\n",
      "  coeffs = np.array(coeffs).astype(self.rtype)\n",
      "/Users/pssrivathsansundar/.virtualenvs/new_venv/lib/python3.11/site-packages/pennylane_lightning/core/_serialize.py:283: ComplexWarning: Casting complex values to real discards the imaginary part\n",
      "  coeffs = np.array(coeffs).astype(self.rtype)\n"
     ]
    },
    {
     "name": "stdout",
     "output_type": "stream",
     "text": [
      "The expectation value of a⁺(2) a⁺(3) a(5) a(6) is 8.516644015053652e-20\n",
      "The current excitation operator is a⁺(2) a⁺(3) a(6) a(7)\n",
      "The expectation value of a⁺(2) a⁺(3) a(6) a(7) is 1.7553574649387116e-08\n",
      "The highest operator value is 0.424757445311127 for operator a⁺(0) a⁺(1) a(4) a(5)\n",
      "Highest gradient excitation is [0, 1, 4, 5]\n",
      "The current status of ash_excitation is [[2, 3, 6, 7], [0, 3, 5, 6], [0, 1, 4, 5]]\n",
      "Moving towards parameters\n",
      "Parameters before optimization are [-1.09716183 -1.37775783  0.        ]\n",
      "Current parameters: [-1.09716185 -1.37775783 -1.44489272]\n",
      "Current cost: -1.7420659511928664\n",
      "\n",
      "Current parameters: [-1.20165229 -1.38132946 -1.45784156]\n",
      "Current cost: -1.743632905220808\n",
      "\n",
      "Current parameters: [-1.20338932 -1.38266317 -1.45806209]\n",
      "Current cost: -1.7436334410239516\n",
      "\n",
      "Current parameters: [-1.20339347 -1.38269585 -1.458189  ]\n",
      "Current cost: -1.7436334426139464\n",
      "\n",
      "Optimization terminated successfully.\n",
      "         Current function value: -1.743633\n",
      "         Iterations: 4\n",
      "         Function evaluations: 303\n",
      "Final updated parameters: [-1.20339347 -1.38269585 -1.458189  ]\n",
      "Final cost: -1.7436334426139464\n",
      "Updated params are [-1.20339347 -1.38269585 -1.458189  ]\n",
      "Updated excitation are [[2, 3, 6, 7], [0, 3, 5, 6], [0, 1, 4, 5]]\n",
      "Exc. dealing right now is [2, 3, 6, 7]\n",
      "The params that are going in -1.2033934696588178\n",
      "Exc. dealing right now is [0, 3, 5, 6]\n",
      "The params that are going in -1.382695849450677\n",
      "Exc. dealing right now is [0, 1, 4, 5]\n",
      "The params that are going in -1.4581890008577816\n",
      "Exc. dealing right now is [2, 3, 6, 7]\n",
      "The params that are going in -1.2033934696588178\n",
      "Exc. dealing right now is [0, 3, 5, 6]\n",
      "The params that are going in -1.382695849450677\n",
      "Exc. dealing right now is [0, 1, 4, 5]\n",
      "The params that are going in -1.4581890008577816\n",
      "0: ──X───────────────────────────────────╭FermionicDoubleExcitation(-1.38)\n",
      "1: ──X───────────────────────────────────│────────────────────────────────\n",
      "2: ──X─╭FermionicDoubleExcitation(-1.20)─│────────────────────────────────\n",
      "3: ──X─├FermionicDoubleExcitation(-1.20)─├FermionicDoubleExcitation(-1.38)\n",
      "4: ────│─────────────────────────────────│────────────────────────────────\n",
      "5: ────│─────────────────────────────────├FermionicDoubleExcitation(-1.38)\n",
      "6: ────├FermionicDoubleExcitation(-1.20)─╰FermionicDoubleExcitation(-1.38)\n",
      "7: ────╰FermionicDoubleExcitation(-1.20)──────────────────────────────────\n",
      "\n",
      "──╭FermionicDoubleExcitation(-1.46)─┤  State\n",
      "──├FermionicDoubleExcitation(-1.46)─┤  State\n",
      "──│─────────────────────────────────┤  State\n",
      "──│─────────────────────────────────┤  State\n",
      "──├FermionicDoubleExcitation(-1.46)─┤  State\n",
      "──╰FermionicDoubleExcitation(-1.46)─┤  State\n",
      "────────────────────────────────────┤  State\n",
      "────────────────────────────────────┤  State\n",
      "The adapt iteration now is 3\n",
      "The current excitation operator is a⁺(0) a(4)\n",
      "The expectation value of a⁺(0) a(4) is 0.11108661805088701\n",
      "The current excitation operator is a⁺(0) a(6)\n",
      "The expectation value of a⁺(0) a(6) is 1.5391379365643715e-17\n",
      "The current excitation operator is a⁺(1) a(5)\n"
     ]
    },
    {
     "name": "stderr",
     "output_type": "stream",
     "text": [
      "/Users/pssrivathsansundar/.virtualenvs/new_venv/lib/python3.11/site-packages/pennylane_lightning/core/_serialize.py:283: ComplexWarning: Casting complex values to real discards the imaginary part\n",
      "  coeffs = np.array(coeffs).astype(self.rtype)\n",
      "/Users/pssrivathsansundar/.virtualenvs/new_venv/lib/python3.11/site-packages/pennylane_lightning/core/_serialize.py:283: ComplexWarning: Casting complex values to real discards the imaginary part\n",
      "  coeffs = np.array(coeffs).astype(self.rtype)\n",
      "/Users/pssrivathsansundar/.virtualenvs/new_venv/lib/python3.11/site-packages/pennylane_lightning/core/_serialize.py:283: ComplexWarning: Casting complex values to real discards the imaginary part\n",
      "  coeffs = np.array(coeffs).astype(self.rtype)\n",
      "/Users/pssrivathsansundar/.virtualenvs/new_venv/lib/python3.11/site-packages/pennylane_lightning/core/_serialize.py:283: ComplexWarning: Casting complex values to real discards the imaginary part\n",
      "  coeffs = np.array(coeffs).astype(self.rtype)\n"
     ]
    },
    {
     "name": "stdout",
     "output_type": "stream",
     "text": [
      "The expectation value of a⁺(1) a(5) is 0.10813595228501563\n",
      "The current excitation operator is a⁺(1) a(7)\n",
      "The expectation value of a⁺(1) a(7) is 8.315755843486451e-18\n",
      "The current excitation operator is a⁺(2) a(4)\n",
      "The expectation value of a⁺(2) a(4) is 7.38933640824741e-18\n",
      "The current excitation operator is a⁺(2) a(6)\n"
     ]
    },
    {
     "name": "stderr",
     "output_type": "stream",
     "text": [
      "/Users/pssrivathsansundar/.virtualenvs/new_venv/lib/python3.11/site-packages/pennylane_lightning/core/_serialize.py:283: ComplexWarning: Casting complex values to real discards the imaginary part\n",
      "  coeffs = np.array(coeffs).astype(self.rtype)\n",
      "/Users/pssrivathsansundar/.virtualenvs/new_venv/lib/python3.11/site-packages/pennylane_lightning/core/_serialize.py:283: ComplexWarning: Casting complex values to real discards the imaginary part\n",
      "  coeffs = np.array(coeffs).astype(self.rtype)\n",
      "/Users/pssrivathsansundar/.virtualenvs/new_venv/lib/python3.11/site-packages/pennylane_lightning/core/_serialize.py:283: ComplexWarning: Casting complex values to real discards the imaginary part\n",
      "  coeffs = np.array(coeffs).astype(self.rtype)\n"
     ]
    },
    {
     "name": "stdout",
     "output_type": "stream",
     "text": [
      "The expectation value of a⁺(2) a(6) is 0.11088879686359537\n",
      "The current excitation operator is a⁺(3) a(5)\n",
      "The expectation value of a⁺(3) a(5) is 2.57159976559279e-17\n",
      "The current excitation operator is a⁺(3) a(7)\n"
     ]
    },
    {
     "name": "stderr",
     "output_type": "stream",
     "text": [
      "/Users/pssrivathsansundar/.virtualenvs/new_venv/lib/python3.11/site-packages/pennylane_lightning/core/_serialize.py:283: ComplexWarning: Casting complex values to real discards the imaginary part\n",
      "  coeffs = np.array(coeffs).astype(self.rtype)\n"
     ]
    },
    {
     "name": "stdout",
     "output_type": "stream",
     "text": [
      "The expectation value of a⁺(3) a(7) is 0.10794556771790771\n",
      "The current excitation operator is a⁺(0) a⁺(1) a(4) a(5)\n"
     ]
    },
    {
     "name": "stderr",
     "output_type": "stream",
     "text": [
      "/Users/pssrivathsansundar/.virtualenvs/new_venv/lib/python3.11/site-packages/pennylane_lightning/core/_serialize.py:283: ComplexWarning: Casting complex values to real discards the imaginary part\n",
      "  coeffs = np.array(coeffs).astype(self.rtype)\n"
     ]
    },
    {
     "name": "stdout",
     "output_type": "stream",
     "text": [
      "The expectation value of a⁺(0) a⁺(1) a(4) a(5) is 1.1684454566535107e-06\n",
      "The current excitation operator is a⁺(0) a⁺(1) a(4) a(7)\n"
     ]
    },
    {
     "name": "stderr",
     "output_type": "stream",
     "text": [
      "/Users/pssrivathsansundar/.virtualenvs/new_venv/lib/python3.11/site-packages/pennylane_lightning/core/_serialize.py:283: ComplexWarning: Casting complex values to real discards the imaginary part\n",
      "  coeffs = np.array(coeffs).astype(self.rtype)\n"
     ]
    },
    {
     "name": "stdout",
     "output_type": "stream",
     "text": [
      "The expectation value of a⁺(0) a⁺(1) a(4) a(7) is 5.548145806917897e-18\n",
      "The current excitation operator is a⁺(0) a⁺(1) a(5) a(6)\n"
     ]
    },
    {
     "name": "stderr",
     "output_type": "stream",
     "text": [
      "/Users/pssrivathsansundar/.virtualenvs/new_venv/lib/python3.11/site-packages/pennylane_lightning/core/_serialize.py:283: ComplexWarning: Casting complex values to real discards the imaginary part\n",
      "  coeffs = np.array(coeffs).astype(self.rtype)\n"
     ]
    },
    {
     "name": "stdout",
     "output_type": "stream",
     "text": [
      "The expectation value of a⁺(0) a⁺(1) a(5) a(6) is 3.342421170838873e-18\n",
      "The current excitation operator is a⁺(0) a⁺(1) a(6) a(7)\n"
     ]
    },
    {
     "name": "stderr",
     "output_type": "stream",
     "text": [
      "/Users/pssrivathsansundar/.virtualenvs/new_venv/lib/python3.11/site-packages/pennylane_lightning/core/_serialize.py:283: ComplexWarning: Casting complex values to real discards the imaginary part\n",
      "  coeffs = np.array(coeffs).astype(self.rtype)\n"
     ]
    },
    {
     "name": "stdout",
     "output_type": "stream",
     "text": [
      "The expectation value of a⁺(0) a⁺(1) a(6) a(7) is 0.002026394188719546\n",
      "The current excitation operator is a⁺(0) a⁺(2) a(4) a(6)\n",
      "The expectation value of a⁺(0) a⁺(2) a(4) a(6) is 0.004092801736745982\n",
      "The current excitation operator is a⁺(0) a⁺(3) a(4) a(5)\n"
     ]
    },
    {
     "name": "stderr",
     "output_type": "stream",
     "text": [
      "/Users/pssrivathsansundar/.virtualenvs/new_venv/lib/python3.11/site-packages/pennylane_lightning/core/_serialize.py:283: ComplexWarning: Casting complex values to real discards the imaginary part\n",
      "  coeffs = np.array(coeffs).astype(self.rtype)\n",
      "/Users/pssrivathsansundar/.virtualenvs/new_venv/lib/python3.11/site-packages/pennylane_lightning/core/_serialize.py:283: ComplexWarning: Casting complex values to real discards the imaginary part\n",
      "  coeffs = np.array(coeffs).astype(self.rtype)\n",
      "/Users/pssrivathsansundar/.virtualenvs/new_venv/lib/python3.11/site-packages/pennylane_lightning/core/_serialize.py:283: ComplexWarning: Casting complex values to real discards the imaginary part\n",
      "  coeffs = np.array(coeffs).astype(self.rtype)\n"
     ]
    },
    {
     "name": "stdout",
     "output_type": "stream",
     "text": [
      "The expectation value of a⁺(0) a⁺(3) a(4) a(5) is 1.7986763032772323e-18\n",
      "The current excitation operator is a⁺(0) a⁺(3) a(4) a(7)\n",
      "The expectation value of a⁺(0) a⁺(3) a(4) a(7) is 0.0094147883981512\n",
      "The current excitation operator is a⁺(0) a⁺(3) a(5) a(6)\n"
     ]
    },
    {
     "name": "stderr",
     "output_type": "stream",
     "text": [
      "/Users/pssrivathsansundar/.virtualenvs/new_venv/lib/python3.11/site-packages/pennylane_lightning/core/_serialize.py:283: ComplexWarning: Casting complex values to real discards the imaginary part\n",
      "  coeffs = np.array(coeffs).astype(self.rtype)\n"
     ]
    },
    {
     "name": "stdout",
     "output_type": "stream",
     "text": [
      "The expectation value of a⁺(0) a⁺(3) a(5) a(6) is 0.21412335347106587\n",
      "The current excitation operator is a⁺(0) a⁺(3) a(6) a(7)\n"
     ]
    },
    {
     "name": "stderr",
     "output_type": "stream",
     "text": [
      "/Users/pssrivathsansundar/.virtualenvs/new_venv/lib/python3.11/site-packages/pennylane_lightning/core/_serialize.py:283: ComplexWarning: Casting complex values to real discards the imaginary part\n",
      "  coeffs = np.array(coeffs).astype(self.rtype)\n"
     ]
    },
    {
     "name": "stdout",
     "output_type": "stream",
     "text": [
      "The expectation value of a⁺(0) a⁺(3) a(6) a(7) is 3.223200117564471e-18\n",
      "The current excitation operator is a⁺(1) a⁺(2) a(4) a(5)\n"
     ]
    },
    {
     "name": "stderr",
     "output_type": "stream",
     "text": [
      "/Users/pssrivathsansundar/.virtualenvs/new_venv/lib/python3.11/site-packages/pennylane_lightning/core/_serialize.py:283: ComplexWarning: Casting complex values to real discards the imaginary part\n",
      "  coeffs = np.array(coeffs).astype(self.rtype)\n"
     ]
    },
    {
     "name": "stdout",
     "output_type": "stream",
     "text": [
      "The expectation value of a⁺(1) a⁺(2) a(4) a(5) is 6.7773850798004476e-18\n",
      "The current excitation operator is a⁺(1) a⁺(2) a(4) a(7)\n"
     ]
    },
    {
     "name": "stderr",
     "output_type": "stream",
     "text": [
      "/Users/pssrivathsansundar/.virtualenvs/new_venv/lib/python3.11/site-packages/pennylane_lightning/core/_serialize.py:283: ComplexWarning: Casting complex values to real discards the imaginary part\n",
      "  coeffs = np.array(coeffs).astype(self.rtype)\n"
     ]
    },
    {
     "name": "stdout",
     "output_type": "stream",
     "text": [
      "The expectation value of a⁺(1) a⁺(2) a(4) a(7) is 0.26894280421720373\n",
      "The current excitation operator is a⁺(1) a⁺(2) a(5) a(6)\n"
     ]
    },
    {
     "name": "stderr",
     "output_type": "stream",
     "text": [
      "/Users/pssrivathsansundar/.virtualenvs/new_venv/lib/python3.11/site-packages/pennylane_lightning/core/_serialize.py:283: ComplexWarning: Casting complex values to real discards the imaginary part\n",
      "  coeffs = np.array(coeffs).astype(self.rtype)\n"
     ]
    },
    {
     "name": "stdout",
     "output_type": "stream",
     "text": [
      "The expectation value of a⁺(1) a⁺(2) a(5) a(6) is 0.01344434981777369\n",
      "The current excitation operator is a⁺(1) a⁺(2) a(6) a(7)\n"
     ]
    },
    {
     "name": "stderr",
     "output_type": "stream",
     "text": [
      "/Users/pssrivathsansundar/.virtualenvs/new_venv/lib/python3.11/site-packages/pennylane_lightning/core/_serialize.py:283: ComplexWarning: Casting complex values to real discards the imaginary part\n",
      "  coeffs = np.array(coeffs).astype(self.rtype)\n",
      "/Users/pssrivathsansundar/.virtualenvs/new_venv/lib/python3.11/site-packages/pennylane_lightning/core/_serialize.py:283: ComplexWarning: Casting complex values to real discards the imaginary part\n",
      "  coeffs = np.array(coeffs).astype(self.rtype)\n"
     ]
    },
    {
     "name": "stdout",
     "output_type": "stream",
     "text": [
      "The expectation value of a⁺(1) a⁺(2) a(6) a(7) is 5.420042008633115e-18\n",
      "The current excitation operator is a⁺(1) a⁺(3) a(5) a(7)\n",
      "The expectation value of a⁺(1) a⁺(3) a(5) a(7) is 0.011457715469485026\n",
      "The current excitation operator is a⁺(2) a⁺(3) a(4) a(5)\n"
     ]
    },
    {
     "name": "stderr",
     "output_type": "stream",
     "text": [
      "/Users/pssrivathsansundar/.virtualenvs/new_venv/lib/python3.11/site-packages/pennylane_lightning/core/_serialize.py:283: ComplexWarning: Casting complex values to real discards the imaginary part\n",
      "  coeffs = np.array(coeffs).astype(self.rtype)\n"
     ]
    },
    {
     "name": "stdout",
     "output_type": "stream",
     "text": [
      "The expectation value of a⁺(2) a⁺(3) a(4) a(5) is 0.0006663337631625495\n",
      "The current excitation operator is a⁺(2) a⁺(3) a(4) a(7)\n"
     ]
    },
    {
     "name": "stderr",
     "output_type": "stream",
     "text": [
      "/Users/pssrivathsansundar/.virtualenvs/new_venv/lib/python3.11/site-packages/pennylane_lightning/core/_serialize.py:283: ComplexWarning: Casting complex values to real discards the imaginary part\n",
      "  coeffs = np.array(coeffs).astype(self.rtype)\n"
     ]
    },
    {
     "name": "stdout",
     "output_type": "stream",
     "text": [
      "The expectation value of a⁺(2) a⁺(3) a(4) a(7) is 6.905583725506827e-18\n",
      "The current excitation operator is a⁺(2) a⁺(3) a(5) a(6)\n"
     ]
    },
    {
     "name": "stderr",
     "output_type": "stream",
     "text": [
      "/Users/pssrivathsansundar/.virtualenvs/new_venv/lib/python3.11/site-packages/pennylane_lightning/core/_serialize.py:283: ComplexWarning: Casting complex values to real discards the imaginary part\n",
      "  coeffs = np.array(coeffs).astype(self.rtype)\n"
     ]
    },
    {
     "name": "stdout",
     "output_type": "stream",
     "text": [
      "The expectation value of a⁺(2) a⁺(3) a(5) a(6) is 1.9314467815552716e-18\n",
      "The current excitation operator is a⁺(2) a⁺(3) a(6) a(7)\n"
     ]
    },
    {
     "name": "stderr",
     "output_type": "stream",
     "text": [
      "/Users/pssrivathsansundar/.virtualenvs/new_venv/lib/python3.11/site-packages/pennylane_lightning/core/_serialize.py:283: ComplexWarning: Casting complex values to real discards the imaginary part\n",
      "  coeffs = np.array(coeffs).astype(self.rtype)\n"
     ]
    },
    {
     "name": "stdout",
     "output_type": "stream",
     "text": [
      "The expectation value of a⁺(2) a⁺(3) a(6) a(7) is 1.6264103924745754e-08\n",
      "The highest operator value is 0.26894280421720373 for operator a⁺(1) a⁺(2) a(4) a(7)\n",
      "Highest gradient excitation is [1, 2, 4, 7]\n",
      "The current status of ash_excitation is [[2, 3, 6, 7], [0, 3, 5, 6], [0, 1, 4, 5], [1, 2, 4, 7]]\n",
      "Moving towards parameters\n",
      "Parameters before optimization are [-1.20339347 -1.38269585 -1.458189    0.        ]\n",
      "Current parameters: [-1.2033932  -1.38269656 -1.4581922  -0.74667138]\n",
      "Current cost: -1.7950366325687075\n",
      "\n",
      "Current parameters: [-0.87368083 -1.35355158 -1.12296848 -1.1054813 ]\n",
      "Current cost: -1.8396519205774593\n",
      "\n",
      "Current parameters: [-0.82174608 -1.2973893  -1.02657858 -1.16076049]\n",
      "Current cost: -1.8420601940176011\n",
      "\n",
      "Current parameters: [-0.82588748 -1.28904002 -1.01004787 -1.1643575 ]\n",
      "Current cost: -1.8421083826535607\n",
      "\n",
      "Current parameters: [-0.82832155 -1.28818989 -1.00813347 -1.16400997]\n",
      "Current cost: -1.8421101067196592\n",
      "\n",
      "Current parameters: [-0.82877639 -1.2881285  -1.00804508 -1.16386031]\n",
      "Current cost: -1.842110150889761\n",
      "\n",
      "Current parameters: [-0.82882152 -1.28813043 -1.00807026 -1.16384554]\n",
      "Current cost: -1.8421101514224558\n",
      "\n",
      "Optimization terminated successfully.\n",
      "         Current function value: -1.842110\n",
      "         Iterations: 7\n",
      "         Function evaluations: 584\n",
      "Final updated parameters: [-0.82882152 -1.28813043 -1.00807026 -1.16384554]\n",
      "Final cost: -1.8421101514224558\n",
      "Updated params are [-0.82882152 -1.28813043 -1.00807026 -1.16384554]\n",
      "Updated excitation are [[2, 3, 6, 7], [0, 3, 5, 6], [0, 1, 4, 5], [1, 2, 4, 7]]\n",
      "Exc. dealing right now is [2, 3, 6, 7]\n",
      "The params that are going in -0.8288215234171359\n",
      "Exc. dealing right now is [0, 3, 5, 6]\n",
      "The params that are going in -1.2881304286825617\n",
      "Exc. dealing right now is [0, 1, 4, 5]\n",
      "The params that are going in -1.0080702574914502\n",
      "Exc. dealing right now is [1, 2, 4, 7]\n",
      "The params that are going in -1.1638455421085796\n",
      "Exc. dealing right now is [2, 3, 6, 7]\n",
      "The params that are going in -0.8288215234171359\n",
      "Exc. dealing right now is [0, 3, 5, 6]\n",
      "The params that are going in -1.2881304286825617\n",
      "Exc. dealing right now is [0, 1, 4, 5]\n",
      "The params that are going in -1.0080702574914502\n",
      "Exc. dealing right now is [1, 2, 4, 7]\n",
      "The params that are going in -1.1638455421085796\n",
      "0: ──X───────────────────────────────────╭FermionicDoubleExcitation(-1.29)\n",
      "1: ──X───────────────────────────────────│────────────────────────────────\n",
      "2: ──X─╭FermionicDoubleExcitation(-0.83)─│────────────────────────────────\n",
      "3: ──X─├FermionicDoubleExcitation(-0.83)─├FermionicDoubleExcitation(-1.29)\n",
      "4: ────│─────────────────────────────────│────────────────────────────────\n",
      "5: ────│─────────────────────────────────├FermionicDoubleExcitation(-1.29)\n",
      "6: ────├FermionicDoubleExcitation(-0.83)─╰FermionicDoubleExcitation(-1.29)\n",
      "7: ────╰FermionicDoubleExcitation(-0.83)──────────────────────────────────\n",
      "\n",
      "──╭FermionicDoubleExcitation(-1.01)───────────────────────────────────┤  State\n",
      "──├FermionicDoubleExcitation(-1.01)─╭FermionicDoubleExcitation(-1.16)─┤  State\n",
      "──│─────────────────────────────────├FermionicDoubleExcitation(-1.16)─┤  State\n",
      "──│─────────────────────────────────│─────────────────────────────────┤  State\n",
      "──├FermionicDoubleExcitation(-1.01)─├FermionicDoubleExcitation(-1.16)─┤  State\n",
      "──╰FermionicDoubleExcitation(-1.01)─│─────────────────────────────────┤  State\n",
      "────────────────────────────────────│─────────────────────────────────┤  State\n",
      "────────────────────────────────────╰FermionicDoubleExcitation(-1.16)─┤  State\n",
      "The adapt iteration now is 4\n",
      "The current excitation operator is a⁺(0) a(4)\n"
     ]
    },
    {
     "name": "stderr",
     "output_type": "stream",
     "text": [
      "/Users/pssrivathsansundar/.virtualenvs/new_venv/lib/python3.11/site-packages/pennylane_lightning/core/_serialize.py:283: ComplexWarning: Casting complex values to real discards the imaginary part\n",
      "  coeffs = np.array(coeffs).astype(self.rtype)\n",
      "/Users/pssrivathsansundar/.virtualenvs/new_venv/lib/python3.11/site-packages/pennylane_lightning/core/_serialize.py:283: ComplexWarning: Casting complex values to real discards the imaginary part\n",
      "  coeffs = np.array(coeffs).astype(self.rtype)\n",
      "/Users/pssrivathsansundar/.virtualenvs/new_venv/lib/python3.11/site-packages/pennylane_lightning/core/_serialize.py:283: ComplexWarning: Casting complex values to real discards the imaginary part\n",
      "  coeffs = np.array(coeffs).astype(self.rtype)\n",
      "/Users/pssrivathsansundar/.virtualenvs/new_venv/lib/python3.11/site-packages/pennylane_lightning/core/_serialize.py:283: ComplexWarning: Casting complex values to real discards the imaginary part\n",
      "  coeffs = np.array(coeffs).astype(self.rtype)\n"
     ]
    },
    {
     "name": "stdout",
     "output_type": "stream",
     "text": [
      "The expectation value of a⁺(0) a(4) is 0.11800197009205174\n",
      "The current excitation operator is a⁺(0) a(6)\n",
      "The expectation value of a⁺(0) a(6) is 1.5787022314296433e-17\n",
      "The current excitation operator is a⁺(1) a(5)\n",
      "The expectation value of a⁺(1) a(5) is 0.11800199845879658\n",
      "The current excitation operator is a⁺(1) a(7)\n",
      "The expectation value of a⁺(1) a(7) is 3.427399400773787e-17\n",
      "The current excitation operator is a⁺(2) a(4)\n"
     ]
    },
    {
     "name": "stderr",
     "output_type": "stream",
     "text": [
      "/Users/pssrivathsansundar/.virtualenvs/new_venv/lib/python3.11/site-packages/pennylane_lightning/core/_serialize.py:283: ComplexWarning: Casting complex values to real discards the imaginary part\n",
      "  coeffs = np.array(coeffs).astype(self.rtype)\n",
      "/Users/pssrivathsansundar/.virtualenvs/new_venv/lib/python3.11/site-packages/pennylane_lightning/core/_serialize.py:283: ComplexWarning: Casting complex values to real discards the imaginary part\n",
      "  coeffs = np.array(coeffs).astype(self.rtype)\n",
      "/Users/pssrivathsansundar/.virtualenvs/new_venv/lib/python3.11/site-packages/pennylane_lightning/core/_serialize.py:283: ComplexWarning: Casting complex values to real discards the imaginary part\n",
      "  coeffs = np.array(coeffs).astype(self.rtype)\n",
      "/Users/pssrivathsansundar/.virtualenvs/new_venv/lib/python3.11/site-packages/pennylane_lightning/core/_serialize.py:283: ComplexWarning: Casting complex values to real discards the imaginary part\n",
      "  coeffs = np.array(coeffs).astype(self.rtype)\n"
     ]
    },
    {
     "name": "stdout",
     "output_type": "stream",
     "text": [
      "The expectation value of a⁺(2) a(4) is 3.7691793758870747e-17\n",
      "The current excitation operator is a⁺(2) a(6)\n",
      "The expectation value of a⁺(2) a(6) is 0.11762883495809906\n",
      "The current excitation operator is a⁺(3) a(5)\n",
      "The expectation value of a⁺(3) a(5) is 1.88673291589831e-17\n",
      "The current excitation operator is a⁺(3) a(7)\n",
      "The expectation value of a⁺(3) a(7) is 0.11762886344539046\n",
      "The current excitation operator is a⁺(0) a⁺(1) a(4) a(5)\n"
     ]
    },
    {
     "name": "stderr",
     "output_type": "stream",
     "text": [
      "/Users/pssrivathsansundar/.virtualenvs/new_venv/lib/python3.11/site-packages/pennylane_lightning/core/_serialize.py:283: ComplexWarning: Casting complex values to real discards the imaginary part\n",
      "  coeffs = np.array(coeffs).astype(self.rtype)\n",
      "/Users/pssrivathsansundar/.virtualenvs/new_venv/lib/python3.11/site-packages/pennylane_lightning/core/_serialize.py:283: ComplexWarning: Casting complex values to real discards the imaginary part\n",
      "  coeffs = np.array(coeffs).astype(self.rtype)\n"
     ]
    },
    {
     "name": "stdout",
     "output_type": "stream",
     "text": [
      "The expectation value of a⁺(0) a⁺(1) a(4) a(5) is 6.07268082764012e-07\n",
      "The current excitation operator is a⁺(0) a⁺(1) a(4) a(7)\n",
      "The expectation value of a⁺(0) a⁺(1) a(4) a(7) is 4.421037894958424e-19\n",
      "The current excitation operator is a⁺(0) a⁺(1) a(5) a(6)\n"
     ]
    },
    {
     "name": "stderr",
     "output_type": "stream",
     "text": [
      "/Users/pssrivathsansundar/.virtualenvs/new_venv/lib/python3.11/site-packages/pennylane_lightning/core/_serialize.py:283: ComplexWarning: Casting complex values to real discards the imaginary part\n",
      "  coeffs = np.array(coeffs).astype(self.rtype)\n"
     ]
    },
    {
     "name": "stdout",
     "output_type": "stream",
     "text": [
      "The expectation value of a⁺(0) a⁺(1) a(5) a(6) is 9.652814496621772e-19\n",
      "The current excitation operator is a⁺(0) a⁺(1) a(6) a(7)\n",
      "The expectation value of a⁺(0) a⁺(1) a(6) a(7) is 0.0062407502664106156\n",
      "The current excitation operator is a⁺(0) a⁺(2) a(4) a(6)\n"
     ]
    },
    {
     "name": "stderr",
     "output_type": "stream",
     "text": [
      "/Users/pssrivathsansundar/.virtualenvs/new_venv/lib/python3.11/site-packages/pennylane_lightning/core/_serialize.py:283: ComplexWarning: Casting complex values to real discards the imaginary part\n",
      "  coeffs = np.array(coeffs).astype(self.rtype)\n",
      "/Users/pssrivathsansundar/.virtualenvs/new_venv/lib/python3.11/site-packages/pennylane_lightning/core/_serialize.py:283: ComplexWarning: Casting complex values to real discards the imaginary part\n",
      "  coeffs = np.array(coeffs).astype(self.rtype)\n"
     ]
    },
    {
     "name": "stdout",
     "output_type": "stream",
     "text": [
      "The expectation value of a⁺(0) a⁺(2) a(4) a(6) is 0.00135902634658894\n",
      "The current excitation operator is a⁺(0) a⁺(3) a(4) a(5)\n"
     ]
    },
    {
     "name": "stderr",
     "output_type": "stream",
     "text": [
      "/Users/pssrivathsansundar/.virtualenvs/new_venv/lib/python3.11/site-packages/pennylane_lightning/core/_serialize.py:283: ComplexWarning: Casting complex values to real discards the imaginary part\n",
      "  coeffs = np.array(coeffs).astype(self.rtype)\n"
     ]
    },
    {
     "name": "stdout",
     "output_type": "stream",
     "text": [
      "The expectation value of a⁺(0) a⁺(3) a(4) a(5) is 6.4736379011934744e-18\n",
      "The current excitation operator is a⁺(0) a⁺(3) a(4) a(7)\n"
     ]
    },
    {
     "name": "stderr",
     "output_type": "stream",
     "text": [
      "/Users/pssrivathsansundar/.virtualenvs/new_venv/lib/python3.11/site-packages/pennylane_lightning/core/_serialize.py:283: ComplexWarning: Casting complex values to real discards the imaginary part\n",
      "  coeffs = np.array(coeffs).astype(self.rtype)\n"
     ]
    },
    {
     "name": "stdout",
     "output_type": "stream",
     "text": [
      "The expectation value of a⁺(0) a⁺(3) a(4) a(7) is 0.006446373292068045\n",
      "The current excitation operator is a⁺(0) a⁺(3) a(5) a(6)\n"
     ]
    },
    {
     "name": "stderr",
     "output_type": "stream",
     "text": [
      "/Users/pssrivathsansundar/.virtualenvs/new_venv/lib/python3.11/site-packages/pennylane_lightning/core/_serialize.py:283: ComplexWarning: Casting complex values to real discards the imaginary part\n",
      "  coeffs = np.array(coeffs).astype(self.rtype)\n"
     ]
    },
    {
     "name": "stdout",
     "output_type": "stream",
     "text": [
      "The expectation value of a⁺(0) a⁺(3) a(5) a(6) is 2.0899366140469944e-06\n",
      "The current excitation operator is a⁺(0) a⁺(3) a(6) a(7)\n"
     ]
    },
    {
     "name": "stderr",
     "output_type": "stream",
     "text": [
      "/Users/pssrivathsansundar/.virtualenvs/new_venv/lib/python3.11/site-packages/pennylane_lightning/core/_serialize.py:283: ComplexWarning: Casting complex values to real discards the imaginary part\n",
      "  coeffs = np.array(coeffs).astype(self.rtype)\n"
     ]
    },
    {
     "name": "stdout",
     "output_type": "stream",
     "text": [
      "The expectation value of a⁺(0) a⁺(3) a(6) a(7) is 1.151754902722525e-18\n",
      "The current excitation operator is a⁺(1) a⁺(2) a(4) a(5)\n"
     ]
    },
    {
     "name": "stderr",
     "output_type": "stream",
     "text": [
      "/Users/pssrivathsansundar/.virtualenvs/new_venv/lib/python3.11/site-packages/pennylane_lightning/core/_serialize.py:283: ComplexWarning: Casting complex values to real discards the imaginary part\n",
      "  coeffs = np.array(coeffs).astype(self.rtype)\n"
     ]
    },
    {
     "name": "stdout",
     "output_type": "stream",
     "text": [
      "The expectation value of a⁺(1) a⁺(2) a(4) a(5) is 1.4709962910973486e-18\n",
      "The current excitation operator is a⁺(1) a⁺(2) a(4) a(7)\n",
      "The expectation value of a⁺(1) a⁺(2) a(4) a(7) is 4.449232710757034e-06\n",
      "The current excitation operator is a⁺(1) a⁺(2) a(5) a(6)\n"
     ]
    },
    {
     "name": "stderr",
     "output_type": "stream",
     "text": [
      "/Users/pssrivathsansundar/.virtualenvs/new_venv/lib/python3.11/site-packages/pennylane_lightning/core/_serialize.py:283: ComplexWarning: Casting complex values to real discards the imaginary part\n",
      "  coeffs = np.array(coeffs).astype(self.rtype)\n",
      "/Users/pssrivathsansundar/.virtualenvs/new_venv/lib/python3.11/site-packages/pennylane_lightning/core/_serialize.py:283: ComplexWarning: Casting complex values to real discards the imaginary part\n",
      "  coeffs = np.array(coeffs).astype(self.rtype)\n",
      "/Users/pssrivathsansundar/.virtualenvs/new_venv/lib/python3.11/site-packages/pennylane_lightning/core/_serialize.py:283: ComplexWarning: Casting complex values to real discards the imaginary part\n",
      "  coeffs = np.array(coeffs).astype(self.rtype)\n"
     ]
    },
    {
     "name": "stdout",
     "output_type": "stream",
     "text": [
      "The expectation value of a⁺(1) a⁺(2) a(5) a(6) is 0.006446311076685189\n",
      "The current excitation operator is a⁺(1) a⁺(2) a(6) a(7)\n",
      "The expectation value of a⁺(1) a⁺(2) a(6) a(7) is 6.579223429268542e-19\n",
      "The current excitation operator is a⁺(1) a⁺(3) a(5) a(7)\n",
      "The expectation value of a⁺(1) a⁺(3) a(5) a(7) is 0.001359140058946072\n",
      "The current excitation operator is a⁺(2) a⁺(3) a(4) a(5)\n"
     ]
    },
    {
     "name": "stderr",
     "output_type": "stream",
     "text": [
      "/Users/pssrivathsansundar/.virtualenvs/new_venv/lib/python3.11/site-packages/pennylane_lightning/core/_serialize.py:283: ComplexWarning: Casting complex values to real discards the imaginary part\n",
      "  coeffs = np.array(coeffs).astype(self.rtype)\n",
      "/Users/pssrivathsansundar/.virtualenvs/new_venv/lib/python3.11/site-packages/pennylane_lightning/core/_serialize.py:283: ComplexWarning: Casting complex values to real discards the imaginary part\n",
      "  coeffs = np.array(coeffs).astype(self.rtype)\n"
     ]
    },
    {
     "name": "stdout",
     "output_type": "stream",
     "text": [
      "The expectation value of a⁺(2) a⁺(3) a(4) a(5) is 0.0074170241387582735\n",
      "The current excitation operator is a⁺(2) a⁺(3) a(4) a(7)\n"
     ]
    },
    {
     "name": "stderr",
     "output_type": "stream",
     "text": [
      "/Users/pssrivathsansundar/.virtualenvs/new_venv/lib/python3.11/site-packages/pennylane_lightning/core/_serialize.py:283: ComplexWarning: Casting complex values to real discards the imaginary part\n",
      "  coeffs = np.array(coeffs).astype(self.rtype)\n"
     ]
    },
    {
     "name": "stdout",
     "output_type": "stream",
     "text": [
      "The expectation value of a⁺(2) a⁺(3) a(4) a(7) is 1.6815173404543553e-18\n",
      "The current excitation operator is a⁺(2) a⁺(3) a(5) a(6)\n"
     ]
    },
    {
     "name": "stderr",
     "output_type": "stream",
     "text": [
      "/Users/pssrivathsansundar/.virtualenvs/new_venv/lib/python3.11/site-packages/pennylane_lightning/core/_serialize.py:283: ComplexWarning: Casting complex values to real discards the imaginary part\n",
      "  coeffs = np.array(coeffs).astype(self.rtype)\n"
     ]
    },
    {
     "name": "stdout",
     "output_type": "stream",
     "text": [
      "The expectation value of a⁺(2) a⁺(3) a(5) a(6) is 6.26236538222058e-18\n",
      "The current excitation operator is a⁺(2) a⁺(3) a(6) a(7)\n"
     ]
    },
    {
     "name": "stderr",
     "output_type": "stream",
     "text": [
      "/Users/pssrivathsansundar/.virtualenvs/new_venv/lib/python3.11/site-packages/pennylane_lightning/core/_serialize.py:283: ComplexWarning: Casting complex values to real discards the imaginary part\n",
      "  coeffs = np.array(coeffs).astype(self.rtype)\n"
     ]
    },
    {
     "name": "stdout",
     "output_type": "stream",
     "text": [
      "The expectation value of a⁺(2) a⁺(3) a(6) a(7) is 1.5492150868545718e-06\n",
      "The highest operator value is 0.11800199845879658 for operator a⁺(1) a(5)\n",
      "Highest gradient excitation is [1, 5]\n",
      "The current status of ash_excitation is [[2, 3, 6, 7], [0, 3, 5, 6], [0, 1, 4, 5], [1, 2, 4, 7], [1, 5]]\n",
      "Moving towards parameters\n",
      "Parameters before optimization are [-0.82882152 -1.28813043 -1.00807026 -1.16384554  0.        ]\n",
      "Current parameters: [-0.82882001 -1.28813211 -1.00807108 -1.16383505  0.28091908]\n",
      "Current cost: -1.8504266080488825\n",
      "\n",
      "Current parameters: [-0.8322474  -1.28907894 -1.01501104 -1.16482949  0.28113536]\n",
      "Current cost: -1.8504351643960757\n",
      "\n",
      "Current parameters: [-0.83037    -1.28925296 -1.01550546 -1.1654101   0.28114263]\n",
      "Current cost: -1.85043592391157\n",
      "\n",
      "Current parameters: [-0.8301376  -1.28924904 -1.01542193 -1.16552841  0.28114353]\n",
      "Current cost: -1.8504359362897882\n",
      "\n",
      "Optimization terminated successfully.\n",
      "         Current function value: -1.850436\n",
      "         Iterations: 4\n",
      "         Function evaluations: 499\n",
      "Final updated parameters: [-0.8301376  -1.28924904 -1.01542193 -1.16552841  0.28114353]\n",
      "Final cost: -1.8504359362897882\n",
      "Updated params are [-0.8301376  -1.28924904 -1.01542193 -1.16552841  0.28114353]\n",
      "Updated excitation are [[2, 3, 6, 7], [0, 3, 5, 6], [0, 1, 4, 5], [1, 2, 4, 7], [1, 5]]\n",
      "Exc. dealing right now is [2, 3, 6, 7]\n",
      "The params that are going in -0.8301376039626158\n",
      "Exc. dealing right now is [0, 3, 5, 6]\n",
      "The params that are going in -1.2892490371621976\n",
      "Exc. dealing right now is [0, 1, 4, 5]\n",
      "The params that are going in -1.0154219299341267\n",
      "Exc. dealing right now is [1, 2, 4, 7]\n",
      "The params that are going in -1.1655284129708288\n",
      "Single Exc. dealing right now is [1, 5]\n",
      "Single exc params that are going in 0.28114352905206286\n",
      "Exc. dealing right now is [2, 3, 6, 7]\n",
      "The params that are going in -0.8301376039626158\n",
      "Exc. dealing right now is [0, 3, 5, 6]\n",
      "The params that are going in -1.2892490371621976\n",
      "Exc. dealing right now is [0, 1, 4, 5]\n",
      "The params that are going in -1.0154219299341267\n",
      "Exc. dealing right now is [1, 2, 4, 7]\n",
      "The params that are going in -1.1655284129708288\n",
      "Single Exc. dealing right now is [1, 5]\n",
      "Single exc params that are going in 0.28114352905206286\n",
      "0: ──X───────────────────────────────────╭FermionicDoubleExcitation(-1.29)\n",
      "1: ──X───────────────────────────────────│────────────────────────────────\n",
      "2: ──X─╭FermionicDoubleExcitation(-0.83)─│────────────────────────────────\n",
      "3: ──X─├FermionicDoubleExcitation(-0.83)─├FermionicDoubleExcitation(-1.29)\n",
      "4: ────│─────────────────────────────────│────────────────────────────────\n",
      "5: ────│─────────────────────────────────├FermionicDoubleExcitation(-1.29)\n",
      "6: ────├FermionicDoubleExcitation(-0.83)─╰FermionicDoubleExcitation(-1.29)\n",
      "7: ────╰FermionicDoubleExcitation(-0.83)──────────────────────────────────\n",
      "\n",
      "──╭FermionicDoubleExcitation(-1.02)──────────────────────────────────\n",
      "──├FermionicDoubleExcitation(-1.02)─╭FermionicDoubleExcitation(-1.17)\n",
      "──│─────────────────────────────────├FermionicDoubleExcitation(-1.17)\n",
      "──│─────────────────────────────────│────────────────────────────────\n",
      "──├FermionicDoubleExcitation(-1.02)─├FermionicDoubleExcitation(-1.17)\n",
      "──╰FermionicDoubleExcitation(-1.02)─│────────────────────────────────\n",
      "────────────────────────────────────│────────────────────────────────\n",
      "────────────────────────────────────╰FermionicDoubleExcitation(-1.17)\n",
      "\n",
      "───────────────────────────────────┤  State\n",
      "──╭FermionicSingleExcitation(0.28)─┤  State\n",
      "──├FermionicSingleExcitation(0.28)─┤  State\n",
      "──├FermionicSingleExcitation(0.28)─┤  State\n",
      "──├FermionicSingleExcitation(0.28)─┤  State\n",
      "──╰FermionicSingleExcitation(0.28)─┤  State\n",
      "───────────────────────────────────┤  State\n",
      "───────────────────────────────────┤  State\n",
      "The adapt iteration now is 5\n",
      "The current excitation operator is a⁺(0) a(4)\n",
      "The expectation value of a⁺(0) a(4) is 0.0029125058020534602\n",
      "The current excitation operator is a⁺(0) a(6)\n",
      "The expectation value of a⁺(0) a(6) is 5.984183885362545e-18\n",
      "The current excitation operator is a⁺(1) a(5)\n"
     ]
    },
    {
     "name": "stderr",
     "output_type": "stream",
     "text": [
      "/Users/pssrivathsansundar/.virtualenvs/new_venv/lib/python3.11/site-packages/pennylane_lightning/core/_serialize.py:283: ComplexWarning: Casting complex values to real discards the imaginary part\n",
      "  coeffs = np.array(coeffs).astype(self.rtype)\n",
      "/Users/pssrivathsansundar/.virtualenvs/new_venv/lib/python3.11/site-packages/pennylane_lightning/core/_serialize.py:283: ComplexWarning: Casting complex values to real discards the imaginary part\n",
      "  coeffs = np.array(coeffs).astype(self.rtype)\n",
      "/Users/pssrivathsansundar/.virtualenvs/new_venv/lib/python3.11/site-packages/pennylane_lightning/core/_serialize.py:283: ComplexWarning: Casting complex values to real discards the imaginary part\n",
      "  coeffs = np.array(coeffs).astype(self.rtype)\n",
      "/Users/pssrivathsansundar/.virtualenvs/new_venv/lib/python3.11/site-packages/pennylane_lightning/core/_serialize.py:283: ComplexWarning: Casting complex values to real discards the imaginary part\n",
      "  coeffs = np.array(coeffs).astype(self.rtype)\n"
     ]
    },
    {
     "name": "stdout",
     "output_type": "stream",
     "text": [
      "The expectation value of a⁺(1) a(5) is 1.2647347490193916e-06\n",
      "The current excitation operator is a⁺(1) a(7)\n",
      "The expectation value of a⁺(1) a(7) is 6.01598408715402e-17\n",
      "The current excitation operator is a⁺(2) a(4)\n",
      "The expectation value of a⁺(2) a(4) is 6.578451161835365e-17\n",
      "The current excitation operator is a⁺(2) a(6)\n"
     ]
    },
    {
     "name": "stderr",
     "output_type": "stream",
     "text": [
      "/Users/pssrivathsansundar/.virtualenvs/new_venv/lib/python3.11/site-packages/pennylane_lightning/core/_serialize.py:283: ComplexWarning: Casting complex values to real discards the imaginary part\n",
      "  coeffs = np.array(coeffs).astype(self.rtype)\n",
      "/Users/pssrivathsansundar/.virtualenvs/new_venv/lib/python3.11/site-packages/pennylane_lightning/core/_serialize.py:283: ComplexWarning: Casting complex values to real discards the imaginary part\n",
      "  coeffs = np.array(coeffs).astype(self.rtype)\n",
      "/Users/pssrivathsansundar/.virtualenvs/new_venv/lib/python3.11/site-packages/pennylane_lightning/core/_serialize.py:283: ComplexWarning: Casting complex values to real discards the imaginary part\n",
      "  coeffs = np.array(coeffs).astype(self.rtype)\n"
     ]
    },
    {
     "name": "stdout",
     "output_type": "stream",
     "text": [
      "The expectation value of a⁺(2) a(6) is 0.12345380460254674\n",
      "The current excitation operator is a⁺(3) a(5)\n",
      "The expectation value of a⁺(3) a(5) is 9.863899531246937e-18\n",
      "The current excitation operator is a⁺(3) a(7)\n",
      "The expectation value of a⁺(3) a(7) is 0.11942161573681567\n",
      "The current excitation operator is a⁺(0) a⁺(1) a(4) a(5)\n"
     ]
    },
    {
     "name": "stderr",
     "output_type": "stream",
     "text": [
      "/Users/pssrivathsansundar/.virtualenvs/new_venv/lib/python3.11/site-packages/pennylane_lightning/core/_serialize.py:283: ComplexWarning: Casting complex values to real discards the imaginary part\n",
      "  coeffs = np.array(coeffs).astype(self.rtype)\n",
      "/Users/pssrivathsansundar/.virtualenvs/new_venv/lib/python3.11/site-packages/pennylane_lightning/core/_serialize.py:283: ComplexWarning: Casting complex values to real discards the imaginary part\n",
      "  coeffs = np.array(coeffs).astype(self.rtype)\n"
     ]
    },
    {
     "name": "stdout",
     "output_type": "stream",
     "text": [
      "The expectation value of a⁺(0) a⁺(1) a(4) a(5) is 0.00019881075261526937\n",
      "The current excitation operator is a⁺(0) a⁺(1) a(4) a(7)\n",
      "The expectation value of a⁺(0) a⁺(1) a(4) a(7) is 2.0219674062527894e-18\n",
      "The current excitation operator is a⁺(0) a⁺(1) a(5) a(6)\n"
     ]
    },
    {
     "name": "stderr",
     "output_type": "stream",
     "text": [
      "/Users/pssrivathsansundar/.virtualenvs/new_venv/lib/python3.11/site-packages/pennylane_lightning/core/_serialize.py:283: ComplexWarning: Casting complex values to real discards the imaginary part\n",
      "  coeffs = np.array(coeffs).astype(self.rtype)\n",
      "/Users/pssrivathsansundar/.virtualenvs/new_venv/lib/python3.11/site-packages/pennylane_lightning/core/_serialize.py:283: ComplexWarning: Casting complex values to real discards the imaginary part\n",
      "  coeffs = np.array(coeffs).astype(self.rtype)\n"
     ]
    },
    {
     "name": "stdout",
     "output_type": "stream",
     "text": [
      "The expectation value of a⁺(0) a⁺(1) a(5) a(6) is 4.746576930660716e-18\n",
      "The current excitation operator is a⁺(0) a⁺(1) a(6) a(7)\n",
      "The expectation value of a⁺(0) a⁺(1) a(6) a(7) is 0.005238210566184946\n",
      "The current excitation operator is a⁺(0) a⁺(2) a(4) a(6)\n"
     ]
    },
    {
     "name": "stderr",
     "output_type": "stream",
     "text": [
      "/Users/pssrivathsansundar/.virtualenvs/new_venv/lib/python3.11/site-packages/pennylane_lightning/core/_serialize.py:283: ComplexWarning: Casting complex values to real discards the imaginary part\n",
      "  coeffs = np.array(coeffs).astype(self.rtype)\n",
      "/Users/pssrivathsansundar/.virtualenvs/new_venv/lib/python3.11/site-packages/pennylane_lightning/core/_serialize.py:283: ComplexWarning: Casting complex values to real discards the imaginary part\n",
      "  coeffs = np.array(coeffs).astype(self.rtype)\n",
      "/Users/pssrivathsansundar/.virtualenvs/new_venv/lib/python3.11/site-packages/pennylane_lightning/core/_serialize.py:283: ComplexWarning: Casting complex values to real discards the imaginary part\n",
      "  coeffs = np.array(coeffs).astype(self.rtype)\n"
     ]
    },
    {
     "name": "stdout",
     "output_type": "stream",
     "text": [
      "The expectation value of a⁺(0) a⁺(2) a(4) a(6) is 0.0007305693965085859\n",
      "The current excitation operator is a⁺(0) a⁺(3) a(4) a(5)\n",
      "The expectation value of a⁺(0) a⁺(3) a(4) a(5) is 3.9731670556668426e-19\n",
      "The current excitation operator is a⁺(0) a⁺(3) a(4) a(7)\n",
      "The expectation value of a⁺(0) a⁺(3) a(4) a(7) is 0.006043371825429297\n",
      "The current excitation operator is a⁺(0) a⁺(3) a(5) a(6)\n"
     ]
    },
    {
     "name": "stderr",
     "output_type": "stream",
     "text": [
      "/Users/pssrivathsansundar/.virtualenvs/new_venv/lib/python3.11/site-packages/pennylane_lightning/core/_serialize.py:283: ComplexWarning: Casting complex values to real discards the imaginary part\n",
      "  coeffs = np.array(coeffs).astype(self.rtype)\n",
      "/Users/pssrivathsansundar/.virtualenvs/new_venv/lib/python3.11/site-packages/pennylane_lightning/core/_serialize.py:283: ComplexWarning: Casting complex values to real discards the imaginary part\n",
      "  coeffs = np.array(coeffs).astype(self.rtype)\n"
     ]
    },
    {
     "name": "stdout",
     "output_type": "stream",
     "text": [
      "The expectation value of a⁺(0) a⁺(3) a(5) a(6) is 0.0004549586453858334\n",
      "The current excitation operator is a⁺(0) a⁺(3) a(6) a(7)\n"
     ]
    },
    {
     "name": "stderr",
     "output_type": "stream",
     "text": [
      "/Users/pssrivathsansundar/.virtualenvs/new_venv/lib/python3.11/site-packages/pennylane_lightning/core/_serialize.py:283: ComplexWarning: Casting complex values to real discards the imaginary part\n",
      "  coeffs = np.array(coeffs).astype(self.rtype)\n"
     ]
    },
    {
     "name": "stdout",
     "output_type": "stream",
     "text": [
      "The expectation value of a⁺(0) a⁺(3) a(6) a(7) is 2.924268676330555e-18\n",
      "The current excitation operator is a⁺(1) a⁺(2) a(4) a(5)\n"
     ]
    },
    {
     "name": "stderr",
     "output_type": "stream",
     "text": [
      "/Users/pssrivathsansundar/.virtualenvs/new_venv/lib/python3.11/site-packages/pennylane_lightning/core/_serialize.py:283: ComplexWarning: Casting complex values to real discards the imaginary part\n",
      "  coeffs = np.array(coeffs).astype(self.rtype)\n"
     ]
    },
    {
     "name": "stdout",
     "output_type": "stream",
     "text": [
      "The expectation value of a⁺(1) a⁺(2) a(4) a(5) is 4.4552987523134524e-18\n",
      "The current excitation operator is a⁺(1) a⁺(2) a(4) a(7)\n"
     ]
    },
    {
     "name": "stderr",
     "output_type": "stream",
     "text": [
      "/Users/pssrivathsansundar/.virtualenvs/new_venv/lib/python3.11/site-packages/pennylane_lightning/core/_serialize.py:283: ComplexWarning: Casting complex values to real discards the imaginary part\n",
      "  coeffs = np.array(coeffs).astype(self.rtype)\n"
     ]
    },
    {
     "name": "stdout",
     "output_type": "stream",
     "text": [
      "The expectation value of a⁺(1) a⁺(2) a(4) a(7) is 0.00044741974444958976\n",
      "The current excitation operator is a⁺(1) a⁺(2) a(5) a(6)\n"
     ]
    },
    {
     "name": "stderr",
     "output_type": "stream",
     "text": [
      "/Users/pssrivathsansundar/.virtualenvs/new_venv/lib/python3.11/site-packages/pennylane_lightning/core/_serialize.py:283: ComplexWarning: Casting complex values to real discards the imaginary part\n",
      "  coeffs = np.array(coeffs).astype(self.rtype)\n"
     ]
    },
    {
     "name": "stdout",
     "output_type": "stream",
     "text": [
      "The expectation value of a⁺(1) a⁺(2) a(5) a(6) is 0.006781016853750325\n",
      "The current excitation operator is a⁺(1) a⁺(2) a(6) a(7)\n"
     ]
    },
    {
     "name": "stderr",
     "output_type": "stream",
     "text": [
      "/Users/pssrivathsansundar/.virtualenvs/new_venv/lib/python3.11/site-packages/pennylane_lightning/core/_serialize.py:283: ComplexWarning: Casting complex values to real discards the imaginary part\n",
      "  coeffs = np.array(coeffs).astype(self.rtype)\n"
     ]
    },
    {
     "name": "stdout",
     "output_type": "stream",
     "text": [
      "The expectation value of a⁺(1) a⁺(2) a(6) a(7) is 4.061083832307883e-18\n",
      "The current excitation operator is a⁺(1) a⁺(3) a(5) a(7)\n",
      "The expectation value of a⁺(1) a⁺(3) a(5) a(7) is 0.0012079039549553585\n",
      "The current excitation operator is a⁺(2) a⁺(3) a(4) a(5)\n"
     ]
    },
    {
     "name": "stderr",
     "output_type": "stream",
     "text": [
      "/Users/pssrivathsansundar/.virtualenvs/new_venv/lib/python3.11/site-packages/pennylane_lightning/core/_serialize.py:283: ComplexWarning: Casting complex values to real discards the imaginary part\n",
      "  coeffs = np.array(coeffs).astype(self.rtype)\n",
      "/Users/pssrivathsansundar/.virtualenvs/new_venv/lib/python3.11/site-packages/pennylane_lightning/core/_serialize.py:283: ComplexWarning: Casting complex values to real discards the imaginary part\n",
      "  coeffs = np.array(coeffs).astype(self.rtype)\n",
      "/Users/pssrivathsansundar/.virtualenvs/new_venv/lib/python3.11/site-packages/pennylane_lightning/core/_serialize.py:283: ComplexWarning: Casting complex values to real discards the imaginary part\n",
      "  coeffs = np.array(coeffs).astype(self.rtype)\n"
     ]
    },
    {
     "name": "stdout",
     "output_type": "stream",
     "text": [
      "The expectation value of a⁺(2) a⁺(3) a(4) a(5) is 0.005792125368864358\n",
      "The current excitation operator is a⁺(2) a⁺(3) a(4) a(7)\n",
      "The expectation value of a⁺(2) a⁺(3) a(4) a(7) is 7.856236434977556e-19\n",
      "The current excitation operator is a⁺(2) a⁺(3) a(5) a(6)\n"
     ]
    },
    {
     "name": "stderr",
     "output_type": "stream",
     "text": [
      "/Users/pssrivathsansundar/.virtualenvs/new_venv/lib/python3.11/site-packages/pennylane_lightning/core/_serialize.py:283: ComplexWarning: Casting complex values to real discards the imaginary part\n",
      "  coeffs = np.array(coeffs).astype(self.rtype)\n",
      "/Users/pssrivathsansundar/.virtualenvs/new_venv/lib/python3.11/site-packages/pennylane_lightning/core/_serialize.py:283: ComplexWarning: Casting complex values to real discards the imaginary part\n",
      "  coeffs = np.array(coeffs).astype(self.rtype)\n"
     ]
    },
    {
     "name": "stdout",
     "output_type": "stream",
     "text": [
      "The expectation value of a⁺(2) a⁺(3) a(5) a(6) is 2.201435823110714e-18\n",
      "The current excitation operator is a⁺(2) a⁺(3) a(6) a(7)\n",
      "The expectation value of a⁺(2) a⁺(3) a(6) a(7) is 1.7690881026488636e-06\n",
      "The highest operator value is 0.12345380460254674 for operator a⁺(2) a(6)\n",
      "Highest gradient excitation is [2, 6]\n",
      "The current status of ash_excitation is [[2, 3, 6, 7], [0, 3, 5, 6], [0, 1, 4, 5], [1, 2, 4, 7], [1, 5], [2, 6]]\n",
      "Moving towards parameters\n",
      "Parameters before optimization are [-0.8301376  -1.28924904 -1.01542193 -1.16552841  0.28114353  0.        ]\n",
      "Current parameters: [-0.83013497 -1.28923879 -1.01540967 -1.16553364  0.28114023  0.2901224 ]\n",
      "Current cost: -1.8594391603862817\n",
      "\n",
      "Current parameters: [-0.8344176  -1.29150407 -1.01556589 -1.16517498  0.29355171  0.29070628]\n",
      "Current cost: -1.8594600103551726\n",
      "\n",
      "Current parameters: [-0.83465486 -1.29159279 -1.0156988  -1.16515419  0.29357615  0.29071046]\n",
      "Current cost: -1.8594600249091182\n",
      "\n",
      "Optimization terminated successfully.\n",
      "         Current function value: -1.859460\n",
      "         Iterations: 3\n",
      "         Function evaluations: 397\n",
      "Final updated parameters: [-0.83465486 -1.29159279 -1.0156988  -1.16515419  0.29357615  0.29071046]\n",
      "Final cost: -1.8594600249091182\n",
      "Updated params are [-0.83465486 -1.29159279 -1.0156988  -1.16515419  0.29357615  0.29071046]\n",
      "Updated excitation are [[2, 3, 6, 7], [0, 3, 5, 6], [0, 1, 4, 5], [1, 2, 4, 7], [1, 5], [2, 6]]\n",
      "Exc. dealing right now is [2, 3, 6, 7]\n",
      "The params that are going in -0.8346548604696555\n",
      "Exc. dealing right now is [0, 3, 5, 6]\n",
      "The params that are going in -1.2915927900686548\n",
      "Exc. dealing right now is [0, 1, 4, 5]\n",
      "The params that are going in -1.0156988018603577\n",
      "Exc. dealing right now is [1, 2, 4, 7]\n",
      "The params that are going in -1.165154189025254\n",
      "Single Exc. dealing right now is [1, 5]\n",
      "Single exc params that are going in 0.2935761505388696\n",
      "Single Exc. dealing right now is [2, 6]\n",
      "Single exc params that are going in 0.29071046358356795\n",
      "Exc. dealing right now is [2, 3, 6, 7]\n",
      "The params that are going in -0.8346548604696555\n",
      "Exc. dealing right now is [0, 3, 5, 6]\n",
      "The params that are going in -1.2915927900686548\n",
      "Exc. dealing right now is [0, 1, 4, 5]\n",
      "The params that are going in -1.0156988018603577\n",
      "Exc. dealing right now is [1, 2, 4, 7]\n",
      "The params that are going in -1.165154189025254\n",
      "Single Exc. dealing right now is [1, 5]\n",
      "Single exc params that are going in 0.2935761505388696\n",
      "Single Exc. dealing right now is [2, 6]\n",
      "Single exc params that are going in 0.29071046358356795\n",
      "0: ──X───────────────────────────────────╭FermionicDoubleExcitation(-1.29)\n",
      "1: ──X───────────────────────────────────│────────────────────────────────\n",
      "2: ──X─╭FermionicDoubleExcitation(-0.83)─│────────────────────────────────\n",
      "3: ──X─├FermionicDoubleExcitation(-0.83)─├FermionicDoubleExcitation(-1.29)\n",
      "4: ────│─────────────────────────────────│────────────────────────────────\n",
      "5: ────│─────────────────────────────────├FermionicDoubleExcitation(-1.29)\n",
      "6: ────├FermionicDoubleExcitation(-0.83)─╰FermionicDoubleExcitation(-1.29)\n",
      "7: ────╰FermionicDoubleExcitation(-0.83)──────────────────────────────────\n",
      "\n",
      "──╭FermionicDoubleExcitation(-1.02)──────────────────────────────────\n",
      "──├FermionicDoubleExcitation(-1.02)─╭FermionicDoubleExcitation(-1.17)\n",
      "──│─────────────────────────────────├FermionicDoubleExcitation(-1.17)\n",
      "──│─────────────────────────────────│────────────────────────────────\n",
      "──├FermionicDoubleExcitation(-1.02)─├FermionicDoubleExcitation(-1.17)\n",
      "──╰FermionicDoubleExcitation(-1.02)─│────────────────────────────────\n",
      "────────────────────────────────────│────────────────────────────────\n",
      "────────────────────────────────────╰FermionicDoubleExcitation(-1.17)\n",
      "\n",
      "────────────────────────────────────────────────────────────────────┤  State\n",
      "──╭FermionicSingleExcitation(0.29)──────────────────────────────────┤  State\n",
      "──├FermionicSingleExcitation(0.29)─╭FermionicSingleExcitation(0.29)─┤  State\n",
      "──├FermionicSingleExcitation(0.29)─├FermionicSingleExcitation(0.29)─┤  State\n",
      "──├FermionicSingleExcitation(0.29)─├FermionicSingleExcitation(0.29)─┤  State\n",
      "──╰FermionicSingleExcitation(0.29)─├FermionicSingleExcitation(0.29)─┤  State\n",
      "───────────────────────────────────╰FermionicSingleExcitation(0.29)─┤  State\n",
      "────────────────────────────────────────────────────────────────────┤  State\n",
      "The adapt iteration now is 6\n",
      "The current excitation operator is a⁺(0) a(4)\n",
      "The expectation value of a⁺(0) a(4) is 0.0073637639298740586\n",
      "The current excitation operator is a⁺(0) a(6)\n",
      "The expectation value of a⁺(0) a(6) is 4.8557283438636895e-18\n",
      "The current excitation operator is a⁺(1) a(5)\n"
     ]
    },
    {
     "name": "stderr",
     "output_type": "stream",
     "text": [
      "/Users/pssrivathsansundar/.virtualenvs/new_venv/lib/python3.11/site-packages/pennylane_lightning/core/_serialize.py:283: ComplexWarning: Casting complex values to real discards the imaginary part\n",
      "  coeffs = np.array(coeffs).astype(self.rtype)\n",
      "/Users/pssrivathsansundar/.virtualenvs/new_venv/lib/python3.11/site-packages/pennylane_lightning/core/_serialize.py:283: ComplexWarning: Casting complex values to real discards the imaginary part\n",
      "  coeffs = np.array(coeffs).astype(self.rtype)\n",
      "/Users/pssrivathsansundar/.virtualenvs/new_venv/lib/python3.11/site-packages/pennylane_lightning/core/_serialize.py:283: ComplexWarning: Casting complex values to real discards the imaginary part\n",
      "  coeffs = np.array(coeffs).astype(self.rtype)\n"
     ]
    },
    {
     "name": "stdout",
     "output_type": "stream",
     "text": [
      "The expectation value of a⁺(1) a(5) is 7.369108602842123e-08\n",
      "The current excitation operator is a⁺(1) a(7)\n",
      "The expectation value of a⁺(1) a(7) is 6.801685664349727e-17\n",
      "The current excitation operator is a⁺(2) a(4)\n",
      "The expectation value of a⁺(2) a(4) is 5.638480383100672e-17\n",
      "The current excitation operator is a⁺(2) a(6)\n"
     ]
    },
    {
     "name": "stderr",
     "output_type": "stream",
     "text": [
      "/Users/pssrivathsansundar/.virtualenvs/new_venv/lib/python3.11/site-packages/pennylane_lightning/core/_serialize.py:283: ComplexWarning: Casting complex values to real discards the imaginary part\n",
      "  coeffs = np.array(coeffs).astype(self.rtype)\n",
      "/Users/pssrivathsansundar/.virtualenvs/new_venv/lib/python3.11/site-packages/pennylane_lightning/core/_serialize.py:283: ComplexWarning: Casting complex values to real discards the imaginary part\n",
      "  coeffs = np.array(coeffs).astype(self.rtype)\n",
      "/Users/pssrivathsansundar/.virtualenvs/new_venv/lib/python3.11/site-packages/pennylane_lightning/core/_serialize.py:283: ComplexWarning: Casting complex values to real discards the imaginary part\n",
      "  coeffs = np.array(coeffs).astype(self.rtype)\n"
     ]
    },
    {
     "name": "stdout",
     "output_type": "stream",
     "text": [
      "The expectation value of a⁺(2) a(6) is 4.2795100796411134e-11\n",
      "The current excitation operator is a⁺(3) a(5)\n",
      "The expectation value of a⁺(3) a(5) is 1.2388711380550211e-17\n",
      "The current excitation operator is a⁺(3) a(7)\n",
      "The expectation value of a⁺(3) a(7) is 0.007420247913141229\n",
      "The current excitation operator is a⁺(0) a⁺(1) a(4) a(5)\n"
     ]
    },
    {
     "name": "stderr",
     "output_type": "stream",
     "text": [
      "/Users/pssrivathsansundar/.virtualenvs/new_venv/lib/python3.11/site-packages/pennylane_lightning/core/_serialize.py:283: ComplexWarning: Casting complex values to real discards the imaginary part\n",
      "  coeffs = np.array(coeffs).astype(self.rtype)\n",
      "/Users/pssrivathsansundar/.virtualenvs/new_venv/lib/python3.11/site-packages/pennylane_lightning/core/_serialize.py:283: ComplexWarning: Casting complex values to real discards the imaginary part\n",
      "  coeffs = np.array(coeffs).astype(self.rtype)\n",
      "/Users/pssrivathsansundar/.virtualenvs/new_venv/lib/python3.11/site-packages/pennylane_lightning/core/_serialize.py:283: ComplexWarning: Casting complex values to real discards the imaginary part\n",
      "  coeffs = np.array(coeffs).astype(self.rtype)\n"
     ]
    },
    {
     "name": "stdout",
     "output_type": "stream",
     "text": [
      "The expectation value of a⁺(0) a⁺(1) a(4) a(5) is 0.00020481855799142634\n",
      "The current excitation operator is a⁺(0) a⁺(1) a(4) a(7)\n"
     ]
    },
    {
     "name": "stderr",
     "output_type": "stream",
     "text": [
      "/Users/pssrivathsansundar/.virtualenvs/new_venv/lib/python3.11/site-packages/pennylane_lightning/core/_serialize.py:283: ComplexWarning: Casting complex values to real discards the imaginary part\n",
      "  coeffs = np.array(coeffs).astype(self.rtype)\n"
     ]
    },
    {
     "name": "stdout",
     "output_type": "stream",
     "text": [
      "The expectation value of a⁺(0) a⁺(1) a(4) a(7) is 3.409103138075191e-18\n",
      "The current excitation operator is a⁺(0) a⁺(1) a(5) a(6)\n"
     ]
    },
    {
     "name": "stderr",
     "output_type": "stream",
     "text": [
      "/Users/pssrivathsansundar/.virtualenvs/new_venv/lib/python3.11/site-packages/pennylane_lightning/core/_serialize.py:283: ComplexWarning: Casting complex values to real discards the imaginary part\n",
      "  coeffs = np.array(coeffs).astype(self.rtype)\n"
     ]
    },
    {
     "name": "stdout",
     "output_type": "stream",
     "text": [
      "The expectation value of a⁺(0) a⁺(1) a(5) a(6) is 4.200968363054051e-18\n",
      "The current excitation operator is a⁺(0) a⁺(1) a(6) a(7)\n"
     ]
    },
    {
     "name": "stderr",
     "output_type": "stream",
     "text": [
      "/Users/pssrivathsansundar/.virtualenvs/new_venv/lib/python3.11/site-packages/pennylane_lightning/core/_serialize.py:283: ComplexWarning: Casting complex values to real discards the imaginary part\n",
      "  coeffs = np.array(coeffs).astype(self.rtype)\n"
     ]
    },
    {
     "name": "stdout",
     "output_type": "stream",
     "text": [
      "The expectation value of a⁺(0) a⁺(1) a(6) a(7) is 0.005158954271637487\n",
      "The current excitation operator is a⁺(0) a⁺(2) a(4) a(6)\n",
      "The expectation value of a⁺(0) a⁺(2) a(4) a(6) is 0.0001380289359046603\n",
      "The current excitation operator is a⁺(0) a⁺(3) a(4) a(5)\n"
     ]
    },
    {
     "name": "stderr",
     "output_type": "stream",
     "text": [
      "/Users/pssrivathsansundar/.virtualenvs/new_venv/lib/python3.11/site-packages/pennylane_lightning/core/_serialize.py:283: ComplexWarning: Casting complex values to real discards the imaginary part\n",
      "  coeffs = np.array(coeffs).astype(self.rtype)\n",
      "/Users/pssrivathsansundar/.virtualenvs/new_venv/lib/python3.11/site-packages/pennylane_lightning/core/_serialize.py:283: ComplexWarning: Casting complex values to real discards the imaginary part\n",
      "  coeffs = np.array(coeffs).astype(self.rtype)\n"
     ]
    },
    {
     "name": "stdout",
     "output_type": "stream",
     "text": [
      "The expectation value of a⁺(0) a⁺(3) a(4) a(5) is 3.560400869050941e-18\n",
      "The current excitation operator is a⁺(0) a⁺(3) a(4) a(7)\n"
     ]
    },
    {
     "name": "stderr",
     "output_type": "stream",
     "text": [
      "/Users/pssrivathsansundar/.virtualenvs/new_venv/lib/python3.11/site-packages/pennylane_lightning/core/_serialize.py:283: ComplexWarning: Casting complex values to real discards the imaginary part\n",
      "  coeffs = np.array(coeffs).astype(self.rtype)\n"
     ]
    },
    {
     "name": "stdout",
     "output_type": "stream",
     "text": [
      "The expectation value of a⁺(0) a⁺(3) a(4) a(7) is 0.006037064748466638\n",
      "The current excitation operator is a⁺(0) a⁺(3) a(5) a(6)\n"
     ]
    },
    {
     "name": "stderr",
     "output_type": "stream",
     "text": [
      "/Users/pssrivathsansundar/.virtualenvs/new_venv/lib/python3.11/site-packages/pennylane_lightning/core/_serialize.py:283: ComplexWarning: Casting complex values to real discards the imaginary part\n",
      "  coeffs = np.array(coeffs).astype(self.rtype)\n"
     ]
    },
    {
     "name": "stdout",
     "output_type": "stream",
     "text": [
      "The expectation value of a⁺(0) a⁺(3) a(5) a(6) is 0.00035935853190705025\n",
      "The current excitation operator is a⁺(0) a⁺(3) a(6) a(7)\n"
     ]
    },
    {
     "name": "stderr",
     "output_type": "stream",
     "text": [
      "/Users/pssrivathsansundar/.virtualenvs/new_venv/lib/python3.11/site-packages/pennylane_lightning/core/_serialize.py:283: ComplexWarning: Casting complex values to real discards the imaginary part\n",
      "  coeffs = np.array(coeffs).astype(self.rtype)\n"
     ]
    },
    {
     "name": "stdout",
     "output_type": "stream",
     "text": [
      "The expectation value of a⁺(0) a⁺(3) a(6) a(7) is 1.3906645184307159e-18\n",
      "The current excitation operator is a⁺(1) a⁺(2) a(4) a(5)\n"
     ]
    },
    {
     "name": "stderr",
     "output_type": "stream",
     "text": [
      "/Users/pssrivathsansundar/.virtualenvs/new_venv/lib/python3.11/site-packages/pennylane_lightning/core/_serialize.py:283: ComplexWarning: Casting complex values to real discards the imaginary part\n",
      "  coeffs = np.array(coeffs).astype(self.rtype)\n"
     ]
    },
    {
     "name": "stdout",
     "output_type": "stream",
     "text": [
      "The expectation value of a⁺(1) a⁺(2) a(4) a(5) is 6.5822880581849834e-18\n",
      "The current excitation operator is a⁺(1) a⁺(2) a(4) a(7)\n"
     ]
    },
    {
     "name": "stderr",
     "output_type": "stream",
     "text": [
      "/Users/pssrivathsansundar/.virtualenvs/new_venv/lib/python3.11/site-packages/pennylane_lightning/core/_serialize.py:283: ComplexWarning: Casting complex values to real discards the imaginary part\n",
      "  coeffs = np.array(coeffs).astype(self.rtype)\n",
      "/Users/pssrivathsansundar/.virtualenvs/new_venv/lib/python3.11/site-packages/pennylane_lightning/core/_serialize.py:283: ComplexWarning: Casting complex values to real discards the imaginary part\n",
      "  coeffs = np.array(coeffs).astype(self.rtype)\n"
     ]
    },
    {
     "name": "stdout",
     "output_type": "stream",
     "text": [
      "The expectation value of a⁺(1) a⁺(2) a(4) a(7) is 0.0003633331533177686\n",
      "The current excitation operator is a⁺(1) a⁺(2) a(5) a(6)\n",
      "The expectation value of a⁺(1) a⁺(2) a(5) a(6) is 0.0050934770398775794\n",
      "The current excitation operator is a⁺(1) a⁺(2) a(6) a(7)\n"
     ]
    },
    {
     "name": "stderr",
     "output_type": "stream",
     "text": [
      "/Users/pssrivathsansundar/.virtualenvs/new_venv/lib/python3.11/site-packages/pennylane_lightning/core/_serialize.py:283: ComplexWarning: Casting complex values to real discards the imaginary part\n",
      "  coeffs = np.array(coeffs).astype(self.rtype)\n",
      "/Users/pssrivathsansundar/.virtualenvs/new_venv/lib/python3.11/site-packages/pennylane_lightning/core/_serialize.py:283: ComplexWarning: Casting complex values to real discards the imaginary part\n",
      "  coeffs = np.array(coeffs).astype(self.rtype)\n"
     ]
    },
    {
     "name": "stdout",
     "output_type": "stream",
     "text": [
      "The expectation value of a⁺(1) a⁺(2) a(6) a(7) is 1.7597702731462594e-18\n",
      "The current excitation operator is a⁺(1) a⁺(3) a(5) a(7)\n",
      "The expectation value of a⁺(1) a⁺(3) a(5) a(7) is 0.000160949814117968\n",
      "The current excitation operator is a⁺(2) a⁺(3) a(4) a(5)\n"
     ]
    },
    {
     "name": "stderr",
     "output_type": "stream",
     "text": [
      "/Users/pssrivathsansundar/.virtualenvs/new_venv/lib/python3.11/site-packages/pennylane_lightning/core/_serialize.py:283: ComplexWarning: Casting complex values to real discards the imaginary part\n",
      "  coeffs = np.array(coeffs).astype(self.rtype)\n"
     ]
    },
    {
     "name": "stdout",
     "output_type": "stream",
     "text": [
      "The expectation value of a⁺(2) a⁺(3) a(4) a(5) is 0.005127817769920714\n",
      "The current excitation operator is a⁺(2) a⁺(3) a(4) a(7)\n"
     ]
    },
    {
     "name": "stderr",
     "output_type": "stream",
     "text": [
      "/Users/pssrivathsansundar/.virtualenvs/new_venv/lib/python3.11/site-packages/pennylane_lightning/core/_serialize.py:283: ComplexWarning: Casting complex values to real discards the imaginary part\n",
      "  coeffs = np.array(coeffs).astype(self.rtype)\n"
     ]
    },
    {
     "name": "stdout",
     "output_type": "stream",
     "text": [
      "The expectation value of a⁺(2) a⁺(3) a(4) a(7) is 1.0206137493740446e-19\n",
      "The current excitation operator is a⁺(2) a⁺(3) a(5) a(6)\n"
     ]
    },
    {
     "name": "stderr",
     "output_type": "stream",
     "text": [
      "/Users/pssrivathsansundar/.virtualenvs/new_venv/lib/python3.11/site-packages/pennylane_lightning/core/_serialize.py:283: ComplexWarning: Casting complex values to real discards the imaginary part\n",
      "  coeffs = np.array(coeffs).astype(self.rtype)\n",
      "/Users/pssrivathsansundar/.virtualenvs/new_venv/lib/python3.11/site-packages/pennylane_lightning/core/_serialize.py:283: ComplexWarning: Casting complex values to real discards the imaginary part\n",
      "  coeffs = np.array(coeffs).astype(self.rtype)\n"
     ]
    },
    {
     "name": "stdout",
     "output_type": "stream",
     "text": [
      "The expectation value of a⁺(2) a⁺(3) a(5) a(6) is 1.908346409947269e-18\n",
      "The current excitation operator is a⁺(2) a⁺(3) a(6) a(7)\n",
      "The expectation value of a⁺(2) a⁺(3) a(6) a(7) is 0.00017460111145981005\n",
      "The highest operator value is 0.007420247913141229 for operator a⁺(3) a(7)\n",
      "Highest gradient excitation is [3, 7]\n",
      "The current status of ash_excitation is [[2, 3, 6, 7], [0, 3, 5, 6], [0, 1, 4, 5], [1, 2, 4, 7], [1, 5], [2, 6], [3, 7]]\n",
      "Moving towards parameters\n",
      "Parameters before optimization are [-0.83465486 -1.29159279 -1.0156988  -1.16515419  0.29357615  0.29071046\n",
      "  0.        ]\n",
      "Current parameters: [-0.83463483 -1.29159986 -1.01571299 -1.16515758  0.2935767   0.29071033\n",
      " -0.0172178 ]\n",
      "Current cost: -1.8594919674202848\n",
      "\n",
      "Current parameters: [-0.83444518 -1.29137713 -1.01573253 -1.16496772  0.29347022  0.30829976\n",
      " -0.03519788]\n",
      "Current cost: -1.8595601665220416\n",
      "\n",
      "Current parameters: [-0.79789377 -1.31435024 -1.00143892 -1.19101283  0.32060455  1.52318829\n",
      " -1.24023562]\n",
      "Current cost: -1.86556840491378\n",
      "\n",
      "Current parameters: [-0.80977933 -1.32801533 -0.98670546 -1.20059532  0.31927001  1.54713984\n",
      " -1.26475812]\n",
      "Current cost: -1.8656559011582587\n",
      "\n",
      "Current parameters: [-0.81701835 -1.33319886 -0.9810936  -1.20391586  0.31938431  1.5575395\n",
      " -1.27546515]\n",
      "Current cost: -1.8656735145875485\n",
      "\n",
      "Current parameters: [-0.82176297 -1.33664719 -0.9776199  -1.20616273  0.31947365  1.56457721\n",
      " -1.28274059]\n",
      "Current cost: -1.8656767409578778\n",
      "\n",
      "Optimization terminated successfully.\n",
      "         Current function value: -1.865677\n",
      "         Iterations: 6\n",
      "         Function evaluations: 874\n",
      "Final updated parameters: [-0.82176297 -1.33664719 -0.9776199  -1.20616273  0.31947365  1.56457721\n",
      " -1.28274059]\n",
      "Final cost: -1.8656767409578778\n",
      "Updated params are [-0.82176297 -1.33664719 -0.9776199  -1.20616273  0.31947365  1.56457721\n",
      " -1.28274059]\n",
      "Updated excitation are [[2, 3, 6, 7], [0, 3, 5, 6], [0, 1, 4, 5], [1, 2, 4, 7], [1, 5], [2, 6], [3, 7]]\n",
      "Exc. dealing right now is [2, 3, 6, 7]\n",
      "The params that are going in -0.82176297125131\n",
      "Exc. dealing right now is [0, 3, 5, 6]\n",
      "The params that are going in -1.3366471921729004\n",
      "Exc. dealing right now is [0, 1, 4, 5]\n",
      "The params that are going in -0.9776198966064292\n",
      "Exc. dealing right now is [1, 2, 4, 7]\n",
      "The params that are going in -1.2061627331864406\n",
      "Single Exc. dealing right now is [1, 5]\n",
      "Single exc params that are going in 0.31947364736109296\n",
      "Single Exc. dealing right now is [2, 6]\n",
      "Single exc params that are going in 1.56457721211095\n",
      "Single Exc. dealing right now is [3, 7]\n",
      "Single exc params that are going in -1.2827405900026447\n",
      "Exc. dealing right now is [2, 3, 6, 7]\n",
      "The params that are going in -0.82176297125131\n",
      "Exc. dealing right now is [0, 3, 5, 6]\n",
      "The params that are going in -1.3366471921729004\n",
      "Exc. dealing right now is [0, 1, 4, 5]\n",
      "The params that are going in -0.9776198966064292\n",
      "Exc. dealing right now is [1, 2, 4, 7]\n",
      "The params that are going in -1.2061627331864406\n",
      "Single Exc. dealing right now is [1, 5]\n",
      "Single exc params that are going in 0.31947364736109296\n",
      "Single Exc. dealing right now is [2, 6]\n",
      "Single exc params that are going in 1.56457721211095\n",
      "Single Exc. dealing right now is [3, 7]\n",
      "Single exc params that are going in -1.2827405900026447\n",
      "0: ──X───────────────────────────────────╭FermionicDoubleExcitation(-1.34)\n",
      "1: ──X───────────────────────────────────│────────────────────────────────\n",
      "2: ──X─╭FermionicDoubleExcitation(-0.82)─│────────────────────────────────\n",
      "3: ──X─├FermionicDoubleExcitation(-0.82)─├FermionicDoubleExcitation(-1.34)\n",
      "4: ────│─────────────────────────────────│────────────────────────────────\n",
      "5: ────│─────────────────────────────────├FermionicDoubleExcitation(-1.34)\n",
      "6: ────├FermionicDoubleExcitation(-0.82)─╰FermionicDoubleExcitation(-1.34)\n",
      "7: ────╰FermionicDoubleExcitation(-0.82)──────────────────────────────────\n",
      "\n",
      "──╭FermionicDoubleExcitation(-0.98)──────────────────────────────────\n",
      "──├FermionicDoubleExcitation(-0.98)─╭FermionicDoubleExcitation(-1.21)\n",
      "──│─────────────────────────────────├FermionicDoubleExcitation(-1.21)\n",
      "──│─────────────────────────────────│────────────────────────────────\n",
      "──├FermionicDoubleExcitation(-0.98)─├FermionicDoubleExcitation(-1.21)\n",
      "──╰FermionicDoubleExcitation(-0.98)─│────────────────────────────────\n",
      "────────────────────────────────────│────────────────────────────────\n",
      "────────────────────────────────────╰FermionicDoubleExcitation(-1.21)\n",
      "\n",
      "───────────────────────────────────────────────────────────────────\n",
      "──╭FermionicSingleExcitation(0.32)─────────────────────────────────\n",
      "──├FermionicSingleExcitation(0.32)─╭FermionicSingleExcitation(1.56)\n",
      "──├FermionicSingleExcitation(0.32)─├FermionicSingleExcitation(1.56)\n",
      "──├FermionicSingleExcitation(0.32)─├FermionicSingleExcitation(1.56)\n",
      "──╰FermionicSingleExcitation(0.32)─├FermionicSingleExcitation(1.56)\n",
      "───────────────────────────────────╰FermionicSingleExcitation(1.56)\n",
      "───────────────────────────────────────────────────────────────────\n",
      "\n",
      "────────────────────────────────────┤  State\n",
      "────────────────────────────────────┤  State\n",
      "────────────────────────────────────┤  State\n",
      "──╭FermionicSingleExcitation(-1.28)─┤  State\n",
      "──├FermionicSingleExcitation(-1.28)─┤  State\n",
      "──├FermionicSingleExcitation(-1.28)─┤  State\n",
      "──├FermionicSingleExcitation(-1.28)─┤  State\n",
      "──╰FermionicSingleExcitation(-1.28)─┤  State\n",
      "The adapt iteration now is 7\n",
      "The current excitation operator is a⁺(0) a(4)\n",
      "The expectation value of a⁺(0) a(4) is 0.0294688465515311\n",
      "The current excitation operator is a⁺(0) a(6)\n"
     ]
    },
    {
     "name": "stderr",
     "output_type": "stream",
     "text": [
      "/Users/pssrivathsansundar/.virtualenvs/new_venv/lib/python3.11/site-packages/pennylane_lightning/core/_serialize.py:283: ComplexWarning: Casting complex values to real discards the imaginary part\n",
      "  coeffs = np.array(coeffs).astype(self.rtype)\n",
      "/Users/pssrivathsansundar/.virtualenvs/new_venv/lib/python3.11/site-packages/pennylane_lightning/core/_serialize.py:283: ComplexWarning: Casting complex values to real discards the imaginary part\n",
      "  coeffs = np.array(coeffs).astype(self.rtype)\n",
      "/Users/pssrivathsansundar/.virtualenvs/new_venv/lib/python3.11/site-packages/pennylane_lightning/core/_serialize.py:283: ComplexWarning: Casting complex values to real discards the imaginary part\n",
      "  coeffs = np.array(coeffs).astype(self.rtype)\n"
     ]
    },
    {
     "name": "stdout",
     "output_type": "stream",
     "text": [
      "The expectation value of a⁺(0) a(6) is 3.660637671816037e-18\n",
      "The current excitation operator is a⁺(1) a(5)\n",
      "The expectation value of a⁺(1) a(5) is 1.4500767762243294e-07\n",
      "The current excitation operator is a⁺(1) a(7)\n",
      "The expectation value of a⁺(1) a(7) is 1.1661622358735957e-17\n",
      "The current excitation operator is a⁺(2) a(4)\n"
     ]
    },
    {
     "name": "stderr",
     "output_type": "stream",
     "text": [
      "/Users/pssrivathsansundar/.virtualenvs/new_venv/lib/python3.11/site-packages/pennylane_lightning/core/_serialize.py:283: ComplexWarning: Casting complex values to real discards the imaginary part\n",
      "  coeffs = np.array(coeffs).astype(self.rtype)\n",
      "/Users/pssrivathsansundar/.virtualenvs/new_venv/lib/python3.11/site-packages/pennylane_lightning/core/_serialize.py:283: ComplexWarning: Casting complex values to real discards the imaginary part\n",
      "  coeffs = np.array(coeffs).astype(self.rtype)\n",
      "/Users/pssrivathsansundar/.virtualenvs/new_venv/lib/python3.11/site-packages/pennylane_lightning/core/_serialize.py:283: ComplexWarning: Casting complex values to real discards the imaginary part\n",
      "  coeffs = np.array(coeffs).astype(self.rtype)\n"
     ]
    },
    {
     "name": "stdout",
     "output_type": "stream",
     "text": [
      "The expectation value of a⁺(2) a(4) is 9.800143352697245e-18\n",
      "The current excitation operator is a⁺(2) a(6)\n",
      "The expectation value of a⁺(2) a(6) is 6.423230208066344e-07\n",
      "The current excitation operator is a⁺(3) a(5)\n"
     ]
    },
    {
     "name": "stderr",
     "output_type": "stream",
     "text": [
      "/Users/pssrivathsansundar/.virtualenvs/new_venv/lib/python3.11/site-packages/pennylane_lightning/core/_serialize.py:283: ComplexWarning: Casting complex values to real discards the imaginary part\n",
      "  coeffs = np.array(coeffs).astype(self.rtype)\n",
      "/Users/pssrivathsansundar/.virtualenvs/new_venv/lib/python3.11/site-packages/pennylane_lightning/core/_serialize.py:283: ComplexWarning: Casting complex values to real discards the imaginary part\n",
      "  coeffs = np.array(coeffs).astype(self.rtype)\n"
     ]
    },
    {
     "name": "stdout",
     "output_type": "stream",
     "text": [
      "The expectation value of a⁺(3) a(5) is 1.6458484298059537e-18\n",
      "The current excitation operator is a⁺(3) a(7)\n",
      "The expectation value of a⁺(3) a(7) is 1.4838088045624268e-06\n",
      "The current excitation operator is a⁺(0) a⁺(1) a(4) a(5)\n"
     ]
    },
    {
     "name": "stderr",
     "output_type": "stream",
     "text": [
      "/Users/pssrivathsansundar/.virtualenvs/new_venv/lib/python3.11/site-packages/pennylane_lightning/core/_serialize.py:283: ComplexWarning: Casting complex values to real discards the imaginary part\n",
      "  coeffs = np.array(coeffs).astype(self.rtype)\n"
     ]
    },
    {
     "name": "stdout",
     "output_type": "stream",
     "text": [
      "The expectation value of a⁺(0) a⁺(1) a(4) a(5) is 0.001336334344055723\n",
      "The current excitation operator is a⁺(0) a⁺(1) a(4) a(7)\n"
     ]
    },
    {
     "name": "stderr",
     "output_type": "stream",
     "text": [
      "/Users/pssrivathsansundar/.virtualenvs/new_venv/lib/python3.11/site-packages/pennylane_lightning/core/_serialize.py:283: ComplexWarning: Casting complex values to real discards the imaginary part\n",
      "  coeffs = np.array(coeffs).astype(self.rtype)\n"
     ]
    },
    {
     "name": "stdout",
     "output_type": "stream",
     "text": [
      "The expectation value of a⁺(0) a⁺(1) a(4) a(7) is 4.272071270058664e-18\n",
      "The current excitation operator is a⁺(0) a⁺(1) a(5) a(6)\n"
     ]
    },
    {
     "name": "stderr",
     "output_type": "stream",
     "text": [
      "/Users/pssrivathsansundar/.virtualenvs/new_venv/lib/python3.11/site-packages/pennylane_lightning/core/_serialize.py:283: ComplexWarning: Casting complex values to real discards the imaginary part\n",
      "  coeffs = np.array(coeffs).astype(self.rtype)\n"
     ]
    },
    {
     "name": "stdout",
     "output_type": "stream",
     "text": [
      "The expectation value of a⁺(0) a⁺(1) a(5) a(6) is 1.719184026100262e-17\n",
      "The current excitation operator is a⁺(0) a⁺(1) a(6) a(7)\n"
     ]
    },
    {
     "name": "stderr",
     "output_type": "stream",
     "text": [
      "/Users/pssrivathsansundar/.virtualenvs/new_venv/lib/python3.11/site-packages/pennylane_lightning/core/_serialize.py:283: ComplexWarning: Casting complex values to real discards the imaginary part\n",
      "  coeffs = np.array(coeffs).astype(self.rtype)\n"
     ]
    },
    {
     "name": "stdout",
     "output_type": "stream",
     "text": [
      "The expectation value of a⁺(0) a⁺(1) a(6) a(7) is 0.00029970205281774\n",
      "The current excitation operator is a⁺(0) a⁺(2) a(4) a(6)\n"
     ]
    },
    {
     "name": "stderr",
     "output_type": "stream",
     "text": [
      "/Users/pssrivathsansundar/.virtualenvs/new_venv/lib/python3.11/site-packages/pennylane_lightning/core/_serialize.py:283: ComplexWarning: Casting complex values to real discards the imaginary part\n",
      "  coeffs = np.array(coeffs).astype(self.rtype)\n"
     ]
    },
    {
     "name": "stdout",
     "output_type": "stream",
     "text": [
      "The expectation value of a⁺(0) a⁺(2) a(4) a(6) is 0.0033892356662399937\n",
      "The current excitation operator is a⁺(0) a⁺(3) a(4) a(5)\n"
     ]
    },
    {
     "name": "stderr",
     "output_type": "stream",
     "text": [
      "/Users/pssrivathsansundar/.virtualenvs/new_venv/lib/python3.11/site-packages/pennylane_lightning/core/_serialize.py:283: ComplexWarning: Casting complex values to real discards the imaginary part\n",
      "  coeffs = np.array(coeffs).astype(self.rtype)\n"
     ]
    },
    {
     "name": "stdout",
     "output_type": "stream",
     "text": [
      "The expectation value of a⁺(0) a⁺(3) a(4) a(5) is 2.1574749102723904e-17\n",
      "The current excitation operator is a⁺(0) a⁺(3) a(4) a(7)\n"
     ]
    },
    {
     "name": "stderr",
     "output_type": "stream",
     "text": [
      "/Users/pssrivathsansundar/.virtualenvs/new_venv/lib/python3.11/site-packages/pennylane_lightning/core/_serialize.py:283: ComplexWarning: Casting complex values to real discards the imaginary part\n",
      "  coeffs = np.array(coeffs).astype(self.rtype)\n"
     ]
    },
    {
     "name": "stdout",
     "output_type": "stream",
     "text": [
      "The expectation value of a⁺(0) a⁺(3) a(4) a(7) is 0.0039649609585822795\n",
      "The current excitation operator is a⁺(0) a⁺(3) a(5) a(6)\n"
     ]
    },
    {
     "name": "stderr",
     "output_type": "stream",
     "text": [
      "/Users/pssrivathsansundar/.virtualenvs/new_venv/lib/python3.11/site-packages/pennylane_lightning/core/_serialize.py:283: ComplexWarning: Casting complex values to real discards the imaginary part\n",
      "  coeffs = np.array(coeffs).astype(self.rtype)\n"
     ]
    },
    {
     "name": "stdout",
     "output_type": "stream",
     "text": [
      "The expectation value of a⁺(0) a⁺(3) a(5) a(6) is 0.013137120683933537\n",
      "The current excitation operator is a⁺(0) a⁺(3) a(6) a(7)\n"
     ]
    },
    {
     "name": "stderr",
     "output_type": "stream",
     "text": [
      "/Users/pssrivathsansundar/.virtualenvs/new_venv/lib/python3.11/site-packages/pennylane_lightning/core/_serialize.py:283: ComplexWarning: Casting complex values to real discards the imaginary part\n",
      "  coeffs = np.array(coeffs).astype(self.rtype)\n"
     ]
    },
    {
     "name": "stdout",
     "output_type": "stream",
     "text": [
      "The expectation value of a⁺(0) a⁺(3) a(6) a(7) is 1.486235353011238e-17\n",
      "The current excitation operator is a⁺(1) a⁺(2) a(4) a(5)\n"
     ]
    },
    {
     "name": "stderr",
     "output_type": "stream",
     "text": [
      "/Users/pssrivathsansundar/.virtualenvs/new_venv/lib/python3.11/site-packages/pennylane_lightning/core/_serialize.py:283: ComplexWarning: Casting complex values to real discards the imaginary part\n",
      "  coeffs = np.array(coeffs).astype(self.rtype)\n"
     ]
    },
    {
     "name": "stdout",
     "output_type": "stream",
     "text": [
      "The expectation value of a⁺(1) a⁺(2) a(4) a(5) is 2.2005501864927937e-17\n",
      "The current excitation operator is a⁺(1) a⁺(2) a(4) a(7)\n"
     ]
    },
    {
     "name": "stderr",
     "output_type": "stream",
     "text": [
      "/Users/pssrivathsansundar/.virtualenvs/new_venv/lib/python3.11/site-packages/pennylane_lightning/core/_serialize.py:283: ComplexWarning: Casting complex values to real discards the imaginary part\n",
      "  coeffs = np.array(coeffs).astype(self.rtype)\n"
     ]
    },
    {
     "name": "stdout",
     "output_type": "stream",
     "text": [
      "The expectation value of a⁺(1) a⁺(2) a(4) a(7) is 0.01300319059458932\n",
      "The current excitation operator is a⁺(1) a⁺(2) a(5) a(6)\n"
     ]
    },
    {
     "name": "stderr",
     "output_type": "stream",
     "text": [
      "/Users/pssrivathsansundar/.virtualenvs/new_venv/lib/python3.11/site-packages/pennylane_lightning/core/_serialize.py:283: ComplexWarning: Casting complex values to real discards the imaginary part\n",
      "  coeffs = np.array(coeffs).astype(self.rtype)\n"
     ]
    },
    {
     "name": "stdout",
     "output_type": "stream",
     "text": [
      "The expectation value of a⁺(1) a⁺(2) a(5) a(6) is 0.0005133769207583717\n",
      "The current excitation operator is a⁺(1) a⁺(2) a(6) a(7)\n"
     ]
    },
    {
     "name": "stderr",
     "output_type": "stream",
     "text": [
      "/Users/pssrivathsansundar/.virtualenvs/new_venv/lib/python3.11/site-packages/pennylane_lightning/core/_serialize.py:283: ComplexWarning: Casting complex values to real discards the imaginary part\n",
      "  coeffs = np.array(coeffs).astype(self.rtype)\n"
     ]
    },
    {
     "name": "stdout",
     "output_type": "stream",
     "text": [
      "The expectation value of a⁺(1) a⁺(2) a(6) a(7) is 2.3066290541677535e-17\n",
      "The current excitation operator is a⁺(1) a⁺(3) a(5) a(7)\n",
      "The expectation value of a⁺(1) a⁺(3) a(5) a(7) is 0.0010622868829843115\n",
      "The current excitation operator is a⁺(2) a⁺(3) a(4) a(5)\n"
     ]
    },
    {
     "name": "stderr",
     "output_type": "stream",
     "text": [
      "/Users/pssrivathsansundar/.virtualenvs/new_venv/lib/python3.11/site-packages/pennylane_lightning/core/_serialize.py:283: ComplexWarning: Casting complex values to real discards the imaginary part\n",
      "  coeffs = np.array(coeffs).astype(self.rtype)\n",
      "/Users/pssrivathsansundar/.virtualenvs/new_venv/lib/python3.11/site-packages/pennylane_lightning/core/_serialize.py:283: ComplexWarning: Casting complex values to real discards the imaginary part\n",
      "  coeffs = np.array(coeffs).astype(self.rtype)\n"
     ]
    },
    {
     "name": "stdout",
     "output_type": "stream",
     "text": [
      "The expectation value of a⁺(2) a⁺(3) a(4) a(5) is 7.93828279534491e-05\n",
      "The current excitation operator is a⁺(2) a⁺(3) a(4) a(7)\n"
     ]
    },
    {
     "name": "stderr",
     "output_type": "stream",
     "text": [
      "/Users/pssrivathsansundar/.virtualenvs/new_venv/lib/python3.11/site-packages/pennylane_lightning/core/_serialize.py:283: ComplexWarning: Casting complex values to real discards the imaginary part\n",
      "  coeffs = np.array(coeffs).astype(self.rtype)\n"
     ]
    },
    {
     "name": "stdout",
     "output_type": "stream",
     "text": [
      "The expectation value of a⁺(2) a⁺(3) a(4) a(7) is 1.5196913803431857e-17\n",
      "The current excitation operator is a⁺(2) a⁺(3) a(5) a(6)\n"
     ]
    },
    {
     "name": "stderr",
     "output_type": "stream",
     "text": [
      "/Users/pssrivathsansundar/.virtualenvs/new_venv/lib/python3.11/site-packages/pennylane_lightning/core/_serialize.py:283: ComplexWarning: Casting complex values to real discards the imaginary part\n",
      "  coeffs = np.array(coeffs).astype(self.rtype)\n"
     ]
    },
    {
     "name": "stdout",
     "output_type": "stream",
     "text": [
      "The expectation value of a⁺(2) a⁺(3) a(5) a(6) is 1.2188137010702093e-17\n",
      "The current excitation operator is a⁺(2) a⁺(3) a(6) a(7)\n"
     ]
    },
    {
     "name": "stderr",
     "output_type": "stream",
     "text": [
      "/Users/pssrivathsansundar/.virtualenvs/new_venv/lib/python3.11/site-packages/pennylane_lightning/core/_serialize.py:283: ComplexWarning: Casting complex values to real discards the imaginary part\n",
      "  coeffs = np.array(coeffs).astype(self.rtype)\n"
     ]
    },
    {
     "name": "stdout",
     "output_type": "stream",
     "text": [
      "The expectation value of a⁺(2) a⁺(3) a(6) a(7) is 0.03354401712245733\n",
      "The highest operator value is 0.03354401712245733 for operator a⁺(2) a⁺(3) a(6) a(7)\n",
      "Highest gradient excitation is [2, 3, 6, 7]\n",
      "The current status of ash_excitation is [[2, 3, 6, 7], [0, 3, 5, 6], [0, 1, 4, 5], [1, 2, 4, 7], [1, 5], [2, 6], [3, 7], [2, 3, 6, 7]]\n",
      "Moving towards parameters\n",
      "Parameters before optimization are [-0.82176297 -1.33664719 -0.9776199  -1.20616273  0.31947365  1.56457721\n",
      " -1.28274059  0.        ]\n",
      "Current parameters: [-0.82174366 -1.33665704 -0.9776177  -1.20616505  0.31947255  1.56457888\n",
      " -1.28274572  0.07819452]\n",
      "Current cost: -1.8663329835988478\n",
      "\n",
      "Current parameters: [-0.83161335 -1.34430364 -0.97065533 -1.21191462  0.31899391  1.56468342\n",
      " -1.28620006  0.08110543]\n",
      "Current cost: -1.866366083097988\n",
      "\n",
      "Current parameters: [-0.83533183 -1.34656917 -0.96749543 -1.21316277  0.31905162  1.56797514\n",
      " -1.28943828  0.0821946 ]\n",
      "Current cost: -1.8663726621450465\n",
      "\n",
      "Current parameters: [-0.8367544  -1.34724965 -0.96653492 -1.21350547  0.31904114  1.57106818\n",
      " -1.29243712  0.0826162 ]\n",
      "Current cost: -1.8663752279004668\n",
      "\n",
      "Current parameters: [-0.84044822 -1.34916282 -0.96386482 -1.21454556  0.31902499  1.58527975\n",
      " -1.30618216  0.08385386]\n",
      "Current cost: -1.8663813080377718\n",
      "\n",
      "Current parameters: [-0.83984142 -1.34898592 -0.96412551 -1.21451     0.31903357  1.58918888\n",
      " -1.30995674  0.08381002]\n",
      "Current cost: -1.8663832063523145\n",
      "\n",
      "Current parameters: [-0.83652521 -1.34799472 -0.96560054 -1.214299    0.31907527  1.61054546\n",
      " -1.33057052  0.0836061 ]\n",
      "Current cost: -1.8663879748152368\n",
      "\n",
      "Optimization terminated successfully.\n",
      "         Current function value: -1.866388\n",
      "         Iterations: 7\n",
      "         Function evaluations: 1235\n",
      "Final updated parameters: [-0.83652521 -1.34799472 -0.96560054 -1.214299    0.31907527  1.61054546\n",
      " -1.33057052  0.0836061 ]\n",
      "Final cost: -1.8663879748152368\n",
      "Updated params are [-0.83652521 -1.34799472 -0.96560054 -1.214299    0.31907527  1.61054546\n",
      " -1.33057052  0.0836061 ]\n",
      "Updated excitation are [[2, 3, 6, 7], [0, 3, 5, 6], [0, 1, 4, 5], [1, 2, 4, 7], [1, 5], [2, 6], [3, 7], [2, 3, 6, 7]]\n",
      "Exc. dealing right now is [2, 3, 6, 7]\n",
      "The params that are going in -0.8365252077822042\n",
      "Exc. dealing right now is [0, 3, 5, 6]\n",
      "The params that are going in -1.3479947182083178\n",
      "Exc. dealing right now is [0, 1, 4, 5]\n",
      "The params that are going in -0.965600539772288\n",
      "Exc. dealing right now is [1, 2, 4, 7]\n",
      "The params that are going in -1.2142989957911567\n",
      "Single Exc. dealing right now is [1, 5]\n",
      "Single exc params that are going in 0.31907526611111714\n",
      "Single Exc. dealing right now is [2, 6]\n",
      "Single exc params that are going in 1.610545458365376\n",
      "Single Exc. dealing right now is [3, 7]\n",
      "Single exc params that are going in -1.3305705244930608\n",
      "Exc. dealing right now is [2, 3, 6, 7]\n",
      "The params that are going in 0.08360609531129556\n",
      "Exc. dealing right now is [2, 3, 6, 7]\n",
      "The params that are going in -0.8365252077822042\n",
      "Exc. dealing right now is [0, 3, 5, 6]\n",
      "The params that are going in -1.3479947182083178\n",
      "Exc. dealing right now is [0, 1, 4, 5]\n",
      "The params that are going in -0.965600539772288\n",
      "Exc. dealing right now is [1, 2, 4, 7]\n",
      "The params that are going in -1.2142989957911567\n",
      "Single Exc. dealing right now is [1, 5]\n",
      "Single exc params that are going in 0.31907526611111714\n",
      "Single Exc. dealing right now is [2, 6]\n",
      "Single exc params that are going in 1.610545458365376\n",
      "Single Exc. dealing right now is [3, 7]\n",
      "Single exc params that are going in -1.3305705244930608\n",
      "Exc. dealing right now is [2, 3, 6, 7]\n",
      "The params that are going in 0.08360609531129556\n",
      "0: ──X───────────────────────────────────╭FermionicDoubleExcitation(-1.35)\n",
      "1: ──X───────────────────────────────────│────────────────────────────────\n",
      "2: ──X─╭FermionicDoubleExcitation(-0.84)─│────────────────────────────────\n",
      "3: ──X─├FermionicDoubleExcitation(-0.84)─├FermionicDoubleExcitation(-1.35)\n",
      "4: ────│─────────────────────────────────│────────────────────────────────\n",
      "5: ────│─────────────────────────────────├FermionicDoubleExcitation(-1.35)\n",
      "6: ────├FermionicDoubleExcitation(-0.84)─╰FermionicDoubleExcitation(-1.35)\n",
      "7: ────╰FermionicDoubleExcitation(-0.84)──────────────────────────────────\n",
      "\n",
      "──╭FermionicDoubleExcitation(-0.97)──────────────────────────────────\n",
      "──├FermionicDoubleExcitation(-0.97)─╭FermionicDoubleExcitation(-1.21)\n",
      "──│─────────────────────────────────├FermionicDoubleExcitation(-1.21)\n",
      "──│─────────────────────────────────│────────────────────────────────\n",
      "──├FermionicDoubleExcitation(-0.97)─├FermionicDoubleExcitation(-1.21)\n",
      "──╰FermionicDoubleExcitation(-0.97)─│────────────────────────────────\n",
      "────────────────────────────────────│────────────────────────────────\n",
      "────────────────────────────────────╰FermionicDoubleExcitation(-1.21)\n",
      "\n",
      "───────────────────────────────────────────────────────────────────\n",
      "──╭FermionicSingleExcitation(0.32)─────────────────────────────────\n",
      "──├FermionicSingleExcitation(0.32)─╭FermionicSingleExcitation(1.61)\n",
      "──├FermionicSingleExcitation(0.32)─├FermionicSingleExcitation(1.61)\n",
      "──├FermionicSingleExcitation(0.32)─├FermionicSingleExcitation(1.61)\n",
      "──╰FermionicSingleExcitation(0.32)─├FermionicSingleExcitation(1.61)\n",
      "───────────────────────────────────╰FermionicSingleExcitation(1.61)\n",
      "───────────────────────────────────────────────────────────────────\n",
      "\n",
      "─────────────────────────────────────────────────────────────────────┤  State\n",
      "─────────────────────────────────────────────────────────────────────┤  State\n",
      "────────────────────────────────────╭FermionicDoubleExcitation(0.08)─┤  State\n",
      "──╭FermionicSingleExcitation(-1.33)─├FermionicDoubleExcitation(0.08)─┤  State\n",
      "──├FermionicSingleExcitation(-1.33)─│────────────────────────────────┤  State\n",
      "──├FermionicSingleExcitation(-1.33)─│────────────────────────────────┤  State\n",
      "──├FermionicSingleExcitation(-1.33)─├FermionicDoubleExcitation(0.08)─┤  State\n",
      "──╰FermionicSingleExcitation(-1.33)─╰FermionicDoubleExcitation(0.08)─┤  State\n",
      "Energies: [-1.4300836708403404, -1.5694603835520688, -1.7436334426139464, -1.8421101514224558, -1.8504359362897882, -1.8594600249091182, -1.8656767409578778, -1.8663879748152368]\n"
     ]
    }
   ],
   "source": [
    "energies, params, ash_excitation, gs_state,H, qubits = adaptvqe(adapt_it = 8, e_th=1e-12)\n",
    "print('Energies:', energies)\n"
   ]
  },
  {
   "cell_type": "code",
   "execution_count": 3,
   "metadata": {},
   "outputs": [
    {
     "name": "stdout",
     "output_type": "stream",
     "text": [
      "Params before optimizeation"
     ]
    },
    {
     "name": "stdout",
     "output_type": "stream",
     "text": [
      " [0.1 0.1 0.1 0.1 0.1 0.1 0.1 0.1 0.1 0.1 0.1 0.1 0.1 0.1 0.1 0.1]\n",
      "0: ─╭|Ψ⟩──RY(0.10)─╭●──RY(0.10)─────────────────────────────────────────────────────────────┤ ╭<𝓗>\n",
      "1: ─├|Ψ⟩──RY(0.10)─╰X─╭●─────────RY(0.10)───────────────────────────────────────────────────┤ ├<𝓗>\n",
      "2: ─├|Ψ⟩──RY(0.10)────╰X────────╭●─────────RY(0.10)─────────────────────────────────────────┤ ├<𝓗>\n",
      "3: ─├|Ψ⟩──RY(0.10)──────────────╰X────────╭●─────────RY(0.10)───────────────────────────────┤ ├<𝓗>\n",
      "4: ─├|Ψ⟩──RY(0.10)────────────────────────╰X────────╭●─────────RY(0.10)─────────────────────┤ ├<𝓗>\n",
      "5: ─├|Ψ⟩──RY(0.10)──────────────────────────────────╰X────────╭●─────────RY(0.10)───────────┤ ├<𝓗>\n",
      "6: ─├|Ψ⟩──RY(0.10)────────────────────────────────────────────╰X────────╭●─────────RY(0.10)─┤ ├<𝓗>\n",
      "7: ─╰|Ψ⟩──RY(0.10)──────────────────────────────────────────────────────╰X─────────RY(0.10)─┤ ╰<𝓗>\n",
      "The 1st set params after calculation : [0.10352985 0.1036012  0.10640919 0.10562353 0.09616059 0.10650525\n",
      " 0.10550564 0.10695863 0.10022244 0.10286177 0.0999524  0.10231048\n",
      " 0.1022272  0.10188513 0.1021979  0.10922058]\n",
      "step = 0,  E = -0.89813717 Ha\n",
      "The 1st set params after calculation : [0.10718744 0.10731117 0.11319833 0.11153947 0.09201024 0.11340685\n",
      " 0.11132389 0.11465641 0.10047672 0.10580526 0.09993358 0.10456825\n",
      " 0.10437439 0.10377898 0.10441886 0.11914315]\n",
      "The 1st set params after calculation : [0.11097758 0.11112955 0.12038418 0.11776281 0.0875225  0.12072082\n",
      " 0.11747334 0.12315965 0.10076048 0.10883269 0.09994447 0.10675248\n",
      " 0.10643063 0.10567905 0.10666463 0.12982308]\n",
      "step = 2,  E = -0.89965950 Ha\n",
      "The 1st set params after calculation : [0.11490516 0.11505502 0.12798299 0.12430921 0.08266862 0.12846232\n",
      " 0.12397346 0.13253941 0.10107122 0.11194637 0.09998603 0.1088397\n",
      " 0.10838366 0.10758262 0.10893767 0.14131851]\n",
      "The 1st set params after calculation : [0.11897512 0.11908497 0.13601013 0.13119498 0.07741742 0.13664521\n",
      " 0.13084461 0.14287146 0.10140635 0.11514871 0.10005926 0.11080361\n",
      " 0.11021976 0.10948673 0.1112412  0.15369011]\n",
      "step = 4,  E = -0.90161778 Ha\n",
      "The 1st set params after calculation : [0.12319236 0.12321524 0.14447965 0.13843704 0.07173519 0.1452815\n",
      " 0.13810788 0.15423618 0.10176313 0.1184422  0.10016516 0.11261483\n",
      " 0.11192369 0.11138821 0.11357947 0.16700057]\n",
      "The 1st set params after calculation : [0.12756161 0.12743972 0.15340375 0.1460528  0.06558559 0.15438064\n",
      " 0.14578504 0.1667182  0.10213867 0.12182944 0.10030478 0.11424073\n",
      " 0.11347849 0.11328366 0.11595792 0.18131393]\n",
      "step = 6,  E = -0.90414685 Ha\n",
      "The 1st set params after calculation : [0.13208731 0.13174995 0.16279216 0.15406006 0.05892972 0.16394878\n",
      " 0.15389836 0.18040596 0.10252987 0.12531319 0.10047917 0.11564521\n",
      " 0.11486543 0.11516945 0.11838349 0.19669476]\n",
      "The 1st set params after calculation : [0.13677341 0.13613464 0.17265139 0.16247684 0.05172614 0.17398778\n",
      " 0.16247036 0.19539094 0.1029334  0.12889629 0.10068939 0.11678855\n",
      " 0.11606389 0.11704176 0.12086488 0.2132069 ]\n",
      "step = 8,  E = -0.90741854 Ha\n",
      "The 1st set params after calculation : [0.14162316 0.14057908 0.18298393 0.17132106 0.04393112 0.18449415\n",
      " 0.17152359 0.21176663 0.10334563 0.13258176 0.10093654 0.11762725\n",
      " 0.11705126 0.11889652 0.12341293 0.23091203]\n",
      "The 1st set params after calculation : [0.14663886 0.14506458 0.19378725 0.18061026 0.03549894 0.1954578\n",
      " 0.18108025 0.22962717 0.10376258 0.13637274 0.10122169 0.11811402\n",
      " 0.11780292 0.12072953 0.12604099 0.24986782]\n",
      "step = 10,  E = -0.91164554 Ha\n",
      "The 1st set params after calculation : [0.15182152 0.14956782 0.20505279 0.19036108 0.02638245 0.20686074\n",
      " 0.19116181 0.24906555 0.10417986 0.14027249 0.10154592 0.11819773\n",
      " 0.11829222 0.1225364  0.12876534 0.27012562]\n",
      "The 1st set params after calculation : [0.15717057 0.15406016 0.2167649  0.20058878 0.01653376 0.21867561\n",
      " 0.20178846 0.27017146 0.10459259 0.14428439 0.10191026 0.11782361\n",
      " 0.11849054 0.12431259 0.13160566 0.29172789]\n",
      "step = 12,  E = -0.91708004 Ha\n",
      "The 1st set params after calculation : [0.1626835  0.1585071  0.22889969 0.21130646 0.00590523 0.23086427\n",
      " 0.2129786  0.29302859 0.1049953  0.1484119  0.1023157  0.11693345\n",
      " 0.11836745 0.12605345 0.13458553 0.31470507]\n",
      "The 1st set params after calculation : [ 0.16835552  0.16286768  0.24142402  0.2225243  -0.00554929  0.24337646\n",
      "  0.22474814  0.31771154  0.1053819   0.15265845  0.10276306  0.11546607\n",
      "  0.11789093  0.12775426  0.13773289  0.33907217]\n",
      "step = 14,  E = -0.92400214 Ha\n",
      "The 1st set params after calculation : [ 0.17417924  0.16709417  0.25429461  0.23424855 -0.01787296  0.25614862\n",
      "  0.23710986  0.34428232  0.10574554  0.1570274   0.10325297  0.11335789\n",
      "  0.11702777  0.12941021  0.14108052  0.36482508]\n",
      "The 1st set params after calculation : [ 0.18014444  0.17113197  0.26745742  0.24648048 -0.03110419  0.26910318\n",
      "  0.25007258  0.3727865   0.10607864  0.1615219   0.10378564  0.11054381\n",
      "  0.11574407  0.13101641  0.14466636  0.39193673]\n",
      "step = 16,  E = -0.93269267 Ha\n",
      "The 1st set params after calculation : [ 0.18623795  0.17491987  0.28084742  0.25921522 -0.04527465  0.28214839\n",
      "  0.26364048  0.40324919  0.10637282  0.16614467  0.10436067  0.10695823\n",
      "  0.11400591  0.13256796  0.14853383  0.42035337]\n",
      "The 1st set params after calculation : [ 0.19244364  0.17839083  0.29438892  0.27244061 -0.06040712  0.29517892\n",
      "  0.2778123   0.43567112  0.10661901  0.17089785  0.10497677  0.10253639\n",
      "  0.1117802   0.13405985  0.15273181  0.44999117]\n",
      "step = 18,  E = -0.94338677 Ha\n",
      "The 1st set params after calculation : [ 0.19874257  0.18147329  0.30799649  0.28613608 -0.07651339  0.30807748\n",
      "  0.29258069  0.47002495  0.10680754  0.17578267  0.10563131  0.09721591\n",
      "  0.10903566  0.13548704  0.15731444  0.48073353]\n",
      "The 1st set params after calculation : [ 0.20511338  0.18409314  0.32157663  0.30027173 -0.09359216  0.32071756\n",
      "  0.30793162  0.50625222  0.10692843  0.1807992   0.10631981  0.09093849\n",
      "  0.10574395  0.13684437  0.16234048  0.51242944]\n",
      "step = 20,  E = -0.95621104 Ha\n",
      "The 1st set params after calculation : [ 0.21153275  0.18617627  0.3350302   0.31480765 -0.11162728  0.33296738\n",
      "  0.32384401  0.54426127  0.10697172  0.18594601  0.10703538  0.0836518\n",
      "  0.10188088  0.13812659  0.16787229  0.54489313]\n",
      "The 1st set params after calculation : [ 0.21797598  0.18765169  0.34825545  0.32969367 -0.13058643  0.34469487\n",
      "  0.34028946  0.58392633  0.10692802  0.19121982  0.10776802  0.07531138\n",
      "  0.09742766  0.13932834  0.17397429  0.57790552]\n",
      "step = 22,  E = -0.97111804 Ha\n",
      "The 1st set params after calculation : [ 0.22441757  0.18845507  0.3611516   0.34486954 -0.15042041  0.35577359\n",
      "  0.35723231  0.62508811  0.1067891   0.19661523  0.10850396  0.06588252\n",
      "  0.09237203  0.14044426  0.18071089  0.61121735]\n",
      "The 1st set params after calculation : [ 0.23083181  0.18853232  0.37362261  0.36026581 -0.17106314  0.36608908\n",
      "  0.37462992  0.66755594  0.10654865  0.20212448  0.10922509  0.05534196\n",
      "  0.08670933  0.14146905  0.18814401  0.64455432]\n",
      "step = 24,  E = -0.98784251 Ha\n",
      "The 1st set params after calculation : [ 0.23719307  0.18784299  0.38558086  0.37580514 -0.19243246  0.37554508\n",
      "  0.39243318  0.71111149  0.106203    0.20773731  0.10990842  0.0436793\n",
      "  0.08044323  0.14239772  0.19633012  0.67762383]\n",
      "The 1st set params after calculation : [ 0.24347603  0.18636317  0.39695052  0.39140432 -0.21443187  0.38406909\n",
      "  0.41058726  0.75551395  0.10575183  0.21344103  0.11052599  0.03089804\n",
      "  0.07358619  0.14322587  0.20531713  0.71012329]\n",
      "step = 26,  E = -1.00590408 Ha\n",
      "The 1st set params after calculation : [ 0.24965561  0.18408744  0.40767002  0.40697667 -0.23695281  0.3916166\n",
      "  0.42903255  0.80050619  0.10519879  0.21922068  0.11104489  0.01701615\n",
      "  0.06615941  0.14395008  0.2151413   0.74174922]\n",
      "The 1st set params after calculation : [ 0.25570677  0.1810298   0.41769378  0.42243483 -0.25987784  0.39817352\n",
      "  0.4477057   0.84582185  0.10455181  0.2250595   0.11142777  0.00206605\n",
      "  0.05819244  0.1445684   0.22582434  0.77220683]\n",
      "step = 28,  E = -1.02466629 Ha\n",
      "The 1st set params after calculation : [ 0.26160433  0.17722326  0.42699281  0.43769371 -0.28308405  0.40375658\n",
      "  0.46654068  0.89119249  0.10382321  0.23093947  0.1116337  -0.0139059\n",
      "  0.04972227  0.14508086  0.23737106  0.80121929]\n",
      "The 1st set params after calculation : [ 0.26732278  0.17271835  0.43555436  0.45267329 -0.30644687  0.40841165\n",
      "  0.48546979  0.93635477  0.10302945  0.2368421   0.11161931 -0.03084046\n",
      "  0.04079205  0.14548998  0.24976779  0.82853618]\n",
      "step = 30,  E = -1.04343733 Ha\n",
      "The 1st set params after calculation : [ 0.2728363   0.16758057  0.44338072  0.46730121 -0.3298438   0.41221018\n",
      "  0.50442464  0.98105688  0.10219055  0.24274921  0.11134018 -0.04866701\n",
      "  0.03144944  0.14580119  0.26298164  0.85394053]\n",
      "The 1st set params after calculation : [ 0.27811906  0.16188705  0.45048738  0.48151488 -0.35315792  0.41524432\n",
      "  0.52333688  1.02506408  0.10132925  0.24864378  0.11075238 -0.06730548\n",
      "  0.02174488  0.14602318  0.27696082  0.87725402]\n",
      "step = 32,  E = -1.06157971 Ha\n",
      "The 1st set params after calculation : [ 0.28314571  0.15572289  0.4569008   0.49526299 -0.37628097  0.41762112\n",
      "  0.54213885  1.06816313  0.10047003  0.25451065  0.10981395 -0.08666848\n",
      "  0.01172972  0.14616803  0.29163583  0.89834023]\n",
      "The 1st set params after calculation : [ 0.28789217  0.14917741  0.46265597  0.50850638 -0.39911579  0.41945657\n",
      "  0.56076409  1.11016534  0.09963796  0.26033708  0.10848626 -0.10666355\n",
      "  0.00145445  0.14625118  0.30692162  0.91710572]\n",
      "step = 34,  E = -1.07859511 Ha\n",
      "The 1st set params after calculation : [ 0.29233645  0.14234063  0.46779408  0.5212182  -0.42157815  0.42086996\n",
      "  0.57914779  1.15090841  0.09885766  0.26611313  0.10673518 -0.1271955\n",
      " -0.00903285  0.14629114  0.32272028  0.93349918]\n",
      "The 1st set params after calculation : [ 0.29645951  0.13530024  0.47236027  0.53338352 -0.44359774  0.42197887\n",
      "  0.59722713  1.19025708  0.09815235  0.2718317   0.10453195 -0.14816854\n",
      " -0.01968781  0.14630905  0.33892426  0.94750884]\n",
      "step = 36,  E = -1.09416464 Ha\n",
      "The 1st set params after calculation : [ 0.30024603  0.1281392   0.47640169  0.54499847 -0.46511853  0.42289525\n",
      "  0.61494175  1.22810281  0.09754305  0.27748846  0.10185375 -0.16948831\n",
      " -0.03047067  0.14632807  0.35541979  0.95915859]\n",
      "The 1st set params after calculation : [ 0.30368495  0.120934    0.47996579  0.55606896 -0.48609858  0.42372247\n",
      "  0.63223417  1.26436266  0.09704807  0.28308151  0.09868395 -0.19106358\n",
      " -0.04134691  0.14637261  0.37209024  0.96850309]\n",
      "step = 38,  E = -1.10814416 Ha\n",
      "The 1st set params after calculation : [ 0.30676982  0.11375348  0.483099    0.56660928 -0.50650931  0.42455348\n",
      "  0.64905037  1.29897764  0.09668271  0.28861093  0.09501216 -0.21280773\n",
      " -0.05228756  0.14646759  0.38881929  0.97562247]\n",
      "The 1st set params after calculation : [ 0.30949883  0.10665832  0.48584559  0.5766406  -0.52633441  0.42546985\n",
      "  0.66534027  1.3319107   0.09645911  0.29407827  0.09083398 -0.23463982\n",
      " -0.06326916  0.14663759  0.40549386  0.98061686]\n",
      "step = 40,  E = -1.12053017 Ha\n",
      "The 1st set params after calculation : [ 0.31187465  0.0997009   0.48824686  0.58618945 -0.54556856  0.42654163\n",
      "  0.68105839  1.36314454  0.09638637  0.29948601  0.08615062 -0.25648545\n",
      " -0.07427361  0.14690613  0.42200643  0.98360109]\n",
      "The 1st set params after calculation : [ 0.31390403  0.09292556  0.49034055  0.59528639 -0.56421607  0.42782768\n",
      "  0.69616435  1.39267934  0.09647076  0.30483705  0.08096838 -0.27827725\n",
      " -0.08528779  0.14729496  0.43825706  0.98469985]\n",
      "step = 42,  E = -1.13141575 Ha\n",
      "The 1st set params after calculation : [ 0.31559732  0.086369    0.4921604   0.60396475 -0.58228935  0.42937647\n",
      "  0.71062332  1.42053056  0.09671604  0.31013423  0.07529807 -0.29995519\n",
      " -0.09630311  0.14782355  0.45415479  0.98404342]\n",
      "The 1st set params after calculation : [ 0.31696775  0.080061    0.49373598  0.6122596  -0.59980756  0.4312271\n",
      "  0.7244064   1.44672679  0.09712383  0.31537996  0.06915436 -0.32146653\n",
      " -0.10731502  0.14850866  0.46961865  0.98176402]\n",
      "step = 44,  E = -1.14095106 Ha\n",
      "The 1st set params after calculation : [ 0.31803087  0.074025    0.49509254  0.62020685 -0.61679527  0.43341038\n",
      "  0.73749077  1.47130772  0.09769397  0.32057598  0.06255518 -0.34276577\n",
      " -0.11832246  0.149364    0.48457818  0.97799291]\n",
      "The 1st set params after calculation : [ 0.31880378  0.06827889  0.49625113  0.62784255 -0.63328121  0.43595\n",
      "  0.74985979  1.49432222  0.09842497  0.32572308  0.05552105 -0.36381423\n",
      " -0.12932739  0.15040013  0.4989736   0.97285801]\n",
      "step = 46,  E = -1.14931384 Ha\n",
      "The 1st set params after calculation : [ 0.3193046   0.0628357   0.49722871  0.6352023  -0.64929717  0.43886358\n",
      "  0.76150281  1.51582661  0.09931428  0.33082102  0.0480746  -0.3845797\n",
      " -0.14033431  0.15162436  0.51275565  0.96648226]\n",
      "The 1st set params after calculation : [ 0.31955185  0.05770422  0.49803834  0.6423208  -0.664877    0.44216371\n",
      "  0.77241493  1.53588299  0.10035868  0.33586844  0.04023997 -0.40503592\n",
      " -0.15134982  0.15304085  0.52588521  0.95898239]\n",
      "step = 48,  E = -1.15668927 Ha\n",
      "The 1st set params after calculation : [ 0.31956402  0.05288966  0.49868953  0.64923155 -0.68005579  0.44585882\n",
      "  0.78259662  1.5545578   0.10155451  0.34086284  0.03204239 -0.425162\n",
      " -0.16238225  0.15465075  0.53833267  0.9504682 ]\n",
      "The 1st set params after calculation : [ 0.31935915  0.04839419  0.49918848  0.65596656 -0.69486909  0.449954\n",
      "  0.79205326  1.5719204   0.10289791  0.34580065  0.02350779 -0.44494187\n",
      " -0.17344132  0.15645236  0.55007722  0.94104216]\n",
      "step = 50,  E = -1.16325681 Ha\n",
      "The 1st set params after calculation : [ 0.31895453  0.04421741  0.49953846  0.66255618 -0.70935233  0.4544516\n",
      "  0.80079455  1.58804193  0.10438503  0.35067721  0.01466243 -0.46436371\n",
      " -0.18453788  0.15844142  0.56110604  0.93079929]\n",
      "The 1st set params after calculation : [ 0.31836651  0.04035682  0.49974014  0.66902898 -0.72354024  0.45935186\n",
      "  0.80883396  1.60299421  0.1060121   0.35548688  0.00553267 -0.48341935\n",
      " -0.19568363  0.16061136  0.57141342  0.9198273 ]\n",
      "step = 52,  E = -1.16918172 Ha\n",
      "The 1st set params after calculation : [ 0.3176103   0.03680821  0.49979192  0.67541166 -0.73746652  0.46465334\n",
      "  0.81618814  1.61684881  0.1077756   0.36022313 -0.00385531 -0.50210379\n",
      " -0.20689095  0.16295361  0.58099994  0.90820681]\n",
      "The 1st set params after calculation : [ 0.31669994  0.03356594  0.49969026  0.681729   -0.7511634   0.47035329\n",
      "  0.82287637  1.62967625  0.10967228  0.36487859 -0.01347565 -0.52041468\n",
      " -0.21817273  0.16545788  0.58987165  0.89601175]\n",
      "step = 54,  E = -1.17461014 Ha\n",
      "The 1st set params after calculation : [ 0.31564822  0.03062327  0.49942998  0.68800384 -0.76466149  0.47644795\n",
      "  0.82891999  1.64154536  0.11169923  0.36944519 -0.023303   -0.53835189\n",
      " -0.2295422   0.16811247  0.59803923  0.88330977]\n",
      "The 1st set params after calculation : [ 0.31446673  0.02797257  0.49900454  0.69425708 -0.77798952  0.48293283\n",
      "  0.83434191  1.65252274  0.11385388  0.37391421 -0.03331261 -0.55591711\n",
      " -0.24101283  0.17090452  0.60551729  0.87016271]\n",
      "step = 56,  E = -1.17966690 Ha\n",
      "The 1st set params after calculation : [ 0.31316586  0.02560555  0.49840631  0.70050769 -0.79117421  0.48980282\n",
      "  0.83916617  1.66267228  0.11613402  0.3782764  -0.04348042 -0.57311349\n",
      " -0.25259822  0.17382033  0.61232372  0.85662705]\n",
      "The 1st set params after calculation : [ 0.31175485  0.0235134   0.4976268   0.7067727  -0.80424024  0.49705238\n",
      "  0.84341753  1.6720549   0.11853777  0.38252206 -0.05378318 -0.58994535\n",
      " -0.26431201  0.17684555  0.61847902  0.84275434]\n",
      "step = 58,  E = -1.18445560 Ha\n",
      "The 1st set params after calculation : [ 0.31024192  0.02168692  0.49665684  0.71306729 -0.81721014  0.50467562\n",
      "  0.84712114  1.68072828  0.12106357  0.38664115 -0.06419844 -0.60641792\n",
      " -0.2761678   0.17996545  0.62400582  0.82859171]\n",
      "The 1st set params after calculation : [ 0.30863431  0.02011664  0.49548683  0.71940475 -0.83010435  0.51266637\n",
      "  0.85030224  1.68874672  0.12371014  0.39062336 -0.07470469 -0.62253712\n",
      " -0.28817908  0.18316513  0.62892836  0.81418215]\n",
      "step = 60,  E = -1.18906012 Ha\n",
      "The 1st set params after calculation : [ 0.30693836  0.01879291  0.49410685  0.72579657 -0.84294116  0.52101823\n",
      "  0.85298592  1.69616107  0.12647648  0.39445819 -0.08528132 -0.63830938\n",
      " -0.30035913  0.18642971  0.63327212  0.79956498]\n",
      "The 1st set params after calculation : [ 0.30515963  0.01770591  0.49250684  0.73225245 -0.85573681  0.52972457\n",
      "  0.85519694  1.70301871  0.12936181  0.39813508 -0.09590872 -0.65374147\n",
      " -0.31272096  0.18974451  0.63706338  0.78477611]\n",
      "step = 62,  E = -1.19354716 Ha\n",
      "The 1st set params after calculation : [ 0.30330296  0.01684575  0.49067673  0.73878034 -0.86850553  0.53877854\n",
      "  0.85695958  1.70936358  0.13236555  0.40164347 -0.1065683  -0.66884041\n",
      " -0.32527725  0.19309522  0.64032897  0.76984831]\n",
      "The 1st set params after calculation : [ 0.30137256  0.01620243  0.48860657  0.74538648 -0.88125958  0.54817307\n",
      "  0.85829748  1.7152363   0.13548727  0.4049729  -0.11724252 -0.68361336\n",
      " -0.33804023  0.19646801  0.64309598  0.75481154]\n",
      "step = 64,  E = -1.19796901 Ha\n",
      "The 1st set params after calculation : [ 0.29937205  0.0157659   0.4862866   0.75207543 -0.89400933  0.55790081\n",
      "  0.85923363  1.72067422  0.13872669  0.40811307 -0.12791491 -0.69806754\n",
      " -0.35102161  0.19984972  0.64539152  0.7396931 ]\n",
      "The 1st set params after calculation : [ 0.29730458  0.01552603  0.4837074   0.75885011 -0.90676334  0.56795415\n",
      "  0.85979027  1.72571164  0.14208363  0.41105396 -0.13857011 -0.71221017\n",
      " -0.36423251  0.20322789  0.64724253  0.72451781]\n",
      "step = 66,  E = -1.20236638 Ha\n",
      "The 1st set params after calculation : [ 0.29517282  0.01547258  0.48085995  0.76571184 -0.91952844  0.57832509\n",
      "  0.85998884  1.73037993  0.14555799  0.41378591 -0.14919391 -0.72604846\n",
      " -0.3776833   0.20659093  0.64867562  0.70930826]\n",
      "The 1st set params after calculation : [ 0.29297904  0.01559523  0.47773573  0.77266036 -0.93230977  0.58900526\n",
      "  0.85985004  1.73470771  0.14914974  0.41629967 -0.15977323 -0.73958952\n",
      " -0.39138353  0.20992817  0.64971694  0.69408484]\n",
      "step = 68,  E = -1.20677078 Ha\n",
      "The 1st set params after calculation : [ 0.29072515  0.01588349  0.47432677  0.77969385 -0.94511087  0.59998581\n",
      "  0.85939377  1.73872107  0.15285885  0.41858652 -0.17029615 -0.7528404\n",
      " -0.40534181  0.2132299   0.65039206  0.67886596]\n",
      "The 1st set params after calculation : [ 0.28841271  0.01632672  0.47062575  0.78680902 -0.95793374  0.61125738\n",
      "  0.85863917  1.74244377  0.15668534  0.42063831 -0.18075191 -0.76580805\n",
      " -0.41956567  0.21648748  0.65072586  0.66366812]\n",
      "step = 70,  E = -1.21120648 Ha\n",
      "The 1st set params after calculation : [ 0.28604293  0.01691407  0.46662602  0.79400105 -0.9707789   0.62281\n",
      "  0.85760467  1.74589743  0.1606292   0.42244759 -0.1911309  -0.7784993\n",
      " -0.43406145  0.21969333  0.6507425   0.64850599]\n",
      "The 1st set params after calculation : [ 0.28361675  0.01763447  0.46232172  0.80126372 -0.98364543  0.63463303\n",
      "  0.856308    1.74910171  0.16469041  0.4240076  -0.20142466 -0.7909209\n",
      " -0.44883415  0.22284098  0.65046534  0.63339255]\n",
      "step = 72,  E = -1.21569181 Ha\n",
      "The 1st set params after calculation : [ 0.28113477  0.01847656  0.45770777  0.80858939 -0.99653105  0.64671509\n",
      "  0.85476622  1.75207456  0.16886891  0.4253124  -0.21162585 -0.80307949\n",
      " -0.46388732  0.22592507  0.6499169   0.61833918]\n",
      "The 1st set params after calculation : [ 0.27859733  0.01942873  0.45277995  0.81596905 -1.00943213  0.65904401\n",
      "  0.85299583  1.75483238  0.17316458  0.42635693 -0.2217282  -0.81498163\n",
      " -0.4792229   0.22894135  0.64911884  0.60335569]\n",
      "step = 74,  E = -1.22023992 Ha\n",
      "The 1st set params after calculation : [ 0.27600446  0.02047903  0.44753491  0.82339237 -1.02234376  0.67160673\n",
      "  0.85101273  1.75739023  0.17757724  0.42713702 -0.2317265  -0.82663378\n",
      " -0.49484113  0.2318867   0.64809197  0.58845046]\n",
      "The 1st set params after calculation : [ 0.27335589  0.02161522  0.44197024  0.83084776 -1.03525982  0.68438927\n",
      "  0.84883234  1.75976198  0.18210663  0.42764951 -0.2416165  -0.83804233\n",
      " -0.51074042  0.23475903  0.64685619  0.57363051]\n",
      "step = 76,  E = -1.22485902 Ha\n",
      "The 1st set params after calculation : [ 0.27065108  0.0228247   0.43608443  0.83832241 -1.04817297  0.69737671\n",
      "  0.84646962  1.76196047  0.18675241  0.42789224 -0.25139491 -0.84921361\n",
      " -0.5269172   0.23755734  0.64543054  0.55890158]\n",
      "The 1st set params after calculation : [ 0.26788921  0.02409455  0.42987697  0.84580238 -1.06107476  0.71055311\n",
      "  0.84393907  1.76399773  0.1915141   0.42786413 -0.26105927 -0.86015388\n",
      " -0.54336592  0.2402816   0.64383319  0.54426822]\n",
      "step = 78,  E = -1.22955223 Ha\n",
      "The 1st set params after calculation : [ 0.26506919  0.02541157  0.42334827  0.85327267 -1.07395565  0.72390154\n",
      "  0.84125483  1.76588505  0.19639117  0.42756518 -0.27060793 -0.87086935\n",
      " -0.56007889  0.24293273  0.64208149  0.52973387]\n",
      "The 1st set params after calculation : [ 0.26218968  0.02676222  0.41649973  0.86071729 -1.08680512  0.73740406\n",
      "  0.83843069  1.76763312  0.20138292  0.42699654 -0.28003992 -0.88136619\n",
      " -0.57704628  0.24551255  0.64019191  0.51530098]\n",
      "step = 80,  E = -1.23431725 Ha\n",
      "The 1st set params after calculation : [ 0.25924912  0.02813274  0.40933367  0.86811938 -1.09961171  0.75104175\n",
      "  0.83548007  1.7692522   0.20648857  0.42616051 -0.2893549  -0.89165051\n",
      " -0.59425608  0.24802366  0.63818016  0.50097104]\n",
      "The 1st set params after calculation : [ 0.25624574  0.02950915  0.40185336  0.87546131 -1.11236316  0.76479479\n",
      "  0.8324161   1.77075214  0.21170721  0.42506052 -0.29855306 -0.90172839\n",
      " -0.6116941   0.2504694   0.63606115  0.48674474]\n",
      "step = 82,  E = -1.23914605 Ha\n",
      "The 1st set params after calculation : [ 0.25317762  0.03087734  0.39406296  0.88272482 -1.12504646  0.77864248\n",
      "  0.82925158  1.77214251  0.21703782  0.42370118 -0.30763503 -0.91160586\n",
      " -0.62934404  0.25285379  0.63384901  0.472622  ]\n",
      "The 1st set params after calculation : [ 0.25004272  0.0322231   0.38596749  0.88989113 -1.137648    0.79256339\n",
      "  0.82599901  1.77343268  0.22247927  0.42208825 -0.31660179 -0.92128888\n",
      " -0.64718751  0.25518137  0.63155718  0.45860208]\n",
      "step = 84,  E = -1.24402473 Ha\n",
      "The 1st set params after calculation : [ 0.24683895  0.03353224  0.37757282  0.8969411  -1.15015372  0.80653543\n",
      "  0.82267054  1.77463181  0.22803036  0.42022859 -0.3254546  -0.93078339\n",
      " -0.66520416  0.25745717  0.62919832  0.44468367]\n",
      "The 1st set params after calculation : [ 0.24356417  0.03479065  0.36888556  0.90385539 -1.16254922  0.82053606\n",
      "  0.81927801  1.77574896  0.23368978  0.41813018 -0.3341949  -0.94009523\n",
      " -0.68337182  0.25968661  0.62678444  0.43086496]\n",
      "step = 86,  E = -1.24893388 Ha\n",
      "The 1st set params after calculation : [ 0.24021635  0.03598444  0.35991307  0.91061459 -1.17481991  0.83454237\n",
      "  0.81583289  1.77679306  0.23945622  0.41580203 -0.34282426 -0.94923017\n",
      " -0.70166665  0.26187538  0.62432684  0.4171437 ]\n",
      "The 1st set params after calculation : [ 0.23679353  0.03709999  0.35066333  0.91719943 -1.18695121  0.84853135\n",
      "  0.81234624  1.77777293  0.24532829  0.41325414 -0.35134429 -0.9581939\n",
      " -0.72006334  0.26402935  0.62183614  0.40351733]\n",
      "step = 88,  E = -1.25384933 Ha\n",
      "The 1st set params after calculation : [ 0.23329396  0.0381241   0.34114495  0.92359088 -1.19892867  0.86248003\n",
      "  0.80882871  1.77869729  0.25130466  0.41049746 -0.35975658 -0.96699199\n",
      " -0.73853537  0.26615452  0.61932232  0.38998295]\n",
      "The 1st set params after calculation : [ 0.22971613  0.03904406  0.33136704  0.9297704  -1.2107382   0.87636569\n",
      "  0.8052905   1.77957472  0.257384    0.40754374 -0.36806269 -0.9756299\n",
      " -0.75705521  0.26825688  0.61679469  0.37653747]\n",
      "step = 90,  E = -1.25874351 Ha\n",
      "The 1st set params after calculation : [ 0.22605885  0.0398478   0.32133921  0.93572003 -1.22236616  0.89016608\n",
      "  0.80174131  1.78041366  0.26356508  0.40440554 -0.37626407 -0.98411294\n",
      " -0.7755946   0.27034235  0.61426189  0.36317761]\n",
      "The 1st set params after calculation : [ 0.22232127  0.04052395  0.31107143  0.94142255 -1.23379961  0.90385965\n",
      "  0.7981903   1.78122233  0.26984681  0.40109604 -0.38436201 -0.99244629\n",
      " -0.79412486  0.2724167   0.61173195  0.34989997]\n",
      "step = 92,  E = -1.26358721 Ha\n",
      "The 1st set params after calculation : [ 0.218503    0.04106196  0.30057403  0.94686166 -1.24502637  0.91742572\n",
      "  0.79464607  1.78200874  0.27622822  0.39762901 -0.3923577  -1.00063494\n",
      " -0.8126171   0.27448547  0.60921221  0.33670107]\n",
      "The 1st set params after calculation : [ 0.21460409  0.04145217  0.28985762  0.95202209 -1.25603523  0.93084467\n",
      "  0.79111665  1.7827806   0.28270857  0.39401866 -0.4002521  -1.00868373\n",
      " -0.8310426   0.27655391  0.60670941  0.32357738]\n",
      "step = 94,  E = -1.26835156 Ha\n",
      "The 1st set params after calculation : [ 0.21062509  0.04168588  0.27893305  0.95688967 -1.26681606  0.94409814\n",
      "  0.78760942  1.78354531  0.28928737  0.39027954 -0.40804606 -1.01659731\n",
      " -0.84937297  0.27862693  0.60422964  0.31052535]\n",
      "The 1st set params after calculation : [ 0.20656709  0.0417554   0.26781132  0.96145149 -1.27735988  0.95716918\n",
      "  0.78413116  1.78430988  0.29596437  0.38642644 -0.41574022 -1.02438012\n",
      " -0.86758054  0.28070902  0.60177835  0.29754145]\n",
      "step = 96,  E = -1.27300992 Ha\n",
      "The 1st set params after calculation : [ 0.20243168  0.04165414  0.25650359  0.96569594 -1.28765897  0.97004236\n",
      "  0.780688    1.7850809   0.30273969  0.38247427 -0.42333505 -1.03203643\n",
      " -0.88563849  0.28280425  0.5993604   0.28462216]\n",
      "The 1st set params after calculation : [ 0.19822102  0.04137657  0.24502113  0.96961275 -1.29770695  0.98270393\n",
      "  0.77728541  1.78586446  0.30961376  0.37843794 -0.4308309  -1.03957028\n",
      " -0.90352114  0.2849162   0.59698002  0.27176405]\n",
      "step = 98,  E = -1.27753965 Ha\n",
      "The 1st set params after calculation : [ 0.19393777  0.04091826  0.23337529  0.97319305 -1.30749877  0.99514181\n",
      "  0.77392824  1.78666618  0.31658738  0.37433227 -0.43822795 -1.04698553\n",
      " -0.92120412  0.28704798  0.59464087  0.25896372]\n",
      "The 1st set params after calculation : [ 0.18958514  0.04027591  0.22157747  0.9764294  -1.31703075  1.00734574\n",
      "  0.77062072  1.7874911   0.32366177  0.37017189 -0.44552628 -1.05428585\n",
      " -0.93866458  0.28920216  0.59234605  0.24621786]\n",
      "step = 100,  E = -1.28192321 Ha\n",
      "The 1st set params after calculation : [ 0.18516677  0.03944726  0.20963912  0.97931575 -1.3263006   1.01930723\n",
      "  0.76736647  1.78834369  0.33083853  0.36597113 -0.45272583 -1.06147471\n",
      " -0.95588124  0.2913808   0.59009812  0.23352325]\n",
      "The 1st set params after calculation : [ 0.18068681  0.03843112  0.19757172  0.98184744 -1.33530732  1.03101958\n",
      "  0.76416853  1.78922782  0.33811967  0.36174395 -0.45982649 -1.06855539\n",
      " -0.97283461  0.29358543  0.58789912  0.22087678]\n",
      "step = 102,  E = -1.28614880 Ha\n",
      "The 1st set params after calculation : [ 0.17614976  0.0372273   0.18538679  0.98402115 -1.34405124  1.04247787\n",
      "  0.76102943  1.79014674  0.34550763  0.35750384 -0.46682803 -1.075531\n",
      " -0.98950695  0.29581707  0.58575062  0.20827541]\n",
      "The 1st set params after calculation : [ 0.17156051  0.03583656  0.17309588  0.98583491 -1.35253387  1.05367886\n",
      "  0.75795118  1.7911031   0.35300526  0.35326378 -0.4737302  -1.08240448\n",
      " -1.00588243  0.29807624  0.58365377  0.19571623]\n",
      "step = 104,  E = -1.29021041 Ha\n",
      "The 1st set params after calculation : [ 0.16692428  0.03426054  0.16071056  0.98728797 -1.3607579   1.06462097\n",
      "  0.75493534  1.79209888  0.36061578  0.34903616 -0.48053266 -1.08917863\n",
      " -1.02194706  0.30036296  0.58160928  0.18319643]\n",
      "The 1st set params after calculation : [ 0.16224651  0.03250171  0.14824244  0.98838075 -1.36872703  1.07530415\n",
      "  0.75198307  1.79313547  0.36834282  0.34483273 -0.48723503 -1.09585608\n",
      " -1.03768871  0.30267677  0.57961754  0.17071331]\n",
      "step = 106,  E = -1.29410734 Ha\n",
      "The 1st set params after calculation : [ 0.15753289  0.03056325  0.13570317  0.98911483 -1.37644594  1.0857298\n",
      "  0.74909515  1.79421363  0.37619035  0.34066455 -0.49383688 -1.10243936\n",
      " -1.0530971   0.3050168   0.57767859  0.15826429]\n",
      "The 1st set params after calculation : [ 0.15278924  0.02844905  0.12310444  0.98949278 -1.38392016  1.09590063\n",
      "  0.74627207  1.79533353  0.38416268  0.33654196 -0.50033773 -1.10893084\n",
      " -1.06816372  0.30738173  0.57579222  0.14584688]\n",
      "step = 108,  E = -1.29784335 Ha\n",
      "The 1st set params after calculation : [ 0.1480215   0.02616357  0.110458    0.98951814 -1.39115592  1.10582057\n",
      "  0.74351407  1.79649476  0.39226442  0.33247457 -0.50673707 -1.1153328\n",
      " -1.08288179  0.30976985  0.57395796  0.13345873]\n",
      "The 1st set params after calculation : [ 0.14323567  0.02371179  0.09777563  0.98919532 -1.39816011  1.1154946\n",
      "  0.74082115  1.79769635  0.40050044  0.3284712  -0.51303428 -1.12164742\n",
      " -1.09724613  0.31217911  0.57217518  0.12109758]\n",
      "step = 110,  E = -1.30142573 Ha\n",
      "The 1st set params after calculation : [ 0.13843777  0.02109913  0.08506917  0.98852953 -1.40494011  1.12492866\n",
      "  0.73819316  1.7989368   0.40887584  0.32453992 -0.51922872 -1.12787678\n",
      " -1.11125312  0.3146071   0.57044307  0.10876126]\n",
      "The 1st set params after calculation : [ 0.1336338   0.01833141  0.07235051  0.98752669 -1.41150373  1.13412949\n",
      "  0.73562982  1.8002141   0.41739591  0.32068801 -0.52531963 -1.13402286\n",
      " -1.12490056  0.31705114  0.56876073  0.09644773]\n",
      "step = 112,  E = -1.30486417 Ha\n",
      "The 1st set params after calculation : [ 0.12882968  0.01541471  0.05963159  0.98619333 -1.41785904  1.14310453\n",
      "  0.73313078  1.80152578  0.4260661   0.31692193 -0.53130617 -1.14008758\n",
      " -1.13818758  0.31950826  0.56712719  0.08415503]\n",
      "The 1st set params after calculation : [ 0.12403126  0.01235542  0.04692437  0.98453658 -1.42401434  1.15186177\n",
      "  0.73069564  1.80286891  0.43489197  0.31324743 -0.5371874  -1.14607277\n",
      " -1.15111452  0.32197527  0.56554143  0.0718813 ]\n",
      "step = 114,  E = -1.30816984 Ha\n",
      "The 1st set params after calculation : [ 0.11924424  0.00916007  0.03424086  0.98256404 -1.42997804  1.16040962\n",
      "  0.728324    1.80424016  0.44387912  0.30966942 -0.54296222 -1.15198019\n",
      " -1.16368282  0.32444874  0.56400244  0.05962475]\n",
      "The 1st set params after calculation : [ 0.1144742   0.00583536  0.02159308  0.98028373 -1.43575854  1.16875686\n",
      "  0.72601546  1.80563582  0.45303322  0.30619211 -0.54862942 -1.15781153\n",
      " -1.17589492  0.3269251   0.56250925  0.04738367]\n",
      "step = 116,  E = -1.31135458 Ha\n",
      "The 1st set params after calculation : [ 0.10972651  0.0023881   0.00899305  0.97770404 -1.44136422  1.17691247\n",
      "  0.7237697   1.80705181  0.46235989  0.30281895 -0.55418762 -1.16356842\n",
      " -1.18775412  0.3294006   0.56106093  0.03515643]\n",
      "The 1st set params after calculation : [ 1.05006397e-01 -1.17484688e-03 -3.54722323e-03  9.74833686e-01\n",
      " -1.44680329e+00  1.18488555e+00  7.21586445e-01  1.80848374e+00\n",
      "  4.71864704e-01  2.99552690e-01 -5.59635276e-01 -1.16925241e+00\n",
      " -1.19926450e+00  3.31871383e-01  5.59656648e-01  2.29414569e-02]\n",
      "step = 118,  E = -1.31443018 Ha\n",
      "The 1st set params after calculation : [ 0.10031885 -0.00484659 -0.01601575  0.9716816  -1.4520838   1.19268525\n",
      "  0.71946553  1.80992694  0.48155316  0.29639537 -0.56497066 -1.174865\n",
      " -1.21043081  0.33433348  0.55829567  0.01073723]\n",
      "The 1st set params after calculation : [ 9.56686425e-02 -8.62022855e-03 -2.84006107e-02  9.68256960e-01\n",
      " -1.45721352e+00  1.20032068e+00  7.17406877e-01  1.81137647e+00\n",
      "  4.91430598e-01  2.93348388e-01 -5.70191840e-01 -1.18040760e+00\n",
      " -1.22125838e+00  3.36782844e-01  5.56977405e-01 -1.45772507e-03]\n",
      "step = 120,  E = -1.31740800 Ha\n",
      "The 1st set params after calculation : [ 0.09106035 -0.01248887 -0.04068994  0.96456907 -1.46219996  1.20780083\n",
      "  0.71541055  1.81282715  0.50150221  0.29041249 -0.57529671 -1.18588158\n",
      " -1.23175301  0.3392154   0.5557014  -0.01364485]\n",
      "The 1st set params after calculation : [ 0.08649828 -0.01644567 -0.05287199  0.96062738 -1.46705026  1.21513452\n",
      "  0.71347673  1.81427362  0.51177299  0.28758783 -0.58028294 -1.19128821\n",
      " -1.24192093  0.34162701  0.55446736 -0.02582555]\n",
      "step = 122,  E = -1.32029863 Ha\n",
      "The 1st set params after calculation : [ 0.08198654 -0.02048382 -0.06493511  0.95644141 -1.4717712   1.22233034\n",
      "  0.71160572  1.81571032  0.52224768  0.28487398 -0.585148   -1.19662872\n",
      " -1.25176866  0.34401356  0.55327519 -0.03800122]\n",
      "The 1st set params after calculation : [ 0.07752898 -0.02459657 -0.07686781  0.95202074 -1.47636916  1.22939659\n",
      "  0.70979797  1.81713154  0.53293076  0.28226997 -0.58988914 -1.20190423\n",
      " -1.26130301  0.34637092  0.55212496 -0.05017324]\n",
      "step = 124,  E = -1.32311177 Ha\n",
      "The 1st set params after calculation : [ 0.07312921 -0.02877724 -0.08865876  0.94737496 -1.48085013  1.23634126\n",
      "  0.70805406  1.81853147  0.54382643  0.27977431 -0.59450342 -1.20711582\n",
      " -1.27053093  0.34869502  0.55101695 -0.062343  ]\n",
      "The 1st set params after calculation : [ 0.06879061 -0.03301921 -0.10029684  0.94251367 -1.48521964  1.24317199\n",
      "  0.7063747   1.81990416  0.55493856  0.27738505 -0.59898768 -1.21226446\n",
      " -1.27945957  0.3509818   0.54995163 -0.07451187]\n",
      "step = 126,  E = -1.32585618 Ha\n",
      "The 1st set params after calculation : [ 0.06451631 -0.03731594 -0.11177112  0.93744641 -1.4894828   1.24989605\n",
      "  0.70476072  1.82124362  0.56627067  0.27509978 -0.60333857 -1.21735106\n",
      " -1.2880961   0.35322729  0.5489297  -0.08668126]\n",
      "The 1st set params after calculation : [ 0.06030924 -0.04166095 -0.12307095  0.93218269 -1.49364428  1.25652029\n",
      "  0.70321308  1.8225438   0.57782591  0.27291569 -0.60755256 -1.22237644\n",
      " -1.29644778  0.3554276   0.54795207 -0.09885259]\n",
      "step = 128,  E = -1.32853976 Ha\n",
      "The 1st set params after calculation : [ 0.05617205 -0.04604786 -0.13418593  0.92673195 -1.49770831  1.26305118\n",
      "  0.70173282  1.82379861  0.58960704  0.27082956 -0.61162593 -1.22734136\n",
      " -1.30452185  0.35757891  0.54701984 -0.1110273 ]\n",
      "The 1st set params after calculation : [ 0.05210721 -0.05047033 -0.14510596  0.92110349 -1.50167871  1.26949475\n",
      "  0.70032109  1.82500197  0.60161642  0.26883784 -0.61555483 -1.23224646\n",
      " -1.31232551  0.35967753  0.54613434 -0.12320689]\n",
      "step = 130,  E = -1.33116961 Ha\n",
      "The 1st set params after calculation : [ 0.04811695 -0.05492211 -0.15582125  0.91530656 -1.50555885  1.2758566\n",
      "  0.69897912  1.82614782  0.61385595  0.26693666 -0.61933525 -1.23709232\n",
      " -1.31986592  0.36171987  0.54529713 -0.13539286]\n",
      "The 1st set params after calculation : [ 0.04420329 -0.05939702 -0.16632234  0.90935024 -1.50935172  1.28214191\n",
      "  0.69770819  1.82723014  0.62632711  0.26512185 -0.62296304 -1.24187943\n",
      " -1.32715015  0.3637025   0.54450995 -0.1475868 ]\n",
      "step = 132,  E = -1.33375217 Ha\n",
      "The 1st set params after calculation : [ 0.04036804 -0.06388893 -0.17660015  0.90324349 -1.51305993  1.28835543\n",
      "  0.69650963  1.82824295  0.63903091  0.26338899 -0.62643397 -1.24660822\n",
      " -1.33418519  0.3656221   0.54377477 -0.15979031]\n",
      "The 1st set params after calculation : [ 0.03661282 -0.06839181 -0.18664594  0.8969951  -1.5166857   1.29450149\n",
      "  0.69538482  1.8291804   0.65196789  0.26173341 -0.62974371 -1.25127901\n",
      " -1.34097789  0.36747551  0.54309374 -0.17200506]\n",
      "step = 134,  E = -1.33629340 Ha\n",
      "The 1st set params after calculation : [ 0.03293902 -0.07289968 -0.1964514   0.89061373 -1.52023094  1.30058402\n",
      "  0.69433512  1.83003671  0.66513807  0.26015025 -0.63288788 -1.25589206\n",
      " -1.34753499  0.36925973  0.5424692  -0.18423279]\n",
      "The 1st set params after calculation : [ 0.0293479  -0.07740664 -0.20600861  0.88410782 -1.52369719  1.30660654\n",
      "  0.69336189  1.83080626  0.67854102  0.25863444 -0.63586207 -1.26044755\n",
      " -1.35386311  0.37097194  0.5419037  -0.19647526]\n",
      "step = 136,  E = -1.33879884 Ha\n",
      "The 1st set params after calculation : [ 0.02584048 -0.08190687 -0.21531005  0.87748567 -1.52708575  1.31257218\n",
      "  0.69246647  1.83148354  0.69217577  0.25718079 -0.63866183 -1.2649456\n",
      " -1.35996872  0.37260948  0.54139993 -0.20873432]\n",
      "The 1st set params after calculation : [ 0.02241765 -0.0863946  -0.22434868  0.87075536 -1.53039761  1.3184837\n",
      "  0.69165015  1.83206326  0.70604083  0.25578395 -0.64128275 -1.26938626\n",
      " -1.36585816  0.37416986  0.54096076 -0.22101186]\n",
      "step = 138,  E = -1.34127380 Ha\n",
      "The 1st set params after calculation : [ 0.01908012 -0.09086417 -0.23311787  0.86392481 -1.53363353  1.32434349\n",
      "  0.69091413  1.83254028  0.7201342   0.25443846 -0.64372044 -1.27376952\n",
      " -1.37153764  0.37565078  0.54058921 -0.23330984]\n",
      "The 1st set params after calculation : [ 0.01582843 -0.09530999 -0.24161145  0.85700171 -1.53679406  1.3301536\n",
      "  0.69025957  1.8329097   0.73445334  0.25313878 -0.64597058 -1.27809532\n",
      " -1.3770132   0.37705016  0.54028844 -0.24563026]\n",
      "step = 140,  E = -1.34372341 Ha\n",
      "The 1st set params after calculation : [ 0.012663   -0.09972657 -0.24982371  0.84999356 -1.53987955  1.33591578\n",
      "  0.68968749  1.83316683  0.74899519  0.2518793  -0.64802894 -1.28236354\n",
      " -1.38229081  0.37836606  0.54006171 -0.25797517]\n",
      "The 1st set params after calculation : [ 0.00958407 -0.10410851 -0.25774941  0.84290765 -1.5428902   1.34163143\n",
      "  0.68919879  1.83330722  0.76375613  0.25065435 -0.6498914  -1.28657402\n",
      " -1.38737625  0.37959677  0.53991241 -0.27034669]\n",
      "step = 142,  E = -1.34615269 Ha\n",
      "The 1st set params after calculation : [ 0.00659179 -0.10845051 -0.26538377  0.83575108 -1.54582605  1.34730169\n",
      "  0.68879426  1.83332673  0.77873201  0.24945824 -0.65155397 -1.2907266\n",
      " -1.39227521  0.38074077  0.539844   -0.28274696]\n",
      "The 1st set params after calculation : [ 0.00368615 -0.11274738 -0.27272249  0.82853074 -1.54868707  1.35292741\n",
      "  0.68847451  1.83322144  0.79391813  0.24828526 -0.65301283 -1.29482104\n",
      " -1.39699326  0.38179674  0.53986004 -0.29517815]\n",
      "step = 144,  E = -1.34856654 Ha\n",
      "The 1st set params after calculation : [ 8.67042548e-04 -1.16994051e-01 -2.79761736e-01  8.21253307e-01\n",
      " -1.55147310e+00  1.35850918e+00  6.88240016e-01  1.83298778e+00\n",
      "  8.09309264e-01  2.47129706e-01 -6.54264343e-01 -1.29885713e+00\n",
      " -1.40153585e+00  3.82763544e-01  5.39964109e-01 -3.07642471e-01]\n",
      "The 1st set params after calculation : [-0.00186575 -0.12118558 -0.28649814  0.81392527 -1.55418395  1.36404736\n",
      "  0.68809106  1.83262247  0.82489962  0.2459859  -0.65530507 -1.30283462\n",
      " -1.40590834  0.38364027  0.54015984 -0.32014214]\n",
      "step = 146,  E = -1.35096981 Ha\n",
      "The 1st set params after calculation : [-0.00451255 -0.12531715 -0.29292882  0.80655294 -1.55681937  1.36954209\n",
      "  0.68802774  1.83212255  0.84068287  0.2448482  -0.65613181 -1.30675327\n",
      " -1.41011598  0.38442618  0.54045088 -0.33267939]\n",
      "The 1st set params after calculation : [-0.00707375 -0.12938409 -0.29905136  0.7991424  -1.5593791   1.37499328\n",
      "  0.68804998  1.83148541  0.85665216  0.24371101 -0.6567416  -1.31061284\n",
      " -1.41416394  0.38512077  0.54084086 -0.34525644]\n",
      "step = 148,  E = -1.35336716 Ha\n",
      "The 1st set params after calculation : [-0.00954986 -0.13338186 -0.30486379  0.7916996  -1.56186288  1.38040068\n",
      "  0.68815751  1.8307088   0.87280009  0.24256883 -0.65713175 -1.31441311\n",
      " -1.41805728  0.3857237   0.54133339 -0.35787547]\n",
      "The 1st set params after calculation : [-0.01194143 -0.13730611 -0.31036463  0.78423029 -1.56427045  1.38576383\n",
      "  0.68834985  1.8297908   0.88911871  0.24141622 -0.65729986 -1.31815388\n",
      " -1.42180101  0.38623487  0.54193203 -0.37053865]\n",
      "step = 150,  E = -1.35576304 Ha\n",
      "The 1st set params after calculation : [-0.01424909 -0.14115262 -0.31555285  0.77674007 -1.56660161  1.39108214\n",
      "  0.68862635  1.8287299   0.90559959  0.24024786 -0.65724381 -1.32183499\n",
      " -1.42540006  0.38665434  0.54264026 -0.38324809]\n",
      "The 1st set params after calculation : [-0.01647353 -0.14491735 -0.32042787  0.76923439 -1.56885618  1.39635484\n",
      "  0.68898616  1.82752494  0.92223376  0.23905855 -0.65696182 -1.32545629\n",
      " -1.42885927  0.38698241  0.54346146 -0.39600582]\n",
      "step = 152,  E = -1.35816155 Ha\n",
      "The 1st set params after calculation : [-0.01861547 -0.14859644 -0.32498957  0.76171855 -1.57103405  1.40158103\n",
      "  0.68942823  1.82617515  0.93901173  0.23784321 -0.65645243 -1.32901769\n",
      " -1.43218345  0.38721953  0.54439891 -0.40881377]\n",
      "The 1st set params after calculation : [-0.0206757  -0.15218619 -0.32923828  0.75419775 -1.57313519  1.40675971\n",
      "  0.68995138  1.82468015  0.95592353  0.23659693 -0.65571453 -1.33251916\n",
      " -1.43537734  0.3873664   0.54545573 -0.42167378]\n",
      "step = 154,  E = -1.36056636 Ha\n",
      "The 1st set params after calculation : [-0.02265503 -0.15568313 -0.33317478  0.74667705 -1.57515963  1.41188972\n",
      "  0.69055422  1.82303995  0.97295871  0.23531496 -0.65474736 -1.33596072\n",
      " -1.43844559  0.38742389  0.54663488 -0.43458754]\n",
      "The 1st set params after calculation : [-0.0245543  -0.15908395 -0.33680028  0.73916143 -1.57710749  1.41696984\n",
      "  0.69123524  1.82125497  0.99010634  0.23399272 -0.65355054 -1.33934243\n",
      " -1.44139285  0.38739307  0.54793914 -0.44755658]\n",
      "step = 156,  E = -1.36298048 Ha\n",
      "The 1st set params after calculation : [-0.02637438 -0.16238555 -0.34011645  0.73165576 -1.57897898  1.42199874\n",
      "  0.6919928   1.81932599  1.00735504  0.23262586 -0.65212403 -1.34266445\n",
      " -1.44422369  0.38727521  0.54937107 -0.46058224]\n",
      "The 1st set params after calculation : [-0.02811616 -0.16558502 -0.34312538  0.72416488 -1.58077441  1.42697501\n",
      "  0.69282514  1.81725422  1.02469299  0.23121021 -0.65046823 -1.34592698\n",
      " -1.44694263  0.38707178  0.550933   -0.47366568]\n",
      "step = 158,  E = -1.36540623 Ha\n",
      "The 1st set params after calculation : [-0.02978053 -0.16867967 -0.34582962  0.71669352 -1.58249418  1.43189715\n",
      "  0.6937304   1.81504122  1.04210796  0.22974187 -0.64858388 -1.34913032\n",
      " -1.44955415  0.38678445  0.55262701 -0.48680779]\n",
      "The 1st set params after calculation : [-0.03136843 -0.17166703 -0.34823213  0.70924642 -1.58413879  1.43676363\n",
      "  0.69470667  1.81268896  1.05958732  0.22821715 -0.64647215 -1.35227482\n",
      " -1.45206268  0.38641508  0.55445492 -0.50000922]\n",
      "step = 160,  E = -1.36784496 Ha\n",
      "The 1st set params after calculation : [-0.03288077 -0.17454481 -0.35033632  0.70182825 -1.58570884  1.44157284\n",
      "  0.69575197  1.81019979  1.07711808  0.22663265 -0.6441346  -1.35536091\n",
      " -1.4544726   0.38596572  0.55641822 -0.51327032]\n",
      "The 1st set params after calculation : [-0.03431848 -0.17731097 -0.35214604  0.69444368 -1.58720502  1.44632314\n",
      "  0.69686432  1.80757639  1.09468689  0.22498525 -0.64157319 -1.35838912\n",
      " -1.45678825  0.38543862  0.55851814 -0.52659113]\n",
      "step = 162,  E = -1.37029703 Ha\n",
      "The 1st set params after calculation : [-0.03568253 -0.17996367 -0.35366555  0.68709737 -1.5886281   1.45101284\n",
      "  0.69804172  1.80482184  1.11228008  0.22327209 -0.63879029 -1.36136004\n",
      " -1.4590139   0.38483621  0.56075556 -0.53997136]\n",
      "The 1st set params after calculation : [-0.03697385 -0.1825013  -0.35489956  0.67979399 -1.58997897  1.45564024\n",
      "  0.69928222  1.80193955  1.12988373  0.22149067 -0.63578868 -1.36427434\n",
      " -1.46115378  0.38416112  0.56313101 -0.55341034]\n",
      "step = 164,  E = -1.37276160 Ha\n",
      "The 1st set params after calculation : [-0.03819341 -0.18492245 -0.35585319  0.6725382  -1.59125857  1.4602036\n",
      "  0.70058391  1.79893325  1.14748362  0.21963877 -0.63257154 -1.36713276\n",
      " -1.46321207  0.38341615  0.56564471 -0.56690702]\n",
      "The 1st set params after calculation : [-0.03934219 -0.18722597 -0.356532    0.66533471 -1.59246794  1.46470119\n",
      "  0.70194497  1.79580699  1.16506535  0.21771451 -0.62914247 -1.36993612\n",
      " -1.46519288  0.38260428  0.56829649 -0.58045993]\n",
      "step = 166,  E = -1.37523658 Ha\n",
      "The 1st set params after calculation : [-0.04042119 -0.18941089 -0.35694195  0.65818822 -1.59360819  1.46913128\n",
      "  0.70336367  1.79256513  1.18261434  0.21571637 -0.62550544 -1.37268531\n",
      " -1.46710026  0.38172867  0.57108583 -0.59406718]\n",
      "The 1st set params after calculation : [-0.04143141 -0.19147649 -0.35708942  0.6511035  -1.59468049  1.47349215\n",
      "  0.7048384   1.78921228  1.20011587  0.21364316 -0.62166485 -1.37538127\n",
      " -1.46893821  0.38079263  0.57401184 -0.60772644]\n",
      "step = 168,  E = -1.37771858 Ha\n",
      "The 1st set params after calculation : [-0.04237388 -0.19342226 -0.35698119  0.64408532 -1.59568608  1.47778208\n",
      "  0.70636773  1.78575333  1.21755511  0.21149408 -0.61762547 -1.37802502\n",
      " -1.47071063  0.37979963  0.57707328 -0.62143489]\n",
      "The 1st set params after calculation : [-0.04324968 -0.19524791 -0.35662445  0.63713848 -1.59662625  1.4819994\n",
      "  0.70795034  1.7821934   1.23491722  0.20926867 -0.61339245 -1.38061761\n",
      " -1.47242136  0.37875328  0.58026852 -0.63518925]\n",
      "step = 170,  E = -1.38020288 Ha\n",
      "The 1st set params after calculation : [-0.04405988 -0.19695339 -0.35602673  0.63026781 -1.59750233  1.48614249\n",
      "  0.70958514  1.77853782  1.25218733  0.20696686 -0.6089713  -1.38316018\n",
      " -1.47407415  0.37765735  0.5835956  -0.64898577]\n",
      "The 1st set params after calculation : [-0.04480564 -0.19853884 -0.35519596  0.62347816 -1.5983157   1.49020976\n",
      "  0.71127118  1.77479207  1.26935065  0.20458894 -0.6043679  -1.38565385\n",
      " -1.47567267  0.37651569  0.58705219 -0.6628202 ]\n",
      "step = 172,  E = -1.38268348 Ha\n",
      "The 1st set params after calculation : [-0.04548811 -0.20000462 -0.35414041  0.61677437 -1.59906777  1.4941997\n",
      "  0.71300776  1.77096184  1.28639247  0.20213558 -0.59958846 -1.38809984\n",
      " -1.4772205   0.37533228  0.59063564 -0.67668781]\n",
      "The 1st set params after calculation : [-0.04610854 -0.20135132 -0.35286866  0.61016131 -1.59975998  1.49811085\n",
      "  0.71479436  1.7670529   1.30329825  0.19960784 -0.59463952 -1.39049933\n",
      " -1.47872109  0.37411119  0.59434298 -0.6905834 ]\n",
      "step = 174,  E = -1.38515320 Ha\n",
      "The 1st set params after calculation : [-0.0466682  -0.20257971 -0.35138959  0.6036438  -1.60039379  1.50194185\n",
      "  0.71663068  1.76307115  1.32005366  0.1970071  -0.58952792 -1.39285357\n",
      " -1.48017782  0.37285655  0.59817094 -0.70450129]\n",
      "The 1st set params after calculation : [-0.04716842 -0.20369079 -0.34971238  0.59722665 -1.60097068  1.50569143\n",
      "  0.7185166   1.75902255  1.33664463  0.19433515 -0.58426078 -1.39516379\n",
      " -1.48159394  0.37157256  0.60211596 -0.71843537]\n",
      "step = 176,  E = -1.38760386 Ha\n",
      "The 1st set params after calculation : [-0.04761063 -0.20468574 -0.34784643  0.59091461 -1.60149214  1.50935843\n",
      "  0.72045225  1.75491307  1.35305744  0.19159409 -0.57884548 -1.39743123\n",
      " -1.48297256  0.37026345  0.60617425 -0.73237908]\n",
      "The 1st set params after calculation : [-0.04799628 -0.20556595 -0.34580134  0.58471235 -1.60195966  1.51294179\n",
      "  0.72243793  1.75074874  1.36927872  0.18878637 -0.57328964 -1.39965711\n",
      " -1.4843167   0.36893345  0.61034179 -0.74632545]\n",
      "step = 178,  E = -1.39002648 Ha\n",
      "The 1st set params after calculation : [-0.04832692 -0.20633298 -0.34358693  0.57862446 -1.60237476  1.5164406\n",
      "  0.72447411  1.74653551  1.38529555  0.18591477 -0.56760108 -1.40184263\n",
      " -1.48562924  0.36758682  0.61461434 -0.76026716]\n",
      "The 1st set params after calculation : [-0.04860417 -0.20698859 -0.34121311  0.57265542 -1.60273893  1.51985404\n",
      "  0.72656147  1.74227933  1.40109548  0.18298235 -0.5617878  -1.40398898\n",
      " -1.48691289  0.36622776  0.61898751 -0.77419653]\n",
      "step = 180,  E = -1.39241160 Ha\n",
      "The 1st set params after calculation : [-0.04882972 -0.2075347  -0.33868992  0.56680955 -1.60305368  1.52318148\n",
      "  0.7287008   1.73798602  1.41666662  0.17999247 -0.55585793 -1.40609729\n",
      " -1.48817027  0.36486044  0.62345679 -0.78810558]\n",
      "The 1st set params after calculation : [-0.04900534 -0.20797339 -0.33602745  0.56109101 -1.6033205   1.5264224\n",
      "  0.73089305  1.73366133  1.43199767  0.17694874 -0.54981973 -1.40816866\n",
      " -1.4894038   0.36348897  0.62801754 -0.80198608]\n",
      "step = 182,  E = -1.39474956 Ha\n",
      "The 1st set params after calculation : [-0.04913286 -0.20830692 -0.3332358   0.55550379 -1.60354089  1.52957646\n",
      "  0.73313927  1.72931084  1.44707794  0.17385501 -0.54368153 -1.41020413\n",
      " -1.4906158   0.36211736  0.63266505 -0.81582959]\n",
      "The 1st set params after calculation : [-0.0492142  -0.20853769 -0.33032507  0.55005164 -1.60371635  1.53264346\n",
      "  0.7354406   1.72493998  1.46189744  0.17071534 -0.53745171 -1.41220468\n",
      " -1.4918084   0.36074951  0.63739459 -0.82962749]\n",
      "step = 184,  E = -1.39703087 Ha\n",
      "The 1st set params after calculation : [-0.04925133 -0.20866823 -0.32730526  0.54473809 -1.60384834  1.53562338\n",
      "  0.73779823  1.72055399  1.47644691  0.16753398 -0.53113865 -1.41417122\n",
      " -1.4929836   0.35938921  0.64220141 -0.84337106]\n",
      "The 1st set params after calculation : [-0.04924631 -0.20870121 -0.32418629  0.53956642 -1.60393835  1.53851636\n",
      "  0.74021341  1.71615791  1.4907178   0.16431532 -0.52475072 -1.41610458\n",
      " -1.49414322  0.35804009  0.64708076 -0.85705152]\n",
      "step = 186,  E = -1.39924653 Ha\n",
      "The 1st set params after calculation : [-0.04920123 -0.20863943 -0.32097792  0.53453961 -1.60398784  1.54132271\n",
      "  0.74268738  1.71175653  1.50470239  0.16106389 -0.51829622 -1.41800552\n",
      " -1.49528895  0.35670565  0.65202797 -0.87066005]\n",
      "The 1st set params after calculation : [-0.04911826 -0.20848578 -0.31768973  0.52966036 -1.60399829  1.5440429\n",
      "  0.74522137  1.70735444  1.51839372  0.1577843  -0.51178336 -1.41987472\n",
      " -1.4964223   0.35538918  0.65703843 -0.88418791]\n",
      "step = 188,  E = -1.40138838 Ha\n",
      "The 1st set params after calculation : [-0.04899958 -0.20824326 -0.31433107  0.52493106 -1.60397115  1.54667758\n",
      "  0.74781657  1.70295592  1.53178569  0.15448124 -0.50522022 -1.42171275\n",
      " -1.49754464  0.35409382  0.66210763 -0.89762644]\n",
      "The 1st set params after calculation : [-0.04884744 -0.20791496 -0.31091105  0.52035377 -1.60390787  1.54922756\n",
      "  0.7504741   1.69856501  1.54487302  0.15115945 -0.49861474 -1.42352012\n",
      " -1.49865718  0.3528225   0.66723115 -0.9109671 ]\n",
      "step = 190,  E = -1.40344935 Ha\n",
      "The 1st set params after calculation : [-0.04866411 -0.20750405 -0.30743847  0.51593021 -1.60380991  1.55169379\n",
      "  0.75319502  1.69418549  1.55765127  0.14782364 -0.49197465 -1.42529723\n",
      " -1.499761    0.35157795  0.67240476 -0.92420158]\n",
      "The 1st set params after calculation : [-0.04845185 -0.20701375 -0.30392182  0.51166176 -1.60367871  1.5540774\n",
      "  0.75598025  1.68982082  1.57011684  0.14447854 -0.4853075  -1.42704438\n",
      " -1.500857    0.35036269  0.67762432 -0.93732176]\n",
      "step = 192,  E = -1.40542367 Ha\n",
      "The 1st set params after calculation : [-0.04821297 -0.20644736 -0.30036928  0.50754946 -1.60351572  1.55637965\n",
      "  0.75883061  1.68547421  1.58226697  0.14112881 -0.47862057 -1.42876181\n",
      " -1.50194597  0.34917902  0.68288589 -0.95031982]\n",
      "The 1st set params after calculation : [-0.04794976 -0.2058082  -0.29678864  0.50359398 -1.60332237  1.55860194\n",
      "  0.76174677  1.68114857  1.59409973  0.13777906 -0.47192089 -1.43044963\n",
      " -1.50302856  0.34802906  0.68818569 -0.96318824]\n",
      "step = 194,  E = -1.40730704 Ha\n",
      "The 1st set params after calculation : [-0.04766449 -0.20509964 -0.29318731  0.49979568 -1.6031001   1.5607458\n",
      "  0.76472924  1.67684653  1.60561399  0.13443379 -0.46521523 -1.4321079\n",
      " -1.50410528  0.34691467  0.69352011 -0.97591987]\n",
      "The 1st set params after calculation : [-0.04735942 -0.20432505 -0.28957234  0.49615453 -1.60285034  1.56281287\n",
      "  0.76777838  1.67257047  1.61680941  0.13109738 -0.45851004 -1.43373657\n",
      " -1.50517654  0.34583753  0.69888574 -0.9885079 ]\n",
      "step = 196,  E = -1.40909664 Ha\n",
      "The 1st set params after calculation : [-0.04703678 -0.20348783 -0.28595035  0.49267019 -1.60257452  1.56480491\n",
      "  0.77089437  1.66832247  1.6276864   0.12777409 -0.45181147 -1.43533553\n",
      " -1.5062426   0.34479911  0.70427933 -1.00094595]\n",
      "The 1st set params after calculation : [-0.04669875 -0.20259138 -0.28232756  0.48934201 -1.60227407  1.56672376\n",
      "  0.77407722  1.66410437  1.6382461   0.124468   -0.44512536 -1.43690457\n",
      " -1.50730365  0.34380065  0.70969782 -1.01322805]\n",
      "step = 198,  E = -1.41079113 Ha\n",
      "The 1st set params after calculation : [-0.04634747 -0.20163907 -0.2787098   0.48616897 -1.60195039  1.56857137\n",
      "  0.77732673  1.65991777  1.64849035  0.12118306 -0.4384572  -1.43844342\n",
      " -1.50835977  0.34284322  0.71513832 -1.02534865]\n",
      "The 1st set params after calculation : [-0.04598501 -0.20063427 -0.27510247  0.48314981 -1.6016049   1.57034973\n",
      "  0.78064255  1.65576403  1.65842165  0.11792299 -0.43181217 -1.43995177\n",
      " -1.50941094  0.34192769  0.72059812 -1.03730267]\n",
      "step = 200,  E = -1.41239055 Ha\n",
      "The 1st set params after calculation : [-0.04561339 -0.19958031 -0.27151056  0.48028293 -1.60123899  1.57206091\n",
      "  0.78402412  1.65164428  1.66804309  0.11469136 -0.42519509 -1.44142921\n",
      " -1.51045706  0.34105475  0.72607465 -1.0490855 ]\n",
      "The 1st set params after calculation : [-0.04523455 -0.19848047 -0.26793869  0.4775665  -1.60085405  1.57370701\n",
      "  0.78747072  1.64755947  1.67735836  0.11149149 -0.41861046 -1.44287531\n",
      " -1.51149797  0.34022493  0.73156553 -1.06069295]\n",
      "step = 202,  E = -1.41389621 Ha\n",
      "The 1st set params after calculation : [-0.04485035 -0.19733801 -0.26439106  0.4749984  -1.60045145  1.5752902\n",
      "  0.79098143  1.64351035  1.68637166  0.10832652 -0.41206244 -1.44428958\n",
      " -1.51253341  0.33943857  0.73706849 -1.07212133]\n",
      "The 1st set params after calculation : [-0.04446257 -0.19615611 -0.26087149  0.47257631 -1.60003254  1.57681263\n",
      "  0.79455518  1.63949747  1.69508766  0.10519937 -0.40555486 -1.44567149\n",
      " -1.5135631   0.33869589  0.74258142 -1.08336738]\n",
      "step = 204,  E = -1.41531047 Ha\n",
      "The 1st set params after calculation : [-0.04407289 -0.1949379  -0.25738346  0.47029768 -1.59959867  1.57827649\n",
      "  0.79819074  1.63552127  1.70351151  0.10211271 -0.39909125 -1.4470205\n",
      " -1.51458669  0.33799694  0.74810231 -1.0944283 ]\n",
      "The 1st set params after calculation : [-0.04368293 -0.19368643 -0.25393006  0.46815976 -1.59915115  1.57968397\n",
      "  0.80188669  1.63158202  1.7116487   0.09906904 -0.39267478 -1.44833601\n",
      " -1.51560378  0.33734168  0.7536293  -1.10530175]\n",
      "step = 206,  E = -1.41663655 Ha\n",
      "The 1st set params after calculation : [-0.04329417 -0.19240468 -0.25051407  0.46615962 -1.59869128  1.58103725\n",
      "  0.80564151  1.62767986  1.71950511  0.09607059 -0.38630834 -1.44961742\n",
      " -1.51661395  0.33672991  0.7591606  -1.11598578]\n",
      "The 1st set params after calculation : [-0.04290803 -0.19109554 -0.24713791  0.46429419 -1.59822032  1.5823385\n",
      "  0.80945351  1.62381482  1.7270869   0.09311939 -0.37999454 -1.45086414\n",
      " -1.51761673  0.33616134  0.76469452 -1.1264789 ]\n",
      "step = 208,  E = -1.41787837 Ha\n",
      "The 1st set params after calculation : [-0.04252583 -0.18976184 -0.24380372  0.46256025 -1.59773952  1.58358985\n",
      "  0.8133209   1.61998685  1.73440048  0.09021724 -0.37373567 -1.45207554\n",
      " -1.51861164  0.33563559  0.77022946 -1.13677999]\n",
      "The 1st set params after calculation : [-0.04214877 -0.18840629 -0.24051335  0.46095447 -1.59725009  1.58479341\n",
      "  0.81724174  1.6161958   1.74145251  0.08736576 -0.36753378 -1.453251\n",
      " -1.51959818  0.33515217  0.77576387 -1.14688833]\n",
      "step = 210,  E = -1.41904028 Ha\n",
      "The 1st set params after calculation : [-0.04177798 -0.18703152 -0.23726837  0.4594734  -1.59675321  1.58595126\n",
      "  0.82121402  1.61244146  1.7482498   0.08456633 -0.36139066 -1.45438992\n",
      " -1.52057584  0.33471055  0.7812963  -1.15680355]\n",
      "The 1st set params after calculation : [-0.04141447 -0.18564006 -0.23407008  0.45811352 -1.59625003  1.58706541\n",
      "  0.82523562  1.60872354  1.75479931  0.08182012 -0.35530783 -1.45549169\n",
      " -1.52154409  0.33431008  0.7868253  -1.16652563]\n",
      "step = 212,  E = -1.42012695 Ha\n",
      "The 1st set params after calculation : [-0.04105917 -0.18423434 -0.23091957  0.45687125 -1.59574166  1.58813785\n",
      "  0.82930434  1.60504174  1.7611081   0.07912815 -0.34928661 -1.45655574\n",
      " -1.52250241  0.33395009  0.79234952 -1.17605489]\n",
      "The 1st set params after calculation : [-0.04071292 -0.18281669 -0.22781769  0.45574295 -1.59522918  1.5891705\n",
      "  0.8334179   1.60139568  1.76718332  0.07649121 -0.34332809 -1.45758151\n",
      " -1.52345029  0.33362983  0.79786761 -1.18539195]\n",
      "step = 214,  E = -1.42114317 Ha\n",
      "The 1st set params after calculation : [-0.04037647 -0.18138935 -0.22476508  0.45472492 -1.59471362  1.59016521\n",
      "  0.83757397  1.59778499  1.77303215  0.07390993 -0.33743316 -1.45856845\n",
      " -1.52438719  0.33334854  0.80337825 -1.1945377 ]\n",
      "The 1st set params after calculation : [-0.04005048 -0.17995443 -0.22176221  0.45381348 -1.594196    1.59112379\n",
      "  0.84177015  1.59420927  1.77866177  0.07138477 -0.33160253 -1.45951607\n",
      " -1.52531263  0.33310539  0.80888017 -1.2034933 ]\n",
      "step = 216,  E = -1.42209376 Ha\n",
      "The 1st set params after calculation : [-0.03973552 -0.17851396 -0.21880936  0.4530049  -1.59367726  1.59204798\n",
      "  0.84600403  1.59066809  1.78407935  0.06891603 -0.32583673 -1.46042387\n",
      " -1.52622609  0.33289952  0.81437209 -1.21226018]\n",
      "The 1st set params after calculation : [-0.03943209 -0.17706986 -0.21590666  0.45229548 -1.59315833  1.59293944\n",
      "  0.85027312  1.58716105  1.78929205  0.06650385 -0.32013612 -1.46129143\n",
      " -1.5271271   0.33273007  0.81985276 -1.22083996]\n",
      "step = 218,  E = -1.42298340 Ha\n",
      "The 1st set params after calculation : [-0.03914061 -0.17562395 -0.21305411  0.45168151 -1.59264008  1.5937998\n",
      "  0.85457495  1.58368772  1.79430692  0.06414823 -0.31450093 -1.46211834\n",
      " -1.52801519  0.33259613  0.82532095 -1.22923448]\n",
      "The 1st set params after calculation : [-0.03886145 -0.17417795 -0.21025155  0.4511593  -1.59212336  1.59463058\n",
      "  0.85890699  1.5802477   1.79913098  0.06184906 -0.30893125 -1.46290422\n",
      " -1.52888992  0.33249679  0.83077542 -1.23744577]\n",
      "step = 220,  E = -1.42381662 Ha\n",
      "The 1st set params after calculation : [-0.03859487 -0.17273347 -0.20749873  0.45072521 -1.59160896  1.59543325\n",
      "  0.86326673  1.57684059  1.80377112  0.05960608 -0.30342705 -1.46364876\n",
      " -1.52975087  0.33243113  0.83621493 -1.24547603]\n",
      "The 1st set params after calculation : [-0.03834111 -0.17129204 -0.20479528  0.45037562 -1.59109764  1.59620923\n",
      "  0.86765165  1.573466    1.80823412  0.05741892 -0.29798818 -1.46435168\n",
      " -1.53059762  0.33239822  0.84163828 -1.25332759]\n",
      "step = 222,  E = -1.42459772 Ha\n",
      "The 1st set params after calculation : [-0.03810033 -0.16985508 -0.20214074  0.45010697 -1.5905901   1.59695985\n",
      "  0.87205922  1.57012357  1.81252665  0.05528712 -0.29261439 -1.46501272\n",
      " -1.53142981  0.33239712  0.84704423 -1.26100295]\n",
      "The 1st set params after calculation : [-0.03787263 -0.16842393 -0.19953458  0.44991572 -1.59008702  1.59768638\n",
      "  0.87648695  1.56681297  1.81665523  0.05321011 -0.28730536 -1.4656317\n",
      " -1.53224708  0.33242691  0.85243156 -1.26850469]\n",
      "step = 224,  E = -1.42533070 Ha\n",
      "The 1st set params after calculation : [-0.03765808 -0.16699982 -0.19697619  0.44979843 -1.58958903  1.59839003\n",
      "  0.88093233  1.56353385  1.82062624  0.05118724 -0.28206066 -1.46620846\n",
      " -1.53304908  0.33248663  0.85779907 -1.27583552]\n",
      "The 1st set params after calculation : [-0.03745668 -0.16558391 -0.19446488  0.44975169 -1.58909672  1.59907194\n",
      "  0.88539289  1.56028593  1.82444589  0.04921778 -0.27687981 -1.4667429\n",
      " -1.53383553  0.33257537  0.86314553 -1.28299823]\n",
      "step = 226,  E = -1.42601928 Ha\n",
      "The 1st set params after calculation : [-0.03726841 -0.16417727 -0.19199993  0.44977216 -1.58861064  1.5997332\n",
      "  0.88986618  1.55706893  1.82812024  0.04730094 -0.27176226 -1.46723495\n",
      " -1.53460614  0.3326922   0.86846973 -1.28999567]\n",
      "The 1st set params after calculation : [-0.03709319 -0.16278088 -0.18958056  0.44985657 -1.58813131  1.60037484\n",
      "  0.89434978  1.5538826   1.83165518  0.04543584 -0.26670742 -1.46768459\n",
      " -1.53536064  0.3328362   0.87377047 -1.29683078]\n",
      "step = 228,  E = -1.42666689 Ha\n",
      "The 1st set params after calculation : [-0.03693092 -0.16139566 -0.18720596  0.45000174 -1.5876592   1.60099781\n",
      "  0.89884132  1.55072671  1.83505642  0.04362158 -0.26171464 -1.46809184\n",
      " -1.53609883  0.33300647  0.87904653 -1.30350654]\n",
      "The 1st set params after calculation : [-0.03678146 -0.16002243 -0.18487528  0.45020455 -1.58719475  1.60160302\n",
      "  0.90333844  1.54760106  1.83832951  0.04185718 -0.25678322 -1.46845678\n",
      " -1.53682048  0.33320211  0.88429673 -1.31002595]\n",
      "step = 230,  E = -1.42727664 Ha\n",
      "The 1st set params after calculation : [-0.03664465 -0.15866195 -0.18258765  0.45046195 -1.58673836  1.60219135\n",
      "  0.90783884  1.54450548  1.84147981  0.04014164 -0.25191246 -1.4687795\n",
      " -1.53752543  0.33342224  0.88951987 -1.31639206]\n",
      "The 1st set params after calculation : [-0.03652031 -0.15731492 -0.18034218  0.45077097 -1.5862904   1.60276358\n",
      "  0.91234025  1.54143981  1.8445125   0.03847393 -0.24710159 -1.46906017\n",
      " -1.53821351  0.33366597  0.89471476 -1.32260795]\n",
      "step = 232,  E = -1.42785136 Ha\n",
      "The 1st set params after calculation : [-0.03640821 -0.15598195 -0.17813795  0.45112874 -1.58585121  1.60332049\n",
      "  0.91684046  1.53840391  1.84743259  0.03685296 -0.24234986 -1.46929896\n",
      " -1.5388846   0.33393246  0.89988025 -1.32867668]\n",
      "The 1st set params after calculation : [-0.03630813 -0.15466362 -0.17597404  0.45153245 -1.58542108  1.60386277\n",
      "  0.92133731  1.53539768  1.85024492  0.03527764 -0.23765648 -1.46949611\n",
      " -1.5395386   0.33422086  0.90501517 -1.33460134]\n",
      "step = 234,  E = -1.42839362 Ha\n",
      "The 1st set params after calculation : [-0.03621983 -0.15336041 -0.17384954  0.45197937 -1.58500029  1.6043911\n",
      "  0.92582866  1.53242102  1.85295413  0.03374687 -0.23302065 -1.46965187\n",
      " -1.54017542  0.33453033  0.91011839 -1.34038501]\n",
      "The 1st set params after calculation : [-0.03614303 -0.15207278 -0.17176351  0.45246687 -1.58458908  1.60490609\n",
      "  0.93031247  1.52947387  1.85556471  0.03225952 -0.22844155 -1.46976656\n",
      " -1.540795    0.33486006  0.91518878 -1.34603076]\n",
      "step = 236,  E = -1.42890573 Ha\n",
      "The 1st set params after calculation : [-0.03607748 -0.15080111 -0.16971503  0.45299238 -1.58418765  1.60540834\n",
      "  0.93478673  1.52655615  1.85808096  0.03081444 -0.22391838 -1.46984051\n",
      " -1.54139731  0.33520925  0.92022523 -1.35154162]\n",
      "The 1st set params after calculation : [-0.03602288 -0.14954574 -0.16770317  0.45355343 -1.5837962   1.60589839\n",
      "  0.93924947  1.52366784  1.86050702  0.02941051 -0.21945033 -1.46987409\n",
      " -1.54198232  0.3355771   0.92522667 -1.35692064]\n",
      "step = 238,  E = -1.42938975 Ha\n",
      "The 1st set params after calculation : [-0.03597895 -0.14830697 -0.16572701  0.45414762 -1.58341487  1.60637675\n",
      "  0.94369881  1.5208089   1.86284687  0.02804657 -0.21503657 -1.46986769\n",
      " -1.54255006  0.33596284  0.93019204 -1.36217082]\n",
      "The 1st set params after calculation : [-0.03594538 -0.14708505 -0.16378565  0.45477262 -1.58304381  1.6068439\n",
      "  0.94813291  1.51797933  1.86510431  0.0267215  -0.2106763  -1.46982175\n",
      " -1.54310053  0.33636572  0.93512029 -1.36729512]\n",
      "step = 240,  E = -1.42984755 Ha\n",
      "The 1st set params after calculation : [-0.03592189 -0.14588019 -0.16187818  0.45542621 -1.5826831   1.60730028\n",
      "  0.95254999  1.51517911  1.86728299  0.02543415 -0.20636871 -1.46973672\n",
      " -1.54363379  0.336785    0.94001043 -1.37229649]\n",
      "The 1st set params after calculation : [-0.03590816 -0.14469254 -0.16000373  0.45610621 -1.58233285  1.60774631\n",
      "  0.95694833  1.51240825  1.86938642  0.0241834  -0.20211301 -1.4696131\n",
      " -1.5441499   0.33721994  0.94486148 -1.37717781]\n",
      "step = 242,  E = -1.43028081 Ha\n",
      "The 1st set params after calculation : [-0.03590389 -0.14352224 -0.15816142  0.45681055 -1.58199311  1.60818237\n",
      "  0.96132628  1.50966676  1.87141794  0.02296813 -0.19790841 -1.46945139\n",
      " -1.54464894  0.33766983  0.94967249 -1.38194196]\n",
      "The 1st set params after calculation : [-0.03590878 -0.1423694  -0.1563504   0.45753723 -1.58166393  1.60860884\n",
      "  0.96568224  1.50695467  1.87338075  0.02178725 -0.19375414 -1.46925212\n",
      " -1.545131    0.33813398  0.95444254 -1.38659174]\n",
      "step = 244,  E = -1.43069104 Ha\n",
      "The 1st set params after calculation : [-0.03592252 -0.14123407 -0.15456982  0.4582843  -1.58134532  1.60902604\n",
      "  0.97001468  1.504272    1.87527791  0.02063966 -0.18964942 -1.46901585\n",
      " -1.5455962   0.3386117   0.95917076 -1.39112991]\n",
      "The 1st set params after calculation : [-0.0359448  -0.14011629 -0.15281887  0.45904992 -1.58103728  1.60943429\n",
      "  0.97432213  1.50161877  1.87711235  0.0195243  -0.18559351 -1.46874317\n",
      " -1.54604467  0.33910233  0.96385628 -1.39555921]\n",
      "step = 246,  E = -1.43107961 Ha\n",
      "The 1st set params after calculation : [-0.03597533 -0.13901607 -0.15109676  0.4598323  -1.58073981  1.6098339\n",
      "  0.97860317  1.49899501  1.87888686  0.01844011 -0.18158567 -1.46843465\n",
      " -1.54647655  0.33960521  0.96849831 -1.39988229]\n",
      "The 1st set params after calculation : [-0.0360138  -0.1379334  -0.14940268  0.46062972 -1.58045287  1.61022512\n",
      "  0.98285646  1.49640076  1.8806041   0.01738606 -0.17762518 -1.46809092\n",
      " -1.546892    0.34011971  0.97309607 -1.40410177]\n",
      "step = 248,  E = -1.43144775 Ha\n",
      "The 1st set params after calculation : [-0.03605993 -0.13686823 -0.14773589  0.46144055 -1.58017641  1.61060822\n",
      "  0.98708071  1.49383605  1.88226661  0.01636114 -0.17371134 -1.46771261\n",
      " -1.54729119  0.3406452   0.97764883 -1.40822023]\n",
      "The 1st set params after calculation : [-0.03611342 -0.13582051 -0.14609564  0.4622632  -1.57991038  1.61098344\n",
      "  0.99127469  1.4913009   1.88387682  0.01536436 -0.16984344 -1.46730036\n",
      " -1.5476743   0.34118108  0.98215587 -1.41224018]\n",
      "step = 250,  E = -1.43179660 Ha\n",
      "The 1st set params after calculation : [-0.03617398 -0.13479016 -0.14448121  0.46309618 -1.5796547   1.61135101\n",
      "  0.99543724  1.48879534  1.88543703  0.01439476 -0.16602082 -1.46685482\n",
      " -1.54804152  0.34172674  0.98661656 -1.41616407]\n",
      "The 1st set params after calculation : [-0.03624135 -0.13377708 -0.1428919   0.46393803 -1.57940928  1.61171112\n",
      "  0.99956725  1.48631939  1.88694944  0.0134514  -0.16224282 -1.46637666\n",
      " -1.54839306  0.34228161  0.99103026 -1.41999432]\n",
      "step = 252,  E = -1.43212718 Ha\n",
      "The 1st set params after calculation : [-0.03631523 -0.13278117 -0.14132703  0.46478739 -1.57917402  1.61206399\n",
      "  1.00366368  1.48387307  1.88841615  0.01253334 -0.1585088  -1.46586657\n",
      " -1.54872913  0.34284513  0.99539641 -1.42373328]\n",
      "The 1st set params after calculation : [-0.03639537 -0.13180228 -0.13978593  0.46564292 -1.57894881  1.61240979\n",
      "  1.00772554  1.48145639  1.88983915  0.01163971 -0.15481812 -1.46532522\n",
      " -1.54904995  0.34341673  0.99971446 -1.42738324]\n",
      "step = 254,  E = -1.43244045 Ha\n",
      "The 1st set params after calculation : [-0.03648149 -0.13084029 -0.13826798  0.46650339 -1.57873354  1.61274869\n",
      "  1.0117519   1.47906937  1.89122034  0.01076964 -0.15117018 -1.46475331\n",
      " -1.54935577  0.34399589  1.00398392 -1.43094646]\n",
      "The 1st set params after calculation : [-0.03657335 -0.12989504 -0.13677254  0.46736759 -1.57852807  1.61308086\n",
      "  1.0157419   1.47671199  1.89256152  0.00992227 -0.14756438 -1.46415155\n",
      " -1.54964682  0.34458209  1.00820435 -1.43442513]\n",
      "step = 256,  E = -1.43273728 Ha\n",
      "The 1st set params after calculation : [-0.03667069 -0.12896637 -0.13529903  0.46823438 -1.57833226  1.61340646\n",
      "  1.01969472  1.47438426  1.89386441  0.00909679 -0.14400014 -1.46352064\n",
      " -1.54992334  0.34517479  1.01237531 -1.43782138]\n",
      "The 1st set params after calculation : [-0.03677326 -0.12805411 -0.13384687  0.46910268 -1.57814598  1.61372562\n",
      "  1.0236096   1.47208615  1.89513063  0.00829241 -0.1404769  -1.46286129\n",
      " -1.55018559  0.34577353  1.01649645 -1.44113731]\n",
      "step = 258,  E = -1.43301849 Ha\n",
      "The 1st set params after calculation : [-0.03688084 -0.12715808 -0.13241549  0.46997146 -1.57796906  1.61403849\n",
      "  1.02748585  1.46981765  1.89636175  0.00750835 -0.13699411 -1.46217421\n",
      " -1.55043383  0.3463778   1.02056742 -1.44437495]\n",
      "The 1st set params after calculation : [-0.03699318 -0.12627808 -0.13100437  0.47083974 -1.57780135  1.61434519\n",
      "  1.0313228   1.46757872  1.89755922  0.00674388 -0.13355124 -1.46146013\n",
      " -1.55066834  0.34698714  1.02458795 -1.44753628]\n",
      "step = 260,  E = -1.43328486 Ha\n",
      "The 1st set params after calculation : [-0.03711006 -0.12541394 -0.12961297  0.47170661 -1.57764268  1.61464585\n",
      "  1.03511987  1.46536932  1.89872446  0.00599828 -0.13014776 -1.46071976\n",
      " -1.55088936  0.34760109  1.02855778 -1.45062323]\n",
      "The 1st set params after calculation : [-0.03723126 -0.12456545 -0.1282408   0.47257118 -1.57749288  1.61494057\n",
      "  1.03887651  1.4631894   1.8998588   0.00527084 -0.12678318 -1.45995381\n",
      " -1.5510972   0.34821921  1.03247669 -1.4536377 ]\n",
      "step = 262,  E = -1.43353709 Ha\n",
      "The 1st set params after calculation : [-0.03735657 -0.1237324  -0.12688737  0.47343263 -1.57735179  1.61522949\n",
      "  1.04259222  1.46103889  1.90096348  0.00456091 -0.12345699 -1.45916301\n",
      " -1.55129211  0.34884107  1.03634452 -1.45658151]\n",
      "The 1st set params after calculation : [-0.03748579 -0.1229146  -0.12555223  0.47429018 -1.57721921  1.61551269\n",
      "  1.04626657  1.45891774  1.90203973  0.00386783 -0.12016872 -1.45834807\n",
      " -1.55147439  0.34946625  1.04016114 -1.45945645]\n",
      "step = 264,  E = -1.43377588 Ha\n",
      "The 1st set params after calculation : [-0.0376187  -0.12211182 -0.12423492  0.47514309 -1.57709497  1.61579029\n",
      "  1.04989915  1.45682585  1.90308866  0.00319098 -0.11691789 -1.4575097\n",
      " -1.55164431  0.35009435  1.04392644 -1.46226426]\n",
      "The 1st set params after calculation : [-0.03775513 -0.12132386 -0.12293501  0.47599068 -1.57697889  1.61606238\n",
      "  1.05348961  1.45476314  1.90411137  0.00252976 -0.11370407 -1.45664861\n",
      " -1.55180218  0.35072497  1.04764037 -1.46500664]\n",
      "step = 266,  E = -1.43400187 Ha\n",
      "The 1st set params after calculation : [-3.78948685e-02 -1.20550497e-01 -1.21652092e-01  4.76832296e-01\n",
      " -1.57687078e+00  1.61632905e+00  1.05703764e+00  1.45272951e+00\n",
      "  1.90510888e+00  1.88358502e-03 -1.10526793e-01 -1.45576552e+00\n",
      " -1.55194826e+00  3.51357731e-01  1.05130290e+00 -1.46768523e+00]\n",
      "The 1st set params after calculation : [-3.80377460e-02 -1.19791520e-01 -1.20385762e-01  4.77667329e-01\n",
      " -1.57677044e+00  1.61659041e+00  1.06054299e+00  1.45072484e+00\n",
      "  1.90608217e+00  1.25190683e-03 -1.07385636e-01 -1.45486112e+00\n",
      " -1.55208286e+00  3.51992271e-01  1.05491405e+00 -1.47030163e+00]\n",
      "step = 268,  E = -1.43421568 Ha\n",
      "The 1st set params after calculation : [-3.81835824e-02 -1.19046709e-01 -1.19135638e-01  4.78495211e-01\n",
      " -1.57667769e+00  1.61684652e+00  1.06400543e+00  1.44874902e+00\n",
      "  1.90703216e+00  6.34186794e-04 -1.04280175e-01 -1.45393611e+00\n",
      " -1.55220626e+00  3.52628231e-01  1.05847386e+00 -1.47285741e+00]\n",
      "The 1st set params after calculation : [-3.83322063e-02 -1.18315846e-01 -1.17901354e-01  4.79315413e-01\n",
      " -1.57659233e+00  1.61709749e+00  1.06742479e+00  1.44680191e+00\n",
      "  1.90795973e+00  2.99102884e-05 -1.01210000e-01 -1.45299118e+00\n",
      " -1.55231876e+00  3.53265269e-01  1.06198242e+00 -1.47535409e+00]\n",
      "step = 270,  E = -1.43441790 Ha\n",
      "The 1st set params after calculation : [-3.84834517e-02 -1.17598713e-01 -1.16682555e-01  4.80127441e-01\n",
      " -1.57651418e+00  1.61734340e+00  1.07080092e+00  1.44488338e+00\n",
      "  1.90886570e+00 -5.61417076e-04 -9.81747068e-02 -1.45202702e+00\n",
      " -1.55242065e+00  3.53903052e-01  1.06543982e+00 -1.47779315e+00]\n",
      "The 1st set params after calculation : [-3.86371582e-02 -1.16895090e-01 -1.15478902e-01  4.80930837e-01\n",
      " -1.57644304e+00  1.61758431e+00  1.07413373e+00  1.44299327e+00\n",
      "  1.90975088e+00 -1.14027003e-03 -9.51739035e-02 -1.45104430e+00\n",
      " -1.55251221e+00  3.54541262e-01  1.06884622e+00 -1.48017601e+00]\n",
      "step = 272,  E = -1.43460910 Ha\n",
      "The 1st set params after calculation : [-3.87931703e-02 -1.16204761e-01 -1.14290067e-01  4.81725177e-01\n",
      " -1.57637871e+00  1.61782033e+00  1.07742314e+00  1.44113142e+00\n",
      "  1.91061602e+00 -1.70710421e-03 -9.22072055e-02 -1.45004370e+00\n",
      " -1.55259374e+00  3.55179589e-01  1.07220179e+00 -1.48250409e+00]\n",
      "The 1st set params after calculation : [-0.03895134 -0.11552751 -0.11311574  0.48251007 -1.57632101  1.61805151\n",
      "  1.08066914  1.43929767  1.91146182 -0.00226236 -0.08927424 -1.44902588\n",
      " -1.55266552  0.35581774  1.07550673 -1.48477875]\n",
      "step = 274,  E = -1.43478982 Ha\n",
      "The 1st set params after calculation : [-0.03911152 -0.11486311 -0.11195562  0.48328515 -1.57626974  1.61827795\n",
      "  1.08387173  1.43749184  1.91228896 -0.00280645 -0.08637463 -1.44799151\n",
      " -1.55272785  0.35645542  1.07876126 -1.4870013 ]\n",
      "The 1st set params after calculation : [-0.03927356 -0.11421137 -0.11080941  0.4840501  -1.57622471  1.61849971\n",
      "  1.08703094  1.43571373  1.9130981  -0.00333978 -0.08350802 -1.44694121\n",
      " -1.55278101  0.35709237  1.08196564 -1.48917304]\n",
      "step = 276,  E = -1.43496059 Ha\n",
      "The 1st set params after calculation : [-0.03943734 -0.11357205 -0.10967684  0.48480461 -1.57618573  1.61871686\n",
      "  1.09014685  1.43396316  1.91388983 -0.00386273 -0.08067407 -1.44587565\n",
      " -1.55282528  0.35772831  1.08512016 -1.49129521]\n",
      "The 1st set params after calculation : [-0.03960273 -0.11294496 -0.10855765  0.4855484  -1.57615262  1.61892949\n",
      "  1.09321955  1.43223992  1.91466474 -0.00437568 -0.07787241 -1.44479544\n",
      " -1.55286094  0.35836299  1.08822511 -1.49336905]\n",
      "step = 278,  E = -1.43512191 Ha\n",
      "The 1st set params after calculation : [-0.03976958 -0.11232987 -0.10745158  0.48628124 -1.57612518  1.61913766\n",
      "  1.09624917  1.4305438   1.91542338 -0.00487897 -0.07510272 -1.4437012\n",
      " -1.55288827  0.35899618  1.09128083 -1.49539573]\n",
      "The 1st set params after calculation : [-0.0399378  -0.11172659 -0.10635838  0.48700289 -1.57610323  1.61934144\n",
      "  1.09923588  1.42887458  1.91616627 -0.00537294 -0.07236465 -1.44259356\n",
      " -1.55290755  0.35962763  1.09428767 -1.49737642]\n",
      "step = 280,  E = -1.43527425 Ha\n",
      "The 1st set params after calculation : [-0.04010724 -0.11113491 -0.10527781  0.48771317 -1.57608658  1.6195409\n",
      "  1.10217983  1.42723203  1.91689391 -0.00585793 -0.06965788 -1.4414731\n",
      " -1.55291905  0.36025713  1.097246   -1.49931222]\n",
      "The 1st set params after calculation : [-0.04027781 -0.11055462 -0.10420966  0.4884119  -1.57607506  1.61973611\n",
      "  1.10508126  1.42561592  1.91760679 -0.00633423 -0.06698209 -1.44034043\n",
      " -1.55292304  0.36088447  1.1001562  -1.50120424]\n",
      "step = 282,  E = -1.43541809 Ha\n",
      "The 1st set params after calculation : [-0.04044939 -0.10998553 -0.1031537   0.48909893 -1.57606848  1.61992715\n",
      "  1.10794037  1.42402601  1.91830533 -0.00680214 -0.06433695 -1.43919612\n",
      " -1.55291978  0.36150943  1.1030187  -1.50305355]\n",
      "The 1st set params after calculation : [-0.04062187 -0.10942743 -0.10210972  0.48977413 -1.57606668  1.62011408\n",
      "  1.11075743  1.42246206  1.91898999 -0.00726195 -0.06172216 -1.43804074\n",
      " -1.55290954  0.36213183  1.10583391 -1.50486117]\n",
      "step = 284,  E = -1.43555387 Ha\n",
      "The 1st set params after calculation : [-0.04079515 -0.10888013 -0.10107753  0.49043738 -1.57606947  1.62029696\n",
      "  1.1135327   1.4209238   1.91966116 -0.00771392 -0.05913741 -1.43687486\n",
      " -1.55289257  0.36275149  1.10860227 -1.50662811]\n",
      "The 1st set params after calculation : [-0.04096914 -0.10834343 -0.10005694  0.4910886  -1.57607668  1.62047586\n",
      "  1.11626647  1.41941099  1.92031923 -0.00815831 -0.05658239 -1.43569903\n",
      " -1.55286913  0.36336822  1.11132426 -1.50835536]\n",
      "step = 286,  E = -1.43568202 Ha\n",
      "The 1st set params after calculation : [-0.04114373 -0.10781715 -0.09904775  0.49172772 -1.57608815  1.62065086\n",
      "  1.11895906  1.41792335  1.92096458 -0.00859538 -0.0540568  -1.43451379\n",
      " -1.55283946  0.36398186  1.11400033 -1.51004387]\n",
      "The 1st set params after calculation : [-0.04131884 -0.10730109 -0.09804978  0.49235467 -1.57610372  1.62082202\n",
      "  1.12161078  1.41646063  1.92159755 -0.00902534 -0.05156035 -1.43331966\n",
      " -1.55280382  0.36459226  1.11663098 -1.51169457]\n",
      "step = 288,  E = -1.43580295 Ha\n",
      "The 1st set params after calculation : [-0.04149438 -0.10679508 -0.09706288  0.49296943 -1.57612321  1.62098939\n",
      "  1.12422199  1.41502255  1.92221849 -0.00944844 -0.04909274 -1.43211717\n",
      " -1.55276244  0.36519926  1.11921671 -1.51330837]\n",
      "The 1st set params after calculation : [-0.04167026 -0.10629892 -0.09608687  0.49357196 -1.57614647  1.62115306\n",
      "  1.12679303  1.41360883  1.92282771 -0.00986489 -0.04665369 -1.43090683\n",
      " -1.55271556  0.36580273  1.12175802 -1.51488614]\n",
      "step = 290,  E = -1.43591704 Ha\n",
      "The 1st set params after calculation : [-0.04184639 -0.10581243 -0.09512159  0.49416226 -1.57617335  1.62131308\n",
      "  1.12932429  1.41221919  1.92342553 -0.01027488 -0.04424291 -1.42968913\n",
      " -1.55266342  0.36640252  1.12425543 -1.51642875]\n",
      "The 1st set params after calculation : [-0.04202271 -0.10533545 -0.09416689  0.49474034 -1.57620368  1.62146953\n",
      "  1.13181614  1.41085335  1.92401223 -0.01067861 -0.04186011 -1.42846455\n",
      " -1.55260623  0.36699852  1.12670948 -1.51793703]\n",
      "step = 292,  E = -1.43602469 Ha\n",
      "The 1st set params after calculation : [-0.04219913 -0.10486779 -0.09322263  0.4953062  -1.57623733  1.62162245\n",
      "  1.13426898  1.40951102  1.9245881  -0.01107628 -0.03950501 -1.42723358\n",
      " -1.55254422  0.36759061  1.12912069 -1.5194118 ]\n",
      "The 1st set params after calculation : [-0.04237559 -0.10440928 -0.09228866  0.49585989 -1.57627414  1.62177192\n",
      "  1.13668321  1.40819191  1.92515341 -0.01146806 -0.03717735 -1.42599669\n",
      " -1.55247761  0.36817867  1.13148962 -1.52085385]\n",
      "step = 294,  E = -1.43612623 Ha\n",
      "The 1st set params after calculation : [-0.042552   -0.10395976 -0.09136484  0.49640144 -1.57631398  1.62191801\n",
      "  1.13905926  1.40689573  1.92570841 -0.01185412 -0.03487684 -1.42475431\n",
      " -1.55240662  0.36876261  1.13381681 -1.52226394]\n",
      "The 1st set params after calculation : [-0.04272831 -0.10351905 -0.09045104  0.49693091 -1.5763567   1.62206077\n",
      "  1.14139754  1.40562218  1.92625334 -0.01223462 -0.03260321 -1.42350691\n",
      " -1.55233144  0.36934232  1.13610283 -1.52364285]\n",
      "step = 296,  E = -1.43622203 Ha\n",
      "The 1st set params after calculation : [-0.04290445 -0.10308699 -0.08954713  0.49744837 -1.57640217  1.62220027\n",
      "  1.14369849  1.40437097  1.92678845 -0.01260972 -0.0303562  -1.42225491\n",
      " -1.55225228  0.36991771  1.13834822 -1.5249913 ]\n",
      "The 1st set params after calculation : [-0.04308035 -0.10266342 -0.08865299  0.49795388 -1.57645025  1.62233656\n",
      "  1.14596256  1.4031418   1.92731396 -0.01297955 -0.02813553 -1.42099874\n",
      " -1.55216934  0.37048871  1.14055357 -1.52631   ]\n",
      "step = 298,  E = -1.43631240 Ha\n",
      "The 1st set params after calculation : [-0.04325597 -0.10224818 -0.0877685   0.49844752 -1.57650082  1.62246972\n",
      "  1.14819019  1.40193437  1.92783008 -0.01334428 -0.02594094 -1.41973881\n",
      " -1.5520828   0.37105523  1.14271944 -1.52759966]\n",
      "The 1st set params after calculation : [-0.04343123 -0.10184112 -0.08689355  0.49892939 -1.57655375  1.6225998\n",
      "  1.15038182  1.40074838  1.92833703 -0.01370402 -0.02377217 -1.41847552\n",
      " -1.55199287  0.3716172   1.1448464  -1.52886095]\n",
      "step = 300,  E = -1.43639765 Ha\n",
      "The 1st set params after calculation : [-0.04360608 -0.10144208 -0.08602801  0.49939959 -1.57660891  1.62272687\n",
      "  1.15253793  1.39958353  1.92883501 -0.01405891 -0.02162895 -1.41720926\n",
      " -1.55189972  0.37217457  1.14693502 -1.53009453]\n",
      "The 1st set params after calculation : [-0.04378048 -0.1010509  -0.08517178  0.49985822 -1.5766662   1.62285098\n",
      "  1.15465898  1.39843951  1.9293242  -0.01440906 -0.01951103 -1.41594042\n",
      " -1.55180353  0.37272725  1.14898589 -1.53130106]\n",
      "step = 302,  E = -1.43647808 Ha\n",
      "The 1st set params after calculation : [-0.04395437 -0.10066745 -0.08432476  0.5003054  -1.57672548  1.6229722\n",
      "  1.15674542  1.39731603  1.9298048  -0.01475461 -0.01741815 -1.41466937\n",
      " -1.55170447  0.37327522  1.15099957 -1.53248116]\n",
      "The 1st set params after calculation : [-0.04412771 -0.10029157 -0.08348684  0.50074123 -1.57678666  1.62309058\n",
      "  1.15879773  1.39621278  1.93027698 -0.01509564 -0.01535005 -1.41339647\n",
      " -1.5516027   0.3738184   1.15297665 -1.53363544]\n",
      "step = 304,  E = -1.43655396 Ha\n",
      "The 1st set params after calculation : [-0.04430044 -0.09992312 -0.08265792  0.50116585 -1.57684961  1.62320618\n",
      "  1.16081638  1.39512947  1.93074091 -0.01543228 -0.01330648 -1.41212208\n",
      " -1.5514984   0.37435676  1.1549177  -1.53476451]\n",
      "The 1st set params after calculation : [-0.04447253 -0.09956196 -0.0818379   0.50157939 -1.57691424  1.62331907\n",
      "  1.16280184  1.39406578  1.93119677 -0.01576463 -0.01128719 -1.41084653\n",
      " -1.55139172  0.37489027  1.1568233  -1.53586895]\n",
      "step = 306,  E = -1.43662557 Ha\n",
      "The 1st set params after calculation : [-0.04464393 -0.09920795 -0.08102669  0.50198197 -1.57698045  1.62342929\n",
      "  1.16475458  1.39302143  1.9316447  -0.01609277 -0.00929193 -1.40957016\n",
      " -1.55128282  0.37541888  1.15869401 -1.53694934]\n",
      "The 1st set params after calculation : [-0.04481461 -0.09886095 -0.08022419  0.50237374 -1.57704812  1.62353691\n",
      "  1.16667509  1.39199611  1.93208488 -0.01641681 -0.00732045 -1.4082933\n",
      " -1.55117183  0.37594256  1.16053042 -1.53800622]\n",
      "step = 308,  E = -1.43669316 Ha\n",
      "The 1st set params after calculation : [-0.04498451 -0.09852083 -0.07943032  0.50275485 -1.57711717  1.62364198\n",
      "  1.16856384  1.39098952  1.93251744 -0.01673682 -0.0053725  -1.40701625\n",
      " -1.55105891  0.37646129  1.16233309 -1.53904013]\n",
      "The 1st set params after calculation : [-0.04515362 -0.09818746 -0.07864498  0.50312542 -1.57718751  1.62374456\n",
      "  1.17042129  1.39000137  1.93294254 -0.01705291 -0.00344783 -1.40573933\n",
      " -1.5509442   0.37697505  1.16410259 -1.54005162]\n",
      "step = 310,  E = -1.43675695 Ha\n",
      "The 1st set params after calculation : [-4.53218951e-02 -9.78607097e-02 -7.78680959e-02  5.03485622e-01\n",
      " -1.57725903e+00  1.62384470e+00  1.17224793e+00  1.38903136e+00\n",
      "  1.93336032e+00 -1.73651311e-02 -1.54621389e-03 -1.40446283e+00\n",
      " -1.55082782e+00  3.77483816e-01  1.16583949e+00 -1.54104119e+00]\n",
      "The 1st set params after calculation : [-4.54893002e-02 -9.75404485e-02 -7.70995739e-02  5.03835597e-01\n",
      " -1.57733167e+00  1.62394246e+00  1.17404423e+00  1.38807920e+00\n",
      "  1.93377090e+00 -1.76735785e-02  3.32606252e-04 -1.40318704e+00\n",
      " -1.55070992e+00  3.77987577e-01  1.16754433e+00 -1.54200935e+00]\n",
      "step = 312,  E = -1.43681718 Ha\n",
      "The 1st set params after calculation : [-0.04565581 -0.09722655 -0.07633933  0.5041755  -1.57740532  1.62403789\n",
      "  1.17581066  1.38714459  1.93417443 -0.01797832  0.00218887 -1.40191224\n",
      " -1.55059061  0.37848632  1.16921769 -1.54295659]\n",
      "The 1st set params after calculation : [-0.04582139 -0.0969189  -0.07558729  0.50450549 -1.57747992  1.62413104\n",
      "  1.17754768  1.38622726  1.93457104 -0.01827943  0.00402281 -1.4006387\n",
      " -1.55047001  0.37898004  1.17086011 -1.5438834 ]\n",
      "step = 314,  E = -1.43687405 Ha\n",
      "The 1st set params after calculation : [-0.04598601 -0.09661737 -0.07484337  0.50482573 -1.57755537  1.62422197\n",
      "  1.17925577  1.3853269   1.93496084 -0.01857697  0.00583467 -1.39936668\n",
      " -1.55034825  0.37946874  1.17247213 -1.54479023]\n",
      "The 1st set params after calculation : [-0.04614965 -0.09632184 -0.07410749  0.50513637 -1.57763161  1.62431072\n",
      "  1.18093538  1.38444323  1.93534397 -0.01887101  0.00762468 -1.39809643\n",
      " -1.55022544  0.3799524   1.17405431 -1.54567756]\n",
      "step = 316,  E = -1.43692777 Ha\n",
      "The 1st set params after calculation : [-0.04631229 -0.0960322  -0.07337958  0.50543757 -1.57770857  1.62439736\n",
      "  1.18258699  1.38357597  1.93572053 -0.0191616   0.00939308 -1.39682821\n",
      " -1.55010168  0.38043105  1.17560717 -1.54654581]\n",
      "The 1st set params after calculation : [-0.04647389 -0.09574833 -0.07265955  0.5057295  -1.57778616  1.62448192\n",
      "  1.18421104  1.38272484  1.93609065 -0.01944882  0.0111401  -1.39556224\n",
      " -1.54997708  0.38090467  1.17713126 -1.54739544]\n",
      "step = 318,  E = -1.43697852 Ha\n",
      "The 1st set params after calculation : [-0.04663445 -0.09547012 -0.07194734  0.50601231 -1.57786434  1.62456446\n",
      "  1.185808    1.38188956  1.93645445 -0.01973271  0.01286598 -1.39429876\n",
      " -1.54985174  0.38137327  1.17862709 -1.54822686]\n",
      "The 1st set params after calculation : [-0.04679394 -0.09519746 -0.07124287  0.50628618 -1.57794302  1.62464502\n",
      "  1.1873783   1.38106986  1.93681202 -0.02001332  0.01457094 -1.393038\n",
      " -1.54972576  0.38183688  1.18009519 -1.5490405 ]\n",
      "step = 320,  E = -1.43702647 Ha\n",
      "The 1st set params after calculation : [-0.04695233 -0.09493024 -0.07054607  0.50655127 -1.57802215  1.62472366\n",
      "  1.18892241  1.38026546  1.93716347 -0.02029072  0.01625521 -1.39178016\n",
      " -1.54959923  0.38229549  1.18153607 -1.54983675]\n",
      "The 1st set params after calculation : [-0.04710962 -0.09466835 -0.06985686  0.50680773 -1.57810167  1.62480041\n",
      "  1.19044076  1.3794761   1.93750892 -0.02056495  0.01791903 -1.39052545\n",
      " -1.54947224  0.38274913  1.18295024 -1.55061602]\n",
      "step = 322,  E = -1.43707180 Ha\n",
      "The 1st set params after calculation : [-0.04726578 -0.09441169 -0.06917518  0.50705573 -1.57818152  1.62487534\n",
      "  1.19193379  1.3787015   1.93784847 -0.02083606  0.01956261 -1.38927408\n",
      " -1.54934488  0.38319781  1.18433821 -1.55137869]\n",
      "The 1st set params after calculation : [-0.0474208  -0.09416016 -0.06850095  0.50729544 -1.57826164  1.62494847\n",
      "  1.19340193  1.3779414   1.9381822  -0.02110409  0.02118618 -1.38802624\n",
      " -1.54921722  0.38364156  1.18570047 -1.55212514]\n",
      "step = 324,  E = -1.43711466 Ha\n",
      "The 1st set params after calculation : [-0.04757467 -0.09391365 -0.06783411  0.50752702 -1.57834199  1.62501985\n",
      "  1.19484561  1.37719555  1.93851023 -0.0213691   0.02278997 -1.38678211\n",
      " -1.54908935  0.38408039  1.18703751 -1.55285573]\n",
      "The 1st set params after calculation : [-0.04772738 -0.09367207 -0.06717459  0.50775063 -1.5784225   1.62508954\n",
      "  1.19626526  1.37646368  1.93883265 -0.02163112  0.02437419 -1.38554187\n",
      " -1.54896134  0.38451432  1.1883498  -1.55357084]\n",
      "step = 326,  E = -1.43715520 Ha\n",
      "The 1st set params after calculation : [-0.0478789  -0.09343532 -0.06652232  0.50796643 -1.57850314  1.62515756\n",
      "  1.19766129  1.37574554  1.93914955 -0.02189019  0.02593907 -1.38430571\n",
      " -1.54883327  0.38494339  1.18963784 -1.5542708 ]\n",
      "The 1st set params after calculation : [-0.04802923 -0.09320331 -0.06587723  0.50817458 -1.57858385  1.62522397\n",
      "  1.19903413  1.37504087  1.93946103 -0.02214635  0.02748481 -1.38307377\n",
      " -1.5487052   0.38536761  1.19090208 -1.55495597]\n",
      "step = 328,  E = -1.43719355 Ha\n",
      "The 1st set params after calculation : [-0.04817837 -0.09297593 -0.06523926  0.50837525 -1.5786646   1.6252888\n",
      "  1.20038417  1.37434944  1.93976718 -0.02239965  0.02901165 -1.38184624\n",
      " -1.54857719  0.38578702  1.19214299 -1.55562668]\n",
      "The 1st set params after calculation : [-0.04832629 -0.0927531  -0.06460834  0.50856858 -1.57874533  1.6253521\n",
      "  1.20171182  1.373671    1.94006807 -0.02265012  0.0305198  -1.38062325\n",
      " -1.54844932  0.38620165  1.19336102 -1.55628325]\n",
      "step = 330,  E = -1.43722985 Ha\n",
      "The 1st set params after calculation : [-0.048473   -0.09253473 -0.0639844   0.50875474 -1.57882601  1.6254139\n",
      "  1.20301748  1.3730053   1.94036381 -0.0228978   0.03200946 -1.37940495\n",
      " -1.54832165  0.38661152  1.19455663 -1.55692602]\n",
      "The 1st set params after calculation : [-0.04861848 -0.09232073 -0.06336739  0.50893388 -1.5789066   1.62547424\n",
      "  1.20430154  1.37235211  1.94065448 -0.02314271  0.03348085 -1.3781915\n",
      " -1.54819422  0.38701667  1.19573025 -1.55755528]\n",
      "step = 332,  E = -1.43726421 Ha\n",
      "The 1st set params after calculation : [-0.04876274 -0.092111   -0.06275724  0.50910616 -1.57898706  1.62553316\n",
      "  1.20556439  1.37171119  1.94094016 -0.02338491  0.03493418 -1.37698302\n",
      " -1.54806709  0.38741713  1.19688231 -1.55817135]\n",
      "The 1st set params after calculation : [-0.04890576 -0.09190548 -0.06215387  0.50927173 -1.57906736  1.6255907\n",
      "  1.20680641  1.37108231  1.94122093 -0.02362441  0.03636966 -1.37577965\n",
      " -1.54794032  0.38781293  1.19801325 -1.55877453]\n",
      "step = 334,  E = -1.43729675 Ha\n",
      "The 1st set params after calculation : [-0.04904753 -0.09170406 -0.06155724  0.50943074 -1.57914747  1.62564689\n",
      "  1.20802797  1.37046524  1.94149687 -0.02386125  0.0377875  -1.37458151\n",
      " -1.54781396  0.38820412  1.19912348 -1.55936511]\n",
      "The 1st set params after calculation : [-0.04918807 -0.09150668 -0.06096728  0.50958335 -1.57922734  1.62570177\n",
      "  1.20922945  1.36985977  1.94176807 -0.02409546  0.0391879  -1.37338872\n",
      " -1.54768805  0.38859072  1.20021342 -1.55994336]\n",
      "step = 336,  E = -1.43732757 Ha\n",
      "The 1st set params after calculation : [-0.04932735 -0.09131325 -0.06038392  0.50972969 -1.57930696  1.62575537\n",
      "  1.21041121  1.36926567  1.9420346  -0.02432707  0.04057106 -1.3722014\n",
      " -1.54756263  0.38897278  1.20128348 -1.56050958]\n",
      "The 1st set params after calculation : [-0.04946539 -0.09112368 -0.05980711  0.50986991 -1.57938629  1.62580773\n",
      "  1.21157361  1.36868272  1.94229654 -0.02455612  0.04193719 -1.37101966\n",
      " -1.54743774  0.38935033  1.20233404 -1.56106403]\n",
      "step = 338,  E = -1.43735678 Ha\n",
      "The 1st set params after calculation : [-0.04960217 -0.09093791 -0.05923677  0.51000416 -1.57946531  1.62585888\n",
      "  1.212717    1.3681107   1.94255396 -0.02478262  0.04328649 -1.3698436\n",
      " -1.54731344  0.38972341  1.2033655  -1.56160698]\n",
      "The 1st set params after calculation : [-0.04973771 -0.09075585 -0.05867286  0.51013259 -1.57954398  1.62590885\n",
      "  1.21384172  1.36754942  1.94280695 -0.02500661  0.04461916 -1.36867332\n",
      " -1.54718975  0.39009206  1.20437826 -1.56213868]\n",
      "step = 340,  E = -1.43738446 Ha\n",
      "The 1st set params after calculation : [-0.04987198 -0.09057743 -0.0581153   0.51025532 -1.5796223   1.62595768\n",
      "  1.21494813  1.36699865  1.94305556 -0.02522811  0.04593539 -1.36750892\n",
      " -1.54706671  0.39045632  1.20537267 -1.5626594 ]\n",
      "The 1st set params after calculation : [-0.05000501 -0.09040258 -0.05756405  0.51037251 -1.57970022  1.62600539\n",
      "  1.21603656  1.3664582   1.94329988 -0.02544716  0.04723538 -1.36635048\n",
      " -1.54694435  0.39081622  1.20634913 -1.56316937]\n",
      "step = 342,  E = -1.43741071 Ha\n",
      "The 1st set params after calculation : [-0.05013678 -0.09023123 -0.05701903  0.51048428 -1.57977774  1.62605201\n",
      "  1.21710733  1.36592787  1.94353997 -0.02566377  0.04851932 -1.3651981\n",
      " -1.5468227   0.39117182  1.20730798 -1.56366884]\n",
      "The 1st set params after calculation : [-0.0502673  -0.0900633  -0.05648019  0.51059077 -1.57985483  1.62609758\n",
      "  1.21816078  1.36540746  1.94377591 -0.02587798  0.04978741 -1.36405186\n",
      " -1.5467018   0.39152315  1.20824959 -1.56415805]\n",
      "step = 344,  E = -1.43743561 Ha\n",
      "The 1st set params after calculation : [-0.05039657 -0.08989872 -0.05594747  0.51069211 -1.57993147  1.62614212\n",
      "  1.21919722  1.36489677  1.94400777 -0.02608981  0.05103984 -1.36291183\n",
      " -1.54658167  0.39187025  1.2091743  -1.56463723]\n",
      "The 1st set params after calculation : [-0.05052459 -0.08973743 -0.05542081  0.51078843 -1.58000765  1.62618566\n",
      "  1.22021696  1.36439562  1.9442356  -0.02629927  0.05227678 -1.36177809\n",
      " -1.54646234  0.39221317  1.21008247 -1.5651066 ]\n",
      "step = 346,  E = -1.43745924 Ha\n",
      "The 1st set params after calculation : [-0.05065137 -0.08957936 -0.05490015  0.51087986 -1.58008334  1.62622823\n",
      "  1.22122032  1.36390382  1.94445949 -0.02650641  0.05349845 -1.3606507\n",
      " -1.54634382  0.39255194  1.21097442 -1.56556639]\n",
      "The 1st set params after calculation : [-0.05077691 -0.08942445 -0.05438543  0.51096653 -1.58015854  1.62626985\n",
      "  1.2222076   1.36342119  1.94467948 -0.02671123  0.054705   -1.35952973\n",
      " -1.54622615  0.39288661  1.21185049 -1.56601681]\n",
      "step = 348,  E = -1.43748166 Ha\n",
      "The 1st set params after calculation : [-0.05090121 -0.08927263 -0.05387659  0.51104856 -1.58023322  1.62631055\n",
      "  1.22317908  1.36294754  1.94489566 -0.02691377  0.05589664 -1.35841525\n",
      " -1.54610935  0.39321722  1.212711   -1.56645806]\n",
      "The 1st set params after calculation : [-0.05102427 -0.08912383 -0.05337358  0.51112607 -1.58030737  1.62635036\n",
      "  1.22413508  1.3624827   1.94510808 -0.02711405  0.05707354 -1.35730732\n",
      " -1.54599342  0.39354382  1.21355627 -1.56689036]\n",
      "step = 350,  E = -1.43750295 Ha\n",
      "The 1st set params after calculation : [-0.05114611 -0.088978   -0.05287634  0.51119917 -1.58038099  1.6263893\n",
      "  1.22507587  1.36202649  1.9453168  -0.02731209  0.05823588 -1.35620598\n",
      " -1.5458784   0.39386644  1.21438662 -1.5673139 ]\n",
      "The 1st set params after calculation : [-0.05126672 -0.08883508 -0.05238481  0.511268   -1.58045405  1.62642739\n",
      "  1.22600173  1.36157875  1.94552189 -0.0275079   0.05938385 -1.35511128\n",
      " -1.5457643   0.39418514  1.21520233 -1.56772889]\n",
      "step = 352,  E = -1.43752317 Ha\n",
      "The 1st set params after calculation : [-0.05138611 -0.088695   -0.05189893  0.51133266 -1.58052655  1.62646465\n",
      "  1.22691294  1.36113931  1.94572341 -0.02770153  0.06051761 -1.35402329\n",
      " -1.54565113  0.39449994  1.21600373 -1.56813551]\n",
      "The 1st set params after calculation : [-0.05150428 -0.08855771 -0.05141865  0.51139326 -1.58059848  1.62650112\n",
      "  1.22780977  1.36070799  1.94592142 -0.02789297  0.06163734 -1.35294203\n",
      " -1.5455389   0.3948109   1.21679108 -1.56853395]\n",
      "step = 354,  E = -1.43754238 Ha\n",
      "The 1st set params after calculation : [-0.05162125 -0.08842315 -0.0509439   0.51144992 -1.58066983  1.62653681\n",
      "  1.22869249  1.36028465  1.94611597 -0.02808227  0.06274321 -1.35186755\n",
      " -1.54542764  0.39511806  1.2175647  -1.56892439]\n",
      "The 1st set params after calculation : [-0.05173702 -0.08829127 -0.05047464  0.51150274 -1.58074059  1.62657174\n",
      "  1.22956136  1.35986912  1.94630713 -0.02826943  0.06383541 -1.35079989\n",
      " -1.54531734  0.39542146  1.21832484 -1.56930702]\n",
      "step = 356,  E = -1.43756063 Ha\n",
      "The 1st set params after calculation : [-0.05185158 -0.08816201 -0.05001081  0.51155184 -1.58081075  1.62660594\n",
      "  1.23041663  1.35946124  1.94649495 -0.02845448  0.06491409 -1.34973909\n",
      " -1.54520803  0.39572115  1.2190718  -1.569682  ]\n",
      "The 1st set params after calculation : [-0.05196496 -0.08803531 -0.04955235  0.51159731 -1.5808803   1.62663941\n",
      "  1.23125856  1.35906087  1.94667949 -0.02863745  0.06597942 -1.34868518\n",
      " -1.5450997   0.39601715  1.21980584 -1.57004951]\n",
      "step = 358,  E = -1.43757799 Ha\n",
      "The 1st set params after calculation : [-0.05207716 -0.08791113 -0.0490992   0.51163925 -1.58094925  1.6266722\n",
      "  1.23208739  1.35866785  1.94686081 -0.02881834  0.06703157 -1.34763818\n",
      " -1.54499238  0.39630953  1.22052722 -1.57040972]\n",
      "The 1st set params after calculation : [-0.05218818 -0.0877894  -0.04865132  0.51167778 -1.58101758  1.6267043\n",
      "  1.23290337  1.35828204  1.94703895 -0.02899718  0.06807071 -1.34659812\n",
      " -1.54488606  0.39659832  1.22123619 -1.57076278]\n",
      "step = 360,  E = -1.43759448 Ha\n",
      "The 1st set params after calculation : [-0.05229803 -0.0876701  -0.04820864  0.51171298 -1.58108529  1.62673575\n",
      "  1.23370672  1.35790329  1.94721398 -0.029174    0.069097   -1.34556503\n",
      " -1.54478075  0.39688356  1.22193303 -1.57110885]\n",
      "The 1st set params after calculation : [-0.05240673 -0.08755315 -0.04777111  0.51174496 -1.58115237  1.62676656\n",
      "  1.23449768  1.35753147  1.94738595 -0.0293488   0.0701106  -1.34453892\n",
      " -1.54467646  0.3971653   1.22261796 -1.5714481 ]\n",
      "step = 362,  E = -1.43761018 Ha\n",
      "The 1st set params after calculation : [-0.05251427 -0.08743852 -0.04733868  0.5117738  -1.58121882  1.62679674\n",
      "  1.23527649  1.35716643  1.94755491 -0.02952162  0.07111166 -1.34351983\n",
      " -1.54457319  0.39744357  1.22329124 -1.57178067]\n",
      "The 1st set params after calculation : [-0.05262066 -0.08732615 -0.0469113   0.5117996  -1.58128464  1.62682632\n",
      "  1.23604335  1.35680804  1.9477209  -0.02969247  0.07210035 -1.34250775\n",
      " -1.54447095  0.39771842  1.22395309 -1.57210671]\n",
      "step = 364,  E = -1.43762511 Ha\n",
      "The 1st set params after calculation : [-0.05272592 -0.087216   -0.0464889   0.51182245 -1.58134983  1.62685531\n",
      "  1.2367985   1.35645616  1.94788399 -0.02986136  0.07307682 -1.34150272\n",
      " -1.54436973  0.39798989  1.22460376 -1.57242636]\n",
      "The 1st set params after calculation : [-0.05283005 -0.08710802 -0.04607144  0.51184244 -1.58141438  1.62688373\n",
      "  1.23754215  1.35611067  1.94804423 -0.03002833  0.07404122 -1.34050473\n",
      " -1.54426955  0.39825802  1.22524346 -1.57273977]\n",
      "step = 366,  E = -1.43763931 Ha\n",
      "The 1st set params after calculation : [-0.05293305 -0.08700218 -0.04565887  0.51185966 -1.58147828  1.62691159\n",
      "  1.2382745   1.35577144  1.94820165 -0.03019338  0.07499372 -1.3395138\n",
      " -1.54417039  0.39852285  1.22587242 -1.57304708]\n",
      "The 1st set params after calculation : [-0.05303495 -0.08689842 -0.04525113  0.51187418 -1.58154155  1.6269389\n",
      "  1.23899576  1.35543834  1.94835632 -0.03035654  0.07593445 -1.33852994\n",
      " -1.54407227  0.39878442  1.22649087 -1.57334842]\n",
      "step = 368,  E = -1.43765284 Ha\n",
      "The 1st set params after calculation : [-0.05313574 -0.0867967  -0.04484817  0.51188609 -1.58160418  1.62696569\n",
      "  1.23970614  1.35511125  1.94850827 -0.03051783  0.07686357 -1.33755314\n",
      " -1.54397518  0.39904277  1.227099   -1.57364392]\n",
      "The 1st set params after calculation : [-0.05323544 -0.08669698 -0.04444994  0.51189547 -1.58166617  1.62699197\n",
      "  1.24040583  1.35479005  1.94865756 -0.03067726  0.07778123 -1.33658343\n",
      " -1.54387912  0.39929795  1.22769702 -1.57393371]\n",
      "step = 370,  E = -1.43766571 Ha\n",
      "The 1st set params after calculation : [-0.05333405 -0.08659921 -0.04405638  0.51190241 -1.58172751  1.62701775\n",
      "  1.24109503  1.35447463  1.94880423 -0.03083485  0.07868756 -1.33562079\n",
      " -1.5437841   0.39954998  1.22828515 -1.57421791]\n",
      "The 1st set params after calculation : [-0.05343159 -0.08650337 -0.04366745  0.51190697 -1.58178822  1.62704304\n",
      "  1.24177392  1.35416486  1.94894833 -0.03099063  0.07958273 -1.33466522\n",
      " -1.5436901   0.39979892  1.22886358 -1.57449666]\n",
      "step = 372,  E = -1.43767797 Ha\n",
      "The 1st set params after calculation : [-0.05352806 -0.0864094  -0.04328309  0.51190923 -1.58184828  1.62706786\n",
      "  1.24244269  1.35386063  1.9490899  -0.0311446   0.08046686 -1.33371673\n",
      " -1.54359713  0.40004479  1.2294325  -1.57477006]\n",
      "The 1st set params after calculation : [-0.05362347 -0.08631728 -0.04290326  0.51190927 -1.5819077   1.62709222\n",
      "  1.24310153  1.35356184  1.94922898 -0.0312968   0.0813401  -1.33277531\n",
      " -1.54350518  0.40028764  1.2299921  -1.57503825]\n",
      "step = 374,  E = -1.43768966 Ha\n",
      "The 1st set params after calculation : [-0.05371783 -0.08622695 -0.0425279   0.51190716 -1.58196649  1.62711614\n",
      "  1.24375061  1.35326837  1.94936563 -0.03144723  0.08220259 -1.33184095\n",
      " -1.54341426  0.40052751  1.23054257 -1.57530132]\n",
      "The 1st set params after calculation : [-0.05381114 -0.08613839 -0.04215697  0.51190296 -1.58202464  1.62713962\n",
      "  1.24439011  1.35298012  1.94949989 -0.03159591  0.08305446 -1.33091365\n",
      " -1.54332435  0.40076443  1.2310841  -1.5755594 ]\n",
      "step = 376,  E = -1.43770079 Ha\n",
      "The 1st set params after calculation : [-0.05390343 -0.08605156 -0.04179041  0.51189676 -1.58208216  1.62716267\n",
      "  1.2450202   1.35269698  1.94963178 -0.03174286  0.08389585 -1.3299934\n",
      " -1.54323545  0.40099843  1.23161685 -1.57581258]\n",
      "The 1st set params after calculation : [-0.0539947  -0.08596642 -0.04142817  0.5118886  -1.58213904  1.62718531\n",
      "  1.24564104  1.35241886  1.94976137 -0.03188811  0.0847269  -1.32908018\n",
      " -1.54314756  0.40122957  1.232141   -1.57606099]\n",
      "step = 378,  E = -1.43771139 Ha\n",
      "The 1st set params after calculation : [-0.05408495 -0.08588294 -0.04107022  0.51187857 -1.5821953   1.62720755\n",
      "  1.24625281  1.35214564  1.94988868 -0.03203166  0.08554774 -1.32817399\n",
      " -1.54306068  0.40145787  1.23265673 -1.57630472]\n",
      "The 1st set params after calculation : [-0.0541742  -0.08580108 -0.04071649  0.51186671 -1.58225093  1.6272294\n",
      "  1.24685566  1.35187725  1.95001377 -0.03217354  0.0863585  -1.32727481\n",
      " -1.5429748   0.40168337  1.2331642  -1.57654388]\n",
      "step = 380,  E = -1.43772151 Ha\n",
      "The 1st set params after calculation : [-0.05426246 -0.08572081 -0.04036695  0.51185311 -1.58230593  1.62725087\n",
      "  1.24744976  1.35161357  1.95013666 -0.03231376  0.0871593  -1.32638264\n",
      " -1.54288991  0.40190611  1.23366357 -1.57677856]\n",
      "The 1st set params after calculation : [-0.05434974 -0.08564209 -0.04002154  0.5118378  -1.58236032  1.62727197\n",
      "  1.24803525  1.35135451  1.9502574  -0.03245234  0.08795029 -1.32549744\n",
      " -1.542806    0.40212611  1.234155   -1.57700886]\n",
      "step = 382,  E = -1.43773115 Ha\n",
      "The 1st set params after calculation : [-0.05443603 -0.0855649  -0.03968022  0.51182086 -1.58241408  1.62729271\n",
      "  1.24861229  1.35109999  1.95037602 -0.03258929  0.08873157 -1.32461921\n",
      " -1.54272308  0.40234343  1.23463865 -1.57723489]\n",
      "The 1st set params after calculation : [-0.05452137 -0.0854892  -0.03934294  0.51180234 -1.58246724  1.62731309\n",
      "  1.24918102  1.35084992  1.95049257 -0.03272464  0.08950329 -1.32374793\n",
      " -1.54264114  0.40255808  1.23511466 -1.57745672]\n",
      "step = 384,  E = -1.43774034 Ha\n",
      "The 1st set params after calculation : [-0.05460574 -0.08541497 -0.03900965  0.5117823  -1.58251978  1.62733313\n",
      "  1.2497416   1.35060419  1.95060708 -0.0328584   0.09026556 -1.32288358\n",
      " -1.54256016  0.40277012  1.23558319 -1.57767445]\n",
      "The 1st set params after calculation : [-0.05468918 -0.08534217 -0.03868031  0.51176079 -1.58257172  1.62735284\n",
      "  1.25029416  1.35036274  1.95071958 -0.03299059  0.0910185  -1.32202613\n",
      " -1.54248014  0.40297956  1.23604438 -1.57788817]\n",
      "step = 386,  E = -1.43774911 Ha\n",
      "The 1st set params after calculation : [-0.05477167 -0.08527076 -0.03835488  0.51173787 -1.58262306  1.62737223\n",
      "  1.25083885  1.35012547  1.95083012 -0.03312122  0.09176223 -1.32117557\n",
      " -1.54240109  0.40318644  1.23649838 -1.57809796]\n",
      "The 1st set params after calculation : [-0.05485324 -0.08520074 -0.0380333   0.51171358 -1.5826738   1.62739129\n",
      "  1.2513758   1.34989231  1.95093873 -0.03325032  0.09249688 -1.32033187\n",
      " -1.54232297  0.40339081  1.23694532 -1.57830392]\n",
      "step = 388,  E = -1.43775748 Ha\n",
      "The 1st set params after calculation : [-0.05493388 -0.08513205 -0.03771553  0.51168798 -1.58272394  1.62741005\n",
      "  1.25190515  1.34966316  1.95104544 -0.03337789  0.09322256 -1.31949501\n",
      " -1.5422458   0.40359268  1.23738534 -1.57850611]\n",
      "The 1st set params after calculation : [-0.05501362 -0.08506469 -0.03740153  0.51166112 -1.5827735   1.6274285\n",
      "  1.25242702  1.34943796  1.95115029 -0.03350395  0.09393938 -1.31866497\n",
      " -1.54216956  0.40379209  1.23781857 -1.57870463]\n",
      "step = 390,  E = -1.43776547 Ha\n",
      "The 1st set params after calculation : [-0.05509246 -0.08499861 -0.03709126  0.51163305 -1.58282247  1.62744667\n",
      "  1.25294154  1.34921662  1.95125331 -0.03362853  0.09464746 -1.31784171\n",
      " -1.54209425  0.40398908  1.23824514 -1.57889955]\n",
      "The 1st set params after calculation : [-0.05517041 -0.0849338  -0.03678467  0.51160381 -1.58287087  1.62746454\n",
      "  1.25344885  1.34899907  1.95135453 -0.03375163  0.09534692 -1.31702522\n",
      " -1.54201985  0.40418367  1.23866519 -1.57909095]\n",
      "step = 392,  E = -1.43777309 Ha\n",
      "The 1st set params after calculation : [-0.05524748 -0.08487022 -0.03648172  0.51157344 -1.58291868  1.62748214\n",
      "  1.25394906  1.34878524  1.95145399 -0.03387328  0.09603786 -1.31621547\n",
      " -1.54194636  0.4043759   1.23907882 -1.57927891]\n",
      "The 1st set params after calculation : [-0.05532368 -0.08480786 -0.03618236  0.511542   -1.58296593  1.62749946\n",
      "  1.2544423   1.34857505  1.95155172 -0.03399348  0.0967204  -1.31541242\n",
      " -1.54187378  0.40456579  1.23948617 -1.57946348]\n",
      "step = 394,  E = -1.43778036 Ha\n",
      "The 1st set params after calculation : [-0.05539901 -0.08474668 -0.03588656  0.51150952 -1.58301262  1.62751651\n",
      "  1.25492869  1.34836842  1.95164775 -0.03411226  0.09739465 -1.31461606\n",
      " -1.54180209  0.40475339  1.23988735 -1.57964476]\n",
      "The 1st set params after calculation : [-0.05547349 -0.08468667 -0.03559426  0.51147605 -1.58305874  1.62753331\n",
      "  1.25540833  1.3481653   1.95174211 -0.03422963  0.0980607  -1.31382634\n",
      " -1.54173128  0.40493871  1.24028247 -1.57982281]\n",
      "step = 396,  E = -1.43778730 Ha\n",
      "The 1st set params after calculation : [-0.05554713 -0.0846278  -0.03530544  0.51144163 -1.58310431  1.62754985\n",
      "  1.25588135  1.34796561  1.95183483 -0.0343456   0.09871867 -1.31304324\n",
      " -1.54166134  0.40512179  1.24067167 -1.57999769]\n",
      "The 1st set params after calculation : [-0.05561993 -0.08457004 -0.03502004  0.5114063  -1.58314933  1.62756615\n",
      "  1.25634785  1.34776929  1.95192595 -0.0344602   0.09936866 -1.31226674\n",
      " -1.54159228  0.40530265  1.24105503 -1.58016948]\n",
      "step = 398,  E = -1.43779393 Ha\n",
      "The 1st set params after calculation : [-0.0556919  -0.08451337 -0.03473804  0.51137009 -1.5831938   1.6275822\n",
      "  1.25680796  1.34757626  1.95201548 -0.03457343  0.10001078 -1.31149679\n",
      " -1.54152407  0.40548134  1.24143268 -1.58033824]\n",
      "The 1st set params after calculation : [-0.05576306 -0.08445777 -0.03445938  0.51133305 -1.58323774  1.62759802\n",
      "  1.25726176  1.34738648  1.95210346 -0.03468531  0.10064513 -1.31073336\n",
      " -1.54145672  0.40565786  1.24180471 -1.58050402]\n",
      "step = 400,  E = -1.43780027 Ha\n",
      "The 1st set params after calculation : [-0.05583341 -0.08440322 -0.03418402  0.51129521 -1.58328114  1.62761361\n",
      "  1.25770937  1.34719986  1.95218992 -0.03479587  0.1012718  -1.30997643\n",
      " -1.54139021  0.40583226  1.24217124 -1.58066691]\n",
      "The 1st set params after calculation : [-0.05590296 -0.08434969 -0.03391194  0.5112566  -1.58332401  1.62762897\n",
      "  1.25815089  1.34701636  1.95227489 -0.0349051   0.1018909  -1.30922596\n",
      " -1.54132453  0.40600456  1.24253236 -1.58082695]\n",
      "step = 402,  E = -1.43780632 Ha\n",
      "The 1st set params after calculation : [-0.05597172 -0.08429717 -0.03364308  0.51121727 -1.58336636  1.62764411\n",
      "  1.25858642  1.34683591  1.95235838 -0.03501303  0.10250253 -1.30848191\n",
      " -1.54125967  0.40617479  1.24288817 -1.5809842 ]\n",
      "The 1st set params after calculation : [-0.05603969 -0.08424564 -0.03337742  0.51117724 -1.58340818  1.62765904\n",
      "  1.25901607  1.34665845  1.95244044 -0.03511968  0.10310678 -1.30774426\n",
      " -1.54119563  0.40634297  1.24323877 -1.58113873]\n",
      "step = 404,  E = -1.43781210 Ha\n",
      "The 1st set params after calculation : [-0.0561069  -0.08419507 -0.0331149   0.51113655 -1.5834495   1.62767376\n",
      "  1.25943991  1.34648393  1.95252108 -0.03522505  0.10370375 -1.30701297\n",
      " -1.5411324   0.40650914  1.24358426 -1.58129059]\n",
      "The 1st set params after calculation : [-0.05617334 -0.08414544 -0.0328555   0.51109523 -1.58349031  1.62768827\n",
      "  1.25985807  1.34631229  1.95260034 -0.03532916  0.10429352 -1.30628799\n",
      " -1.54106997  0.40667331  1.24392472 -1.58143983]\n",
      "step = 406,  E = -1.43781762 Ha\n",
      "The 1st set params after calculation : [-0.05623902 -0.08409674 -0.03259917  0.51105331 -1.58353062  1.62770258\n",
      "  1.26027061  1.34614347  1.95267823 -0.03543203  0.10487621 -1.30556931\n",
      " -1.54100832  0.40683552  1.24426026 -1.58158651]\n",
      "The 1st set params after calculation : [-0.05630396 -0.08404895 -0.03234589  0.51101082 -1.58357043  1.62771669\n",
      "  1.26067764  1.34597743  1.95275479 -0.03553367  0.10545188 -1.30485687\n",
      " -1.54094746  0.40699578  1.24459095 -1.58173069]\n",
      "step = 408,  E = -1.43782289 Ha\n",
      "The 1st set params after calculation : [-0.05636815 -0.08400204 -0.03209561  0.5109678  -1.58360975  1.62773061\n",
      "  1.26107925  1.3458141   1.95283003 -0.03563409  0.10602065 -1.30415065\n",
      " -1.54088737  0.40715413  1.24491688 -1.5818724 ]\n",
      "The 1st set params after calculation : [-0.05643162 -0.08395601 -0.03184829  0.51092425 -1.58364858  1.62774434\n",
      "  1.26147552  1.34565343  1.95290398 -0.03573331  0.10658259 -1.30345061\n",
      " -1.54082804  0.4073106   1.24523815 -1.58201172]\n",
      "step = 410,  E = -1.43782794 Ha\n",
      "The 1st set params after calculation : [-0.05649436 -0.08391083 -0.0316039   0.51088023 -1.58368693  1.62775789\n",
      "  1.26186654  1.34549538  1.95297666 -0.03583135  0.1071378  -1.30275671\n",
      " -1.54076947  0.40746519  1.24555483 -1.58214867]\n",
      "The 1st set params after calculation : [-0.05655639 -0.08386648 -0.03136241  0.51083575 -1.58372481  1.62777126\n",
      "  1.26225239  1.3453399   1.95304811 -0.03592821  0.10768636 -1.30206892\n",
      " -1.54071164  0.40761795  1.245867   -1.58228332]\n",
      "step = 412,  E = -1.43783276 Ha\n",
      "The 1st set params after calculation : [-0.05661771 -0.08382295 -0.03112377  0.51079083 -1.58376221  1.62778445\n",
      "  1.26263316  1.34518693  1.95311833 -0.03602391  0.10822835 -1.30138719\n",
      " -1.54065455  0.40776888  1.24617474 -1.58241571]\n",
      "The 1st set params after calculation : [-0.05667833 -0.08378022 -0.03088796  0.51074551 -1.58379915  1.62779747\n",
      "  1.26300892  1.34503644  1.95318736 -0.03611846  0.10876387 -1.30071149\n",
      " -1.54059819  0.40791803  1.24647814 -1.58254588]\n",
      "step = 414,  E = -1.43783737 Ha\n",
      "The 1st set params after calculation : [-0.05673826 -0.08373827 -0.03065494  0.51069981 -1.58383564  1.62781032\n",
      "  1.26337976  1.34488836  1.95325521 -0.03621189  0.10929299 -1.30004179\n",
      " -1.54054255  0.4080654   1.24677727 -1.58267388]\n",
      "The 1st set params after calculation : [-0.05679751 -0.08369709 -0.03042468  0.51065375 -1.58387167  1.627823\n",
      "  1.26374576  1.34474267  1.95332191 -0.03630419  0.1098158  -1.29937803\n",
      " -1.54048761  0.40821103  1.2470722  -1.58279976]\n",
      "step = 416,  E = -1.43784177 Ha\n",
      "The 1st set params after calculation : [-0.05685609 -0.08365667 -0.03019714  0.51060736 -1.58390725  1.62783552\n",
      "  1.26410698  1.3445993   1.95338748 -0.03639539  0.11033238 -1.2987202\n",
      " -1.54043339  0.40835494  1.24736301 -1.58292355]\n",
      "The 1st set params after calculation : [-0.056914   -0.08361699 -0.02997229  0.51056065 -1.58394238  1.62784788\n",
      "  1.26446351  1.34445823  1.95345193 -0.03648549  0.11084281 -1.29806823\n",
      " -1.54037985  0.40849714  1.24764976 -1.58304531]\n",
      "step = 418,  E = -1.43784598 Ha\n",
      "The 1st set params after calculation : [-0.05697125 -0.08357802 -0.02975009  0.51051365 -1.58397708  1.62786009\n",
      "  1.26481542  1.3443194   1.9535153  -0.03657452  0.11134717 -1.29742211\n",
      " -1.540327    0.40863766  1.24793253 -1.58316506]\n",
      "The 1st set params after calculation : [-0.05702785 -0.08353977 -0.02953052  0.51046638 -1.58401135  1.62787214\n",
      "  1.26516278  1.34418277  1.95357759 -0.03666247  0.11184553 -1.29678178\n",
      " -1.54027483  0.40877652  1.24821139 -1.58328285]\n",
      "step = 420,  E = -1.43785001 Ha\n",
      "The 1st set params after calculation : [-0.0570838  -0.08350221 -0.02931354  0.51041886 -1.58404518  1.62788404\n",
      "  1.26550566  1.34404831  1.95363883 -0.03674938  0.11233798 -1.29614722\n",
      " -1.54022333  0.40891375  1.2484864  -1.58339872]\n",
      "The 1st set params after calculation : [-0.05713912 -0.08346533 -0.02909911  0.51037111 -1.5840786   1.6278958\n",
      "  1.26584413  1.34391597  1.95369905 -0.03683524  0.11282459 -1.29551837\n",
      " -1.54017249  0.40904936  1.24875763 -1.58351271]\n",
      "step = 422,  E = -1.43785387 Ha\n",
      "The 1st set params after calculation : [-0.05719381 -0.08342912 -0.02888722  0.51032315 -1.5841116   1.6279074\n",
      "  1.26617826  1.34378572  1.95375824 -0.03692007  0.11330543 -1.29489521\n",
      " -1.5401223   0.40918338  1.24902515 -1.58362485]\n",
      "The 1st set params after calculation : [-0.05724788 -0.08339356 -0.02867782  0.510275   -1.58414418  1.62791887\n",
      "  1.26650811  1.34365751  1.95381645 -0.03700389  0.11378058 -1.29427769\n",
      " -1.54007276  0.40931582  1.24928901 -1.58373518]\n",
      "step = 424,  E = -1.43785755 Ha\n",
      "The 1st set params after calculation : [-0.05730133 -0.08335864 -0.02847089  0.51022668 -1.58417636  1.6279302\n",
      "  1.26683376  1.3435313   1.95387367 -0.0370867   0.11425012 -1.29366577\n",
      " -1.54002385  0.40944671  1.24954928 -1.58384374]\n",
      "The 1st set params after calculation : [-0.05735417 -0.08332435 -0.0282664   0.5101782  -1.58420814  1.62794139\n",
      "  1.26715526  1.34340707  1.95392994 -0.03716852  0.1147141  -1.29305942\n",
      " -1.53997557  0.40957606  1.24980601 -1.58395056]\n",
      "step = 426,  E = -1.43786108 Ha\n",
      "The 1st set params after calculation : [-0.05740642 -0.08329068 -0.02806431  0.51012958 -1.58423952  1.62795245\n",
      "  1.26747268  1.34328478  1.95398527 -0.03724935  0.11517261 -1.29245858\n",
      " -1.53992791  0.4097039   1.25005928 -1.58405568]\n",
      "The 1st set params after calculation : [-0.05745807 -0.0832576  -0.0278646   0.51008083 -1.5842705   1.62796337\n",
      "  1.26778608  1.34316438  1.95403968 -0.03732922  0.11562572 -1.29186324\n",
      " -1.53988087  0.40983025  1.25030913 -1.58415913]\n",
      "step = 428,  E = -1.43786445 Ha\n",
      "The 1st set params after calculation : [-0.05750913 -0.08322512 -0.02766723  0.51003198 -1.5843011   1.62797417\n",
      "  1.26809552  1.34304585  1.95409318 -0.03740814  0.11607349 -1.29127333\n",
      " -1.53983443  0.40995512  1.25055562 -1.58426093]\n",
      "The 1st set params after calculation : [-0.05755962 -0.08319321 -0.02747219  0.50998303 -1.58433132  1.62798484\n",
      "  1.26840106  1.34292915  1.95414579 -0.0374861   0.11651599 -1.29068883\n",
      " -1.53978858  0.41007853  1.25079881 -1.58436114]\n",
      "step = 430,  E = -1.43786768 Ha\n",
      "The 1st set params after calculation : [-0.05760953 -0.08316187 -0.02727943  0.50993401 -1.58436115  1.62799538\n",
      "  1.26870276  1.34281424  1.95419753 -0.03756314  0.11695329 -1.2901097\n",
      " -1.53974333  0.41020051  1.25103875 -1.58445976]\n",
      "The 1st set params after calculation : [-0.05765888 -0.08313109 -0.02708894  0.50988493 -1.58439062  1.6280058\n",
      "  1.26900068  1.3427011   1.95424841 -0.03763925  0.11738546 -1.28953589\n",
      " -1.53969865  0.41032106  1.25127549 -1.58455684]\n",
      "step = 432,  E = -1.43787076 Ha\n",
      "The 1st set params after calculation : [-0.05770767 -0.08310085 -0.02690067  0.50983579 -1.58441971  1.6280161\n",
      "  1.26929487  1.3425897   1.95429845 -0.03771445  0.11781256 -1.28896737\n",
      " -1.53965455  0.41044022  1.2515091  -1.58465241]\n",
      "The 1st set params after calculation : [-0.0577559  -0.08307114 -0.02671462  0.50978662 -1.58444845  1.62802628\n",
      "  1.26958538  1.34247999  1.95434766 -0.03778875  0.11823465 -1.2884041\n",
      " -1.53961102  0.41055799  1.25173961 -1.58474649]\n",
      "step = 434,  E = -1.43787372 Ha\n",
      "The 1st set params after calculation : [-0.05780359 -0.08304196 -0.02653074  0.50973743 -1.58447682  1.62803635\n",
      "  1.26987228  1.34237196  1.95439606 -0.03786216  0.1186518  -1.28784603\n",
      " -1.53956804  0.41067439  1.25196708 -1.58483911]\n",
      "The 1st set params after calculation : [-0.05785074 -0.08301329 -0.02634902  0.50968823 -1.58450484  1.6280463\n",
      "  1.27015561  1.34226557  1.95444367 -0.0379347   0.11906407 -1.28729313\n",
      " -1.53952562  0.41078945  1.25219156 -1.58493031]\n",
      "step = 436,  E = -1.43787655 Ha\n",
      "The 1st set params after calculation : [-0.05789736 -0.08298513 -0.02616942  0.50963902 -1.58453251  1.62805613\n",
      "  1.27043543  1.34216079  1.95449049 -0.03800637  0.11947153 -1.28674535\n",
      " -1.53948374  0.41090318  1.25241309 -1.5850201 ]\n",
      "The 1st set params after calculation : [-0.05794344 -0.08295745 -0.02599192  0.50958984 -1.58455983  1.62806586\n",
      "  1.2707118   1.34205759  1.95453655 -0.03807718  0.11987423 -1.28620267\n",
      " -1.5394424   0.41101559  1.25263173 -1.58510851]\n",
      "step = 438,  E = -1.43787926 Ha\n",
      "The 1st set params after calculation : [-0.05798901 -0.08293026 -0.02581649  0.50954067 -1.58458681  1.62807547\n",
      "  1.27098475  1.34195595  1.95458185 -0.03814714  0.12027224 -1.28566503\n",
      " -1.53940159  0.4111267   1.25284751 -1.58519558]\n",
      "The 1st set params after calculation : [-0.05803406 -0.08290355 -0.02564311  0.50949155 -1.58461346  1.62808498\n",
      "  1.27125433  1.34185584  1.95462641 -0.03821627  0.12066561 -1.28513241\n",
      " -1.5393613   0.41123653  1.25306049 -1.58528132]\n",
      "step = 440,  E = -1.43788185 Ha\n",
      "The 1st set params after calculation : [-0.05807861 -0.08287729 -0.02547175  0.50944247 -1.58463977  1.62809438\n",
      "  1.27152061  1.34175722  1.95467025 -0.03828458  0.1210544  -1.28460475\n",
      " -1.53932153  0.41134509  1.25327071 -1.58536576]\n",
      "The 1st set params after calculation : [-0.05812265 -0.08285149 -0.02530239  0.50939344 -1.58466576  1.62810368\n",
      "  1.27178363  1.34166008  1.95471338 -0.03835207  0.12143868 -1.28408203\n",
      " -1.53928226  0.41145241  1.25347821 -1.58544892]\n",
      "step = 442,  E = -1.43788433 Ha\n",
      "The 1st set params after calculation : [-0.05816619 -0.08282614 -0.025135    0.50934449 -1.58469142  1.62811288\n",
      "  1.27204342  1.34156439  1.9547558  -0.03841875  0.12181849 -1.2835642\n",
      " -1.5392435   0.41155849  1.25368304 -1.58553083]\n",
      "The 1st set params after calculation : [-0.05820925 -0.08280123 -0.02496956  0.5092956  -1.58471676  1.62812197\n",
      "  1.27230005  1.34147012  1.95479754 -0.03848464  0.1221939  -1.28305122\n",
      " -1.53920524  0.41166335  1.25388523 -1.58561152]\n",
      "step = 444,  E = -1.43788670 Ha\n",
      "The 1st set params after calculation : [-0.05825181 -0.08277674 -0.02480604  0.50924681 -1.58474179  1.62813096\n",
      "  1.27255354  1.34137724  1.95483861 -0.03854975  0.12256496 -1.28254306\n",
      " -1.53916747  0.41176701  1.25408484 -1.585691  ]\n",
      "The 1st set params after calculation : [-0.0582939  -0.08275268 -0.02464443  0.50919811 -1.58476651  1.62813986\n",
      "  1.27280396  1.34128574  1.95487901 -0.03861408  0.12293172 -1.28203967\n",
      " -1.53913017  0.41186949  1.25428188 -1.58576929]\n",
      "step = 446,  E = -1.43788898 Ha\n",
      "The 1st set params after calculation : [-0.05833552 -0.08272903 -0.02448469  0.50914951 -1.58479091  1.62814866\n",
      "  1.27305134  1.34119559  1.95491876 -0.03867764  0.12329424 -1.28154102\n",
      " -1.53909336  0.41197079  1.25447642 -1.58584643]\n",
      "The 1st set params after calculation : [-0.05837666 -0.08270578 -0.0243268   0.50910102 -1.58481502  1.62815736\n",
      "  1.27329573  1.34110676  1.95495787 -0.03874045  0.12365257 -1.28104707\n",
      " -1.53905701  0.41207093  1.25466848 -1.58592242]\n",
      "step = 448,  E = -1.43789115 Ha\n",
      "The 1st set params after calculation : [-0.05841735 -0.08268292 -0.02417075  0.50905265 -1.58483882  1.62816597\n",
      "  1.27353716  1.34101924  1.95499636 -0.03880251  0.12400676 -1.28055779\n",
      " -1.53902113  0.41216993  1.25485811 -1.5859973 ]\n",
      "0: ─╭|Ψ⟩──RY(-0.06)─╭●──RY(1.95)─────────────────────────────────────────────────────────────────┤ ╭<𝓗>\n",
      "1: ─├|Ψ⟩──RY(-0.08)─╰X─╭●─────────RY(-0.04)──────────────────────────────────────────────────────┤ ├<𝓗>\n",
      "2: ─├|Ψ⟩──RY(-0.02)────╰X────────╭●──────────RY(0.12)────────────────────────────────────────────┤ ├<𝓗>\n",
      "3: ─├|Ψ⟩──RY(0.51)───────────────╰X─────────╭●─────────RY(-1.28)─────────────────────────────────┤ ├<𝓗>\n",
      "4: ─├|Ψ⟩──RY(-1.58)─────────────────────────╰X────────╭●──────────RY(-1.54)──────────────────────┤ ├<𝓗>\n",
      "5: ─├|Ψ⟩──RY(1.63)────────────────────────────────────╰X─────────╭●──────────RY(0.41)────────────┤ ├<𝓗>\n",
      "6: ─├|Ψ⟩──RY(1.27)───────────────────────────────────────────────╰X─────────╭●─────────RY(1.25)──┤ ├<𝓗>\n",
      "7: ─╰|Ψ⟩──RY(1.34)──────────────────────────────────────────────────────────╰X─────────RY(-1.59)─┤ ╰<𝓗>\n"
     ]
    }
   ],
   "source": [
    "paramss = np.array([0.1] * (2 * qubits), requires_grad=True)\n",
    "dev3 = qml.device(\"lightning.qubit\", wires=qubits)\n",
    "@qml.qnode(dev3)\n",
    "def k2(paramss):\n",
    "    qml.StatePrep(gs_state, wires=range(qubits))\n",
    "    \n",
    "    # First RY layer (params[0-7])\n",
    "    for i in range(qubits):\n",
    "        qml.RY(paramss[i], wires=i)\n",
    "    \n",
    "    # CNOT gates\n",
    "    for i in range(qubits - 1):\n",
    "        qml.CNOT(wires=[i, i+1])\n",
    "    \n",
    "    # Second RY layer (params[8-15])\n",
    "    for i in range(qubits):\n",
    "        qml.RY(paramss[i + qubits], wires=i)\n",
    "    \n",
    "    return qml.expval(H)\n",
    "\n",
    "print('Params before optimizeation', paramss)\n",
    "\n",
    "print(qml.draw(k2, max_length=200)(paramss))\n",
    "\n",
    "\n",
    "optimizer = qml.GradientDescentOptimizer(stepsize=0.5)\n",
    "\n",
    "for n in range(450):\n",
    "    paramss, energy = optimizer.step_and_cost(k2, paramss)\n",
    "    print('The 1st set params after calculation :', paramss)\n",
    "    if n % 2 == 0:\n",
    "        print(\"step = {:},  E = {:.8f} Ha\".format(n, energy))\n",
    "print(qml.draw(k2, max_length=200)(paramss))"
   ]
  },
  {
   "cell_type": "code",
   "execution_count": 4,
   "metadata": {},
   "outputs": [
    {
     "data": {
      "text/plain": [
       "tensor([-0.05841735, -0.08268292, -0.02417075,  0.50905265, -1.58483882,\n",
       "         1.62816597,  1.27353716,  1.34101924,  1.95499636, -0.03880251,\n",
       "         0.12400676, -1.28055779, -1.53902113,  0.41216993,  1.25485811,\n",
       "        -1.5859973 ], requires_grad=True)"
      ]
     },
     "execution_count": 4,
     "metadata": {},
     "output_type": "execute_result"
    }
   ],
   "source": [
    "paramss"
   ]
  },
  {
   "cell_type": "code",
   "execution_count": 5,
   "metadata": {},
   "outputs": [
    {
     "name": "stdout",
     "output_type": "stream",
     "text": [
      "0: ─╭|Ψ⟩──RY(-0.06)─╭●──RY(1.95)─────────────────────────────────────────────────────────────────┤  State\n",
      "1: ─├|Ψ⟩──RY(-0.08)─╰X─╭●─────────RY(-0.04)──────────────────────────────────────────────────────┤  State\n",
      "2: ─├|Ψ⟩──RY(-0.02)────╰X────────╭●──────────RY(0.12)────────────────────────────────────────────┤  State\n",
      "3: ─├|Ψ⟩──RY(0.51)───────────────╰X─────────╭●─────────RY(-1.28)─────────────────────────────────┤  State\n",
      "4: ─├|Ψ⟩──RY(-1.58)─────────────────────────╰X────────╭●──────────RY(-1.54)──────────────────────┤  State\n",
      "5: ─├|Ψ⟩──RY(1.63)────────────────────────────────────╰X─────────╭●──────────RY(0.41)────────────┤  State\n",
      "6: ─├|Ψ⟩──RY(1.27)───────────────────────────────────────────────╰X─────────╭●─────────RY(1.25)──┤  State\n",
      "7: ─╰|Ψ⟩──RY(1.34)──────────────────────────────────────────────────────────╰X─────────RY(-1.59)─┤  State\n"
     ]
    }
   ],
   "source": [
    "dev3 = qml.device(\"lightning.qubit\", wires=qubits)\n",
    "@qml.qnode(dev3)\n",
    "def ostatehea(paramss):\n",
    "    qml.StatePrep(gs_state, wires=range(qubits))\n",
    "    \n",
    "    # First RY layer (params[0-7])\n",
    "    for i in range(qubits):\n",
    "        qml.RY(paramss[i], wires=i)\n",
    "    \n",
    "    # CNOT gates\n",
    "    for i in range(qubits - 1):\n",
    "        qml.CNOT(wires=[i, i+1])\n",
    "    \n",
    "    # Second RY layer (params[8-15])\n",
    "    for i in range(qubits):\n",
    "        qml.RY(paramss[i + qubits], wires=i)\n",
    "    \n",
    "    return qml.state()\n",
    "fstate = ostatehea(paramss)\n",
    "print(qml.draw(ostatehea, max_length=200)(paramss))"
   ]
  },
  {
   "cell_type": "code",
   "execution_count": 6,
   "metadata": {},
   "outputs": [],
   "source": [
    "import pennylane as qml\n",
    "from pennylane import qchem\n",
    "from pennylane import numpy as np\n",
    "from itertools import chain\n",
    "import time\n",
    "import re\n",
    "from scipy.optimize import minimize\n",
    "ash_excitation = []\n",
    "energies = []\n",
    "excitations= []\n",
    "\n",
    "X = qml.PauliX\n",
    "Y = qml.PauliY\n",
    "Z = qml.PauliZ\n",
    "I = qml.Identity\n",
    "\n",
    "\n",
    "\n",
    "bond_length = 3.0\n",
    "symbols = [\"H\",\"H\",\"H\",\"H\"]\n",
    "electrons = 4\n",
    "orbitals = 8\n",
    "r_bohr = bond_length *1.8897259886  \n",
    "coordinates = np.array([[0.0,0.0, 1*r_bohr], [0.0, 0.0, 2*r_bohr], [0.0,0.0,3*r_bohr],[0.0, 0.0, 4*r_bohr]])\n",
    "H, qubits = qml.qchem.molecular_hamiltonian(symbols, coordinates, basis=\"sto-6g\", method=\"pyscf\")\n",
    "hf_state = qchem.hf_state(electrons, qubits)\n",
    "\n",
    "\n",
    "\n",
    "\n",
    "def adaptvqe_updated(fstate, adapt_it = 4, e_th=1e-12):\n",
    "    ash_excitation = []\n",
    "    energies = []\n",
    "    excitations= []\n",
    "    #Calculation of HF state\n",
    "    dev = qml.device(\"lightning.qubit\", wires=qubits)\n",
    "    @qml.qnode(dev)\n",
    "    def circuit(hf_state, electrons, qubits, H):\n",
    "        print('Updated hf_state is', hf_state)  \n",
    "        qml.BasisState(hf_state, wires=range(qubits))\n",
    "        return qml.expval(H)   #Calculating the expectation value of the Hamiltonian\n",
    "    \n",
    "    # Commutator calculation for GS state\n",
    "    @qml.qnode(dev)\n",
    "    def commutator_0(H,w, k):  #H is the Hamiltonian, w is the operator, k is the basis state - GS state\n",
    "        qml.StatePrep(k, wires=range(qubits))\n",
    "        res = qml.commutator(H, w)   #Calculating the commutator\n",
    "        return qml.expval(res)\n",
    "    \n",
    "    # Commutator calculation for other states except HF state\n",
    "    @qml.qnode(dev)\n",
    "    def commutator_1(H,w, k): #H is the Hamiltonian, w is the operator, k is the basis state\n",
    "        qml.StatePrep(k, wires=range(qubits))\n",
    "        res = qml.commutator(H, w) #Calculating the commutator\n",
    "        return qml.expval(res)\n",
    "\n",
    "    #Energy calculation \n",
    "    @qml.qnode(dev)\n",
    "    def ash(params, ash_excitation, fstate, H):\n",
    "        #[qml.PauliX(i) for i in np.nonzero(hf_state)[0]]  #Appln of HF state\n",
    "        qml.StatePrep(fstate, wires=range(qubits))\n",
    "        for i, excitation in enumerate(ash_excitation):\n",
    "            if len(ash_excitation[i]) == 4:\n",
    "                qml.FermionicDoubleExcitation(weight=params[i], wires1=ash_excitation[i][2:][::-1], wires2=ash_excitation[i][:2][::-1])\n",
    "            elif len(ash_excitation[i]) == 2:\n",
    "                qml.FermionicSingleExcitation(weight=params[i], wires=list(range(ash_excitation[i][0], ash_excitation[i][1] + 1)))\n",
    "        return qml.expval(H)  #Calculating the expectation value of the Hamiltonian\n",
    "    \n",
    "    # Calculation of New state, same as the above function but with the state return\n",
    "    dev1 = qml.device(\"lightning.qubit\", wires=qubits)\n",
    "    @qml.qnode(dev1)\n",
    "    def new_state(fstate, ash_excitation, params):\n",
    "        #[qml.PauliX(i) for i in np.nonzero(hf_state)[0]] #Applying the HF state\n",
    "        qml.StatePrep(fstate, wires=range(qubits))\n",
    "        for i, excitations in enumerate(ash_excitation):\n",
    "            if len(ash_excitation[i]) == 4:\n",
    "                qml.FermionicDoubleExcitation(weight=params[i], wires1=ash_excitation[i][2:][::-1], wires2=ash_excitation[i][:2][::-1])\n",
    "            elif len(ash_excitation[i]) == 2:\n",
    "                qml.FermionicSingleExcitation(weight=params[i], wires=list(range(ash_excitation[i][0], ash_excitation[i][1] + 1)))\n",
    "        return qml.state()\n",
    "    \n",
    "    def cost(params):\n",
    "        energy = ash(params, ash_excitation, fstate, H)\n",
    "        return energy\n",
    "\n",
    "    def callback(params):\n",
    "        print(f\"Current parameters: {params}\")\n",
    "        print(f\"Current cost: {cost(params)}\\n\")\n",
    "    \n",
    "\n",
    "    print('HF state is', circuit(hf_state, electrons, qubits, H))\n",
    "    singles, doubles = qml.qchem.excitations(electrons, orbitals)\n",
    "    op1 =  [qml.fermi.FermiWord({(0, x[0]): \"+\", (1, x[1]): \"-\"}) for x in singles]\n",
    "    op2 =  [qml.fermi.FermiWord({(0, x[0]): \"+\", (1, x[1]): \"+\", (2, x[2]): \"-\", (3, x[3]): \"-\"})for x in doubles]\n",
    "    operator_pool = (op1) + (op2)  #Operator pool - Singles and Doubles\n",
    "    states = [fstate]\n",
    "    \n",
    "\n",
    "    for j in range(adapt_it):\n",
    "        print('The adapt iteration now is', j)  #Adapt iteration\n",
    "        max_value = float('-inf')\n",
    "        max_operator = None\n",
    "        k = states[-1] if states else fstate  # if states is empty, fall back to hf_state\n",
    "       \n",
    "        for i in operator_pool:\n",
    "            print('The current excitation operator is', i)   #Current excitation operator - fermionic one\n",
    "            w = qml.fermi.jordan_wigner(i)  #JW transformation\n",
    "            if np.array_equal(k, fstate): # If the current state is the HF state\n",
    "                print('Print, if this is activated - fstate')\n",
    "                #print('The state now is', k)\n",
    "                current_value = abs(2*(commutator_0(H, w, k)))      #Commutator calculation is activated  \n",
    "            else:\n",
    "                current_value = abs(2*(commutator_1(H, w, k)))      #For other states, commutator calculation is activated\n",
    "            print(f'The expectation value of {i} is', current_value)\n",
    "\n",
    "            if current_value > max_value:\n",
    "                max_value = current_value\n",
    "                max_operator = i\n",
    "\n",
    "        print(f\"The highest operator value is {max_value} for operator {max_operator}\")  #Highest operator value\n",
    "\n",
    "        # Convert operator to excitations and append to ash_excitation\n",
    "        indices_str = re.findall(r'\\d+', str(max_operator))\n",
    "        excitations = [int(index) for index in indices_str]\n",
    "        print('Highest gradient excitation is', excitations)\n",
    "        ash_excitation.append(excitations) #Appending the excitations to the ash_excitation\n",
    "        print('The current status of ash_excitation is', ash_excitation)\n",
    "        if j == 0:\n",
    "            params = qml.numpy.zeros(len(ash_excitation), requires_grad=True)  #Parameters initialization\n",
    "            print('Parameters are', params)\n",
    "        else:\n",
    "            params = np.append(params, 0.0) \n",
    "            print('Parameters before optimization are', params)\n",
    "\n",
    "\n",
    "        #Energy calculation\n",
    "        result = minimize(cost, params, method='powell', callback=callback, tol = e_th, options = {'disp': True, 'maxiter': 1e8, 'xtol':1e-8, 'ftol':1e-8})\n",
    "\n",
    "        print(\"Final updated parameters:\", result.x)\n",
    "        print(\"Final cost:\", result.fun)\n",
    "\n",
    "        params= (result.x)\n",
    "        energies.append(result.fun)\n",
    "        print('Updated params are', params)\n",
    "        print('Updated excitation are', ash_excitation)\n",
    "\n",
    "        # New state generation - With the updated parameters\n",
    "        ostate = new_state(fstate, ash_excitation, params)\n",
    "        print(qml.draw(new_state, max_length=100)(fstate,ash_excitation,params))\n",
    "        gs1_state = ostate\n",
    "        # Append the new state to the states list\n",
    "        states.append(ostate)\n",
    "\n",
    "    return energies, params, ash_excitation, gs1_state, H, qubits\n",
    "\n",
    "\n",
    "\n",
    "\n",
    "\n",
    "\n",
    "\n"
   ]
  },
  {
   "cell_type": "code",
   "execution_count": 7,
   "metadata": {},
   "outputs": [
    {
     "name": "stdout",
     "output_type": "stream",
     "text": [
      "Updated hf_state is [1 1 1 1 0 0 0 0]\n",
      "HF state is -1.3325688880668922\n",
      "The adapt iteration now is 0\n",
      "The current excitation operator is a⁺(0) a(4)\n",
      "Print, if this is activated - fstate\n",
      "The expectation value of a⁺(0) a(4) is 0.008336412243142789\n",
      "The current excitation operator is a⁺(0) a(6)\n",
      "Print, if this is activated - fstate\n"
     ]
    },
    {
     "name": "stderr",
     "output_type": "stream",
     "text": [
      "/Users/pssrivathsansundar/.virtualenvs/new_venv/lib/python3.11/site-packages/pennylane_lightning/core/_serialize.py:283: ComplexWarning: Casting complex values to real discards the imaginary part\n",
      "  coeffs = np.array(coeffs).astype(self.rtype)\n",
      "/Users/pssrivathsansundar/.virtualenvs/new_venv/lib/python3.11/site-packages/pennylane_lightning/core/_serialize.py:283: ComplexWarning: Casting complex values to real discards the imaginary part\n",
      "  coeffs = np.array(coeffs).astype(self.rtype)\n",
      "/Users/pssrivathsansundar/.virtualenvs/new_venv/lib/python3.11/site-packages/pennylane_lightning/core/_serialize.py:283: ComplexWarning: Casting complex values to real discards the imaginary part\n",
      "  coeffs = np.array(coeffs).astype(self.rtype)\n"
     ]
    },
    {
     "name": "stdout",
     "output_type": "stream",
     "text": [
      "The expectation value of a⁺(0) a(6) is 0.037770898373310755\n",
      "The current excitation operator is a⁺(1) a(5)\n",
      "Print, if this is activated - fstate\n",
      "The expectation value of a⁺(1) a(5) is 0.044528200890278875\n",
      "The current excitation operator is a⁺(1) a(7)\n",
      "Print, if this is activated - fstate\n",
      "The expectation value of a⁺(1) a(7) is 0.0031645406329839864\n",
      "The current excitation operator is a⁺(2) a(4)\n",
      "Print, if this is activated - fstate\n"
     ]
    },
    {
     "name": "stderr",
     "output_type": "stream",
     "text": [
      "/Users/pssrivathsansundar/.virtualenvs/new_venv/lib/python3.11/site-packages/pennylane_lightning/core/_serialize.py:283: ComplexWarning: Casting complex values to real discards the imaginary part\n",
      "  coeffs = np.array(coeffs).astype(self.rtype)\n",
      "/Users/pssrivathsansundar/.virtualenvs/new_venv/lib/python3.11/site-packages/pennylane_lightning/core/_serialize.py:283: ComplexWarning: Casting complex values to real discards the imaginary part\n",
      "  coeffs = np.array(coeffs).astype(self.rtype)\n"
     ]
    },
    {
     "name": "stdout",
     "output_type": "stream",
     "text": [
      "The expectation value of a⁺(2) a(4) is 0.009678574755070023\n",
      "The current excitation operator is a⁺(2) a(6)\n",
      "Print, if this is activated - fstate\n",
      "The expectation value of a⁺(2) a(6) is 0.020831365307549643\n",
      "The current excitation operator is a⁺(3) a(5)\n"
     ]
    },
    {
     "name": "stderr",
     "output_type": "stream",
     "text": [
      "/Users/pssrivathsansundar/.virtualenvs/new_venv/lib/python3.11/site-packages/pennylane_lightning/core/_serialize.py:283: ComplexWarning: Casting complex values to real discards the imaginary part\n",
      "  coeffs = np.array(coeffs).astype(self.rtype)\n"
     ]
    },
    {
     "name": "stdout",
     "output_type": "stream",
     "text": [
      "Print, if this is activated - fstate\n",
      "The expectation value of a⁺(3) a(5) is 0.02923127528310584\n",
      "The current excitation operator is a⁺(3) a(7)\n",
      "Print, if this is activated - fstate\n"
     ]
    },
    {
     "name": "stderr",
     "output_type": "stream",
     "text": [
      "/Users/pssrivathsansundar/.virtualenvs/new_venv/lib/python3.11/site-packages/pennylane_lightning/core/_serialize.py:283: ComplexWarning: Casting complex values to real discards the imaginary part\n",
      "  coeffs = np.array(coeffs).astype(self.rtype)\n",
      "/Users/pssrivathsansundar/.virtualenvs/new_venv/lib/python3.11/site-packages/pennylane_lightning/core/_serialize.py:283: ComplexWarning: Casting complex values to real discards the imaginary part\n",
      "  coeffs = np.array(coeffs).astype(self.rtype)\n"
     ]
    },
    {
     "name": "stdout",
     "output_type": "stream",
     "text": [
      "The expectation value of a⁺(3) a(7) is 0.012910362686103445\n",
      "The current excitation operator is a⁺(0) a⁺(1) a(4) a(5)\n",
      "Print, if this is activated - fstate\n"
     ]
    },
    {
     "name": "stderr",
     "output_type": "stream",
     "text": [
      "/Users/pssrivathsansundar/.virtualenvs/new_venv/lib/python3.11/site-packages/pennylane_lightning/core/_serialize.py:283: ComplexWarning: Casting complex values to real discards the imaginary part\n",
      "  coeffs = np.array(coeffs).astype(self.rtype)\n"
     ]
    },
    {
     "name": "stdout",
     "output_type": "stream",
     "text": [
      "The expectation value of a⁺(0) a⁺(1) a(4) a(5) is 0.13304959992560308\n",
      "The current excitation operator is a⁺(0) a⁺(1) a(4) a(7)\n",
      "Print, if this is activated - fstate\n"
     ]
    },
    {
     "name": "stderr",
     "output_type": "stream",
     "text": [
      "/Users/pssrivathsansundar/.virtualenvs/new_venv/lib/python3.11/site-packages/pennylane_lightning/core/_serialize.py:283: ComplexWarning: Casting complex values to real discards the imaginary part\n",
      "  coeffs = np.array(coeffs).astype(self.rtype)\n"
     ]
    },
    {
     "name": "stdout",
     "output_type": "stream",
     "text": [
      "The expectation value of a⁺(0) a⁺(1) a(4) a(7) is 0.027756033469153413\n",
      "The current excitation operator is a⁺(0) a⁺(1) a(5) a(6)\n",
      "Print, if this is activated - fstate\n"
     ]
    },
    {
     "name": "stderr",
     "output_type": "stream",
     "text": [
      "/Users/pssrivathsansundar/.virtualenvs/new_venv/lib/python3.11/site-packages/pennylane_lightning/core/_serialize.py:283: ComplexWarning: Casting complex values to real discards the imaginary part\n",
      "  coeffs = np.array(coeffs).astype(self.rtype)\n"
     ]
    },
    {
     "name": "stdout",
     "output_type": "stream",
     "text": [
      "The expectation value of a⁺(0) a⁺(1) a(5) a(6) is 0.011765694461633879\n",
      "The current excitation operator is a⁺(0) a⁺(1) a(6) a(7)\n",
      "Print, if this is activated - fstate\n"
     ]
    },
    {
     "name": "stderr",
     "output_type": "stream",
     "text": [
      "/Users/pssrivathsansundar/.virtualenvs/new_venv/lib/python3.11/site-packages/pennylane_lightning/core/_serialize.py:283: ComplexWarning: Casting complex values to real discards the imaginary part\n",
      "  coeffs = np.array(coeffs).astype(self.rtype)\n",
      "/Users/pssrivathsansundar/.virtualenvs/new_venv/lib/python3.11/site-packages/pennylane_lightning/core/_serialize.py:283: ComplexWarning: Casting complex values to real discards the imaginary part\n",
      "  coeffs = np.array(coeffs).astype(self.rtype)\n"
     ]
    },
    {
     "name": "stdout",
     "output_type": "stream",
     "text": [
      "The expectation value of a⁺(0) a⁺(1) a(6) a(7) is 0.0026457669572206473\n",
      "The current excitation operator is a⁺(0) a⁺(2) a(4) a(6)\n",
      "Print, if this is activated - fstate\n",
      "The expectation value of a⁺(0) a⁺(2) a(4) a(6) is 0.004619108556584654\n",
      "The current excitation operator is a⁺(0) a⁺(3) a(4) a(5)\n",
      "Print, if this is activated - fstate\n"
     ]
    },
    {
     "name": "stderr",
     "output_type": "stream",
     "text": [
      "/Users/pssrivathsansundar/.virtualenvs/new_venv/lib/python3.11/site-packages/pennylane_lightning/core/_serialize.py:283: ComplexWarning: Casting complex values to real discards the imaginary part\n",
      "  coeffs = np.array(coeffs).astype(self.rtype)\n"
     ]
    },
    {
     "name": "stdout",
     "output_type": "stream",
     "text": [
      "The expectation value of a⁺(0) a⁺(3) a(4) a(5) is 0.0017734760069595633\n",
      "The current excitation operator is a⁺(0) a⁺(3) a(4) a(7)\n",
      "Print, if this is activated - fstate\n"
     ]
    },
    {
     "name": "stderr",
     "output_type": "stream",
     "text": [
      "/Users/pssrivathsansundar/.virtualenvs/new_venv/lib/python3.11/site-packages/pennylane_lightning/core/_serialize.py:283: ComplexWarning: Casting complex values to real discards the imaginary part\n",
      "  coeffs = np.array(coeffs).astype(self.rtype)\n"
     ]
    },
    {
     "name": "stdout",
     "output_type": "stream",
     "text": [
      "The expectation value of a⁺(0) a⁺(3) a(4) a(7) is 0.0032941299296953804\n",
      "The current excitation operator is a⁺(0) a⁺(3) a(5) a(6)\n",
      "Print, if this is activated - fstate\n"
     ]
    },
    {
     "name": "stderr",
     "output_type": "stream",
     "text": [
      "/Users/pssrivathsansundar/.virtualenvs/new_venv/lib/python3.11/site-packages/pennylane_lightning/core/_serialize.py:283: ComplexWarning: Casting complex values to real discards the imaginary part\n",
      "  coeffs = np.array(coeffs).astype(self.rtype)\n"
     ]
    },
    {
     "name": "stdout",
     "output_type": "stream",
     "text": [
      "The expectation value of a⁺(0) a⁺(3) a(5) a(6) is 0.08518183069825226\n",
      "The current excitation operator is a⁺(0) a⁺(3) a(6) a(7)\n",
      "Print, if this is activated - fstate\n"
     ]
    },
    {
     "name": "stderr",
     "output_type": "stream",
     "text": [
      "/Users/pssrivathsansundar/.virtualenvs/new_venv/lib/python3.11/site-packages/pennylane_lightning/core/_serialize.py:283: ComplexWarning: Casting complex values to real discards the imaginary part\n",
      "  coeffs = np.array(coeffs).astype(self.rtype)\n"
     ]
    },
    {
     "name": "stdout",
     "output_type": "stream",
     "text": [
      "The expectation value of a⁺(0) a⁺(3) a(6) a(7) is 0.0019670129245086734\n",
      "The current excitation operator is a⁺(1) a⁺(2) a(4) a(5)\n",
      "Print, if this is activated - fstate\n"
     ]
    },
    {
     "name": "stderr",
     "output_type": "stream",
     "text": [
      "/Users/pssrivathsansundar/.virtualenvs/new_venv/lib/python3.11/site-packages/pennylane_lightning/core/_serialize.py:283: ComplexWarning: Casting complex values to real discards the imaginary part\n",
      "  coeffs = np.array(coeffs).astype(self.rtype)\n"
     ]
    },
    {
     "name": "stdout",
     "output_type": "stream",
     "text": [
      "The expectation value of a⁺(1) a⁺(2) a(4) a(5) is 0.01571761954187878\n",
      "The current excitation operator is a⁺(1) a⁺(2) a(4) a(7)\n",
      "Print, if this is activated - fstate\n"
     ]
    },
    {
     "name": "stderr",
     "output_type": "stream",
     "text": [
      "/Users/pssrivathsansundar/.virtualenvs/new_venv/lib/python3.11/site-packages/pennylane_lightning/core/_serialize.py:283: ComplexWarning: Casting complex values to real discards the imaginary part\n",
      "  coeffs = np.array(coeffs).astype(self.rtype)\n"
     ]
    },
    {
     "name": "stdout",
     "output_type": "stream",
     "text": [
      "The expectation value of a⁺(1) a⁺(2) a(4) a(7) is 0.1380633754501294\n",
      "The current excitation operator is a⁺(1) a⁺(2) a(5) a(6)\n",
      "Print, if this is activated - fstate\n"
     ]
    },
    {
     "name": "stderr",
     "output_type": "stream",
     "text": [
      "/Users/pssrivathsansundar/.virtualenvs/new_venv/lib/python3.11/site-packages/pennylane_lightning/core/_serialize.py:283: ComplexWarning: Casting complex values to real discards the imaginary part\n",
      "  coeffs = np.array(coeffs).astype(self.rtype)\n"
     ]
    },
    {
     "name": "stdout",
     "output_type": "stream",
     "text": [
      "The expectation value of a⁺(1) a⁺(2) a(5) a(6) is 0.016068598298291763\n",
      "The current excitation operator is a⁺(1) a⁺(2) a(6) a(7)\n",
      "Print, if this is activated - fstate\n"
     ]
    },
    {
     "name": "stderr",
     "output_type": "stream",
     "text": [
      "/Users/pssrivathsansundar/.virtualenvs/new_venv/lib/python3.11/site-packages/pennylane_lightning/core/_serialize.py:283: ComplexWarning: Casting complex values to real discards the imaginary part\n",
      "  coeffs = np.array(coeffs).astype(self.rtype)\n"
     ]
    },
    {
     "name": "stdout",
     "output_type": "stream",
     "text": [
      "The expectation value of a⁺(1) a⁺(2) a(6) a(7) is 0.010637542443710025\n",
      "The current excitation operator is a⁺(1) a⁺(3) a(5) a(7)\n",
      "Print, if this is activated - fstate\n"
     ]
    },
    {
     "name": "stderr",
     "output_type": "stream",
     "text": [
      "/Users/pssrivathsansundar/.virtualenvs/new_venv/lib/python3.11/site-packages/pennylane_lightning/core/_serialize.py:283: ComplexWarning: Casting complex values to real discards the imaginary part\n",
      "  coeffs = np.array(coeffs).astype(self.rtype)\n"
     ]
    },
    {
     "name": "stdout",
     "output_type": "stream",
     "text": [
      "The expectation value of a⁺(1) a⁺(3) a(5) a(7) is 0.006459062126639841\n",
      "The current excitation operator is a⁺(2) a⁺(3) a(4) a(5)\n",
      "Print, if this is activated - fstate\n"
     ]
    },
    {
     "name": "stderr",
     "output_type": "stream",
     "text": [
      "/Users/pssrivathsansundar/.virtualenvs/new_venv/lib/python3.11/site-packages/pennylane_lightning/core/_serialize.py:283: ComplexWarning: Casting complex values to real discards the imaginary part\n",
      "  coeffs = np.array(coeffs).astype(self.rtype)\n"
     ]
    },
    {
     "name": "stdout",
     "output_type": "stream",
     "text": [
      "The expectation value of a⁺(2) a⁺(3) a(4) a(5) is 0.012344999421274486\n",
      "The current excitation operator is a⁺(2) a⁺(3) a(4) a(7)\n",
      "Print, if this is activated - fstate\n"
     ]
    },
    {
     "name": "stderr",
     "output_type": "stream",
     "text": [
      "/Users/pssrivathsansundar/.virtualenvs/new_venv/lib/python3.11/site-packages/pennylane_lightning/core/_serialize.py:283: ComplexWarning: Casting complex values to real discards the imaginary part\n",
      "  coeffs = np.array(coeffs).astype(self.rtype)\n"
     ]
    },
    {
     "name": "stdout",
     "output_type": "stream",
     "text": [
      "The expectation value of a⁺(2) a⁺(3) a(4) a(7) is 0.015035330853422868\n",
      "The current excitation operator is a⁺(2) a⁺(3) a(5) a(6)\n",
      "Print, if this is activated - fstate\n"
     ]
    },
    {
     "name": "stderr",
     "output_type": "stream",
     "text": [
      "/Users/pssrivathsansundar/.virtualenvs/new_venv/lib/python3.11/site-packages/pennylane_lightning/core/_serialize.py:283: ComplexWarning: Casting complex values to real discards the imaginary part\n",
      "  coeffs = np.array(coeffs).astype(self.rtype)\n"
     ]
    },
    {
     "name": "stdout",
     "output_type": "stream",
     "text": [
      "The expectation value of a⁺(2) a⁺(3) a(5) a(6) is 0.0002655242419078106\n",
      "The current excitation operator is a⁺(2) a⁺(3) a(6) a(7)\n",
      "Print, if this is activated - fstate\n"
     ]
    },
    {
     "name": "stderr",
     "output_type": "stream",
     "text": [
      "/Users/pssrivathsansundar/.virtualenvs/new_venv/lib/python3.11/site-packages/pennylane_lightning/core/_serialize.py:283: ComplexWarning: Casting complex values to real discards the imaginary part\n",
      "  coeffs = np.array(coeffs).astype(self.rtype)\n"
     ]
    },
    {
     "name": "stdout",
     "output_type": "stream",
     "text": [
      "The expectation value of a⁺(2) a⁺(3) a(6) a(7) is 0.0800174774358916\n",
      "The highest operator value is 0.1380633754501294 for operator a⁺(1) a⁺(2) a(4) a(7)\n",
      "Highest gradient excitation is [1, 2, 4, 7]\n",
      "The current status of ash_excitation is [[1, 2, 4, 7]]\n",
      "Parameters are [0.]\n",
      "Current parameters: [-1.34268016]\n",
      "Current cost: -1.4583431076209634\n",
      "\n",
      "Current parameters: [-1.3426798]\n",
      "Current cost: -1.4583431076209667\n",
      "\n",
      "Optimization terminated successfully.\n",
      "         Current function value: -1.458343\n",
      "         Iterations: 2\n",
      "         Function evaluations: 31\n",
      "Final updated parameters: [-1.3426798]\n",
      "Final cost: -1.4583431076209667\n",
      "Updated params are [-1.3426798]\n",
      "Updated excitation are [[1, 2, 4, 7]]\n",
      "0: ─╭|Ψ⟩───────────────────────────────────┤  State\n",
      "1: ─├|Ψ⟩─╭FermionicDoubleExcitation(-1.34)─┤  State\n",
      "2: ─├|Ψ⟩─├FermionicDoubleExcitation(-1.34)─┤  State\n",
      "3: ─├|Ψ⟩─│─────────────────────────────────┤  State\n",
      "4: ─├|Ψ⟩─├FermionicDoubleExcitation(-1.34)─┤  State\n",
      "5: ─├|Ψ⟩─│─────────────────────────────────┤  State\n",
      "6: ─├|Ψ⟩─│─────────────────────────────────┤  State\n",
      "7: ─╰|Ψ⟩─╰FermionicDoubleExcitation(-1.34)─┤  State\n",
      "The adapt iteration now is 1\n",
      "The current excitation operator is a⁺(0) a(4)\n",
      "The expectation value of a⁺(0) a(4) is 0.02006814393705599\n",
      "The current excitation operator is a⁺(0) a(6)\n"
     ]
    },
    {
     "name": "stderr",
     "output_type": "stream",
     "text": [
      "/Users/pssrivathsansundar/.virtualenvs/new_venv/lib/python3.11/site-packages/pennylane_lightning/core/_serialize.py:283: ComplexWarning: Casting complex values to real discards the imaginary part\n",
      "  coeffs = np.array(coeffs).astype(self.rtype)\n",
      "/Users/pssrivathsansundar/.virtualenvs/new_venv/lib/python3.11/site-packages/pennylane_lightning/core/_serialize.py:283: ComplexWarning: Casting complex values to real discards the imaginary part\n",
      "  coeffs = np.array(coeffs).astype(self.rtype)\n",
      "/Users/pssrivathsansundar/.virtualenvs/new_venv/lib/python3.11/site-packages/pennylane_lightning/core/_serialize.py:283: ComplexWarning: Casting complex values to real discards the imaginary part\n",
      "  coeffs = np.array(coeffs).astype(self.rtype)\n"
     ]
    },
    {
     "name": "stdout",
     "output_type": "stream",
     "text": [
      "The expectation value of a⁺(0) a(6) is 0.010308612725661378\n",
      "The current excitation operator is a⁺(1) a(5)\n",
      "The expectation value of a⁺(1) a(5) is 0.047363227805999095\n",
      "The current excitation operator is a⁺(1) a(7)\n",
      "The expectation value of a⁺(1) a(7) is 0.00016905381624811034\n",
      "The current excitation operator is a⁺(2) a(4)\n"
     ]
    },
    {
     "name": "stderr",
     "output_type": "stream",
     "text": [
      "/Users/pssrivathsansundar/.virtualenvs/new_venv/lib/python3.11/site-packages/pennylane_lightning/core/_serialize.py:283: ComplexWarning: Casting complex values to real discards the imaginary part\n",
      "  coeffs = np.array(coeffs).astype(self.rtype)\n",
      "/Users/pssrivathsansundar/.virtualenvs/new_venv/lib/python3.11/site-packages/pennylane_lightning/core/_serialize.py:283: ComplexWarning: Casting complex values to real discards the imaginary part\n",
      "  coeffs = np.array(coeffs).astype(self.rtype)\n",
      "/Users/pssrivathsansundar/.virtualenvs/new_venv/lib/python3.11/site-packages/pennylane_lightning/core/_serialize.py:283: ComplexWarning: Casting complex values to real discards the imaginary part\n",
      "  coeffs = np.array(coeffs).astype(self.rtype)\n"
     ]
    },
    {
     "name": "stdout",
     "output_type": "stream",
     "text": [
      "The expectation value of a⁺(2) a(4) is 0.008460239489627035\n",
      "The current excitation operator is a⁺(2) a(6)\n",
      "The expectation value of a⁺(2) a(6) is 0.015040700657067274\n",
      "The current excitation operator is a⁺(3) a(5)\n",
      "The expectation value of a⁺(3) a(5) is 0.017979121308309958\n",
      "The current excitation operator is a⁺(3) a(7)\n"
     ]
    },
    {
     "name": "stderr",
     "output_type": "stream",
     "text": [
      "/Users/pssrivathsansundar/.virtualenvs/new_venv/lib/python3.11/site-packages/pennylane_lightning/core/_serialize.py:283: ComplexWarning: Casting complex values to real discards the imaginary part\n",
      "  coeffs = np.array(coeffs).astype(self.rtype)\n",
      "/Users/pssrivathsansundar/.virtualenvs/new_venv/lib/python3.11/site-packages/pennylane_lightning/core/_serialize.py:283: ComplexWarning: Casting complex values to real discards the imaginary part\n",
      "  coeffs = np.array(coeffs).astype(self.rtype)\n"
     ]
    },
    {
     "name": "stdout",
     "output_type": "stream",
     "text": [
      "The expectation value of a⁺(3) a(7) is 0.006147850840240827\n",
      "The current excitation operator is a⁺(0) a⁺(1) a(4) a(5)\n"
     ]
    },
    {
     "name": "stderr",
     "output_type": "stream",
     "text": [
      "/Users/pssrivathsansundar/.virtualenvs/new_venv/lib/python3.11/site-packages/pennylane_lightning/core/_serialize.py:283: ComplexWarning: Casting complex values to real discards the imaginary part\n",
      "  coeffs = np.array(coeffs).astype(self.rtype)\n"
     ]
    },
    {
     "name": "stdout",
     "output_type": "stream",
     "text": [
      "The expectation value of a⁺(0) a⁺(1) a(4) a(5) is 0.06051254750351202\n",
      "The current excitation operator is a⁺(0) a⁺(1) a(4) a(7)\n"
     ]
    },
    {
     "name": "stderr",
     "output_type": "stream",
     "text": [
      "/Users/pssrivathsansundar/.virtualenvs/new_venv/lib/python3.11/site-packages/pennylane_lightning/core/_serialize.py:283: ComplexWarning: Casting complex values to real discards the imaginary part\n",
      "  coeffs = np.array(coeffs).astype(self.rtype)\n"
     ]
    },
    {
     "name": "stdout",
     "output_type": "stream",
     "text": [
      "The expectation value of a⁺(0) a⁺(1) a(4) a(7) is 0.017374857183100983\n",
      "The current excitation operator is a⁺(0) a⁺(1) a(5) a(6)\n"
     ]
    },
    {
     "name": "stderr",
     "output_type": "stream",
     "text": [
      "/Users/pssrivathsansundar/.virtualenvs/new_venv/lib/python3.11/site-packages/pennylane_lightning/core/_serialize.py:283: ComplexWarning: Casting complex values to real discards the imaginary part\n",
      "  coeffs = np.array(coeffs).astype(self.rtype)\n"
     ]
    },
    {
     "name": "stdout",
     "output_type": "stream",
     "text": [
      "The expectation value of a⁺(0) a⁺(1) a(5) a(6) is 0.005930132544268369\n",
      "The current excitation operator is a⁺(0) a⁺(1) a(6) a(7)\n"
     ]
    },
    {
     "name": "stderr",
     "output_type": "stream",
     "text": [
      "/Users/pssrivathsansundar/.virtualenvs/new_venv/lib/python3.11/site-packages/pennylane_lightning/core/_serialize.py:283: ComplexWarning: Casting complex values to real discards the imaginary part\n",
      "  coeffs = np.array(coeffs).astype(self.rtype)\n"
     ]
    },
    {
     "name": "stdout",
     "output_type": "stream",
     "text": [
      "The expectation value of a⁺(0) a⁺(1) a(6) a(7) is 0.016486447697222285\n",
      "The current excitation operator is a⁺(0) a⁺(2) a(4) a(6)\n"
     ]
    },
    {
     "name": "stderr",
     "output_type": "stream",
     "text": [
      "/Users/pssrivathsansundar/.virtualenvs/new_venv/lib/python3.11/site-packages/pennylane_lightning/core/_serialize.py:283: ComplexWarning: Casting complex values to real discards the imaginary part\n",
      "  coeffs = np.array(coeffs).astype(self.rtype)\n"
     ]
    },
    {
     "name": "stdout",
     "output_type": "stream",
     "text": [
      "The expectation value of a⁺(0) a⁺(2) a(4) a(6) is 0.010956444556614785\n",
      "The current excitation operator is a⁺(0) a⁺(3) a(4) a(5)\n"
     ]
    },
    {
     "name": "stderr",
     "output_type": "stream",
     "text": [
      "/Users/pssrivathsansundar/.virtualenvs/new_venv/lib/python3.11/site-packages/pennylane_lightning/core/_serialize.py:283: ComplexWarning: Casting complex values to real discards the imaginary part\n",
      "  coeffs = np.array(coeffs).astype(self.rtype)\n"
     ]
    },
    {
     "name": "stdout",
     "output_type": "stream",
     "text": [
      "The expectation value of a⁺(0) a⁺(3) a(4) a(5) is 0.005753892196703796\n",
      "The current excitation operator is a⁺(0) a⁺(3) a(4) a(7)\n"
     ]
    },
    {
     "name": "stderr",
     "output_type": "stream",
     "text": [
      "/Users/pssrivathsansundar/.virtualenvs/new_venv/lib/python3.11/site-packages/pennylane_lightning/core/_serialize.py:283: ComplexWarning: Casting complex values to real discards the imaginary part\n",
      "  coeffs = np.array(coeffs).astype(self.rtype)\n"
     ]
    },
    {
     "name": "stdout",
     "output_type": "stream",
     "text": [
      "The expectation value of a⁺(0) a⁺(3) a(4) a(7) is 0.004289501961471606\n",
      "The current excitation operator is a⁺(0) a⁺(3) a(5) a(6)\n"
     ]
    },
    {
     "name": "stderr",
     "output_type": "stream",
     "text": [
      "/Users/pssrivathsansundar/.virtualenvs/new_venv/lib/python3.11/site-packages/pennylane_lightning/core/_serialize.py:283: ComplexWarning: Casting complex values to real discards the imaginary part\n",
      "  coeffs = np.array(coeffs).astype(self.rtype)\n"
     ]
    },
    {
     "name": "stdout",
     "output_type": "stream",
     "text": [
      "The expectation value of a⁺(0) a⁺(3) a(5) a(6) is 0.09758495764278975\n",
      "The current excitation operator is a⁺(0) a⁺(3) a(6) a(7)\n"
     ]
    },
    {
     "name": "stderr",
     "output_type": "stream",
     "text": [
      "/Users/pssrivathsansundar/.virtualenvs/new_venv/lib/python3.11/site-packages/pennylane_lightning/core/_serialize.py:283: ComplexWarning: Casting complex values to real discards the imaginary part\n",
      "  coeffs = np.array(coeffs).astype(self.rtype)\n"
     ]
    },
    {
     "name": "stdout",
     "output_type": "stream",
     "text": [
      "The expectation value of a⁺(0) a⁺(3) a(6) a(7) is 0.006680269247076199\n",
      "The current excitation operator is a⁺(1) a⁺(2) a(4) a(5)\n"
     ]
    },
    {
     "name": "stderr",
     "output_type": "stream",
     "text": [
      "/Users/pssrivathsansundar/.virtualenvs/new_venv/lib/python3.11/site-packages/pennylane_lightning/core/_serialize.py:283: ComplexWarning: Casting complex values to real discards the imaginary part\n",
      "  coeffs = np.array(coeffs).astype(self.rtype)\n"
     ]
    },
    {
     "name": "stdout",
     "output_type": "stream",
     "text": [
      "The expectation value of a⁺(1) a⁺(2) a(4) a(5) is 0.009018928322481077\n",
      "The current excitation operator is a⁺(1) a⁺(2) a(4) a(7)\n"
     ]
    },
    {
     "name": "stderr",
     "output_type": "stream",
     "text": [
      "/Users/pssrivathsansundar/.virtualenvs/new_venv/lib/python3.11/site-packages/pennylane_lightning/core/_serialize.py:283: ComplexWarning: Casting complex values to real discards the imaginary part\n",
      "  coeffs = np.array(coeffs).astype(self.rtype)\n"
     ]
    },
    {
     "name": "stdout",
     "output_type": "stream",
     "text": [
      "The expectation value of a⁺(1) a⁺(2) a(4) a(7) is 0.03095650365795507\n",
      "The current excitation operator is a⁺(1) a⁺(2) a(5) a(6)\n"
     ]
    },
    {
     "name": "stderr",
     "output_type": "stream",
     "text": [
      "/Users/pssrivathsansundar/.virtualenvs/new_venv/lib/python3.11/site-packages/pennylane_lightning/core/_serialize.py:283: ComplexWarning: Casting complex values to real discards the imaginary part\n",
      "  coeffs = np.array(coeffs).astype(self.rtype)\n"
     ]
    },
    {
     "name": "stdout",
     "output_type": "stream",
     "text": [
      "The expectation value of a⁺(1) a⁺(2) a(5) a(6) is 0.029772842183891843\n",
      "The current excitation operator is a⁺(1) a⁺(2) a(6) a(7)\n"
     ]
    },
    {
     "name": "stderr",
     "output_type": "stream",
     "text": [
      "/Users/pssrivathsansundar/.virtualenvs/new_venv/lib/python3.11/site-packages/pennylane_lightning/core/_serialize.py:283: ComplexWarning: Casting complex values to real discards the imaginary part\n",
      "  coeffs = np.array(coeffs).astype(self.rtype)\n"
     ]
    },
    {
     "name": "stdout",
     "output_type": "stream",
     "text": [
      "The expectation value of a⁺(1) a⁺(2) a(6) a(7) is 0.002241021894501484\n",
      "The current excitation operator is a⁺(1) a⁺(3) a(5) a(7)\n"
     ]
    },
    {
     "name": "stderr",
     "output_type": "stream",
     "text": [
      "/Users/pssrivathsansundar/.virtualenvs/new_venv/lib/python3.11/site-packages/pennylane_lightning/core/_serialize.py:283: ComplexWarning: Casting complex values to real discards the imaginary part\n",
      "  coeffs = np.array(coeffs).astype(self.rtype)\n",
      "/Users/pssrivathsansundar/.virtualenvs/new_venv/lib/python3.11/site-packages/pennylane_lightning/core/_serialize.py:283: ComplexWarning: Casting complex values to real discards the imaginary part\n",
      "  coeffs = np.array(coeffs).astype(self.rtype)\n"
     ]
    },
    {
     "name": "stdout",
     "output_type": "stream",
     "text": [
      "The expectation value of a⁺(1) a⁺(3) a(5) a(7) is 0.021928033995515534\n",
      "The current excitation operator is a⁺(2) a⁺(3) a(4) a(5)\n",
      "The expectation value of a⁺(2) a⁺(3) a(4) a(5) is 0.0061604558207854435\n",
      "The current excitation operator is a⁺(2) a⁺(3) a(4) a(7)\n",
      "The expectation value of a⁺(2) a⁺(3) a(4) a(7) is 0.010085561067520335\n",
      "The current excitation operator is a⁺(2) a⁺(3) a(5) a(6)\n"
     ]
    },
    {
     "name": "stderr",
     "output_type": "stream",
     "text": [
      "/Users/pssrivathsansundar/.virtualenvs/new_venv/lib/python3.11/site-packages/pennylane_lightning/core/_serialize.py:283: ComplexWarning: Casting complex values to real discards the imaginary part\n",
      "  coeffs = np.array(coeffs).astype(self.rtype)\n",
      "/Users/pssrivathsansundar/.virtualenvs/new_venv/lib/python3.11/site-packages/pennylane_lightning/core/_serialize.py:283: ComplexWarning: Casting complex values to real discards the imaginary part\n",
      "  coeffs = np.array(coeffs).astype(self.rtype)\n"
     ]
    },
    {
     "name": "stdout",
     "output_type": "stream",
     "text": [
      "The expectation value of a⁺(2) a⁺(3) a(5) a(6) is 0.0017283833684476437\n",
      "The current excitation operator is a⁺(2) a⁺(3) a(6) a(7)\n"
     ]
    },
    {
     "name": "stderr",
     "output_type": "stream",
     "text": [
      "/Users/pssrivathsansundar/.virtualenvs/new_venv/lib/python3.11/site-packages/pennylane_lightning/core/_serialize.py:283: ComplexWarning: Casting complex values to real discards the imaginary part\n",
      "  coeffs = np.array(coeffs).astype(self.rtype)\n"
     ]
    },
    {
     "name": "stdout",
     "output_type": "stream",
     "text": [
      "The expectation value of a⁺(2) a⁺(3) a(6) a(7) is 0.03990854289168957\n",
      "The highest operator value is 0.09758495764278975 for operator a⁺(0) a⁺(3) a(5) a(6)\n",
      "Highest gradient excitation is [0, 3, 5, 6]\n",
      "The current status of ash_excitation is [[1, 2, 4, 7], [0, 3, 5, 6]]\n",
      "Parameters before optimization are [-1.3426798  0.       ]\n",
      "Current parameters: [-1.3426798 -1.08889  ]\n",
      "Current cost: -1.4745366892085603\n",
      "\n",
      "Current parameters: [-1.46427635 -1.10488491]\n",
      "Current cost: -1.474740600753565\n",
      "\n",
      "Current parameters: [-1.46648085 -1.10517494]\n",
      "Current cost: -1.474740665598764\n",
      "\n",
      "Optimization terminated successfully.\n",
      "         Current function value: -1.474741\n",
      "         Iterations: 3\n",
      "         Function evaluations: 192\n",
      "Final updated parameters: [-1.46648085 -1.10517494]\n",
      "Final cost: -1.474740665598764\n",
      "Updated params are [-1.46648085 -1.10517494]\n",
      "Updated excitation are [[1, 2, 4, 7], [0, 3, 5, 6]]\n",
      "0: ─╭|Ψ⟩───────────────────────────────────╭FermionicDoubleExcitation(-1.11)─┤  State\n",
      "1: ─├|Ψ⟩─╭FermionicDoubleExcitation(-1.47)─│─────────────────────────────────┤  State\n",
      "2: ─├|Ψ⟩─├FermionicDoubleExcitation(-1.47)─│─────────────────────────────────┤  State\n",
      "3: ─├|Ψ⟩─│─────────────────────────────────├FermionicDoubleExcitation(-1.11)─┤  State\n",
      "4: ─├|Ψ⟩─├FermionicDoubleExcitation(-1.47)─│─────────────────────────────────┤  State\n",
      "5: ─├|Ψ⟩─│─────────────────────────────────├FermionicDoubleExcitation(-1.11)─┤  State\n",
      "6: ─├|Ψ⟩─│─────────────────────────────────╰FermionicDoubleExcitation(-1.11)─┤  State\n",
      "7: ─╰|Ψ⟩─╰FermionicDoubleExcitation(-1.47)───────────────────────────────────┤  State\n",
      "The adapt iteration now is 2\n",
      "The current excitation operator is a⁺(0) a(4)\n",
      "The expectation value of a⁺(0) a(4) is 0.021303692518229323\n",
      "The current excitation operator is a⁺(0) a(6)\n",
      "The expectation value of a⁺(0) a(6) is 0.0019262966702974595\n",
      "The current excitation operator is a⁺(1) a(5)\n"
     ]
    },
    {
     "name": "stderr",
     "output_type": "stream",
     "text": [
      "/Users/pssrivathsansundar/.virtualenvs/new_venv/lib/python3.11/site-packages/pennylane_lightning/core/_serialize.py:283: ComplexWarning: Casting complex values to real discards the imaginary part\n",
      "  coeffs = np.array(coeffs).astype(self.rtype)\n",
      "/Users/pssrivathsansundar/.virtualenvs/new_venv/lib/python3.11/site-packages/pennylane_lightning/core/_serialize.py:283: ComplexWarning: Casting complex values to real discards the imaginary part\n",
      "  coeffs = np.array(coeffs).astype(self.rtype)\n",
      "/Users/pssrivathsansundar/.virtualenvs/new_venv/lib/python3.11/site-packages/pennylane_lightning/core/_serialize.py:283: ComplexWarning: Casting complex values to real discards the imaginary part\n",
      "  coeffs = np.array(coeffs).astype(self.rtype)\n",
      "/Users/pssrivathsansundar/.virtualenvs/new_venv/lib/python3.11/site-packages/pennylane_lightning/core/_serialize.py:283: ComplexWarning: Casting complex values to real discards the imaginary part\n",
      "  coeffs = np.array(coeffs).astype(self.rtype)\n"
     ]
    },
    {
     "name": "stdout",
     "output_type": "stream",
     "text": [
      "The expectation value of a⁺(1) a(5) is 0.031892092557464224\n",
      "The current excitation operator is a⁺(1) a(7)\n",
      "The expectation value of a⁺(1) a(7) is 0.00036809788507564424\n",
      "The current excitation operator is a⁺(2) a(4)\n",
      "The expectation value of a⁺(2) a(4) is 0.0032032666577525844\n",
      "The current excitation operator is a⁺(2) a(6)\n"
     ]
    },
    {
     "name": "stderr",
     "output_type": "stream",
     "text": [
      "/Users/pssrivathsansundar/.virtualenvs/new_venv/lib/python3.11/site-packages/pennylane_lightning/core/_serialize.py:283: ComplexWarning: Casting complex values to real discards the imaginary part\n",
      "  coeffs = np.array(coeffs).astype(self.rtype)\n",
      "/Users/pssrivathsansundar/.virtualenvs/new_venv/lib/python3.11/site-packages/pennylane_lightning/core/_serialize.py:283: ComplexWarning: Casting complex values to real discards the imaginary part\n",
      "  coeffs = np.array(coeffs).astype(self.rtype)\n",
      "/Users/pssrivathsansundar/.virtualenvs/new_venv/lib/python3.11/site-packages/pennylane_lightning/core/_serialize.py:283: ComplexWarning: Casting complex values to real discards the imaginary part\n",
      "  coeffs = np.array(coeffs).astype(self.rtype)\n"
     ]
    },
    {
     "name": "stdout",
     "output_type": "stream",
     "text": [
      "The expectation value of a⁺(2) a(6) is 0.011711399302466653\n",
      "The current excitation operator is a⁺(3) a(5)\n",
      "The expectation value of a⁺(3) a(5) is 0.0245208926359366\n",
      "The current excitation operator is a⁺(3) a(7)\n",
      "The expectation value of a⁺(3) a(7) is 0.013711974531986712\n",
      "The current excitation operator is a⁺(0) a⁺(1) a(4) a(5)\n"
     ]
    },
    {
     "name": "stderr",
     "output_type": "stream",
     "text": [
      "/Users/pssrivathsansundar/.virtualenvs/new_venv/lib/python3.11/site-packages/pennylane_lightning/core/_serialize.py:283: ComplexWarning: Casting complex values to real discards the imaginary part\n",
      "  coeffs = np.array(coeffs).astype(self.rtype)\n",
      "/Users/pssrivathsansundar/.virtualenvs/new_venv/lib/python3.11/site-packages/pennylane_lightning/core/_serialize.py:283: ComplexWarning: Casting complex values to real discards the imaginary part\n",
      "  coeffs = np.array(coeffs).astype(self.rtype)\n"
     ]
    },
    {
     "name": "stdout",
     "output_type": "stream",
     "text": [
      "The expectation value of a⁺(0) a⁺(1) a(4) a(5) is 0.03862565804323095\n",
      "The current excitation operator is a⁺(0) a⁺(1) a(4) a(7)\n"
     ]
    },
    {
     "name": "stderr",
     "output_type": "stream",
     "text": [
      "/Users/pssrivathsansundar/.virtualenvs/new_venv/lib/python3.11/site-packages/pennylane_lightning/core/_serialize.py:283: ComplexWarning: Casting complex values to real discards the imaginary part\n",
      "  coeffs = np.array(coeffs).astype(self.rtype)\n"
     ]
    },
    {
     "name": "stdout",
     "output_type": "stream",
     "text": [
      "The expectation value of a⁺(0) a⁺(1) a(4) a(7) is 0.013326420452296381\n",
      "The current excitation operator is a⁺(0) a⁺(1) a(5) a(6)\n"
     ]
    },
    {
     "name": "stderr",
     "output_type": "stream",
     "text": [
      "/Users/pssrivathsansundar/.virtualenvs/new_venv/lib/python3.11/site-packages/pennylane_lightning/core/_serialize.py:283: ComplexWarning: Casting complex values to real discards the imaginary part\n",
      "  coeffs = np.array(coeffs).astype(self.rtype)\n"
     ]
    },
    {
     "name": "stdout",
     "output_type": "stream",
     "text": [
      "The expectation value of a⁺(0) a⁺(1) a(5) a(6) is 0.009212055111173135\n",
      "The current excitation operator is a⁺(0) a⁺(1) a(6) a(7)\n"
     ]
    },
    {
     "name": "stderr",
     "output_type": "stream",
     "text": [
      "/Users/pssrivathsansundar/.virtualenvs/new_venv/lib/python3.11/site-packages/pennylane_lightning/core/_serialize.py:283: ComplexWarning: Casting complex values to real discards the imaginary part\n",
      "  coeffs = np.array(coeffs).astype(self.rtype)\n"
     ]
    },
    {
     "name": "stdout",
     "output_type": "stream",
     "text": [
      "The expectation value of a⁺(0) a⁺(1) a(6) a(7) is 0.021565729279232376\n",
      "The current excitation operator is a⁺(0) a⁺(2) a(4) a(6)\n"
     ]
    },
    {
     "name": "stderr",
     "output_type": "stream",
     "text": [
      "/Users/pssrivathsansundar/.virtualenvs/new_venv/lib/python3.11/site-packages/pennylane_lightning/core/_serialize.py:283: ComplexWarning: Casting complex values to real discards the imaginary part\n",
      "  coeffs = np.array(coeffs).astype(self.rtype)\n"
     ]
    },
    {
     "name": "stdout",
     "output_type": "stream",
     "text": [
      "The expectation value of a⁺(0) a⁺(2) a(4) a(6) is 0.009048359700466647\n",
      "The current excitation operator is a⁺(0) a⁺(3) a(4) a(5)\n"
     ]
    },
    {
     "name": "stderr",
     "output_type": "stream",
     "text": [
      "/Users/pssrivathsansundar/.virtualenvs/new_venv/lib/python3.11/site-packages/pennylane_lightning/core/_serialize.py:283: ComplexWarning: Casting complex values to real discards the imaginary part\n",
      "  coeffs = np.array(coeffs).astype(self.rtype)\n"
     ]
    },
    {
     "name": "stdout",
     "output_type": "stream",
     "text": [
      "The expectation value of a⁺(0) a⁺(3) a(4) a(5) is 0.006546814540160929\n",
      "The current excitation operator is a⁺(0) a⁺(3) a(4) a(7)\n"
     ]
    },
    {
     "name": "stderr",
     "output_type": "stream",
     "text": [
      "/Users/pssrivathsansundar/.virtualenvs/new_venv/lib/python3.11/site-packages/pennylane_lightning/core/_serialize.py:283: ComplexWarning: Casting complex values to real discards the imaginary part\n",
      "  coeffs = np.array(coeffs).astype(self.rtype)\n"
     ]
    },
    {
     "name": "stdout",
     "output_type": "stream",
     "text": [
      "The expectation value of a⁺(0) a⁺(3) a(4) a(7) is 0.008342613562950952\n",
      "The current excitation operator is a⁺(0) a⁺(3) a(5) a(6)\n"
     ]
    },
    {
     "name": "stderr",
     "output_type": "stream",
     "text": [
      "/Users/pssrivathsansundar/.virtualenvs/new_venv/lib/python3.11/site-packages/pennylane_lightning/core/_serialize.py:283: ComplexWarning: Casting complex values to real discards the imaginary part\n",
      "  coeffs = np.array(coeffs).astype(self.rtype)\n"
     ]
    },
    {
     "name": "stdout",
     "output_type": "stream",
     "text": [
      "The expectation value of a⁺(0) a⁺(3) a(5) a(6) is 0.02283673045480202\n",
      "The current excitation operator is a⁺(0) a⁺(3) a(6) a(7)\n"
     ]
    },
    {
     "name": "stderr",
     "output_type": "stream",
     "text": [
      "/Users/pssrivathsansundar/.virtualenvs/new_venv/lib/python3.11/site-packages/pennylane_lightning/core/_serialize.py:283: ComplexWarning: Casting complex values to real discards the imaginary part\n",
      "  coeffs = np.array(coeffs).astype(self.rtype)\n"
     ]
    },
    {
     "name": "stdout",
     "output_type": "stream",
     "text": [
      "The expectation value of a⁺(0) a⁺(3) a(6) a(7) is 0.003207791027991826\n",
      "The current excitation operator is a⁺(1) a⁺(2) a(4) a(5)\n"
     ]
    },
    {
     "name": "stderr",
     "output_type": "stream",
     "text": [
      "/Users/pssrivathsansundar/.virtualenvs/new_venv/lib/python3.11/site-packages/pennylane_lightning/core/_serialize.py:283: ComplexWarning: Casting complex values to real discards the imaginary part\n",
      "  coeffs = np.array(coeffs).astype(self.rtype)\n"
     ]
    },
    {
     "name": "stdout",
     "output_type": "stream",
     "text": [
      "The expectation value of a⁺(1) a⁺(2) a(4) a(5) is 0.006864568449185828\n",
      "The current excitation operator is a⁺(1) a⁺(2) a(4) a(7)\n"
     ]
    },
    {
     "name": "stderr",
     "output_type": "stream",
     "text": [
      "/Users/pssrivathsansundar/.virtualenvs/new_venv/lib/python3.11/site-packages/pennylane_lightning/core/_serialize.py:283: ComplexWarning: Casting complex values to real discards the imaginary part\n",
      "  coeffs = np.array(coeffs).astype(self.rtype)\n"
     ]
    },
    {
     "name": "stdout",
     "output_type": "stream",
     "text": [
      "The expectation value of a⁺(1) a⁺(2) a(4) a(7) is 0.01560499053514599\n",
      "The current excitation operator is a⁺(1) a⁺(2) a(5) a(6)\n"
     ]
    },
    {
     "name": "stderr",
     "output_type": "stream",
     "text": [
      "/Users/pssrivathsansundar/.virtualenvs/new_venv/lib/python3.11/site-packages/pennylane_lightning/core/_serialize.py:283: ComplexWarning: Casting complex values to real discards the imaginary part\n",
      "  coeffs = np.array(coeffs).astype(self.rtype)\n"
     ]
    },
    {
     "name": "stdout",
     "output_type": "stream",
     "text": [
      "The expectation value of a⁺(1) a⁺(2) a(5) a(6) is 0.020676408516393678\n",
      "The current excitation operator is a⁺(1) a⁺(2) a(6) a(7)\n"
     ]
    },
    {
     "name": "stderr",
     "output_type": "stream",
     "text": [
      "/Users/pssrivathsansundar/.virtualenvs/new_venv/lib/python3.11/site-packages/pennylane_lightning/core/_serialize.py:283: ComplexWarning: Casting complex values to real discards the imaginary part\n",
      "  coeffs = np.array(coeffs).astype(self.rtype)\n"
     ]
    },
    {
     "name": "stdout",
     "output_type": "stream",
     "text": [
      "The expectation value of a⁺(1) a⁺(2) a(6) a(7) is 0.00019569469106698977\n",
      "The current excitation operator is a⁺(1) a⁺(3) a(5) a(7)\n"
     ]
    },
    {
     "name": "stderr",
     "output_type": "stream",
     "text": [
      "/Users/pssrivathsansundar/.virtualenvs/new_venv/lib/python3.11/site-packages/pennylane_lightning/core/_serialize.py:283: ComplexWarning: Casting complex values to real discards the imaginary part\n",
      "  coeffs = np.array(coeffs).astype(self.rtype)\n"
     ]
    },
    {
     "name": "stdout",
     "output_type": "stream",
     "text": [
      "The expectation value of a⁺(1) a⁺(3) a(5) a(7) is 0.017615140706856075\n",
      "The current excitation operator is a⁺(2) a⁺(3) a(4) a(5)\n"
     ]
    },
    {
     "name": "stderr",
     "output_type": "stream",
     "text": [
      "/Users/pssrivathsansundar/.virtualenvs/new_venv/lib/python3.11/site-packages/pennylane_lightning/core/_serialize.py:283: ComplexWarning: Casting complex values to real discards the imaginary part\n",
      "  coeffs = np.array(coeffs).astype(self.rtype)\n"
     ]
    },
    {
     "name": "stdout",
     "output_type": "stream",
     "text": [
      "The expectation value of a⁺(2) a⁺(3) a(4) a(5) is 0.010065614531608097\n",
      "The current excitation operator is a⁺(2) a⁺(3) a(4) a(7)\n"
     ]
    },
    {
     "name": "stderr",
     "output_type": "stream",
     "text": [
      "/Users/pssrivathsansundar/.virtualenvs/new_venv/lib/python3.11/site-packages/pennylane_lightning/core/_serialize.py:283: ComplexWarning: Casting complex values to real discards the imaginary part\n",
      "  coeffs = np.array(coeffs).astype(self.rtype)\n"
     ]
    },
    {
     "name": "stdout",
     "output_type": "stream",
     "text": [
      "The expectation value of a⁺(2) a⁺(3) a(4) a(7) is 0.010861900221935292\n",
      "The current excitation operator is a⁺(2) a⁺(3) a(5) a(6)\n"
     ]
    },
    {
     "name": "stderr",
     "output_type": "stream",
     "text": [
      "/Users/pssrivathsansundar/.virtualenvs/new_venv/lib/python3.11/site-packages/pennylane_lightning/core/_serialize.py:283: ComplexWarning: Casting complex values to real discards the imaginary part\n",
      "  coeffs = np.array(coeffs).astype(self.rtype)\n"
     ]
    },
    {
     "name": "stdout",
     "output_type": "stream",
     "text": [
      "The expectation value of a⁺(2) a⁺(3) a(5) a(6) is 0.0013005790614997823\n",
      "The current excitation operator is a⁺(2) a⁺(3) a(6) a(7)\n"
     ]
    },
    {
     "name": "stderr",
     "output_type": "stream",
     "text": [
      "/Users/pssrivathsansundar/.virtualenvs/new_venv/lib/python3.11/site-packages/pennylane_lightning/core/_serialize.py:283: ComplexWarning: Casting complex values to real discards the imaginary part\n",
      "  coeffs = np.array(coeffs).astype(self.rtype)\n"
     ]
    },
    {
     "name": "stdout",
     "output_type": "stream",
     "text": [
      "The expectation value of a⁺(2) a⁺(3) a(6) a(7) is 0.014369905944722127\n",
      "The highest operator value is 0.03862565804323095 for operator a⁺(0) a⁺(1) a(4) a(5)\n",
      "Highest gradient excitation is [0, 1, 4, 5]\n",
      "The current status of ash_excitation is [[1, 2, 4, 7], [0, 3, 5, 6], [0, 1, 4, 5]]\n",
      "Parameters before optimization are [-1.46648085 -1.10517494  0.        ]\n",
      "Current parameters: [-1.46648063 -1.10517795  0.43674923]\n",
      "Current cost: -1.4790391177949493\n",
      "\n",
      "Current parameters: [-0.98101637 -0.85314765  0.7910467 ]\n",
      "Current cost: -1.485747287200709\n",
      "\n",
      "Current parameters: [ 0.98371459 -0.40729276  2.06150888]\n",
      "Current cost: -1.5165068219661912\n",
      "\n",
      "Current parameters: [ 1.07221165 -0.48141196  2.16789459]\n",
      "Current cost: -1.517731911092475\n",
      "\n",
      "Current parameters: [ 1.32457662 -0.69768204  2.51804871]\n",
      "Current cost: -1.5193701369859933\n",
      "\n",
      "Current parameters: [ 1.3174269  -0.69392239  2.52342957]\n",
      "Current cost: -1.5193775986426248\n",
      "\n",
      "Current parameters: [ 1.31473438 -0.69250614  2.52545224]\n",
      "Current cost: -1.5193782017765314\n",
      "\n",
      "Optimization terminated successfully.\n",
      "         Current function value: -1.519378\n",
      "         Iterations: 7\n",
      "         Function evaluations: 435\n",
      "Final updated parameters: [ 1.31473438 -0.69250614  2.52545224]\n",
      "Final cost: -1.5193782017765312\n",
      "Updated params are [ 1.31473438 -0.69250614  2.52545224]\n",
      "Updated excitation are [[1, 2, 4, 7], [0, 3, 5, 6], [0, 1, 4, 5]]\n",
      "0: ─╭|Ψ⟩──────────────────────────────────╭FermionicDoubleExcitation(-0.69)\n",
      "1: ─├|Ψ⟩─╭FermionicDoubleExcitation(1.31)─│────────────────────────────────\n",
      "2: ─├|Ψ⟩─├FermionicDoubleExcitation(1.31)─│────────────────────────────────\n",
      "3: ─├|Ψ⟩─│────────────────────────────────├FermionicDoubleExcitation(-0.69)\n",
      "4: ─├|Ψ⟩─├FermionicDoubleExcitation(1.31)─│────────────────────────────────\n",
      "5: ─├|Ψ⟩─│────────────────────────────────├FermionicDoubleExcitation(-0.69)\n",
      "6: ─├|Ψ⟩─│────────────────────────────────╰FermionicDoubleExcitation(-0.69)\n",
      "7: ─╰|Ψ⟩─╰FermionicDoubleExcitation(1.31)──────────────────────────────────\n",
      "\n",
      "──╭FermionicDoubleExcitation(2.53)─┤  State\n",
      "──├FermionicDoubleExcitation(2.53)─┤  State\n",
      "──│────────────────────────────────┤  State\n",
      "──│────────────────────────────────┤  State\n",
      "──├FermionicDoubleExcitation(2.53)─┤  State\n",
      "──╰FermionicDoubleExcitation(2.53)─┤  State\n",
      "───────────────────────────────────┤  State\n",
      "───────────────────────────────────┤  State\n",
      "The adapt iteration now is 3\n",
      "The current excitation operator is a⁺(0) a(4)\n",
      "The expectation value of a⁺(0) a(4) is 0.04925765318236382\n",
      "The current excitation operator is a⁺(0) a(6)\n"
     ]
    },
    {
     "name": "stderr",
     "output_type": "stream",
     "text": [
      "/Users/pssrivathsansundar/.virtualenvs/new_venv/lib/python3.11/site-packages/pennylane_lightning/core/_serialize.py:283: ComplexWarning: Casting complex values to real discards the imaginary part\n",
      "  coeffs = np.array(coeffs).astype(self.rtype)\n",
      "/Users/pssrivathsansundar/.virtualenvs/new_venv/lib/python3.11/site-packages/pennylane_lightning/core/_serialize.py:283: ComplexWarning: Casting complex values to real discards the imaginary part\n",
      "  coeffs = np.array(coeffs).astype(self.rtype)\n"
     ]
    },
    {
     "name": "stdout",
     "output_type": "stream",
     "text": [
      "The expectation value of a⁺(0) a(6) is 0.037888452095681674\n",
      "The current excitation operator is a⁺(1) a(5)\n"
     ]
    },
    {
     "name": "stderr",
     "output_type": "stream",
     "text": [
      "/Users/pssrivathsansundar/.virtualenvs/new_venv/lib/python3.11/site-packages/pennylane_lightning/core/_serialize.py:283: ComplexWarning: Casting complex values to real discards the imaginary part\n",
      "  coeffs = np.array(coeffs).astype(self.rtype)\n",
      "/Users/pssrivathsansundar/.virtualenvs/new_venv/lib/python3.11/site-packages/pennylane_lightning/core/_serialize.py:283: ComplexWarning: Casting complex values to real discards the imaginary part\n",
      "  coeffs = np.array(coeffs).astype(self.rtype)\n"
     ]
    },
    {
     "name": "stdout",
     "output_type": "stream",
     "text": [
      "The expectation value of a⁺(1) a(5) is 0.04034215548384568\n",
      "The current excitation operator is a⁺(1) a(7)\n",
      "The expectation value of a⁺(1) a(7) is 0.026448406681454314\n",
      "The current excitation operator is a⁺(2) a(4)\n"
     ]
    },
    {
     "name": "stderr",
     "output_type": "stream",
     "text": [
      "/Users/pssrivathsansundar/.virtualenvs/new_venv/lib/python3.11/site-packages/pennylane_lightning/core/_serialize.py:283: ComplexWarning: Casting complex values to real discards the imaginary part\n",
      "  coeffs = np.array(coeffs).astype(self.rtype)\n",
      "/Users/pssrivathsansundar/.virtualenvs/new_venv/lib/python3.11/site-packages/pennylane_lightning/core/_serialize.py:283: ComplexWarning: Casting complex values to real discards the imaginary part\n",
      "  coeffs = np.array(coeffs).astype(self.rtype)\n",
      "/Users/pssrivathsansundar/.virtualenvs/new_venv/lib/python3.11/site-packages/pennylane_lightning/core/_serialize.py:283: ComplexWarning: Casting complex values to real discards the imaginary part\n",
      "  coeffs = np.array(coeffs).astype(self.rtype)\n"
     ]
    },
    {
     "name": "stdout",
     "output_type": "stream",
     "text": [
      "The expectation value of a⁺(2) a(4) is 0.03606834891674013\n",
      "The current excitation operator is a⁺(2) a(6)\n",
      "The expectation value of a⁺(2) a(6) is 0.019427892551203713\n",
      "The current excitation operator is a⁺(3) a(5)\n",
      "The expectation value of a⁺(3) a(5) is 0.02505964792984854\n",
      "The current excitation operator is a⁺(3) a(7)\n"
     ]
    },
    {
     "name": "stderr",
     "output_type": "stream",
     "text": [
      "/Users/pssrivathsansundar/.virtualenvs/new_venv/lib/python3.11/site-packages/pennylane_lightning/core/_serialize.py:283: ComplexWarning: Casting complex values to real discards the imaginary part\n",
      "  coeffs = np.array(coeffs).astype(self.rtype)\n",
      "/Users/pssrivathsansundar/.virtualenvs/new_venv/lib/python3.11/site-packages/pennylane_lightning/core/_serialize.py:283: ComplexWarning: Casting complex values to real discards the imaginary part\n",
      "  coeffs = np.array(coeffs).astype(self.rtype)\n"
     ]
    },
    {
     "name": "stdout",
     "output_type": "stream",
     "text": [
      "The expectation value of a⁺(3) a(7) is 0.013448772812227776\n",
      "The current excitation operator is a⁺(0) a⁺(1) a(4) a(5)\n",
      "The expectation value of a⁺(0) a⁺(1) a(4) a(5) is 3.5353030777811236e-09\n",
      "The current excitation operator is a⁺(0) a⁺(1) a(4) a(7)\n"
     ]
    },
    {
     "name": "stderr",
     "output_type": "stream",
     "text": [
      "/Users/pssrivathsansundar/.virtualenvs/new_venv/lib/python3.11/site-packages/pennylane_lightning/core/_serialize.py:283: ComplexWarning: Casting complex values to real discards the imaginary part\n",
      "  coeffs = np.array(coeffs).astype(self.rtype)\n"
     ]
    },
    {
     "name": "stdout",
     "output_type": "stream",
     "text": [
      "The expectation value of a⁺(0) a⁺(1) a(4) a(7) is 0.005287097688108603\n",
      "The current excitation operator is a⁺(0) a⁺(1) a(5) a(6)\n"
     ]
    },
    {
     "name": "stderr",
     "output_type": "stream",
     "text": [
      "/Users/pssrivathsansundar/.virtualenvs/new_venv/lib/python3.11/site-packages/pennylane_lightning/core/_serialize.py:283: ComplexWarning: Casting complex values to real discards the imaginary part\n",
      "  coeffs = np.array(coeffs).astype(self.rtype)\n"
     ]
    },
    {
     "name": "stdout",
     "output_type": "stream",
     "text": [
      "The expectation value of a⁺(0) a⁺(1) a(5) a(6) is 0.015254732318872432\n",
      "The current excitation operator is a⁺(0) a⁺(1) a(6) a(7)\n"
     ]
    },
    {
     "name": "stderr",
     "output_type": "stream",
     "text": [
      "/Users/pssrivathsansundar/.virtualenvs/new_venv/lib/python3.11/site-packages/pennylane_lightning/core/_serialize.py:283: ComplexWarning: Casting complex values to real discards the imaginary part\n",
      "  coeffs = np.array(coeffs).astype(self.rtype)\n"
     ]
    },
    {
     "name": "stdout",
     "output_type": "stream",
     "text": [
      "The expectation value of a⁺(0) a⁺(1) a(6) a(7) is 0.028691392715847586\n",
      "The current excitation operator is a⁺(0) a⁺(2) a(4) a(6)\n"
     ]
    },
    {
     "name": "stderr",
     "output_type": "stream",
     "text": [
      "/Users/pssrivathsansundar/.virtualenvs/new_venv/lib/python3.11/site-packages/pennylane_lightning/core/_serialize.py:283: ComplexWarning: Casting complex values to real discards the imaginary part\n",
      "  coeffs = np.array(coeffs).astype(self.rtype)\n"
     ]
    },
    {
     "name": "stdout",
     "output_type": "stream",
     "text": [
      "The expectation value of a⁺(0) a⁺(2) a(4) a(6) is 0.002288277968662689\n",
      "The current excitation operator is a⁺(0) a⁺(3) a(4) a(5)\n"
     ]
    },
    {
     "name": "stderr",
     "output_type": "stream",
     "text": [
      "/Users/pssrivathsansundar/.virtualenvs/new_venv/lib/python3.11/site-packages/pennylane_lightning/core/_serialize.py:283: ComplexWarning: Casting complex values to real discards the imaginary part\n",
      "  coeffs = np.array(coeffs).astype(self.rtype)\n"
     ]
    },
    {
     "name": "stdout",
     "output_type": "stream",
     "text": [
      "The expectation value of a⁺(0) a⁺(3) a(4) a(5) is 0.01246403871995055\n",
      "The current excitation operator is a⁺(0) a⁺(3) a(4) a(7)\n"
     ]
    },
    {
     "name": "stderr",
     "output_type": "stream",
     "text": [
      "/Users/pssrivathsansundar/.virtualenvs/new_venv/lib/python3.11/site-packages/pennylane_lightning/core/_serialize.py:283: ComplexWarning: Casting complex values to real discards the imaginary part\n",
      "  coeffs = np.array(coeffs).astype(self.rtype)\n"
     ]
    },
    {
     "name": "stdout",
     "output_type": "stream",
     "text": [
      "The expectation value of a⁺(0) a⁺(3) a(4) a(7) is 0.017859499989304528\n",
      "The current excitation operator is a⁺(0) a⁺(3) a(5) a(6)\n"
     ]
    },
    {
     "name": "stderr",
     "output_type": "stream",
     "text": [
      "/Users/pssrivathsansundar/.virtualenvs/new_venv/lib/python3.11/site-packages/pennylane_lightning/core/_serialize.py:283: ComplexWarning: Casting complex values to real discards the imaginary part\n",
      "  coeffs = np.array(coeffs).astype(self.rtype)\n"
     ]
    },
    {
     "name": "stdout",
     "output_type": "stream",
     "text": [
      "The expectation value of a⁺(0) a⁺(3) a(5) a(6) is 0.047352859882085506\n",
      "The current excitation operator is a⁺(0) a⁺(3) a(6) a(7)\n"
     ]
    },
    {
     "name": "stderr",
     "output_type": "stream",
     "text": [
      "/Users/pssrivathsansundar/.virtualenvs/new_venv/lib/python3.11/site-packages/pennylane_lightning/core/_serialize.py:283: ComplexWarning: Casting complex values to real discards the imaginary part\n",
      "  coeffs = np.array(coeffs).astype(self.rtype)\n"
     ]
    },
    {
     "name": "stdout",
     "output_type": "stream",
     "text": [
      "The expectation value of a⁺(0) a⁺(3) a(6) a(7) is 0.00029566125313477623\n",
      "The current excitation operator is a⁺(1) a⁺(2) a(4) a(5)\n"
     ]
    },
    {
     "name": "stderr",
     "output_type": "stream",
     "text": [
      "/Users/pssrivathsansundar/.virtualenvs/new_venv/lib/python3.11/site-packages/pennylane_lightning/core/_serialize.py:283: ComplexWarning: Casting complex values to real discards the imaginary part\n",
      "  coeffs = np.array(coeffs).astype(self.rtype)\n"
     ]
    },
    {
     "name": "stdout",
     "output_type": "stream",
     "text": [
      "The expectation value of a⁺(1) a⁺(2) a(4) a(5) is 2.4574687625191913e-05\n",
      "The current excitation operator is a⁺(1) a⁺(2) a(4) a(7)\n"
     ]
    },
    {
     "name": "stderr",
     "output_type": "stream",
     "text": [
      "/Users/pssrivathsansundar/.virtualenvs/new_venv/lib/python3.11/site-packages/pennylane_lightning/core/_serialize.py:283: ComplexWarning: Casting complex values to real discards the imaginary part\n",
      "  coeffs = np.array(coeffs).astype(self.rtype)\n"
     ]
    },
    {
     "name": "stdout",
     "output_type": "stream",
     "text": [
      "The expectation value of a⁺(1) a⁺(2) a(4) a(7) is 0.020369331019260774\n",
      "The current excitation operator is a⁺(1) a⁺(2) a(5) a(6)\n"
     ]
    },
    {
     "name": "stderr",
     "output_type": "stream",
     "text": [
      "/Users/pssrivathsansundar/.virtualenvs/new_venv/lib/python3.11/site-packages/pennylane_lightning/core/_serialize.py:283: ComplexWarning: Casting complex values to real discards the imaginary part\n",
      "  coeffs = np.array(coeffs).astype(self.rtype)\n"
     ]
    },
    {
     "name": "stdout",
     "output_type": "stream",
     "text": [
      "The expectation value of a⁺(1) a⁺(2) a(5) a(6) is 0.01935303566862271\n",
      "The current excitation operator is a⁺(1) a⁺(2) a(6) a(7)\n"
     ]
    },
    {
     "name": "stderr",
     "output_type": "stream",
     "text": [
      "/Users/pssrivathsansundar/.virtualenvs/new_venv/lib/python3.11/site-packages/pennylane_lightning/core/_serialize.py:283: ComplexWarning: Casting complex values to real discards the imaginary part\n",
      "  coeffs = np.array(coeffs).astype(self.rtype)\n",
      "/Users/pssrivathsansundar/.virtualenvs/new_venv/lib/python3.11/site-packages/pennylane_lightning/core/_serialize.py:283: ComplexWarning: Casting complex values to real discards the imaginary part\n",
      "  coeffs = np.array(coeffs).astype(self.rtype)\n"
     ]
    },
    {
     "name": "stdout",
     "output_type": "stream",
     "text": [
      "The expectation value of a⁺(1) a⁺(2) a(6) a(7) is 0.005423931892987179\n",
      "The current excitation operator is a⁺(1) a⁺(3) a(5) a(7)\n",
      "The expectation value of a⁺(1) a⁺(3) a(5) a(7) is 0.001124500059232185\n",
      "The current excitation operator is a⁺(2) a⁺(3) a(4) a(5)\n"
     ]
    },
    {
     "name": "stderr",
     "output_type": "stream",
     "text": [
      "/Users/pssrivathsansundar/.virtualenvs/new_venv/lib/python3.11/site-packages/pennylane_lightning/core/_serialize.py:283: ComplexWarning: Casting complex values to real discards the imaginary part\n",
      "  coeffs = np.array(coeffs).astype(self.rtype)\n"
     ]
    },
    {
     "name": "stdout",
     "output_type": "stream",
     "text": [
      "The expectation value of a⁺(2) a⁺(3) a(4) a(5) is 0.008413710301054355\n",
      "The current excitation operator is a⁺(2) a⁺(3) a(4) a(7)\n"
     ]
    },
    {
     "name": "stderr",
     "output_type": "stream",
     "text": [
      "/Users/pssrivathsansundar/.virtualenvs/new_venv/lib/python3.11/site-packages/pennylane_lightning/core/_serialize.py:283: ComplexWarning: Casting complex values to real discards the imaginary part\n",
      "  coeffs = np.array(coeffs).astype(self.rtype)\n"
     ]
    },
    {
     "name": "stdout",
     "output_type": "stream",
     "text": [
      "The expectation value of a⁺(2) a⁺(3) a(4) a(7) is 0.00017149223448106724\n",
      "The current excitation operator is a⁺(2) a⁺(3) a(5) a(6)\n"
     ]
    },
    {
     "name": "stderr",
     "output_type": "stream",
     "text": [
      "/Users/pssrivathsansundar/.virtualenvs/new_venv/lib/python3.11/site-packages/pennylane_lightning/core/_serialize.py:283: ComplexWarning: Casting complex values to real discards the imaginary part\n",
      "  coeffs = np.array(coeffs).astype(self.rtype)\n"
     ]
    },
    {
     "name": "stdout",
     "output_type": "stream",
     "text": [
      "The expectation value of a⁺(2) a⁺(3) a(5) a(6) is 0.003282565230912693\n",
      "The current excitation operator is a⁺(2) a⁺(3) a(6) a(7)\n"
     ]
    },
    {
     "name": "stderr",
     "output_type": "stream",
     "text": [
      "/Users/pssrivathsansundar/.virtualenvs/new_venv/lib/python3.11/site-packages/pennylane_lightning/core/_serialize.py:283: ComplexWarning: Casting complex values to real discards the imaginary part\n",
      "  coeffs = np.array(coeffs).astype(self.rtype)\n"
     ]
    },
    {
     "name": "stdout",
     "output_type": "stream",
     "text": [
      "The expectation value of a⁺(2) a⁺(3) a(6) a(7) is 0.03999026815574712\n",
      "The highest operator value is 0.04925765318236382 for operator a⁺(0) a(4)\n",
      "Highest gradient excitation is [0, 4]\n",
      "The current status of ash_excitation is [[1, 2, 4, 7], [0, 3, 5, 6], [0, 1, 4, 5], [0, 4]]\n",
      "Parameters before optimization are [ 1.31473438 -0.69250614  2.52545224  0.        ]\n",
      "Current parameters: [ 1.31473438 -0.69250614  2.52545226  0.37320068]\n",
      "Current cost: -1.5240222536500605\n",
      "\n",
      "Current parameters: [ 1.28304663 -0.7106989   2.50453098  0.37721965]\n",
      "Current cost: -1.5240733018013752\n",
      "\n",
      "Current parameters: [ 1.26972858 -0.70380762  2.49337566  0.37767164]\n",
      "Current cost: -1.52408327203624\n",
      "\n",
      "Current parameters: [ 1.24120464 -0.69100156  2.47000841  0.37862405]\n",
      "Current cost: -1.5240917555127276\n",
      "\n",
      "Current parameters: [ 1.24106799 -0.69123326  2.46996921  0.37879088]\n",
      "Current cost: -1.5240917593491112\n",
      "\n",
      "Optimization terminated successfully.\n",
      "         Current function value: -1.524092\n",
      "         Iterations: 5\n",
      "         Function evaluations: 437\n",
      "Final updated parameters: [ 1.24106799 -0.69123326  2.46996921  0.37879088]\n",
      "Final cost: -1.5240917593491112\n",
      "Updated params are [ 1.24106799 -0.69123326  2.46996921  0.37879088]\n",
      "Updated excitation are [[1, 2, 4, 7], [0, 3, 5, 6], [0, 1, 4, 5], [0, 4]]\n",
      "0: ─╭|Ψ⟩──────────────────────────────────╭FermionicDoubleExcitation(-0.69)\n",
      "1: ─├|Ψ⟩─╭FermionicDoubleExcitation(1.24)─│────────────────────────────────\n",
      "2: ─├|Ψ⟩─├FermionicDoubleExcitation(1.24)─│────────────────────────────────\n",
      "3: ─├|Ψ⟩─│────────────────────────────────├FermionicDoubleExcitation(-0.69)\n",
      "4: ─├|Ψ⟩─├FermionicDoubleExcitation(1.24)─│────────────────────────────────\n",
      "5: ─├|Ψ⟩─│────────────────────────────────├FermionicDoubleExcitation(-0.69)\n",
      "6: ─├|Ψ⟩─│────────────────────────────────╰FermionicDoubleExcitation(-0.69)\n",
      "7: ─╰|Ψ⟩─╰FermionicDoubleExcitation(1.24)──────────────────────────────────\n",
      "\n",
      "──╭FermionicDoubleExcitation(2.47)─╭FermionicSingleExcitation(0.38)─┤  State\n",
      "──├FermionicDoubleExcitation(2.47)─├FermionicSingleExcitation(0.38)─┤  State\n",
      "──│────────────────────────────────├FermionicSingleExcitation(0.38)─┤  State\n",
      "──│────────────────────────────────├FermionicSingleExcitation(0.38)─┤  State\n",
      "──├FermionicDoubleExcitation(2.47)─╰FermionicSingleExcitation(0.38)─┤  State\n",
      "──╰FermionicDoubleExcitation(2.47)──────────────────────────────────┤  State\n",
      "────────────────────────────────────────────────────────────────────┤  State\n",
      "────────────────────────────────────────────────────────────────────┤  State\n",
      "The adapt iteration now is 4\n",
      "The current excitation operator is a⁺(0) a(4)\n",
      "The expectation value of a⁺(0) a(4) is 3.397992893226921e-06\n",
      "The current excitation operator is a⁺(0) a(6)\n"
     ]
    },
    {
     "name": "stderr",
     "output_type": "stream",
     "text": [
      "/Users/pssrivathsansundar/.virtualenvs/new_venv/lib/python3.11/site-packages/pennylane_lightning/core/_serialize.py:283: ComplexWarning: Casting complex values to real discards the imaginary part\n",
      "  coeffs = np.array(coeffs).astype(self.rtype)\n",
      "/Users/pssrivathsansundar/.virtualenvs/new_venv/lib/python3.11/site-packages/pennylane_lightning/core/_serialize.py:283: ComplexWarning: Casting complex values to real discards the imaginary part\n",
      "  coeffs = np.array(coeffs).astype(self.rtype)\n"
     ]
    },
    {
     "name": "stdout",
     "output_type": "stream",
     "text": [
      "The expectation value of a⁺(0) a(6) is 0.03951646820668231\n",
      "The current excitation operator is a⁺(1) a(5)\n",
      "The expectation value of a⁺(1) a(5) is 0.017305976655209856\n",
      "The current excitation operator is a⁺(1) a(7)\n",
      "The expectation value of a⁺(1) a(7) is 0.026640576593359423\n",
      "The current excitation operator is a⁺(2) a(4)\n"
     ]
    },
    {
     "name": "stderr",
     "output_type": "stream",
     "text": [
      "/Users/pssrivathsansundar/.virtualenvs/new_venv/lib/python3.11/site-packages/pennylane_lightning/core/_serialize.py:283: ComplexWarning: Casting complex values to real discards the imaginary part\n",
      "  coeffs = np.array(coeffs).astype(self.rtype)\n",
      "/Users/pssrivathsansundar/.virtualenvs/new_venv/lib/python3.11/site-packages/pennylane_lightning/core/_serialize.py:283: ComplexWarning: Casting complex values to real discards the imaginary part\n",
      "  coeffs = np.array(coeffs).astype(self.rtype)\n",
      "/Users/pssrivathsansundar/.virtualenvs/new_venv/lib/python3.11/site-packages/pennylane_lightning/core/_serialize.py:283: ComplexWarning: Casting complex values to real discards the imaginary part\n",
      "  coeffs = np.array(coeffs).astype(self.rtype)\n"
     ]
    },
    {
     "name": "stdout",
     "output_type": "stream",
     "text": [
      "The expectation value of a⁺(2) a(4) is 0.04137668375297148\n",
      "The current excitation operator is a⁺(2) a(6)\n",
      "The expectation value of a⁺(2) a(6) is 0.01143440394331678\n",
      "The current excitation operator is a⁺(3) a(5)\n"
     ]
    },
    {
     "name": "stderr",
     "output_type": "stream",
     "text": [
      "/Users/pssrivathsansundar/.virtualenvs/new_venv/lib/python3.11/site-packages/pennylane_lightning/core/_serialize.py:283: ComplexWarning: Casting complex values to real discards the imaginary part\n",
      "  coeffs = np.array(coeffs).astype(self.rtype)\n",
      "/Users/pssrivathsansundar/.virtualenvs/new_venv/lib/python3.11/site-packages/pennylane_lightning/core/_serialize.py:283: ComplexWarning: Casting complex values to real discards the imaginary part\n",
      "  coeffs = np.array(coeffs).astype(self.rtype)\n",
      "/Users/pssrivathsansundar/.virtualenvs/new_venv/lib/python3.11/site-packages/pennylane_lightning/core/_serialize.py:283: ComplexWarning: Casting complex values to real discards the imaginary part\n",
      "  coeffs = np.array(coeffs).astype(self.rtype)\n"
     ]
    },
    {
     "name": "stdout",
     "output_type": "stream",
     "text": [
      "The expectation value of a⁺(3) a(5) is 0.01968259196024366\n",
      "The current excitation operator is a⁺(3) a(7)\n",
      "The expectation value of a⁺(3) a(7) is 0.012614830659916374\n",
      "The current excitation operator is a⁺(0) a⁺(1) a(4) a(5)\n"
     ]
    },
    {
     "name": "stderr",
     "output_type": "stream",
     "text": [
      "/Users/pssrivathsansundar/.virtualenvs/new_venv/lib/python3.11/site-packages/pennylane_lightning/core/_serialize.py:283: ComplexWarning: Casting complex values to real discards the imaginary part\n",
      "  coeffs = np.array(coeffs).astype(self.rtype)\n"
     ]
    },
    {
     "name": "stdout",
     "output_type": "stream",
     "text": [
      "The expectation value of a⁺(0) a⁺(1) a(4) a(5) is 0.0021721187621124155\n",
      "The current excitation operator is a⁺(0) a⁺(1) a(4) a(7)\n"
     ]
    },
    {
     "name": "stderr",
     "output_type": "stream",
     "text": [
      "/Users/pssrivathsansundar/.virtualenvs/new_venv/lib/python3.11/site-packages/pennylane_lightning/core/_serialize.py:283: ComplexWarning: Casting complex values to real discards the imaginary part\n",
      "  coeffs = np.array(coeffs).astype(self.rtype)\n"
     ]
    },
    {
     "name": "stdout",
     "output_type": "stream",
     "text": [
      "The expectation value of a⁺(0) a⁺(1) a(4) a(7) is 0.007037830183112759\n",
      "The current excitation operator is a⁺(0) a⁺(1) a(5) a(6)\n"
     ]
    },
    {
     "name": "stderr",
     "output_type": "stream",
     "text": [
      "/Users/pssrivathsansundar/.virtualenvs/new_venv/lib/python3.11/site-packages/pennylane_lightning/core/_serialize.py:283: ComplexWarning: Casting complex values to real discards the imaginary part\n",
      "  coeffs = np.array(coeffs).astype(self.rtype)\n"
     ]
    },
    {
     "name": "stdout",
     "output_type": "stream",
     "text": [
      "The expectation value of a⁺(0) a⁺(1) a(5) a(6) is 0.012579704552716883\n",
      "The current excitation operator is a⁺(0) a⁺(1) a(6) a(7)\n"
     ]
    },
    {
     "name": "stderr",
     "output_type": "stream",
     "text": [
      "/Users/pssrivathsansundar/.virtualenvs/new_venv/lib/python3.11/site-packages/pennylane_lightning/core/_serialize.py:283: ComplexWarning: Casting complex values to real discards the imaginary part\n",
      "  coeffs = np.array(coeffs).astype(self.rtype)\n"
     ]
    },
    {
     "name": "stdout",
     "output_type": "stream",
     "text": [
      "The expectation value of a⁺(0) a⁺(1) a(6) a(7) is 0.027909332003313136\n",
      "The current excitation operator is a⁺(0) a⁺(2) a(4) a(6)\n",
      "The expectation value of a⁺(0) a⁺(2) a(4) a(6) is 0.00426651746950403\n",
      "The current excitation operator is a⁺(0) a⁺(3) a(4) a(5)\n"
     ]
    },
    {
     "name": "stderr",
     "output_type": "stream",
     "text": [
      "/Users/pssrivathsansundar/.virtualenvs/new_venv/lib/python3.11/site-packages/pennylane_lightning/core/_serialize.py:283: ComplexWarning: Casting complex values to real discards the imaginary part\n",
      "  coeffs = np.array(coeffs).astype(self.rtype)\n",
      "/Users/pssrivathsansundar/.virtualenvs/new_venv/lib/python3.11/site-packages/pennylane_lightning/core/_serialize.py:283: ComplexWarning: Casting complex values to real discards the imaginary part\n",
      "  coeffs = np.array(coeffs).astype(self.rtype)\n"
     ]
    },
    {
     "name": "stdout",
     "output_type": "stream",
     "text": [
      "The expectation value of a⁺(0) a⁺(3) a(4) a(5) is 0.015140539565631266\n",
      "The current excitation operator is a⁺(0) a⁺(3) a(4) a(7)\n"
     ]
    },
    {
     "name": "stderr",
     "output_type": "stream",
     "text": [
      "/Users/pssrivathsansundar/.virtualenvs/new_venv/lib/python3.11/site-packages/pennylane_lightning/core/_serialize.py:283: ComplexWarning: Casting complex values to real discards the imaginary part\n",
      "  coeffs = np.array(coeffs).astype(self.rtype)\n"
     ]
    },
    {
     "name": "stdout",
     "output_type": "stream",
     "text": [
      "The expectation value of a⁺(0) a⁺(3) a(4) a(7) is 0.018843560633694002\n",
      "The current excitation operator is a⁺(0) a⁺(3) a(5) a(6)\n"
     ]
    },
    {
     "name": "stderr",
     "output_type": "stream",
     "text": [
      "/Users/pssrivathsansundar/.virtualenvs/new_venv/lib/python3.11/site-packages/pennylane_lightning/core/_serialize.py:283: ComplexWarning: Casting complex values to real discards the imaginary part\n",
      "  coeffs = np.array(coeffs).astype(self.rtype)\n"
     ]
    },
    {
     "name": "stdout",
     "output_type": "stream",
     "text": [
      "The expectation value of a⁺(0) a⁺(3) a(5) a(6) is 0.04440335319934285\n",
      "The current excitation operator is a⁺(0) a⁺(3) a(6) a(7)\n"
     ]
    },
    {
     "name": "stderr",
     "output_type": "stream",
     "text": [
      "/Users/pssrivathsansundar/.virtualenvs/new_venv/lib/python3.11/site-packages/pennylane_lightning/core/_serialize.py:283: ComplexWarning: Casting complex values to real discards the imaginary part\n",
      "  coeffs = np.array(coeffs).astype(self.rtype)\n"
     ]
    },
    {
     "name": "stdout",
     "output_type": "stream",
     "text": [
      "The expectation value of a⁺(0) a⁺(3) a(6) a(7) is 0.0012836015937428332\n",
      "The current excitation operator is a⁺(1) a⁺(2) a(4) a(5)\n"
     ]
    },
    {
     "name": "stderr",
     "output_type": "stream",
     "text": [
      "/Users/pssrivathsansundar/.virtualenvs/new_venv/lib/python3.11/site-packages/pennylane_lightning/core/_serialize.py:283: ComplexWarning: Casting complex values to real discards the imaginary part\n",
      "  coeffs = np.array(coeffs).astype(self.rtype)\n"
     ]
    },
    {
     "name": "stdout",
     "output_type": "stream",
     "text": [
      "The expectation value of a⁺(1) a⁺(2) a(4) a(5) is 0.0013399891029276792\n",
      "The current excitation operator is a⁺(1) a⁺(2) a(4) a(7)\n"
     ]
    },
    {
     "name": "stderr",
     "output_type": "stream",
     "text": [
      "/Users/pssrivathsansundar/.virtualenvs/new_venv/lib/python3.11/site-packages/pennylane_lightning/core/_serialize.py:283: ComplexWarning: Casting complex values to real discards the imaginary part\n",
      "  coeffs = np.array(coeffs).astype(self.rtype)\n"
     ]
    },
    {
     "name": "stdout",
     "output_type": "stream",
     "text": [
      "The expectation value of a⁺(1) a⁺(2) a(4) a(7) is 0.010615141361142024\n",
      "The current excitation operator is a⁺(1) a⁺(2) a(5) a(6)\n"
     ]
    },
    {
     "name": "stderr",
     "output_type": "stream",
     "text": [
      "/Users/pssrivathsansundar/.virtualenvs/new_venv/lib/python3.11/site-packages/pennylane_lightning/core/_serialize.py:283: ComplexWarning: Casting complex values to real discards the imaginary part\n",
      "  coeffs = np.array(coeffs).astype(self.rtype)\n"
     ]
    },
    {
     "name": "stdout",
     "output_type": "stream",
     "text": [
      "The expectation value of a⁺(1) a⁺(2) a(5) a(6) is 0.018577658440523594\n",
      "The current excitation operator is a⁺(1) a⁺(2) a(6) a(7)\n"
     ]
    },
    {
     "name": "stderr",
     "output_type": "stream",
     "text": [
      "/Users/pssrivathsansundar/.virtualenvs/new_venv/lib/python3.11/site-packages/pennylane_lightning/core/_serialize.py:283: ComplexWarning: Casting complex values to real discards the imaginary part\n",
      "  coeffs = np.array(coeffs).astype(self.rtype)\n"
     ]
    },
    {
     "name": "stdout",
     "output_type": "stream",
     "text": [
      "The expectation value of a⁺(1) a⁺(2) a(6) a(7) is 0.006993593859836857\n",
      "The current excitation operator is a⁺(1) a⁺(3) a(5) a(7)\n"
     ]
    },
    {
     "name": "stderr",
     "output_type": "stream",
     "text": [
      "/Users/pssrivathsansundar/.virtualenvs/new_venv/lib/python3.11/site-packages/pennylane_lightning/core/_serialize.py:283: ComplexWarning: Casting complex values to real discards the imaginary part\n",
      "  coeffs = np.array(coeffs).astype(self.rtype)\n"
     ]
    },
    {
     "name": "stdout",
     "output_type": "stream",
     "text": [
      "The expectation value of a⁺(1) a⁺(3) a(5) a(7) is 0.0018908831067954257\n",
      "The current excitation operator is a⁺(2) a⁺(3) a(4) a(5)\n"
     ]
    },
    {
     "name": "stderr",
     "output_type": "stream",
     "text": [
      "/Users/pssrivathsansundar/.virtualenvs/new_venv/lib/python3.11/site-packages/pennylane_lightning/core/_serialize.py:283: ComplexWarning: Casting complex values to real discards the imaginary part\n",
      "  coeffs = np.array(coeffs).astype(self.rtype)\n"
     ]
    },
    {
     "name": "stdout",
     "output_type": "stream",
     "text": [
      "The expectation value of a⁺(2) a⁺(3) a(4) a(5) is 0.007422877592854246\n",
      "The current excitation operator is a⁺(2) a⁺(3) a(4) a(7)\n"
     ]
    },
    {
     "name": "stderr",
     "output_type": "stream",
     "text": [
      "/Users/pssrivathsansundar/.virtualenvs/new_venv/lib/python3.11/site-packages/pennylane_lightning/core/_serialize.py:283: ComplexWarning: Casting complex values to real discards the imaginary part\n",
      "  coeffs = np.array(coeffs).astype(self.rtype)\n"
     ]
    },
    {
     "name": "stdout",
     "output_type": "stream",
     "text": [
      "The expectation value of a⁺(2) a⁺(3) a(4) a(7) is 0.004193908689630289\n",
      "The current excitation operator is a⁺(2) a⁺(3) a(5) a(6)\n"
     ]
    },
    {
     "name": "stderr",
     "output_type": "stream",
     "text": [
      "/Users/pssrivathsansundar/.virtualenvs/new_venv/lib/python3.11/site-packages/pennylane_lightning/core/_serialize.py:283: ComplexWarning: Casting complex values to real discards the imaginary part\n",
      "  coeffs = np.array(coeffs).astype(self.rtype)\n"
     ]
    },
    {
     "name": "stdout",
     "output_type": "stream",
     "text": [
      "The expectation value of a⁺(2) a⁺(3) a(5) a(6) is 0.004747728888815739\n",
      "The current excitation operator is a⁺(2) a⁺(3) a(6) a(7)\n"
     ]
    },
    {
     "name": "stderr",
     "output_type": "stream",
     "text": [
      "/Users/pssrivathsansundar/.virtualenvs/new_venv/lib/python3.11/site-packages/pennylane_lightning/core/_serialize.py:283: ComplexWarning: Casting complex values to real discards the imaginary part\n",
      "  coeffs = np.array(coeffs).astype(self.rtype)\n"
     ]
    },
    {
     "name": "stdout",
     "output_type": "stream",
     "text": [
      "The expectation value of a⁺(2) a⁺(3) a(6) a(7) is 0.044267085012447936\n",
      "The highest operator value is 0.04440335319934285 for operator a⁺(0) a⁺(3) a(5) a(6)\n",
      "Highest gradient excitation is [0, 3, 5, 6]\n",
      "The current status of ash_excitation is [[1, 2, 4, 7], [0, 3, 5, 6], [0, 1, 4, 5], [0, 4], [0, 3, 5, 6]]\n",
      "Parameters before optimization are [ 1.24106799 -0.69123326  2.46996921  0.37879088  0.        ]\n",
      "Current parameters: [ 1.24104618 -0.69127322  2.46996369  0.37882101  0.06343054]\n",
      "Current cost: -1.524156771178033\n",
      "\n",
      "Current parameters: [ 1.22561752 -0.72007256  2.48212851  0.38715037  0.10092655]\n",
      "Current cost: -1.5242160812752674\n",
      "\n",
      "Current parameters: [ 1.22462005 -0.76455091  2.5177586   0.39855013  0.14833248]\n",
      "Current cost: -1.5242666211313551\n",
      "\n",
      "Current parameters: [ 1.24066751 -0.77854554  2.53747499  0.399955    0.16354677]\n",
      "Current cost: -1.5242922048221375\n",
      "\n",
      "Current parameters: [ 1.32748913 -0.85026655  2.63836946  0.40581986  0.23397811]\n",
      "Current cost: -1.5243548284042474\n",
      "\n",
      "Current parameters: [ 1.32738894 -0.85167601  2.63865984  0.40595285  0.23363938]\n",
      "Current cost: -1.5243549453468925\n",
      "\n",
      "Current parameters: [ 1.32731689 -0.85216767  2.63874397  0.40600625  0.23359798]\n",
      "Current cost: -1.5243549531008862\n",
      "\n",
      "Optimization terminated successfully.\n",
      "         Current function value: -1.524355\n",
      "         Iterations: 7\n",
      "         Function evaluations: 750\n",
      "Final updated parameters: [ 1.32731689 -0.85216767  2.63874397  0.40600625  0.23359798]\n",
      "Final cost: -1.5243549531008864\n",
      "Updated params are [ 1.32731689 -0.85216767  2.63874397  0.40600625  0.23359798]\n",
      "Updated excitation are [[1, 2, 4, 7], [0, 3, 5, 6], [0, 1, 4, 5], [0, 4], [0, 3, 5, 6]]\n",
      "0: ─╭|Ψ⟩──────────────────────────────────╭FermionicDoubleExcitation(-0.85)\n",
      "1: ─├|Ψ⟩─╭FermionicDoubleExcitation(1.33)─│────────────────────────────────\n",
      "2: ─├|Ψ⟩─├FermionicDoubleExcitation(1.33)─│────────────────────────────────\n",
      "3: ─├|Ψ⟩─│────────────────────────────────├FermionicDoubleExcitation(-0.85)\n",
      "4: ─├|Ψ⟩─├FermionicDoubleExcitation(1.33)─│────────────────────────────────\n",
      "5: ─├|Ψ⟩─│────────────────────────────────├FermionicDoubleExcitation(-0.85)\n",
      "6: ─├|Ψ⟩─│────────────────────────────────╰FermionicDoubleExcitation(-0.85)\n",
      "7: ─╰|Ψ⟩─╰FermionicDoubleExcitation(1.33)──────────────────────────────────\n",
      "\n",
      "──╭FermionicDoubleExcitation(2.64)─╭FermionicSingleExcitation(0.41)─╭FermionicDoubleExcitation(0.23)─┤\n",
      "──├FermionicDoubleExcitation(2.64)─├FermionicSingleExcitation(0.41)─│────────────────────────────────┤\n",
      "──│────────────────────────────────├FermionicSingleExcitation(0.41)─│────────────────────────────────┤\n",
      "──│────────────────────────────────├FermionicSingleExcitation(0.41)─├FermionicDoubleExcitation(0.23)─┤\n",
      "──├FermionicDoubleExcitation(2.64)─╰FermionicSingleExcitation(0.41)─│────────────────────────────────┤\n",
      "──╰FermionicDoubleExcitation(2.64)──────────────────────────────────├FermionicDoubleExcitation(0.23)─┤\n",
      "────────────────────────────────────────────────────────────────────╰FermionicDoubleExcitation(0.23)─┤\n",
      "─────────────────────────────────────────────────────────────────────────────────────────────────────┤\n",
      "\n",
      "   State\n",
      "   State\n",
      "   State\n",
      "   State\n",
      "   State\n",
      "   State\n",
      "   State\n",
      "   State\n",
      "The adapt iteration now is 5\n",
      "The current excitation operator is a⁺(0) a(4)\n",
      "The expectation value of a⁺(0) a(4) is 7.154860625004554e-05\n",
      "The current excitation operator is a⁺(0) a(6)\n"
     ]
    },
    {
     "name": "stderr",
     "output_type": "stream",
     "text": [
      "/Users/pssrivathsansundar/.virtualenvs/new_venv/lib/python3.11/site-packages/pennylane_lightning/core/_serialize.py:283: ComplexWarning: Casting complex values to real discards the imaginary part\n",
      "  coeffs = np.array(coeffs).astype(self.rtype)\n",
      "/Users/pssrivathsansundar/.virtualenvs/new_venv/lib/python3.11/site-packages/pennylane_lightning/core/_serialize.py:283: ComplexWarning: Casting complex values to real discards the imaginary part\n",
      "  coeffs = np.array(coeffs).astype(self.rtype)\n",
      "/Users/pssrivathsansundar/.virtualenvs/new_venv/lib/python3.11/site-packages/pennylane_lightning/core/_serialize.py:283: ComplexWarning: Casting complex values to real discards the imaginary part\n",
      "  coeffs = np.array(coeffs).astype(self.rtype)\n"
     ]
    },
    {
     "name": "stdout",
     "output_type": "stream",
     "text": [
      "The expectation value of a⁺(0) a(6) is 0.03520211295233749\n",
      "The current excitation operator is a⁺(1) a(5)\n",
      "The expectation value of a⁺(1) a(5) is 0.02048649378062254\n",
      "The current excitation operator is a⁺(1) a(7)\n",
      "The expectation value of a⁺(1) a(7) is 0.025917134005911068\n",
      "The current excitation operator is a⁺(2) a(4)\n"
     ]
    },
    {
     "name": "stderr",
     "output_type": "stream",
     "text": [
      "/Users/pssrivathsansundar/.virtualenvs/new_venv/lib/python3.11/site-packages/pennylane_lightning/core/_serialize.py:283: ComplexWarning: Casting complex values to real discards the imaginary part\n",
      "  coeffs = np.array(coeffs).astype(self.rtype)\n",
      "/Users/pssrivathsansundar/.virtualenvs/new_venv/lib/python3.11/site-packages/pennylane_lightning/core/_serialize.py:283: ComplexWarning: Casting complex values to real discards the imaginary part\n",
      "  coeffs = np.array(coeffs).astype(self.rtype)\n"
     ]
    },
    {
     "name": "stdout",
     "output_type": "stream",
     "text": [
      "The expectation value of a⁺(2) a(4) is 0.03951682949399203\n",
      "The current excitation operator is a⁺(2) a(6)\n",
      "The expectation value of a⁺(2) a(6) is 0.011666798878453179\n",
      "The current excitation operator is a⁺(3) a(5)\n",
      "The expectation value of a⁺(3) a(5) is 0.015538122304121297\n",
      "The current excitation operator is a⁺(3) a(7)\n"
     ]
    },
    {
     "name": "stderr",
     "output_type": "stream",
     "text": [
      "/Users/pssrivathsansundar/.virtualenvs/new_venv/lib/python3.11/site-packages/pennylane_lightning/core/_serialize.py:283: ComplexWarning: Casting complex values to real discards the imaginary part\n",
      "  coeffs = np.array(coeffs).astype(self.rtype)\n",
      "/Users/pssrivathsansundar/.virtualenvs/new_venv/lib/python3.11/site-packages/pennylane_lightning/core/_serialize.py:283: ComplexWarning: Casting complex values to real discards the imaginary part\n",
      "  coeffs = np.array(coeffs).astype(self.rtype)\n",
      "/Users/pssrivathsansundar/.virtualenvs/new_venv/lib/python3.11/site-packages/pennylane_lightning/core/_serialize.py:283: ComplexWarning: Casting complex values to real discards the imaginary part\n",
      "  coeffs = np.array(coeffs).astype(self.rtype)\n"
     ]
    },
    {
     "name": "stdout",
     "output_type": "stream",
     "text": [
      "The expectation value of a⁺(3) a(7) is 0.013800053809128729\n",
      "The current excitation operator is a⁺(0) a⁺(1) a(4) a(5)\n"
     ]
    },
    {
     "name": "stderr",
     "output_type": "stream",
     "text": [
      "/Users/pssrivathsansundar/.virtualenvs/new_venv/lib/python3.11/site-packages/pennylane_lightning/core/_serialize.py:283: ComplexWarning: Casting complex values to real discards the imaginary part\n",
      "  coeffs = np.array(coeffs).astype(self.rtype)\n"
     ]
    },
    {
     "name": "stdout",
     "output_type": "stream",
     "text": [
      "The expectation value of a⁺(0) a⁺(1) a(4) a(5) is 0.00196489827580139\n",
      "The current excitation operator is a⁺(0) a⁺(1) a(4) a(7)\n"
     ]
    },
    {
     "name": "stderr",
     "output_type": "stream",
     "text": [
      "/Users/pssrivathsansundar/.virtualenvs/new_venv/lib/python3.11/site-packages/pennylane_lightning/core/_serialize.py:283: ComplexWarning: Casting complex values to real discards the imaginary part\n",
      "  coeffs = np.array(coeffs).astype(self.rtype)\n"
     ]
    },
    {
     "name": "stdout",
     "output_type": "stream",
     "text": [
      "The expectation value of a⁺(0) a⁺(1) a(4) a(7) is 0.009051959899478908\n",
      "The current excitation operator is a⁺(0) a⁺(1) a(5) a(6)\n"
     ]
    },
    {
     "name": "stderr",
     "output_type": "stream",
     "text": [
      "/Users/pssrivathsansundar/.virtualenvs/new_venv/lib/python3.11/site-packages/pennylane_lightning/core/_serialize.py:283: ComplexWarning: Casting complex values to real discards the imaginary part\n",
      "  coeffs = np.array(coeffs).astype(self.rtype)\n"
     ]
    },
    {
     "name": "stdout",
     "output_type": "stream",
     "text": [
      "The expectation value of a⁺(0) a⁺(1) a(5) a(6) is 0.012063122505183464\n",
      "The current excitation operator is a⁺(0) a⁺(1) a(6) a(7)\n"
     ]
    },
    {
     "name": "stderr",
     "output_type": "stream",
     "text": [
      "/Users/pssrivathsansundar/.virtualenvs/new_venv/lib/python3.11/site-packages/pennylane_lightning/core/_serialize.py:283: ComplexWarning: Casting complex values to real discards the imaginary part\n",
      "  coeffs = np.array(coeffs).astype(self.rtype)\n",
      "/Users/pssrivathsansundar/.virtualenvs/new_venv/lib/python3.11/site-packages/pennylane_lightning/core/_serialize.py:283: ComplexWarning: Casting complex values to real discards the imaginary part\n",
      "  coeffs = np.array(coeffs).astype(self.rtype)\n"
     ]
    },
    {
     "name": "stdout",
     "output_type": "stream",
     "text": [
      "The expectation value of a⁺(0) a⁺(1) a(6) a(7) is 0.024457230764360228\n",
      "The current excitation operator is a⁺(0) a⁺(2) a(4) a(6)\n",
      "The expectation value of a⁺(0) a⁺(2) a(4) a(6) is 0.002348437113923971\n",
      "The current excitation operator is a⁺(0) a⁺(3) a(4) a(5)\n"
     ]
    },
    {
     "name": "stderr",
     "output_type": "stream",
     "text": [
      "/Users/pssrivathsansundar/.virtualenvs/new_venv/lib/python3.11/site-packages/pennylane_lightning/core/_serialize.py:283: ComplexWarning: Casting complex values to real discards the imaginary part\n",
      "  coeffs = np.array(coeffs).astype(self.rtype)\n"
     ]
    },
    {
     "name": "stdout",
     "output_type": "stream",
     "text": [
      "The expectation value of a⁺(0) a⁺(3) a(4) a(5) is 0.01515589682386681\n",
      "The current excitation operator is a⁺(0) a⁺(3) a(4) a(7)\n"
     ]
    },
    {
     "name": "stderr",
     "output_type": "stream",
     "text": [
      "/Users/pssrivathsansundar/.virtualenvs/new_venv/lib/python3.11/site-packages/pennylane_lightning/core/_serialize.py:283: ComplexWarning: Casting complex values to real discards the imaginary part\n",
      "  coeffs = np.array(coeffs).astype(self.rtype)\n"
     ]
    },
    {
     "name": "stdout",
     "output_type": "stream",
     "text": [
      "The expectation value of a⁺(0) a⁺(3) a(4) a(7) is 0.019464861904178624\n",
      "The current excitation operator is a⁺(0) a⁺(3) a(5) a(6)\n"
     ]
    },
    {
     "name": "stderr",
     "output_type": "stream",
     "text": [
      "/Users/pssrivathsansundar/.virtualenvs/new_venv/lib/python3.11/site-packages/pennylane_lightning/core/_serialize.py:283: ComplexWarning: Casting complex values to real discards the imaginary part\n",
      "  coeffs = np.array(coeffs).astype(self.rtype)\n"
     ]
    },
    {
     "name": "stdout",
     "output_type": "stream",
     "text": [
      "The expectation value of a⁺(0) a⁺(3) a(5) a(6) is 0.048296225684340464\n",
      "The current excitation operator is a⁺(0) a⁺(3) a(6) a(7)\n"
     ]
    },
    {
     "name": "stderr",
     "output_type": "stream",
     "text": [
      "/Users/pssrivathsansundar/.virtualenvs/new_venv/lib/python3.11/site-packages/pennylane_lightning/core/_serialize.py:283: ComplexWarning: Casting complex values to real discards the imaginary part\n",
      "  coeffs = np.array(coeffs).astype(self.rtype)\n"
     ]
    },
    {
     "name": "stdout",
     "output_type": "stream",
     "text": [
      "The expectation value of a⁺(0) a⁺(3) a(6) a(7) is 0.0005312718127329746\n",
      "The current excitation operator is a⁺(1) a⁺(2) a(4) a(5)\n"
     ]
    },
    {
     "name": "stderr",
     "output_type": "stream",
     "text": [
      "/Users/pssrivathsansundar/.virtualenvs/new_venv/lib/python3.11/site-packages/pennylane_lightning/core/_serialize.py:283: ComplexWarning: Casting complex values to real discards the imaginary part\n",
      "  coeffs = np.array(coeffs).astype(self.rtype)\n"
     ]
    },
    {
     "name": "stdout",
     "output_type": "stream",
     "text": [
      "The expectation value of a⁺(1) a⁺(2) a(4) a(5) is 0.0020954730641698\n",
      "The current excitation operator is a⁺(1) a⁺(2) a(4) a(7)\n"
     ]
    },
    {
     "name": "stderr",
     "output_type": "stream",
     "text": [
      "/Users/pssrivathsansundar/.virtualenvs/new_venv/lib/python3.11/site-packages/pennylane_lightning/core/_serialize.py:283: ComplexWarning: Casting complex values to real discards the imaginary part\n",
      "  coeffs = np.array(coeffs).astype(self.rtype)\n"
     ]
    },
    {
     "name": "stdout",
     "output_type": "stream",
     "text": [
      "The expectation value of a⁺(1) a⁺(2) a(4) a(7) is 0.023351576088939965\n",
      "The current excitation operator is a⁺(1) a⁺(2) a(5) a(6)\n"
     ]
    },
    {
     "name": "stderr",
     "output_type": "stream",
     "text": [
      "/Users/pssrivathsansundar/.virtualenvs/new_venv/lib/python3.11/site-packages/pennylane_lightning/core/_serialize.py:283: ComplexWarning: Casting complex values to real discards the imaginary part\n",
      "  coeffs = np.array(coeffs).astype(self.rtype)\n"
     ]
    },
    {
     "name": "stdout",
     "output_type": "stream",
     "text": [
      "The expectation value of a⁺(1) a⁺(2) a(5) a(6) is 0.01805041677709902\n",
      "The current excitation operator is a⁺(1) a⁺(2) a(6) a(7)\n"
     ]
    },
    {
     "name": "stderr",
     "output_type": "stream",
     "text": [
      "/Users/pssrivathsansundar/.virtualenvs/new_venv/lib/python3.11/site-packages/pennylane_lightning/core/_serialize.py:283: ComplexWarning: Casting complex values to real discards the imaginary part\n",
      "  coeffs = np.array(coeffs).astype(self.rtype)\n"
     ]
    },
    {
     "name": "stdout",
     "output_type": "stream",
     "text": [
      "The expectation value of a⁺(1) a⁺(2) a(6) a(7) is 0.006980166426273629\n",
      "The current excitation operator is a⁺(1) a⁺(3) a(5) a(7)\n",
      "The expectation value of a⁺(1) a⁺(3) a(5) a(7) is 0.00018661871960133286\n",
      "The current excitation operator is a⁺(2) a⁺(3) a(4) a(5)\n"
     ]
    },
    {
     "name": "stderr",
     "output_type": "stream",
     "text": [
      "/Users/pssrivathsansundar/.virtualenvs/new_venv/lib/python3.11/site-packages/pennylane_lightning/core/_serialize.py:283: ComplexWarning: Casting complex values to real discards the imaginary part\n",
      "  coeffs = np.array(coeffs).astype(self.rtype)\n",
      "/Users/pssrivathsansundar/.virtualenvs/new_venv/lib/python3.11/site-packages/pennylane_lightning/core/_serialize.py:283: ComplexWarning: Casting complex values to real discards the imaginary part\n",
      "  coeffs = np.array(coeffs).astype(self.rtype)\n"
     ]
    },
    {
     "name": "stdout",
     "output_type": "stream",
     "text": [
      "The expectation value of a⁺(2) a⁺(3) a(4) a(5) is 0.005920181213895863\n",
      "The current excitation operator is a⁺(2) a⁺(3) a(4) a(7)\n"
     ]
    },
    {
     "name": "stderr",
     "output_type": "stream",
     "text": [
      "/Users/pssrivathsansundar/.virtualenvs/new_venv/lib/python3.11/site-packages/pennylane_lightning/core/_serialize.py:283: ComplexWarning: Casting complex values to real discards the imaginary part\n",
      "  coeffs = np.array(coeffs).astype(self.rtype)\n"
     ]
    },
    {
     "name": "stdout",
     "output_type": "stream",
     "text": [
      "The expectation value of a⁺(2) a⁺(3) a(4) a(7) is 0.0034823601047490474\n",
      "The current excitation operator is a⁺(2) a⁺(3) a(5) a(6)\n"
     ]
    },
    {
     "name": "stderr",
     "output_type": "stream",
     "text": [
      "/Users/pssrivathsansundar/.virtualenvs/new_venv/lib/python3.11/site-packages/pennylane_lightning/core/_serialize.py:283: ComplexWarning: Casting complex values to real discards the imaginary part\n",
      "  coeffs = np.array(coeffs).astype(self.rtype)\n"
     ]
    },
    {
     "name": "stdout",
     "output_type": "stream",
     "text": [
      "The expectation value of a⁺(2) a⁺(3) a(5) a(6) is 0.0037659563602740207\n",
      "The current excitation operator is a⁺(2) a⁺(3) a(6) a(7)\n"
     ]
    },
    {
     "name": "stderr",
     "output_type": "stream",
     "text": [
      "/Users/pssrivathsansundar/.virtualenvs/new_venv/lib/python3.11/site-packages/pennylane_lightning/core/_serialize.py:283: ComplexWarning: Casting complex values to real discards the imaginary part\n",
      "  coeffs = np.array(coeffs).astype(self.rtype)\n"
     ]
    },
    {
     "name": "stdout",
     "output_type": "stream",
     "text": [
      "The expectation value of a⁺(2) a⁺(3) a(6) a(7) is 0.039248259436722964\n",
      "The highest operator value is 0.048296225684340464 for operator a⁺(0) a⁺(3) a(5) a(6)\n",
      "Highest gradient excitation is [0, 3, 5, 6]\n",
      "The current status of ash_excitation is [[1, 2, 4, 7], [0, 3, 5, 6], [0, 1, 4, 5], [0, 4], [0, 3, 5, 6], [0, 3, 5, 6]]\n",
      "Parameters before optimization are [ 1.32731689 -0.85216767  2.63874397  0.40600625  0.23359798  0.        ]\n",
      "Current parameters: [ 1.32730808 -0.85216738  2.63873853  0.40600717  0.23360908  0.        ]\n",
      "Current cost: -1.5243549531059704\n",
      "\n",
      "Optimization terminated successfully.\n",
      "         Current function value: -1.524355\n",
      "         Iterations: 1\n",
      "         Function evaluations: 170\n",
      "Final updated parameters: [ 1.32730808 -0.85216738  2.63873853  0.40600717  0.23360908  0.        ]\n",
      "Final cost: -1.5243549531059704\n",
      "Updated params are [ 1.32730808 -0.85216738  2.63873853  0.40600717  0.23360908  0.        ]\n",
      "Updated excitation are [[1, 2, 4, 7], [0, 3, 5, 6], [0, 1, 4, 5], [0, 4], [0, 3, 5, 6], [0, 3, 5, 6]]\n",
      "0: ─╭|Ψ⟩──────────────────────────────────╭FermionicDoubleExcitation(-0.85)\n",
      "1: ─├|Ψ⟩─╭FermionicDoubleExcitation(1.33)─│────────────────────────────────\n",
      "2: ─├|Ψ⟩─├FermionicDoubleExcitation(1.33)─│────────────────────────────────\n",
      "3: ─├|Ψ⟩─│────────────────────────────────├FermionicDoubleExcitation(-0.85)\n",
      "4: ─├|Ψ⟩─├FermionicDoubleExcitation(1.33)─│────────────────────────────────\n",
      "5: ─├|Ψ⟩─│────────────────────────────────├FermionicDoubleExcitation(-0.85)\n",
      "6: ─├|Ψ⟩─│────────────────────────────────╰FermionicDoubleExcitation(-0.85)\n",
      "7: ─╰|Ψ⟩─╰FermionicDoubleExcitation(1.33)──────────────────────────────────\n",
      "\n",
      "──╭FermionicDoubleExcitation(2.64)─╭FermionicSingleExcitation(0.41)─╭FermionicDoubleExcitation(0.23)\n",
      "──├FermionicDoubleExcitation(2.64)─├FermionicSingleExcitation(0.41)─│───────────────────────────────\n",
      "──│────────────────────────────────├FermionicSingleExcitation(0.41)─│───────────────────────────────\n",
      "──│────────────────────────────────├FermionicSingleExcitation(0.41)─├FermionicDoubleExcitation(0.23)\n",
      "──├FermionicDoubleExcitation(2.64)─╰FermionicSingleExcitation(0.41)─│───────────────────────────────\n",
      "──╰FermionicDoubleExcitation(2.64)──────────────────────────────────├FermionicDoubleExcitation(0.23)\n",
      "────────────────────────────────────────────────────────────────────╰FermionicDoubleExcitation(0.23)\n",
      "────────────────────────────────────────────────────────────────────────────────────────────────────\n",
      "\n",
      "──╭FermionicDoubleExcitation(0.00)─┤  State\n",
      "──│────────────────────────────────┤  State\n",
      "──│────────────────────────────────┤  State\n",
      "──├FermionicDoubleExcitation(0.00)─┤  State\n",
      "──│────────────────────────────────┤  State\n",
      "──├FermionicDoubleExcitation(0.00)─┤  State\n",
      "──╰FermionicDoubleExcitation(0.00)─┤  State\n",
      "───────────────────────────────────┤  State\n",
      "The adapt iteration now is 6\n",
      "The current excitation operator is a⁺(0) a(4)\n"
     ]
    },
    {
     "name": "stderr",
     "output_type": "stream",
     "text": [
      "/Users/pssrivathsansundar/.virtualenvs/new_venv/lib/python3.11/site-packages/pennylane_lightning/core/_serialize.py:283: ComplexWarning: Casting complex values to real discards the imaginary part\n",
      "  coeffs = np.array(coeffs).astype(self.rtype)\n",
      "/Users/pssrivathsansundar/.virtualenvs/new_venv/lib/python3.11/site-packages/pennylane_lightning/core/_serialize.py:283: ComplexWarning: Casting complex values to real discards the imaginary part\n",
      "  coeffs = np.array(coeffs).astype(self.rtype)\n",
      "/Users/pssrivathsansundar/.virtualenvs/new_venv/lib/python3.11/site-packages/pennylane_lightning/core/_serialize.py:283: ComplexWarning: Casting complex values to real discards the imaginary part\n",
      "  coeffs = np.array(coeffs).astype(self.rtype)\n"
     ]
    },
    {
     "name": "stdout",
     "output_type": "stream",
     "text": [
      "The expectation value of a⁺(0) a(4) is 7.163213954406242e-05\n",
      "The current excitation operator is a⁺(0) a(6)\n",
      "The expectation value of a⁺(0) a(6) is 0.03520222522568774\n",
      "The current excitation operator is a⁺(1) a(5)\n",
      "The expectation value of a⁺(1) a(5) is 0.020486549977776075\n",
      "The current excitation operator is a⁺(1) a(7)\n"
     ]
    },
    {
     "name": "stderr",
     "output_type": "stream",
     "text": [
      "/Users/pssrivathsansundar/.virtualenvs/new_venv/lib/python3.11/site-packages/pennylane_lightning/core/_serialize.py:283: ComplexWarning: Casting complex values to real discards the imaginary part\n",
      "  coeffs = np.array(coeffs).astype(self.rtype)\n",
      "/Users/pssrivathsansundar/.virtualenvs/new_venv/lib/python3.11/site-packages/pennylane_lightning/core/_serialize.py:283: ComplexWarning: Casting complex values to real discards the imaginary part\n",
      "  coeffs = np.array(coeffs).astype(self.rtype)\n",
      "/Users/pssrivathsansundar/.virtualenvs/new_venv/lib/python3.11/site-packages/pennylane_lightning/core/_serialize.py:283: ComplexWarning: Casting complex values to real discards the imaginary part\n",
      "  coeffs = np.array(coeffs).astype(self.rtype)\n"
     ]
    },
    {
     "name": "stdout",
     "output_type": "stream",
     "text": [
      "The expectation value of a⁺(1) a(7) is 0.02591704828328584\n",
      "The current excitation operator is a⁺(2) a(4)\n",
      "The expectation value of a⁺(2) a(4) is 0.039516938430923236\n",
      "The current excitation operator is a⁺(2) a(6)\n",
      "The expectation value of a⁺(2) a(6) is 0.01166696295525807\n",
      "The current excitation operator is a⁺(3) a(5)\n"
     ]
    },
    {
     "name": "stderr",
     "output_type": "stream",
     "text": [
      "/Users/pssrivathsansundar/.virtualenvs/new_venv/lib/python3.11/site-packages/pennylane_lightning/core/_serialize.py:283: ComplexWarning: Casting complex values to real discards the imaginary part\n",
      "  coeffs = np.array(coeffs).astype(self.rtype)\n",
      "/Users/pssrivathsansundar/.virtualenvs/new_venv/lib/python3.11/site-packages/pennylane_lightning/core/_serialize.py:283: ComplexWarning: Casting complex values to real discards the imaginary part\n",
      "  coeffs = np.array(coeffs).astype(self.rtype)\n"
     ]
    },
    {
     "name": "stdout",
     "output_type": "stream",
     "text": [
      "The expectation value of a⁺(3) a(5) is 0.015538166573468517\n",
      "The current excitation operator is a⁺(3) a(7)\n",
      "The expectation value of a⁺(3) a(7) is 0.013800162562294067\n",
      "The current excitation operator is a⁺(0) a⁺(1) a(4) a(5)\n"
     ]
    },
    {
     "name": "stderr",
     "output_type": "stream",
     "text": [
      "/Users/pssrivathsansundar/.virtualenvs/new_venv/lib/python3.11/site-packages/pennylane_lightning/core/_serialize.py:283: ComplexWarning: Casting complex values to real discards the imaginary part\n",
      "  coeffs = np.array(coeffs).astype(self.rtype)\n"
     ]
    },
    {
     "name": "stdout",
     "output_type": "stream",
     "text": [
      "The expectation value of a⁺(0) a⁺(1) a(4) a(5) is 0.0019647054766227952\n",
      "The current excitation operator is a⁺(0) a⁺(1) a(4) a(7)\n"
     ]
    },
    {
     "name": "stderr",
     "output_type": "stream",
     "text": [
      "/Users/pssrivathsansundar/.virtualenvs/new_venv/lib/python3.11/site-packages/pennylane_lightning/core/_serialize.py:283: ComplexWarning: Casting complex values to real discards the imaginary part\n",
      "  coeffs = np.array(coeffs).astype(self.rtype)\n"
     ]
    },
    {
     "name": "stdout",
     "output_type": "stream",
     "text": [
      "The expectation value of a⁺(0) a⁺(1) a(4) a(7) is 0.009051920485187255\n",
      "The current excitation operator is a⁺(0) a⁺(1) a(5) a(6)\n"
     ]
    },
    {
     "name": "stderr",
     "output_type": "stream",
     "text": [
      "/Users/pssrivathsansundar/.virtualenvs/new_venv/lib/python3.11/site-packages/pennylane_lightning/core/_serialize.py:283: ComplexWarning: Casting complex values to real discards the imaginary part\n",
      "  coeffs = np.array(coeffs).astype(self.rtype)\n"
     ]
    },
    {
     "name": "stdout",
     "output_type": "stream",
     "text": [
      "The expectation value of a⁺(0) a⁺(1) a(5) a(6) is 0.012063144422124686\n",
      "The current excitation operator is a⁺(0) a⁺(1) a(6) a(7)\n"
     ]
    },
    {
     "name": "stderr",
     "output_type": "stream",
     "text": [
      "/Users/pssrivathsansundar/.virtualenvs/new_venv/lib/python3.11/site-packages/pennylane_lightning/core/_serialize.py:283: ComplexWarning: Casting complex values to real discards the imaginary part\n",
      "  coeffs = np.array(coeffs).astype(self.rtype)\n",
      "/Users/pssrivathsansundar/.virtualenvs/new_venv/lib/python3.11/site-packages/pennylane_lightning/core/_serialize.py:283: ComplexWarning: Casting complex values to real discards the imaginary part\n",
      "  coeffs = np.array(coeffs).astype(self.rtype)\n"
     ]
    },
    {
     "name": "stdout",
     "output_type": "stream",
     "text": [
      "The expectation value of a⁺(0) a⁺(1) a(6) a(7) is 0.02445722819787481\n",
      "The current excitation operator is a⁺(0) a⁺(2) a(4) a(6)\n",
      "The expectation value of a⁺(0) a⁺(2) a(4) a(6) is 0.0023485107542547227\n",
      "The current excitation operator is a⁺(0) a⁺(3) a(4) a(5)\n"
     ]
    },
    {
     "name": "stderr",
     "output_type": "stream",
     "text": [
      "/Users/pssrivathsansundar/.virtualenvs/new_venv/lib/python3.11/site-packages/pennylane_lightning/core/_serialize.py:283: ComplexWarning: Casting complex values to real discards the imaginary part\n",
      "  coeffs = np.array(coeffs).astype(self.rtype)\n"
     ]
    },
    {
     "name": "stdout",
     "output_type": "stream",
     "text": [
      "The expectation value of a⁺(0) a⁺(3) a(4) a(5) is 0.015155934821852913\n",
      "The current excitation operator is a⁺(0) a⁺(3) a(4) a(7)\n"
     ]
    },
    {
     "name": "stderr",
     "output_type": "stream",
     "text": [
      "/Users/pssrivathsansundar/.virtualenvs/new_venv/lib/python3.11/site-packages/pennylane_lightning/core/_serialize.py:283: ComplexWarning: Casting complex values to real discards the imaginary part\n",
      "  coeffs = np.array(coeffs).astype(self.rtype)\n"
     ]
    },
    {
     "name": "stdout",
     "output_type": "stream",
     "text": [
      "The expectation value of a⁺(0) a⁺(3) a(4) a(7) is 0.019464744523704506\n",
      "The current excitation operator is a⁺(0) a⁺(3) a(5) a(6)\n"
     ]
    },
    {
     "name": "stderr",
     "output_type": "stream",
     "text": [
      "/Users/pssrivathsansundar/.virtualenvs/new_venv/lib/python3.11/site-packages/pennylane_lightning/core/_serialize.py:283: ComplexWarning: Casting complex values to real discards the imaginary part\n",
      "  coeffs = np.array(coeffs).astype(self.rtype)\n"
     ]
    },
    {
     "name": "stdout",
     "output_type": "stream",
     "text": [
      "The expectation value of a⁺(0) a⁺(3) a(5) a(6) is 0.04829687002891042\n",
      "The current excitation operator is a⁺(0) a⁺(3) a(6) a(7)\n"
     ]
    },
    {
     "name": "stderr",
     "output_type": "stream",
     "text": [
      "/Users/pssrivathsansundar/.virtualenvs/new_venv/lib/python3.11/site-packages/pennylane_lightning/core/_serialize.py:283: ComplexWarning: Casting complex values to real discards the imaginary part\n",
      "  coeffs = np.array(coeffs).astype(self.rtype)\n"
     ]
    },
    {
     "name": "stdout",
     "output_type": "stream",
     "text": [
      "The expectation value of a⁺(0) a⁺(3) a(6) a(7) is 0.000531294187708381\n",
      "The current excitation operator is a⁺(1) a⁺(2) a(4) a(5)\n"
     ]
    },
    {
     "name": "stderr",
     "output_type": "stream",
     "text": [
      "/Users/pssrivathsansundar/.virtualenvs/new_venv/lib/python3.11/site-packages/pennylane_lightning/core/_serialize.py:283: ComplexWarning: Casting complex values to real discards the imaginary part\n",
      "  coeffs = np.array(coeffs).astype(self.rtype)\n"
     ]
    },
    {
     "name": "stdout",
     "output_type": "stream",
     "text": [
      "The expectation value of a⁺(1) a⁺(2) a(4) a(5) is 0.0020954978804490713\n",
      "The current excitation operator is a⁺(1) a⁺(2) a(4) a(7)\n"
     ]
    },
    {
     "name": "stderr",
     "output_type": "stream",
     "text": [
      "/Users/pssrivathsansundar/.virtualenvs/new_venv/lib/python3.11/site-packages/pennylane_lightning/core/_serialize.py:283: ComplexWarning: Casting complex values to real discards the imaginary part\n",
      "  coeffs = np.array(coeffs).astype(self.rtype)\n"
     ]
    },
    {
     "name": "stdout",
     "output_type": "stream",
     "text": [
      "The expectation value of a⁺(1) a⁺(2) a(4) a(7) is 0.023350695538115866\n",
      "The current excitation operator is a⁺(1) a⁺(2) a(5) a(6)\n"
     ]
    },
    {
     "name": "stderr",
     "output_type": "stream",
     "text": [
      "/Users/pssrivathsansundar/.virtualenvs/new_venv/lib/python3.11/site-packages/pennylane_lightning/core/_serialize.py:283: ComplexWarning: Casting complex values to real discards the imaginary part\n",
      "  coeffs = np.array(coeffs).astype(self.rtype)\n"
     ]
    },
    {
     "name": "stdout",
     "output_type": "stream",
     "text": [
      "The expectation value of a⁺(1) a⁺(2) a(5) a(6) is 0.018050338597541404\n",
      "The current excitation operator is a⁺(1) a⁺(2) a(6) a(7)\n"
     ]
    },
    {
     "name": "stderr",
     "output_type": "stream",
     "text": [
      "/Users/pssrivathsansundar/.virtualenvs/new_venv/lib/python3.11/site-packages/pennylane_lightning/core/_serialize.py:283: ComplexWarning: Casting complex values to real discards the imaginary part\n",
      "  coeffs = np.array(coeffs).astype(self.rtype)\n",
      "/Users/pssrivathsansundar/.virtualenvs/new_venv/lib/python3.11/site-packages/pennylane_lightning/core/_serialize.py:283: ComplexWarning: Casting complex values to real discards the imaginary part\n",
      "  coeffs = np.array(coeffs).astype(self.rtype)\n"
     ]
    },
    {
     "name": "stdout",
     "output_type": "stream",
     "text": [
      "The expectation value of a⁺(1) a⁺(2) a(6) a(7) is 0.006980169225235033\n",
      "The current excitation operator is a⁺(1) a⁺(3) a(5) a(7)\n",
      "The expectation value of a⁺(1) a⁺(3) a(5) a(7) is 0.00018651101204487507\n",
      "The current excitation operator is a⁺(2) a⁺(3) a(4) a(5)\n"
     ]
    },
    {
     "name": "stderr",
     "output_type": "stream",
     "text": [
      "/Users/pssrivathsansundar/.virtualenvs/new_venv/lib/python3.11/site-packages/pennylane_lightning/core/_serialize.py:283: ComplexWarning: Casting complex values to real discards the imaginary part\n",
      "  coeffs = np.array(coeffs).astype(self.rtype)\n"
     ]
    },
    {
     "name": "stdout",
     "output_type": "stream",
     "text": [
      "The expectation value of a⁺(2) a⁺(3) a(4) a(5) is 0.005920154883497847\n",
      "The current excitation operator is a⁺(2) a⁺(3) a(4) a(7)\n"
     ]
    },
    {
     "name": "stderr",
     "output_type": "stream",
     "text": [
      "/Users/pssrivathsansundar/.virtualenvs/new_venv/lib/python3.11/site-packages/pennylane_lightning/core/_serialize.py:283: ComplexWarning: Casting complex values to real discards the imaginary part\n",
      "  coeffs = np.array(coeffs).astype(self.rtype)\n",
      "/Users/pssrivathsansundar/.virtualenvs/new_venv/lib/python3.11/site-packages/pennylane_lightning/core/_serialize.py:283: ComplexWarning: Casting complex values to real discards the imaginary part\n",
      "  coeffs = np.array(coeffs).astype(self.rtype)\n"
     ]
    },
    {
     "name": "stdout",
     "output_type": "stream",
     "text": [
      "The expectation value of a⁺(2) a⁺(3) a(4) a(7) is 0.003482368073634176\n",
      "The current excitation operator is a⁺(2) a⁺(3) a(5) a(6)\n",
      "The expectation value of a⁺(2) a⁺(3) a(5) a(6) is 0.0037658827346948305\n",
      "The current excitation operator is a⁺(2) a⁺(3) a(6) a(7)\n",
      "The expectation value of a⁺(2) a⁺(3) a(6) a(7) is 0.03924907941719146\n",
      "The highest operator value is 0.04829687002891042 for operator a⁺(0) a⁺(3) a(5) a(6)\n",
      "Highest gradient excitation is [0, 3, 5, 6]\n",
      "The current status of ash_excitation is [[1, 2, 4, 7], [0, 3, 5, 6], [0, 1, 4, 5], [0, 4], [0, 3, 5, 6], [0, 3, 5, 6], [0, 3, 5, 6]]\n",
      "Parameters before optimization are [ 1.32730808 -0.85216738  2.63873853  0.40600717  0.23360908  0.\n",
      "  0.        ]\n"
     ]
    },
    {
     "name": "stderr",
     "output_type": "stream",
     "text": [
      "/Users/pssrivathsansundar/.virtualenvs/new_venv/lib/python3.11/site-packages/pennylane_lightning/core/_serialize.py:283: ComplexWarning: Casting complex values to real discards the imaginary part\n",
      "  coeffs = np.array(coeffs).astype(self.rtype)\n"
     ]
    },
    {
     "name": "stdout",
     "output_type": "stream",
     "text": [
      "Current parameters: [ 1.32730098e+00 -8.52169662e-01  2.63873696e+00  4.06009108e-01\n",
      "  2.33613263e-01 -4.83399111e-11  3.98972870e-09]\n",
      "Current cost: -1.5243549531079759\n",
      "\n",
      "Optimization terminated successfully.\n",
      "         Current function value: -1.524355\n",
      "         Iterations: 1\n",
      "         Function evaluations: 187\n",
      "Final updated parameters: [ 1.32730098e+00 -8.52169662e-01  2.63873696e+00  4.06009108e-01\n",
      "  2.33613263e-01 -4.83399111e-11  3.98972870e-09]\n",
      "Final cost: -1.5243549531079759\n",
      "Updated params are [ 1.32730098e+00 -8.52169662e-01  2.63873696e+00  4.06009108e-01\n",
      "  2.33613263e-01 -4.83399111e-11  3.98972870e-09]\n",
      "Updated excitation are [[1, 2, 4, 7], [0, 3, 5, 6], [0, 1, 4, 5], [0, 4], [0, 3, 5, 6], [0, 3, 5, 6], [0, 3, 5, 6]]\n",
      "0: ─╭|Ψ⟩──────────────────────────────────╭FermionicDoubleExcitation(-0.85)\n",
      "1: ─├|Ψ⟩─╭FermionicDoubleExcitation(1.33)─│────────────────────────────────\n",
      "2: ─├|Ψ⟩─├FermionicDoubleExcitation(1.33)─│────────────────────────────────\n",
      "3: ─├|Ψ⟩─│────────────────────────────────├FermionicDoubleExcitation(-0.85)\n",
      "4: ─├|Ψ⟩─├FermionicDoubleExcitation(1.33)─│────────────────────────────────\n",
      "5: ─├|Ψ⟩─│────────────────────────────────├FermionicDoubleExcitation(-0.85)\n",
      "6: ─├|Ψ⟩─│────────────────────────────────╰FermionicDoubleExcitation(-0.85)\n",
      "7: ─╰|Ψ⟩─╰FermionicDoubleExcitation(1.33)──────────────────────────────────\n",
      "\n",
      "──╭FermionicDoubleExcitation(2.64)─╭FermionicSingleExcitation(0.41)─╭FermionicDoubleExcitation(0.23)\n",
      "──├FermionicDoubleExcitation(2.64)─├FermionicSingleExcitation(0.41)─│───────────────────────────────\n",
      "──│────────────────────────────────├FermionicSingleExcitation(0.41)─│───────────────────────────────\n",
      "──│────────────────────────────────├FermionicSingleExcitation(0.41)─├FermionicDoubleExcitation(0.23)\n",
      "──├FermionicDoubleExcitation(2.64)─╰FermionicSingleExcitation(0.41)─│───────────────────────────────\n",
      "──╰FermionicDoubleExcitation(2.64)──────────────────────────────────├FermionicDoubleExcitation(0.23)\n",
      "────────────────────────────────────────────────────────────────────╰FermionicDoubleExcitation(0.23)\n",
      "────────────────────────────────────────────────────────────────────────────────────────────────────\n",
      "\n",
      "──╭FermionicDoubleExcitation(-0.00)─╭FermionicDoubleExcitation(0.00)─┤  State\n",
      "──│─────────────────────────────────│────────────────────────────────┤  State\n",
      "──│─────────────────────────────────│────────────────────────────────┤  State\n",
      "──├FermionicDoubleExcitation(-0.00)─├FermionicDoubleExcitation(0.00)─┤  State\n",
      "──│─────────────────────────────────│────────────────────────────────┤  State\n",
      "──├FermionicDoubleExcitation(-0.00)─├FermionicDoubleExcitation(0.00)─┤  State\n",
      "──╰FermionicDoubleExcitation(-0.00)─╰FermionicDoubleExcitation(0.00)─┤  State\n",
      "─────────────────────────────────────────────────────────────────────┤  State\n",
      "The adapt iteration now is 7\n",
      "The current excitation operator is a⁺(0) a(4)\n",
      "The expectation value of a⁺(0) a(4) is 7.152544150674963e-05\n",
      "The current excitation operator is a⁺(0) a(6)\n",
      "The expectation value of a⁺(0) a(6) is 0.03520229097395267\n",
      "The current excitation operator is a⁺(1) a(5)\n"
     ]
    },
    {
     "name": "stderr",
     "output_type": "stream",
     "text": [
      "/Users/pssrivathsansundar/.virtualenvs/new_venv/lib/python3.11/site-packages/pennylane_lightning/core/_serialize.py:283: ComplexWarning: Casting complex values to real discards the imaginary part\n",
      "  coeffs = np.array(coeffs).astype(self.rtype)\n",
      "/Users/pssrivathsansundar/.virtualenvs/new_venv/lib/python3.11/site-packages/pennylane_lightning/core/_serialize.py:283: ComplexWarning: Casting complex values to real discards the imaginary part\n",
      "  coeffs = np.array(coeffs).astype(self.rtype)\n",
      "/Users/pssrivathsansundar/.virtualenvs/new_venv/lib/python3.11/site-packages/pennylane_lightning/core/_serialize.py:283: ComplexWarning: Casting complex values to real discards the imaginary part\n",
      "  coeffs = np.array(coeffs).astype(self.rtype)\n"
     ]
    },
    {
     "name": "stdout",
     "output_type": "stream",
     "text": [
      "The expectation value of a⁺(1) a(5) is 0.02048685142316655\n",
      "The current excitation operator is a⁺(1) a(7)\n",
      "The expectation value of a⁺(1) a(7) is 0.02591700068473526\n",
      "The current excitation operator is a⁺(2) a(4)\n",
      "The expectation value of a⁺(2) a(4) is 0.039517049291683586\n",
      "The current excitation operator is a⁺(2) a(6)\n"
     ]
    },
    {
     "name": "stderr",
     "output_type": "stream",
     "text": [
      "/Users/pssrivathsansundar/.virtualenvs/new_venv/lib/python3.11/site-packages/pennylane_lightning/core/_serialize.py:283: ComplexWarning: Casting complex values to real discards the imaginary part\n",
      "  coeffs = np.array(coeffs).astype(self.rtype)\n",
      "/Users/pssrivathsansundar/.virtualenvs/new_venv/lib/python3.11/site-packages/pennylane_lightning/core/_serialize.py:283: ComplexWarning: Casting complex values to real discards the imaginary part\n",
      "  coeffs = np.array(coeffs).astype(self.rtype)\n",
      "/Users/pssrivathsansundar/.virtualenvs/new_venv/lib/python3.11/site-packages/pennylane_lightning/core/_serialize.py:283: ComplexWarning: Casting complex values to real discards the imaginary part\n",
      "  coeffs = np.array(coeffs).astype(self.rtype)\n"
     ]
    },
    {
     "name": "stdout",
     "output_type": "stream",
     "text": [
      "The expectation value of a⁺(2) a(6) is 0.011667074447900688\n",
      "The current excitation operator is a⁺(3) a(5)\n",
      "The expectation value of a⁺(3) a(5) is 0.0155381509079644\n",
      "The current excitation operator is a⁺(3) a(7)\n",
      "The expectation value of a⁺(3) a(7) is 0.013800226853424788\n",
      "The current excitation operator is a⁺(0) a⁺(1) a(4) a(5)\n"
     ]
    },
    {
     "name": "stderr",
     "output_type": "stream",
     "text": [
      "/Users/pssrivathsansundar/.virtualenvs/new_venv/lib/python3.11/site-packages/pennylane_lightning/core/_serialize.py:283: ComplexWarning: Casting complex values to real discards the imaginary part\n",
      "  coeffs = np.array(coeffs).astype(self.rtype)\n",
      "/Users/pssrivathsansundar/.virtualenvs/new_venv/lib/python3.11/site-packages/pennylane_lightning/core/_serialize.py:283: ComplexWarning: Casting complex values to real discards the imaginary part\n",
      "  coeffs = np.array(coeffs).astype(self.rtype)\n",
      "/Users/pssrivathsansundar/.virtualenvs/new_venv/lib/python3.11/site-packages/pennylane_lightning/core/_serialize.py:283: ComplexWarning: Casting complex values to real discards the imaginary part\n",
      "  coeffs = np.array(coeffs).astype(self.rtype)\n"
     ]
    },
    {
     "name": "stdout",
     "output_type": "stream",
     "text": [
      "The expectation value of a⁺(0) a⁺(1) a(4) a(5) is 0.0019648945277006996\n",
      "The current excitation operator is a⁺(0) a⁺(1) a(4) a(7)\n"
     ]
    },
    {
     "name": "stderr",
     "output_type": "stream",
     "text": [
      "/Users/pssrivathsansundar/.virtualenvs/new_venv/lib/python3.11/site-packages/pennylane_lightning/core/_serialize.py:283: ComplexWarning: Casting complex values to real discards the imaginary part\n",
      "  coeffs = np.array(coeffs).astype(self.rtype)\n"
     ]
    },
    {
     "name": "stdout",
     "output_type": "stream",
     "text": [
      "The expectation value of a⁺(0) a⁺(1) a(4) a(7) is 0.00905192588945632\n",
      "The current excitation operator is a⁺(0) a⁺(1) a(5) a(6)\n"
     ]
    },
    {
     "name": "stderr",
     "output_type": "stream",
     "text": [
      "/Users/pssrivathsansundar/.virtualenvs/new_venv/lib/python3.11/site-packages/pennylane_lightning/core/_serialize.py:283: ComplexWarning: Casting complex values to real discards the imaginary part\n",
      "  coeffs = np.array(coeffs).astype(self.rtype)\n"
     ]
    },
    {
     "name": "stdout",
     "output_type": "stream",
     "text": [
      "The expectation value of a⁺(0) a⁺(1) a(5) a(6) is 0.012063150884769325\n",
      "The current excitation operator is a⁺(0) a⁺(1) a(6) a(7)\n"
     ]
    },
    {
     "name": "stderr",
     "output_type": "stream",
     "text": [
      "/Users/pssrivathsansundar/.virtualenvs/new_venv/lib/python3.11/site-packages/pennylane_lightning/core/_serialize.py:283: ComplexWarning: Casting complex values to real discards the imaginary part\n",
      "  coeffs = np.array(coeffs).astype(self.rtype)\n"
     ]
    },
    {
     "name": "stdout",
     "output_type": "stream",
     "text": [
      "The expectation value of a⁺(0) a⁺(1) a(6) a(7) is 0.024457217902281746\n",
      "The current excitation operator is a⁺(0) a⁺(2) a(4) a(6)\n",
      "The expectation value of a⁺(0) a⁺(2) a(4) a(6) is 0.0023485508252006557\n",
      "The current excitation operator is a⁺(0) a⁺(3) a(4) a(5)\n"
     ]
    },
    {
     "name": "stderr",
     "output_type": "stream",
     "text": [
      "/Users/pssrivathsansundar/.virtualenvs/new_venv/lib/python3.11/site-packages/pennylane_lightning/core/_serialize.py:283: ComplexWarning: Casting complex values to real discards the imaginary part\n",
      "  coeffs = np.array(coeffs).astype(self.rtype)\n",
      "/Users/pssrivathsansundar/.virtualenvs/new_venv/lib/python3.11/site-packages/pennylane_lightning/core/_serialize.py:283: ComplexWarning: Casting complex values to real discards the imaginary part\n",
      "  coeffs = np.array(coeffs).astype(self.rtype)\n"
     ]
    },
    {
     "name": "stdout",
     "output_type": "stream",
     "text": [
      "The expectation value of a⁺(0) a⁺(3) a(4) a(5) is 0.015155990393205672\n",
      "The current excitation operator is a⁺(0) a⁺(3) a(4) a(7)\n"
     ]
    },
    {
     "name": "stderr",
     "output_type": "stream",
     "text": [
      "/Users/pssrivathsansundar/.virtualenvs/new_venv/lib/python3.11/site-packages/pennylane_lightning/core/_serialize.py:283: ComplexWarning: Casting complex values to real discards the imaginary part\n",
      "  coeffs = np.array(coeffs).astype(self.rtype)\n"
     ]
    },
    {
     "name": "stdout",
     "output_type": "stream",
     "text": [
      "The expectation value of a⁺(0) a⁺(3) a(4) a(7) is 0.01946468349702151\n",
      "The current excitation operator is a⁺(0) a⁺(3) a(5) a(6)\n"
     ]
    },
    {
     "name": "stderr",
     "output_type": "stream",
     "text": [
      "/Users/pssrivathsansundar/.virtualenvs/new_venv/lib/python3.11/site-packages/pennylane_lightning/core/_serialize.py:283: ComplexWarning: Casting complex values to real discards the imaginary part\n",
      "  coeffs = np.array(coeffs).astype(self.rtype)\n"
     ]
    },
    {
     "name": "stdout",
     "output_type": "stream",
     "text": [
      "The expectation value of a⁺(0) a⁺(3) a(5) a(6) is 0.048296810027017266\n",
      "The current excitation operator is a⁺(0) a⁺(3) a(6) a(7)\n"
     ]
    },
    {
     "name": "stderr",
     "output_type": "stream",
     "text": [
      "/Users/pssrivathsansundar/.virtualenvs/new_venv/lib/python3.11/site-packages/pennylane_lightning/core/_serialize.py:283: ComplexWarning: Casting complex values to real discards the imaginary part\n",
      "  coeffs = np.array(coeffs).astype(self.rtype)\n"
     ]
    },
    {
     "name": "stdout",
     "output_type": "stream",
     "text": [
      "The expectation value of a⁺(0) a⁺(3) a(6) a(7) is 0.0005312898403281945\n",
      "The current excitation operator is a⁺(1) a⁺(2) a(4) a(5)\n"
     ]
    },
    {
     "name": "stderr",
     "output_type": "stream",
     "text": [
      "/Users/pssrivathsansundar/.virtualenvs/new_venv/lib/python3.11/site-packages/pennylane_lightning/core/_serialize.py:283: ComplexWarning: Casting complex values to real discards the imaginary part\n",
      "  coeffs = np.array(coeffs).astype(self.rtype)\n"
     ]
    },
    {
     "name": "stdout",
     "output_type": "stream",
     "text": [
      "The expectation value of a⁺(1) a⁺(2) a(4) a(5) is 0.0020955216208701616\n",
      "The current excitation operator is a⁺(1) a⁺(2) a(4) a(7)\n"
     ]
    },
    {
     "name": "stderr",
     "output_type": "stream",
     "text": [
      "/Users/pssrivathsansundar/.virtualenvs/new_venv/lib/python3.11/site-packages/pennylane_lightning/core/_serialize.py:283: ComplexWarning: Casting complex values to real discards the imaginary part\n",
      "  coeffs = np.array(coeffs).astype(self.rtype)\n"
     ]
    },
    {
     "name": "stdout",
     "output_type": "stream",
     "text": [
      "The expectation value of a⁺(1) a⁺(2) a(4) a(7) is 0.023350036313833148\n",
      "The current excitation operator is a⁺(1) a⁺(2) a(5) a(6)\n"
     ]
    },
    {
     "name": "stderr",
     "output_type": "stream",
     "text": [
      "/Users/pssrivathsansundar/.virtualenvs/new_venv/lib/python3.11/site-packages/pennylane_lightning/core/_serialize.py:283: ComplexWarning: Casting complex values to real discards the imaginary part\n",
      "  coeffs = np.array(coeffs).astype(self.rtype)\n"
     ]
    },
    {
     "name": "stdout",
     "output_type": "stream",
     "text": [
      "The expectation value of a⁺(1) a⁺(2) a(5) a(6) is 0.018050276180910405\n",
      "The current excitation operator is a⁺(1) a⁺(2) a(6) a(7)\n"
     ]
    },
    {
     "name": "stderr",
     "output_type": "stream",
     "text": [
      "/Users/pssrivathsansundar/.virtualenvs/new_venv/lib/python3.11/site-packages/pennylane_lightning/core/_serialize.py:283: ComplexWarning: Casting complex values to real discards the imaginary part\n",
      "  coeffs = np.array(coeffs).astype(self.rtype)\n"
     ]
    },
    {
     "name": "stdout",
     "output_type": "stream",
     "text": [
      "The expectation value of a⁺(1) a⁺(2) a(6) a(7) is 0.006980165091489454\n",
      "The current excitation operator is a⁺(1) a⁺(3) a(5) a(7)\n"
     ]
    },
    {
     "name": "stderr",
     "output_type": "stream",
     "text": [
      "/Users/pssrivathsansundar/.virtualenvs/new_venv/lib/python3.11/site-packages/pennylane_lightning/core/_serialize.py:283: ComplexWarning: Casting complex values to real discards the imaginary part\n",
      "  coeffs = np.array(coeffs).astype(self.rtype)\n"
     ]
    },
    {
     "name": "stdout",
     "output_type": "stream",
     "text": [
      "The expectation value of a⁺(1) a⁺(3) a(5) a(7) is 0.0001864016929374689\n",
      "The current excitation operator is a⁺(2) a⁺(3) a(4) a(5)\n"
     ]
    },
    {
     "name": "stderr",
     "output_type": "stream",
     "text": [
      "/Users/pssrivathsansundar/.virtualenvs/new_venv/lib/python3.11/site-packages/pennylane_lightning/core/_serialize.py:283: ComplexWarning: Casting complex values to real discards the imaginary part\n",
      "  coeffs = np.array(coeffs).astype(self.rtype)\n"
     ]
    },
    {
     "name": "stdout",
     "output_type": "stream",
     "text": [
      "The expectation value of a⁺(2) a⁺(3) a(4) a(5) is 0.005920159776398916\n",
      "The current excitation operator is a⁺(2) a⁺(3) a(4) a(7)\n"
     ]
    },
    {
     "name": "stderr",
     "output_type": "stream",
     "text": [
      "/Users/pssrivathsansundar/.virtualenvs/new_venv/lib/python3.11/site-packages/pennylane_lightning/core/_serialize.py:283: ComplexWarning: Casting complex values to real discards the imaginary part\n",
      "  coeffs = np.array(coeffs).astype(self.rtype)\n"
     ]
    },
    {
     "name": "stdout",
     "output_type": "stream",
     "text": [
      "The expectation value of a⁺(2) a⁺(3) a(4) a(7) is 0.003482389932616247\n",
      "The current excitation operator is a⁺(2) a⁺(3) a(5) a(6)\n"
     ]
    },
    {
     "name": "stderr",
     "output_type": "stream",
     "text": [
      "/Users/pssrivathsansundar/.virtualenvs/new_venv/lib/python3.11/site-packages/pennylane_lightning/core/_serialize.py:283: ComplexWarning: Casting complex values to real discards the imaginary part\n",
      "  coeffs = np.array(coeffs).astype(self.rtype)\n"
     ]
    },
    {
     "name": "stdout",
     "output_type": "stream",
     "text": [
      "The expectation value of a⁺(2) a⁺(3) a(5) a(6) is 0.0037658604354407713\n",
      "The current excitation operator is a⁺(2) a⁺(3) a(6) a(7)\n"
     ]
    },
    {
     "name": "stderr",
     "output_type": "stream",
     "text": [
      "/Users/pssrivathsansundar/.virtualenvs/new_venv/lib/python3.11/site-packages/pennylane_lightning/core/_serialize.py:283: ComplexWarning: Casting complex values to real discards the imaginary part\n",
      "  coeffs = np.array(coeffs).astype(self.rtype)\n"
     ]
    },
    {
     "name": "stdout",
     "output_type": "stream",
     "text": [
      "The expectation value of a⁺(2) a⁺(3) a(6) a(7) is 0.03924939165110595\n",
      "The highest operator value is 0.048296810027017266 for operator a⁺(0) a⁺(3) a(5) a(6)\n",
      "Highest gradient excitation is [0, 3, 5, 6]\n",
      "The current status of ash_excitation is [[1, 2, 4, 7], [0, 3, 5, 6], [0, 1, 4, 5], [0, 4], [0, 3, 5, 6], [0, 3, 5, 6], [0, 3, 5, 6], [0, 3, 5, 6]]\n",
      "Parameters before optimization are [ 1.32730098e+00 -8.52169662e-01  2.63873696e+00  4.06009108e-01\n",
      "  2.33613263e-01 -4.83399111e-11  3.98972870e-09  0.00000000e+00]\n",
      "Current parameters: [ 1.32729880e+00 -8.52170822e-01  2.63873696e+00  4.06009601e-01\n",
      "  2.33614943e-01  1.66930941e-07  1.11013022e-07 -1.57717918e-11]\n",
      "Current cost: -1.5243549531082032\n",
      "\n",
      "Optimization terminated successfully.\n",
      "         Current function value: -1.524355\n",
      "         Iterations: 1\n",
      "         Function evaluations: 214\n",
      "Final updated parameters: [ 1.32729880e+00 -8.52170822e-01  2.63873696e+00  4.06009601e-01\n",
      "  2.33614943e-01  1.66930941e-07  1.11013022e-07 -1.57717918e-11]\n",
      "Final cost: -1.5243549531082035\n",
      "Updated params are [ 1.32729880e+00 -8.52170822e-01  2.63873696e+00  4.06009601e-01\n",
      "  2.33614943e-01  1.66930941e-07  1.11013022e-07 -1.57717918e-11]\n",
      "Updated excitation are [[1, 2, 4, 7], [0, 3, 5, 6], [0, 1, 4, 5], [0, 4], [0, 3, 5, 6], [0, 3, 5, 6], [0, 3, 5, 6], [0, 3, 5, 6]]\n",
      "0: ─╭|Ψ⟩──────────────────────────────────╭FermionicDoubleExcitation(-0.85)\n",
      "1: ─├|Ψ⟩─╭FermionicDoubleExcitation(1.33)─│────────────────────────────────\n",
      "2: ─├|Ψ⟩─├FermionicDoubleExcitation(1.33)─│────────────────────────────────\n",
      "3: ─├|Ψ⟩─│────────────────────────────────├FermionicDoubleExcitation(-0.85)\n",
      "4: ─├|Ψ⟩─├FermionicDoubleExcitation(1.33)─│────────────────────────────────\n",
      "5: ─├|Ψ⟩─│────────────────────────────────├FermionicDoubleExcitation(-0.85)\n",
      "6: ─├|Ψ⟩─│────────────────────────────────╰FermionicDoubleExcitation(-0.85)\n",
      "7: ─╰|Ψ⟩─╰FermionicDoubleExcitation(1.33)──────────────────────────────────\n",
      "\n",
      "──╭FermionicDoubleExcitation(2.64)─╭FermionicSingleExcitation(0.41)─╭FermionicDoubleExcitation(0.23)\n",
      "──├FermionicDoubleExcitation(2.64)─├FermionicSingleExcitation(0.41)─│───────────────────────────────\n",
      "──│────────────────────────────────├FermionicSingleExcitation(0.41)─│───────────────────────────────\n",
      "──│────────────────────────────────├FermionicSingleExcitation(0.41)─├FermionicDoubleExcitation(0.23)\n",
      "──├FermionicDoubleExcitation(2.64)─╰FermionicSingleExcitation(0.41)─│───────────────────────────────\n",
      "──╰FermionicDoubleExcitation(2.64)──────────────────────────────────├FermionicDoubleExcitation(0.23)\n",
      "────────────────────────────────────────────────────────────────────╰FermionicDoubleExcitation(0.23)\n",
      "────────────────────────────────────────────────────────────────────────────────────────────────────\n",
      "\n",
      "──╭FermionicDoubleExcitation(0.00)─╭FermionicDoubleExcitation(0.00)\n",
      "──│────────────────────────────────│───────────────────────────────\n",
      "──│────────────────────────────────│───────────────────────────────\n",
      "──├FermionicDoubleExcitation(0.00)─├FermionicDoubleExcitation(0.00)\n",
      "──│────────────────────────────────│───────────────────────────────\n",
      "──├FermionicDoubleExcitation(0.00)─├FermionicDoubleExcitation(0.00)\n",
      "──╰FermionicDoubleExcitation(0.00)─╰FermionicDoubleExcitation(0.00)\n",
      "───────────────────────────────────────────────────────────────────\n",
      "\n",
      "──╭FermionicDoubleExcitation(-0.00)─┤  State\n",
      "──│─────────────────────────────────┤  State\n",
      "──│─────────────────────────────────┤  State\n",
      "──├FermionicDoubleExcitation(-0.00)─┤  State\n",
      "──│─────────────────────────────────┤  State\n",
      "──├FermionicDoubleExcitation(-0.00)─┤  State\n",
      "──╰FermionicDoubleExcitation(-0.00)─┤  State\n",
      "────────────────────────────────────┤  State\n",
      "The adapt iteration now is 8\n",
      "The current excitation operator is a⁺(0) a(4)\n",
      "The expectation value of a⁺(0) a(4) is 7.151993695356678e-05\n",
      "The current excitation operator is a⁺(0) a(6)\n",
      "The expectation value of a⁺(0) a(6) is 0.03520230303847153\n",
      "The current excitation operator is a⁺(1) a(5)\n"
     ]
    },
    {
     "name": "stderr",
     "output_type": "stream",
     "text": [
      "/Users/pssrivathsansundar/.virtualenvs/new_venv/lib/python3.11/site-packages/pennylane_lightning/core/_serialize.py:283: ComplexWarning: Casting complex values to real discards the imaginary part\n",
      "  coeffs = np.array(coeffs).astype(self.rtype)\n",
      "/Users/pssrivathsansundar/.virtualenvs/new_venv/lib/python3.11/site-packages/pennylane_lightning/core/_serialize.py:283: ComplexWarning: Casting complex values to real discards the imaginary part\n",
      "  coeffs = np.array(coeffs).astype(self.rtype)\n",
      "/Users/pssrivathsansundar/.virtualenvs/new_venv/lib/python3.11/site-packages/pennylane_lightning/core/_serialize.py:283: ComplexWarning: Casting complex values to real discards the imaginary part\n",
      "  coeffs = np.array(coeffs).astype(self.rtype)\n"
     ]
    },
    {
     "name": "stdout",
     "output_type": "stream",
     "text": [
      "The expectation value of a⁺(1) a(5) is 0.02048692824544354\n",
      "The current excitation operator is a⁺(1) a(7)\n",
      "The expectation value of a⁺(1) a(7) is 0.025916982965878566\n",
      "The current excitation operator is a⁺(2) a(4)\n"
     ]
    },
    {
     "name": "stderr",
     "output_type": "stream",
     "text": [
      "/Users/pssrivathsansundar/.virtualenvs/new_venv/lib/python3.11/site-packages/pennylane_lightning/core/_serialize.py:283: ComplexWarning: Casting complex values to real discards the imaginary part\n",
      "  coeffs = np.array(coeffs).astype(self.rtype)\n",
      "/Users/pssrivathsansundar/.virtualenvs/new_venv/lib/python3.11/site-packages/pennylane_lightning/core/_serialize.py:283: ComplexWarning: Casting complex values to real discards the imaginary part\n",
      "  coeffs = np.array(coeffs).astype(self.rtype)\n"
     ]
    },
    {
     "name": "stdout",
     "output_type": "stream",
     "text": [
      "The expectation value of a⁺(2) a(4) is 0.03951707999434585\n",
      "The current excitation operator is a⁺(2) a(6)\n",
      "The expectation value of a⁺(2) a(6) is 0.011667118837408178\n",
      "The current excitation operator is a⁺(3) a(5)\n"
     ]
    },
    {
     "name": "stderr",
     "output_type": "stream",
     "text": [
      "/Users/pssrivathsansundar/.virtualenvs/new_venv/lib/python3.11/site-packages/pennylane_lightning/core/_serialize.py:283: ComplexWarning: Casting complex values to real discards the imaginary part\n",
      "  coeffs = np.array(coeffs).astype(self.rtype)\n",
      "/Users/pssrivathsansundar/.virtualenvs/new_venv/lib/python3.11/site-packages/pennylane_lightning/core/_serialize.py:283: ComplexWarning: Casting complex values to real discards the imaginary part\n",
      "  coeffs = np.array(coeffs).astype(self.rtype)\n"
     ]
    },
    {
     "name": "stdout",
     "output_type": "stream",
     "text": [
      "The expectation value of a⁺(3) a(5) is 0.015538138302367941\n",
      "The current excitation operator is a⁺(3) a(7)\n",
      "The expectation value of a⁺(3) a(7) is 0.0138002523665766\n",
      "The current excitation operator is a⁺(0) a⁺(1) a(4) a(5)\n"
     ]
    },
    {
     "name": "stderr",
     "output_type": "stream",
     "text": [
      "/Users/pssrivathsansundar/.virtualenvs/new_venv/lib/python3.11/site-packages/pennylane_lightning/core/_serialize.py:283: ComplexWarning: Casting complex values to real discards the imaginary part\n",
      "  coeffs = np.array(coeffs).astype(self.rtype)\n",
      "/Users/pssrivathsansundar/.virtualenvs/new_venv/lib/python3.11/site-packages/pennylane_lightning/core/_serialize.py:283: ComplexWarning: Casting complex values to real discards the imaginary part\n",
      "  coeffs = np.array(coeffs).astype(self.rtype)\n"
     ]
    },
    {
     "name": "stdout",
     "output_type": "stream",
     "text": [
      "The expectation value of a⁺(0) a⁺(1) a(4) a(5) is 0.0019649658215699353\n",
      "The current excitation operator is a⁺(0) a⁺(1) a(4) a(7)\n"
     ]
    },
    {
     "name": "stderr",
     "output_type": "stream",
     "text": [
      "/Users/pssrivathsansundar/.virtualenvs/new_venv/lib/python3.11/site-packages/pennylane_lightning/core/_serialize.py:283: ComplexWarning: Casting complex values to real discards the imaginary part\n",
      "  coeffs = np.array(coeffs).astype(self.rtype)\n"
     ]
    },
    {
     "name": "stdout",
     "output_type": "stream",
     "text": [
      "The expectation value of a⁺(0) a⁺(1) a(4) a(7) is 0.009051932607030444\n",
      "The current excitation operator is a⁺(0) a⁺(1) a(5) a(6)\n"
     ]
    },
    {
     "name": "stderr",
     "output_type": "stream",
     "text": [
      "/Users/pssrivathsansundar/.virtualenvs/new_venv/lib/python3.11/site-packages/pennylane_lightning/core/_serialize.py:283: ComplexWarning: Casting complex values to real discards the imaginary part\n",
      "  coeffs = np.array(coeffs).astype(self.rtype)\n"
     ]
    },
    {
     "name": "stdout",
     "output_type": "stream",
     "text": [
      "The expectation value of a⁺(0) a⁺(1) a(5) a(6) is 0.012063153529624851\n",
      "The current excitation operator is a⁺(0) a⁺(1) a(6) a(7)\n"
     ]
    },
    {
     "name": "stderr",
     "output_type": "stream",
     "text": [
      "/Users/pssrivathsansundar/.virtualenvs/new_venv/lib/python3.11/site-packages/pennylane_lightning/core/_serialize.py:283: ComplexWarning: Casting complex values to real discards the imaginary part\n",
      "  coeffs = np.array(coeffs).astype(self.rtype)\n"
     ]
    },
    {
     "name": "stdout",
     "output_type": "stream",
     "text": [
      "The expectation value of a⁺(0) a⁺(1) a(6) a(7) is 0.02445720597464981\n",
      "The current excitation operator is a⁺(0) a⁺(2) a(4) a(6)\n"
     ]
    },
    {
     "name": "stderr",
     "output_type": "stream",
     "text": [
      "/Users/pssrivathsansundar/.virtualenvs/new_venv/lib/python3.11/site-packages/pennylane_lightning/core/_serialize.py:283: ComplexWarning: Casting complex values to real discards the imaginary part\n",
      "  coeffs = np.array(coeffs).astype(self.rtype)\n"
     ]
    },
    {
     "name": "stdout",
     "output_type": "stream",
     "text": [
      "The expectation value of a⁺(0) a⁺(2) a(4) a(6) is 0.0023485580309390184\n",
      "The current excitation operator is a⁺(0) a⁺(3) a(4) a(5)\n"
     ]
    },
    {
     "name": "stderr",
     "output_type": "stream",
     "text": [
      "/Users/pssrivathsansundar/.virtualenvs/new_venv/lib/python3.11/site-packages/pennylane_lightning/core/_serialize.py:283: ComplexWarning: Casting complex values to real discards the imaginary part\n",
      "  coeffs = np.array(coeffs).astype(self.rtype)\n"
     ]
    },
    {
     "name": "stdout",
     "output_type": "stream",
     "text": [
      "The expectation value of a⁺(0) a⁺(3) a(4) a(5) is 0.01515600813857973\n",
      "The current excitation operator is a⁺(0) a⁺(3) a(4) a(7)\n"
     ]
    },
    {
     "name": "stderr",
     "output_type": "stream",
     "text": [
      "/Users/pssrivathsansundar/.virtualenvs/new_venv/lib/python3.11/site-packages/pennylane_lightning/core/_serialize.py:283: ComplexWarning: Casting complex values to real discards the imaginary part\n",
      "  coeffs = np.array(coeffs).astype(self.rtype)\n"
     ]
    },
    {
     "name": "stdout",
     "output_type": "stream",
     "text": [
      "The expectation value of a⁺(0) a⁺(3) a(4) a(7) is 0.019464664702157797\n",
      "The current excitation operator is a⁺(0) a⁺(3) a(5) a(6)\n"
     ]
    },
    {
     "name": "stderr",
     "output_type": "stream",
     "text": [
      "/Users/pssrivathsansundar/.virtualenvs/new_venv/lib/python3.11/site-packages/pennylane_lightning/core/_serialize.py:283: ComplexWarning: Casting complex values to real discards the imaginary part\n",
      "  coeffs = np.array(coeffs).astype(self.rtype)\n"
     ]
    },
    {
     "name": "stdout",
     "output_type": "stream",
     "text": [
      "The expectation value of a⁺(0) a⁺(3) a(5) a(6) is 0.04829679594292851\n",
      "The current excitation operator is a⁺(0) a⁺(3) a(6) a(7)\n"
     ]
    },
    {
     "name": "stderr",
     "output_type": "stream",
     "text": [
      "/Users/pssrivathsansundar/.virtualenvs/new_venv/lib/python3.11/site-packages/pennylane_lightning/core/_serialize.py:283: ComplexWarning: Casting complex values to real discards the imaginary part\n",
      "  coeffs = np.array(coeffs).astype(self.rtype)\n"
     ]
    },
    {
     "name": "stdout",
     "output_type": "stream",
     "text": [
      "The expectation value of a⁺(0) a⁺(3) a(6) a(7) is 0.0005312935678786195\n",
      "The current excitation operator is a⁺(1) a⁺(2) a(4) a(5)\n"
     ]
    },
    {
     "name": "stderr",
     "output_type": "stream",
     "text": [
      "/Users/pssrivathsansundar/.virtualenvs/new_venv/lib/python3.11/site-packages/pennylane_lightning/core/_serialize.py:283: ComplexWarning: Casting complex values to real discards the imaginary part\n",
      "  coeffs = np.array(coeffs).astype(self.rtype)\n"
     ]
    },
    {
     "name": "stdout",
     "output_type": "stream",
     "text": [
      "The expectation value of a⁺(1) a⁺(2) a(4) a(5) is 0.002095530958284757\n",
      "The current excitation operator is a⁺(1) a⁺(2) a(4) a(7)\n"
     ]
    },
    {
     "name": "stderr",
     "output_type": "stream",
     "text": [
      "/Users/pssrivathsansundar/.virtualenvs/new_venv/lib/python3.11/site-packages/pennylane_lightning/core/_serialize.py:283: ComplexWarning: Casting complex values to real discards the imaginary part\n",
      "  coeffs = np.array(coeffs).astype(self.rtype)\n"
     ]
    },
    {
     "name": "stdout",
     "output_type": "stream",
     "text": [
      "The expectation value of a⁺(1) a⁺(2) a(4) a(7) is 0.023349853775037704\n",
      "The current excitation operator is a⁺(1) a⁺(2) a(5) a(6)\n"
     ]
    },
    {
     "name": "stderr",
     "output_type": "stream",
     "text": [
      "/Users/pssrivathsansundar/.virtualenvs/new_venv/lib/python3.11/site-packages/pennylane_lightning/core/_serialize.py:283: ComplexWarning: Casting complex values to real discards the imaginary part\n",
      "  coeffs = np.array(coeffs).astype(self.rtype)\n"
     ]
    },
    {
     "name": "stdout",
     "output_type": "stream",
     "text": [
      "The expectation value of a⁺(1) a⁺(2) a(5) a(6) is 0.01805025398811012\n",
      "The current excitation operator is a⁺(1) a⁺(2) a(6) a(7)\n"
     ]
    },
    {
     "name": "stderr",
     "output_type": "stream",
     "text": [
      "/Users/pssrivathsansundar/.virtualenvs/new_venv/lib/python3.11/site-packages/pennylane_lightning/core/_serialize.py:283: ComplexWarning: Casting complex values to real discards the imaginary part\n",
      "  coeffs = np.array(coeffs).astype(self.rtype)\n",
      "/Users/pssrivathsansundar/.virtualenvs/new_venv/lib/python3.11/site-packages/pennylane_lightning/core/_serialize.py:283: ComplexWarning: Casting complex values to real discards the imaginary part\n",
      "  coeffs = np.array(coeffs).astype(self.rtype)\n"
     ]
    },
    {
     "name": "stdout",
     "output_type": "stream",
     "text": [
      "The expectation value of a⁺(1) a⁺(2) a(6) a(7) is 0.006980162495628609\n",
      "The current excitation operator is a⁺(1) a⁺(3) a(5) a(7)\n",
      "The expectation value of a⁺(1) a⁺(3) a(5) a(7) is 0.00018637164992425326\n",
      "The current excitation operator is a⁺(2) a⁺(3) a(4) a(5)\n"
     ]
    },
    {
     "name": "stderr",
     "output_type": "stream",
     "text": [
      "/Users/pssrivathsansundar/.virtualenvs/new_venv/lib/python3.11/site-packages/pennylane_lightning/core/_serialize.py:283: ComplexWarning: Casting complex values to real discards the imaginary part\n",
      "  coeffs = np.array(coeffs).astype(self.rtype)\n"
     ]
    },
    {
     "name": "stdout",
     "output_type": "stream",
     "text": [
      "The expectation value of a⁺(2) a⁺(3) a(4) a(5) is 0.005920158908307557\n",
      "The current excitation operator is a⁺(2) a⁺(3) a(4) a(7)\n"
     ]
    },
    {
     "name": "stderr",
     "output_type": "stream",
     "text": [
      "/Users/pssrivathsansundar/.virtualenvs/new_venv/lib/python3.11/site-packages/pennylane_lightning/core/_serialize.py:283: ComplexWarning: Casting complex values to real discards the imaginary part\n",
      "  coeffs = np.array(coeffs).astype(self.rtype)\n"
     ]
    },
    {
     "name": "stdout",
     "output_type": "stream",
     "text": [
      "The expectation value of a⁺(2) a⁺(3) a(4) a(7) is 0.0034823926137310694\n",
      "The current excitation operator is a⁺(2) a⁺(3) a(5) a(6)\n"
     ]
    },
    {
     "name": "stderr",
     "output_type": "stream",
     "text": [
      "/Users/pssrivathsansundar/.virtualenvs/new_venv/lib/python3.11/site-packages/pennylane_lightning/core/_serialize.py:283: ComplexWarning: Casting complex values to real discards the imaginary part\n",
      "  coeffs = np.array(coeffs).astype(self.rtype)\n"
     ]
    },
    {
     "name": "stdout",
     "output_type": "stream",
     "text": [
      "The expectation value of a⁺(2) a⁺(3) a(5) a(6) is 0.003765849408025854\n",
      "The current excitation operator is a⁺(2) a⁺(3) a(6) a(7)\n"
     ]
    },
    {
     "name": "stderr",
     "output_type": "stream",
     "text": [
      "/Users/pssrivathsansundar/.virtualenvs/new_venv/lib/python3.11/site-packages/pennylane_lightning/core/_serialize.py:283: ComplexWarning: Casting complex values to real discards the imaginary part\n",
      "  coeffs = np.array(coeffs).astype(self.rtype)\n"
     ]
    },
    {
     "name": "stdout",
     "output_type": "stream",
     "text": [
      "The expectation value of a⁺(2) a⁺(3) a(6) a(7) is 0.03924948131002901\n",
      "The highest operator value is 0.04829679594292851 for operator a⁺(0) a⁺(3) a(5) a(6)\n",
      "Highest gradient excitation is [0, 3, 5, 6]\n",
      "The current status of ash_excitation is [[1, 2, 4, 7], [0, 3, 5, 6], [0, 1, 4, 5], [0, 4], [0, 3, 5, 6], [0, 3, 5, 6], [0, 3, 5, 6], [0, 3, 5, 6], [0, 3, 5, 6]]\n",
      "Parameters before optimization are [ 1.32729880e+00 -8.52170822e-01  2.63873696e+00  4.06009601e-01\n",
      "  2.33614943e-01  1.66930941e-07  1.11013022e-07 -1.57717918e-11\n",
      "  0.00000000e+00]\n",
      "Current parameters: [ 1.32729837e+00 -8.52171647e-01  2.63873749e+00  4.06009861e-01\n",
      "  2.33615840e-01  1.66930941e-07  1.30872789e-07 -5.25014557e-08\n",
      "  8.02818737e-08]\n",
      "Current cost: -1.5243549531082434\n",
      "\n",
      "Optimization terminated successfully.\n",
      "         Current function value: -1.524355\n",
      "         Iterations: 1\n",
      "         Function evaluations: 235\n",
      "Final updated parameters: [ 1.32729837e+00 -8.52171647e-01  2.63873749e+00  4.06009861e-01\n",
      "  2.33615840e-01  1.66930941e-07  1.30872789e-07 -5.25014557e-08\n",
      "  8.02818737e-08]\n",
      "Final cost: -1.5243549531082434\n",
      "Updated params are [ 1.32729837e+00 -8.52171647e-01  2.63873749e+00  4.06009861e-01\n",
      "  2.33615840e-01  1.66930941e-07  1.30872789e-07 -5.25014557e-08\n",
      "  8.02818737e-08]\n",
      "Updated excitation are [[1, 2, 4, 7], [0, 3, 5, 6], [0, 1, 4, 5], [0, 4], [0, 3, 5, 6], [0, 3, 5, 6], [0, 3, 5, 6], [0, 3, 5, 6], [0, 3, 5, 6]]\n",
      "0: ─╭|Ψ⟩──────────────────────────────────╭FermionicDoubleExcitation(-0.85)\n",
      "1: ─├|Ψ⟩─╭FermionicDoubleExcitation(1.33)─│────────────────────────────────\n",
      "2: ─├|Ψ⟩─├FermionicDoubleExcitation(1.33)─│────────────────────────────────\n",
      "3: ─├|Ψ⟩─│────────────────────────────────├FermionicDoubleExcitation(-0.85)\n",
      "4: ─├|Ψ⟩─├FermionicDoubleExcitation(1.33)─│────────────────────────────────\n",
      "5: ─├|Ψ⟩─│────────────────────────────────├FermionicDoubleExcitation(-0.85)\n",
      "6: ─├|Ψ⟩─│────────────────────────────────╰FermionicDoubleExcitation(-0.85)\n",
      "7: ─╰|Ψ⟩─╰FermionicDoubleExcitation(1.33)──────────────────────────────────\n",
      "\n",
      "──╭FermionicDoubleExcitation(2.64)─╭FermionicSingleExcitation(0.41)─╭FermionicDoubleExcitation(0.23)\n",
      "──├FermionicDoubleExcitation(2.64)─├FermionicSingleExcitation(0.41)─│───────────────────────────────\n",
      "──│────────────────────────────────├FermionicSingleExcitation(0.41)─│───────────────────────────────\n",
      "──│────────────────────────────────├FermionicSingleExcitation(0.41)─├FermionicDoubleExcitation(0.23)\n",
      "──├FermionicDoubleExcitation(2.64)─╰FermionicSingleExcitation(0.41)─│───────────────────────────────\n",
      "──╰FermionicDoubleExcitation(2.64)──────────────────────────────────├FermionicDoubleExcitation(0.23)\n",
      "────────────────────────────────────────────────────────────────────╰FermionicDoubleExcitation(0.23)\n",
      "────────────────────────────────────────────────────────────────────────────────────────────────────\n",
      "\n",
      "──╭FermionicDoubleExcitation(0.00)─╭FermionicDoubleExcitation(0.00)\n",
      "──│────────────────────────────────│───────────────────────────────\n",
      "──│────────────────────────────────│───────────────────────────────\n",
      "──├FermionicDoubleExcitation(0.00)─├FermionicDoubleExcitation(0.00)\n",
      "──│────────────────────────────────│───────────────────────────────\n",
      "──├FermionicDoubleExcitation(0.00)─├FermionicDoubleExcitation(0.00)\n",
      "──╰FermionicDoubleExcitation(0.00)─╰FermionicDoubleExcitation(0.00)\n",
      "───────────────────────────────────────────────────────────────────\n",
      "\n",
      "──╭FermionicDoubleExcitation(-0.00)─╭FermionicDoubleExcitation(0.00)─┤  State\n",
      "──│─────────────────────────────────│────────────────────────────────┤  State\n",
      "──│─────────────────────────────────│────────────────────────────────┤  State\n",
      "──├FermionicDoubleExcitation(-0.00)─├FermionicDoubleExcitation(0.00)─┤  State\n",
      "──│─────────────────────────────────│────────────────────────────────┤  State\n",
      "──├FermionicDoubleExcitation(-0.00)─├FermionicDoubleExcitation(0.00)─┤  State\n",
      "──╰FermionicDoubleExcitation(-0.00)─╰FermionicDoubleExcitation(0.00)─┤  State\n",
      "─────────────────────────────────────────────────────────────────────┤  State\n",
      "The adapt iteration now is 9\n",
      "The current excitation operator is a⁺(0) a(4)\n"
     ]
    },
    {
     "name": "stderr",
     "output_type": "stream",
     "text": [
      "/Users/pssrivathsansundar/.virtualenvs/new_venv/lib/python3.11/site-packages/pennylane_lightning/core/_serialize.py:283: ComplexWarning: Casting complex values to real discards the imaginary part\n",
      "  coeffs = np.array(coeffs).astype(self.rtype)\n",
      "/Users/pssrivathsansundar/.virtualenvs/new_venv/lib/python3.11/site-packages/pennylane_lightning/core/_serialize.py:283: ComplexWarning: Casting complex values to real discards the imaginary part\n",
      "  coeffs = np.array(coeffs).astype(self.rtype)\n"
     ]
    },
    {
     "name": "stdout",
     "output_type": "stream",
     "text": [
      "The expectation value of a⁺(0) a(4) is 7.151239592243877e-05\n",
      "The current excitation operator is a⁺(0) a(6)\n",
      "The expectation value of a⁺(0) a(6) is 0.035202294772353246\n",
      "The current excitation operator is a⁺(1) a(5)\n",
      "The expectation value of a⁺(1) a(5) is 0.020486968780864277\n",
      "The current excitation operator is a⁺(1) a(7)\n"
     ]
    },
    {
     "name": "stderr",
     "output_type": "stream",
     "text": [
      "/Users/pssrivathsansundar/.virtualenvs/new_venv/lib/python3.11/site-packages/pennylane_lightning/core/_serialize.py:283: ComplexWarning: Casting complex values to real discards the imaginary part\n",
      "  coeffs = np.array(coeffs).astype(self.rtype)\n",
      "/Users/pssrivathsansundar/.virtualenvs/new_venv/lib/python3.11/site-packages/pennylane_lightning/core/_serialize.py:283: ComplexWarning: Casting complex values to real discards the imaginary part\n",
      "  coeffs = np.array(coeffs).astype(self.rtype)\n"
     ]
    },
    {
     "name": "stdout",
     "output_type": "stream",
     "text": [
      "The expectation value of a⁺(1) a(7) is 0.025916976085952906\n",
      "The current excitation operator is a⁺(2) a(4)\n",
      "The expectation value of a⁺(2) a(4) is 0.03951708469344452\n",
      "The current excitation operator is a⁺(2) a(6)\n"
     ]
    },
    {
     "name": "stderr",
     "output_type": "stream",
     "text": [
      "/Users/pssrivathsansundar/.virtualenvs/new_venv/lib/python3.11/site-packages/pennylane_lightning/core/_serialize.py:283: ComplexWarning: Casting complex values to real discards the imaginary part\n",
      "  coeffs = np.array(coeffs).astype(self.rtype)\n",
      "/Users/pssrivathsansundar/.virtualenvs/new_venv/lib/python3.11/site-packages/pennylane_lightning/core/_serialize.py:283: ComplexWarning: Casting complex values to real discards the imaginary part\n",
      "  coeffs = np.array(coeffs).astype(self.rtype)\n",
      "/Users/pssrivathsansundar/.virtualenvs/new_venv/lib/python3.11/site-packages/pennylane_lightning/core/_serialize.py:283: ComplexWarning: Casting complex values to real discards the imaginary part\n",
      "  coeffs = np.array(coeffs).astype(self.rtype)\n"
     ]
    },
    {
     "name": "stdout",
     "output_type": "stream",
     "text": [
      "The expectation value of a⁺(2) a(6) is 0.011667132564000808\n",
      "The current excitation operator is a⁺(3) a(5)\n",
      "The expectation value of a⁺(3) a(5) is 0.015538122146786605\n",
      "The current excitation operator is a⁺(3) a(7)\n"
     ]
    },
    {
     "name": "stderr",
     "output_type": "stream",
     "text": [
      "/Users/pssrivathsansundar/.virtualenvs/new_venv/lib/python3.11/site-packages/pennylane_lightning/core/_serialize.py:283: ComplexWarning: Casting complex values to real discards the imaginary part\n",
      "  coeffs = np.array(coeffs).astype(self.rtype)\n"
     ]
    },
    {
     "name": "stdout",
     "output_type": "stream",
     "text": [
      "The expectation value of a⁺(3) a(7) is 0.013800262159942773\n",
      "The current excitation operator is a⁺(0) a⁺(1) a(4) a(5)\n"
     ]
    },
    {
     "name": "stderr",
     "output_type": "stream",
     "text": [
      "/Users/pssrivathsansundar/.virtualenvs/new_venv/lib/python3.11/site-packages/pennylane_lightning/core/_serialize.py:283: ComplexWarning: Casting complex values to real discards the imaginary part\n",
      "  coeffs = np.array(coeffs).astype(self.rtype)\n"
     ]
    },
    {
     "name": "stdout",
     "output_type": "stream",
     "text": [
      "The expectation value of a⁺(0) a⁺(1) a(4) a(5) is 0.0019649988498954946\n",
      "The current excitation operator is a⁺(0) a⁺(1) a(4) a(7)\n"
     ]
    },
    {
     "name": "stderr",
     "output_type": "stream",
     "text": [
      "/Users/pssrivathsansundar/.virtualenvs/new_venv/lib/python3.11/site-packages/pennylane_lightning/core/_serialize.py:283: ComplexWarning: Casting complex values to real discards the imaginary part\n",
      "  coeffs = np.array(coeffs).astype(self.rtype)\n",
      "/Users/pssrivathsansundar/.virtualenvs/new_venv/lib/python3.11/site-packages/pennylane_lightning/core/_serialize.py:283: ComplexWarning: Casting complex values to real discards the imaginary part\n",
      "  coeffs = np.array(coeffs).astype(self.rtype)\n"
     ]
    },
    {
     "name": "stdout",
     "output_type": "stream",
     "text": [
      "The expectation value of a⁺(0) a⁺(1) a(4) a(7) is 0.009051940682230327\n",
      "The current excitation operator is a⁺(0) a⁺(1) a(5) a(6)\n",
      "The expectation value of a⁺(0) a⁺(1) a(5) a(6) is 0.01206315248481466\n",
      "The current excitation operator is a⁺(0) a⁺(1) a(6) a(7)\n"
     ]
    },
    {
     "name": "stderr",
     "output_type": "stream",
     "text": [
      "/Users/pssrivathsansundar/.virtualenvs/new_venv/lib/python3.11/site-packages/pennylane_lightning/core/_serialize.py:283: ComplexWarning: Casting complex values to real discards the imaginary part\n",
      "  coeffs = np.array(coeffs).astype(self.rtype)\n"
     ]
    },
    {
     "name": "stdout",
     "output_type": "stream",
     "text": [
      "The expectation value of a⁺(0) a⁺(1) a(6) a(7) is 0.024457193654535317\n",
      "The current excitation operator is a⁺(0) a⁺(2) a(4) a(6)\n"
     ]
    },
    {
     "name": "stderr",
     "output_type": "stream",
     "text": [
      "/Users/pssrivathsansundar/.virtualenvs/new_venv/lib/python3.11/site-packages/pennylane_lightning/core/_serialize.py:283: ComplexWarning: Casting complex values to real discards the imaginary part\n",
      "  coeffs = np.array(coeffs).astype(self.rtype)\n"
     ]
    },
    {
     "name": "stdout",
     "output_type": "stream",
     "text": [
      "The expectation value of a⁺(0) a⁺(2) a(4) a(6) is 0.0023485545118508318\n",
      "The current excitation operator is a⁺(0) a⁺(3) a(4) a(5)\n"
     ]
    },
    {
     "name": "stderr",
     "output_type": "stream",
     "text": [
      "/Users/pssrivathsansundar/.virtualenvs/new_venv/lib/python3.11/site-packages/pennylane_lightning/core/_serialize.py:283: ComplexWarning: Casting complex values to real discards the imaginary part\n",
      "  coeffs = np.array(coeffs).astype(self.rtype)\n"
     ]
    },
    {
     "name": "stdout",
     "output_type": "stream",
     "text": [
      "The expectation value of a⁺(0) a⁺(3) a(4) a(5) is 0.015156014349820262\n",
      "The current excitation operator is a⁺(0) a⁺(3) a(4) a(7)\n"
     ]
    },
    {
     "name": "stderr",
     "output_type": "stream",
     "text": [
      "/Users/pssrivathsansundar/.virtualenvs/new_venv/lib/python3.11/site-packages/pennylane_lightning/core/_serialize.py:283: ComplexWarning: Casting complex values to real discards the imaginary part\n",
      "  coeffs = np.array(coeffs).astype(self.rtype)\n"
     ]
    },
    {
     "name": "stdout",
     "output_type": "stream",
     "text": [
      "The expectation value of a⁺(0) a⁺(3) a(4) a(7) is 0.01946466214922568\n",
      "The current excitation operator is a⁺(0) a⁺(3) a(5) a(6)\n"
     ]
    },
    {
     "name": "stderr",
     "output_type": "stream",
     "text": [
      "/Users/pssrivathsansundar/.virtualenvs/new_venv/lib/python3.11/site-packages/pennylane_lightning/core/_serialize.py:283: ComplexWarning: Casting complex values to real discards the imaginary part\n",
      "  coeffs = np.array(coeffs).astype(self.rtype)\n"
     ]
    },
    {
     "name": "stdout",
     "output_type": "stream",
     "text": [
      "The expectation value of a⁺(0) a⁺(3) a(5) a(6) is 0.048296778207411385\n",
      "The current excitation operator is a⁺(0) a⁺(3) a(6) a(7)\n"
     ]
    },
    {
     "name": "stderr",
     "output_type": "stream",
     "text": [
      "/Users/pssrivathsansundar/.virtualenvs/new_venv/lib/python3.11/site-packages/pennylane_lightning/core/_serialize.py:283: ComplexWarning: Casting complex values to real discards the imaginary part\n",
      "  coeffs = np.array(coeffs).astype(self.rtype)\n"
     ]
    },
    {
     "name": "stdout",
     "output_type": "stream",
     "text": [
      "The expectation value of a⁺(0) a⁺(3) a(6) a(7) is 0.0005312981316292812\n",
      "The current excitation operator is a⁺(1) a⁺(2) a(4) a(5)\n"
     ]
    },
    {
     "name": "stderr",
     "output_type": "stream",
     "text": [
      "/Users/pssrivathsansundar/.virtualenvs/new_venv/lib/python3.11/site-packages/pennylane_lightning/core/_serialize.py:283: ComplexWarning: Casting complex values to real discards the imaginary part\n",
      "  coeffs = np.array(coeffs).astype(self.rtype)\n"
     ]
    },
    {
     "name": "stdout",
     "output_type": "stream",
     "text": [
      "The expectation value of a⁺(1) a⁺(2) a(4) a(5) is 0.002095535733028359\n",
      "The current excitation operator is a⁺(1) a⁺(2) a(4) a(7)\n"
     ]
    },
    {
     "name": "stderr",
     "output_type": "stream",
     "text": [
      "/Users/pssrivathsansundar/.virtualenvs/new_venv/lib/python3.11/site-packages/pennylane_lightning/core/_serialize.py:283: ComplexWarning: Casting complex values to real discards the imaginary part\n",
      "  coeffs = np.array(coeffs).astype(self.rtype)\n"
     ]
    },
    {
     "name": "stdout",
     "output_type": "stream",
     "text": [
      "The expectation value of a⁺(1) a⁺(2) a(4) a(7) is 0.023349831311068842\n",
      "The current excitation operator is a⁺(1) a⁺(2) a(5) a(6)\n"
     ]
    },
    {
     "name": "stderr",
     "output_type": "stream",
     "text": [
      "/Users/pssrivathsansundar/.virtualenvs/new_venv/lib/python3.11/site-packages/pennylane_lightning/core/_serialize.py:283: ComplexWarning: Casting complex values to real discards the imaginary part\n",
      "  coeffs = np.array(coeffs).astype(self.rtype)\n"
     ]
    },
    {
     "name": "stdout",
     "output_type": "stream",
     "text": [
      "The expectation value of a⁺(1) a⁺(2) a(5) a(6) is 0.018050246131939555\n",
      "The current excitation operator is a⁺(1) a⁺(2) a(6) a(7)\n"
     ]
    },
    {
     "name": "stderr",
     "output_type": "stream",
     "text": [
      "/Users/pssrivathsansundar/.virtualenvs/new_venv/lib/python3.11/site-packages/pennylane_lightning/core/_serialize.py:283: ComplexWarning: Casting complex values to real discards the imaginary part\n",
      "  coeffs = np.array(coeffs).astype(self.rtype)\n"
     ]
    },
    {
     "name": "stdout",
     "output_type": "stream",
     "text": [
      "The expectation value of a⁺(1) a⁺(2) a(6) a(7) is 0.006980161313559371\n",
      "The current excitation operator is a⁺(1) a⁺(3) a(5) a(7)\n"
     ]
    },
    {
     "name": "stderr",
     "output_type": "stream",
     "text": [
      "/Users/pssrivathsansundar/.virtualenvs/new_venv/lib/python3.11/site-packages/pennylane_lightning/core/_serialize.py:283: ComplexWarning: Casting complex values to real discards the imaginary part\n",
      "  coeffs = np.array(coeffs).astype(self.rtype)\n"
     ]
    },
    {
     "name": "stdout",
     "output_type": "stream",
     "text": [
      "The expectation value of a⁺(1) a⁺(3) a(5) a(7) is 0.00018636666112366914\n",
      "The current excitation operator is a⁺(2) a⁺(3) a(4) a(5)\n"
     ]
    },
    {
     "name": "stderr",
     "output_type": "stream",
     "text": [
      "/Users/pssrivathsansundar/.virtualenvs/new_venv/lib/python3.11/site-packages/pennylane_lightning/core/_serialize.py:283: ComplexWarning: Casting complex values to real discards the imaginary part\n",
      "  coeffs = np.array(coeffs).astype(self.rtype)\n"
     ]
    },
    {
     "name": "stdout",
     "output_type": "stream",
     "text": [
      "The expectation value of a⁺(2) a⁺(3) a(4) a(5) is 0.005920156424528042\n",
      "The current excitation operator is a⁺(2) a⁺(3) a(4) a(7)\n"
     ]
    },
    {
     "name": "stderr",
     "output_type": "stream",
     "text": [
      "/Users/pssrivathsansundar/.virtualenvs/new_venv/lib/python3.11/site-packages/pennylane_lightning/core/_serialize.py:283: ComplexWarning: Casting complex values to real discards the imaginary part\n",
      "  coeffs = np.array(coeffs).astype(self.rtype)\n"
     ]
    },
    {
     "name": "stdout",
     "output_type": "stream",
     "text": [
      "The expectation value of a⁺(2) a⁺(3) a(4) a(7) is 0.0034823923221116455\n",
      "The current excitation operator is a⁺(2) a⁺(3) a(5) a(6)\n"
     ]
    },
    {
     "name": "stderr",
     "output_type": "stream",
     "text": [
      "/Users/pssrivathsansundar/.virtualenvs/new_venv/lib/python3.11/site-packages/pennylane_lightning/core/_serialize.py:283: ComplexWarning: Casting complex values to real discards the imaginary part\n",
      "  coeffs = np.array(coeffs).astype(self.rtype)\n"
     ]
    },
    {
     "name": "stdout",
     "output_type": "stream",
     "text": [
      "The expectation value of a⁺(2) a⁺(3) a(5) a(6) is 0.0037658448969856055\n",
      "The current excitation operator is a⁺(2) a⁺(3) a(6) a(7)\n"
     ]
    },
    {
     "name": "stderr",
     "output_type": "stream",
     "text": [
      "/Users/pssrivathsansundar/.virtualenvs/new_venv/lib/python3.11/site-packages/pennylane_lightning/core/_serialize.py:283: ComplexWarning: Casting complex values to real discards the imaginary part\n",
      "  coeffs = np.array(coeffs).astype(self.rtype)\n"
     ]
    },
    {
     "name": "stdout",
     "output_type": "stream",
     "text": [
      "The expectation value of a⁺(2) a⁺(3) a(6) a(7) is 0.03924948090496743\n",
      "The highest operator value is 0.048296778207411385 for operator a⁺(0) a⁺(3) a(5) a(6)\n",
      "Highest gradient excitation is [0, 3, 5, 6]\n",
      "The current status of ash_excitation is [[1, 2, 4, 7], [0, 3, 5, 6], [0, 1, 4, 5], [0, 4], [0, 3, 5, 6], [0, 3, 5, 6], [0, 3, 5, 6], [0, 3, 5, 6], [0, 3, 5, 6], [0, 3, 5, 6]]\n",
      "Parameters before optimization are [ 1.32729837e+00 -8.52171647e-01  2.63873749e+00  4.06009861e-01\n",
      "  2.33615840e-01  1.66930941e-07  1.30872789e-07 -5.25014557e-08\n",
      "  8.02818737e-08  0.00000000e+00]\n",
      "Current parameters: [ 1.32729837e+00 -8.52172207e-01  2.63873749e+00  4.06009861e-01\n",
      "  2.33615840e-01  1.66930941e-07  1.30885072e-07  3.68727944e-07\n",
      "  8.04152616e-08  0.00000000e+00]\n",
      "Current cost: -1.5243549531082434\n",
      "\n",
      "Optimization terminated successfully.\n",
      "         Current function value: -1.524355\n",
      "         Iterations: 1\n",
      "         Function evaluations: 290\n",
      "Final updated parameters: [ 1.32729837e+00 -8.52172207e-01  2.63873749e+00  4.06009861e-01\n",
      "  2.33615840e-01  1.66930941e-07  1.30885072e-07  3.68727944e-07\n",
      "  8.04152616e-08  0.00000000e+00]\n",
      "Final cost: -1.5243549531082434\n",
      "Updated params are [ 1.32729837e+00 -8.52172207e-01  2.63873749e+00  4.06009861e-01\n",
      "  2.33615840e-01  1.66930941e-07  1.30885072e-07  3.68727944e-07\n",
      "  8.04152616e-08  0.00000000e+00]\n",
      "Updated excitation are [[1, 2, 4, 7], [0, 3, 5, 6], [0, 1, 4, 5], [0, 4], [0, 3, 5, 6], [0, 3, 5, 6], [0, 3, 5, 6], [0, 3, 5, 6], [0, 3, 5, 6], [0, 3, 5, 6]]\n",
      "0: ─╭|Ψ⟩──────────────────────────────────╭FermionicDoubleExcitation(-0.85)\n",
      "1: ─├|Ψ⟩─╭FermionicDoubleExcitation(1.33)─│────────────────────────────────\n",
      "2: ─├|Ψ⟩─├FermionicDoubleExcitation(1.33)─│────────────────────────────────\n",
      "3: ─├|Ψ⟩─│────────────────────────────────├FermionicDoubleExcitation(-0.85)\n",
      "4: ─├|Ψ⟩─├FermionicDoubleExcitation(1.33)─│────────────────────────────────\n",
      "5: ─├|Ψ⟩─│────────────────────────────────├FermionicDoubleExcitation(-0.85)\n",
      "6: ─├|Ψ⟩─│────────────────────────────────╰FermionicDoubleExcitation(-0.85)\n",
      "7: ─╰|Ψ⟩─╰FermionicDoubleExcitation(1.33)──────────────────────────────────\n",
      "\n",
      "──╭FermionicDoubleExcitation(2.64)─╭FermionicSingleExcitation(0.41)─╭FermionicDoubleExcitation(0.23)\n",
      "──├FermionicDoubleExcitation(2.64)─├FermionicSingleExcitation(0.41)─│───────────────────────────────\n",
      "──│────────────────────────────────├FermionicSingleExcitation(0.41)─│───────────────────────────────\n",
      "──│────────────────────────────────├FermionicSingleExcitation(0.41)─├FermionicDoubleExcitation(0.23)\n",
      "──├FermionicDoubleExcitation(2.64)─╰FermionicSingleExcitation(0.41)─│───────────────────────────────\n",
      "──╰FermionicDoubleExcitation(2.64)──────────────────────────────────├FermionicDoubleExcitation(0.23)\n",
      "────────────────────────────────────────────────────────────────────╰FermionicDoubleExcitation(0.23)\n",
      "────────────────────────────────────────────────────────────────────────────────────────────────────\n",
      "\n",
      "──╭FermionicDoubleExcitation(0.00)─╭FermionicDoubleExcitation(0.00)─╭FermionicDoubleExcitation(0.00)\n",
      "──│────────────────────────────────│────────────────────────────────│───────────────────────────────\n",
      "──│────────────────────────────────│────────────────────────────────│───────────────────────────────\n",
      "──├FermionicDoubleExcitation(0.00)─├FermionicDoubleExcitation(0.00)─├FermionicDoubleExcitation(0.00)\n",
      "──│────────────────────────────────│────────────────────────────────│───────────────────────────────\n",
      "──├FermionicDoubleExcitation(0.00)─├FermionicDoubleExcitation(0.00)─├FermionicDoubleExcitation(0.00)\n",
      "──╰FermionicDoubleExcitation(0.00)─╰FermionicDoubleExcitation(0.00)─╰FermionicDoubleExcitation(0.00)\n",
      "────────────────────────────────────────────────────────────────────────────────────────────────────\n",
      "\n",
      "──╭FermionicDoubleExcitation(0.00)─╭FermionicDoubleExcitation(0.00)─┤  State\n",
      "──│────────────────────────────────│────────────────────────────────┤  State\n",
      "──│────────────────────────────────│────────────────────────────────┤  State\n",
      "──├FermionicDoubleExcitation(0.00)─├FermionicDoubleExcitation(0.00)─┤  State\n",
      "──│────────────────────────────────│────────────────────────────────┤  State\n",
      "──├FermionicDoubleExcitation(0.00)─├FermionicDoubleExcitation(0.00)─┤  State\n",
      "──╰FermionicDoubleExcitation(0.00)─╰FermionicDoubleExcitation(0.00)─┤  State\n",
      "────────────────────────────────────────────────────────────────────┤  State\n",
      "Energies: [-1.4583431076209667, -1.474740665598764, -1.5193782017765312, -1.5240917593491112, -1.5243549531008864, -1.5243549531059704, -1.5243549531079759, -1.5243549531082035, -1.5243549531082434, -1.5243549531082434]\n"
     ]
    }
   ],
   "source": [
    "energies, params, ash_excitation, gs1_state,H, qubits = adaptvqe_updated(fstate, adapt_it = 10, e_th=1e-12)\n",
    "print('Energies:', energies)"
   ]
  },
  {
   "cell_type": "code",
   "execution_count": 9,
   "metadata": {},
   "outputs": [
    {
     "data": {
      "text/plain": [
       "[[1, 2, 4, 7],\n",
       " [0, 3, 5, 6],\n",
       " [0, 1, 4, 5],\n",
       " [0, 4],\n",
       " [0, 3, 5, 6],\n",
       " [0, 3, 5, 6],\n",
       " [0, 3, 5, 6],\n",
       " [0, 3, 5, 6],\n",
       " [0, 3, 5, 6],\n",
       " [0, 3, 5, 6]]"
      ]
     },
     "execution_count": 9,
     "metadata": {},
     "output_type": "execute_result"
    }
   ],
   "source": [
    "ash_excitation"
   ]
  },
  {
   "cell_type": "code",
   "execution_count": null,
   "metadata": {},
   "outputs": [],
   "source": []
  }
 ],
 "metadata": {
  "kernelspec": {
   "display_name": "sri",
   "language": "python",
   "name": "python3"
  },
  "language_info": {
   "codemirror_mode": {
    "name": "ipython",
    "version": 3
   },
   "file_extension": ".py",
   "mimetype": "text/x-python",
   "name": "python",
   "nbconvert_exporter": "python",
   "pygments_lexer": "ipython3",
   "version": "3.11.8"
  }
 },
 "nbformat": 4,
 "nbformat_minor": 2
}
